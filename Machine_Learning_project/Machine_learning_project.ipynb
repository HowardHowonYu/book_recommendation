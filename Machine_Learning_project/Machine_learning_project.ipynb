{
 "cells": [
  {
   "cell_type": "code",
   "execution_count": 3,
   "metadata": {
    "ExecuteTime": {
     "end_time": "2020-04-27T08:44:27.693178Z",
     "start_time": "2020-04-27T08:44:27.678390Z"
    }
   },
   "outputs": [],
   "source": [
    "import missingno as msno\n",
    "from tqdm.notebook import tqdm"
   ]
  },
  {
   "cell_type": "code",
   "execution_count": 2,
   "metadata": {
    "ExecuteTime": {
     "end_time": "2020-04-27T06:29:38.738217Z",
     "start_time": "2020-04-27T06:29:38.368534Z"
    },
    "collapsed": true
   },
   "outputs": [
    {
     "name": "stderr",
     "output_type": "stream",
     "text": [
      "b'Skipping line 16: expected 6 fields, saw 10\\nSkipping line 19: expected 6 fields, saw 10\\nSkipping line 20: expected 6 fields, saw 9\\nSkipping line 73: expected 6 fields, saw 14\\nSkipping line 149: expected 6 fields, saw 11\\nSkipping line 150: expected 6 fields, saw 10\\nSkipping line 165: expected 6 fields, saw 16\\nSkipping line 167: expected 6 fields, saw 23\\nSkipping line 198: expected 6 fields, saw 13\\nSkipping line 208: expected 6 fields, saw 48\\nSkipping line 239: expected 6 fields, saw 11\\nSkipping line 260: expected 6 fields, saw 12\\nSkipping line 327: expected 6 fields, saw 14\\nSkipping line 347: expected 6 fields, saw 14\\nSkipping line 354: expected 6 fields, saw 26\\nSkipping line 399: expected 6 fields, saw 9\\nSkipping line 405: expected 6 fields, saw 7\\nSkipping line 442: expected 6 fields, saw 28\\nSkipping line 468: expected 6 fields, saw 16\\nSkipping line 488: expected 6 fields, saw 30\\nSkipping line 501: expected 6 fields, saw 34\\nSkipping line 511: expected 6 fields, saw 24\\nSkipping line 523: expected 6 fields, saw 10\\nSkipping line 533: expected 6 fields, saw 7\\nSkipping line 552: expected 6 fields, saw 21\\nSkipping line 560: expected 6 fields, saw 30\\nSkipping line 563: expected 6 fields, saw 8\\nSkipping line 583: expected 6 fields, saw 24\\nSkipping line 593: expected 6 fields, saw 16\\nSkipping line 613: expected 6 fields, saw 16\\nSkipping line 622: expected 6 fields, saw 10\\nSkipping line 653: expected 6 fields, saw 16\\nSkipping line 659: expected 6 fields, saw 49\\nSkipping line 663: expected 6 fields, saw 14\\nSkipping line 677: expected 6 fields, saw 7\\nSkipping line 681: expected 6 fields, saw 12\\nSkipping line 689: expected 6 fields, saw 9\\nSkipping line 730: expected 6 fields, saw 10\\nSkipping line 750: expected 6 fields, saw 8\\nSkipping line 791: expected 6 fields, saw 36\\nSkipping line 793: expected 6 fields, saw 22\\nSkipping line 797: expected 6 fields, saw 85\\nSkipping line 798: expected 6 fields, saw 14\\nSkipping line 799: expected 6 fields, saw 10\\nSkipping line 826: expected 6 fields, saw 18\\nSkipping line 874: expected 6 fields, saw 10\\nSkipping line 887: expected 6 fields, saw 9\\nSkipping line 902: expected 6 fields, saw 10\\nSkipping line 937: expected 6 fields, saw 8\\nSkipping line 939: expected 6 fields, saw 14\\nSkipping line 943: expected 6 fields, saw 10\\nSkipping line 974: expected 6 fields, saw 15\\nSkipping line 977: expected 6 fields, saw 18\\nSkipping line 983: expected 6 fields, saw 19\\nSkipping line 1000: expected 6 fields, saw 16\\nSkipping line 1023: expected 6 fields, saw 8\\nSkipping line 1025: expected 6 fields, saw 8\\nSkipping line 1036: expected 6 fields, saw 14\\nSkipping line 1037: expected 6 fields, saw 22\\nSkipping line 1061: expected 6 fields, saw 8\\nSkipping line 1085: expected 6 fields, saw 20\\nSkipping line 1099: expected 6 fields, saw 12\\nSkipping line 1101: expected 6 fields, saw 14\\nSkipping line 1104: expected 6 fields, saw 22\\nSkipping line 1115: expected 6 fields, saw 9\\nSkipping line 1116: expected 6 fields, saw 38\\nSkipping line 1132: expected 6 fields, saw 10\\nSkipping line 1136: expected 6 fields, saw 8\\nSkipping line 1137: expected 6 fields, saw 12\\nSkipping line 1141: expected 6 fields, saw 7\\nSkipping line 1143: expected 6 fields, saw 8\\nSkipping line 1156: expected 6 fields, saw 16\\nSkipping line 1179: expected 6 fields, saw 10\\nSkipping line 1340: expected 6 fields, saw 14\\nSkipping line 1363: expected 6 fields, saw 30\\nSkipping line 1383: expected 6 fields, saw 12\\nSkipping line 1388: expected 6 fields, saw 8\\nSkipping line 1480: expected 6 fields, saw 13\\nSkipping line 1483: expected 6 fields, saw 48\\nSkipping line 1494: expected 6 fields, saw 10\\nSkipping line 1530: expected 6 fields, saw 10\\nSkipping line 1533: expected 6 fields, saw 11\\nSkipping line 1550: expected 6 fields, saw 16\\nSkipping line 1555: expected 6 fields, saw 23\\nSkipping line 1570: expected 6 fields, saw 34\\nSkipping line 1603: expected 6 fields, saw 29\\nSkipping line 1608: expected 6 fields, saw 12\\nSkipping line 1610: expected 6 fields, saw 10\\nSkipping line 1627: expected 6 fields, saw 9\\nSkipping line 1628: expected 6 fields, saw 10\\nSkipping line 1629: expected 6 fields, saw 10\\nSkipping line 1650: expected 6 fields, saw 20\\nSkipping line 1664: expected 6 fields, saw 14\\nSkipping line 1692: expected 6 fields, saw 10\\nSkipping line 1721: expected 6 fields, saw 11\\nSkipping line 1724: expected 6 fields, saw 12\\nSkipping line 1763: expected 6 fields, saw 10\\nSkipping line 1791: expected 6 fields, saw 8\\nSkipping line 1807: expected 6 fields, saw 8\\nSkipping line 1818: expected 6 fields, saw 9\\nSkipping line 1826: expected 6 fields, saw 7\\nSkipping line 1922: expected 6 fields, saw 22\\nSkipping line 1953: expected 6 fields, saw 8\\nSkipping line 1958: expected 6 fields, saw 52\\nSkipping line 1993: expected 6 fields, saw 18\\nSkipping line 2000: expected 6 fields, saw 10\\nSkipping line 2052: expected 6 fields, saw 14\\nSkipping line 2059: expected 6 fields, saw 26\\nSkipping line 2073: expected 6 fields, saw 16\\nSkipping line 2080: expected 6 fields, saw 8\\nSkipping line 2081: expected 6 fields, saw 31\\nSkipping line 2084: expected 6 fields, saw 8\\nSkipping line 2085: expected 6 fields, saw 8\\nSkipping line 2095: expected 6 fields, saw 30\\nSkipping line 2098: expected 6 fields, saw 28\\nSkipping line 2109: expected 6 fields, saw 18\\nSkipping line 2176: expected 6 fields, saw 37\\nSkipping line 2213: expected 6 fields, saw 42\\nSkipping line 2301: expected 6 fields, saw 66\\nSkipping line 2337: expected 6 fields, saw 11\\nSkipping line 2361: expected 6 fields, saw 37\\nSkipping line 2371: expected 6 fields, saw 28\\nSkipping line 2383: expected 6 fields, saw 10\\nSkipping line 2402: expected 6 fields, saw 18\\nSkipping line 2446: expected 6 fields, saw 28\\nSkipping line 2456: expected 6 fields, saw 10\\nSkipping line 2460: expected 6 fields, saw 8\\nSkipping line 2461: expected 6 fields, saw 62\\nSkipping line 2466: expected 6 fields, saw 8\\nSkipping line 2495: expected 6 fields, saw 8\\nSkipping line 2497: expected 6 fields, saw 15\\nSkipping line 2507: expected 6 fields, saw 18\\nSkipping line 2515: expected 6 fields, saw 10\\nSkipping line 2522: expected 6 fields, saw 11\\nSkipping line 2580: expected 6 fields, saw 14\\nSkipping line 2598: expected 6 fields, saw 15\\nSkipping line 2699: expected 6 fields, saw 8\\nSkipping line 2741: expected 6 fields, saw 22\\nSkipping line 2742: expected 6 fields, saw 22\\nSkipping line 2745: expected 6 fields, saw 16\\nSkipping line 2753: expected 6 fields, saw 22\\nSkipping line 2777: expected 6 fields, saw 8\\nSkipping line 2913: expected 6 fields, saw 50\\nSkipping line 2928: expected 6 fields, saw 22\\nSkipping line 2969: expected 6 fields, saw 32\\nSkipping line 3045: expected 6 fields, saw 22\\nSkipping line 3071: expected 6 fields, saw 72\\nSkipping line 3140: expected 6 fields, saw 12\\nSkipping line 3143: expected 6 fields, saw 8\\nSkipping line 3187: expected 6 fields, saw 12\\nSkipping line 3197: expected 6 fields, saw 31\\nSkipping line 3211: expected 6 fields, saw 7\\nSkipping line 3244: expected 6 fields, saw 35\\nSkipping line 3287: expected 6 fields, saw 8\\nSkipping line 3288: expected 6 fields, saw 8\\nSkipping line 3297: expected 6 fields, saw 22\\nSkipping line 3298: expected 6 fields, saw 22\\nSkipping line 3299: expected 6 fields, saw 22\\nSkipping line 3300: expected 6 fields, saw 8\\nSkipping line 3302: expected 6 fields, saw 22\\nSkipping line 3315: expected 6 fields, saw 62\\nSkipping line 3351: expected 6 fields, saw 10\\nSkipping line 3362: expected 6 fields, saw 9\\nSkipping line 3364: expected 6 fields, saw 7\\nSkipping line 3372: expected 6 fields, saw 22\\nSkipping line 3466: expected 6 fields, saw 22\\nSkipping line 3470: expected 6 fields, saw 22\\nSkipping line 3482: expected 6 fields, saw 9\\nSkipping line 3535: expected 6 fields, saw 26\\nSkipping line 3539: expected 6 fields, saw 41\\nSkipping line 3543: expected 6 fields, saw 8\\nSkipping line 3547: expected 6 fields, saw 8\\nSkipping line 3592: expected 6 fields, saw 9\\nSkipping line 3723: expected 6 fields, saw 8\\nSkipping line 3760: expected 6 fields, saw 67\\nSkipping line 3890: expected 6 fields, saw 43\\nSkipping line 3898: expected 6 fields, saw 48\\nSkipping line 3912: expected 6 fields, saw 17\\nSkipping line 3978: expected 6 fields, saw 80\\nSkipping line 4155: expected 6 fields, saw 8\\nSkipping line 4163: expected 6 fields, saw 14\\nSkipping line 4206: expected 6 fields, saw 10\\nSkipping line 4258: expected 6 fields, saw 12\\nSkipping line 4263: expected 6 fields, saw 7\\nSkipping line 4278: expected 6 fields, saw 10\\nSkipping line 4295: expected 6 fields, saw 29\\nSkipping line 4343: expected 6 fields, saw 8\\nSkipping line 4404: expected 6 fields, saw 7\\nSkipping line 4425: expected 6 fields, saw 8\\nSkipping line 4538: expected 6 fields, saw 23\\nSkipping line 4542: expected 6 fields, saw 7\\nSkipping line 4594: expected 6 fields, saw 7\\nSkipping line 4602: expected 6 fields, saw 83\\nSkipping line 4613: expected 6 fields, saw 16\\nSkipping line 4628: expected 6 fields, saw 17\\nSkipping line 4629: expected 6 fields, saw 7\\nSkipping line 4643: expected 6 fields, saw 8\\nSkipping line 4644: expected 6 fields, saw 8\\nSkipping line 4645: expected 6 fields, saw 8\\nSkipping line 4652: expected 6 fields, saw 12\\nSkipping line 4658: expected 6 fields, saw 12\\nSkipping line 4660: expected 6 fields, saw 42\\nSkipping line 4670: expected 6 fields, saw 16\\nSkipping line 4685: expected 6 fields, saw 19\\nSkipping line 4689: expected 6 fields, saw 12\\nSkipping line 4690: expected 6 fields, saw 20\\nSkipping line 4698: expected 6 fields, saw 8\\nSkipping line 4727: expected 6 fields, saw 7\\nSkipping line 4728: expected 6 fields, saw 7\\nSkipping line 4767: expected 6 fields, saw 14\\nSkipping line 4783: expected 6 fields, saw 11\\nSkipping line 4784: expected 6 fields, saw 13\\nSkipping line 4799: expected 6 fields, saw 9\\nSkipping line 4872: expected 6 fields, saw 14\\nSkipping line 4884: expected 6 fields, saw 14\\nSkipping line 4890: expected 6 fields, saw 7\\nSkipping line 4893: expected 6 fields, saw 12\\nSkipping line 4932: expected 6 fields, saw 8\\nSkipping line 4960: expected 6 fields, saw 14\\nSkipping line 4963: expected 6 fields, saw 26\\nSkipping line 4965: expected 6 fields, saw 18\\nSkipping line 4967: expected 6 fields, saw 57\\nSkipping line 4973: expected 6 fields, saw 10\\nSkipping line 5012: expected 6 fields, saw 30\\nSkipping line 5024: expected 6 fields, saw 20\\nSkipping line 5245: expected 6 fields, saw 10\\nSkipping line 5256: expected 6 fields, saw 9\\nSkipping line 5322: expected 6 fields, saw 26\\nSkipping line 5359: expected 6 fields, saw 11\\nSkipping line 5361: expected 6 fields, saw 20\\nSkipping line 5478: expected 6 fields, saw 8\\nSkipping line 5608: expected 6 fields, saw 66\\nSkipping line 5619: expected 6 fields, saw 26\\nSkipping line 5719: expected 6 fields, saw 25\\nSkipping line 5795: expected 6 fields, saw 10\\nSkipping line 5838: expected 6 fields, saw 13\\nSkipping line 5883: expected 6 fields, saw 28\\nSkipping line 5914: expected 6 fields, saw 7\\nSkipping line 5935: expected 6 fields, saw 7\\nSkipping line 5954: expected 6 fields, saw 7\\nSkipping line 6074: expected 6 fields, saw 37\\nSkipping line 6143: expected 6 fields, saw 10\\nSkipping line 6195: expected 6 fields, saw 8\\nSkipping line 6199: expected 6 fields, saw 10\\nSkipping line 6274: expected 6 fields, saw 12\\nSkipping line 6276: expected 6 fields, saw 108\\nSkipping line 6388: expected 6 fields, saw 16\\nSkipping line 6394: expected 6 fields, saw 19\\nSkipping line 6546: expected 6 fields, saw 22\\nSkipping line 6566: expected 6 fields, saw 7\\nSkipping line 6579: expected 6 fields, saw 7\\nSkipping line 6592: expected 6 fields, saw 9\\nSkipping line 6616: expected 6 fields, saw 18\\nSkipping line 6697: expected 6 fields, saw 12\\nSkipping line 6702: expected 6 fields, saw 14\\nSkipping line 6712: expected 6 fields, saw 12\\nSkipping line 6734: expected 6 fields, saw 12\\nSkipping line 6777: expected 6 fields, saw 20\\nSkipping line 6793: expected 6 fields, saw 8\\nSkipping line 6869: expected 6 fields, saw 9\\nSkipping line 6885: expected 6 fields, saw 9\\nSkipping line 6943: expected 6 fields, saw 8\\nSkipping line 6947: expected 6 fields, saw 8\\nSkipping line 6998: expected 6 fields, saw 21\\nSkipping line 7003: expected 6 fields, saw 21\\nSkipping line 7020: expected 6 fields, saw 11\\nSkipping line 7030: expected 6 fields, saw 10\\nSkipping line 7032: expected 6 fields, saw 20\\nSkipping line 7055: expected 6 fields, saw 14\\nSkipping line 7071: expected 6 fields, saw 26\\nSkipping line 7085: expected 6 fields, saw 26\\nSkipping line 7086: expected 6 fields, saw 15\\nSkipping line 7159: expected 6 fields, saw 44\\nSkipping line 7169: expected 6 fields, saw 28\\nSkipping line 7278: expected 6 fields, saw 14\\nSkipping line 7310: expected 6 fields, saw 8\\nSkipping line 7333: expected 6 fields, saw 8\\nSkipping line 7344: expected 6 fields, saw 8\\nSkipping line 7346: expected 6 fields, saw 8\\nSkipping line 7365: expected 6 fields, saw 8\\nSkipping line 7393: expected 6 fields, saw 11\\nSkipping line 7406: expected 6 fields, saw 15\\nSkipping line 7411: expected 6 fields, saw 8\\nSkipping line 7416: expected 6 fields, saw 14\\nSkipping line 7432: expected 6 fields, saw 8\\nSkipping line 7495: expected 6 fields, saw 9\\nSkipping line 7510: expected 6 fields, saw 23\\nSkipping line 7527: expected 6 fields, saw 16\\nSkipping line 7574: expected 6 fields, saw 8\\nSkipping line 7588: expected 6 fields, saw 15\\nSkipping line 7596: expected 6 fields, saw 19\\nSkipping line 7614: expected 6 fields, saw 9\\nSkipping line 7615: expected 6 fields, saw 36\\nSkipping line 7620: expected 6 fields, saw 20\\nSkipping line 7667: expected 6 fields, saw 18\\nSkipping line 7678: expected 6 fields, saw 8\\nSkipping line 7689: expected 6 fields, saw 34\\nSkipping line 7696: expected 6 fields, saw 12\\nSkipping line 7705: expected 6 fields, saw 9\\nSkipping line 7750: expected 6 fields, saw 23\\nSkipping line 7805: expected 6 fields, saw 9\\nSkipping line 7811: expected 6 fields, saw 8\\nSkipping line 7816: expected 6 fields, saw 14\\nSkipping line 7824: expected 6 fields, saw 8\\nSkipping line 7825: expected 6 fields, saw 8\\nSkipping line 7831: expected 6 fields, saw 8\\nSkipping line 7839: expected 6 fields, saw 8\\nSkipping line 7859: expected 6 fields, saw 16\\nSkipping line 7865: expected 6 fields, saw 34\\nSkipping line 7887: expected 6 fields, saw 16\\nSkipping line 7897: expected 6 fields, saw 17\\nSkipping line 7906: expected 6 fields, saw 12\\nSkipping line 7926: expected 6 fields, saw 24\\nSkipping line 7947: expected 6 fields, saw 28\\nSkipping line 7975: expected 6 fields, saw 8\\nSkipping line 7993: expected 6 fields, saw 22\\nSkipping line 8067: expected 6 fields, saw 58\\nSkipping line 8086: expected 6 fields, saw 13\\nSkipping line 8096: expected 6 fields, saw 11\\nSkipping line 8193: expected 6 fields, saw 8\\nSkipping line 8229: expected 6 fields, saw 29\\nSkipping line 8313: expected 6 fields, saw 20\\nSkipping line 8318: expected 6 fields, saw 13\\nSkipping line 8342: expected 6 fields, saw 24\\nSkipping line 8412: expected 6 fields, saw 24\\nSkipping line 8450: expected 6 fields, saw 32\\nSkipping line 8479: expected 6 fields, saw 8\\nSkipping line 8481: expected 6 fields, saw 8\\nSkipping line 8482: expected 6 fields, saw 7\\nSkipping line 8490: expected 6 fields, saw 39\\nSkipping line 8527: expected 6 fields, saw 11\\nSkipping line 8538: expected 6 fields, saw 10\\nSkipping line 8546: expected 6 fields, saw 22\\nSkipping line 8549: expected 6 fields, saw 14\\nSkipping line 8557: expected 6 fields, saw 10\\nSkipping line 8587: expected 6 fields, saw 11\\nSkipping line 8599: expected 6 fields, saw 9\\nSkipping line 8601: expected 6 fields, saw 9\\nSkipping line 8626: expected 6 fields, saw 9\\nSkipping line 8635: expected 6 fields, saw 10\\nSkipping line 8647: expected 6 fields, saw 17\\nSkipping line 8704: expected 6 fields, saw 7\\nSkipping line 8720: expected 6 fields, saw 18\\nSkipping line 8775: expected 6 fields, saw 14\\nSkipping line 8776: expected 6 fields, saw 10\\nSkipping line 8779: expected 6 fields, saw 11\\nSkipping line 8785: expected 6 fields, saw 9\\nSkipping line 8796: expected 6 fields, saw 9\\nSkipping line 8811: expected 6 fields, saw 10\\nSkipping line 8819: expected 6 fields, saw 7\\nSkipping line 8842: expected 6 fields, saw 53\\nSkipping line 8843: expected 6 fields, saw 24\\nSkipping line 8863: expected 6 fields, saw 10\\nSkipping line 8938: expected 6 fields, saw 9\\nSkipping line 8953: expected 6 fields, saw 12\\nSkipping line 8960: expected 6 fields, saw 20\\nSkipping line 8971: expected 6 fields, saw 12\\nSkipping line 9052: expected 6 fields, saw 10\\nSkipping line 9058: expected 6 fields, saw 14\\nSkipping line 9097: expected 6 fields, saw 8\\nSkipping line 9111: expected 6 fields, saw 12\\nSkipping line 9114: expected 6 fields, saw 14\\nSkipping line 9119: expected 6 fields, saw 12\\nSkipping line 9133: expected 6 fields, saw 12\\nSkipping line 9163: expected 6 fields, saw 20\\nSkipping line 9164: expected 6 fields, saw 24\\nSkipping line 9185: expected 6 fields, saw 54\\nSkipping line 9215: expected 6 fields, saw 10\\nSkipping line 9218: expected 6 fields, saw 7\\nSkipping line 9220: expected 6 fields, saw 8\\nSkipping line 9233: expected 6 fields, saw 36\\nSkipping line 9241: expected 6 fields, saw 14\\nSkipping line 9251: expected 6 fields, saw 20\\nSkipping line 9264: expected 6 fields, saw 10\\nSkipping line 9268: expected 6 fields, saw 8\\nSkipping line 9270: expected 6 fields, saw 7\\nSkipping line 9274: expected 6 fields, saw 7\\nSkipping line 9279: expected 6 fields, saw 10\\nSkipping line 9282: expected 6 fields, saw 32\\nSkipping line 9293: expected 6 fields, saw 14\\nSkipping line 9299: expected 6 fields, saw 14\\nSkipping line 9301: expected 6 fields, saw 46\\nSkipping line 9305: expected 6 fields, saw 8\\nSkipping line 9312: expected 6 fields, saw 18\\nSkipping line 9315: expected 6 fields, saw 18\\nSkipping line 9329: expected 6 fields, saw 14\\nSkipping line 9332: expected 6 fields, saw 10\\nSkipping line 9335: expected 6 fields, saw 56\\nSkipping line 9337: expected 6 fields, saw 16\\nSkipping line 9338: expected 6 fields, saw 22\\nSkipping line 9342: expected 6 fields, saw 42\\nSkipping line 9343: expected 6 fields, saw 10\\nSkipping line 9349: expected 6 fields, saw 27\\nSkipping line 9354: expected 6 fields, saw 114\\nSkipping line 9360: expected 6 fields, saw 22\\nSkipping line 9362: expected 6 fields, saw 16\\nSkipping line 9376: expected 6 fields, saw 8\\nSkipping line 9402: expected 6 fields, saw 40\\nSkipping line 9405: expected 6 fields, saw 12\\nSkipping line 9428: expected 6 fields, saw 30\\nSkipping line 9429: expected 6 fields, saw 14\\nSkipping line 9431: expected 6 fields, saw 18\\nSkipping line 9433: expected 6 fields, saw 18\\nSkipping line 9451: expected 6 fields, saw 26\\nSkipping line 9465: expected 6 fields, saw 8\\nSkipping line 9466: expected 6 fields, saw 7\\nSkipping line 9477: expected 6 fields, saw 26\\nSkipping line 9479: expected 6 fields, saw 26\\nSkipping line 9484: expected 6 fields, saw 22\\nSkipping line 9488: expected 6 fields, saw 42\\nSkipping line 9490: expected 6 fields, saw 14\\nSkipping line 9492: expected 6 fields, saw 10\\nSkipping line 9494: expected 6 fields, saw 16\\nSkipping line 9497: expected 6 fields, saw 18\\nSkipping line 9500: expected 6 fields, saw 48\\nSkipping line 9501: expected 6 fields, saw 10\\nSkipping line 9506: expected 6 fields, saw 19\\nSkipping line 9515: expected 6 fields, saw 10\\nSkipping line 9531: expected 6 fields, saw 7\\nSkipping line 9618: expected 6 fields, saw 26\\nSkipping line 9778: expected 6 fields, saw 12\\nSkipping line 9780: expected 6 fields, saw 26\\nSkipping line 9789: expected 6 fields, saw 24\\nSkipping line 9835: expected 6 fields, saw 11\\nSkipping line 9948: expected 6 fields, saw 66\\nSkipping line 9951: expected 6 fields, saw 8\\nSkipping line 9965: expected 6 fields, saw 70\\nSkipping line 10036: expected 6 fields, saw 10\\nSkipping line 10042: expected 6 fields, saw 18\\nSkipping line 10059: expected 6 fields, saw 23\\nSkipping line 10063: expected 6 fields, saw 11\\nSkipping line 10069: expected 6 fields, saw 8\\n'\n"
     ]
    }
   ],
   "source": [
    "og_raw_data = pd.read_csv('./bookcontents2.csv',error_bad_lines=False)"
   ]
  },
  {
   "cell_type": "code",
   "execution_count": 367,
   "metadata": {
    "ExecuteTime": {
     "end_time": "2020-04-27T10:06:38.277235Z",
     "start_time": "2020-04-27T10:06:38.017109Z"
    },
    "collapsed": true
   },
   "outputs": [
    {
     "name": "stderr",
     "output_type": "stream",
     "text": [
      "b'Skipping line 6: expected 6 fields, saw 8\\nSkipping line 14: expected 6 fields, saw 30\\nSkipping line 24: expected 6 fields, saw 9\\nSkipping line 64: expected 6 fields, saw 12\\nSkipping line 69: expected 6 fields, saw 18\\nSkipping line 71: expected 6 fields, saw 15\\nSkipping line 149: expected 6 fields, saw 20\\nSkipping line 177: expected 6 fields, saw 14\\nSkipping line 194: expected 6 fields, saw 8\\nSkipping line 227: expected 6 fields, saw 14\\nSkipping line 236: expected 6 fields, saw 14\\nSkipping line 239: expected 6 fields, saw 22\\nSkipping line 244: expected 6 fields, saw 10\\nSkipping line 262: expected 6 fields, saw 16\\nSkipping line 295: expected 6 fields, saw 8\\nSkipping line 298: expected 6 fields, saw 7\\nSkipping line 312: expected 6 fields, saw 14\\nSkipping line 356: expected 6 fields, saw 19\\nSkipping line 368: expected 6 fields, saw 22\\nSkipping line 560: expected 6 fields, saw 10\\nSkipping line 622: expected 6 fields, saw 54\\nSkipping line 643: expected 6 fields, saw 10\\nSkipping line 656: expected 6 fields, saw 14\\nSkipping line 674: expected 6 fields, saw 8\\nSkipping line 677: expected 6 fields, saw 8\\nSkipping line 701: expected 6 fields, saw 7\\nSkipping line 723: expected 6 fields, saw 26\\nSkipping line 724: expected 6 fields, saw 18\\nSkipping line 734: expected 6 fields, saw 14\\nSkipping line 807: expected 6 fields, saw 22\\nSkipping line 817: expected 6 fields, saw 37\\nSkipping line 827: expected 6 fields, saw 16\\nSkipping line 833: expected 6 fields, saw 10\\nSkipping line 892: expected 6 fields, saw 12\\nSkipping line 924: expected 6 fields, saw 21\\nSkipping line 926: expected 6 fields, saw 11\\nSkipping line 937: expected 6 fields, saw 21\\nSkipping line 1018: expected 6 fields, saw 8\\nSkipping line 1053: expected 6 fields, saw 16\\nSkipping line 1079: expected 6 fields, saw 83\\nSkipping line 1081: expected 6 fields, saw 10\\nSkipping line 1119: expected 6 fields, saw 17\\nSkipping line 1122: expected 6 fields, saw 24\\nSkipping line 1129: expected 6 fields, saw 8\\nSkipping line 1167: expected 6 fields, saw 13\\nSkipping line 1173: expected 6 fields, saw 36\\nSkipping line 1175: expected 6 fields, saw 12\\nSkipping line 1182: expected 6 fields, saw 58\\nSkipping line 1198: expected 6 fields, saw 13\\nSkipping line 1210: expected 6 fields, saw 29\\nSkipping line 1236: expected 6 fields, saw 9\\nSkipping line 1269: expected 6 fields, saw 16\\nSkipping line 1275: expected 6 fields, saw 27\\nSkipping line 1282: expected 6 fields, saw 22\\nSkipping line 1310: expected 6 fields, saw 12\\nSkipping line 1312: expected 6 fields, saw 20\\nSkipping line 1318: expected 6 fields, saw 26\\nSkipping line 1320: expected 6 fields, saw 22\\nSkipping line 1321: expected 6 fields, saw 18\\nSkipping line 1326: expected 6 fields, saw 10\\nSkipping line 1334: expected 6 fields, saw 10\\nSkipping line 1335: expected 6 fields, saw 18\\nSkipping line 1369: expected 6 fields, saw 16\\nSkipping line 1386: expected 6 fields, saw 12\\nSkipping line 1388: expected 6 fields, saw 20\\nSkipping line 1391: expected 6 fields, saw 32\\nSkipping line 1398: expected 6 fields, saw 30\\nSkipping line 1406: expected 6 fields, saw 24\\nSkipping line 1416: expected 6 fields, saw 14\\nSkipping line 1418: expected 6 fields, saw 16\\nSkipping line 1465: expected 6 fields, saw 11\\nSkipping line 1482: expected 6 fields, saw 16\\nSkipping line 1487: expected 6 fields, saw 8\\nSkipping line 1494: expected 6 fields, saw 8\\nSkipping line 1500: expected 6 fields, saw 12\\nSkipping line 1513: expected 6 fields, saw 10\\nSkipping line 1519: expected 6 fields, saw 30\\nSkipping line 1525: expected 6 fields, saw 24\\nSkipping line 1579: expected 6 fields, saw 18\\nSkipping line 1605: expected 6 fields, saw 10\\nSkipping line 1617: expected 6 fields, saw 9\\nSkipping line 1628: expected 6 fields, saw 11\\nSkipping line 1698: expected 6 fields, saw 30\\nSkipping line 1699: expected 6 fields, saw 16\\nSkipping line 1719: expected 6 fields, saw 9\\nSkipping line 1761: expected 6 fields, saw 14\\nSkipping line 1764: expected 6 fields, saw 31\\nSkipping line 1770: expected 6 fields, saw 8\\nSkipping line 1782: expected 6 fields, saw 52\\nSkipping line 1785: expected 6 fields, saw 13\\nSkipping line 1795: expected 6 fields, saw 26\\nSkipping line 1807: expected 6 fields, saw 8\\nSkipping line 1814: expected 6 fields, saw 14\\nSkipping line 1844: expected 6 fields, saw 34\\nSkipping line 1857: expected 6 fields, saw 29\\nSkipping line 1884: expected 6 fields, saw 48\\nSkipping line 1901: expected 6 fields, saw 22\\nSkipping line 1906: expected 6 fields, saw 10\\nSkipping line 1957: expected 6 fields, saw 10\\nSkipping line 1959: expected 6 fields, saw 14\\nSkipping line 1962: expected 6 fields, saw 26\\nSkipping line 1989: expected 6 fields, saw 67\\nSkipping line 1991: expected 6 fields, saw 14\\nSkipping line 2004: expected 6 fields, saw 26\\nSkipping line 2008: expected 6 fields, saw 12\\nSkipping line 2015: expected 6 fields, saw 8\\nSkipping line 2065: expected 6 fields, saw 62\\nSkipping line 2114: expected 6 fields, saw 12\\nSkipping line 2126: expected 6 fields, saw 31\\nSkipping line 2134: expected 6 fields, saw 10\\nSkipping line 2150: expected 6 fields, saw 22\\nSkipping line 2151: expected 6 fields, saw 14\\nSkipping line 2152: expected 6 fields, saw 12\\nSkipping line 2170: expected 6 fields, saw 12\\nSkipping line 2191: expected 6 fields, saw 9\\nSkipping line 2203: expected 6 fields, saw 22\\nSkipping line 2251: expected 6 fields, saw 16\\nSkipping line 2254: expected 6 fields, saw 20\\nSkipping line 2257: expected 6 fields, saw 8\\nSkipping line 2280: expected 6 fields, saw 12\\nSkipping line 2354: expected 6 fields, saw 28\\nSkipping line 2396: expected 6 fields, saw 80\\nSkipping line 2414: expected 6 fields, saw 12\\nSkipping line 2466: expected 6 fields, saw 17\\nSkipping line 2509: expected 6 fields, saw 13\\nSkipping line 2522: expected 6 fields, saw 26\\nSkipping line 2553: expected 6 fields, saw 7\\nSkipping line 2570: expected 6 fields, saw 12\\nSkipping line 2596: expected 6 fields, saw 16\\nSkipping line 2599: expected 6 fields, saw 24\\nSkipping line 2619: expected 6 fields, saw 15\\nSkipping line 2620: expected 6 fields, saw 8\\nSkipping line 2648: expected 6 fields, saw 29\\nSkipping line 2677: expected 6 fields, saw 24\\nSkipping line 2680: expected 6 fields, saw 17\\nSkipping line 2699: expected 6 fields, saw 34\\nSkipping line 2711: expected 6 fields, saw 23\\nSkipping line 2748: expected 6 fields, saw 8\\nSkipping line 2749: expected 6 fields, saw 11\\nSkipping line 2767: expected 6 fields, saw 18\\nSkipping line 2770: expected 6 fields, saw 7\\nSkipping line 2790: expected 6 fields, saw 53\\nSkipping line 2819: expected 6 fields, saw 28\\nSkipping line 2820: expected 6 fields, saw 9\\nSkipping line 2828: expected 6 fields, saw 10\\nSkipping line 2850: expected 6 fields, saw 30\\nSkipping line 2851: expected 6 fields, saw 18\\nSkipping line 2855: expected 6 fields, saw 18\\nSkipping line 2868: expected 6 fields, saw 54\\nSkipping line 2875: expected 6 fields, saw 10\\nSkipping line 2878: expected 6 fields, saw 20\\nSkipping line 2891: expected 6 fields, saw 26\\nSkipping line 2907: expected 6 fields, saw 17\\nSkipping line 2915: expected 6 fields, saw 18\\nSkipping line 2918: expected 6 fields, saw 10\\nSkipping line 2941: expected 6 fields, saw 14\\nSkipping line 2957: expected 6 fields, saw 40\\nSkipping line 2958: expected 6 fields, saw 12\\nSkipping line 2965: expected 6 fields, saw 42\\nSkipping line 2981: expected 6 fields, saw 8\\nSkipping line 3009: expected 6 fields, saw 9\\nSkipping line 3018: expected 6 fields, saw 9\\nSkipping line 3040: expected 6 fields, saw 18\\nSkipping line 3077: expected 6 fields, saw 9\\nSkipping line 3078: expected 6 fields, saw 10\\nSkipping line 3085: expected 6 fields, saw 8\\nSkipping line 3199: expected 6 fields, saw 10\\nSkipping line 3221: expected 6 fields, saw 12\\nSkipping line 3231: expected 6 fields, saw 17\\nSkipping line 3285: expected 6 fields, saw 9\\nSkipping line 3299: expected 6 fields, saw 10\\nSkipping line 3304: expected 6 fields, saw 19\\nSkipping line 3307: expected 6 fields, saw 20\\nSkipping line 3326: expected 6 fields, saw 18\\nSkipping line 3373: expected 6 fields, saw 43\\nSkipping line 3413: expected 6 fields, saw 62\\nSkipping line 3425: expected 6 fields, saw 8\\nSkipping line 3481: expected 6 fields, saw 10\\nSkipping line 3519: expected 6 fields, saw 42\\nSkipping line 3552: expected 6 fields, saw 20\\nSkipping line 3557: expected 6 fields, saw 36\\nSkipping line 3560: expected 6 fields, saw 10\\nSkipping line 3564: expected 6 fields, saw 8\\nSkipping line 3567: expected 6 fields, saw 18\\nSkipping line 3568: expected 6 fields, saw 114\\nSkipping line 3570: expected 6 fields, saw 12\\nSkipping line 3571: expected 6 fields, saw 23\\nSkipping line 3631: expected 6 fields, saw 22\\nSkipping line 3679: expected 6 fields, saw 39\\nSkipping line 3696: expected 6 fields, saw 14\\nSkipping line 3709: expected 6 fields, saw 20\\nSkipping line 3775: expected 6 fields, saw 32\\nSkipping line 3793: expected 6 fields, saw 19\\nSkipping line 3796: expected 6 fields, saw 10\\nSkipping line 3817: expected 6 fields, saw 14\\nSkipping line 3833: expected 6 fields, saw 30\\nSkipping line 3839: expected 6 fields, saw 7\\nSkipping line 3851: expected 6 fields, saw 48\\nSkipping line 3903: expected 6 fields, saw 8\\nSkipping line 3908: expected 6 fields, saw 22\\nSkipping line 3919: expected 6 fields, saw 16\\nSkipping line 3947: expected 6 fields, saw 24\\nSkipping line 3954: expected 6 fields, saw 85\\nSkipping line 3968: expected 6 fields, saw 44\\nSkipping line 4001: expected 6 fields, saw 14\\nSkipping line 4029: expected 6 fields, saw 8\\nSkipping line 4077: expected 6 fields, saw 8\\nSkipping line 4095: expected 6 fields, saw 20\\nSkipping line 4131: expected 6 fields, saw 57\\nSkipping line 4141: expected 6 fields, saw 10\\nSkipping line 4144: expected 6 fields, saw 8\\nSkipping line 4157: expected 6 fields, saw 12\\nSkipping line 4166: expected 6 fields, saw 14\\nSkipping line 4167: expected 6 fields, saw 28\\nSkipping line 4180: expected 6 fields, saw 28\\nSkipping line 4198: expected 6 fields, saw 19\\nSkipping line 4208: expected 6 fields, saw 15\\nSkipping line 4221: expected 6 fields, saw 34\\nSkipping line 4228: expected 6 fields, saw 20\\nSkipping line 4236: expected 6 fields, saw 18\\nSkipping line 4244: expected 6 fields, saw 17\\nSkipping line 4248: expected 6 fields, saw 18\\nSkipping line 4255: expected 6 fields, saw 41\\nSkipping line 4280: expected 6 fields, saw 28\\nSkipping line 4300: expected 6 fields, saw 66\\nSkipping line 4315: expected 6 fields, saw 22\\nSkipping line 4316: expected 6 fields, saw 8\\nSkipping line 4323: expected 6 fields, saw 26\\nSkipping line 4340: expected 6 fields, saw 14\\nSkipping line 4372: expected 6 fields, saw 7\\nSkipping line 4375: expected 6 fields, saw 30\\nSkipping line 4411: expected 6 fields, saw 72\\nSkipping line 4434: expected 6 fields, saw 16\\nSkipping line 4435: expected 6 fields, saw 16\\nSkipping line 4436: expected 6 fields, saw 14\\nSkipping line 4437: expected 6 fields, saw 21\\nSkipping line 4439: expected 6 fields, saw 10\\nSkipping line 4440: expected 6 fields, saw 49\\nSkipping line 4449: expected 6 fields, saw 9\\nSkipping line 4456: expected 6 fields, saw 37\\nSkipping line 4478: expected 6 fields, saw 10\\nSkipping line 4485: expected 6 fields, saw 10\\nSkipping line 4489: expected 6 fields, saw 15\\nSkipping line 4492: expected 6 fields, saw 8\\nSkipping line 4494: expected 6 fields, saw 20\\nSkipping line 4502: expected 6 fields, saw 24\\nSkipping line 4504: expected 6 fields, saw 16\\nSkipping line 4510: expected 6 fields, saw 12\\nSkipping line 4517: expected 6 fields, saw 10\\nSkipping line 4518: expected 6 fields, saw 8\\nSkipping line 4531: expected 6 fields, saw 9\\nSkipping line 4538: expected 6 fields, saw 11\\nSkipping line 4561: expected 6 fields, saw 20\\nSkipping line 4566: expected 6 fields, saw 8\\nSkipping line 4597: expected 6 fields, saw 7\\nSkipping line 4607: expected 6 fields, saw 7\\nSkipping line 4612: expected 6 fields, saw 13\\nSkipping line 4659: expected 6 fields, saw 10\\nSkipping line 4675: expected 6 fields, saw 108\\nSkipping line 4679: expected 6 fields, saw 25\\nSkipping line 4687: expected 6 fields, saw 11\\nSkipping line 4721: expected 6 fields, saw 10\\nSkipping line 4722: expected 6 fields, saw 42\\nSkipping line 4740: expected 6 fields, saw 10\\nSkipping line 4741: expected 6 fields, saw 10\\nSkipping line 4815: expected 6 fields, saw 10\\nSkipping line 4826: expected 6 fields, saw 42\\nSkipping line 4859: expected 6 fields, saw 50\\nSkipping line 4865: expected 6 fields, saw 48\\nSkipping line 4881: expected 6 fields, saw 66\\nSkipping line 4905: expected 6 fields, saw 34\\nSkipping line 4918: expected 6 fields, saw 7\\nSkipping line 4929: expected 6 fields, saw 11\\nSkipping line 4935: expected 6 fields, saw 37\\nSkipping line 4937: expected 6 fields, saw 10\\nSkipping line 4958: expected 6 fields, saw 28\\nSkipping line 4990: expected 6 fields, saw 16\\nSkipping line 5000: expected 6 fields, saw 26\\nSkipping line 5002: expected 6 fields, saw 24\\nSkipping line 5011: expected 6 fields, saw 11\\nSkipping line 5017: expected 6 fields, saw 12\\nSkipping line 5021: expected 6 fields, saw 8\\nSkipping line 5024: expected 6 fields, saw 38\\nSkipping line 5025: expected 6 fields, saw 8\\nSkipping line 5046: expected 6 fields, saw 9\\nSkipping line 5067: expected 6 fields, saw 36\\nSkipping line 5132: expected 6 fields, saw 26\\n'\n"
     ]
    }
   ],
   "source": [
    "og_raw_data = pd.read_csv('./bookcontents3.csv',error_bad_lines=False)"
   ]
  },
  {
   "cell_type": "code",
   "execution_count": 368,
   "metadata": {
    "ExecuteTime": {
     "end_time": "2020-04-27T10:06:40.604149Z",
     "start_time": "2020-04-27T10:06:39.467825Z"
    }
   },
   "outputs": [
    {
     "data": {
      "text/plain": [
       "<matplotlib.axes._subplots.AxesSubplot at 0x1cc9de5710>"
      ]
     },
     "execution_count": 368,
     "metadata": {},
     "output_type": "execute_result"
    },
    {
     "data": {
      "image/png": "[encoded data removed]",
      "text/plain": [
       "<Figure size 1800x720 with 2 Axes>"
      ]
     },
     "metadata": {
      "image/png": {
       "height": 650,
       "width": 1473
      },
      "needs_background": "light"
     },
     "output_type": "display_data"
    }
   ],
   "source": [
    "msno.matrix(og_raw_data)"
   ]
  },
  {
   "cell_type": "code",
   "execution_count": 369,
   "metadata": {
    "ExecuteTime": {
     "end_time": "2020-04-27T10:06:42.939548Z",
     "start_time": "2020-04-27T10:06:42.932372Z"
    }
   },
   "outputs": [],
   "source": [
    "og_raw_data = og_raw_data.drop_duplicates('title',keep='first')"
   ]
  },
  {
   "cell_type": "markdown",
   "metadata": {},
   "source": [
    "## desctiption\n"
   ]
  },
  {
   "cell_type": "code",
   "execution_count": 370,
   "metadata": {
    "ExecuteTime": {
     "end_time": "2020-04-27T10:06:44.792996Z",
     "start_time": "2020-04-27T10:06:44.788988Z"
    }
   },
   "outputs": [],
   "source": [
    "desc_data = og_raw_data[['id','description','title']]"
   ]
  },
  {
   "cell_type": "code",
   "execution_count": 371,
   "metadata": {
    "ExecuteTime": {
     "end_time": "2020-04-27T10:06:45.460044Z",
     "start_time": "2020-04-27T10:06:45.453049Z"
    }
   },
   "outputs": [
    {
     "data": {
      "text/plain": [
       "(4384, 3)"
      ]
     },
     "execution_count": 371,
     "metadata": {},
     "output_type": "execute_result"
    }
   ],
   "source": [
    "desc_data = desc_data.dropna(axis=0)\n",
    "desc_data.shape"
   ]
  },
  {
   "cell_type": "markdown",
   "metadata": {},
   "source": [
    "## text"
   ]
  },
  {
   "cell_type": "code",
   "execution_count": 372,
   "metadata": {
    "ExecuteTime": {
     "end_time": "2020-04-27T10:06:46.424755Z",
     "start_time": "2020-04-27T10:06:46.420933Z"
    }
   },
   "outputs": [],
   "source": [
    "text_data = og_raw_data[['id','text','title']]"
   ]
  },
  {
   "cell_type": "code",
   "execution_count": 373,
   "metadata": {
    "ExecuteTime": {
     "end_time": "2020-04-27T10:06:46.814050Z",
     "start_time": "2020-04-27T10:06:46.807032Z"
    }
   },
   "outputs": [
    {
     "data": {
      "text/plain": [
       "(2529, 3)"
      ]
     },
     "execution_count": 373,
     "metadata": {},
     "output_type": "execute_result"
    }
   ],
   "source": [
    "text_data = text_data.dropna(axis=0)\n",
    "text_data.shape"
   ]
  },
  {
   "cell_type": "markdown",
   "metadata": {},
   "source": [
    "## desc + text"
   ]
  },
  {
   "cell_type": "code",
   "execution_count": 42,
   "metadata": {
    "ExecuteTime": {
     "end_time": "2020-04-27T08:58:23.554460Z",
     "start_time": "2020-04-27T08:58:23.550099Z"
    }
   },
   "outputs": [],
   "source": [
    "og_raw_data['text'] = og_raw_data['text'].fillna(' ')"
   ]
  },
  {
   "cell_type": "code",
   "execution_count": 43,
   "metadata": {
    "ExecuteTime": {
     "end_time": "2020-04-27T08:58:23.761117Z",
     "start_time": "2020-04-27T08:58:23.743736Z"
    }
   },
   "outputs": [],
   "source": [
    "og_raw_data['desc_text'] = og_raw_data['description'] + og_raw_data['text']"
   ]
  },
  {
   "cell_type": "code",
   "execution_count": 44,
   "metadata": {
    "ExecuteTime": {
     "end_time": "2020-04-27T08:58:23.954254Z",
     "start_time": "2020-04-27T08:58:23.942011Z"
    }
   },
   "outputs": [],
   "source": [
    "desc_text = og_raw_data.dropna(axis=0)\n",
    "desc_text= desc_text.drop_duplicates('title',keep='first')"
   ]
  },
  {
   "cell_type": "code",
   "execution_count": 14,
   "metadata": {
    "ExecuteTime": {
     "end_time": "2020-04-27T08:44:57.929661Z",
     "start_time": "2020-04-27T08:44:56.915222Z"
    }
   },
   "outputs": [
    {
     "data": {
      "text/plain": [
       "<matplotlib.axes._subplots.AxesSubplot at 0x1c1b738e90>"
      ]
     },
     "execution_count": 14,
     "metadata": {},
     "output_type": "execute_result"
    },
    {
     "data": {
      "image/png": "[encoded data removed]",
      "text/plain": [
       "<Figure size 1800x720 with 2 Axes>"
      ]
     },
     "metadata": {
      "image/png": {
       "height": 650,
       "width": 1473
      },
      "needs_background": "light"
     },
     "output_type": "display_data"
    }
   ],
   "source": [
    "msno.matrix(desc_text)"
   ]
  },
  {
   "cell_type": "markdown",
   "metadata": {
    "ExecuteTime": {
     "end_time": "2020-04-27T01:55:41.913428Z",
     "start_time": "2020-04-27T01:55:41.911049Z"
    }
   },
   "source": [
    "## 형태소 분석"
   ]
  },
  {
   "cell_type": "code",
   "execution_count": 16,
   "metadata": {
    "ExecuteTime": {
     "end_time": "2020-04-27T08:45:09.448561Z",
     "start_time": "2020-04-27T08:45:08.754432Z"
    }
   },
   "outputs": [],
   "source": [
    "from konlpy.tag import *\n",
    "# hannanum = Hannanum()\n",
    "okt = Okt()"
   ]
  },
  {
   "cell_type": "code",
   "execution_count": 17,
   "metadata": {
    "ExecuteTime": {
     "end_time": "2020-04-27T08:48:45.003935Z",
     "start_time": "2020-04-27T08:45:15.162998Z"
    }
   },
   "outputs": [
    {
     "data": {
      "application/vnd.jupyter.widget-view+json": {
       "model_id": "c137f54662bf49a6a194bca505c47eae",
       "version_major": 2,
       "version_minor": 0
      },
      "text/plain": [
       "HBox(children=(IntProgress(value=0, max=4384), HTML(value='')))"
      ]
     },
     "metadata": {},
     "output_type": "display_data"
    },
    {
     "name": "stdout",
     "output_type": "stream",
     "text": [
      "\n"
     ]
    },
    {
     "data": {
      "text/plain": [
       "4384"
      ]
     },
     "execution_count": 17,
     "metadata": {},
     "output_type": "execute_result"
    }
   ],
   "source": [
    "desc_data = [desc_data for desc_data in desc_data['description']]\n",
    "desc_data = tqdm(desc_data)\n",
    "\n",
    "desc_tokens = [okt.morphs(row) for row in desc_data]\n",
    "len(desc_tokens)"
   ]
  },
  {
   "cell_type": "code",
   "execution_count": 18,
   "metadata": {
    "ExecuteTime": {
     "end_time": "2020-04-27T08:50:35.002087Z",
     "start_time": "2020-04-27T08:48:45.006234Z"
    }
   },
   "outputs": [
    {
     "data": {
      "application/vnd.jupyter.widget-view+json": {
       "model_id": "452ae34fba9845bd89ae13f29bf30af7",
       "version_major": 2,
       "version_minor": 0
      },
      "text/plain": [
       "HBox(children=(IntProgress(value=0, max=2529), HTML(value='')))"
      ]
     },
     "metadata": {},
     "output_type": "display_data"
    },
    {
     "name": "stdout",
     "output_type": "stream",
     "text": [
      "\n"
     ]
    },
    {
     "data": {
      "text/plain": [
       "2529"
      ]
     },
     "execution_count": 18,
     "metadata": {},
     "output_type": "execute_result"
    }
   ],
   "source": [
    "text_data = [text_data for text_data in text_data['text']]\n",
    "text_data = tqdm(text_data)\n",
    "\n",
    "text_tokens = [okt.morphs(row) for row in text_data]\n",
    "len(text_tokens)"
   ]
  },
  {
   "cell_type": "code",
   "execution_count": 19,
   "metadata": {
    "ExecuteTime": {
     "end_time": "2020-04-27T08:55:55.885100Z",
     "start_time": "2020-04-27T08:50:35.005245Z"
    }
   },
   "outputs": [
    {
     "data": {
      "application/vnd.jupyter.widget-view+json": {
       "model_id": "4f14e6ca490b45e18b760acdb1c76e1c",
       "version_major": 2,
       "version_minor": 0
      },
      "text/plain": [
       "HBox(children=(IntProgress(value=0, max=4384), HTML(value='')))"
      ]
     },
     "metadata": {},
     "output_type": "display_data"
    },
    {
     "name": "stdout",
     "output_type": "stream",
     "text": [
      "\n"
     ]
    },
    {
     "data": {
      "text/plain": [
       "4384"
      ]
     },
     "execution_count": 19,
     "metadata": {},
     "output_type": "execute_result"
    }
   ],
   "source": [
    "desc_text_data = [desc_text_data for desc_text_data in desc_text['desc_text']]\n",
    "desc_text_data = tqdm(desc_text_data)\n",
    "\n",
    "text_contents_tokens = [okt.morphs(row) for row in desc_text_data]\n",
    "len(text_contents_tokens)"
   ]
  },
  {
   "cell_type": "code",
   "execution_count": 20,
   "metadata": {
    "ExecuteTime": {
     "end_time": "2020-04-27T08:55:56.769288Z",
     "start_time": "2020-04-27T08:55:55.887396Z"
    }
   },
   "outputs": [],
   "source": [
    "import pickle \n",
    "## Save pickle\n",
    "with open(\"desc_tokens2.pickle\",\"wb\") as fw:\n",
    "    pickle.dump(desc_tokens, fw)"
   ]
  },
  {
   "cell_type": "code",
   "execution_count": 21,
   "metadata": {
    "ExecuteTime": {
     "end_time": "2020-04-27T08:55:57.253261Z",
     "start_time": "2020-04-27T08:55:56.771469Z"
    }
   },
   "outputs": [],
   "source": [
    "import pickle \n",
    "## Save pickle\n",
    "with open(\"text_tokens2.pickle\",\"wb\") as fw:\n",
    "    pickle.dump(text_tokens, fw)"
   ]
  },
  {
   "cell_type": "code",
   "execution_count": 22,
   "metadata": {
    "ExecuteTime": {
     "end_time": "2020-04-27T08:55:58.674876Z",
     "start_time": "2020-04-27T08:55:57.255202Z"
    }
   },
   "outputs": [],
   "source": [
    "import pickle \n",
    "## Save pickle\n",
    "with open(\"text_contents_tokens2.pickle\",\"wb\") as fw:\n",
    "    pickle.dump(text_contents_tokens, fw)"
   ]
  },
  {
   "cell_type": "code",
   "execution_count": 25,
   "metadata": {
    "ExecuteTime": {
     "end_time": "2020-04-27T06:30:38.997050Z",
     "start_time": "2020-04-27T06:30:38.109275Z"
    }
   },
   "outputs": [
    {
     "data": {
      "text/plain": [
       "8293"
      ]
     },
     "execution_count": 25,
     "metadata": {},
     "output_type": "execute_result"
    }
   ],
   "source": [
    "import pickle \n",
    "## Load pickle\n",
    "with open(\"desc_tokens.pickle\",\"rb\") as fr:\n",
    "    desc_tokens = pickle.load(fr)\n",
    "len(desc_tokens)\n",
    "#['a', 'b', 'c']"
   ]
  },
  {
   "cell_type": "code",
   "execution_count": 94,
   "metadata": {
    "ExecuteTime": {
     "end_time": "2020-04-27T09:07:12.201482Z",
     "start_time": "2020-04-27T09:07:11.869013Z"
    }
   },
   "outputs": [
    {
     "data": {
      "text/plain": [
       "2529"
      ]
     },
     "execution_count": 94,
     "metadata": {},
     "output_type": "execute_result"
    }
   ],
   "source": [
    "import pickle \n",
    "## Load pickle\n",
    "with open(\"text_tokens2.pickle\",\"rb\") as fr:\n",
    "    text_tokens = pickle.load(fr)\n",
    "len(text_tokens)\n",
    "#['a', 'b', 'c']"
   ]
  },
  {
   "cell_type": "markdown",
   "metadata": {},
   "source": [
    "## stop words 설정"
   ]
  },
  {
   "cell_type": "code",
   "execution_count": 23,
   "metadata": {
    "ExecuteTime": {
     "end_time": "2020-04-27T08:57:32.783167Z",
     "start_time": "2020-04-27T08:57:32.779669Z"
    }
   },
   "outputs": [],
   "source": [
    "with open('ko_stop_words.txt') as text:\n",
    "    lines = text.readlines()"
   ]
  },
  {
   "cell_type": "code",
   "execution_count": 83,
   "metadata": {
    "ExecuteTime": {
     "end_time": "2020-04-27T09:06:25.529688Z",
     "start_time": "2020-04-27T09:06:25.526667Z"
    }
   },
   "outputs": [],
   "source": [
    "stop_words1 = ['.','(',')',',',\"'\",'%','-','X',').','.','---','p','\"','']"
   ]
  },
  {
   "cell_type": "code",
   "execution_count": 84,
   "metadata": {
    "ExecuteTime": {
     "end_time": "2020-04-27T09:06:26.439819Z",
     "start_time": "2020-04-27T09:06:26.436801Z"
    }
   },
   "outputs": [],
   "source": [
    "stop_words2 = [ line.replace('\\n','') for line in lines]"
   ]
  },
  {
   "cell_type": "code",
   "execution_count": 85,
   "metadata": {
    "ExecuteTime": {
     "end_time": "2020-04-27T09:06:29.164374Z",
     "start_time": "2020-04-27T09:06:29.161578Z"
    }
   },
   "outputs": [],
   "source": [
    "stop_words = stop_words1 + stop_words2"
   ]
  },
  {
   "cell_type": "markdown",
   "metadata": {},
   "source": [
    "## 시리즈 형태로 바꿔서 apply 함수 적용"
   ]
  },
  {
   "cell_type": "code",
   "execution_count": 119,
   "metadata": {
    "ExecuteTime": {
     "end_time": "2020-04-27T09:17:01.380486Z",
     "start_time": "2020-04-27T09:16:52.486606Z"
    }
   },
   "outputs": [
    {
     "data": {
      "text/plain": [
       "2529"
      ]
     },
     "execution_count": 119,
     "metadata": {},
     "output_type": "execute_result"
    }
   ],
   "source": [
    "text_tokens_series = pd.Series(text_tokens)\n",
    "text_tokens = text_tokens_series.apply(lambda x : [w for w in x if w not in stop_words])  \n",
    "len(text_tokens)"
   ]
  },
  {
   "cell_type": "code",
   "execution_count": 121,
   "metadata": {
    "ExecuteTime": {
     "end_time": "2020-04-27T09:17:46.340677Z",
     "start_time": "2020-04-27T09:17:28.675518Z"
    }
   },
   "outputs": [
    {
     "data": {
      "text/plain": [
       "4384"
      ]
     },
     "execution_count": 121,
     "metadata": {},
     "output_type": "execute_result"
    }
   ],
   "source": [
    "desc_tokens_series = pd.Series(desc_tokens)\n",
    "desc_tokens = desc_tokens_series.apply(lambda x : [w for w in x if w not in stop_words])  \n",
    "len(desc_tokens)"
   ]
  },
  {
   "cell_type": "code",
   "execution_count": 434,
   "metadata": {
    "ExecuteTime": {
     "end_time": "2020-04-27T10:23:46.769870Z",
     "start_time": "2020-04-27T10:23:21.946399Z"
    }
   },
   "outputs": [
    {
     "data": {
      "text/plain": [
       "4384"
      ]
     },
     "execution_count": 434,
     "metadata": {},
     "output_type": "execute_result"
    }
   ],
   "source": [
    "text_contents_tokens_series = pd.Series(text_contents_tokens)\n",
    "text_contents_tokens = text_contents_tokens_series.apply(lambda x : [w for w in x if w not in stop_words])  \n",
    "len(text_contents_tokens)"
   ]
  },
  {
   "cell_type": "markdown",
   "metadata": {},
   "source": [
    "## 띄워쓰기가 있는 문장으로 변환"
   ]
  },
  {
   "cell_type": "code",
   "execution_count": 452,
   "metadata": {
    "ExecuteTime": {
     "end_time": "2020-04-27T10:25:13.959587Z",
     "start_time": "2020-04-27T10:25:12.839627Z"
    }
   },
   "outputs": [
    {
     "data": {
      "text/plain": [
       "4384"
      ]
     },
     "execution_count": 452,
     "metadata": {},
     "output_type": "execute_result"
    }
   ],
   "source": [
    "contents_for_vectorize = []\n",
    "\n",
    "for content in text_contents_tokens:\n",
    "    sentence = ''\n",
    "    for word in content:\n",
    "        sentence = sentence + ' ' + word\n",
    "    \n",
    "    contents_for_vectorize.append(sentence)\n",
    "    \n",
    "len(contents_for_vectorize)"
   ]
  },
  {
   "cell_type": "markdown",
   "metadata": {},
   "source": [
    "## CountVectorizer"
   ]
  },
  {
   "cell_type": "code",
   "execution_count": 436,
   "metadata": {
    "ExecuteTime": {
     "end_time": "2020-04-27T10:23:47.859438Z",
     "start_time": "2020-04-27T10:23:47.847140Z"
    }
   },
   "outputs": [],
   "source": [
    "from sklearn.feature_extraction.text import CountVectorizer\n",
    "vectorizer = CountVectorizer(min_df = 1)"
   ]
  },
  {
   "cell_type": "code",
   "execution_count": 437,
   "metadata": {
    "ExecuteTime": {
     "end_time": "2020-04-27T10:23:49.716300Z",
     "start_time": "2020-04-27T10:23:47.861677Z"
    }
   },
   "outputs": [
    {
     "data": {
      "text/plain": [
       "<4384x90152 sparse matrix of type '<class 'numpy.int64'>'\n",
       "\twith 1022351 stored elements in Compressed Sparse Row format>"
      ]
     },
     "execution_count": 437,
     "metadata": {},
     "output_type": "execute_result"
    }
   ],
   "source": [
    "X = vectorizer.fit_transform(contents_for_vectorize)\n",
    "X"
   ]
  },
  {
   "cell_type": "markdown",
   "metadata": {},
   "source": [
    "## Tf-itf"
   ]
  },
  {
   "cell_type": "code",
   "execution_count": 453,
   "metadata": {
    "ExecuteTime": {
     "end_time": "2020-04-27T10:25:15.260270Z",
     "start_time": "2020-04-27T10:25:15.257197Z"
    }
   },
   "outputs": [],
   "source": [
    "from sklearn.feature_extraction.text import TfidfVectorizer\n",
    "vectorizer = TfidfVectorizer(min_df = 1, decode_error = 'ignore')"
   ]
  },
  {
   "cell_type": "code",
   "execution_count": 454,
   "metadata": {
    "ExecuteTime": {
     "end_time": "2020-04-27T10:25:17.329066Z",
     "start_time": "2020-04-27T10:25:15.592018Z"
    }
   },
   "outputs": [
    {
     "data": {
      "text/plain": [
       "<4384x90152 sparse matrix of type '<class 'numpy.float64'>'\n",
       "\twith 1022351 stored elements in Compressed Sparse Row format>"
      ]
     },
     "execution_count": 454,
     "metadata": {},
     "output_type": "execute_result"
    }
   ],
   "source": [
    "X = vectorizer.fit_transform(contents_for_vectorize)\n",
    "X"
   ]
  },
  {
   "cell_type": "code",
   "execution_count": 455,
   "metadata": {
    "ExecuteTime": {
     "end_time": "2020-04-27T10:25:17.334351Z",
     "start_time": "2020-04-27T10:25:17.331052Z"
    }
   },
   "outputs": [
    {
     "data": {
      "text/plain": [
       "(4384, 90152)"
      ]
     },
     "execution_count": 455,
     "metadata": {},
     "output_type": "execute_result"
    }
   ],
   "source": [
    "num_samples, num_fetures = X.shape\n",
    "num_samples, num_fetures"
   ]
  },
  {
   "cell_type": "markdown",
   "metadata": {},
   "source": [
    "## pairwise_distances 구하기"
   ]
  },
  {
   "cell_type": "code",
   "execution_count": 456,
   "metadata": {
    "ExecuteTime": {
     "end_time": "2020-04-27T10:25:23.697531Z",
     "start_time": "2020-04-27T10:25:23.694752Z"
    }
   },
   "outputs": [],
   "source": [
    "from sklearn.metrics import pairwise_distances"
   ]
  },
  {
   "cell_type": "code",
   "execution_count": 510,
   "metadata": {
    "ExecuteTime": {
     "end_time": "2020-04-27T10:40:19.384154Z",
     "start_time": "2020-04-27T10:40:17.769697Z"
    }
   },
   "outputs": [],
   "source": [
    "book_matrix = pairwise_distances(X,X,metric='cosine')"
   ]
  },
  {
   "cell_type": "code",
   "execution_count": 502,
   "metadata": {
    "ExecuteTime": {
     "end_time": "2020-04-27T10:39:57.546857Z",
     "start_time": "2020-04-27T10:39:57.543286Z"
    }
   },
   "outputs": [],
   "source": [
    "def title_idx(data,title):\n",
    "    a = pd.DataFrame(np.argsort(book_matrix))[0].apply(lambda x : data.iloc[x])\n",
    "    return a[a['title'] == title].index"
   ]
  },
  {
   "cell_type": "code",
   "execution_count": 503,
   "metadata": {
    "ExecuteTime": {
     "end_time": "2020-04-27T10:39:57.937067Z",
     "start_time": "2020-04-27T10:39:57.927457Z"
    }
   },
   "outputs": [
    {
     "data": {
      "text/html": [
       "<div>\n",
       "<style scoped>\n",
       "    .dataframe tbody tr th:only-of-type {\n",
       "        vertical-align: middle;\n",
       "    }\n",
       "\n",
       "    .dataframe tbody tr th {\n",
       "        vertical-align: top;\n",
       "    }\n",
       "\n",
       "    .dataframe thead th {\n",
       "        text-align: right;\n",
       "    }\n",
       "</style>\n",
       "<table border=\"1\" class=\"dataframe\">\n",
       "  <thead>\n",
       "    <tr style=\"text-align: right;\">\n",
       "      <th></th>\n",
       "      <th>id</th>\n",
       "      <th>title</th>\n",
       "      <th>img</th>\n",
       "      <th>text</th>\n",
       "      <th>description</th>\n",
       "      <th>url</th>\n",
       "    </tr>\n",
       "  </thead>\n",
       "  <tbody>\n",
       "    <tr>\n",
       "      <td>3928</td>\n",
       "      <td>4138</td>\n",
       "      <td>개미 (2)</td>\n",
       "      <td>http://image.yes24.com/momo/TopCate408/MidCate...</td>\n",
       "      <td>지하 40층. 많은 개미들이 움직이고 있다. 8월의 더위가 한창 기승을 부리고 있는...</td>\n",
       "      <td>프랑스의 천재 작가 베르나르 베르베르의 〈개미〉는 인간 세계와 개미 세계의 만남과 ...</td>\n",
       "      <td>https://www.yes24.com/Product/Goods/185464</td>\n",
       "    </tr>\n",
       "  </tbody>\n",
       "</table>\n",
       "</div>"
      ],
      "text/plain": [
       "        id   title                                                img  \\\n",
       "3928  4138  개미 (2)  http://image.yes24.com/momo/TopCate408/MidCate...   \n",
       "\n",
       "                                                   text  \\\n",
       "3928  지하 40층. 많은 개미들이 움직이고 있다. 8월의 더위가 한창 기승을 부리고 있는...   \n",
       "\n",
       "                                            description  \\\n",
       "3928  프랑스의 천재 작가 베르나르 베르베르의 〈개미〉는 인간 세계와 개미 세계의 만남과 ...   \n",
       "\n",
       "                                             url  \n",
       "3928  https://www.yes24.com/Product/Goods/185464  "
      ]
     },
     "execution_count": 503,
     "metadata": {},
     "output_type": "execute_result"
    }
   ],
   "source": [
    "og_raw_data[og_raw_data['title'] == '개미 (2)']"
   ]
  },
  {
   "cell_type": "code",
   "execution_count": 507,
   "metadata": {
    "ExecuteTime": {
     "end_time": "2020-04-27T10:40:09.969814Z",
     "start_time": "2020-04-27T10:40:08.192633Z"
    }
   },
   "outputs": [
    {
     "data": {
      "text/plain": [
       "Int64Index([1764], dtype='int64')"
      ]
     },
     "execution_count": 507,
     "metadata": {},
     "output_type": "execute_result"
    }
   ],
   "source": [
    "title_idx(desc_text,'데미안')"
   ]
  },
  {
   "cell_type": "code",
   "execution_count": 505,
   "metadata": {
    "ExecuteTime": {
     "end_time": "2020-04-27T10:40:00.245076Z",
     "start_time": "2020-04-27T10:40:00.242032Z"
    }
   },
   "outputs": [],
   "source": [
    "def check_book(data,idx):\n",
    "    return og_raw_data[og_raw_data['id'] == data.iloc[idx][0]]"
   ]
  },
  {
   "cell_type": "code",
   "execution_count": 514,
   "metadata": {
    "ExecuteTime": {
     "end_time": "2020-04-27T10:41:48.035314Z",
     "start_time": "2020-04-27T10:41:47.996212Z"
    }
   },
   "outputs": [
    {
     "name": "stdout",
     "output_type": "stream",
     "text": [
      "        id title                                          url\n",
      "1881  1983   데미안  https://www.yes24.com/Product/Goods/9019369\n",
      "        id           title                                          url\n",
      "4207  4446  데미안 (10주년 특별판)  https://www.yes24.com/Product/Goods/8416212\n",
      "        id        title                                           url\n",
      "4149  4381  미니북 초판본 데미안  https://www.yes24.com/Product/Goods/70904666\n",
      "        id            title                                          url\n",
      "4759  5044  제대로 된 시체답게 행동해!  https://www.yes24.com/Product/Goods/5533457\n",
      "        id    title                                           url\n",
      "1547  1630  천국보다 낯선  https://www.yes24.com/Product/Goods/11688092\n",
      "        id title                                           url\n",
      "4625  4896  방랑자들  https://www.yes24.com/Product/Goods/80128261\n",
      "        id          title                                           url\n",
      "4325  4580  전쟁과 평화 세트 한정판  https://www.yes24.com/Product/Goods/56942640\n",
      "      id      title                                           url\n",
      "316  334  내게 무해한 사람  https://www.yes24.com/Product/Goods/61778623\n",
      "        id      title                                         url\n",
      "4744  5029  눈먼 자들의 도시  https://www.yes24.com/Product/Goods/318766\n",
      "        id       title                                           url\n",
      "3679  3878  고슴도치의 우아함   https://www.yes24.com/Product/Goods/23059727\n"
     ]
    }
   ],
   "source": [
    "for i in np.argsort(book_matrix[1764])[:10]:\n",
    "    result_df = check_book(desc_data,i)\n",
    "    print(result_df[['id','title','url']])"
   ]
  },
  {
   "cell_type": "markdown",
   "metadata": {},
   "source": [
    "## 테스트 문장 만들기"
   ]
  },
  {
   "cell_type": "code",
   "execution_count": 638,
   "metadata": {
    "ExecuteTime": {
     "end_time": "2020-04-27T11:02:04.844556Z",
     "start_time": "2020-04-27T11:02:04.838641Z"
    }
   },
   "outputs": [
    {
     "data": {
      "text/plain": [
       "[' 마음 이 아프다']"
      ]
     },
     "execution_count": 638,
     "metadata": {},
     "output_type": "execute_result"
    }
   ],
   "source": [
    "new_post = ['마음이 아프다']\n",
    "new_post_tokens = [ okt.morphs(row) for row in new_post]\n",
    "\n",
    "new_post_for_vectorize = []\n",
    "\n",
    "for content in new_post_tokens:\n",
    "    sentence = ''\n",
    "    for word in content:\n",
    "        sentence = sentence + ' ' + word\n",
    "        \n",
    "    new_post_for_vectorize.append(sentence)\n",
    "    \n",
    "new_post_for_vectorize"
   ]
  },
  {
   "cell_type": "code",
   "execution_count": 639,
   "metadata": {
    "ExecuteTime": {
     "end_time": "2020-04-27T11:02:05.252952Z",
     "start_time": "2020-04-27T11:02:05.250179Z"
    }
   },
   "outputs": [],
   "source": [
    "new_post_for_vectorize = [w for w in new_post_for_vectorize if w not in stop_words]"
   ]
  },
  {
   "cell_type": "code",
   "execution_count": 640,
   "metadata": {
    "ExecuteTime": {
     "end_time": "2020-04-27T11:02:05.509823Z",
     "start_time": "2020-04-27T11:02:05.504524Z"
    }
   },
   "outputs": [
    {
     "data": {
      "text/plain": [
       "array([[0., 0., 0., ..., 0., 0., 0.]])"
      ]
     },
     "execution_count": 640,
     "metadata": {},
     "output_type": "execute_result"
    }
   ],
   "source": [
    "new_post_vec = vectorizer.transform(new_post_for_vectorize)\n",
    "new_post_vec.toarray()"
   ]
  },
  {
   "cell_type": "markdown",
   "metadata": {},
   "source": [
    "## 유클리드 거리 "
   ]
  },
  {
   "cell_type": "code",
   "execution_count": 641,
   "metadata": {
    "ExecuteTime": {
     "end_time": "2020-04-27T11:02:05.870679Z",
     "start_time": "2020-04-27T11:02:05.867216Z"
    }
   },
   "outputs": [],
   "source": [
    "import scipy as sp\n",
    "\n",
    "def dist_raw(v1, v2):\n",
    "    delta = v1 - v2\n",
    "    return sp.linalg.norm(delta.toarray())"
   ]
  },
  {
   "cell_type": "code",
   "execution_count": 642,
   "metadata": {
    "ExecuteTime": {
     "end_time": "2020-04-27T11:02:08.280824Z",
     "start_time": "2020-04-27T11:02:06.000779Z"
    }
   },
   "outputs": [],
   "source": [
    "dist = [dist_raw(each, new_post_vec) for each in X]"
   ]
  },
  {
   "cell_type": "code",
   "execution_count": 643,
   "metadata": {
    "ExecuteTime": {
     "end_time": "2020-04-27T11:02:08.289652Z",
     "start_time": "2020-04-27T11:02:08.282918Z"
    }
   },
   "outputs": [],
   "source": [
    "import operator\n",
    "dist_dict = dict(enumerate(dist))\n",
    "sorted_dict = sorted(dist_dict.items(), key=operator.itemgetter(1))"
   ]
  },
  {
   "cell_type": "code",
   "execution_count": 644,
   "metadata": {
    "ExecuteTime": {
     "end_time": "2020-04-27T11:02:08.296733Z",
     "start_time": "2020-04-27T11:02:08.292698Z"
    }
   },
   "outputs": [
    {
     "name": "stdout",
     "output_type": "stream",
     "text": [
      "Best 5 post is  [(1832, 1.3473926734765276), (2908, 1.36101877461155), (1570, 1.362316131804516), (2068, 1.3629373442645976), (8, 1.3648667764484936)]\n",
      "Test post is -->  ['마음이 아프다']\n"
     ]
    }
   ],
   "source": [
    "print('Best 5 post is ', sorted_dict[:5])\n",
    "print('Test post is --> ', new_post)"
   ]
  },
  {
   "cell_type": "code",
   "execution_count": 645,
   "metadata": {
    "ExecuteTime": {
     "end_time": "2020-04-27T11:02:08.326758Z",
     "start_time": "2020-04-27T11:02:08.299837Z"
    },
    "scrolled": false
   },
   "outputs": [
    {
     "data": {
      "text/html": [
       "<div>\n",
       "<style scoped>\n",
       "    .dataframe tbody tr th:only-of-type {\n",
       "        vertical-align: middle;\n",
       "    }\n",
       "\n",
       "    .dataframe tbody tr th {\n",
       "        vertical-align: top;\n",
       "    }\n",
       "\n",
       "    .dataframe thead th {\n",
       "        text-align: right;\n",
       "    }\n",
       "</style>\n",
       "<table border=\"1\" class=\"dataframe\">\n",
       "  <thead>\n",
       "    <tr style=\"text-align: right;\">\n",
       "      <th></th>\n",
       "      <th>id</th>\n",
       "      <th>title</th>\n",
       "      <th>img</th>\n",
       "      <th>text</th>\n",
       "      <th>description</th>\n",
       "      <th>url</th>\n",
       "    </tr>\n",
       "  </thead>\n",
       "  <tbody>\n",
       "    <tr>\n",
       "      <td>1959</td>\n",
       "      <td>2067</td>\n",
       "      <td>AFTER 애프터 8</td>\n",
       "      <td>http://image.yes24.com/goods/77985431/800x0</td>\n",
       "      <td>사랑이 이렇게 아프다는 걸, 내 마음을 갈기갈기 찢어놓는다는 걸 그때도 알았더라면 ...</td>\n",
       "      <td>그 모든 일을 겪은 후의 삶은, 결코 전과 같지 않을 것이다끝났다고 생각했을 때 가...</td>\n",
       "      <td>https://www.yes24.com/Product/Goods/77985431</td>\n",
       "    </tr>\n",
       "    <tr>\n",
       "      <td>3190</td>\n",
       "      <td>3365</td>\n",
       "      <td>말하는 검</td>\n",
       "      <td>http://image.yes24.com/momo/TopCate159/MidCate...</td>\n",
       "      <td>“사람의 마음이란.”부교는 커다란 손으로 원을 그리며 말했다.“하나로 통일된 것처럼...</td>\n",
       "      <td>미야베 미유키 시대 소설의 원점을 보여 주는 단편집이다. 이 작품집을 보면 작가 활...</td>\n",
       "      <td>https://www.yes24.com/Product/Goods/6072824</td>\n",
       "    </tr>\n",
       "    <tr>\n",
       "      <td>1665</td>\n",
       "      <td>1751</td>\n",
       "      <td>두 늙은 여자</td>\n",
       "      <td>http://image.yes24.com/goods/60506820/800x0</td>\n",
       "      <td>NaN</td>\n",
       "      <td>이제 다 왔다고 생각했는데... 삶이 두 노인을 배신한다“우리는 나이든 사람들을 두...</td>\n",
       "      <td>https://www.yes24.com/Product/Goods/60506820</td>\n",
       "    </tr>\n",
       "    <tr>\n",
       "      <td>2238</td>\n",
       "      <td>2360</td>\n",
       "      <td>파이브 피트</td>\n",
       "      <td>http://image.yes24.com/goods/71769275/800x0</td>\n",
       "      <td>사실이다. 체험학습이나 햇살이 따사로운 휴가, 또는 학교 행사에 함께할 수 없게 ‘...</td>\n",
       "      <td>당신은 절대 만질 수 없는 사람과 사랑할 수 있나요?-첫눈에 반했지만, 우린 낭포성...</td>\n",
       "      <td>https://www.yes24.com/Product/Goods/71769275</td>\n",
       "    </tr>\n",
       "    <tr>\n",
       "      <td>9</td>\n",
       "      <td>11</td>\n",
       "      <td>경애의 마음</td>\n",
       "      <td>http://image.yes24.com/goods/60894315/800x0</td>\n",
       "      <td>마음을 어떻게 폐기하느냐고 물었지요. 어떻게 하면 그럴 수 있느냐고. (…) 태워주...</td>\n",
       "      <td>2018년 최고의 기대작, 김금희 첫 장편소설당신의 마음은 오늘, 안녕한가요?201...</td>\n",
       "      <td>https://www.yes24.com/Product/Goods/60894315</td>\n",
       "    </tr>\n",
       "    <tr>\n",
       "      <td>3091</td>\n",
       "      <td>3261</td>\n",
       "      <td>짝사랑 탐정 오이카케 히나코</td>\n",
       "      <td>http://image.yes24.com/goods/89524464/800x0</td>\n",
       "      <td>여동생 히나코가 고등학생이라는 감수성 예민한 시기에 접어들었는데도 불구하고 오빠랑 ...</td>\n",
       "      <td>평소에는 열성팬! 사건이 터지면 명탐정! 오이카케 히나코는 상대를 가릴 것 없이 한...</td>\n",
       "      <td>https://www.yes24.com/Product/Goods/89524464</td>\n",
       "    </tr>\n",
       "    <tr>\n",
       "      <td>3568</td>\n",
       "      <td>3760</td>\n",
       "      <td>긴 봄날의 소품</td>\n",
       "      <td>http://image.yes24.com/momo/TopCate1021/MidCat...</td>\n",
       "      <td>“되려고 생각해봤자 세상이 되게 해주지 않는 게 꽤 있겠지?”“그래서 딱하다는 거네...</td>\n",
       "      <td>「이백십일」, 「열흘 밤의 꿈」,「긴 봄날의 소품」, 「유리문 안에서」내면의 고독을...</td>\n",
       "      <td>https://www.yes24.com/Product/Goods/34532920</td>\n",
       "    </tr>\n",
       "    <tr>\n",
       "      <td>2057</td>\n",
       "      <td>2172</td>\n",
       "      <td>리틀 라이프 2</td>\n",
       "      <td>http://image.yes24.com/goods/28995747/800x0</td>\n",
       "      <td>마치 인생이 그에게 용서해달라고 빌고 있는 것 같았다. 그가 인생을 원망하지 않도록...</td>\n",
       "      <td>천 페이지를 압도하는 폭풍 같은 서사2015년 맨부커상 최고의 화제작이 소설을 소개...</td>\n",
       "      <td>https://www.yes24.com/Product/Goods/28995747</td>\n",
       "    </tr>\n",
       "    <tr>\n",
       "      <td>54</td>\n",
       "      <td>58</td>\n",
       "      <td>침이 고인다</td>\n",
       "      <td>http://image.yes24.com/momo/TopCate58/MidCate0...</td>\n",
       "      <td>주머니에 손을 찔러 넣고 복작이는 사람들 사이를 걷다 그런 생각이 들었다. 이 방에...</td>\n",
       "      <td>최연소 한국일보문학상을 수상할 정도로 각종 언론의 관심을 한 몸에 받은 김애란. 그...</td>\n",
       "      <td>https://www.yes24.com/Product/Goods/2697252</td>\n",
       "    </tr>\n",
       "    <tr>\n",
       "      <td>4681</td>\n",
       "      <td>4958</td>\n",
       "      <td>광란자</td>\n",
       "      <td>http://image.yes24.com/momo/TopCate56/MidCate0...</td>\n",
       "      <td>NaN</td>\n",
       "      <td>제제는 학교 가는 길에 친구 따르씨지우를 만나 이런 저런 이야기를 나누다 자신들의 ...</td>\n",
       "      <td>https://www.yes24.com/Product/Goods/2543520</td>\n",
       "    </tr>\n",
       "  </tbody>\n",
       "</table>\n",
       "</div>"
      ],
      "text/plain": [
       "        id            title  \\\n",
       "1959  2067      AFTER 애프터 8   \n",
       "3190  3365            말하는 검   \n",
       "1665  1751          두 늙은 여자   \n",
       "2238  2360           파이브 피트   \n",
       "9       11           경애의 마음   \n",
       "3091  3261  짝사랑 탐정 오이카케 히나코   \n",
       "3568  3760         긴 봄날의 소품   \n",
       "2057  2172         리틀 라이프 2   \n",
       "54      58           침이 고인다   \n",
       "4681  4958              광란자   \n",
       "\n",
       "                                                    img  \\\n",
       "1959        http://image.yes24.com/goods/77985431/800x0   \n",
       "3190  http://image.yes24.com/momo/TopCate159/MidCate...   \n",
       "1665        http://image.yes24.com/goods/60506820/800x0   \n",
       "2238        http://image.yes24.com/goods/71769275/800x0   \n",
       "9           http://image.yes24.com/goods/60894315/800x0   \n",
       "3091        http://image.yes24.com/goods/89524464/800x0   \n",
       "3568  http://image.yes24.com/momo/TopCate1021/MidCat...   \n",
       "2057        http://image.yes24.com/goods/28995747/800x0   \n",
       "54    http://image.yes24.com/momo/TopCate58/MidCate0...   \n",
       "4681  http://image.yes24.com/momo/TopCate56/MidCate0...   \n",
       "\n",
       "                                                   text  \\\n",
       "1959  사랑이 이렇게 아프다는 걸, 내 마음을 갈기갈기 찢어놓는다는 걸 그때도 알았더라면 ...   \n",
       "3190  “사람의 마음이란.”부교는 커다란 손으로 원을 그리며 말했다.“하나로 통일된 것처럼...   \n",
       "1665                                                NaN   \n",
       "2238  사실이다. 체험학습이나 햇살이 따사로운 휴가, 또는 학교 행사에 함께할 수 없게 ‘...   \n",
       "9     마음을 어떻게 폐기하느냐고 물었지요. 어떻게 하면 그럴 수 있느냐고. (…) 태워주...   \n",
       "3091  여동생 히나코가 고등학생이라는 감수성 예민한 시기에 접어들었는데도 불구하고 오빠랑 ...   \n",
       "3568  “되려고 생각해봤자 세상이 되게 해주지 않는 게 꽤 있겠지?”“그래서 딱하다는 거네...   \n",
       "2057  마치 인생이 그에게 용서해달라고 빌고 있는 것 같았다. 그가 인생을 원망하지 않도록...   \n",
       "54    주머니에 손을 찔러 넣고 복작이는 사람들 사이를 걷다 그런 생각이 들었다. 이 방에...   \n",
       "4681                                                NaN   \n",
       "\n",
       "                                            description  \\\n",
       "1959  그 모든 일을 겪은 후의 삶은, 결코 전과 같지 않을 것이다끝났다고 생각했을 때 가...   \n",
       "3190  미야베 미유키 시대 소설의 원점을 보여 주는 단편집이다. 이 작품집을 보면 작가 활...   \n",
       "1665  이제 다 왔다고 생각했는데... 삶이 두 노인을 배신한다“우리는 나이든 사람들을 두...   \n",
       "2238  당신은 절대 만질 수 없는 사람과 사랑할 수 있나요?-첫눈에 반했지만, 우린 낭포성...   \n",
       "9     2018년 최고의 기대작, 김금희 첫 장편소설당신의 마음은 오늘, 안녕한가요?201...   \n",
       "3091  평소에는 열성팬! 사건이 터지면 명탐정! 오이카케 히나코는 상대를 가릴 것 없이 한...   \n",
       "3568  「이백십일」, 「열흘 밤의 꿈」,「긴 봄날의 소품」, 「유리문 안에서」내면의 고독을...   \n",
       "2057  천 페이지를 압도하는 폭풍 같은 서사2015년 맨부커상 최고의 화제작이 소설을 소개...   \n",
       "54    최연소 한국일보문학상을 수상할 정도로 각종 언론의 관심을 한 몸에 받은 김애란. 그...   \n",
       "4681  제제는 학교 가는 길에 친구 따르씨지우를 만나 이런 저런 이야기를 나누다 자신들의 ...   \n",
       "\n",
       "                                               url  \n",
       "1959  https://www.yes24.com/Product/Goods/77985431  \n",
       "3190   https://www.yes24.com/Product/Goods/6072824  \n",
       "1665  https://www.yes24.com/Product/Goods/60506820  \n",
       "2238  https://www.yes24.com/Product/Goods/71769275  \n",
       "9     https://www.yes24.com/Product/Goods/60894315  \n",
       "3091  https://www.yes24.com/Product/Goods/89524464  \n",
       "3568  https://www.yes24.com/Product/Goods/34532920  \n",
       "2057  https://www.yes24.com/Product/Goods/28995747  \n",
       "54     https://www.yes24.com/Product/Goods/2697252  \n",
       "4681   https://www.yes24.com/Product/Goods/2543520  "
      ]
     },
     "execution_count": 645,
     "metadata": {},
     "output_type": "execute_result"
    }
   ],
   "source": [
    "result_list = []\n",
    "for num in sorted_dict[:10]:\n",
    "    result = og_raw_data[og_raw_data['id'] == desc_data.iloc[num[0]]['id']]\n",
    "    result_list.append(result)\n",
    "pd.concat(result_list)"
   ]
  }
 ],
 "metadata": {
  "kernelspec": {
   "display_name": "Python 3",
   "language": "python",
   "name": "python3"
  },
  "language_info": {
   "codemirror_mode": {
    "name": "ipython",
    "version": 3
   },
   "file_extension": ".py",
   "mimetype": "text/x-python",
   "name": "python",
   "nbconvert_exporter": "python",
   "pygments_lexer": "ipython3",
   "version": "3.7.4"
  }
 },
 "nbformat": 4,
 "nbformat_minor": 2
}
