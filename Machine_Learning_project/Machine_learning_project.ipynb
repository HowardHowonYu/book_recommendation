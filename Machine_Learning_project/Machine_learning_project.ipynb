{
 "cells": [
  {
   "cell_type": "code",
   "execution_count": 138,
   "metadata": {
    "ExecuteTime": {
     "end_time": "2020-04-28T06:25:31.436428Z",
     "start_time": "2020-04-28T06:25:31.354939Z"
    }
   },
   "outputs": [],
   "source": [
    "import missingno as msno\n",
    "from tqdm.notebook import tqdm\n",
    "from konlpy import *"
   ]
  },
  {
   "cell_type": "code",
   "execution_count": 2,
   "metadata": {
    "ExecuteTime": {
     "end_time": "2020-04-27T06:29:38.738217Z",
     "start_time": "2020-04-27T06:29:38.368534Z"
    },
    "collapsed": true
   },
   "outputs": [
    {
     "name": "stderr",
     "output_type": "stream",
     "text": [
      "b'Skipping line 16: expected 6 fields, saw 10\\nSkipping line 19: expected 6 fields, saw 10\\nSkipping line 20: expected 6 fields, saw 9\\nSkipping line 73: expected 6 fields, saw 14\\nSkipping line 149: expected 6 fields, saw 11\\nSkipping line 150: expected 6 fields, saw 10\\nSkipping line 165: expected 6 fields, saw 16\\nSkipping line 167: expected 6 fields, saw 23\\nSkipping line 198: expected 6 fields, saw 13\\nSkipping line 208: expected 6 fields, saw 48\\nSkipping line 239: expected 6 fields, saw 11\\nSkipping line 260: expected 6 fields, saw 12\\nSkipping line 327: expected 6 fields, saw 14\\nSkipping line 347: expected 6 fields, saw 14\\nSkipping line 354: expected 6 fields, saw 26\\nSkipping line 399: expected 6 fields, saw 9\\nSkipping line 405: expected 6 fields, saw 7\\nSkipping line 442: expected 6 fields, saw 28\\nSkipping line 468: expected 6 fields, saw 16\\nSkipping line 488: expected 6 fields, saw 30\\nSkipping line 501: expected 6 fields, saw 34\\nSkipping line 511: expected 6 fields, saw 24\\nSkipping line 523: expected 6 fields, saw 10\\nSkipping line 533: expected 6 fields, saw 7\\nSkipping line 552: expected 6 fields, saw 21\\nSkipping line 560: expected 6 fields, saw 30\\nSkipping line 563: expected 6 fields, saw 8\\nSkipping line 583: expected 6 fields, saw 24\\nSkipping line 593: expected 6 fields, saw 16\\nSkipping line 613: expected 6 fields, saw 16\\nSkipping line 622: expected 6 fields, saw 10\\nSkipping line 653: expected 6 fields, saw 16\\nSkipping line 659: expected 6 fields, saw 49\\nSkipping line 663: expected 6 fields, saw 14\\nSkipping line 677: expected 6 fields, saw 7\\nSkipping line 681: expected 6 fields, saw 12\\nSkipping line 689: expected 6 fields, saw 9\\nSkipping line 730: expected 6 fields, saw 10\\nSkipping line 750: expected 6 fields, saw 8\\nSkipping line 791: expected 6 fields, saw 36\\nSkipping line 793: expected 6 fields, saw 22\\nSkipping line 797: expected 6 fields, saw 85\\nSkipping line 798: expected 6 fields, saw 14\\nSkipping line 799: expected 6 fields, saw 10\\nSkipping line 826: expected 6 fields, saw 18\\nSkipping line 874: expected 6 fields, saw 10\\nSkipping line 887: expected 6 fields, saw 9\\nSkipping line 902: expected 6 fields, saw 10\\nSkipping line 937: expected 6 fields, saw 8\\nSkipping line 939: expected 6 fields, saw 14\\nSkipping line 943: expected 6 fields, saw 10\\nSkipping line 974: expected 6 fields, saw 15\\nSkipping line 977: expected 6 fields, saw 18\\nSkipping line 983: expected 6 fields, saw 19\\nSkipping line 1000: expected 6 fields, saw 16\\nSkipping line 1023: expected 6 fields, saw 8\\nSkipping line 1025: expected 6 fields, saw 8\\nSkipping line 1036: expected 6 fields, saw 14\\nSkipping line 1037: expected 6 fields, saw 22\\nSkipping line 1061: expected 6 fields, saw 8\\nSkipping line 1085: expected 6 fields, saw 20\\nSkipping line 1099: expected 6 fields, saw 12\\nSkipping line 1101: expected 6 fields, saw 14\\nSkipping line 1104: expected 6 fields, saw 22\\nSkipping line 1115: expected 6 fields, saw 9\\nSkipping line 1116: expected 6 fields, saw 38\\nSkipping line 1132: expected 6 fields, saw 10\\nSkipping line 1136: expected 6 fields, saw 8\\nSkipping line 1137: expected 6 fields, saw 12\\nSkipping line 1141: expected 6 fields, saw 7\\nSkipping line 1143: expected 6 fields, saw 8\\nSkipping line 1156: expected 6 fields, saw 16\\nSkipping line 1179: expected 6 fields, saw 10\\nSkipping line 1340: expected 6 fields, saw 14\\nSkipping line 1363: expected 6 fields, saw 30\\nSkipping line 1383: expected 6 fields, saw 12\\nSkipping line 1388: expected 6 fields, saw 8\\nSkipping line 1480: expected 6 fields, saw 13\\nSkipping line 1483: expected 6 fields, saw 48\\nSkipping line 1494: expected 6 fields, saw 10\\nSkipping line 1530: expected 6 fields, saw 10\\nSkipping line 1533: expected 6 fields, saw 11\\nSkipping line 1550: expected 6 fields, saw 16\\nSkipping line 1555: expected 6 fields, saw 23\\nSkipping line 1570: expected 6 fields, saw 34\\nSkipping line 1603: expected 6 fields, saw 29\\nSkipping line 1608: expected 6 fields, saw 12\\nSkipping line 1610: expected 6 fields, saw 10\\nSkipping line 1627: expected 6 fields, saw 9\\nSkipping line 1628: expected 6 fields, saw 10\\nSkipping line 1629: expected 6 fields, saw 10\\nSkipping line 1650: expected 6 fields, saw 20\\nSkipping line 1664: expected 6 fields, saw 14\\nSkipping line 1692: expected 6 fields, saw 10\\nSkipping line 1721: expected 6 fields, saw 11\\nSkipping line 1724: expected 6 fields, saw 12\\nSkipping line 1763: expected 6 fields, saw 10\\nSkipping line 1791: expected 6 fields, saw 8\\nSkipping line 1807: expected 6 fields, saw 8\\nSkipping line 1818: expected 6 fields, saw 9\\nSkipping line 1826: expected 6 fields, saw 7\\nSkipping line 1922: expected 6 fields, saw 22\\nSkipping line 1953: expected 6 fields, saw 8\\nSkipping line 1958: expected 6 fields, saw 52\\nSkipping line 1993: expected 6 fields, saw 18\\nSkipping line 2000: expected 6 fields, saw 10\\nSkipping line 2052: expected 6 fields, saw 14\\nSkipping line 2059: expected 6 fields, saw 26\\nSkipping line 2073: expected 6 fields, saw 16\\nSkipping line 2080: expected 6 fields, saw 8\\nSkipping line 2081: expected 6 fields, saw 31\\nSkipping line 2084: expected 6 fields, saw 8\\nSkipping line 2085: expected 6 fields, saw 8\\nSkipping line 2095: expected 6 fields, saw 30\\nSkipping line 2098: expected 6 fields, saw 28\\nSkipping line 2109: expected 6 fields, saw 18\\nSkipping line 2176: expected 6 fields, saw 37\\nSkipping line 2213: expected 6 fields, saw 42\\nSkipping line 2301: expected 6 fields, saw 66\\nSkipping line 2337: expected 6 fields, saw 11\\nSkipping line 2361: expected 6 fields, saw 37\\nSkipping line 2371: expected 6 fields, saw 28\\nSkipping line 2383: expected 6 fields, saw 10\\nSkipping line 2402: expected 6 fields, saw 18\\nSkipping line 2446: expected 6 fields, saw 28\\nSkipping line 2456: expected 6 fields, saw 10\\nSkipping line 2460: expected 6 fields, saw 8\\nSkipping line 2461: expected 6 fields, saw 62\\nSkipping line 2466: expected 6 fields, saw 8\\nSkipping line 2495: expected 6 fields, saw 8\\nSkipping line 2497: expected 6 fields, saw 15\\nSkipping line 2507: expected 6 fields, saw 18\\nSkipping line 2515: expected 6 fields, saw 10\\nSkipping line 2522: expected 6 fields, saw 11\\nSkipping line 2580: expected 6 fields, saw 14\\nSkipping line 2598: expected 6 fields, saw 15\\nSkipping line 2699: expected 6 fields, saw 8\\nSkipping line 2741: expected 6 fields, saw 22\\nSkipping line 2742: expected 6 fields, saw 22\\nSkipping line 2745: expected 6 fields, saw 16\\nSkipping line 2753: expected 6 fields, saw 22\\nSkipping line 2777: expected 6 fields, saw 8\\nSkipping line 2913: expected 6 fields, saw 50\\nSkipping line 2928: expected 6 fields, saw 22\\nSkipping line 2969: expected 6 fields, saw 32\\nSkipping line 3045: expected 6 fields, saw 22\\nSkipping line 3071: expected 6 fields, saw 72\\nSkipping line 3140: expected 6 fields, saw 12\\nSkipping line 3143: expected 6 fields, saw 8\\nSkipping line 3187: expected 6 fields, saw 12\\nSkipping line 3197: expected 6 fields, saw 31\\nSkipping line 3211: expected 6 fields, saw 7\\nSkipping line 3244: expected 6 fields, saw 35\\nSkipping line 3287: expected 6 fields, saw 8\\nSkipping line 3288: expected 6 fields, saw 8\\nSkipping line 3297: expected 6 fields, saw 22\\nSkipping line 3298: expected 6 fields, saw 22\\nSkipping line 3299: expected 6 fields, saw 22\\nSkipping line 3300: expected 6 fields, saw 8\\nSkipping line 3302: expected 6 fields, saw 22\\nSkipping line 3315: expected 6 fields, saw 62\\nSkipping line 3351: expected 6 fields, saw 10\\nSkipping line 3362: expected 6 fields, saw 9\\nSkipping line 3364: expected 6 fields, saw 7\\nSkipping line 3372: expected 6 fields, saw 22\\nSkipping line 3466: expected 6 fields, saw 22\\nSkipping line 3470: expected 6 fields, saw 22\\nSkipping line 3482: expected 6 fields, saw 9\\nSkipping line 3535: expected 6 fields, saw 26\\nSkipping line 3539: expected 6 fields, saw 41\\nSkipping line 3543: expected 6 fields, saw 8\\nSkipping line 3547: expected 6 fields, saw 8\\nSkipping line 3592: expected 6 fields, saw 9\\nSkipping line 3723: expected 6 fields, saw 8\\nSkipping line 3760: expected 6 fields, saw 67\\nSkipping line 3890: expected 6 fields, saw 43\\nSkipping line 3898: expected 6 fields, saw 48\\nSkipping line 3912: expected 6 fields, saw 17\\nSkipping line 3978: expected 6 fields, saw 80\\nSkipping line 4155: expected 6 fields, saw 8\\nSkipping line 4163: expected 6 fields, saw 14\\nSkipping line 4206: expected 6 fields, saw 10\\nSkipping line 4258: expected 6 fields, saw 12\\nSkipping line 4263: expected 6 fields, saw 7\\nSkipping line 4278: expected 6 fields, saw 10\\nSkipping line 4295: expected 6 fields, saw 29\\nSkipping line 4343: expected 6 fields, saw 8\\nSkipping line 4404: expected 6 fields, saw 7\\nSkipping line 4425: expected 6 fields, saw 8\\nSkipping line 4538: expected 6 fields, saw 23\\nSkipping line 4542: expected 6 fields, saw 7\\nSkipping line 4594: expected 6 fields, saw 7\\nSkipping line 4602: expected 6 fields, saw 83\\nSkipping line 4613: expected 6 fields, saw 16\\nSkipping line 4628: expected 6 fields, saw 17\\nSkipping line 4629: expected 6 fields, saw 7\\nSkipping line 4643: expected 6 fields, saw 8\\nSkipping line 4644: expected 6 fields, saw 8\\nSkipping line 4645: expected 6 fields, saw 8\\nSkipping line 4652: expected 6 fields, saw 12\\nSkipping line 4658: expected 6 fields, saw 12\\nSkipping line 4660: expected 6 fields, saw 42\\nSkipping line 4670: expected 6 fields, saw 16\\nSkipping line 4685: expected 6 fields, saw 19\\nSkipping line 4689: expected 6 fields, saw 12\\nSkipping line 4690: expected 6 fields, saw 20\\nSkipping line 4698: expected 6 fields, saw 8\\nSkipping line 4727: expected 6 fields, saw 7\\nSkipping line 4728: expected 6 fields, saw 7\\nSkipping line 4767: expected 6 fields, saw 14\\nSkipping line 4783: expected 6 fields, saw 11\\nSkipping line 4784: expected 6 fields, saw 13\\nSkipping line 4799: expected 6 fields, saw 9\\nSkipping line 4872: expected 6 fields, saw 14\\nSkipping line 4884: expected 6 fields, saw 14\\nSkipping line 4890: expected 6 fields, saw 7\\nSkipping line 4893: expected 6 fields, saw 12\\nSkipping line 4932: expected 6 fields, saw 8\\nSkipping line 4960: expected 6 fields, saw 14\\nSkipping line 4963: expected 6 fields, saw 26\\nSkipping line 4965: expected 6 fields, saw 18\\nSkipping line 4967: expected 6 fields, saw 57\\nSkipping line 4973: expected 6 fields, saw 10\\nSkipping line 5012: expected 6 fields, saw 30\\nSkipping line 5024: expected 6 fields, saw 20\\nSkipping line 5245: expected 6 fields, saw 10\\nSkipping line 5256: expected 6 fields, saw 9\\nSkipping line 5322: expected 6 fields, saw 26\\nSkipping line 5359: expected 6 fields, saw 11\\nSkipping line 5361: expected 6 fields, saw 20\\nSkipping line 5478: expected 6 fields, saw 8\\nSkipping line 5608: expected 6 fields, saw 66\\nSkipping line 5619: expected 6 fields, saw 26\\nSkipping line 5719: expected 6 fields, saw 25\\nSkipping line 5795: expected 6 fields, saw 10\\nSkipping line 5838: expected 6 fields, saw 13\\nSkipping line 5883: expected 6 fields, saw 28\\nSkipping line 5914: expected 6 fields, saw 7\\nSkipping line 5935: expected 6 fields, saw 7\\nSkipping line 5954: expected 6 fields, saw 7\\nSkipping line 6074: expected 6 fields, saw 37\\nSkipping line 6143: expected 6 fields, saw 10\\nSkipping line 6195: expected 6 fields, saw 8\\nSkipping line 6199: expected 6 fields, saw 10\\nSkipping line 6274: expected 6 fields, saw 12\\nSkipping line 6276: expected 6 fields, saw 108\\nSkipping line 6388: expected 6 fields, saw 16\\nSkipping line 6394: expected 6 fields, saw 19\\nSkipping line 6546: expected 6 fields, saw 22\\nSkipping line 6566: expected 6 fields, saw 7\\nSkipping line 6579: expected 6 fields, saw 7\\nSkipping line 6592: expected 6 fields, saw 9\\nSkipping line 6616: expected 6 fields, saw 18\\nSkipping line 6697: expected 6 fields, saw 12\\nSkipping line 6702: expected 6 fields, saw 14\\nSkipping line 6712: expected 6 fields, saw 12\\nSkipping line 6734: expected 6 fields, saw 12\\nSkipping line 6777: expected 6 fields, saw 20\\nSkipping line 6793: expected 6 fields, saw 8\\nSkipping line 6869: expected 6 fields, saw 9\\nSkipping line 6885: expected 6 fields, saw 9\\nSkipping line 6943: expected 6 fields, saw 8\\nSkipping line 6947: expected 6 fields, saw 8\\nSkipping line 6998: expected 6 fields, saw 21\\nSkipping line 7003: expected 6 fields, saw 21\\nSkipping line 7020: expected 6 fields, saw 11\\nSkipping line 7030: expected 6 fields, saw 10\\nSkipping line 7032: expected 6 fields, saw 20\\nSkipping line 7055: expected 6 fields, saw 14\\nSkipping line 7071: expected 6 fields, saw 26\\nSkipping line 7085: expected 6 fields, saw 26\\nSkipping line 7086: expected 6 fields, saw 15\\nSkipping line 7159: expected 6 fields, saw 44\\nSkipping line 7169: expected 6 fields, saw 28\\nSkipping line 7278: expected 6 fields, saw 14\\nSkipping line 7310: expected 6 fields, saw 8\\nSkipping line 7333: expected 6 fields, saw 8\\nSkipping line 7344: expected 6 fields, saw 8\\nSkipping line 7346: expected 6 fields, saw 8\\nSkipping line 7365: expected 6 fields, saw 8\\nSkipping line 7393: expected 6 fields, saw 11\\nSkipping line 7406: expected 6 fields, saw 15\\nSkipping line 7411: expected 6 fields, saw 8\\nSkipping line 7416: expected 6 fields, saw 14\\nSkipping line 7432: expected 6 fields, saw 8\\nSkipping line 7495: expected 6 fields, saw 9\\nSkipping line 7510: expected 6 fields, saw 23\\nSkipping line 7527: expected 6 fields, saw 16\\nSkipping line 7574: expected 6 fields, saw 8\\nSkipping line 7588: expected 6 fields, saw 15\\nSkipping line 7596: expected 6 fields, saw 19\\nSkipping line 7614: expected 6 fields, saw 9\\nSkipping line 7615: expected 6 fields, saw 36\\nSkipping line 7620: expected 6 fields, saw 20\\nSkipping line 7667: expected 6 fields, saw 18\\nSkipping line 7678: expected 6 fields, saw 8\\nSkipping line 7689: expected 6 fields, saw 34\\nSkipping line 7696: expected 6 fields, saw 12\\nSkipping line 7705: expected 6 fields, saw 9\\nSkipping line 7750: expected 6 fields, saw 23\\nSkipping line 7805: expected 6 fields, saw 9\\nSkipping line 7811: expected 6 fields, saw 8\\nSkipping line 7816: expected 6 fields, saw 14\\nSkipping line 7824: expected 6 fields, saw 8\\nSkipping line 7825: expected 6 fields, saw 8\\nSkipping line 7831: expected 6 fields, saw 8\\nSkipping line 7839: expected 6 fields, saw 8\\nSkipping line 7859: expected 6 fields, saw 16\\nSkipping line 7865: expected 6 fields, saw 34\\nSkipping line 7887: expected 6 fields, saw 16\\nSkipping line 7897: expected 6 fields, saw 17\\nSkipping line 7906: expected 6 fields, saw 12\\nSkipping line 7926: expected 6 fields, saw 24\\nSkipping line 7947: expected 6 fields, saw 28\\nSkipping line 7975: expected 6 fields, saw 8\\nSkipping line 7993: expected 6 fields, saw 22\\nSkipping line 8067: expected 6 fields, saw 58\\nSkipping line 8086: expected 6 fields, saw 13\\nSkipping line 8096: expected 6 fields, saw 11\\nSkipping line 8193: expected 6 fields, saw 8\\nSkipping line 8229: expected 6 fields, saw 29\\nSkipping line 8313: expected 6 fields, saw 20\\nSkipping line 8318: expected 6 fields, saw 13\\nSkipping line 8342: expected 6 fields, saw 24\\nSkipping line 8412: expected 6 fields, saw 24\\nSkipping line 8450: expected 6 fields, saw 32\\nSkipping line 8479: expected 6 fields, saw 8\\nSkipping line 8481: expected 6 fields, saw 8\\nSkipping line 8482: expected 6 fields, saw 7\\nSkipping line 8490: expected 6 fields, saw 39\\nSkipping line 8527: expected 6 fields, saw 11\\nSkipping line 8538: expected 6 fields, saw 10\\nSkipping line 8546: expected 6 fields, saw 22\\nSkipping line 8549: expected 6 fields, saw 14\\nSkipping line 8557: expected 6 fields, saw 10\\nSkipping line 8587: expected 6 fields, saw 11\\nSkipping line 8599: expected 6 fields, saw 9\\nSkipping line 8601: expected 6 fields, saw 9\\nSkipping line 8626: expected 6 fields, saw 9\\nSkipping line 8635: expected 6 fields, saw 10\\nSkipping line 8647: expected 6 fields, saw 17\\nSkipping line 8704: expected 6 fields, saw 7\\nSkipping line 8720: expected 6 fields, saw 18\\nSkipping line 8775: expected 6 fields, saw 14\\nSkipping line 8776: expected 6 fields, saw 10\\nSkipping line 8779: expected 6 fields, saw 11\\nSkipping line 8785: expected 6 fields, saw 9\\nSkipping line 8796: expected 6 fields, saw 9\\nSkipping line 8811: expected 6 fields, saw 10\\nSkipping line 8819: expected 6 fields, saw 7\\nSkipping line 8842: expected 6 fields, saw 53\\nSkipping line 8843: expected 6 fields, saw 24\\nSkipping line 8863: expected 6 fields, saw 10\\nSkipping line 8938: expected 6 fields, saw 9\\nSkipping line 8953: expected 6 fields, saw 12\\nSkipping line 8960: expected 6 fields, saw 20\\nSkipping line 8971: expected 6 fields, saw 12\\nSkipping line 9052: expected 6 fields, saw 10\\nSkipping line 9058: expected 6 fields, saw 14\\nSkipping line 9097: expected 6 fields, saw 8\\nSkipping line 9111: expected 6 fields, saw 12\\nSkipping line 9114: expected 6 fields, saw 14\\nSkipping line 9119: expected 6 fields, saw 12\\nSkipping line 9133: expected 6 fields, saw 12\\nSkipping line 9163: expected 6 fields, saw 20\\nSkipping line 9164: expected 6 fields, saw 24\\nSkipping line 9185: expected 6 fields, saw 54\\nSkipping line 9215: expected 6 fields, saw 10\\nSkipping line 9218: expected 6 fields, saw 7\\nSkipping line 9220: expected 6 fields, saw 8\\nSkipping line 9233: expected 6 fields, saw 36\\nSkipping line 9241: expected 6 fields, saw 14\\nSkipping line 9251: expected 6 fields, saw 20\\nSkipping line 9264: expected 6 fields, saw 10\\nSkipping line 9268: expected 6 fields, saw 8\\nSkipping line 9270: expected 6 fields, saw 7\\nSkipping line 9274: expected 6 fields, saw 7\\nSkipping line 9279: expected 6 fields, saw 10\\nSkipping line 9282: expected 6 fields, saw 32\\nSkipping line 9293: expected 6 fields, saw 14\\nSkipping line 9299: expected 6 fields, saw 14\\nSkipping line 9301: expected 6 fields, saw 46\\nSkipping line 9305: expected 6 fields, saw 8\\nSkipping line 9312: expected 6 fields, saw 18\\nSkipping line 9315: expected 6 fields, saw 18\\nSkipping line 9329: expected 6 fields, saw 14\\nSkipping line 9332: expected 6 fields, saw 10\\nSkipping line 9335: expected 6 fields, saw 56\\nSkipping line 9337: expected 6 fields, saw 16\\nSkipping line 9338: expected 6 fields, saw 22\\nSkipping line 9342: expected 6 fields, saw 42\\nSkipping line 9343: expected 6 fields, saw 10\\nSkipping line 9349: expected 6 fields, saw 27\\nSkipping line 9354: expected 6 fields, saw 114\\nSkipping line 9360: expected 6 fields, saw 22\\nSkipping line 9362: expected 6 fields, saw 16\\nSkipping line 9376: expected 6 fields, saw 8\\nSkipping line 9402: expected 6 fields, saw 40\\nSkipping line 9405: expected 6 fields, saw 12\\nSkipping line 9428: expected 6 fields, saw 30\\nSkipping line 9429: expected 6 fields, saw 14\\nSkipping line 9431: expected 6 fields, saw 18\\nSkipping line 9433: expected 6 fields, saw 18\\nSkipping line 9451: expected 6 fields, saw 26\\nSkipping line 9465: expected 6 fields, saw 8\\nSkipping line 9466: expected 6 fields, saw 7\\nSkipping line 9477: expected 6 fields, saw 26\\nSkipping line 9479: expected 6 fields, saw 26\\nSkipping line 9484: expected 6 fields, saw 22\\nSkipping line 9488: expected 6 fields, saw 42\\nSkipping line 9490: expected 6 fields, saw 14\\nSkipping line 9492: expected 6 fields, saw 10\\nSkipping line 9494: expected 6 fields, saw 16\\nSkipping line 9497: expected 6 fields, saw 18\\nSkipping line 9500: expected 6 fields, saw 48\\nSkipping line 9501: expected 6 fields, saw 10\\nSkipping line 9506: expected 6 fields, saw 19\\nSkipping line 9515: expected 6 fields, saw 10\\nSkipping line 9531: expected 6 fields, saw 7\\nSkipping line 9618: expected 6 fields, saw 26\\nSkipping line 9778: expected 6 fields, saw 12\\nSkipping line 9780: expected 6 fields, saw 26\\nSkipping line 9789: expected 6 fields, saw 24\\nSkipping line 9835: expected 6 fields, saw 11\\nSkipping line 9948: expected 6 fields, saw 66\\nSkipping line 9951: expected 6 fields, saw 8\\nSkipping line 9965: expected 6 fields, saw 70\\nSkipping line 10036: expected 6 fields, saw 10\\nSkipping line 10042: expected 6 fields, saw 18\\nSkipping line 10059: expected 6 fields, saw 23\\nSkipping line 10063: expected 6 fields, saw 11\\nSkipping line 10069: expected 6 fields, saw 8\\n'\n"
     ]
    }
   ],
   "source": [
    "og_raw_data = pd.read_csv('./bookcontents2.csv',error_bad_lines=False)"
   ]
  },
  {
   "cell_type": "code",
   "execution_count": 2,
   "metadata": {
    "ExecuteTime": {
     "end_time": "2020-04-28T05:40:35.556068Z",
     "start_time": "2020-04-28T05:40:35.318327Z"
    },
    "collapsed": true
   },
   "outputs": [
    {
     "name": "stderr",
     "output_type": "stream",
     "text": [
      "b'Skipping line 6: expected 6 fields, saw 8\\nSkipping line 14: expected 6 fields, saw 30\\nSkipping line 24: expected 6 fields, saw 9\\nSkipping line 64: expected 6 fields, saw 12\\nSkipping line 69: expected 6 fields, saw 18\\nSkipping line 71: expected 6 fields, saw 15\\nSkipping line 149: expected 6 fields, saw 20\\nSkipping line 177: expected 6 fields, saw 14\\nSkipping line 194: expected 6 fields, saw 8\\nSkipping line 227: expected 6 fields, saw 14\\nSkipping line 236: expected 6 fields, saw 14\\nSkipping line 239: expected 6 fields, saw 22\\nSkipping line 244: expected 6 fields, saw 10\\nSkipping line 262: expected 6 fields, saw 16\\nSkipping line 295: expected 6 fields, saw 8\\nSkipping line 298: expected 6 fields, saw 7\\nSkipping line 312: expected 6 fields, saw 14\\nSkipping line 356: expected 6 fields, saw 19\\nSkipping line 368: expected 6 fields, saw 22\\nSkipping line 560: expected 6 fields, saw 10\\nSkipping line 622: expected 6 fields, saw 54\\nSkipping line 643: expected 6 fields, saw 10\\nSkipping line 656: expected 6 fields, saw 14\\nSkipping line 674: expected 6 fields, saw 8\\nSkipping line 677: expected 6 fields, saw 8\\nSkipping line 701: expected 6 fields, saw 7\\nSkipping line 723: expected 6 fields, saw 26\\nSkipping line 724: expected 6 fields, saw 18\\nSkipping line 734: expected 6 fields, saw 14\\nSkipping line 807: expected 6 fields, saw 22\\nSkipping line 817: expected 6 fields, saw 37\\nSkipping line 827: expected 6 fields, saw 16\\nSkipping line 833: expected 6 fields, saw 10\\nSkipping line 892: expected 6 fields, saw 12\\nSkipping line 924: expected 6 fields, saw 21\\nSkipping line 926: expected 6 fields, saw 11\\nSkipping line 937: expected 6 fields, saw 21\\nSkipping line 1018: expected 6 fields, saw 8\\nSkipping line 1053: expected 6 fields, saw 16\\nSkipping line 1079: expected 6 fields, saw 83\\nSkipping line 1081: expected 6 fields, saw 10\\nSkipping line 1119: expected 6 fields, saw 17\\nSkipping line 1122: expected 6 fields, saw 24\\nSkipping line 1129: expected 6 fields, saw 8\\nSkipping line 1167: expected 6 fields, saw 13\\nSkipping line 1173: expected 6 fields, saw 36\\nSkipping line 1175: expected 6 fields, saw 12\\nSkipping line 1182: expected 6 fields, saw 58\\nSkipping line 1198: expected 6 fields, saw 13\\nSkipping line 1210: expected 6 fields, saw 29\\nSkipping line 1236: expected 6 fields, saw 9\\nSkipping line 1269: expected 6 fields, saw 16\\nSkipping line 1275: expected 6 fields, saw 27\\nSkipping line 1282: expected 6 fields, saw 22\\nSkipping line 1310: expected 6 fields, saw 12\\nSkipping line 1312: expected 6 fields, saw 20\\nSkipping line 1318: expected 6 fields, saw 26\\nSkipping line 1320: expected 6 fields, saw 22\\nSkipping line 1321: expected 6 fields, saw 18\\nSkipping line 1326: expected 6 fields, saw 10\\nSkipping line 1334: expected 6 fields, saw 10\\nSkipping line 1335: expected 6 fields, saw 18\\nSkipping line 1369: expected 6 fields, saw 16\\nSkipping line 1386: expected 6 fields, saw 12\\nSkipping line 1388: expected 6 fields, saw 20\\nSkipping line 1391: expected 6 fields, saw 32\\nSkipping line 1398: expected 6 fields, saw 30\\nSkipping line 1406: expected 6 fields, saw 24\\nSkipping line 1416: expected 6 fields, saw 14\\nSkipping line 1418: expected 6 fields, saw 16\\nSkipping line 1465: expected 6 fields, saw 11\\nSkipping line 1482: expected 6 fields, saw 16\\nSkipping line 1487: expected 6 fields, saw 8\\nSkipping line 1494: expected 6 fields, saw 8\\nSkipping line 1500: expected 6 fields, saw 12\\nSkipping line 1513: expected 6 fields, saw 10\\nSkipping line 1519: expected 6 fields, saw 30\\nSkipping line 1525: expected 6 fields, saw 24\\nSkipping line 1579: expected 6 fields, saw 18\\nSkipping line 1605: expected 6 fields, saw 10\\nSkipping line 1617: expected 6 fields, saw 9\\nSkipping line 1628: expected 6 fields, saw 11\\nSkipping line 1698: expected 6 fields, saw 30\\nSkipping line 1699: expected 6 fields, saw 16\\nSkipping line 1719: expected 6 fields, saw 9\\nSkipping line 1761: expected 6 fields, saw 14\\nSkipping line 1764: expected 6 fields, saw 31\\nSkipping line 1770: expected 6 fields, saw 8\\nSkipping line 1782: expected 6 fields, saw 52\\nSkipping line 1785: expected 6 fields, saw 13\\nSkipping line 1795: expected 6 fields, saw 26\\nSkipping line 1807: expected 6 fields, saw 8\\nSkipping line 1814: expected 6 fields, saw 14\\nSkipping line 1844: expected 6 fields, saw 34\\nSkipping line 1857: expected 6 fields, saw 29\\nSkipping line 1884: expected 6 fields, saw 48\\nSkipping line 1901: expected 6 fields, saw 22\\nSkipping line 1906: expected 6 fields, saw 10\\nSkipping line 1957: expected 6 fields, saw 10\\nSkipping line 1959: expected 6 fields, saw 14\\nSkipping line 1962: expected 6 fields, saw 26\\nSkipping line 1989: expected 6 fields, saw 67\\nSkipping line 1991: expected 6 fields, saw 14\\nSkipping line 2004: expected 6 fields, saw 26\\nSkipping line 2008: expected 6 fields, saw 12\\nSkipping line 2015: expected 6 fields, saw 8\\nSkipping line 2065: expected 6 fields, saw 62\\nSkipping line 2114: expected 6 fields, saw 12\\nSkipping line 2126: expected 6 fields, saw 31\\nSkipping line 2134: expected 6 fields, saw 10\\nSkipping line 2150: expected 6 fields, saw 22\\nSkipping line 2151: expected 6 fields, saw 14\\nSkipping line 2152: expected 6 fields, saw 12\\nSkipping line 2170: expected 6 fields, saw 12\\nSkipping line 2191: expected 6 fields, saw 9\\nSkipping line 2203: expected 6 fields, saw 22\\nSkipping line 2251: expected 6 fields, saw 16\\nSkipping line 2254: expected 6 fields, saw 20\\nSkipping line 2257: expected 6 fields, saw 8\\nSkipping line 2280: expected 6 fields, saw 12\\nSkipping line 2354: expected 6 fields, saw 28\\nSkipping line 2396: expected 6 fields, saw 80\\nSkipping line 2414: expected 6 fields, saw 12\\nSkipping line 2466: expected 6 fields, saw 17\\nSkipping line 2509: expected 6 fields, saw 13\\nSkipping line 2522: expected 6 fields, saw 26\\nSkipping line 2553: expected 6 fields, saw 7\\nSkipping line 2570: expected 6 fields, saw 12\\nSkipping line 2596: expected 6 fields, saw 16\\nSkipping line 2599: expected 6 fields, saw 24\\nSkipping line 2619: expected 6 fields, saw 15\\nSkipping line 2620: expected 6 fields, saw 8\\nSkipping line 2648: expected 6 fields, saw 29\\nSkipping line 2677: expected 6 fields, saw 24\\nSkipping line 2680: expected 6 fields, saw 17\\nSkipping line 2699: expected 6 fields, saw 34\\nSkipping line 2711: expected 6 fields, saw 23\\nSkipping line 2748: expected 6 fields, saw 8\\nSkipping line 2749: expected 6 fields, saw 11\\nSkipping line 2767: expected 6 fields, saw 18\\nSkipping line 2770: expected 6 fields, saw 7\\nSkipping line 2790: expected 6 fields, saw 53\\nSkipping line 2819: expected 6 fields, saw 28\\nSkipping line 2820: expected 6 fields, saw 9\\nSkipping line 2828: expected 6 fields, saw 10\\nSkipping line 2850: expected 6 fields, saw 30\\nSkipping line 2851: expected 6 fields, saw 18\\nSkipping line 2855: expected 6 fields, saw 18\\nSkipping line 2868: expected 6 fields, saw 54\\nSkipping line 2875: expected 6 fields, saw 10\\nSkipping line 2878: expected 6 fields, saw 20\\nSkipping line 2891: expected 6 fields, saw 26\\nSkipping line 2907: expected 6 fields, saw 17\\nSkipping line 2915: expected 6 fields, saw 18\\nSkipping line 2918: expected 6 fields, saw 10\\nSkipping line 2941: expected 6 fields, saw 14\\nSkipping line 2957: expected 6 fields, saw 40\\nSkipping line 2958: expected 6 fields, saw 12\\nSkipping line 2965: expected 6 fields, saw 42\\nSkipping line 2981: expected 6 fields, saw 8\\nSkipping line 3009: expected 6 fields, saw 9\\nSkipping line 3018: expected 6 fields, saw 9\\nSkipping line 3040: expected 6 fields, saw 18\\nSkipping line 3077: expected 6 fields, saw 9\\nSkipping line 3078: expected 6 fields, saw 10\\nSkipping line 3085: expected 6 fields, saw 8\\nSkipping line 3199: expected 6 fields, saw 10\\nSkipping line 3221: expected 6 fields, saw 12\\nSkipping line 3231: expected 6 fields, saw 17\\nSkipping line 3285: expected 6 fields, saw 9\\nSkipping line 3299: expected 6 fields, saw 10\\nSkipping line 3304: expected 6 fields, saw 19\\nSkipping line 3307: expected 6 fields, saw 20\\nSkipping line 3326: expected 6 fields, saw 18\\nSkipping line 3373: expected 6 fields, saw 43\\nSkipping line 3413: expected 6 fields, saw 62\\nSkipping line 3425: expected 6 fields, saw 8\\nSkipping line 3481: expected 6 fields, saw 10\\nSkipping line 3519: expected 6 fields, saw 42\\nSkipping line 3552: expected 6 fields, saw 20\\nSkipping line 3557: expected 6 fields, saw 36\\nSkipping line 3560: expected 6 fields, saw 10\\nSkipping line 3564: expected 6 fields, saw 8\\nSkipping line 3567: expected 6 fields, saw 18\\nSkipping line 3568: expected 6 fields, saw 114\\nSkipping line 3570: expected 6 fields, saw 12\\nSkipping line 3571: expected 6 fields, saw 23\\nSkipping line 3631: expected 6 fields, saw 22\\nSkipping line 3679: expected 6 fields, saw 39\\nSkipping line 3696: expected 6 fields, saw 14\\nSkipping line 3709: expected 6 fields, saw 20\\nSkipping line 3775: expected 6 fields, saw 32\\nSkipping line 3793: expected 6 fields, saw 19\\nSkipping line 3796: expected 6 fields, saw 10\\nSkipping line 3817: expected 6 fields, saw 14\\nSkipping line 3833: expected 6 fields, saw 30\\nSkipping line 3839: expected 6 fields, saw 7\\nSkipping line 3851: expected 6 fields, saw 48\\nSkipping line 3903: expected 6 fields, saw 8\\nSkipping line 3908: expected 6 fields, saw 22\\nSkipping line 3919: expected 6 fields, saw 16\\nSkipping line 3947: expected 6 fields, saw 24\\nSkipping line 3954: expected 6 fields, saw 85\\nSkipping line 3968: expected 6 fields, saw 44\\nSkipping line 4001: expected 6 fields, saw 14\\nSkipping line 4029: expected 6 fields, saw 8\\nSkipping line 4077: expected 6 fields, saw 8\\nSkipping line 4095: expected 6 fields, saw 20\\nSkipping line 4131: expected 6 fields, saw 57\\nSkipping line 4141: expected 6 fields, saw 10\\nSkipping line 4144: expected 6 fields, saw 8\\nSkipping line 4157: expected 6 fields, saw 12\\nSkipping line 4166: expected 6 fields, saw 14\\nSkipping line 4167: expected 6 fields, saw 28\\nSkipping line 4180: expected 6 fields, saw 28\\nSkipping line 4198: expected 6 fields, saw 19\\nSkipping line 4208: expected 6 fields, saw 15\\nSkipping line 4221: expected 6 fields, saw 34\\nSkipping line 4228: expected 6 fields, saw 20\\nSkipping line 4236: expected 6 fields, saw 18\\nSkipping line 4244: expected 6 fields, saw 17\\nSkipping line 4248: expected 6 fields, saw 18\\nSkipping line 4255: expected 6 fields, saw 41\\nSkipping line 4280: expected 6 fields, saw 28\\nSkipping line 4300: expected 6 fields, saw 66\\nSkipping line 4315: expected 6 fields, saw 22\\nSkipping line 4316: expected 6 fields, saw 8\\nSkipping line 4323: expected 6 fields, saw 26\\nSkipping line 4340: expected 6 fields, saw 14\\nSkipping line 4372: expected 6 fields, saw 7\\nSkipping line 4375: expected 6 fields, saw 30\\nSkipping line 4411: expected 6 fields, saw 72\\nSkipping line 4434: expected 6 fields, saw 16\\nSkipping line 4435: expected 6 fields, saw 16\\nSkipping line 4436: expected 6 fields, saw 14\\nSkipping line 4437: expected 6 fields, saw 21\\nSkipping line 4439: expected 6 fields, saw 10\\nSkipping line 4440: expected 6 fields, saw 49\\nSkipping line 4449: expected 6 fields, saw 9\\nSkipping line 4456: expected 6 fields, saw 37\\nSkipping line 4478: expected 6 fields, saw 10\\nSkipping line 4485: expected 6 fields, saw 10\\nSkipping line 4489: expected 6 fields, saw 15\\nSkipping line 4492: expected 6 fields, saw 8\\nSkipping line 4494: expected 6 fields, saw 20\\nSkipping line 4502: expected 6 fields, saw 24\\nSkipping line 4504: expected 6 fields, saw 16\\nSkipping line 4510: expected 6 fields, saw 12\\nSkipping line 4517: expected 6 fields, saw 10\\nSkipping line 4518: expected 6 fields, saw 8\\nSkipping line 4531: expected 6 fields, saw 9\\nSkipping line 4538: expected 6 fields, saw 11\\nSkipping line 4561: expected 6 fields, saw 20\\nSkipping line 4566: expected 6 fields, saw 8\\nSkipping line 4597: expected 6 fields, saw 7\\nSkipping line 4607: expected 6 fields, saw 7\\nSkipping line 4612: expected 6 fields, saw 13\\nSkipping line 4659: expected 6 fields, saw 10\\nSkipping line 4675: expected 6 fields, saw 108\\nSkipping line 4679: expected 6 fields, saw 25\\nSkipping line 4687: expected 6 fields, saw 11\\nSkipping line 4721: expected 6 fields, saw 10\\nSkipping line 4722: expected 6 fields, saw 42\\nSkipping line 4740: expected 6 fields, saw 10\\nSkipping line 4741: expected 6 fields, saw 10\\nSkipping line 4815: expected 6 fields, saw 10\\nSkipping line 4826: expected 6 fields, saw 42\\nSkipping line 4859: expected 6 fields, saw 50\\nSkipping line 4865: expected 6 fields, saw 48\\nSkipping line 4881: expected 6 fields, saw 66\\nSkipping line 4905: expected 6 fields, saw 34\\nSkipping line 4918: expected 6 fields, saw 7\\nSkipping line 4929: expected 6 fields, saw 11\\nSkipping line 4935: expected 6 fields, saw 37\\nSkipping line 4937: expected 6 fields, saw 10\\nSkipping line 4958: expected 6 fields, saw 28\\nSkipping line 4990: expected 6 fields, saw 16\\nSkipping line 5000: expected 6 fields, saw 26\\nSkipping line 5002: expected 6 fields, saw 24\\nSkipping line 5011: expected 6 fields, saw 11\\nSkipping line 5017: expected 6 fields, saw 12\\nSkipping line 5021: expected 6 fields, saw 8\\nSkipping line 5024: expected 6 fields, saw 38\\nSkipping line 5025: expected 6 fields, saw 8\\nSkipping line 5046: expected 6 fields, saw 9\\nSkipping line 5067: expected 6 fields, saw 36\\nSkipping line 5132: expected 6 fields, saw 26\\n'\n"
     ]
    }
   ],
   "source": [
    "og_raw_data = pd.read_csv('./bookcontents3.csv',error_bad_lines=False)"
   ]
  },
  {
   "cell_type": "code",
   "execution_count": 368,
   "metadata": {
    "ExecuteTime": {
     "end_time": "2020-04-27T10:06:40.604149Z",
     "start_time": "2020-04-27T10:06:39.467825Z"
    }
   },
   "outputs": [
    {
     "data": {
      "text/plain": [
       "<matplotlib.axes._subplots.AxesSubplot at 0x1cc9de5710>"
      ]
     },
     "execution_count": 368,
     "metadata": {},
     "output_type": "execute_result"
    },
    {
     "data": {
      "image/png": "[encoded data removed]",
      "text/plain": [
       "<Figure size 1800x720 with 2 Axes>"
      ]
     },
     "metadata": {
      "image/png": {
       "height": 650,
       "width": 1473
      },
      "needs_background": "light"
     },
     "output_type": "display_data"
    }
   ],
   "source": [
    "msno.matrix(og_raw_data)"
   ]
  },
  {
   "cell_type": "code",
   "execution_count": 3,
   "metadata": {
    "ExecuteTime": {
     "end_time": "2020-04-28T05:40:39.742859Z",
     "start_time": "2020-04-28T05:40:39.736030Z"
    }
   },
   "outputs": [],
   "source": [
    "og_raw_data = og_raw_data.drop_duplicates('title',keep='first')"
   ]
  },
  {
   "cell_type": "markdown",
   "metadata": {},
   "source": [
    "## desctiption\n"
   ]
  },
  {
   "cell_type": "code",
   "execution_count": 4,
   "metadata": {
    "ExecuteTime": {
     "end_time": "2020-04-28T05:40:40.555250Z",
     "start_time": "2020-04-28T05:40:40.551543Z"
    }
   },
   "outputs": [],
   "source": [
    "desc_data = og_raw_data[['id','description','title']]"
   ]
  },
  {
   "cell_type": "code",
   "execution_count": 5,
   "metadata": {
    "ExecuteTime": {
     "end_time": "2020-04-28T05:40:40.898326Z",
     "start_time": "2020-04-28T05:40:40.889616Z"
    }
   },
   "outputs": [
    {
     "data": {
      "text/plain": [
       "(4384, 3)"
      ]
     },
     "execution_count": 5,
     "metadata": {},
     "output_type": "execute_result"
    }
   ],
   "source": [
    "desc_data = desc_data.dropna(axis=0)\n",
    "desc_data.shape"
   ]
  },
  {
   "cell_type": "markdown",
   "metadata": {},
   "source": [
    "## text"
   ]
  },
  {
   "cell_type": "code",
   "execution_count": 6,
   "metadata": {
    "ExecuteTime": {
     "end_time": "2020-04-28T05:40:41.562592Z",
     "start_time": "2020-04-28T05:40:41.558754Z"
    }
   },
   "outputs": [],
   "source": [
    "text_data = og_raw_data[['id','text','title']]"
   ]
  },
  {
   "cell_type": "code",
   "execution_count": 7,
   "metadata": {
    "ExecuteTime": {
     "end_time": "2020-04-28T05:40:41.773131Z",
     "start_time": "2020-04-28T05:40:41.766380Z"
    }
   },
   "outputs": [
    {
     "data": {
      "text/plain": [
       "(2529, 3)"
      ]
     },
     "execution_count": 7,
     "metadata": {},
     "output_type": "execute_result"
    }
   ],
   "source": [
    "text_data = text_data.dropna(axis=0)\n",
    "text_data.shape"
   ]
  },
  {
   "cell_type": "markdown",
   "metadata": {},
   "source": [
    "## desc + text"
   ]
  },
  {
   "cell_type": "code",
   "execution_count": 8,
   "metadata": {
    "ExecuteTime": {
     "end_time": "2020-04-28T05:40:42.459781Z",
     "start_time": "2020-04-28T05:40:42.455026Z"
    }
   },
   "outputs": [],
   "source": [
    "og_raw_data['text'] = og_raw_data['text'].fillna(' ')"
   ]
  },
  {
   "cell_type": "code",
   "execution_count": 9,
   "metadata": {
    "ExecuteTime": {
     "end_time": "2020-04-28T05:40:42.759826Z",
     "start_time": "2020-04-28T05:40:42.734391Z"
    }
   },
   "outputs": [],
   "source": [
    "og_raw_data['desc_text'] = og_raw_data['description'] + og_raw_data['text']"
   ]
  },
  {
   "cell_type": "code",
   "execution_count": 10,
   "metadata": {
    "ExecuteTime": {
     "end_time": "2020-04-28T05:40:44.243110Z",
     "start_time": "2020-04-28T05:40:44.229330Z"
    }
   },
   "outputs": [],
   "source": [
    "desc_text = og_raw_data.dropna(axis=0)\n",
    "desc_text= desc_text.drop_duplicates('title',keep='first')"
   ]
  },
  {
   "cell_type": "code",
   "execution_count": 11,
   "metadata": {
    "ExecuteTime": {
     "end_time": "2020-04-28T05:40:53.955285Z",
     "start_time": "2020-04-28T05:40:53.951510Z"
    }
   },
   "outputs": [
    {
     "data": {
      "text/plain": [
       "(4384, 7)"
      ]
     },
     "execution_count": 11,
     "metadata": {},
     "output_type": "execute_result"
    }
   ],
   "source": [
    "desc_text.shape"
   ]
  },
  {
   "cell_type": "markdown",
   "metadata": {
    "ExecuteTime": {
     "end_time": "2020-04-27T01:55:41.913428Z",
     "start_time": "2020-04-27T01:55:41.911049Z"
    }
   },
   "source": [
    "## 형태소 분석"
   ]
  },
  {
   "cell_type": "code",
   "execution_count": 140,
   "metadata": {
    "ExecuteTime": {
     "end_time": "2020-04-28T06:25:47.201420Z",
     "start_time": "2020-04-28T06:25:46.858493Z"
    }
   },
   "outputs": [],
   "source": [
    "from konlpy.tag import *\n",
    "# hannanum = Hannanum()\n",
    "okt = Okt()"
   ]
  },
  {
   "cell_type": "code",
   "execution_count": 17,
   "metadata": {
    "ExecuteTime": {
     "end_time": "2020-04-27T08:48:45.003935Z",
     "start_time": "2020-04-27T08:45:15.162998Z"
    }
   },
   "outputs": [
    {
     "data": {
      "application/vnd.jupyter.widget-view+json": {
       "model_id": "c137f54662bf49a6a194bca505c47eae",
       "version_major": 2,
       "version_minor": 0
      },
      "text/plain": [
       "HBox(children=(IntProgress(value=0, max=4384), HTML(value='')))"
      ]
     },
     "metadata": {},
     "output_type": "display_data"
    },
    {
     "name": "stdout",
     "output_type": "stream",
     "text": [
      "\n"
     ]
    },
    {
     "data": {
      "text/plain": [
       "4384"
      ]
     },
     "execution_count": 17,
     "metadata": {},
     "output_type": "execute_result"
    }
   ],
   "source": [
    "desc_data = [desc_data for desc_data in desc_data['description']]\n",
    "desc_data = tqdm(desc_data)\n",
    "\n",
    "desc_tokens = [okt.morphs(row) for row in desc_data]\n",
    "len(desc_tokens)"
   ]
  },
  {
   "cell_type": "code",
   "execution_count": 18,
   "metadata": {
    "ExecuteTime": {
     "end_time": "2020-04-27T08:50:35.002087Z",
     "start_time": "2020-04-27T08:48:45.006234Z"
    }
   },
   "outputs": [
    {
     "data": {
      "application/vnd.jupyter.widget-view+json": {
       "model_id": "452ae34fba9845bd89ae13f29bf30af7",
       "version_major": 2,
       "version_minor": 0
      },
      "text/plain": [
       "HBox(children=(IntProgress(value=0, max=2529), HTML(value='')))"
      ]
     },
     "metadata": {},
     "output_type": "display_data"
    },
    {
     "name": "stdout",
     "output_type": "stream",
     "text": [
      "\n"
     ]
    },
    {
     "data": {
      "text/plain": [
       "2529"
      ]
     },
     "execution_count": 18,
     "metadata": {},
     "output_type": "execute_result"
    }
   ],
   "source": [
    "text_data = [text_data for text_data in text_data['text']]\n",
    "text_data = tqdm(text_data)\n",
    "\n",
    "text_tokens = [okt.morphs(row) for row in text_data]\n",
    "len(text_tokens)"
   ]
  },
  {
   "cell_type": "code",
   "execution_count": 19,
   "metadata": {
    "ExecuteTime": {
     "end_time": "2020-04-27T08:55:55.885100Z",
     "start_time": "2020-04-27T08:50:35.005245Z"
    }
   },
   "outputs": [
    {
     "data": {
      "application/vnd.jupyter.widget-view+json": {
       "model_id": "4f14e6ca490b45e18b760acdb1c76e1c",
       "version_major": 2,
       "version_minor": 0
      },
      "text/plain": [
       "HBox(children=(IntProgress(value=0, max=4384), HTML(value='')))"
      ]
     },
     "metadata": {},
     "output_type": "display_data"
    },
    {
     "name": "stdout",
     "output_type": "stream",
     "text": [
      "\n"
     ]
    },
    {
     "data": {
      "text/plain": [
       "4384"
      ]
     },
     "execution_count": 19,
     "metadata": {},
     "output_type": "execute_result"
    }
   ],
   "source": [
    "desc_text_data = [desc_text_data for desc_text_data in desc_text['desc_text']]\n",
    "desc_text_data = tqdm(desc_text_data)\n",
    "\n",
    "text_contents_tokens = [okt.morphs(row) for row in desc_text_data]\n",
    "len(text_contents_tokens)"
   ]
  },
  {
   "cell_type": "code",
   "execution_count": 20,
   "metadata": {
    "ExecuteTime": {
     "end_time": "2020-04-27T08:55:56.769288Z",
     "start_time": "2020-04-27T08:55:55.887396Z"
    }
   },
   "outputs": [],
   "source": [
    "import pickle \n",
    "## Save pickle\n",
    "with open(\"desc_tokens2.pickle\",\"wb\") as fw:\n",
    "    pickle.dump(desc_tokens, fw)"
   ]
  },
  {
   "cell_type": "code",
   "execution_count": 21,
   "metadata": {
    "ExecuteTime": {
     "end_time": "2020-04-27T08:55:57.253261Z",
     "start_time": "2020-04-27T08:55:56.771469Z"
    }
   },
   "outputs": [],
   "source": [
    "import pickle \n",
    "## Save pickle\n",
    "with open(\"text_tokens2.pickle\",\"wb\") as fw:\n",
    "    pickle.dump(text_tokens, fw)"
   ]
  },
  {
   "cell_type": "code",
   "execution_count": 22,
   "metadata": {
    "ExecuteTime": {
     "end_time": "2020-04-27T08:55:58.674876Z",
     "start_time": "2020-04-27T08:55:57.255202Z"
    }
   },
   "outputs": [],
   "source": [
    "import pickle \n",
    "## Save pickle\n",
    "with open(\"text_contents_tokens2.pickle\",\"wb\") as fw:\n",
    "    pickle.dump(text_contents_tokens, fw)"
   ]
  },
  {
   "cell_type": "code",
   "execution_count": 25,
   "metadata": {
    "ExecuteTime": {
     "end_time": "2020-04-27T06:30:38.997050Z",
     "start_time": "2020-04-27T06:30:38.109275Z"
    }
   },
   "outputs": [
    {
     "data": {
      "text/plain": [
       "8293"
      ]
     },
     "execution_count": 25,
     "metadata": {},
     "output_type": "execute_result"
    }
   ],
   "source": [
    "import pickle \n",
    "## Load pickle\n",
    "with open(\"desc_tokens.pickle\",\"rb\") as fr:\n",
    "    desc_tokens = pickle.load(fr)\n",
    "len(desc_tokens)\n",
    "#['a', 'b', 'c']"
   ]
  },
  {
   "cell_type": "markdown",
   "metadata": {},
   "source": [
    "## pickle 파일 로드"
   ]
  },
  {
   "cell_type": "code",
   "execution_count": 12,
   "metadata": {
    "ExecuteTime": {
     "end_time": "2020-04-28T05:41:32.902106Z",
     "start_time": "2020-04-28T05:41:32.566388Z"
    }
   },
   "outputs": [
    {
     "data": {
      "text/plain": [
       "2529"
      ]
     },
     "execution_count": 12,
     "metadata": {},
     "output_type": "execute_result"
    }
   ],
   "source": [
    "import pickle \n",
    "## Load pickle\n",
    "with open(\"text_tokens2.pickle\",\"rb\") as fr:\n",
    "    text_tokens = pickle.load(fr)\n",
    "len(text_tokens)\n",
    "#['a', 'b', 'c']"
   ]
  },
  {
   "cell_type": "code",
   "execution_count": 21,
   "metadata": {
    "ExecuteTime": {
     "end_time": "2020-04-28T05:42:40.196868Z",
     "start_time": "2020-04-28T05:42:39.545429Z"
    }
   },
   "outputs": [
    {
     "data": {
      "text/plain": [
       "4384"
      ]
     },
     "execution_count": 21,
     "metadata": {},
     "output_type": "execute_result"
    }
   ],
   "source": [
    "import pickle \n",
    "## Load pickle\n",
    "with open(\"desc_tokens2.pickle\",\"rb\") as fr:\n",
    "    desc_tokens = pickle.load(fr)\n",
    "len(desc_tokens)\n",
    "#['a', 'b', 'c']"
   ]
  },
  {
   "cell_type": "code",
   "execution_count": 14,
   "metadata": {
    "ExecuteTime": {
     "end_time": "2020-04-28T05:42:05.953926Z",
     "start_time": "2020-04-28T05:42:05.037208Z"
    }
   },
   "outputs": [
    {
     "data": {
      "text/plain": [
       "4384"
      ]
     },
     "execution_count": 14,
     "metadata": {},
     "output_type": "execute_result"
    }
   ],
   "source": [
    "import pickle \n",
    "## Load pickle\n",
    "with open(\"text_contents_tokens2.pickle\",\"rb\") as fr:\n",
    "    text_contents_tokens = pickle.load(fr)\n",
    "len(text_contents_tokens)\n",
    "#['a', 'b', 'c']"
   ]
  },
  {
   "cell_type": "markdown",
   "metadata": {},
   "source": [
    "## stop words 설정"
   ]
  },
  {
   "cell_type": "code",
   "execution_count": 15,
   "metadata": {
    "ExecuteTime": {
     "end_time": "2020-04-28T05:42:14.399734Z",
     "start_time": "2020-04-28T05:42:14.396032Z"
    }
   },
   "outputs": [],
   "source": [
    "with open('ko_stop_words.txt') as text:\n",
    "    lines = text.readlines()"
   ]
  },
  {
   "cell_type": "code",
   "execution_count": 16,
   "metadata": {
    "ExecuteTime": {
     "end_time": "2020-04-28T05:42:14.740939Z",
     "start_time": "2020-04-28T05:42:14.738123Z"
    }
   },
   "outputs": [],
   "source": [
    "stop_words1 = ['.','(',')',',',\"'\",'%','-','X',').','.','---','p','\"','']"
   ]
  },
  {
   "cell_type": "code",
   "execution_count": 17,
   "metadata": {
    "ExecuteTime": {
     "end_time": "2020-04-28T05:42:15.118804Z",
     "start_time": "2020-04-28T05:42:15.115823Z"
    }
   },
   "outputs": [],
   "source": [
    "stop_words2 = [ line.replace('\\n','') for line in lines]"
   ]
  },
  {
   "cell_type": "code",
   "execution_count": 18,
   "metadata": {
    "ExecuteTime": {
     "end_time": "2020-04-28T05:42:15.475958Z",
     "start_time": "2020-04-28T05:42:15.473474Z"
    }
   },
   "outputs": [],
   "source": [
    "stop_words = stop_words1 + stop_words2"
   ]
  },
  {
   "cell_type": "markdown",
   "metadata": {},
   "source": [
    "## 시리즈 형태로 바꿔서 apply 함수 적용"
   ]
  },
  {
   "cell_type": "code",
   "execution_count": 19,
   "metadata": {
    "ExecuteTime": {
     "end_time": "2020-04-28T05:42:28.479897Z",
     "start_time": "2020-04-28T05:42:18.795694Z"
    }
   },
   "outputs": [
    {
     "data": {
      "text/plain": [
       "2529"
      ]
     },
     "execution_count": 19,
     "metadata": {},
     "output_type": "execute_result"
    }
   ],
   "source": [
    "text_tokens_series = pd.Series(text_tokens)\n",
    "text_tokens = text_tokens_series.apply(lambda x : [w for w in x if w not in stop_words])  \n",
    "len(text_tokens)"
   ]
  },
  {
   "cell_type": "code",
   "execution_count": 22,
   "metadata": {
    "ExecuteTime": {
     "end_time": "2020-04-28T05:43:02.467085Z",
     "start_time": "2020-04-28T05:42:44.827257Z"
    }
   },
   "outputs": [
    {
     "data": {
      "text/plain": [
       "4384"
      ]
     },
     "execution_count": 22,
     "metadata": {},
     "output_type": "execute_result"
    }
   ],
   "source": [
    "desc_tokens_series = pd.Series(desc_tokens)\n",
    "desc_tokens = desc_tokens_series.apply(lambda x : [w for w in x if w not in stop_words])  \n",
    "len(desc_tokens)"
   ]
  },
  {
   "cell_type": "code",
   "execution_count": 23,
   "metadata": {
    "ExecuteTime": {
     "end_time": "2020-04-28T05:43:29.796258Z",
     "start_time": "2020-04-28T05:43:02.469153Z"
    }
   },
   "outputs": [
    {
     "data": {
      "text/plain": [
       "4384"
      ]
     },
     "execution_count": 23,
     "metadata": {},
     "output_type": "execute_result"
    }
   ],
   "source": [
    "text_contents_tokens_series = pd.Series(text_contents_tokens)\n",
    "text_contents_tokens = text_contents_tokens_series.apply(lambda x : [w for w in x if w not in stop_words])  \n",
    "len(text_contents_tokens)"
   ]
  },
  {
   "cell_type": "markdown",
   "metadata": {},
   "source": [
    "## 띄워쓰기가 있는 문장으로 변환"
   ]
  },
  {
   "cell_type": "code",
   "execution_count": 24,
   "metadata": {
    "ExecuteTime": {
     "end_time": "2020-04-28T05:43:31.038338Z",
     "start_time": "2020-04-28T05:43:29.798753Z"
    }
   },
   "outputs": [
    {
     "data": {
      "text/plain": [
       "4384"
      ]
     },
     "execution_count": 24,
     "metadata": {},
     "output_type": "execute_result"
    }
   ],
   "source": [
    "contents_for_vectorize = []\n",
    "\n",
    "for content in text_contents_tokens:\n",
    "    sentence = ''\n",
    "    for word in content:\n",
    "        sentence = sentence + ' ' + word\n",
    "    \n",
    "    contents_for_vectorize.append(sentence)\n",
    "    \n",
    "len(contents_for_vectorize)"
   ]
  },
  {
   "cell_type": "markdown",
   "metadata": {},
   "source": [
    "## CountVectorizer"
   ]
  },
  {
   "cell_type": "code",
   "execution_count": 25,
   "metadata": {
    "ExecuteTime": {
     "end_time": "2020-04-28T05:43:31.588688Z",
     "start_time": "2020-04-28T05:43:31.041197Z"
    }
   },
   "outputs": [],
   "source": [
    "from sklearn.feature_extraction.text import CountVectorizer\n",
    "vectorizer = CountVectorizer(min_df = 1)"
   ]
  },
  {
   "cell_type": "code",
   "execution_count": 26,
   "metadata": {
    "ExecuteTime": {
     "end_time": "2020-04-28T05:43:33.913867Z",
     "start_time": "2020-04-28T05:43:31.591060Z"
    }
   },
   "outputs": [
    {
     "data": {
      "text/plain": [
       "<4384x90152 sparse matrix of type '<class 'numpy.int64'>'\n",
       "\twith 1022351 stored elements in Compressed Sparse Row format>"
      ]
     },
     "execution_count": 26,
     "metadata": {},
     "output_type": "execute_result"
    }
   ],
   "source": [
    "X = vectorizer.fit_transform(contents_for_vectorize)\n",
    "X"
   ]
  },
  {
   "cell_type": "markdown",
   "metadata": {},
   "source": [
    "## Tf-itf"
   ]
  },
  {
   "cell_type": "code",
   "execution_count": 38,
   "metadata": {
    "ExecuteTime": {
     "end_time": "2020-04-28T05:45:21.800851Z",
     "start_time": "2020-04-28T05:45:21.788271Z"
    }
   },
   "outputs": [],
   "source": [
    "from sklearn.feature_extraction.text import TfidfVectorizer\n",
    "vectorizer = TfidfVectorizer(min_df = 1, decode_error = 'ignore')"
   ]
  },
  {
   "cell_type": "code",
   "execution_count": 39,
   "metadata": {
    "ExecuteTime": {
     "end_time": "2020-04-28T05:45:24.066536Z",
     "start_time": "2020-04-28T05:45:22.291767Z"
    }
   },
   "outputs": [
    {
     "data": {
      "text/plain": [
       "<4384x90152 sparse matrix of type '<class 'numpy.float64'>'\n",
       "\twith 1022351 stored elements in Compressed Sparse Row format>"
      ]
     },
     "execution_count": 39,
     "metadata": {},
     "output_type": "execute_result"
    }
   ],
   "source": [
    "X = vectorizer.fit_transform(contents_for_vectorize)\n",
    "X"
   ]
  },
  {
   "cell_type": "code",
   "execution_count": 40,
   "metadata": {
    "ExecuteTime": {
     "end_time": "2020-04-28T05:45:24.072188Z",
     "start_time": "2020-04-28T05:45:24.068747Z"
    }
   },
   "outputs": [
    {
     "data": {
      "text/plain": [
       "(4384, 90152)"
      ]
     },
     "execution_count": 40,
     "metadata": {},
     "output_type": "execute_result"
    }
   ],
   "source": [
    "num_samples, num_fetures = X.shape\n",
    "num_samples, num_fetures"
   ]
  },
  {
   "cell_type": "markdown",
   "metadata": {},
   "source": [
    "## pairwise_distances 구하기"
   ]
  },
  {
   "cell_type": "code",
   "execution_count": 41,
   "metadata": {
    "ExecuteTime": {
     "end_time": "2020-04-28T05:45:26.406250Z",
     "start_time": "2020-04-28T05:45:26.403583Z"
    }
   },
   "outputs": [],
   "source": [
    "from sklearn.metrics import pairwise_distances"
   ]
  },
  {
   "cell_type": "code",
   "execution_count": 45,
   "metadata": {
    "ExecuteTime": {
     "end_time": "2020-04-28T05:46:15.245502Z",
     "start_time": "2020-04-28T05:46:13.699211Z"
    }
   },
   "outputs": [],
   "source": [
    "book_matrix = pairwise_distances(X,X,metric='cosine')"
   ]
  },
  {
   "cell_type": "code",
   "execution_count": 46,
   "metadata": {
    "ExecuteTime": {
     "end_time": "2020-04-28T05:46:15.851749Z",
     "start_time": "2020-04-28T05:46:15.848469Z"
    }
   },
   "outputs": [],
   "source": [
    "def title_idx(data,title):\n",
    "    a = pd.DataFrame(np.argsort(book_matrix))[0].apply(lambda x : data.iloc[x])\n",
    "    return a[a['title'] == title].index"
   ]
  },
  {
   "cell_type": "code",
   "execution_count": 47,
   "metadata": {
    "ExecuteTime": {
     "end_time": "2020-04-28T05:46:16.338666Z",
     "start_time": "2020-04-28T05:46:16.328519Z"
    }
   },
   "outputs": [
    {
     "data": {
      "text/html": [
       "<div>\n",
       "<style scoped>\n",
       "    .dataframe tbody tr th:only-of-type {\n",
       "        vertical-align: middle;\n",
       "    }\n",
       "\n",
       "    .dataframe tbody tr th {\n",
       "        vertical-align: top;\n",
       "    }\n",
       "\n",
       "    .dataframe thead th {\n",
       "        text-align: right;\n",
       "    }\n",
       "</style>\n",
       "<table border=\"1\" class=\"dataframe\">\n",
       "  <thead>\n",
       "    <tr style=\"text-align: right;\">\n",
       "      <th></th>\n",
       "      <th>id</th>\n",
       "      <th>title</th>\n",
       "      <th>img</th>\n",
       "      <th>text</th>\n",
       "      <th>description</th>\n",
       "      <th>url</th>\n",
       "      <th>desc_text</th>\n",
       "    </tr>\n",
       "  </thead>\n",
       "  <tbody>\n",
       "    <tr>\n",
       "      <td>3928</td>\n",
       "      <td>4138</td>\n",
       "      <td>개미 (2)</td>\n",
       "      <td>http://image.yes24.com/momo/TopCate408/MidCate...</td>\n",
       "      <td>지하 40층. 많은 개미들이 움직이고 있다. 8월의 더위가 한창 기승을 부리고 있는...</td>\n",
       "      <td>프랑스의 천재 작가 베르나르 베르베르의 〈개미〉는 인간 세계와 개미 세계의 만남과 ...</td>\n",
       "      <td>https://www.yes24.com/Product/Goods/185464</td>\n",
       "      <td>프랑스의 천재 작가 베르나르 베르베르의 〈개미〉는 인간 세계와 개미 세계의 만남과 ...</td>\n",
       "    </tr>\n",
       "  </tbody>\n",
       "</table>\n",
       "</div>"
      ],
      "text/plain": [
       "        id   title                                                img  \\\n",
       "3928  4138  개미 (2)  http://image.yes24.com/momo/TopCate408/MidCate...   \n",
       "\n",
       "                                                   text  \\\n",
       "3928  지하 40층. 많은 개미들이 움직이고 있다. 8월의 더위가 한창 기승을 부리고 있는...   \n",
       "\n",
       "                                            description  \\\n",
       "3928  프랑스의 천재 작가 베르나르 베르베르의 〈개미〉는 인간 세계와 개미 세계의 만남과 ...   \n",
       "\n",
       "                                             url  \\\n",
       "3928  https://www.yes24.com/Product/Goods/185464   \n",
       "\n",
       "                                              desc_text  \n",
       "3928  프랑스의 천재 작가 베르나르 베르베르의 〈개미〉는 인간 세계와 개미 세계의 만남과 ...  "
      ]
     },
     "execution_count": 47,
     "metadata": {},
     "output_type": "execute_result"
    }
   ],
   "source": [
    "og_raw_data[og_raw_data['title'] == '개미 (2)']"
   ]
  },
  {
   "cell_type": "code",
   "execution_count": 52,
   "metadata": {
    "ExecuteTime": {
     "end_time": "2020-04-28T05:53:56.957543Z",
     "start_time": "2020-04-28T05:53:55.124298Z"
    },
    "scrolled": true
   },
   "outputs": [
    {
     "data": {
      "text/plain": [
       "Int64Index([3589], dtype='int64')"
      ]
     },
     "execution_count": 52,
     "metadata": {},
     "output_type": "execute_result"
    }
   ],
   "source": [
    "title_idx(desc_text,'개미 (2)')"
   ]
  },
  {
   "cell_type": "code",
   "execution_count": 33,
   "metadata": {
    "ExecuteTime": {
     "end_time": "2020-04-28T05:43:53.754894Z",
     "start_time": "2020-04-28T05:43:53.751835Z"
    }
   },
   "outputs": [],
   "source": [
    "def check_book(data,idx):\n",
    "    return og_raw_data[og_raw_data['id'] == data.iloc[idx][0]]"
   ]
  },
  {
   "cell_type": "code",
   "execution_count": null,
   "metadata": {},
   "outputs": [],
   "source": [
    "def "
   ]
  },
  {
   "cell_type": "code",
   "execution_count": null,
   "metadata": {},
   "outputs": [],
   "source": []
  },
  {
   "cell_type": "code",
   "execution_count": null,
   "metadata": {},
   "outputs": [],
   "source": []
  },
  {
   "cell_type": "code",
   "execution_count": null,
   "metadata": {},
   "outputs": [],
   "source": []
  },
  {
   "cell_type": "markdown",
   "metadata": {},
   "source": [
    "## 책 추천 함수"
   ]
  },
  {
   "cell_type": "code",
   "execution_count": 93,
   "metadata": {
    "ExecuteTime": {
     "end_time": "2020-04-28T06:04:46.865326Z",
     "start_time": "2020-04-28T06:04:46.862254Z"
    }
   },
   "outputs": [],
   "source": [
    "def check_book(data,idx):\n",
    "    return og_raw_data[og_raw_data['id'] == data.iloc[idx][0]]"
   ]
  },
  {
   "cell_type": "code",
   "execution_count": 123,
   "metadata": {
    "ExecuteTime": {
     "end_time": "2020-04-28T06:19:00.113477Z",
     "start_time": "2020-04-28T06:19:00.105650Z"
    }
   },
   "outputs": [],
   "source": [
    "def book_recommender(title, data=desc_text ,tokens=text_contents_tokens, vectorizer='count', metric='euclidean', num=10):\n",
    "    contents_for_vectorize = []\n",
    "\n",
    "    for content in text_contents_tokens:\n",
    "        sentence = ''\n",
    "        for word in content:\n",
    "            sentence = sentence + ' ' + word\n",
    "\n",
    "        contents_for_vectorize.append(sentence)\n",
    "\n",
    "    if vectorizer == 'count':\n",
    "        vectorizer = CountVectorizer(min_df=1)\n",
    "        X = vectorizer.fit_transform(contents_for_vectorize)\n",
    "    else:\n",
    "        vectorizer = TfidfVectorizer(min_df=1, decode_error='ignore')\n",
    "        X = vectorizer.fit_transform(contents_for_vectorize)\n",
    "\n",
    "    book_matrix = pairwise_distances(X, X, metric=metric)\n",
    "\n",
    "    book_dist_df = pd.DataFrame(np.argsort(book_matrix))[\n",
    "        0].apply(lambda x: data.iloc[x])\n",
    "    idx = book_dist_df[book_dist_df['title'] == title].index[0]\n",
    "    print('벡터라이즈 방식: ', str(vectorizer)[:5], ', 거리 구하는 방식 : ', metric)\n",
    "    print(\"=\"*50)\n",
    "    for i in np.argsort(book_matrix[idx])[:num]:\n",
    "        result_df = check_book(data, i)\n",
    "        print(result_df[['id', 'title', 'url']])"
   ]
  },
  {
   "cell_type": "code",
   "execution_count": 180,
   "metadata": {
    "ExecuteTime": {
     "end_time": "2020-04-28T06:30:17.414619Z",
     "start_time": "2020-04-28T06:30:10.816759Z"
    }
   },
   "outputs": [
    {
     "name": "stdout",
     "output_type": "stream",
     "text": [
      "벡터라이즈 방식:  Count , 거리 구하는 방식 :  euclidean\n",
      "==================================================\n",
      "        id title                                          url\n",
      "1881  1983   데미안  https://www.yes24.com/Product/Goods/9019369\n",
      "        id   title                                         url\n",
      "1512  1592  달과 6펜스  https://www.yes24.com/Product/Goods/135880\n",
      "        id    title                                          url\n",
      "3250  3428  애도하는 사람  https://www.yes24.com/Product/Goods/3679403\n",
      "      id      title                                          url\n",
      "286  303  퇴마록 국내편 2  https://www.yes24.com/Product/Goods/5637187\n",
      "    id      title                                          url\n",
      "24  28  퇴마록 국내편 1  https://www.yes24.com/Product/Goods/5637185\n",
      "    id            title                                           url\n",
      "29  33  소설 보다 : 가을 2019  https://www.yes24.com/Product/Goods/84498048\n",
      "        id      title                                           url\n",
      "3396  3584  다정검객무정검 4  https://www.yes24.com/Product/Goods/81689503\n",
      "    id       title                                          url\n",
      "69  76  세계의 끝 여자친구  https://www.yes24.com/Product/Goods/3517616\n",
      "        id             title                                           url\n",
      "2289  2412  초판본 오만과 편견 3 미니북  https://www.yes24.com/Product/Goods/83028994\n",
      "        id      title                                          url\n",
      "2836  2997  왑샷 가문 연대기  https://www.yes24.com/Product/Goods/3210032\n"
     ]
    }
   ],
   "source": [
    "book_recommender('데미안',vectorizer='count')"
   ]
  },
  {
   "cell_type": "code",
   "execution_count": 181,
   "metadata": {
    "ExecuteTime": {
     "end_time": "2020-04-28T06:30:23.651793Z",
     "start_time": "2020-04-28T06:30:17.416764Z"
    }
   },
   "outputs": [
    {
     "name": "stdout",
     "output_type": "stream",
     "text": [
      "벡터라이즈 방식:  Count , 거리 구하는 방식 :  cosine\n",
      "==================================================\n",
      "        id title                                          url\n",
      "1881  1983   데미안  https://www.yes24.com/Product/Goods/9019369\n",
      "      id      title                                           url\n",
      "316  334  내게 무해한 사람  https://www.yes24.com/Product/Goods/61778623\n",
      "        id      title                                         url\n",
      "4744  5029  눈먼 자들의 도시  https://www.yes24.com/Product/Goods/318766\n",
      "        id title                                           url\n",
      "4625  4896  방랑자들  https://www.yes24.com/Product/Goods/80128261\n",
      "        id       title                                           url\n",
      "3679  3878  고슴도치의 우아함   https://www.yes24.com/Product/Goods/23059727\n",
      "        id title                                           url\n",
      "3954  4169    왕국  https://www.yes24.com/Product/Goods/59158807\n",
      "        id            title                                          url\n",
      "4759  5044  제대로 된 시체답게 행동해!  https://www.yes24.com/Product/Goods/5533457\n",
      "        id           title                                           url\n",
      "2248  2370  하느님 이 아이를 도우소서  https://www.yes24.com/Product/Goods/59311711\n",
      "        id   title                                       url\n",
      "3049  3217  상실의 시대  https://www.yes24.com/Product/Goods/1079\n",
      "    id   title                                           url\n",
      "35  39  회색 눈사람  https://www.yes24.com/Product/Goods/57665607\n"
     ]
    }
   ],
   "source": [
    "book_recommender('데미안',vectorizer='count',metric='cosine')"
   ]
  },
  {
   "cell_type": "code",
   "execution_count": 134,
   "metadata": {
    "ExecuteTime": {
     "end_time": "2020-04-28T06:24:04.749088Z",
     "start_time": "2020-04-28T06:23:58.605775Z"
    }
   },
   "outputs": [
    {
     "name": "stdout",
     "output_type": "stream",
     "text": [
      "벡터라이즈 방식:  Tfidf , 거리 구하는 방식 :  euclidean\n",
      "==================================================\n",
      "        id    title                                           url\n",
      "1462  1541  빨강 머리 앤  https://www.yes24.com/Product/Goods/73008181\n",
      "        id        title                                           url\n",
      "1762  1858  초판본 빨강 머리 앤  https://www.yes24.com/Product/Goods/88389984\n",
      "        id           title                                           url\n",
      "2226  2347  빨강 머리 앤 미니북 세트  https://www.yes24.com/Product/Goods/76163800\n",
      "        id                                       title  \\\n",
      "1736  1830  빨강 머리 앤(Anne of Green Gables) 한글판 + 영문판 세트   \n",
      "\n",
      "                                               url  \n",
      "1736  https://www.yes24.com/Product/Goods/79261152  \n",
      "        id             title                                           url\n",
      "1422  1497  빨강 머리 앤 미니미니북 세트  https://www.yes24.com/Product/Goods/78573144\n",
      "        id            title                                           url\n",
      "2423  2550  빨강 머리 앤 미니미니북 3  https://www.yes24.com/Product/Goods/78573079\n",
      "        id            title                                           url\n",
      "2427  2555  빨강 머리 앤 미니미니북 2  https://www.yes24.com/Product/Goods/78573064\n",
      "        id            title                                           url\n",
      "2411  2538  빨강 머리 앤 미니미니북 1  https://www.yes24.com/Product/Goods/78573047\n",
      "        id                       title  \\\n",
      "2324  2448  ANNE OF GREEN GABLES VOL.1   \n",
      "\n",
      "                                               url  \n",
      "2324  https://www.yes24.com/Product/Goods/89426170  \n",
      "        id        title                                           url\n",
      "1683  1772  초판본 에이번리의 앤  https://www.yes24.com/Product/Goods/88389990\n"
     ]
    }
   ],
   "source": [
    "book_recommender('빨강 머리 앤',vectorizer='tfitf')"
   ]
  },
  {
   "cell_type": "code",
   "execution_count": 135,
   "metadata": {
    "ExecuteTime": {
     "end_time": "2020-04-28T06:24:10.976697Z",
     "start_time": "2020-04-28T06:24:04.751213Z"
    }
   },
   "outputs": [
    {
     "name": "stdout",
     "output_type": "stream",
     "text": [
      "벡터라이즈 방식:  Tfidf , 거리 구하는 방식 :  cosine\n",
      "==================================================\n",
      "        id    title                                           url\n",
      "1462  1541  빨강 머리 앤  https://www.yes24.com/Product/Goods/73008181\n",
      "        id        title                                           url\n",
      "1762  1858  초판본 빨강 머리 앤  https://www.yes24.com/Product/Goods/88389984\n",
      "        id           title                                           url\n",
      "2226  2347  빨강 머리 앤 미니북 세트  https://www.yes24.com/Product/Goods/76163800\n",
      "        id                                       title  \\\n",
      "1736  1830  빨강 머리 앤(Anne of Green Gables) 한글판 + 영문판 세트   \n",
      "\n",
      "                                               url  \n",
      "1736  https://www.yes24.com/Product/Goods/79261152  \n",
      "        id             title                                           url\n",
      "1422  1497  빨강 머리 앤 미니미니북 세트  https://www.yes24.com/Product/Goods/78573144\n",
      "        id            title                                           url\n",
      "2423  2550  빨강 머리 앤 미니미니북 3  https://www.yes24.com/Product/Goods/78573079\n",
      "        id            title                                           url\n",
      "2427  2555  빨강 머리 앤 미니미니북 2  https://www.yes24.com/Product/Goods/78573064\n",
      "        id            title                                           url\n",
      "2411  2538  빨강 머리 앤 미니미니북 1  https://www.yes24.com/Product/Goods/78573047\n",
      "        id                       title  \\\n",
      "2324  2448  ANNE OF GREEN GABLES VOL.1   \n",
      "\n",
      "                                               url  \n",
      "2324  https://www.yes24.com/Product/Goods/89426170  \n",
      "        id        title                                           url\n",
      "1683  1772  초판본 에이번리의 앤  https://www.yes24.com/Product/Goods/88389990\n"
     ]
    }
   ],
   "source": [
    "book_recommender('빨강 머리 앤',vectorizer='tfitf',metric='cosine')"
   ]
  },
  {
   "cell_type": "code",
   "execution_count": null,
   "metadata": {},
   "outputs": [],
   "source": []
  },
  {
   "cell_type": "code",
   "execution_count": null,
   "metadata": {},
   "outputs": [],
   "source": []
  },
  {
   "cell_type": "code",
   "execution_count": null,
   "metadata": {},
   "outputs": [],
   "source": []
  },
  {
   "cell_type": "code",
   "execution_count": null,
   "metadata": {},
   "outputs": [],
   "source": []
  },
  {
   "cell_type": "code",
   "execution_count": null,
   "metadata": {},
   "outputs": [],
   "source": []
  },
  {
   "cell_type": "code",
   "execution_count": null,
   "metadata": {},
   "outputs": [],
   "source": []
  },
  {
   "cell_type": "code",
   "execution_count": null,
   "metadata": {},
   "outputs": [],
   "source": []
  },
  {
   "cell_type": "code",
   "execution_count": null,
   "metadata": {},
   "outputs": [],
   "source": []
  },
  {
   "cell_type": "code",
   "execution_count": null,
   "metadata": {},
   "outputs": [],
   "source": []
  },
  {
   "cell_type": "code",
   "execution_count": null,
   "metadata": {},
   "outputs": [],
   "source": []
  },
  {
   "cell_type": "markdown",
   "metadata": {},
   "source": [
    "## 테스트 문장 만들기"
   ]
  },
  {
   "cell_type": "code",
   "execution_count": 172,
   "metadata": {
    "ExecuteTime": {
     "end_time": "2020-04-28T06:28:04.475417Z",
     "start_time": "2020-04-28T06:28:04.454608Z"
    }
   },
   "outputs": [
    {
     "data": {
      "text/plain": [
       "[' 오늘 날씨 진짜 좋다 . 어디 놀러 가고 싶다']"
      ]
     },
     "execution_count": 172,
     "metadata": {},
     "output_type": "execute_result"
    }
   ],
   "source": [
    "new_post = ['오늘 날씨 진짜 좋다. 어디 놀러가고 싶다']\n",
    "new_post_tokens = [ okt.morphs(row) for row in new_post]\n",
    "\n",
    "new_post_for_vectorize = []\n",
    "\n",
    "for content in new_post_tokens:\n",
    "    sentence = ''\n",
    "    for word in content:\n",
    "        sentence = sentence + ' ' + word\n",
    "        \n",
    "    new_post_for_vectorize.append(sentence)\n",
    "    \n",
    "new_post_for_vectorize"
   ]
  },
  {
   "cell_type": "code",
   "execution_count": 173,
   "metadata": {
    "ExecuteTime": {
     "end_time": "2020-04-28T06:28:05.233847Z",
     "start_time": "2020-04-28T06:28:05.231112Z"
    }
   },
   "outputs": [],
   "source": [
    "new_post_for_vectorize = [w for w in new_post_for_vectorize if w not in stop_words]"
   ]
  },
  {
   "cell_type": "code",
   "execution_count": 174,
   "metadata": {
    "ExecuteTime": {
     "end_time": "2020-04-28T06:28:05.583272Z",
     "start_time": "2020-04-28T06:28:05.578483Z"
    }
   },
   "outputs": [
    {
     "data": {
      "text/plain": [
       "array([[0., 0., 0., ..., 0., 0., 0.]])"
      ]
     },
     "execution_count": 174,
     "metadata": {},
     "output_type": "execute_result"
    }
   ],
   "source": [
    "new_post_vec = vectorizer.transform(new_post_for_vectorize)\n",
    "new_post_vec.toarray()"
   ]
  },
  {
   "cell_type": "markdown",
   "metadata": {},
   "source": [
    "## 유클리드 거리 "
   ]
  },
  {
   "cell_type": "code",
   "execution_count": 175,
   "metadata": {
    "ExecuteTime": {
     "end_time": "2020-04-28T06:28:06.058207Z",
     "start_time": "2020-04-28T06:28:06.055036Z"
    }
   },
   "outputs": [],
   "source": [
    "import scipy as sp\n",
    "\n",
    "def dist_raw(v1, v2):\n",
    "    delta = v1 - v2\n",
    "    return sp.linalg.norm(delta.toarray())"
   ]
  },
  {
   "cell_type": "code",
   "execution_count": 176,
   "metadata": {
    "ExecuteTime": {
     "end_time": "2020-04-28T06:28:08.605163Z",
     "start_time": "2020-04-28T06:28:06.398818Z"
    }
   },
   "outputs": [],
   "source": [
    "dist = [dist_raw(each, new_post_vec) for each in X]"
   ]
  },
  {
   "cell_type": "code",
   "execution_count": 177,
   "metadata": {
    "ExecuteTime": {
     "end_time": "2020-04-28T06:28:08.616016Z",
     "start_time": "2020-04-28T06:28:08.607334Z"
    }
   },
   "outputs": [],
   "source": [
    "import operator\n",
    "dist_dict = dict(enumerate(dist))\n",
    "sorted_dict = sorted(dist_dict.items(), key=operator.itemgetter(1))"
   ]
  },
  {
   "cell_type": "code",
   "execution_count": 178,
   "metadata": {
    "ExecuteTime": {
     "end_time": "2020-04-28T06:28:08.623344Z",
     "start_time": "2020-04-28T06:28:08.619541Z"
    }
   },
   "outputs": [
    {
     "name": "stdout",
     "output_type": "stream",
     "text": [
      "Best 5 post is  [(1529, 1.346657153407163), (1024, 1.3520520425545692), (770, 1.3522537873257066), (946, 1.3568268371345418), (2449, 1.358282631035979)]\n",
      "Test post is -->  ['오늘 날씨 진짜 좋다. 어디 놀러가고 싶다']\n"
     ]
    }
   ],
   "source": [
    "print('Best 5 post is ', sorted_dict[:5])\n",
    "print('Test post is --> ', new_post)"
   ]
  },
  {
   "cell_type": "code",
   "execution_count": 179,
   "metadata": {
    "ExecuteTime": {
     "end_time": "2020-04-28T06:28:08.662788Z",
     "start_time": "2020-04-28T06:28:08.626253Z"
    },
    "scrolled": false
   },
   "outputs": [
    {
     "data": {
      "text/html": [
       "<div>\n",
       "<style scoped>\n",
       "    .dataframe tbody tr th:only-of-type {\n",
       "        vertical-align: middle;\n",
       "    }\n",
       "\n",
       "    .dataframe tbody tr th {\n",
       "        vertical-align: top;\n",
       "    }\n",
       "\n",
       "    .dataframe thead th {\n",
       "        text-align: right;\n",
       "    }\n",
       "</style>\n",
       "<table border=\"1\" class=\"dataframe\">\n",
       "  <thead>\n",
       "    <tr style=\"text-align: right;\">\n",
       "      <th></th>\n",
       "      <th>id</th>\n",
       "      <th>title</th>\n",
       "      <th>text</th>\n",
       "      <th>description</th>\n",
       "      <th>url</th>\n",
       "    </tr>\n",
       "  </thead>\n",
       "  <tbody>\n",
       "    <tr>\n",
       "      <td>1622</td>\n",
       "      <td>1707</td>\n",
       "      <td>내가 사랑했던 모든 남자들에게 세트</td>\n",
       "      <td>아주 정확히 말하면 이것들은 연애편지가 아니다. 더 이상 사랑하고 싶지 않을 때 쓰...</td>\n",
       "      <td>전 세계 100만 부 이상 판매, 27개국 번역 출간2018 넷플릭스 오리지널 최고...</td>\n",
       "      <td>https://www.yes24.com/Product/Goods/73270279</td>\n",
       "    </tr>\n",
       "    <tr>\n",
       "      <td>1070</td>\n",
       "      <td>1112</td>\n",
       "      <td>너라는 우주에 나를 부치다</td>\n",
       "      <td></td>\n",
       "      <td>김경의 첫번째 소설 [너라는 우주에 나를 부치다]. 이 소설은 수많은 실패 끝에 진...</td>\n",
       "      <td>https://www.yes24.com/Product/Goods/14939297</td>\n",
       "    </tr>\n",
       "    <tr>\n",
       "      <td>796</td>\n",
       "      <td>829</td>\n",
       "      <td>놀러 가자고요</td>\n",
       "      <td>모가 자라는 한 달여 동안, 막내 윤 씨는 지구를 떠나고 싶었다.모의 안부를 궁금해...</td>\n",
       "      <td>“사는 날 동안 얼굴 붉히면서 살 거 뭐 있나.같이 놀러나 댕기자”거침없이 콸콸 쏟...</td>\n",
       "      <td>https://www.yes24.com/Product/Goods/61304917</td>\n",
       "    </tr>\n",
       "    <tr>\n",
       "      <td>984</td>\n",
       "      <td>1023</td>\n",
       "      <td>졸의 전쟁</td>\n",
       "      <td></td>\n",
       "      <td>이 책은 그렇게 비장하거나 거대담론을 담고 있지는 않다. 소설의 인물들은 계층의 가...</td>\n",
       "      <td>https://www.yes24.com/Product/Goods/85643065</td>\n",
       "    </tr>\n",
       "    <tr>\n",
       "      <td>2692</td>\n",
       "      <td>2838</td>\n",
       "      <td>언제나 그리고 영원히, 라라 진</td>\n",
       "      <td>이 대학에 입학한다면 가장 하고 싶은 게 뭘까? 하고 싶은 건 정말 많은데 하나만 ...</td>\n",
       "      <td>“일련의 소동을 둘러싼 연애소설인 동시에, 자매간의 우애를 다룬 훌륭한 가족소설이기...</td>\n",
       "      <td>https://www.yes24.com/Product/Goods/73270242</td>\n",
       "    </tr>\n",
       "    <tr>\n",
       "      <td>1501</td>\n",
       "      <td>1581</td>\n",
       "      <td>동물 농장</td>\n",
       "      <td>나흘 뒤 오후 늦은 시간에 나폴레옹은 모든 동물에게 마당으로 모이라고 지시했다. 동...</td>\n",
       "      <td>출간 이후 단 한번도 절판된 적이 없는 영원한 고전조지 오웰의 뛰어난 창조력이 만든...</td>\n",
       "      <td>https://www.yes24.com/Product/Goods/89325695</td>\n",
       "    </tr>\n",
       "    <tr>\n",
       "      <td>4041</td>\n",
       "      <td>4265</td>\n",
       "      <td>오르부아르</td>\n",
       "      <td>알베르의 얼굴이 새파랗게 질리고, 관자놀이가 상상하기 힘든 속도로 고동친다. 몸속...</td>\n",
       "      <td>프랑스 문학의 새로운 방향!이 시대에 출간된 가장 아름다운 문학! 천재적이고, 박진...</td>\n",
       "      <td>https://www.yes24.com/Product/Goods/22793142</td>\n",
       "    </tr>\n",
       "    <tr>\n",
       "      <td>909</td>\n",
       "      <td>947</td>\n",
       "      <td>우주를 담아줘</td>\n",
       "      <td>“술 또 샀어? 집에 많은데.” “많기는. 많은 술이 어딨어. 곧 없어질 술이지....</td>\n",
       "      <td>“이 소설이야말로 덕업일치의 현장이고 성덕(성공한 덕후)의 길이 아닐까.” 경쾌하지...</td>\n",
       "      <td>https://www.yes24.com/Product/Goods/73776263</td>\n",
       "    </tr>\n",
       "    <tr>\n",
       "      <td>2865</td>\n",
       "      <td>3028</td>\n",
       "      <td>날씨의 아이</td>\n",
       "      <td>-요컨대 나는 어른이 되고 싶지 않아 고집을 부리고 있었다. 내가 보기에도 정말 한...</td>\n",
       "      <td>“이제 비는 그치고, 우리의 세상이 빛나기 시작할 거야” 고등학교 1학년 여름, 가...</td>\n",
       "      <td>https://www.yes24.com/Product/Goods/80218273</td>\n",
       "    </tr>\n",
       "    <tr>\n",
       "      <td>389</td>\n",
       "      <td>409</td>\n",
       "      <td>파멸일기</td>\n",
       "      <td>“가정의 문제는 절대로 없습니다. 잘난 체 하지 마시고 우리 가족을 위해서라면 그냥...</td>\n",
       "      <td>같은 이름, 다른 인생 이제는 더 이상 참을 수 없는, 나는 오늘 죽으러 갑니다.‘...</td>\n",
       "      <td>https://www.yes24.com/Product/Goods/89929143</td>\n",
       "    </tr>\n",
       "  </tbody>\n",
       "</table>\n",
       "</div>"
      ],
      "text/plain": [
       "        id                title  \\\n",
       "1622  1707  내가 사랑했던 모든 남자들에게 세트   \n",
       "1070  1112       너라는 우주에 나를 부치다   \n",
       "796    829              놀러 가자고요   \n",
       "984   1023                졸의 전쟁   \n",
       "2692  2838    언제나 그리고 영원히, 라라 진   \n",
       "1501  1581                동물 농장   \n",
       "4041  4265                오르부아르   \n",
       "909    947              우주를 담아줘   \n",
       "2865  3028               날씨의 아이   \n",
       "389    409                 파멸일기   \n",
       "\n",
       "                                                   text  \\\n",
       "1622  아주 정확히 말하면 이것들은 연애편지가 아니다. 더 이상 사랑하고 싶지 않을 때 쓰...   \n",
       "1070                                                      \n",
       "796   모가 자라는 한 달여 동안, 막내 윤 씨는 지구를 떠나고 싶었다.모의 안부를 궁금해...   \n",
       "984                                                       \n",
       "2692  이 대학에 입학한다면 가장 하고 싶은 게 뭘까? 하고 싶은 건 정말 많은데 하나만 ...   \n",
       "1501  나흘 뒤 오후 늦은 시간에 나폴레옹은 모든 동물에게 마당으로 모이라고 지시했다. 동...   \n",
       "4041   알베르의 얼굴이 새파랗게 질리고, 관자놀이가 상상하기 힘든 속도로 고동친다. 몸속...   \n",
       "909    “술 또 샀어? 집에 많은데.” “많기는. 많은 술이 어딨어. 곧 없어질 술이지....   \n",
       "2865  -요컨대 나는 어른이 되고 싶지 않아 고집을 부리고 있었다. 내가 보기에도 정말 한...   \n",
       "389   “가정의 문제는 절대로 없습니다. 잘난 체 하지 마시고 우리 가족을 위해서라면 그냥...   \n",
       "\n",
       "                                            description  \\\n",
       "1622  전 세계 100만 부 이상 판매, 27개국 번역 출간2018 넷플릭스 오리지널 최고...   \n",
       "1070  김경의 첫번째 소설 [너라는 우주에 나를 부치다]. 이 소설은 수많은 실패 끝에 진...   \n",
       "796   “사는 날 동안 얼굴 붉히면서 살 거 뭐 있나.같이 놀러나 댕기자”거침없이 콸콸 쏟...   \n",
       "984   이 책은 그렇게 비장하거나 거대담론을 담고 있지는 않다. 소설의 인물들은 계층의 가...   \n",
       "2692  “일련의 소동을 둘러싼 연애소설인 동시에, 자매간의 우애를 다룬 훌륭한 가족소설이기...   \n",
       "1501  출간 이후 단 한번도 절판된 적이 없는 영원한 고전조지 오웰의 뛰어난 창조력이 만든...   \n",
       "4041  프랑스 문학의 새로운 방향!이 시대에 출간된 가장 아름다운 문학! 천재적이고, 박진...   \n",
       "909   “이 소설이야말로 덕업일치의 현장이고 성덕(성공한 덕후)의 길이 아닐까.” 경쾌하지...   \n",
       "2865  “이제 비는 그치고, 우리의 세상이 빛나기 시작할 거야” 고등학교 1학년 여름, 가...   \n",
       "389   같은 이름, 다른 인생 이제는 더 이상 참을 수 없는, 나는 오늘 죽으러 갑니다.‘...   \n",
       "\n",
       "                                               url  \n",
       "1622  https://www.yes24.com/Product/Goods/73270279  \n",
       "1070  https://www.yes24.com/Product/Goods/14939297  \n",
       "796   https://www.yes24.com/Product/Goods/61304917  \n",
       "984   https://www.yes24.com/Product/Goods/85643065  \n",
       "2692  https://www.yes24.com/Product/Goods/73270242  \n",
       "1501  https://www.yes24.com/Product/Goods/89325695  \n",
       "4041  https://www.yes24.com/Product/Goods/22793142  \n",
       "909   https://www.yes24.com/Product/Goods/73776263  \n",
       "2865  https://www.yes24.com/Product/Goods/80218273  \n",
       "389   https://www.yes24.com/Product/Goods/89929143  "
      ]
     },
     "execution_count": 179,
     "metadata": {},
     "output_type": "execute_result"
    }
   ],
   "source": [
    "result_list = []\n",
    "for num in sorted_dict[:10]:\n",
    "    result = og_raw_data[og_raw_data['id'] == desc_data.iloc[num[0]]['id']]\n",
    "    result_list.append(result[['id','title','text','description','url']])\n",
    "pd.concat(result_list)"
   ]
  },
  {
   "cell_type": "code",
   "execution_count": null,
   "metadata": {},
   "outputs": [],
   "source": []
  }
 ],
 "metadata": {
  "kernelspec": {
   "display_name": "Python 3",
   "language": "python",
   "name": "python3"
  },
  "language_info": {
   "codemirror_mode": {
    "name": "ipython",
    "version": 3
   },
   "file_extension": ".py",
   "mimetype": "text/x-python",
   "name": "python",
   "nbconvert_exporter": "python",
   "pygments_lexer": "ipython3",
   "version": "3.7.4"
  }
 },
 "nbformat": 4,
 "nbformat_minor": 2
}
