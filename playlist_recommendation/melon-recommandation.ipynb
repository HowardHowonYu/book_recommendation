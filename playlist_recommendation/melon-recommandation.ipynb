{
 "cells": [
  {
   "cell_type": "markdown",
   "metadata": {},
   "source": [
    "# try 1"
   ]
  },
  {
   "cell_type": "markdown",
   "metadata": {},
   "source": [
    "## import"
   ]
  },
  {
   "cell_type": "code",
   "execution_count": 2,
   "metadata": {
    "ExecuteTime": {
     "end_time": "2020-05-14T08:43:55.969937Z",
     "start_time": "2020-05-14T08:43:55.929488Z"
    }
   },
   "outputs": [],
   "source": [
    "from implicit.evaluation import  *\n",
    "from implicit.als import AlternatingLeastSquares as ALS\n",
    "from implicit.bpr import BayesianPersonalizedRanking as BPR\n",
    "import numpy as np\n",
    "import os\n",
    "os.environ['KMP_DUPLICATE_LIB_OK']='True'\n",
    "from sklearn.utils import shuffle\n",
    "from scipy.sparse import *\n",
    "# import rec_util\n",
    "pd.options.display.float_format = '{:.2f}'.format\n",
    "import pandas as pd"
   ]
  },
  {
   "cell_type": "markdown",
   "metadata": {},
   "source": [
    "## 파일 로드"
   ]
  },
  {
   "cell_type": "code",
   "execution_count": 77,
   "metadata": {
    "ExecuteTime": {
     "end_time": "2020-05-14T12:35:04.378169Z",
     "start_time": "2020-05-14T12:35:00.949634Z"
    },
    "scrolled": true
   },
   "outputs": [],
   "source": [
    "raw_tr = pd.read_json(\"./raw_data/train.json\")\n",
    "raw_te = pd.read_json(\"./raw_data/val.json\")"
   ]
  },
  {
   "cell_type": "markdown",
   "metadata": {},
   "source": [
    "## 태그별 빈도 확인"
   ]
  },
  {
   "cell_type": "code",
   "execution_count": 78,
   "metadata": {
    "ExecuteTime": {
     "end_time": "2020-05-14T12:35:04.493958Z",
     "start_time": "2020-05-14T12:35:04.380438Z"
    }
   },
   "outputs": [],
   "source": [
    "ret = []\n",
    "for tag in raw_tr.tags.tolist():\n",
    "    ret += tag\n",
    "from collections import Counter\n",
    "r = dict(Counter(ret))"
   ]
  },
  {
   "cell_type": "code",
   "execution_count": 179,
   "metadata": {
    "ExecuteTime": {
     "end_time": "2020-05-13T09:11:02.123583Z",
     "start_time": "2020-05-13T09:11:02.083809Z"
    }
   },
   "outputs": [
    {
     "data": {
      "text/plain": [
       "[('기분전환', 16465), ('감성', 11417), ('휴식', 11215), ('발라드', 10796), ('잔잔한', 10218)]"
      ]
     },
     "execution_count": 179,
     "metadata": {},
     "output_type": "execute_result"
    }
   ],
   "source": [
    "r = sorted(r.items(), key=lambda x: -x[1])\n",
    "r[:5]"
   ]
  },
  {
   "cell_type": "code",
   "execution_count": 180,
   "metadata": {
    "ExecuteTime": {
     "end_time": "2020-05-13T09:11:06.015942Z",
     "start_time": "2020-05-13T09:11:06.012804Z"
    }
   },
   "outputs": [],
   "source": [
    "top_tags = [x[0] for x in r[:1000]]"
   ]
  },
  {
   "cell_type": "markdown",
   "metadata": {},
   "source": [
    "# 태그와 노래 목록 만으로 나머지 예측하기"
   ]
  },
  {
   "cell_type": "code",
   "execution_count": 153,
   "metadata": {
    "ExecuteTime": {
     "end_time": "2020-05-13T09:08:26.888747Z",
     "start_time": "2020-05-13T09:08:26.647309Z"
    }
   },
   "outputs": [],
   "source": [
    "train_songs = raw_tr['songs'].tolist()\n",
    "test_songs = raw_te['songs'].apply(lambda x : [float(i)for i in x]).tolist()\n",
    "train_tags = raw_tr['tags'].tolist()\n",
    "test_tags = raw_te['tags'].tolist()\n",
    "test_ids = raw_te['id'].tolist()"
   ]
  },
  {
   "cell_type": "markdown",
   "metadata": {},
   "source": [
    "### train 데이터 list to list 로 만들기"
   ]
  },
  {
   "cell_type": "code",
   "execution_count": 154,
   "metadata": {
    "ExecuteTime": {
     "end_time": "2020-05-13T09:08:53.748417Z",
     "start_time": "2020-05-13T09:08:51.641348Z"
    }
   },
   "outputs": [],
   "source": [
    "from itertools import groupby\n",
    "tr = []\n",
    "iid_to_idx = {}\n",
    "idx = 0\n",
    "\n",
    "for i, l in enumerate(train_songs):\n",
    "    view = l\n",
    "    for item_id in view:\n",
    "        if item_id not in iid_to_idx:\n",
    "            iid_to_idx[item_id] = idx\n",
    "            idx += 1\n",
    "    view = [iid_to_idx[x] for x in view]\n",
    "    tr.append(view)"
   ]
  },
  {
   "cell_type": "code",
   "execution_count": 155,
   "metadata": {
    "ExecuteTime": {
     "end_time": "2020-05-13T09:08:54.466794Z",
     "start_time": "2020-05-13T09:08:54.240504Z"
    }
   },
   "outputs": [],
   "source": [
    "idx = 0\n",
    "n_items = 615142\n",
    "tag_to_idx = {} \n",
    "for i, tags in enumerate(train_tags):\n",
    "    for tag in tags:\n",
    "        if tag not in tag_to_idx:\n",
    "            tag_to_idx[tag] = n_items + idx\n",
    "            idx += 1\n",
    "    tr[i].extend([tag_to_idx[x] for x in tags])\n",
    "n_items = len(iid_to_idx)\n",
    "n_tags = len(tag_to_idx)"
   ]
  },
  {
   "cell_type": "markdown",
   "metadata": {},
   "source": [
    "### test 데이터 list to list 로 만들기"
   ]
  },
  {
   "cell_type": "code",
   "execution_count": 156,
   "metadata": {
    "ExecuteTime": {
     "end_time": "2020-05-13T09:08:56.165130Z",
     "start_time": "2020-05-13T09:08:55.864385Z"
    }
   },
   "outputs": [],
   "source": [
    "from s import groupby\n",
    "te = []\n",
    "\n",
    "idx = 0\n",
    "for i, l in enumerate(test_songs):\n",
    "    view = l\n",
    "    ret = [] \n",
    "    for item_id in view:\n",
    "        if item_id not in iid_to_idx:\n",
    "            continue\n",
    "        ret.append(iid_to_idx[item_id])\n",
    "    te.append(ret)\n",
    "idx = 0\n",
    "for i, tags in enumerate(test_tags):\n",
    "    ret = []\n",
    "    for tag in tags:\n",
    "        if tag not in tag_to_idx:\n",
    "            continue\n",
    "        ret.append(tag)\n",
    "    te[i].extend([tag_to_idx[x] for x in ret])"
   ]
  },
  {
   "cell_type": "markdown",
   "metadata": {},
   "source": [
    "# 데이터 쓰까"
   ]
  },
  {
   "cell_type": "code",
   "execution_count": 157,
   "metadata": {
    "ExecuteTime": {
     "end_time": "2020-05-13T09:08:56.757415Z",
     "start_time": "2020-05-13T09:08:56.696463Z"
    }
   },
   "outputs": [],
   "source": [
    "tr = shuffle(tr)"
   ]
  },
  {
   "cell_type": "markdown",
   "metadata": {},
   "source": [
    "### 노래 및 태그 인덱싱 하기"
   ]
  },
  {
   "cell_type": "code",
   "execution_count": 185,
   "metadata": {
    "ExecuteTime": {
     "end_time": "2020-05-13T09:12:31.724669Z",
     "start_time": "2020-05-13T09:12:31.643506Z"
    },
    "scrolled": true
   },
   "outputs": [],
   "source": [
    "idx_to_iid = {x:y for(y,x) in iid_to_idx.items()}\n",
    "idx_to_tag = {(x - n_items):y for(y,x) in tag_to_idx.items()}"
   ]
  },
  {
   "cell_type": "markdown",
   "metadata": {},
   "source": [
    "# sparse matrix\n",
    "- 방법에 대해 고민 해봐야 함"
   ]
  },
  {
   "cell_type": "code",
   "execution_count": 22,
   "metadata": {
    "ExecuteTime": {
     "end_time": "2020-05-13T08:12:06.875091Z",
     "start_time": "2020-05-13T08:12:06.871357Z"
    }
   },
   "outputs": [],
   "source": [
    "def boolean_indexing(v):\n",
    "    lens = np.array([len(item) for item in v])\n",
    "    mask = lens[:,None] > np.arange(lens.max())\n",
    "    out = np.zeros(mask.shape,dtype=int)\n",
    "    out[mask] = np.concatenate(v)\n",
    "    return out"
   ]
  },
  {
   "cell_type": "code",
   "execution_count": 23,
   "metadata": {
    "ExecuteTime": {
     "end_time": "2020-05-13T08:12:08.098282Z",
     "start_time": "2020-05-13T08:12:07.039188Z"
    }
   },
   "outputs": [],
   "source": [
    "tr_array = boolean_indexing(tr)"
   ]
  },
  {
   "cell_type": "code",
   "execution_count": 24,
   "metadata": {
    "ExecuteTime": {
     "end_time": "2020-05-13T08:12:08.192678Z",
     "start_time": "2020-05-13T08:12:08.100380Z"
    }
   },
   "outputs": [],
   "source": [
    "te_array = boolean_indexing(te)"
   ]
  },
  {
   "cell_type": "code",
   "execution_count": 78,
   "metadata": {
    "ExecuteTime": {
     "end_time": "2020-05-13T08:20:16.061773Z",
     "start_time": "2020-05-13T08:20:15.133967Z"
    }
   },
   "outputs": [],
   "source": [
    "tr_array = np.zeros([len(tr),len(max(tr,key = lambda x: len(x)))])\n",
    "for i,j in enumerate(tr):\n",
    "    tr_array[i][0:len(j)] = j"
   ]
  },
  {
   "cell_type": "code",
   "execution_count": null,
   "metadata": {},
   "outputs": [],
   "source": [
    "# 노래 곡수 + 태그의 최대 숫자가 240인데 이렇게 나오면 안되고, 'n_tags + n_items'인 115071 x 644302인 어레이가 나와야 함"
   ]
  },
  {
   "cell_type": "code",
   "execution_count": 84,
   "metadata": {
    "ExecuteTime": {
     "end_time": "2020-05-13T08:22:04.221262Z",
     "start_time": "2020-05-13T08:22:04.184473Z"
    }
   },
   "outputs": [
    {
     "data": {
      "text/plain": [
       "240"
      ]
     },
     "execution_count": 84,
     "metadata": {},
     "output_type": "execute_result"
    }
   ],
   "source": [
    "np.array([len (i) for i in tr]).max()"
   ]
  },
  {
   "cell_type": "code",
   "execution_count": 100,
   "metadata": {
    "ExecuteTime": {
     "end_time": "2020-05-13T08:33:40.762218Z",
     "start_time": "2020-05-13T08:33:40.633425Z"
    },
    "collapsed": true
   },
   "outputs": [
    {
     "data": {
      "text/plain": [
       "array([548271, 548272, 191482, 548273, 548274, 548275, 548276, 548277,\n",
       "       548278, 548279, 548280, 548281, 548282,  73077, 477958, 548283,\n",
       "       490260, 548284,     87,    572,     33,      1,    173,     45,\n",
       "           20,   1840, 115158, 115643, 115104, 115072, 115244, 115116,\n",
       "       115091, 116911, 615229, 615714, 615175, 615143, 615315, 615187,\n",
       "       615162, 616982, 615229, 615714, 615175, 615143, 615315, 615187,\n",
       "       615162, 616982,      0,      0,      0,      0,      0,      0,\n",
       "            0,      0,      0,      0,      0,      0,      0,      0,\n",
       "            0,      0,      0,      0,      0,      0,      0,      0,\n",
       "            0,      0,      0,      0,      0,      0,      0,      0,\n",
       "            0,      0,      0,      0,      0,      0,      0,      0,\n",
       "            0,      0,      0,      0,      0,      0,      0,      0,\n",
       "            0,      0,      0,      0,      0,      0,      0,      0,\n",
       "            0,      0,      0,      0,      0,      0,      0,      0,\n",
       "            0,      0,      0,      0,      0,      0,      0,      0,\n",
       "            0,      0,      0,      0,      0,      0,      0,      0,\n",
       "            0,      0,      0,      0,      0,      0,      0,      0,\n",
       "            0,      0,      0,      0,      0,      0,      0,      0,\n",
       "            0,      0,      0,      0,      0,      0,      0,      0,\n",
       "            0,      0,      0,      0,      0,      0,      0,      0,\n",
       "            0,      0,      0,      0,      0,      0,      0,      0,\n",
       "            0,      0,      0,      0,      0,      0,      0,      0,\n",
       "            0,      0,      0,      0,      0,      0,      0,      0,\n",
       "            0,      0,      0,      0,      0,      0,      0,      0,\n",
       "            0,      0,      0,      0,      0,      0,      0,      0,\n",
       "            0,      0,      0,      0,      0,      0,      0,      0,\n",
       "            0,      0,      0,      0,      0,      0,      0,      0,\n",
       "            0,      0,      0,      0,      0,      0,      0,      0,\n",
       "            0,      0,      0,      0,      0,      0,      0,      0,\n",
       "            0,      0,      0,      0,      0,      0,      0,      0])"
      ]
     },
     "execution_count": 100,
     "metadata": {},
     "output_type": "execute_result"
    }
   ],
   "source": [
    "tr_array.astype(int)[0]"
   ]
  },
  {
   "cell_type": "code",
   "execution_count": 62,
   "metadata": {
    "ExecuteTime": {
     "end_time": "2020-05-13T08:16:46.993245Z",
     "start_time": "2020-05-13T08:16:46.989344Z"
    }
   },
   "outputs": [
    {
     "data": {
      "text/plain": [
       "(23015, 105)"
      ]
     },
     "execution_count": 62,
     "metadata": {},
     "output_type": "execute_result"
    }
   ],
   "source": [
    "te_array.shape"
   ]
  },
  {
   "cell_type": "code",
   "execution_count": 64,
   "metadata": {
    "ExecuteTime": {
     "end_time": "2020-05-13T08:17:04.042465Z",
     "start_time": "2020-05-13T08:17:04.039033Z"
    }
   },
   "outputs": [
    {
     "data": {
      "text/plain": [
       "644302"
      ]
     },
     "execution_count": 64,
     "metadata": {},
     "output_type": "execute_result"
    }
   ],
   "source": [
    "n_tags + n_items"
   ]
  },
  {
   "cell_type": "markdown",
   "metadata": {
    "ExecuteTime": {
     "end_time": "2020-05-13T09:13:19.300114Z",
     "start_time": "2020-05-13T09:13:19.297769Z"
    }
   },
   "source": [
    "## binary matrix 만들기\n",
    "- https://stackoverflow.com/questions/50702988/creating-binary-matrix-of-each-unique-value-from-list-of-lists"
   ]
  },
  {
   "cell_type": "markdown",
   "metadata": {},
   "source": [
    "- train list to list"
   ]
  },
  {
   "cell_type": "code",
   "execution_count": 135,
   "metadata": {
    "ExecuteTime": {
     "end_time": "2020-05-13T09:01:57.147283Z",
     "start_time": "2020-05-13T09:01:40.355134Z"
    }
   },
   "outputs": [
    {
     "data": {
      "text/plain": [
       "matrix([[0, 1, 0, ..., 0, 0, 0],\n",
       "        [0, 0, 0, ..., 0, 0, 0],\n",
       "        [0, 0, 0, ..., 0, 0, 0],\n",
       "        ...,\n",
       "        [0, 0, 0, ..., 0, 0, 0],\n",
       "        [0, 0, 0, ..., 0, 0, 0],\n",
       "        [0, 0, 0, ..., 0, 0, 0]])"
      ]
     },
     "execution_count": 135,
     "metadata": {},
     "output_type": "execute_result"
    }
   ],
   "source": [
    "from sklearn.feature_extraction.text import CountVectorizer\n",
    "cv = CountVectorizer(tokenizer=lambda x: x, lowercase=False)\n",
    "tr_array = cv.fit_transform(tr)\n",
    "\n",
    "# To transform to dense matrix\n",
    "tr_array.todense()"
   ]
  },
  {
   "cell_type": "markdown",
   "metadata": {},
   "source": [
    "- test list to list"
   ]
  },
  {
   "cell_type": "code",
   "execution_count": 112,
   "metadata": {
    "ExecuteTime": {
     "end_time": "2020-05-13T08:40:25.982025Z",
     "start_time": "2020-05-13T08:40:24.405295Z"
    }
   },
   "outputs": [
    {
     "data": {
      "text/plain": [
       "matrix([[0, 0, 0, ..., 0, 0, 0],\n",
       "        [0, 0, 0, ..., 0, 0, 0],\n",
       "        [0, 0, 0, ..., 0, 0, 0],\n",
       "        ...,\n",
       "        [0, 0, 0, ..., 0, 0, 0],\n",
       "        [0, 0, 0, ..., 0, 0, 0],\n",
       "        [0, 0, 0, ..., 0, 0, 0]])"
      ]
     },
     "execution_count": 112,
     "metadata": {},
     "output_type": "execute_result"
    }
   ],
   "source": [
    "from sklearn.feature_extraction.text import CountVectorizer\n",
    "cv = CountVectorizer(tokenizer=lambda x: x, lowercase=False)\n",
    "te_array = cv.fit_transform(te)\n",
    "\n",
    "# To transform to dense matrix\n",
    "te_array.todense()"
   ]
  },
  {
   "cell_type": "markdown",
   "metadata": {},
   "source": [
    "# 모델링\n",
    "- 1. sparse 행렬 작업\n",
    "- 2. 두 행렬을 합치고\n",
    "- 3. 모델 fit 시키기"
   ]
  },
  {
   "cell_type": "code",
   "execution_count": 115,
   "metadata": {
    "ExecuteTime": {
     "end_time": "2020-05-13T08:40:36.576910Z",
     "start_time": "2020-05-13T08:40:36.573546Z"
    }
   },
   "outputs": [],
   "source": [
    "tr_csr = csr_matrix(tr_array, (len(tr), n_tags + n_items))\n",
    "te_csr = csr_matrix(te_array, (len(te), n_tags + n_items))"
   ]
  },
  {
   "cell_type": "code",
   "execution_count": 116,
   "metadata": {
    "ExecuteTime": {
     "end_time": "2020-05-13T08:40:39.389925Z",
     "start_time": "2020-05-13T08:40:39.309446Z"
    },
    "scrolled": true
   },
   "outputs": [],
   "source": [
    "import scipy.sparse\n",
    "r = scipy.sparse.vstack([te_csr, tr_csr])\n",
    "r = csr_matrix(r)"
   ]
  },
  {
   "cell_type": "code",
   "execution_count": 117,
   "metadata": {
    "ExecuteTime": {
     "end_time": "2020-05-13T08:47:37.263660Z",
     "start_time": "2020-05-13T08:40:40.195397Z"
    },
    "scrolled": true
   },
   "outputs": [
    {
     "data": {
      "application/vnd.jupyter.widget-view+json": {
       "model_id": "5e401e6596c84d24ba31176d9d47e397",
       "version_major": 2,
       "version_minor": 0
      },
      "text/plain": [
       "HBox(children=(IntProgress(value=0, max=15), HTML(value='')))"
      ]
     },
     "metadata": {},
     "output_type": "display_data"
    },
    {
     "name": "stdout",
     "output_type": "stream",
     "text": [
      "\n"
     ]
    }
   ],
   "source": [
    "als_model = ALS(factors=128, regularization=0.08)\n",
    "als_model.fit(r.T * 15.0)"
   ]
  },
  {
   "cell_type": "markdown",
   "metadata": {},
   "source": [
    "### 노래 예측 모댈과, 태그 예측모댈에 user factor와 item factor를 분배"
   ]
  },
  {
   "cell_type": "code",
   "execution_count": 118,
   "metadata": {
    "ExecuteTime": {
     "end_time": "2020-05-13T08:47:37.286343Z",
     "start_time": "2020-05-13T08:47:37.267484Z"
    }
   },
   "outputs": [],
   "source": [
    "item_model = ALS(use_gpu=False)\n",
    "tag_model = ALS(use_gpu=False)\n",
    "item_model.user_factors = als_model.user_factors\n",
    "tag_model.user_factors = als_model.user_factors"
   ]
  },
  {
   "cell_type": "code",
   "execution_count": 119,
   "metadata": {
    "ExecuteTime": {
     "end_time": "2020-05-13T08:47:37.294424Z",
     "start_time": "2020-05-13T08:47:37.290463Z"
    }
   },
   "outputs": [],
   "source": [
    "item_model.item_factors = als_model.item_factors[:n_items]\n",
    "tag_model.item_factors = als_model.item_factors[n_items:]"
   ]
  },
  {
   "cell_type": "code",
   "execution_count": 120,
   "metadata": {
    "ExecuteTime": {
     "end_time": "2020-05-13T08:47:37.302899Z",
     "start_time": "2020-05-13T08:47:37.297663Z"
    }
   },
   "outputs": [
    {
     "data": {
      "text/plain": [
       "(644302, 128)"
      ]
     },
     "execution_count": 120,
     "metadata": {},
     "output_type": "execute_result"
    }
   ],
   "source": [
    "als_model.item_factors.shape"
   ]
  },
  {
   "cell_type": "code",
   "execution_count": 121,
   "metadata": {
    "ExecuteTime": {
     "end_time": "2020-05-13T08:47:37.314569Z",
     "start_time": "2020-05-13T08:47:37.305544Z"
    }
   },
   "outputs": [
    {
     "data": {
      "text/plain": [
       "array([[-2.7139655e-01,  8.1092104e-02, -2.3679076e-02, ...,\n",
       "        -4.6856251e-01,  5.2570064e-02,  2.4029304e-01],\n",
       "       [-4.5710164e-01, -7.0614681e-02,  7.0186621e-03, ...,\n",
       "         3.4151590e-01,  6.6628605e-01,  2.1835957e-01],\n",
       "       [-4.2948008e-01, -1.3847241e-02, -5.4426279e-02, ...,\n",
       "         2.7176657e-01,  6.3023746e-01,  2.0602919e-01],\n",
       "       ...,\n",
       "       [ 3.5432735e-03,  2.6923401e-04,  1.0970696e-03, ...,\n",
       "         4.5748334e-03,  3.5547253e-03,  2.3294524e-03],\n",
       "       [-1.9738213e-03, -6.2862844e-03, -2.1205323e-03, ...,\n",
       "        -2.0258485e-03,  8.1458660e-03,  2.8332591e-03],\n",
       "       [-2.4964832e-04, -8.6847757e-04, -2.2691030e-04, ...,\n",
       "        -4.4478368e-04, -4.3195429e-05, -5.5013713e-04]], dtype=float32)"
      ]
     },
     "execution_count": 121,
     "metadata": {},
     "output_type": "execute_result"
    }
   ],
   "source": [
    "als_model.item_factors[n_items:]"
   ]
  },
  {
   "cell_type": "code",
   "execution_count": 123,
   "metadata": {
    "ExecuteTime": {
     "end_time": "2020-05-13T08:48:11.113259Z",
     "start_time": "2020-05-13T08:48:11.007733Z"
    }
   },
   "outputs": [],
   "source": [
    "item_rec_csr = tr_csr[:, :n_items]\n",
    "tag_rec_csr = tr_csr[:, n_items:]"
   ]
  },
  {
   "cell_type": "markdown",
   "metadata": {},
   "source": [
    "## recommend 과정"
   ]
  },
  {
   "cell_type": "code",
   "execution_count": 130,
   "metadata": {
    "ExecuteTime": {
     "end_time": "2020-05-13T08:59:55.265049Z",
     "start_time": "2020-05-13T08:49:31.250917Z"
    },
    "scrolled": true
   },
   "outputs": [
    {
     "data": {
      "application/vnd.jupyter.widget-view+json": {
       "model_id": "d71f7c510f084a6c88d4688dd9a861a1",
       "version_major": 2,
       "version_minor": 0
      },
      "text/plain": [
       "HBox(children=(IntProgress(value=0, max=23015), HTML(value='')))"
      ]
     },
     "metadata": {},
     "output_type": "display_data"
    },
    {
     "name": "stdout",
     "output_type": "stream",
     "text": [
      "\n"
     ]
    }
   ],
   "source": [
    "item_ret = []\n",
    "tag_ret = []\n",
    "from tqdm.auto import tqdm\n",
    "for u in tqdm(range(te_csr.shape[0])):\n",
    "    item_rec = item_model.recommend(u, item_rec_csr, N=100)\n",
    "    item_rec = [idx_to_iid[x[0]] for x in item_rec]\n",
    "    tag_rec = tag_model.recommend(u, tag_rec_csr, N=100)\n",
    "    tag_rec = [idx_to_tag[x[0]] for x in tag_rec if x[0] in idx_to_tag]\n",
    "    item_ret.append(item_rec)\n",
    "    tag_ret.append(tag_rec)"
   ]
  },
  {
   "cell_type": "code",
   "execution_count": 132,
   "metadata": {
    "ExecuteTime": {
     "end_time": "2020-05-13T08:59:55.283880Z",
     "start_time": "2020-05-13T08:59:55.277696Z"
    }
   },
   "outputs": [
    {
     "data": {
      "text/plain": [
       "array([[-2.7139655e-01,  8.1092104e-02, -2.3679076e-02, ...,\n",
       "        -4.6856251e-01,  5.2570064e-02,  2.4029304e-01],\n",
       "       [-4.5710164e-01, -7.0614681e-02,  7.0186621e-03, ...,\n",
       "         3.4151590e-01,  6.6628605e-01,  2.1835957e-01],\n",
       "       [-4.2948008e-01, -1.3847241e-02, -5.4426279e-02, ...,\n",
       "         2.7176657e-01,  6.3023746e-01,  2.0602919e-01],\n",
       "       ...,\n",
       "       [ 3.5432735e-03,  2.6923401e-04,  1.0970696e-03, ...,\n",
       "         4.5748334e-03,  3.5547253e-03,  2.3294524e-03],\n",
       "       [-1.9738213e-03, -6.2862844e-03, -2.1205323e-03, ...,\n",
       "        -2.0258485e-03,  8.1458660e-03,  2.8332591e-03],\n",
       "       [-2.4964832e-04, -8.6847757e-04, -2.2691030e-04, ...,\n",
       "        -4.4478368e-04, -4.3195429e-05, -5.5013713e-04]], dtype=float32)"
      ]
     },
     "execution_count": 132,
     "metadata": {},
     "output_type": "execute_result"
    }
   ],
   "source": [
    "tag_model.item_factors"
   ]
  },
  {
   "cell_type": "code",
   "execution_count": 26,
   "metadata": {},
   "outputs": [
    {
     "data": {
      "text/plain": [
       "array([[ 3.55746090e-01, -5.69548428e-01, -5.59754260e-02, ...,\n",
       "         4.83457536e-01,  1.95368275e-01,  1.14752978e-01],\n",
       "       [ 1.13077201e-01,  4.99642581e-01,  1.01401411e-01, ...,\n",
       "         8.70525062e-01,  5.08861303e-01,  4.67959046e-01],\n",
       "       [ 1.34080434e-02,  5.13347864e-01,  1.56607270e-01, ...,\n",
       "         6.01837337e-01,  4.08071131e-01,  3.32719356e-01],\n",
       "       ...,\n",
       "       [-5.10524551e-04,  3.28546972e-04,  8.81741638e-04, ...,\n",
       "         8.72330857e-04,  1.68862971e-04,  1.18788111e-03],\n",
       "       [ 9.88858286e-04,  1.02399255e-03,  3.29685328e-03, ...,\n",
       "         1.42479164e-03, -1.69632386e-03, -1.65981124e-03],\n",
       "       [ 9.73270435e-05,  1.62653669e-04, -2.30579590e-05, ...,\n",
       "         1.98975016e-04,  2.20649337e-04, -1.06205756e-04]], dtype=float32)"
      ]
     },
     "execution_count": 26,
     "metadata": {},
     "output_type": "execute_result"
    }
   ],
   "source": [
    "tag_model.item_factors"
   ]
  },
  {
   "cell_type": "markdown",
   "metadata": {},
   "source": [
    "## 최종 json파일 추출"
   ]
  },
  {
   "cell_type": "code",
   "execution_count": 133,
   "metadata": {
    "ExecuteTime": {
     "end_time": "2020-05-13T09:00:02.072383Z",
     "start_time": "2020-05-13T09:00:01.966829Z"
    }
   },
   "outputs": [],
   "source": [
    "returnval = []\n",
    "for _id, rec, tag_rec in zip(test_ids, item_ret, tag_ret):\n",
    "    returnval.append({\n",
    "        \"id\": _id,\n",
    "        \"songs\": rec[:100],\n",
    "        \"tags\": tag_rec[:10]\n",
    "    })"
   ]
  },
  {
   "cell_type": "code",
   "execution_count": 134,
   "metadata": {
    "ExecuteTime": {
     "end_time": "2020-05-13T09:00:03.088221Z",
     "start_time": "2020-05-13T09:00:02.576789Z"
    }
   },
   "outputs": [],
   "source": [
    "import json\n",
    "with open('ret.json', 'w', encoding='utf-8') as f:\n",
    "    f.write(json.dumps(returnval, ensure_ascii=False))"
   ]
  },
  {
   "cell_type": "markdown",
   "metadata": {},
   "source": [
    "# try 2"
   ]
  },
  {
   "cell_type": "code",
   "execution_count": 11,
   "metadata": {
    "ExecuteTime": {
     "end_time": "2020-05-14T12:09:45.944758Z",
     "start_time": "2020-05-14T12:09:41.689100Z"
    }
   },
   "outputs": [],
   "source": [
    "raw_tag_song = pd.read_json('./raw_data/tag_songs.json')"
   ]
  },
  {
   "cell_type": "code",
   "execution_count": 12,
   "metadata": {
    "ExecuteTime": {
     "end_time": "2020-05-14T12:09:46.543872Z",
     "start_time": "2020-05-14T12:09:45.947006Z"
    }
   },
   "outputs": [],
   "source": [
    "val_w_full_tags = pd.read_json('./raw_data/val_copy.json')"
   ]
  },
  {
   "cell_type": "code",
   "execution_count": 13,
   "metadata": {
    "ExecuteTime": {
     "end_time": "2020-05-14T12:09:46.571912Z",
     "start_time": "2020-05-14T12:09:46.546433Z"
    }
   },
   "outputs": [
    {
     "data": {
      "text/html": [
       "<div>\n",
       "<style scoped>\n",
       "    .dataframe tbody tr th:only-of-type {\n",
       "        vertical-align: middle;\n",
       "    }\n",
       "\n",
       "    .dataframe tbody tr th {\n",
       "        vertical-align: top;\n",
       "    }\n",
       "\n",
       "    .dataframe thead th {\n",
       "        text-align: right;\n",
       "    }\n",
       "</style>\n",
       "<table border=\"1\" class=\"dataframe\">\n",
       "  <thead>\n",
       "    <tr style=\"text-align: right;\">\n",
       "      <th></th>\n",
       "      <th>tags</th>\n",
       "      <th>songs</th>\n",
       "      <th>songs_num</th>\n",
       "    </tr>\n",
       "  </thead>\n",
       "  <tbody>\n",
       "    <tr>\n",
       "      <td>0</td>\n",
       "      <td></td>\n",
       "      <td>[253222, 270262, 301533, 136007, 238347, 13384...</td>\n",
       "      <td>{'253222': 1, '270262': 1, '301533': 1, '13600...</td>\n",
       "    </tr>\n",
       "    <tr>\n",
       "      <td>1</td>\n",
       "      <td>00</td>\n",
       "      <td>[496456, 323561, 452688, 503200, 102389, 58602...</td>\n",
       "      <td>{'496456': 1, '323561': 1, '452688': 1, '50320...</td>\n",
       "    </tr>\n",
       "    <tr>\n",
       "      <td>2</td>\n",
       "      <td>007</td>\n",
       "      <td>[571824, 181423, 333856, 291812, 402460, 10929...</td>\n",
       "      <td>{'291812': 3, '359929': 3, '210978': 2, '33130...</td>\n",
       "    </tr>\n",
       "    <tr>\n",
       "      <td>3</td>\n",
       "      <td>007시리즈</td>\n",
       "      <td>[427367, 181423, 492240, 333856, 291812, 67710...</td>\n",
       "      <td>{'427367': 2, '181423': 2, '492240': 2, '33385...</td>\n",
       "    </tr>\n",
       "    <tr>\n",
       "      <td>4</td>\n",
       "      <td>00s</td>\n",
       "      <td>[367143, 35117, 387871, 651040, 551409, 544099...</td>\n",
       "      <td>{'580074': 3, '117595': 2, '176961': 2, '58477...</td>\n",
       "    </tr>\n",
       "    <tr>\n",
       "      <td>...</td>\n",
       "      <td>...</td>\n",
       "      <td>...</td>\n",
       "      <td>...</td>\n",
       "    </tr>\n",
       "    <tr>\n",
       "      <td>29155</td>\n",
       "      <td>힙해</td>\n",
       "      <td>[554524, 653392, 669251, 217370, 627771, 75076...</td>\n",
       "      <td>{'363570': 3, '653392': 2, '18117': 2, '271156...</td>\n",
       "    </tr>\n",
       "    <tr>\n",
       "      <td>29156</td>\n",
       "      <td>힙힙힙</td>\n",
       "      <td>[146247, 152953, 170279, 703985, 591826, 46060...</td>\n",
       "      <td>{'44113': 2, '146247': 1, '152953': 1, '170279...</td>\n",
       "    </tr>\n",
       "    <tr>\n",
       "      <td>29157</td>\n",
       "      <td>힛뎀포크</td>\n",
       "      <td>[251011, 14923, 605624, 4819, 442751, 538647, ...</td>\n",
       "      <td>{'251011': 1, '14923': 1, '605624': 1, '4819':...</td>\n",
       "    </tr>\n",
       "    <tr>\n",
       "      <td>29158</td>\n",
       "      <td>힛뎀폭</td>\n",
       "      <td>[251011, 14923, 605624, 4819, 442751, 538647, ...</td>\n",
       "      <td>{'251011': 1, '14923': 1, '605624': 1, '4819':...</td>\n",
       "    </tr>\n",
       "    <tr>\n",
       "      <td>29159</td>\n",
       "      <td>힛뎀폭스</td>\n",
       "      <td>[251011, 14923, 605624, 4819, 442751, 538647, ...</td>\n",
       "      <td>{'404976': 2, '432284': 2, '520506': 2, '69596...</td>\n",
       "    </tr>\n",
       "  </tbody>\n",
       "</table>\n",
       "<p>29160 rows × 3 columns</p>\n",
       "</div>"
      ],
      "text/plain": [
       "         tags                                              songs  \\\n",
       "0              [253222, 270262, 301533, 136007, 238347, 13384...   \n",
       "1          00  [496456, 323561, 452688, 503200, 102389, 58602...   \n",
       "2         007  [571824, 181423, 333856, 291812, 402460, 10929...   \n",
       "3      007시리즈  [427367, 181423, 492240, 333856, 291812, 67710...   \n",
       "4         00s  [367143, 35117, 387871, 651040, 551409, 544099...   \n",
       "...       ...                                                ...   \n",
       "29155      힙해  [554524, 653392, 669251, 217370, 627771, 75076...   \n",
       "29156     힙힙힙  [146247, 152953, 170279, 703985, 591826, 46060...   \n",
       "29157    힛뎀포크  [251011, 14923, 605624, 4819, 442751, 538647, ...   \n",
       "29158     힛뎀폭  [251011, 14923, 605624, 4819, 442751, 538647, ...   \n",
       "29159    힛뎀폭스  [251011, 14923, 605624, 4819, 442751, 538647, ...   \n",
       "\n",
       "                                               songs_num  \n",
       "0      {'253222': 1, '270262': 1, '301533': 1, '13600...  \n",
       "1      {'496456': 1, '323561': 1, '452688': 1, '50320...  \n",
       "2      {'291812': 3, '359929': 3, '210978': 2, '33130...  \n",
       "3      {'427367': 2, '181423': 2, '492240': 2, '33385...  \n",
       "4      {'580074': 3, '117595': 2, '176961': 2, '58477...  \n",
       "...                                                  ...  \n",
       "29155  {'363570': 3, '653392': 2, '18117': 2, '271156...  \n",
       "29156  {'44113': 2, '146247': 1, '152953': 1, '170279...  \n",
       "29157  {'251011': 1, '14923': 1, '605624': 1, '4819':...  \n",
       "29158  {'251011': 1, '14923': 1, '605624': 1, '4819':...  \n",
       "29159  {'404976': 2, '432284': 2, '520506': 2, '69596...  \n",
       "\n",
       "[29160 rows x 3 columns]"
      ]
     },
     "execution_count": 13,
     "metadata": {},
     "output_type": "execute_result"
    }
   ],
   "source": [
    "raw_tag_song"
   ]
  },
  {
   "cell_type": "code",
   "execution_count": 14,
   "metadata": {
    "ExecuteTime": {
     "end_time": "2020-05-14T12:09:46.591195Z",
     "start_time": "2020-05-14T12:09:46.574624Z"
    }
   },
   "outputs": [
    {
     "data": {
      "text/html": [
       "<div>\n",
       "<style scoped>\n",
       "    .dataframe tbody tr th:only-of-type {\n",
       "        vertical-align: middle;\n",
       "    }\n",
       "\n",
       "    .dataframe tbody tr th {\n",
       "        vertical-align: top;\n",
       "    }\n",
       "\n",
       "    .dataframe thead th {\n",
       "        text-align: right;\n",
       "    }\n",
       "</style>\n",
       "<table border=\"1\" class=\"dataframe\">\n",
       "  <thead>\n",
       "    <tr style=\"text-align: right;\">\n",
       "      <th></th>\n",
       "      <th>tags</th>\n",
       "      <th>songs</th>\n",
       "    </tr>\n",
       "  </thead>\n",
       "  <tbody>\n",
       "    <tr>\n",
       "      <td>0</td>\n",
       "      <td></td>\n",
       "      <td>[253222, 270262, 301533, 136007, 238347, 13384...</td>\n",
       "    </tr>\n",
       "    <tr>\n",
       "      <td>1</td>\n",
       "      <td>00</td>\n",
       "      <td>[496456, 323561, 452688, 503200, 102389, 58602...</td>\n",
       "    </tr>\n",
       "    <tr>\n",
       "      <td>2</td>\n",
       "      <td>007</td>\n",
       "      <td>[571824, 181423, 333856, 291812, 402460, 10929...</td>\n",
       "    </tr>\n",
       "    <tr>\n",
       "      <td>3</td>\n",
       "      <td>007시리즈</td>\n",
       "      <td>[427367, 181423, 492240, 333856, 291812, 67710...</td>\n",
       "    </tr>\n",
       "    <tr>\n",
       "      <td>4</td>\n",
       "      <td>00s</td>\n",
       "      <td>[367143, 35117, 387871, 651040, 551409, 544099...</td>\n",
       "    </tr>\n",
       "    <tr>\n",
       "      <td>...</td>\n",
       "      <td>...</td>\n",
       "      <td>...</td>\n",
       "    </tr>\n",
       "    <tr>\n",
       "      <td>29155</td>\n",
       "      <td>힙해</td>\n",
       "      <td>[554524, 653392, 669251, 217370, 627771, 75076...</td>\n",
       "    </tr>\n",
       "    <tr>\n",
       "      <td>29156</td>\n",
       "      <td>힙힙힙</td>\n",
       "      <td>[146247, 152953, 170279, 703985, 591826, 46060...</td>\n",
       "    </tr>\n",
       "    <tr>\n",
       "      <td>29157</td>\n",
       "      <td>힛뎀포크</td>\n",
       "      <td>[251011, 14923, 605624, 4819, 442751, 538647, ...</td>\n",
       "    </tr>\n",
       "    <tr>\n",
       "      <td>29158</td>\n",
       "      <td>힛뎀폭</td>\n",
       "      <td>[251011, 14923, 605624, 4819, 442751, 538647, ...</td>\n",
       "    </tr>\n",
       "    <tr>\n",
       "      <td>29159</td>\n",
       "      <td>힛뎀폭스</td>\n",
       "      <td>[251011, 14923, 605624, 4819, 442751, 538647, ...</td>\n",
       "    </tr>\n",
       "  </tbody>\n",
       "</table>\n",
       "<p>29160 rows × 2 columns</p>\n",
       "</div>"
      ],
      "text/plain": [
       "         tags                                              songs\n",
       "0              [253222, 270262, 301533, 136007, 238347, 13384...\n",
       "1          00  [496456, 323561, 452688, 503200, 102389, 58602...\n",
       "2         007  [571824, 181423, 333856, 291812, 402460, 10929...\n",
       "3      007시리즈  [427367, 181423, 492240, 333856, 291812, 67710...\n",
       "4         00s  [367143, 35117, 387871, 651040, 551409, 544099...\n",
       "...       ...                                                ...\n",
       "29155      힙해  [554524, 653392, 669251, 217370, 627771, 75076...\n",
       "29156     힙힙힙  [146247, 152953, 170279, 703985, 591826, 46060...\n",
       "29157    힛뎀포크  [251011, 14923, 605624, 4819, 442751, 538647, ...\n",
       "29158     힛뎀폭  [251011, 14923, 605624, 4819, 442751, 538647, ...\n",
       "29159    힛뎀폭스  [251011, 14923, 605624, 4819, 442751, 538647, ...\n",
       "\n",
       "[29160 rows x 2 columns]"
      ]
     },
     "execution_count": 14,
     "metadata": {},
     "output_type": "execute_result"
    }
   ],
   "source": [
    "tag_song = raw_tag_song[['tags','songs']]\n",
    "tag_song"
   ]
  },
  {
   "cell_type": "code",
   "execution_count": 109,
   "metadata": {
    "ExecuteTime": {
     "end_time": "2020-05-14T12:51:20.176992Z",
     "start_time": "2020-05-14T12:51:20.155733Z"
    }
   },
   "outputs": [],
   "source": [
    "import itertools\n",
    "a = list(itertools.islice(raw_tag_song[raw_tag_song['tags'] == \"OST\"]['songs_num'].tolist()[0].items(), 20))\n",
    "b = list(itertools.islice(raw_tag_song[raw_tag_song['tags'] == \"힙합\"]['songs_num'].tolist()[0].items(), 20))"
   ]
  },
  {
   "cell_type": "code",
   "execution_count": 81,
   "metadata": {
    "ExecuteTime": {
     "end_time": "2020-05-14T12:35:27.236979Z",
     "start_time": "2020-05-14T12:35:27.226562Z"
    }
   },
   "outputs": [],
   "source": [
    "a = list(itertools.islice(raw_tag_song[raw_tag_song['tags'] == \"힙합\"]['songs_num'].tolist()[0].items(), 20000))"
   ]
  },
  {
   "cell_type": "code",
   "execution_count": 35,
   "metadata": {
    "ExecuteTime": {
     "end_time": "2020-05-14T12:21:44.910907Z",
     "start_time": "2020-05-14T12:21:44.907584Z"
    }
   },
   "outputs": [
    {
     "data": {
      "text/plain": [
       "23015"
      ]
     },
     "execution_count": 35,
     "metadata": {},
     "output_type": "execute_result"
    }
   ],
   "source": [
    "len(val_w_full_tags)"
   ]
  },
  {
   "cell_type": "code",
   "execution_count": 94,
   "metadata": {
    "ExecuteTime": {
     "end_time": "2020-05-14T12:46:17.824767Z",
     "start_time": "2020-05-14T12:46:17.811379Z"
    }
   },
   "outputs": [],
   "source": [
    "tags_under_10 = val_w_full_tags[val_w_full_tags['tags'].apply(lambda x : len(x)) < 10]"
   ]
  },
  {
   "cell_type": "code",
   "execution_count": 113,
   "metadata": {
    "ExecuteTime": {
     "end_time": "2020-05-14T12:59:08.484462Z",
     "start_time": "2020-05-14T12:59:08.466942Z"
    }
   },
   "outputs": [
    {
     "data": {
      "text/html": [
       "<div>\n",
       "<style scoped>\n",
       "    .dataframe tbody tr th:only-of-type {\n",
       "        vertical-align: middle;\n",
       "    }\n",
       "\n",
       "    .dataframe tbody tr th {\n",
       "        vertical-align: top;\n",
       "    }\n",
       "\n",
       "    .dataframe thead th {\n",
       "        text-align: right;\n",
       "    }\n",
       "</style>\n",
       "<table border=\"1\" class=\"dataframe\">\n",
       "  <thead>\n",
       "    <tr style=\"text-align: right;\">\n",
       "      <th></th>\n",
       "      <th>tags</th>\n",
       "      <th>id</th>\n",
       "      <th>plylst_title</th>\n",
       "      <th>songs</th>\n",
       "      <th>like_cnt</th>\n",
       "      <th>updt_date</th>\n",
       "    </tr>\n",
       "  </thead>\n",
       "  <tbody>\n",
       "    <tr>\n",
       "      <td>1</td>\n",
       "      <td>[]</td>\n",
       "      <td>131447</td>\n",
       "      <td>앨리스테이블</td>\n",
       "      <td>[]</td>\n",
       "      <td>1</td>\n",
       "      <td>2014-07-16 15:24:24.000</td>\n",
       "    </tr>\n",
       "    <tr>\n",
       "      <td>8</td>\n",
       "      <td>[스트레스]</td>\n",
       "      <td>80810</td>\n",
       "      <td>리듬타면서 빡시게 운동하자!!!(스트레스 날리자):}</td>\n",
       "      <td>[]</td>\n",
       "      <td>127</td>\n",
       "      <td>2017-02-09 17:33:45.000</td>\n",
       "    </tr>\n",
       "    <tr>\n",
       "      <td>9</td>\n",
       "      <td>[]</td>\n",
       "      <td>142007</td>\n",
       "      <td>기분 좋은 재즈와 함께 만드는 달달한 하루</td>\n",
       "      <td>[]</td>\n",
       "      <td>0</td>\n",
       "      <td>2015-06-22 09:11:02.000</td>\n",
       "    </tr>\n",
       "    <tr>\n",
       "      <td>17</td>\n",
       "      <td>[생각나]</td>\n",
       "      <td>2380</td>\n",
       "      <td>다시 생각나는 그 사람</td>\n",
       "      <td>[]</td>\n",
       "      <td>6</td>\n",
       "      <td>2016-03-19 23:53:20.000</td>\n",
       "    </tr>\n",
       "    <tr>\n",
       "      <td>20</td>\n",
       "      <td>[피아노, 이루마, 메로디]</td>\n",
       "      <td>149069</td>\n",
       "      <td>불면증엔 아름다운 뉴에이지 곡들</td>\n",
       "      <td>[]</td>\n",
       "      <td>11</td>\n",
       "      <td>2019-12-15 19:15:21.000</td>\n",
       "    </tr>\n",
       "    <tr>\n",
       "      <td>...</td>\n",
       "      <td>...</td>\n",
       "      <td>...</td>\n",
       "      <td>...</td>\n",
       "      <td>...</td>\n",
       "      <td>...</td>\n",
       "      <td>...</td>\n",
       "    </tr>\n",
       "    <tr>\n",
       "      <td>22991</td>\n",
       "      <td>[]</td>\n",
       "      <td>32537</td>\n",
       "      <td>컨트리 황제 조니 캐시가 선 레코드 시절 발표한 초기 대표작</td>\n",
       "      <td>[]</td>\n",
       "      <td>28</td>\n",
       "      <td>2019-06-17 14:22:48.000</td>\n",
       "    </tr>\n",
       "    <tr>\n",
       "      <td>22992</td>\n",
       "      <td>[사랑]</td>\n",
       "      <td>32812</td>\n",
       "      <td>♥옷차림이 가벼워질때 부담없이 듣는음악♥</td>\n",
       "      <td>[]</td>\n",
       "      <td>8</td>\n",
       "      <td>2015-05-08 00:09:01.000</td>\n",
       "    </tr>\n",
       "    <tr>\n",
       "      <td>22996</td>\n",
       "      <td>[]</td>\n",
       "      <td>86721</td>\n",
       "      <td>해 저무는 밤</td>\n",
       "      <td>[]</td>\n",
       "      <td>5</td>\n",
       "      <td>2016-04-27 15:32:55.000</td>\n",
       "    </tr>\n",
       "    <tr>\n",
       "      <td>23002</td>\n",
       "      <td>[텐션, 명곡, 학창시절, 텐션업]</td>\n",
       "      <td>56570</td>\n",
       "      <td>숨어듣는명곡! 텐션올릴때듣는 그시절그노래!! (그냥명곡있을수있음주의)</td>\n",
       "      <td>[]</td>\n",
       "      <td>538</td>\n",
       "      <td>2020-04-18 22:02:07.000</td>\n",
       "    </tr>\n",
       "    <tr>\n",
       "      <td>23008</td>\n",
       "      <td>[sweetmind, 발라드, 사랑, 기분전환, 역주행]</td>\n",
       "      <td>100684</td>\n",
       "      <td>[별책부록] Sweetmind의 음악마중</td>\n",
       "      <td>[]</td>\n",
       "      <td>79</td>\n",
       "      <td>2020-02-07 14:42:25.000</td>\n",
       "    </tr>\n",
       "  </tbody>\n",
       "</table>\n",
       "<p>4675 rows × 6 columns</p>\n",
       "</div>"
      ],
      "text/plain": [
       "                                  tags      id  \\\n",
       "1                                   []  131447   \n",
       "8                               [스트레스]   80810   \n",
       "9                                   []  142007   \n",
       "17                               [생각나]    2380   \n",
       "20                     [피아노, 이루마, 메로디]  149069   \n",
       "...                                ...     ...   \n",
       "22991                               []   32537   \n",
       "22992                             [사랑]   32812   \n",
       "22996                               []   86721   \n",
       "23002              [텐션, 명곡, 학창시절, 텐션업]   56570   \n",
       "23008  [sweetmind, 발라드, 사랑, 기분전환, 역주행]  100684   \n",
       "\n",
       "                                 plylst_title songs  like_cnt  \\\n",
       "1                                      앨리스테이블    []         1   \n",
       "8               리듬타면서 빡시게 운동하자!!!(스트레스 날리자):}    []       127   \n",
       "9                     기분 좋은 재즈와 함께 만드는 달달한 하루    []         0   \n",
       "17                               다시 생각나는 그 사람    []         6   \n",
       "20                          불면증엔 아름다운 뉴에이지 곡들    []        11   \n",
       "...                                       ...   ...       ...   \n",
       "22991       컨트리 황제 조니 캐시가 선 레코드 시절 발표한 초기 대표작    []        28   \n",
       "22992                  ♥옷차림이 가벼워질때 부담없이 듣는음악♥    []         8   \n",
       "22996                                 해 저무는 밤    []         5   \n",
       "23002  숨어듣는명곡! 텐션올릴때듣는 그시절그노래!! (그냥명곡있을수있음주의)    []       538   \n",
       "23008                  [별책부록] Sweetmind의 음악마중    []        79   \n",
       "\n",
       "                     updt_date  \n",
       "1      2014-07-16 15:24:24.000  \n",
       "8      2017-02-09 17:33:45.000  \n",
       "9      2015-06-22 09:11:02.000  \n",
       "17     2016-03-19 23:53:20.000  \n",
       "20     2019-12-15 19:15:21.000  \n",
       "...                        ...  \n",
       "22991  2019-06-17 14:22:48.000  \n",
       "22992  2015-05-08 00:09:01.000  \n",
       "22996  2016-04-27 15:32:55.000  \n",
       "23002  2020-04-18 22:02:07.000  \n",
       "23008  2020-02-07 14:42:25.000  \n",
       "\n",
       "[4675 rows x 6 columns]"
      ]
     },
     "execution_count": 113,
     "metadata": {},
     "output_type": "execute_result"
    }
   ],
   "source": [
    "tags_under_10"
   ]
  },
  {
   "cell_type": "markdown",
   "metadata": {},
   "source": [
    "# song_count "
   ]
  },
  {
   "cell_type": "code",
   "execution_count": 17,
   "metadata": {
    "ExecuteTime": {
     "end_time": "2020-05-14T12:09:46.612668Z",
     "start_time": "2020-05-14T12:09:46.608368Z"
    }
   },
   "outputs": [],
   "source": [
    "# 중복 검사, 같은 노래면 카운트를 더해라(dict로 만들어서)\n",
    "def song_count(tags):\n",
    "    ls = []\n",
    "    for tag in tags:\n",
    "        ls += list(itertools.islice(raw_tag_song[raw_tag_song['tags'] == tag]['songs_num'].tolist()[0].items(), 20))\n",
    "    ls.sort(key = lambda element : element[1], reverse=True)\n",
    "    \n",
    "    return [int(i[0]) for i in ls]"
   ]
  },
  {
   "cell_type": "code",
   "execution_count": 18,
   "metadata": {
    "ExecuteTime": {
     "end_time": "2020-05-14T12:09:46.621969Z",
     "start_time": "2020-05-14T12:09:46.615702Z"
    }
   },
   "outputs": [
    {
     "data": {
      "text/plain": [
       "2615"
      ]
     },
     "execution_count": 18,
     "metadata": {},
     "output_type": "execute_result"
    }
   ],
   "source": [
    "raw_tag_song[raw_tag_song['tags'] == 'OST']['songs_num'].index.values[0]"
   ]
  },
  {
   "cell_type": "code",
   "execution_count": 19,
   "metadata": {
    "ExecuteTime": {
     "end_time": "2020-05-14T12:09:46.655564Z",
     "start_time": "2020-05-14T12:09:46.623696Z"
    }
   },
   "outputs": [
    {
     "data": {
      "text/html": [
       "<div>\n",
       "<style scoped>\n",
       "    .dataframe tbody tr th:only-of-type {\n",
       "        vertical-align: middle;\n",
       "    }\n",
       "\n",
       "    .dataframe tbody tr th {\n",
       "        vertical-align: top;\n",
       "    }\n",
       "\n",
       "    .dataframe thead th {\n",
       "        text-align: right;\n",
       "    }\n",
       "</style>\n",
       "<table border=\"1\" class=\"dataframe\">\n",
       "  <thead>\n",
       "    <tr style=\"text-align: right;\">\n",
       "      <th></th>\n",
       "      <th>tags</th>\n",
       "      <th>id</th>\n",
       "      <th>plylst_title</th>\n",
       "      <th>songs</th>\n",
       "      <th>like_cnt</th>\n",
       "      <th>updt_date</th>\n",
       "    </tr>\n",
       "  </thead>\n",
       "  <tbody>\n",
       "    <tr>\n",
       "      <td>0</td>\n",
       "      <td>[OST, 기분전환, 디즈니, 애니메이션, 영화, 팝, 겨울, 추억, 휴식, 힐링]</td>\n",
       "      <td>118598</td>\n",
       "      <td></td>\n",
       "      <td>[373313, 151080, 275346, 696876, 165237, 52593...</td>\n",
       "      <td>1675</td>\n",
       "      <td>2019-05-27 14:14:33.000</td>\n",
       "    </tr>\n",
       "    <tr>\n",
       "      <td>2</td>\n",
       "      <td>[발라드, 추억, 회상, 이별, 슬픔, 설렘, 사랑, 싸이월드, 밤, 새벽]</td>\n",
       "      <td>51464</td>\n",
       "      <td></td>\n",
       "      <td>[529437, 516103, 360067, 705713, 226062, 37089...</td>\n",
       "      <td>62</td>\n",
       "      <td>2008-06-21 23:26:22.000</td>\n",
       "    </tr>\n",
       "    <tr>\n",
       "      <td>3</td>\n",
       "      <td>[발라드, 감성, 이별, 기분전환, 사랑, 카페, 드라이브, 잔잔한, 새벽, 휴식]</td>\n",
       "      <td>45144</td>\n",
       "      <td></td>\n",
       "      <td>[589668, 21711, 570151, 320043, 13930, 599327,...</td>\n",
       "      <td>20</td>\n",
       "      <td>2017-10-30 18:15:43.000</td>\n",
       "    </tr>\n",
       "    <tr>\n",
       "      <td>4</td>\n",
       "      <td>[CCM, 찬양, 은혜, 사랑, 예배, 국내ccm, 위로, 은혜로운, 찬송가, 교회]</td>\n",
       "      <td>79929</td>\n",
       "      <td></td>\n",
       "      <td>[672718, 121924, 102694, 683657, 201558, 38511...</td>\n",
       "      <td>20</td>\n",
       "      <td>2017-02-07 11:40:42.000</td>\n",
       "    </tr>\n",
       "    <tr>\n",
       "      <td>5</td>\n",
       "      <td>[Pop, 기분전환, 드라이브, 빌보드, 빌보드Hot50, 트렌디, 스트레스, 빌보...</td>\n",
       "      <td>138538</td>\n",
       "      <td></td>\n",
       "      <td>[173033, 138237, 63140, 15733, 461780, 308519,...</td>\n",
       "      <td>2</td>\n",
       "      <td>2019-06-12 17:43:35.000</td>\n",
       "    </tr>\n",
       "    <tr>\n",
       "      <td>...</td>\n",
       "      <td>...</td>\n",
       "      <td>...</td>\n",
       "      <td>...</td>\n",
       "      <td>...</td>\n",
       "      <td>...</td>\n",
       "      <td>...</td>\n",
       "    </tr>\n",
       "    <tr>\n",
       "      <td>23010</td>\n",
       "      <td>[발라드, 기분전환, 감성, 사랑, 이별, 새벽, 휴식, 잔잔한, 밤, 추억]</td>\n",
       "      <td>101722</td>\n",
       "      <td></td>\n",
       "      <td>[75842, 26083, 244183, 684715, 500593, 508608,...</td>\n",
       "      <td>17</td>\n",
       "      <td>2015-12-17 14:06:05.000</td>\n",
       "    </tr>\n",
       "    <tr>\n",
       "      <td>23011</td>\n",
       "      <td>[힐링, 휴식, 기분전환, 감성, 잔잔한, 발라드, 새벽, 사랑, 밤, 추억]</td>\n",
       "      <td>122127</td>\n",
       "      <td></td>\n",
       "      <td>[450275, 487671, 561031, 663944, 628672, 59121...</td>\n",
       "      <td>10</td>\n",
       "      <td>2020-04-16 21:35:44.000</td>\n",
       "    </tr>\n",
       "    <tr>\n",
       "      <td>23012</td>\n",
       "      <td>[기분전환, 팝, 드라이브, 휴식, 힐링, 감성, Pop, 잔잔한, 팝송, 새벽]</td>\n",
       "      <td>77438</td>\n",
       "      <td></td>\n",
       "      <td>[625875, 464051, 11657, 236393, 358186, 213435...</td>\n",
       "      <td>0</td>\n",
       "      <td>2019-03-27 15:27:40.000</td>\n",
       "    </tr>\n",
       "    <tr>\n",
       "      <td>23013</td>\n",
       "      <td>[클래식, 휴식, 힐링, 잔잔한, 팝, 추억, 기분전환, 올드팝, 감성, 피아노]</td>\n",
       "      <td>36231</td>\n",
       "      <td></td>\n",
       "      <td>[161094, 665833, 688145, 432735, 439938, 12665...</td>\n",
       "      <td>31</td>\n",
       "      <td>2015-11-18 11:49:09.000</td>\n",
       "    </tr>\n",
       "    <tr>\n",
       "      <td>23014</td>\n",
       "      <td>[봄, 사랑, 감성, 기분전환, 드라이브, 설렘, 발라드, 카페, 휴식, 힐링]</td>\n",
       "      <td>65189</td>\n",
       "      <td></td>\n",
       "      <td>[643070, 132994, 98223, 293236, 513129, 650494...</td>\n",
       "      <td>19</td>\n",
       "      <td>2017-04-23 16:50:58.000</td>\n",
       "    </tr>\n",
       "  </tbody>\n",
       "</table>\n",
       "<p>18636 rows × 6 columns</p>\n",
       "</div>"
      ],
      "text/plain": [
       "                                                    tags      id plylst_title  \\\n",
       "0         [OST, 기분전환, 디즈니, 애니메이션, 영화, 팝, 겨울, 추억, 휴식, 힐링]  118598                \n",
       "2             [발라드, 추억, 회상, 이별, 슬픔, 설렘, 사랑, 싸이월드, 밤, 새벽]   51464                \n",
       "3         [발라드, 감성, 이별, 기분전환, 사랑, 카페, 드라이브, 잔잔한, 새벽, 휴식]   45144                \n",
       "4        [CCM, 찬양, 은혜, 사랑, 예배, 국내ccm, 위로, 은혜로운, 찬송가, 교회]   79929                \n",
       "5      [Pop, 기분전환, 드라이브, 빌보드, 빌보드Hot50, 트렌디, 스트레스, 빌보...  138538                \n",
       "...                                                  ...     ...          ...   \n",
       "23010        [발라드, 기분전환, 감성, 사랑, 이별, 새벽, 휴식, 잔잔한, 밤, 추억]  101722                \n",
       "23011        [힐링, 휴식, 기분전환, 감성, 잔잔한, 발라드, 새벽, 사랑, 밤, 추억]  122127                \n",
       "23012      [기분전환, 팝, 드라이브, 휴식, 힐링, 감성, Pop, 잔잔한, 팝송, 새벽]   77438                \n",
       "23013      [클래식, 휴식, 힐링, 잔잔한, 팝, 추억, 기분전환, 올드팝, 감성, 피아노]   36231                \n",
       "23014       [봄, 사랑, 감성, 기분전환, 드라이브, 설렘, 발라드, 카페, 휴식, 힐링]   65189                \n",
       "\n",
       "                                                   songs  like_cnt  \\\n",
       "0      [373313, 151080, 275346, 696876, 165237, 52593...      1675   \n",
       "2      [529437, 516103, 360067, 705713, 226062, 37089...        62   \n",
       "3      [589668, 21711, 570151, 320043, 13930, 599327,...        20   \n",
       "4      [672718, 121924, 102694, 683657, 201558, 38511...        20   \n",
       "5      [173033, 138237, 63140, 15733, 461780, 308519,...         2   \n",
       "...                                                  ...       ...   \n",
       "23010  [75842, 26083, 244183, 684715, 500593, 508608,...        17   \n",
       "23011  [450275, 487671, 561031, 663944, 628672, 59121...        10   \n",
       "23012  [625875, 464051, 11657, 236393, 358186, 213435...         0   \n",
       "23013  [161094, 665833, 688145, 432735, 439938, 12665...        31   \n",
       "23014  [643070, 132994, 98223, 293236, 513129, 650494...        19   \n",
       "\n",
       "                     updt_date  \n",
       "0      2019-05-27 14:14:33.000  \n",
       "2      2008-06-21 23:26:22.000  \n",
       "3      2017-10-30 18:15:43.000  \n",
       "4      2017-02-07 11:40:42.000  \n",
       "5      2019-06-12 17:43:35.000  \n",
       "...                        ...  \n",
       "23010  2015-12-17 14:06:05.000  \n",
       "23011  2020-04-16 21:35:44.000  \n",
       "23012  2019-03-27 15:27:40.000  \n",
       "23013  2015-11-18 11:49:09.000  \n",
       "23014  2017-04-23 16:50:58.000  \n",
       "\n",
       "[18636 rows x 6 columns]"
      ]
     },
     "execution_count": 19,
     "metadata": {},
     "output_type": "execute_result"
    }
   ],
   "source": [
    "# songs에 노래가 있는 데이터\n",
    "val_w_full_tags_songs_in = val_w_full_tags[val_w_full_tags['songs'].apply(lambda x : len(x)) != 0]\n",
    "val_w_full_tags_songs_in"
   ]
  },
  {
   "cell_type": "code",
   "execution_count": 20,
   "metadata": {
    "ExecuteTime": {
     "end_time": "2020-05-14T12:16:12.643941Z",
     "start_time": "2020-05-14T12:09:46.819907Z"
    }
   },
   "outputs": [],
   "source": [
    "# 8분 걸림\n",
    "val_w_full_tags_songs_in['count_top_songs'] = val_w_full_tags_songs_in['tags'].apply(lambda x : song_count(x))"
   ]
  },
  {
   "cell_type": "code",
   "execution_count": 26,
   "metadata": {
    "ExecuteTime": {
     "end_time": "2020-05-14T12:18:17.319167Z",
     "start_time": "2020-05-14T12:18:17.289644Z"
    }
   },
   "outputs": [
    {
     "data": {
      "text/html": [
       "<div>\n",
       "<style scoped>\n",
       "    .dataframe tbody tr th:only-of-type {\n",
       "        vertical-align: middle;\n",
       "    }\n",
       "\n",
       "    .dataframe tbody tr th {\n",
       "        vertical-align: top;\n",
       "    }\n",
       "\n",
       "    .dataframe thead th {\n",
       "        text-align: right;\n",
       "    }\n",
       "</style>\n",
       "<table border=\"1\" class=\"dataframe\">\n",
       "  <thead>\n",
       "    <tr style=\"text-align: right;\">\n",
       "      <th></th>\n",
       "      <th>tags</th>\n",
       "      <th>id</th>\n",
       "      <th>plylst_title</th>\n",
       "      <th>songs</th>\n",
       "      <th>like_cnt</th>\n",
       "      <th>updt_date</th>\n",
       "      <th>count_top_songs</th>\n",
       "    </tr>\n",
       "  </thead>\n",
       "  <tbody>\n",
       "    <tr>\n",
       "      <td>0</td>\n",
       "      <td>[OST, 기분전환, 디즈니, 애니메이션, 영화, 팝, 겨울, 추억, 휴식, 힐링]</td>\n",
       "      <td>118598</td>\n",
       "      <td></td>\n",
       "      <td>[373313, 151080, 275346, 696876, 165237, 52593...</td>\n",
       "      <td>1675</td>\n",
       "      <td>2019-05-27 14:14:33.000</td>\n",
       "      <td>[463173, 648628, 422915, 520093, 349492, 35030...</td>\n",
       "    </tr>\n",
       "    <tr>\n",
       "      <td>2</td>\n",
       "      <td>[발라드, 추억, 회상, 이별, 슬픔, 설렘, 사랑, 싸이월드, 밤, 새벽]</td>\n",
       "      <td>51464</td>\n",
       "      <td></td>\n",
       "      <td>[529437, 516103, 360067, 705713, 226062, 37089...</td>\n",
       "      <td>62</td>\n",
       "      <td>2008-06-21 23:26:22.000</td>\n",
       "      <td>[680366, 215411, 133143, 463173, 349492, 42772...</td>\n",
       "    </tr>\n",
       "    <tr>\n",
       "      <td>3</td>\n",
       "      <td>[발라드, 감성, 이별, 기분전환, 사랑, 카페, 드라이브, 잔잔한, 새벽, 휴식]</td>\n",
       "      <td>45144</td>\n",
       "      <td></td>\n",
       "      <td>[589668, 21711, 570151, 320043, 13930, 599327,...</td>\n",
       "      <td>20</td>\n",
       "      <td>2017-10-30 18:15:43.000</td>\n",
       "      <td>[519391, 640657, 232606, 698536, 519391, 64065...</td>\n",
       "    </tr>\n",
       "    <tr>\n",
       "      <td>4</td>\n",
       "      <td>[CCM, 찬양, 은혜, 사랑, 예배, 국내ccm, 위로, 은혜로운, 찬송가, 교회]</td>\n",
       "      <td>79929</td>\n",
       "      <td></td>\n",
       "      <td>[672718, 121924, 102694, 683657, 201558, 38511...</td>\n",
       "      <td>20</td>\n",
       "      <td>2017-02-07 11:40:42.000</td>\n",
       "      <td>[133143, 610933, 348200, 349492, 701557, 58225...</td>\n",
       "    </tr>\n",
       "    <tr>\n",
       "      <td>5</td>\n",
       "      <td>[Pop, 기분전환, 드라이브, 빌보드, 빌보드Hot50, 트렌디, 스트레스, 빌보...</td>\n",
       "      <td>138538</td>\n",
       "      <td></td>\n",
       "      <td>[173033, 138237, 63140, 15733, 461780, 308519,...</td>\n",
       "      <td>2</td>\n",
       "      <td>2019-06-12 17:43:35.000</td>\n",
       "      <td>[519391, 640657, 698536, 133484, 232606, 11228...</td>\n",
       "    </tr>\n",
       "    <tr>\n",
       "      <td>...</td>\n",
       "      <td>...</td>\n",
       "      <td>...</td>\n",
       "      <td>...</td>\n",
       "      <td>...</td>\n",
       "      <td>...</td>\n",
       "      <td>...</td>\n",
       "      <td>...</td>\n",
       "    </tr>\n",
       "    <tr>\n",
       "      <td>23010</td>\n",
       "      <td>[발라드, 기분전환, 감성, 사랑, 이별, 새벽, 휴식, 잔잔한, 밤, 추억]</td>\n",
       "      <td>101722</td>\n",
       "      <td></td>\n",
       "      <td>[75842, 26083, 244183, 684715, 500593, 508608,...</td>\n",
       "      <td>17</td>\n",
       "      <td>2015-12-17 14:06:05.000</td>\n",
       "      <td>[357367, 144663, 519391, 680366, 640657, 46317...</td>\n",
       "    </tr>\n",
       "    <tr>\n",
       "      <td>23011</td>\n",
       "      <td>[힐링, 휴식, 기분전환, 감성, 잔잔한, 발라드, 새벽, 사랑, 밤, 추억]</td>\n",
       "      <td>122127</td>\n",
       "      <td></td>\n",
       "      <td>[450275, 487671, 561031, 663944, 628672, 59121...</td>\n",
       "      <td>10</td>\n",
       "      <td>2020-04-16 21:35:44.000</td>\n",
       "      <td>[357367, 144663, 519391, 680366, 640657, 46317...</td>\n",
       "    </tr>\n",
       "    <tr>\n",
       "      <td>23012</td>\n",
       "      <td>[기분전환, 팝, 드라이브, 휴식, 힐링, 감성, Pop, 잔잔한, 팝송, 새벽]</td>\n",
       "      <td>77438</td>\n",
       "      <td></td>\n",
       "      <td>[625875, 464051, 11657, 236393, 358186, 213435...</td>\n",
       "      <td>0</td>\n",
       "      <td>2019-03-27 15:27:40.000</td>\n",
       "      <td>[519391, 640657, 357367, 698536, 133484, 23260...</td>\n",
       "    </tr>\n",
       "    <tr>\n",
       "      <td>23013</td>\n",
       "      <td>[클래식, 휴식, 힐링, 잔잔한, 팝, 추억, 기분전환, 올드팝, 감성, 피아노]</td>\n",
       "      <td>36231</td>\n",
       "      <td></td>\n",
       "      <td>[161094, 665833, 688145, 432735, 439938, 12665...</td>\n",
       "      <td>31</td>\n",
       "      <td>2015-11-18 11:49:09.000</td>\n",
       "      <td>[357367, 144663, 519391, 640657, 463173, 34949...</td>\n",
       "    </tr>\n",
       "    <tr>\n",
       "      <td>23014</td>\n",
       "      <td>[봄, 사랑, 감성, 기분전환, 드라이브, 설렘, 발라드, 카페, 휴식, 힐링]</td>\n",
       "      <td>65189</td>\n",
       "      <td></td>\n",
       "      <td>[643070, 132994, 98223, 293236, 513129, 650494...</td>\n",
       "      <td>19</td>\n",
       "      <td>2017-04-23 16:50:58.000</td>\n",
       "      <td>[519391, 640657, 232606, 698536, 519391, 64065...</td>\n",
       "    </tr>\n",
       "  </tbody>\n",
       "</table>\n",
       "<p>18636 rows × 7 columns</p>\n",
       "</div>"
      ],
      "text/plain": [
       "                                                    tags      id plylst_title  \\\n",
       "0         [OST, 기분전환, 디즈니, 애니메이션, 영화, 팝, 겨울, 추억, 휴식, 힐링]  118598                \n",
       "2             [발라드, 추억, 회상, 이별, 슬픔, 설렘, 사랑, 싸이월드, 밤, 새벽]   51464                \n",
       "3         [발라드, 감성, 이별, 기분전환, 사랑, 카페, 드라이브, 잔잔한, 새벽, 휴식]   45144                \n",
       "4        [CCM, 찬양, 은혜, 사랑, 예배, 국내ccm, 위로, 은혜로운, 찬송가, 교회]   79929                \n",
       "5      [Pop, 기분전환, 드라이브, 빌보드, 빌보드Hot50, 트렌디, 스트레스, 빌보...  138538                \n",
       "...                                                  ...     ...          ...   \n",
       "23010        [발라드, 기분전환, 감성, 사랑, 이별, 새벽, 휴식, 잔잔한, 밤, 추억]  101722                \n",
       "23011        [힐링, 휴식, 기분전환, 감성, 잔잔한, 발라드, 새벽, 사랑, 밤, 추억]  122127                \n",
       "23012      [기분전환, 팝, 드라이브, 휴식, 힐링, 감성, Pop, 잔잔한, 팝송, 새벽]   77438                \n",
       "23013      [클래식, 휴식, 힐링, 잔잔한, 팝, 추억, 기분전환, 올드팝, 감성, 피아노]   36231                \n",
       "23014       [봄, 사랑, 감성, 기분전환, 드라이브, 설렘, 발라드, 카페, 휴식, 힐링]   65189                \n",
       "\n",
       "                                                   songs  like_cnt  \\\n",
       "0      [373313, 151080, 275346, 696876, 165237, 52593...      1675   \n",
       "2      [529437, 516103, 360067, 705713, 226062, 37089...        62   \n",
       "3      [589668, 21711, 570151, 320043, 13930, 599327,...        20   \n",
       "4      [672718, 121924, 102694, 683657, 201558, 38511...        20   \n",
       "5      [173033, 138237, 63140, 15733, 461780, 308519,...         2   \n",
       "...                                                  ...       ...   \n",
       "23010  [75842, 26083, 244183, 684715, 500593, 508608,...        17   \n",
       "23011  [450275, 487671, 561031, 663944, 628672, 59121...        10   \n",
       "23012  [625875, 464051, 11657, 236393, 358186, 213435...         0   \n",
       "23013  [161094, 665833, 688145, 432735, 439938, 12665...        31   \n",
       "23014  [643070, 132994, 98223, 293236, 513129, 650494...        19   \n",
       "\n",
       "                     updt_date  \\\n",
       "0      2019-05-27 14:14:33.000   \n",
       "2      2008-06-21 23:26:22.000   \n",
       "3      2017-10-30 18:15:43.000   \n",
       "4      2017-02-07 11:40:42.000   \n",
       "5      2019-06-12 17:43:35.000   \n",
       "...                        ...   \n",
       "23010  2015-12-17 14:06:05.000   \n",
       "23011  2020-04-16 21:35:44.000   \n",
       "23012  2019-03-27 15:27:40.000   \n",
       "23013  2015-11-18 11:49:09.000   \n",
       "23014  2017-04-23 16:50:58.000   \n",
       "\n",
       "                                         count_top_songs  \n",
       "0      [463173, 648628, 422915, 520093, 349492, 35030...  \n",
       "2      [680366, 215411, 133143, 463173, 349492, 42772...  \n",
       "3      [519391, 640657, 232606, 698536, 519391, 64065...  \n",
       "4      [133143, 610933, 348200, 349492, 701557, 58225...  \n",
       "5      [519391, 640657, 698536, 133484, 232606, 11228...  \n",
       "...                                                  ...  \n",
       "23010  [357367, 144663, 519391, 680366, 640657, 46317...  \n",
       "23011  [357367, 144663, 519391, 680366, 640657, 46317...  \n",
       "23012  [519391, 640657, 357367, 698536, 133484, 23260...  \n",
       "23013  [357367, 144663, 519391, 640657, 463173, 34949...  \n",
       "23014  [519391, 640657, 232606, 698536, 519391, 64065...  \n",
       "\n",
       "[18636 rows x 7 columns]"
      ]
     },
     "execution_count": 26,
     "metadata": {},
     "output_type": "execute_result"
    }
   ],
   "source": [
    "# count_top_songs len 100인지 확인\n",
    "val_w_full_tags_songs_in"
   ]
  },
  {
   "cell_type": "code",
   "execution_count": 31,
   "metadata": {
    "ExecuteTime": {
     "end_time": "2020-05-14T12:20:23.323197Z",
     "start_time": "2020-05-14T12:20:23.289989Z"
    }
   },
   "outputs": [
    {
     "data": {
      "text/html": [
       "<div>\n",
       "<style scoped>\n",
       "    .dataframe tbody tr th:only-of-type {\n",
       "        vertical-align: middle;\n",
       "    }\n",
       "\n",
       "    .dataframe tbody tr th {\n",
       "        vertical-align: top;\n",
       "    }\n",
       "\n",
       "    .dataframe thead th {\n",
       "        text-align: right;\n",
       "    }\n",
       "</style>\n",
       "<table border=\"1\" class=\"dataframe\">\n",
       "  <thead>\n",
       "    <tr style=\"text-align: right;\">\n",
       "      <th></th>\n",
       "      <th>tags</th>\n",
       "      <th>id</th>\n",
       "      <th>plylst_title</th>\n",
       "      <th>songs</th>\n",
       "      <th>like_cnt</th>\n",
       "      <th>updt_date</th>\n",
       "      <th>count_top_songs</th>\n",
       "    </tr>\n",
       "  </thead>\n",
       "  <tbody>\n",
       "    <tr>\n",
       "      <td>60</td>\n",
       "      <td>[]</td>\n",
       "      <td>47555</td>\n",
       "      <td></td>\n",
       "      <td>[136761, 507344]</td>\n",
       "      <td>0</td>\n",
       "      <td>2015-11-18 14:12:07.000</td>\n",
       "      <td>[]</td>\n",
       "    </tr>\n",
       "    <tr>\n",
       "      <td>151</td>\n",
       "      <td>[재즈]</td>\n",
       "      <td>44792</td>\n",
       "      <td></td>\n",
       "      <td>[1222, 78622, 696595, 307959, 411063, 587256, ...</td>\n",
       "      <td>15</td>\n",
       "      <td>2017-06-26 15:00:47.000</td>\n",
       "      <td>[92908, 705515, 321724, 650367, 356141, 222610...</td>\n",
       "    </tr>\n",
       "    <tr>\n",
       "      <td>233</td>\n",
       "      <td>[]</td>\n",
       "      <td>130185</td>\n",
       "      <td></td>\n",
       "      <td>[537913, 577336, 10370, 299500, 619981, 671353...</td>\n",
       "      <td>1</td>\n",
       "      <td>2019-08-25 14:49:24.000</td>\n",
       "      <td>[]</td>\n",
       "    </tr>\n",
       "    <tr>\n",
       "      <td>251</td>\n",
       "      <td>[히스토리컬클래식, 위대한클래식, 여행, 드라이브, 산책, 힐링음악, 상처입은사람에...</td>\n",
       "      <td>123715</td>\n",
       "      <td></td>\n",
       "      <td>[208601, 641422, 503734, 132321, 433253, 33463...</td>\n",
       "      <td>43</td>\n",
       "      <td>2018-08-20 15:39:15.000</td>\n",
       "      <td>[519391, 640657, 698536, 133484, 232606, 11228...</td>\n",
       "    </tr>\n",
       "    <tr>\n",
       "      <td>465</td>\n",
       "      <td>[이니셜d, 사고조심, 슈퍼유로비트, 드라이브]</td>\n",
       "      <td>67885</td>\n",
       "      <td></td>\n",
       "      <td>[486175, 26894, 4478, 423862, 231215, 288324, ...</td>\n",
       "      <td>130</td>\n",
       "      <td>2020-03-19 11:48:35.000</td>\n",
       "      <td>[519391, 640657, 698536, 133484, 232606, 11228...</td>\n",
       "    </tr>\n",
       "    <tr>\n",
       "      <td>...</td>\n",
       "      <td>...</td>\n",
       "      <td>...</td>\n",
       "      <td>...</td>\n",
       "      <td>...</td>\n",
       "      <td>...</td>\n",
       "      <td>...</td>\n",
       "      <td>...</td>\n",
       "    </tr>\n",
       "    <tr>\n",
       "      <td>22356</td>\n",
       "      <td>[]</td>\n",
       "      <td>144555</td>\n",
       "      <td></td>\n",
       "      <td>[362641, 614449, 177918, 310240, 495650]</td>\n",
       "      <td>1</td>\n",
       "      <td>2015-11-09 14:13:20.000</td>\n",
       "      <td>[]</td>\n",
       "    </tr>\n",
       "    <tr>\n",
       "      <td>22397</td>\n",
       "      <td>[도서관, 시험기간, 공부할때, 힐링, 휴식, 잔잔한]</td>\n",
       "      <td>122260</td>\n",
       "      <td></td>\n",
       "      <td>[581306, 331503, 24280, 395699, 115906, 357853...</td>\n",
       "      <td>9</td>\n",
       "      <td>2018-01-18 23:10:42.000</td>\n",
       "      <td>[349492, 680366, 215411, 463173, 648628, 39682...</td>\n",
       "    </tr>\n",
       "    <tr>\n",
       "      <td>22776</td>\n",
       "      <td>[일본노래, 시티팝, JPOP, 일본, J_POP]</td>\n",
       "      <td>43959</td>\n",
       "      <td></td>\n",
       "      <td>[563916, 216457, 416008, 189563, 266866, 40061...</td>\n",
       "      <td>0</td>\n",
       "      <td>2019-10-10 13:13:31.000</td>\n",
       "      <td>[632189, 204900, 580527, 624957, 608666, 60891...</td>\n",
       "    </tr>\n",
       "    <tr>\n",
       "      <td>22803</td>\n",
       "      <td>[클럽, 일렉, 드라이브, 매장음악, 댄스]</td>\n",
       "      <td>78309</td>\n",
       "      <td></td>\n",
       "      <td>[351621, 246673, 102602, 305054, 355977, 63160...</td>\n",
       "      <td>3</td>\n",
       "      <td>2014-01-20 12:29:48.000</td>\n",
       "      <td>[519391, 640657, 698536, 133484, 232606, 11228...</td>\n",
       "    </tr>\n",
       "    <tr>\n",
       "      <td>22979</td>\n",
       "      <td>[대한민국, 뭉치자, 화이팅]</td>\n",
       "      <td>70504</td>\n",
       "      <td></td>\n",
       "      <td>[39208, 443600, 221238, 82254, 95267]</td>\n",
       "      <td>3</td>\n",
       "      <td>2015-09-13 17:27:24.000</td>\n",
       "      <td>[418935, 392638, 549392, 124485, 531820, 41310...</td>\n",
       "    </tr>\n",
       "  </tbody>\n",
       "</table>\n",
       "<p>300 rows × 7 columns</p>\n",
       "</div>"
      ],
      "text/plain": [
       "                                                    tags      id plylst_title  \\\n",
       "60                                                    []   47555                \n",
       "151                                                 [재즈]   44792                \n",
       "233                                                   []  130185                \n",
       "251    [히스토리컬클래식, 위대한클래식, 여행, 드라이브, 산책, 힐링음악, 상처입은사람에...  123715                \n",
       "465                           [이니셜d, 사고조심, 슈퍼유로비트, 드라이브]   67885                \n",
       "...                                                  ...     ...          ...   \n",
       "22356                                                 []  144555                \n",
       "22397                     [도서관, 시험기간, 공부할때, 힐링, 휴식, 잔잔한]  122260                \n",
       "22776                       [일본노래, 시티팝, JPOP, 일본, J_POP]   43959                \n",
       "22803                           [클럽, 일렉, 드라이브, 매장음악, 댄스]   78309                \n",
       "22979                                   [대한민국, 뭉치자, 화이팅]   70504                \n",
       "\n",
       "                                                   songs  like_cnt  \\\n",
       "60                                      [136761, 507344]         0   \n",
       "151    [1222, 78622, 696595, 307959, 411063, 587256, ...        15   \n",
       "233    [537913, 577336, 10370, 299500, 619981, 671353...         1   \n",
       "251    [208601, 641422, 503734, 132321, 433253, 33463...        43   \n",
       "465    [486175, 26894, 4478, 423862, 231215, 288324, ...       130   \n",
       "...                                                  ...       ...   \n",
       "22356           [362641, 614449, 177918, 310240, 495650]         1   \n",
       "22397  [581306, 331503, 24280, 395699, 115906, 357853...         9   \n",
       "22776  [563916, 216457, 416008, 189563, 266866, 40061...         0   \n",
       "22803  [351621, 246673, 102602, 305054, 355977, 63160...         3   \n",
       "22979              [39208, 443600, 221238, 82254, 95267]         3   \n",
       "\n",
       "                     updt_date  \\\n",
       "60     2015-11-18 14:12:07.000   \n",
       "151    2017-06-26 15:00:47.000   \n",
       "233    2019-08-25 14:49:24.000   \n",
       "251    2018-08-20 15:39:15.000   \n",
       "465    2020-03-19 11:48:35.000   \n",
       "...                        ...   \n",
       "22356  2015-11-09 14:13:20.000   \n",
       "22397  2018-01-18 23:10:42.000   \n",
       "22776  2019-10-10 13:13:31.000   \n",
       "22803  2014-01-20 12:29:48.000   \n",
       "22979  2015-09-13 17:27:24.000   \n",
       "\n",
       "                                         count_top_songs  \n",
       "60                                                    []  \n",
       "151    [92908, 705515, 321724, 650367, 356141, 222610...  \n",
       "233                                                   []  \n",
       "251    [519391, 640657, 698536, 133484, 232606, 11228...  \n",
       "465    [519391, 640657, 698536, 133484, 232606, 11228...  \n",
       "...                                                  ...  \n",
       "22356                                                 []  \n",
       "22397  [349492, 680366, 215411, 463173, 648628, 39682...  \n",
       "22776  [632189, 204900, 580527, 624957, 608666, 60891...  \n",
       "22803  [519391, 640657, 698536, 133484, 232606, 11228...  \n",
       "22979  [418935, 392638, 549392, 124485, 531820, 41310...  \n",
       "\n",
       "[300 rows x 7 columns]"
      ]
     },
     "execution_count": 31,
     "metadata": {},
     "output_type": "execute_result"
    }
   ],
   "source": [
    "val_w_full_tags_songs_in[val_w_full_tags_songs_in['count_top_songs'].apply(lambda x : len(x)) != 100]"
   ]
  },
  {
   "cell_type": "code",
   "execution_count": 14,
   "metadata": {
    "ExecuteTime": {
     "end_time": "2020-05-14T10:39:13.905307Z",
     "start_time": "2020-05-14T10:39:13.878609Z"
    }
   },
   "outputs": [
    {
     "data": {
      "text/html": [
       "<div>\n",
       "<style scoped>\n",
       "    .dataframe tbody tr th:only-of-type {\n",
       "        vertical-align: middle;\n",
       "    }\n",
       "\n",
       "    .dataframe tbody tr th {\n",
       "        vertical-align: top;\n",
       "    }\n",
       "\n",
       "    .dataframe thead th {\n",
       "        text-align: right;\n",
       "    }\n",
       "</style>\n",
       "<table border=\"1\" class=\"dataframe\">\n",
       "  <thead>\n",
       "    <tr style=\"text-align: right;\">\n",
       "      <th></th>\n",
       "      <th>tags</th>\n",
       "      <th>id</th>\n",
       "      <th>plylst_title</th>\n",
       "      <th>songs</th>\n",
       "      <th>like_cnt</th>\n",
       "      <th>updt_date</th>\n",
       "    </tr>\n",
       "  </thead>\n",
       "  <tbody>\n",
       "    <tr>\n",
       "      <td>1</td>\n",
       "      <td>[]</td>\n",
       "      <td>131447</td>\n",
       "      <td>앨리스테이블</td>\n",
       "      <td>[]</td>\n",
       "      <td>1</td>\n",
       "      <td>2014-07-16 15:24:24.000</td>\n",
       "    </tr>\n",
       "    <tr>\n",
       "      <td>8</td>\n",
       "      <td>[스트레스]</td>\n",
       "      <td>80810</td>\n",
       "      <td>리듬타면서 빡시게 운동하자!!!(스트레스 날리자):}</td>\n",
       "      <td>[]</td>\n",
       "      <td>127</td>\n",
       "      <td>2017-02-09 17:33:45.000</td>\n",
       "    </tr>\n",
       "    <tr>\n",
       "      <td>9</td>\n",
       "      <td>[]</td>\n",
       "      <td>142007</td>\n",
       "      <td>기분 좋은 재즈와 함께 만드는 달달한 하루</td>\n",
       "      <td>[]</td>\n",
       "      <td>0</td>\n",
       "      <td>2015-06-22 09:11:02.000</td>\n",
       "    </tr>\n",
       "    <tr>\n",
       "      <td>17</td>\n",
       "      <td>[생각나]</td>\n",
       "      <td>2380</td>\n",
       "      <td>다시 생각나는 그 사람</td>\n",
       "      <td>[]</td>\n",
       "      <td>6</td>\n",
       "      <td>2016-03-19 23:53:20.000</td>\n",
       "    </tr>\n",
       "    <tr>\n",
       "      <td>20</td>\n",
       "      <td>[피아노, 이루마, 메로디]</td>\n",
       "      <td>149069</td>\n",
       "      <td>불면증엔 아름다운 뉴에이지 곡들</td>\n",
       "      <td>[]</td>\n",
       "      <td>11</td>\n",
       "      <td>2019-12-15 19:15:21.000</td>\n",
       "    </tr>\n",
       "    <tr>\n",
       "      <td>...</td>\n",
       "      <td>...</td>\n",
       "      <td>...</td>\n",
       "      <td>...</td>\n",
       "      <td>...</td>\n",
       "      <td>...</td>\n",
       "      <td>...</td>\n",
       "    </tr>\n",
       "    <tr>\n",
       "      <td>22991</td>\n",
       "      <td>[]</td>\n",
       "      <td>32537</td>\n",
       "      <td>컨트리 황제 조니 캐시가 선 레코드 시절 발표한 초기 대표작</td>\n",
       "      <td>[]</td>\n",
       "      <td>28</td>\n",
       "      <td>2019-06-17 14:22:48.000</td>\n",
       "    </tr>\n",
       "    <tr>\n",
       "      <td>22992</td>\n",
       "      <td>[사랑]</td>\n",
       "      <td>32812</td>\n",
       "      <td>♥옷차림이 가벼워질때 부담없이 듣는음악♥</td>\n",
       "      <td>[]</td>\n",
       "      <td>8</td>\n",
       "      <td>2015-05-08 00:09:01.000</td>\n",
       "    </tr>\n",
       "    <tr>\n",
       "      <td>22996</td>\n",
       "      <td>[]</td>\n",
       "      <td>86721</td>\n",
       "      <td>해 저무는 밤</td>\n",
       "      <td>[]</td>\n",
       "      <td>5</td>\n",
       "      <td>2016-04-27 15:32:55.000</td>\n",
       "    </tr>\n",
       "    <tr>\n",
       "      <td>23002</td>\n",
       "      <td>[텐션, 명곡, 학창시절, 텐션업]</td>\n",
       "      <td>56570</td>\n",
       "      <td>숨어듣는명곡! 텐션올릴때듣는 그시절그노래!! (그냥명곡있을수있음주의)</td>\n",
       "      <td>[]</td>\n",
       "      <td>538</td>\n",
       "      <td>2020-04-18 22:02:07.000</td>\n",
       "    </tr>\n",
       "    <tr>\n",
       "      <td>23008</td>\n",
       "      <td>[sweetmind, 발라드, 사랑, 기분전환, 역주행]</td>\n",
       "      <td>100684</td>\n",
       "      <td>[별책부록] Sweetmind의 음악마중</td>\n",
       "      <td>[]</td>\n",
       "      <td>79</td>\n",
       "      <td>2020-02-07 14:42:25.000</td>\n",
       "    </tr>\n",
       "  </tbody>\n",
       "</table>\n",
       "<p>4379 rows × 6 columns</p>\n",
       "</div>"
      ],
      "text/plain": [
       "                                  tags      id  \\\n",
       "1                                   []  131447   \n",
       "8                               [스트레스]   80810   \n",
       "9                                   []  142007   \n",
       "17                               [생각나]    2380   \n",
       "20                     [피아노, 이루마, 메로디]  149069   \n",
       "...                                ...     ...   \n",
       "22991                               []   32537   \n",
       "22992                             [사랑]   32812   \n",
       "22996                               []   86721   \n",
       "23002              [텐션, 명곡, 학창시절, 텐션업]   56570   \n",
       "23008  [sweetmind, 발라드, 사랑, 기분전환, 역주행]  100684   \n",
       "\n",
       "                                 plylst_title songs  like_cnt  \\\n",
       "1                                      앨리스테이블    []         1   \n",
       "8               리듬타면서 빡시게 운동하자!!!(스트레스 날리자):}    []       127   \n",
       "9                     기분 좋은 재즈와 함께 만드는 달달한 하루    []         0   \n",
       "17                               다시 생각나는 그 사람    []         6   \n",
       "20                          불면증엔 아름다운 뉴에이지 곡들    []        11   \n",
       "...                                       ...   ...       ...   \n",
       "22991       컨트리 황제 조니 캐시가 선 레코드 시절 발표한 초기 대표작    []        28   \n",
       "22992                  ♥옷차림이 가벼워질때 부담없이 듣는음악♥    []         8   \n",
       "22996                                 해 저무는 밤    []         5   \n",
       "23002  숨어듣는명곡! 텐션올릴때듣는 그시절그노래!! (그냥명곡있을수있음주의)    []       538   \n",
       "23008                  [별책부록] Sweetmind의 음악마중    []        79   \n",
       "\n",
       "                     updt_date  \n",
       "1      2014-07-16 15:24:24.000  \n",
       "8      2017-02-09 17:33:45.000  \n",
       "9      2015-06-22 09:11:02.000  \n",
       "17     2016-03-19 23:53:20.000  \n",
       "20     2019-12-15 19:15:21.000  \n",
       "...                        ...  \n",
       "22991  2019-06-17 14:22:48.000  \n",
       "22992  2015-05-08 00:09:01.000  \n",
       "22996  2016-04-27 15:32:55.000  \n",
       "23002  2020-04-18 22:02:07.000  \n",
       "23008  2020-02-07 14:42:25.000  \n",
       "\n",
       "[4379 rows x 6 columns]"
      ]
     },
     "execution_count": 14,
     "metadata": {},
     "output_type": "execute_result"
    }
   ],
   "source": [
    "# songs에 노래가 없는 데이터\n",
    "val_w_full_tags_not_in = val_w_full_tags[val_w_full_tags['songs'].apply(lambda x : len(x)) == 0]\n",
    "val_w_full_tags_not_in"
   ]
  },
  {
   "cell_type": "code",
   "execution_count": 15,
   "metadata": {
    "ExecuteTime": {
     "end_time": "2020-05-14T10:39:13.921154Z",
     "start_time": "2020-05-14T10:39:13.907300Z"
    }
   },
   "outputs": [
    {
     "data": {
      "text/html": [
       "<div>\n",
       "<style scoped>\n",
       "    .dataframe tbody tr th:only-of-type {\n",
       "        vertical-align: middle;\n",
       "    }\n",
       "\n",
       "    .dataframe tbody tr th {\n",
       "        vertical-align: top;\n",
       "    }\n",
       "\n",
       "    .dataframe thead th {\n",
       "        text-align: right;\n",
       "    }\n",
       "</style>\n",
       "<table border=\"1\" class=\"dataframe\">\n",
       "  <thead>\n",
       "    <tr style=\"text-align: right;\">\n",
       "      <th></th>\n",
       "      <th>tags</th>\n",
       "      <th>id</th>\n",
       "      <th>plylst_title</th>\n",
       "      <th>songs</th>\n",
       "      <th>like_cnt</th>\n",
       "      <th>updt_date</th>\n",
       "    </tr>\n",
       "  </thead>\n",
       "  <tbody>\n",
       "    <tr>\n",
       "      <td>4514</td>\n",
       "      <td>[알앤비]</td>\n",
       "      <td>120699</td>\n",
       "      <td></td>\n",
       "      <td>[]</td>\n",
       "      <td>3</td>\n",
       "      <td>2016-02-04 16:39:50.000</td>\n",
       "    </tr>\n",
       "    <tr>\n",
       "      <td>6113</td>\n",
       "      <td>[]</td>\n",
       "      <td>108253</td>\n",
       "      <td></td>\n",
       "      <td>[]</td>\n",
       "      <td>28</td>\n",
       "      <td>2012-07-27 17:22:57.000</td>\n",
       "    </tr>\n",
       "    <tr>\n",
       "      <td>12607</td>\n",
       "      <td>[]</td>\n",
       "      <td>2996</td>\n",
       "      <td></td>\n",
       "      <td>[]</td>\n",
       "      <td>229</td>\n",
       "      <td>2018-10-08 13:16:50.000</td>\n",
       "    </tr>\n",
       "    <tr>\n",
       "      <td>17558</td>\n",
       "      <td>[]</td>\n",
       "      <td>125531</td>\n",
       "      <td></td>\n",
       "      <td>[]</td>\n",
       "      <td>2</td>\n",
       "      <td>2014-06-09 14:48:35.000</td>\n",
       "    </tr>\n",
       "    <tr>\n",
       "      <td>19221</td>\n",
       "      <td>[봄, 연주곡, Morning, Instrumental, 아침]</td>\n",
       "      <td>15941</td>\n",
       "      <td></td>\n",
       "      <td>[]</td>\n",
       "      <td>13</td>\n",
       "      <td>2019-05-24 09:52:50.000</td>\n",
       "    </tr>\n",
       "    <tr>\n",
       "      <td>22830</td>\n",
       "      <td>[]</td>\n",
       "      <td>22014</td>\n",
       "      <td></td>\n",
       "      <td>[]</td>\n",
       "      <td>3</td>\n",
       "      <td>2015-05-25 17:10:52.000</td>\n",
       "    </tr>\n",
       "  </tbody>\n",
       "</table>\n",
       "</div>"
      ],
      "text/plain": [
       "                                      tags      id plylst_title songs  \\\n",
       "4514                                 [알앤비]  120699                 []   \n",
       "6113                                    []  108253                 []   \n",
       "12607                                   []    2996                 []   \n",
       "17558                                   []  125531                 []   \n",
       "19221  [봄, 연주곡, Morning, Instrumental, 아침]   15941                 []   \n",
       "22830                                   []   22014                 []   \n",
       "\n",
       "       like_cnt                updt_date  \n",
       "4514          3  2016-02-04 16:39:50.000  \n",
       "6113         28  2012-07-27 17:22:57.000  \n",
       "12607       229  2018-10-08 13:16:50.000  \n",
       "17558         2  2014-06-09 14:48:35.000  \n",
       "19221        13  2019-05-24 09:52:50.000  \n",
       "22830         3  2015-05-25 17:10:52.000  "
      ]
     },
     "execution_count": 15,
     "metadata": {},
     "output_type": "execute_result"
    }
   ],
   "source": [
    "# plylst_title이 없는것\n",
    "val_w_full_tags_not_in[val_w_full_tags_not_in['plylst_title'].apply(lambda x : len(x)) == 0]"
   ]
  },
  {
   "cell_type": "markdown",
   "metadata": {
    "ExecuteTime": {
     "end_time": "2020-05-14T09:13:00.005254Z",
     "start_time": "2020-05-14T09:13:00.002946Z"
    }
   },
   "source": [
    "## 형태소 분석"
   ]
  },
  {
   "cell_type": "code",
   "execution_count": 226,
   "metadata": {
    "ExecuteTime": {
     "end_time": "2020-05-14T11:20:55.194131Z",
     "start_time": "2020-05-14T11:20:06.824887Z"
    }
   },
   "outputs": [],
   "source": [
    "# 1분\n",
    "from sklearn.feature_extraction.text import CountVectorizer\n",
    "from konlpy.tag import Okt\n",
    "\n",
    "t = Okt()\n",
    "vectorizer = CountVectorizer(min_df = 1)\n",
    "\n",
    "contents_tokens = [t.nouns(each) for each in raw_tr['tags'].apply(lambda x : \" \".join(x))]"
   ]
  },
  {
   "cell_type": "code",
   "execution_count": 227,
   "metadata": {
    "ExecuteTime": {
     "end_time": "2020-05-14T11:20:55.334653Z",
     "start_time": "2020-05-14T11:20:55.196225Z"
    }
   },
   "outputs": [
    {
     "data": {
      "text/plain": [
       "115071"
      ]
     },
     "execution_count": 227,
     "metadata": {},
     "output_type": "execute_result"
    }
   ],
   "source": [
    "contents_for_vectorize = []\n",
    "\n",
    "for content in contents_tokens:\n",
    "    sentence = ''\n",
    "    for word in content:\n",
    "        sentence = sentence + \" \" + word\n",
    "    \n",
    "    contents_for_vectorize.append(sentence)\n",
    "    \n",
    "len(contents_for_vectorize)"
   ]
  },
  {
   "cell_type": "code",
   "execution_count": 228,
   "metadata": {
    "ExecuteTime": {
     "end_time": "2020-05-14T11:20:55.347814Z",
     "start_time": "2020-05-14T11:20:55.337145Z"
    },
    "collapsed": true
   },
   "outputs": [
    {
     "data": {
      "text/plain": [
       "[' 락',\n",
       " ' 추억 회상',\n",
       " ' 까페',\n",
       " ' 연말 눈 날 캐럴 분위기 크리스마스캐럴 겨울 노래 크리스마스 겨울왕국 크리스마스 송',\n",
       " ' 댄스',\n",
       " ' 운동 드라이브 트로피 컬 하우스 힐링 기분 전환 팝 트렌드 렉',\n",
       " ' 짝사랑 취향 저격 슬픔 고백 사랑 이별',\n",
       " ' 추억 회상',\n",
       " ' 일렉트로니카 포크 메탈 락 댄스',\n",
       " ' 록 이일우 에센셜 메탈 락',\n",
       " ' 댄스 걸그룹댄스 스트레스 해소',\n",
       " ' 새해 여행 프로필 음악 카카오 톡 기분 전환 소원 프로필 소망 다짐 카톡',\n",
       " ' 우울 힐링 거',\n",
       " ' 힙합 밤 새벽 감각 드라이브 국내 그루브',\n",
       " ' 가을 재즈',\n",
       " ' 락',\n",
       " ' 감성 질리 나',\n",
       " ' 봄 사랑',\n",
       " ' 비 날 누군가 때',\n",
       " ' 스밍 목록 폐막식 올림픽 엑소',\n",
       " ' 혼자 새벽 감성 고민 맥주 한잔',\n",
       " ' 카페 재즈',\n",
       " '',\n",
       " ' 댄스',\n",
       " ' 감성 어쿠스틱 새벽 밤',\n",
       " ' 밤 새벽',\n",
       " ' 힐링 드라이브 에너지 여행',\n",
       " ' 듀엣 취향 저격 달달 피쳐링 사랑 남녀',\n",
       " ' 까페 사랑',\n",
       " ' 힙합 신인 국힙',\n",
       " ' 거슈윈 존 윌리엄스 랩소디 블루 미국 클래식 영화 클래식 아메리칸 클래식',\n",
       " ' 겨울 기분 전환',\n",
       " ' 아침 빅밴드 재즈 스윙 스윙재즈',\n",
       " ' 휴식 힐링 사랑',\n",
       " ' 여름 일렉트로니카 매장 음악 취향 저격 댄스 드라이브 여행 기분 전환 렉',\n",
       " ' 까페 사랑',\n",
       " ' 사랑',\n",
       " ' 헬스 스포츠 피트니스 운동 다이어트 런닝 레깅스 필라테스 산책 요가',\n",
       " ' 발라드',\n",
       " ' 겨울 크리스마스 캐롤',\n",
       " ' 위로 힐링',\n",
       " ' 기분 전환 가을',\n",
       " ' 감성 올드송 추억 휴식 옛날 노래',\n",
       " ' 월드 연주 재즈',\n",
       " ' 밤 새벽',\n",
       " ' 슬픔 밤 이별 새벽',\n",
       " ' 클럽 스트레스',\n",
       " ' 휴식 주말 오후',\n",
       " ' 힐링 휴식 운동',\n",
       " ' 드라이브',\n",
       " ' 여행 드라이브 산책',\n",
       " ' 나 나 얌',\n",
       " ' 중국 음악 광동 홍콩 대만 중국 노래 중국 중음',\n",
       " ' 휴식 힐링',\n",
       " ' 포크 내 음악 트랙 노래 추천 추천 달 인디포크 음악 추천',\n",
       " ' 겨울 매장 음악 추억 슬픔 사랑 이별',\n",
       " ' 감성 밤 팝 여행 추천 노래 유럽 여행',\n",
       " ' 공기 정화 피톤 치드 스트레스 연주 곡 사무실',\n",
       " ' 감성 새벽 우울 발라드 알앤비 기분 전환 사랑 이별',\n",
       " ' 불금',\n",
       " ' 가을 까페',\n",
       " ' 기분 전환 매장 음악',\n",
       " '',\n",
       " ' 기분 전환 사랑',\n",
       " ' 차 차 때 댄스 때',\n",
       " ' 휴식 달달 취향 저격 연애 힐링 기분 전환 사랑 썸',\n",
       " ' 노래 모음 히트 곡 린아 선데이 스테파니 추억 명곡 시간 순 천상지희 다나',\n",
       " ' 휴식 힐링',\n",
       " ' 독서 음악',\n",
       " ' 일렉트로니카 댄스 로우',\n",
       " ' 힙합',\n",
       " ' 휴식 새벽 펍 매장 드라이브 그루 브 라운지 기분 전환 퇴근길',\n",
       " ' 한강 드라이브 때 노래 드라이브',\n",
       " ' 발라드',\n",
       " '',\n",
       " ' 비 날 휴식 힐링',\n",
       " ' 힙합 랩',\n",
       " ' 락',\n",
       " ' 비트 분위기 섹시 그루 브',\n",
       " '',\n",
       " ' 여행 드라이브 산책',\n",
       " ' 힐링 휴식 기분 전환',\n",
       " ' 분위기 크리스마스',\n",
       " ' 뉴에이지',\n",
       " ' 스트레스 드라이브',\n",
       " ' 월드뮤직',\n",
       " ' 기분 전환',\n",
       " ' 힐링 휴식 가을',\n",
       " ' 뉴에이지',\n",
       " ' 월드뮤직',\n",
       " ' 밤 새벽',\n",
       " ' 힙합 랩',\n",
       " ' 무드 휴식 밤 스웩 힐링',\n",
       " ' 힙합 저스디스 힙합엘이 국힙 니엘',\n",
       " ' 스트레스 드라이브',\n",
       " ' 꿀 보이스 성대',\n",
       " ' 발라드',\n",
       " ' 버스 감성 카페',\n",
       " ' 발라드',\n",
       " ' 힐링 추억 휴식 회상',\n",
       " ' 휴식 힐링 기분 전환',\n",
       " ' 일렉트로니카 감각 드라이브 그루 브 라운지 도입 부 트렌디 댄스 렉',\n",
       " ' 런쥔 라디오',\n",
       " ' 여행 드라이브 산책',\n",
       " ' 봄 벚꽃 힐링 사랑',\n",
       " ' 떄껄룩 플레이 리스트 팝음악 팝송 추천 유튜브 떼껄룩',\n",
       " ' 댄스',\n",
       " ' 휴식 힐링 밤 새벽',\n",
       " ' 까페',\n",
       " ' 카페 음악 분위기 재즈',\n",
       " ' 까페 사랑',\n",
       " ' 겨울 휴식 매장 음악 어쿠스틱 카페 슬픔 가을 사랑 기분 전환',\n",
       " ' 날 밤 취향 저격 분위기 불금 힙 새벽',\n",
       " ' 어쿠스틱 자연 주의 명곡 추억 언플러그드',\n",
       " ' 힐링 추억 휴식 회상',\n",
       " ' 클럽 프로그레시브 하우스 빅룸',\n",
       " ' 여름 시원 카페 운동 댄스 드라이브 여행 바다',\n",
       " ' 스트레스 감성 기분 전환 노래',\n",
       " ' 비 날 감성 비 아련 발라드 멜로 치명 사랑',\n",
       " ' 락',\n",
       " ' 아드레날린 드라이브 샤우팅 사운드 운동 때 스트레스',\n",
       " ' 댄스 여자 아이돌',\n",
       " ' 취향 저격 싱어송라이터 인디밴드 호강 미러볼 뮤직 음악 추천 인디뮤직',\n",
       " ' 잠 매장 매장 음악 카페 추억 일상 추위 자장가 새벽',\n",
       " ' 매장 음악 까페',\n",
       " ' 감성 드라이브 내적댄스 폭발 페스티벌 음악 몽환 렉 일렉트로닉',\n",
       " ' 국힙 힙합 성 흥얼흥얼 쇼 외힙 기리보이 이보 왜',\n",
       " ' 기분 번',\n",
       " ' 기분 전환',\n",
       " ' 힐링 휴식 까페',\n",
       " ' 재즈',\n",
       " ' 기분 전환 운동',\n",
       " ' 밤 가을 새벽',\n",
       " ' 팝',\n",
       " '',\n",
       " ' 까페',\n",
       " ' 살 살 살 키즈 동화',\n",
       " ' 슬픔 이별',\n",
       " ' 겨울 사랑',\n",
       " ' 추억 스트레스 회상',\n",
       " ' 쇼미더머니',\n",
       " ' 재즈',\n",
       " ' 밤 가을 새벽',\n",
       " ' 가을 밤 드라이브 가을 여행',\n",
       " ' 싱어송라이터 영국 기타',\n",
       " ' 멜로디 포레스트 캠프 자연 힐링 음악 쉼표',\n",
       " ' 추천 카페 생각 매장 노래 여행 거나 생각 기분 전환',\n",
       " ' 힐링 휴식',\n",
       " ' 비 날 비 날 휴식 비 날 비',\n",
       " ' 명곡 카페 발라드 취향 저격 드라이브 겨울 기분 전환 사랑',\n",
       " ' 기분 전환 휴식 주말 야경',\n",
       " ' 기분 전환',\n",
       " ' 드라이브 밤 새벽',\n",
       " ' 여름 노래 곡 썸머 휴가 바캉스 해변',\n",
       " ' 추억 가을 회상',\n",
       " ' 빌보드 빌보드',\n",
       " ' 가을 사랑',\n",
       " ' 힐링 휴식 사랑',\n",
       " ' 밤 새벽',\n",
       " ' 펑크 락 스트레스',\n",
       " ' 감성 추억',\n",
       " ' 감성 밤 취향 저격 드라이브 여행 기분 전환 팝송',\n",
       " ' 슬픔 추억 이별 회상',\n",
       " ' 발라드',\n",
       " ' 여자 가수 명품 발라드 고음 병',\n",
       " ' 랩 힙합',\n",
       " ' 연인',\n",
       " ' 클럽 밤 새벽',\n",
       " ' 비 날 빗물 락',\n",
       " ' 슬픔 추억 이별 회상',\n",
       " '',\n",
       " ' 힐링 휴식',\n",
       " ' 휴식 기분 전환',\n",
       " ' 힙합',\n",
       " ' 슬픔 거짓말 이별',\n",
       " ' 휴식 찬송',\n",
       " ' 팝',\n",
       " ' 힙합 랩 오승훈',\n",
       " ' 파워워킹 출근길 알앤비 분위기 드라이브 그루 브 맥주 비트 퇴근길',\n",
       " '',\n",
       " ' 소울 알앤비',\n",
       " ' 겨울 기분 전환',\n",
       " ' 감성 주말 일상 힐링 가요 사랑 팝',\n",
       " ' 포크 감성 어쿠스틱 여운',\n",
       " ' 새벽 감성 인디음악 달',\n",
       " ' 명곡 나 음악',\n",
       " ' 비트 노래 댄스 곡 때 운동 때',\n",
       " ' 음악 카페 음악 매장 음악 아침 재즈 기분 전환 보컬 재즈 퓨전 재즈 팝 재즈',\n",
       " ' 심포닉메탈',\n",
       " ' 때 추억 회상 운동 때 때 댄스 신 댄스 음악 때',\n",
       " ' 여름 드라이브',\n",
       " ' 소울 알앤비',\n",
       " ' 링 뮤직 팝 힙스터',\n",
       " ' 휴식 감성 알앤비 해외 알앤비 소울',\n",
       " ' 렉',\n",
       " '',\n",
       " '',\n",
       " ' 클래식',\n",
       " ' 연말 저녁 밤 캐럴 눈 오후 기전 재즈 힙합 자장가',\n",
       " ' 힙합 감성 나 기분 전환 내적댄스 트렌디',\n",
       " ' 노동요 에너지 팝송 비트 기분 전환',\n",
       " ' 귀르가즘 꿀 달달',\n",
       " ' 호호 클럽 디제이',\n",
       " ' 감성 취향 저격 드라이브 여행 기분 전환 업뎃 띵곡',\n",
       " ' 소울 알앤비',\n",
       " '',\n",
       " ' 기분 전환 여름 드라이브 바다',\n",
       " ' 여름 노래 여름밤 상쾌',\n",
       " ' 카페 음악 휴식 팝송 감성 팝송 사랑 밤 듣기 노래 날',\n",
       " ' 발레 음악 모던 클래식 발레',\n",
       " ' 기분 전환 드라이브',\n",
       " ' 해외 알앤비 소울 그루 브 명곡 소울',\n",
       " ' 김영후',\n",
       " ' 밴드 내한 콘서트 뉴홉 공연 셋 리스트 국외',\n",
       " ' 기분 전환 밤 새벽',\n",
       " ' 드라이브 팝송 빌보드',\n",
       " ' 댄스 본능 셧업 앤 댄스 댄스 댄스 뮤직',\n",
       " ' 힙합 신진 래퍼 뉴 페이스 오케이션 국내 힙합 기리보이 비 국힙',\n",
       " ' 힙합 랩 새벽 삶',\n",
       " ' 섭',\n",
       " ' 진원',\n",
       " ' 카페 재즈 독서 커피 북카페',\n",
       " ' 슬픔 이별 사랑',\n",
       " ' 비 날 감성 그루 브 위로 기분 전환 팝송 그냥 팝',\n",
       " ' 휴식 밤 새벽 새벽 몽환 감성 팝',\n",
       " ' 비 날 밤 새벽',\n",
       " ' 힐링 일요일',\n",
       " ' 기분 전환 시티 팝 나들이 드라이브',\n",
       " ' 비 날',\n",
       " ' 목요일',\n",
       " ' 클래식',\n",
       " ' 렉 힙합 클럽 힙존 클럽 마약',\n",
       " ' 수록 곡 나 노래',\n",
       " ' 가을',\n",
       " ' 인디음악 뮤직 카 로마',\n",
       " ' 소울 알앤비',\n",
       " ' 동윤 걸그룹 다중 음격 아이돌',\n",
       " ' 팝',\n",
       " ' 벚꽃 봄 사랑',\n",
       " ' 밴드 록 분업 스타일 락',\n",
       " ' 힙합 클럽 댄스 파티 팝 렉',\n",
       " ' 겨울',\n",
       " ' 감성 인생 곡',\n",
       " ' 힙합 랩',\n",
       " '',\n",
       " ' 일렉트로니카 매장 음악 퓨쳐 베이스',\n",
       " ' 발라드',\n",
       " ' 팝',\n",
       " ' 비 날 슬픔 이별',\n",
       " ' 힙합 여행 휴식 알앤비 오후 드라이브 그루 브 힐링 기분 전환 트렌디',\n",
       " ' 여름 감성 장마 여름방학 그루 브 여행',\n",
       " ' 밤 새벽',\n",
       " ' 팝',\n",
       " ' 사랑',\n",
       " ' 감성 밤 혼자 새벽 그리움 늦잠 아쉬움 불면증 외로움',\n",
       " ' 힐링 테크노',\n",
       " ' 감성 회상 추억 드라이브 여행 기분 전환 사랑 빌보드 핫 팝',\n",
       " ' 가을 까페',\n",
       " ' 슬픔 이별',\n",
       " '',\n",
       " ' 알앤비 분위기 팝송 비트 소울',\n",
       " ' 뉴에이지',\n",
       " ' 렉',\n",
       " ' 힙합 기분 연휴 운동 댄스 드라이브 가족 비트 스트레스 오후',\n",
       " ' 겨울 눈 성탄절 캐롤 크리스마스',\n",
       " ' 힐링 휴식 기분 전환',\n",
       " ' 여름 스트레스',\n",
       " ' 기분 전환 둠칫둠칫 산책',\n",
       " ' 외국 펍 클럽 펍노 주말 그루 브 이태원 맥주 펍 리듬 앤 블루스 트렌디',\n",
       " ' 소울 알앤비',\n",
       " ' 힙합 랩',\n",
       " ' 패셔너블 뷰티 몽환 팝',\n",
       " ' 감성',\n",
       " ' 커플 회상 아티스트 추억 명곡 부부 뮤지션 에센셜 명작 뮤지션',\n",
       " ' 여름 드라이브 여행',\n",
       " ' 힐링 휴식 추억 회상',\n",
       " ' 기분 전환 사랑',\n",
       " ' 겨울 사랑',\n",
       " ' 후회 부모님 눈물 어버이날 가족 사랑',\n",
       " ' 나 피쉬 슈즈',\n",
       " ' 이브 가즈 콘서트 발 장전',\n",
       " ' 락',\n",
       " ' 미세먼지 스트레스 재즈 팝송 가요 락',\n",
       " ' 안녕',\n",
       " ' 발라드',\n",
       " ' 호불호 모두 흥얼흥얼',\n",
       " ' 휴일 봄나물 졸음 운전 댄스 드라이브 여행 고속도로 휴식 기분 전환',\n",
       " ' 감성 밤',\n",
       " ' 클래식 피아노 가을 관현악 독주곡',\n",
       " ' 클래식',\n",
       " ' 헬스 스포츠 클럽 음악 운동',\n",
       " ' 팝',\n",
       " ' 회상 싱어송라이터 추억 명곡 포크',\n",
       " ' 명곡 나 카페 발라드 알앤비 매장 음악',\n",
       " ' 새벽 그냥 노래 감성 겨울 밤',\n",
       " ' 감성 밤 가을 발라드 추억 슬픔 저녁 이별',\n",
       " ' 팝송 스타 일리 쉬 유니크',\n",
       " ' 재즈',\n",
       " ' 방탄소년단 타이틀곡',\n",
       " ' 휴식 힐링',\n",
       " ' 기분 전환 운동',\n",
       " ' 뉴에이지',\n",
       " ' 재즈 추천 재즈',\n",
       " ' 재즈',\n",
       " ' 힐링 봄 카페',\n",
       " ' 아이돌',\n",
       " ' 발라드',\n",
       " ' 어쿠스틱 혼자 발라드 우울 분위기 드라이브 산책 띵곡들',\n",
       " ' 힐링 휴식 까페',\n",
       " ' 생기 시원 히피 잔디 바람 이슬 풀내음 초록빛 목장 초원',\n",
       " '',\n",
       " ' 샤워 휴식 그루비 기분 전환',\n",
       " ' 팝',\n",
       " ' 비 날',\n",
       " ' 운동',\n",
       " ' 햇살 매장 음악 봄 카페 봄바람 주말 멜로디 커피 휴식 힐링',\n",
       " ' 기분 출근 팝송 상쾌 아침',\n",
       " ' 댄스',\n",
       " ' 휴식 힐링',\n",
       " ' 매장 음악',\n",
       " ' 드라이브 봄',\n",
       " ' 여행 기분 전환 산책',\n",
       " ' 힙합 신인 외힙 힙합엘이',\n",
       " ' 힙합 빌보드 컨트리 빌보드 핫 차트',\n",
       " ' 추천 곡 감성 새벽 우울 노래 슬픔 위로 힐링',\n",
       " ' 비 날',\n",
       " ' 힐링 휴식',\n",
       " ' 밤 까페 새벽',\n",
       " ' 연애 감성 여름밤 달달 여름밤 듣기 음악 썸 중 사랑',\n",
       " ' 러브 송 달달 함 연애 사랑',\n",
       " ' 공부 수면 백색소음',\n",
       " ' 여자 아이돌 컴백 전쟁 엠넷 퀸덤 퀸덤 곡 모음',\n",
       " ' 아이돌 인디음악 트로트 팝송 사무실 스트레스 동요',\n",
       " ' 휴식 공부 곡',\n",
       " ' 기분 전환 매장 음악',\n",
       " ' 리드미컬 펑키',\n",
       " ' 슬픔 이별',\n",
       " '',\n",
       " ' 저녁 밤 회상 추억 힐링 사랑 퇴근길 새벽',\n",
       " ' 힙합 감성 힙합 알앤비 매장 드라이브 국내 힙합 쇼 인 국힙',\n",
       " ' 여행 알앤비 드라이브 그루 브 스티비원더 기분 전환 소울 빌보드 팝',\n",
       " ' 스트레스 기분 전환',\n",
       " ' 겨울 밤 새벽',\n",
       " ' 락',\n",
       " ' 힐링 휴식',\n",
       " ' 힐링 휴식 사랑',\n",
       " ' 힐링 휴식 스트레스',\n",
       " ' 추억 가을 회상',\n",
       " ' 클럽 클럽 노래 렉',\n",
       " ' 슬픔 짝사랑 이별 외 사랑 너',\n",
       " ' 명상 위 야외 피아노 곡 연주 곡 공부 피아노 힐링 피아노 연주 곡 햇살 날 시험 기간 집중 때 모닝콜 자장가',\n",
       " ' 재즈',\n",
       " ' 힙합 랩 락 메탈 록',\n",
       " ' 팝',\n",
       " ' 락',\n",
       " ' 달달 플레이 리스트 사랑',\n",
       " ' 드림팝 슈게이징 영국 몽환 기타 실험 날 락',\n",
       " ' 이별',\n",
       " ' 우주소녀',\n",
       " ' 발라드',\n",
       " ' 힐링 휴식 추억 회상',\n",
       " ' 분위기 어쿠스틱 여유 발라드 우울 도입 산책 스트레스 띵곡들',\n",
       " ' 기분 전환 밤 새벽',\n",
       " ' 비 날 감성 가을 새벽 낭만 우울 인생 이별',\n",
       " ' 추천 일렉트로니카 주차 주간 최신 전지 음악 인기 주간 일렉트로니카',\n",
       " ' 발라드',\n",
       " ' 여름',\n",
       " ' 혼자 겨울',\n",
       " ' 감성 밤 여름밤 새벽 혼자 때 감성 발라드 발라드',\n",
       " ' 클럽',\n",
       " ' 클래식',\n",
       " ' 감성 발라드 노래 우울 이별 노래 노래 추천 기분',\n",
       " '',\n",
       " '',\n",
       " ' 비 날 저녁 카페 주말 오후 드라이브 감성 감성 발라드',\n",
       " ' 락',\n",
       " ' 힙합 외국 힙합 노래',\n",
       " ' 인생 곡',\n",
       " ' 연말 파티 올드팝',\n",
       " ' 밤 까페 새벽',\n",
       " ' 밤 새벽',\n",
       " ' 드라이브 명곡 빌보드 기분 전환 팝',\n",
       " ' 이별 겨울',\n",
       " ' 힐링 뉴에이지 피아노',\n",
       " ' 힙합 팝 댄스 기분 전환',\n",
       " ' 저녁 매장 음악 카페 매장 재즈 힐링 기분 전환',\n",
       " ' 소울 알앤비',\n",
       " ' 힐링 휴식 까페',\n",
       " ' 추억 사랑 회상',\n",
       " ' 인디음악 소란',\n",
       " ' 기분 매장 음악 연인 사랑 행복 고백 데이트 취향 달달',\n",
       " ' 음악 지식 엄선',\n",
       " ' 카페 음악 휴식 카페 여유 취향 저격 카페 듣기 커피 감성 티타임 힐링',\n",
       " ' 추억 감성',\n",
       " '',\n",
       " ' 스트레스 운동',\n",
       " ' 겨울 크리스마스 노래 성탄절 겨울 노래 크리스마스 캐롤',\n",
       " '',\n",
       " ' 감성 발라드 힐링 기분 전환',\n",
       " ' 뉴에이지',\n",
       " ' 슬픔 끝 눈물 발라드',\n",
       " ' 비 날 밤 새벽',\n",
       " ' 정서 발달 아기 동요',\n",
       " '',\n",
       " ' 오후',\n",
       " ' 리스트 콘서트 젝스키스',\n",
       " '',\n",
       " ' 비 날 여름 휴식 밤 가을 사랑 까페',\n",
       " ' 더포앳 류 이치 사카모토 김윤 김광민 박지 섭 이루마 바 이준',\n",
       " ' 인디음악 한번 이미지 직접 사진',\n",
       " ' 추억 하드록 메탈 락 명곡 록 발라드 남성 명작',\n",
       " ' 카페 주말 달달 발라드 드라이브 봄 캐롤 봄 노래 봄',\n",
       " ' 동윤 로큰롤 로큰롤 의전 기분 전환 명예 의전 다중 음격',\n",
       " ' 매장 음악 운동 스트레스 매장 드라이브 기분 전환 최신 트렌디 팝',\n",
       " ' 가을',\n",
       " ' 감성',\n",
       " ' 밤 새벽 발라드 알앤비 업데이트 음악 알앤비 소울',\n",
       " ' 국내 힙합',\n",
       " ' 트렌디',\n",
       " ' 클래식 관악기',\n",
       " ' 남자 아이돌 아이돌 여자 아이돌 아이돌 명곡',\n",
       " ' 라이 징 스타',\n",
       " ' 슬픔 밤 새벽 오후 추억 그리움 사랑 이별 회상',\n",
       " '',\n",
       " ' 아침 연주 곡 피아노 명상 모닝콜 독서 클래식 추위 미술관 공부',\n",
       " ' 여름 드라이브 여행 기분 전환 더위',\n",
       " ' 발라드',\n",
       " ' 새벽 추억 밤 회상',\n",
       " ' 배경음악 듀엣 카페 남녀 연인 커피 노래방',\n",
       " ' 발라드',\n",
       " ' 집중 태교 음악 노동요 어린이 클래식 태교 클래식 자장가 모닝콜 마음 릴랙스 요가 클래식 힐링 테라 피 요가',\n",
       " ' 렉',\n",
       " ' 잠결 토요명화 영화 주말',\n",
       " ' 사랑',\n",
       " ' 힐링 휴식 까페',\n",
       " ' 봄 주말 댄스 드라이브 여행 중독 기분 전환 파티 팝',\n",
       " ' 기분 전환 사랑',\n",
       " ' 매장 음악 까페',\n",
       " ' 비 날 밤 새벽',\n",
       " ' 소울 알앤비',\n",
       " ' 피아노 뉴에이지 연주 곡',\n",
       " ' 휴식 자장가',\n",
       " ' 헤이즈',\n",
       " ' 민중가요',\n",
       " ' 감성 여자 가수 분위기 행복 슬픔 이소라 위로 사랑 발라드',\n",
       " ' 추억 발라드',\n",
       " ' 발라드',\n",
       " ' 아미 라면 최고 노래 방탄소년단 아미 위 힐링 노래',\n",
       " ' 가을',\n",
       " ' 힐링 휴식 밤 새벽',\n",
       " ' 연주 음악 외로움',\n",
       " ' 발라드',\n",
       " ' 카페 오후 피아노 위로 피곤 기전 뉴에이지 자장가 북카페',\n",
       " ' 감성',\n",
       " ' 힐링 휴식',\n",
       " ' 여름 운동',\n",
       " ' 가을 감성 매장 음악 꿈 행복 몽환 집 드라이브 바람 산책',\n",
       " ' 스트레스 기분 전환',\n",
       " ' 드라이브 밤 새벽',\n",
       " ' 기분 여름 상큼 사이다 신맛 분업 트렌디 텐션 업',\n",
       " ' 까페 사랑',\n",
       " ' 가을',\n",
       " ' 매장 음악 쇼핑 감각 매장 일상',\n",
       " ' 겨울 까페',\n",
       " ' 휴식 주말 혼자 추억 휴가 감성 분위기 책 때',\n",
       " '',\n",
       " ' 가요',\n",
       " ' 헬스장 운동 때 노래 헬스장 운동 때 음악 헬스장 운동',\n",
       " ' 명곡 발라드 아이돌 걸그룹 알앤비 보이 그룹 댄스 아이돌 명곡',\n",
       " ' 신곡 옥콩 새벽 드라이브 감성 팝송',\n",
       " ' 매장 음악 까페',\n",
       " ' 여름',\n",
       " ' 기분 전환',\n",
       " ' 여름 기분 전환',\n",
       " ' 때 곡수 팝송 좀 곡',\n",
       " ' 여름 드라이브',\n",
       " ' 힐링 휴식',\n",
       " ' 방해 금지 기분 전환 때',\n",
       " ' 방학 달콤 가을 파란 낭만 드라이브 가을 여행 여행 하늘',\n",
       " ' 광고 감각 광고음악',\n",
       " ' 밤 새벽',\n",
       " ' 팝',\n",
       " ' 가을 이별 가을동화',\n",
       " ' 매장 음악 사랑',\n",
       " ' 댄스',\n",
       " ' 발라드',\n",
       " ' 발라드',\n",
       " ' 팝',\n",
       " ' 비 날 슬픔 이별',\n",
       " ' 힐링 휴식 추억 회상',\n",
       " ' 휴식 봄 카페 달달 여유 오후 매장 힐링 기분 전환 일상',\n",
       " ' 힐링 휴식 뉴에이지 피아노 재즈',\n",
       " ' 밤 새벽',\n",
       " ' 뉴욕',\n",
       " ' 매장 음악 사랑',\n",
       " ' 하드록 메탈 드럼 명곡 연주 스래시 메탈 환상 도감 락 스트레스 해소',\n",
       " ' 추억 노래 한번',\n",
       " ' 옥타곤',\n",
       " ' 밴드 밴드 음악',\n",
       " ' 뉴에이지',\n",
       " ' 로우',\n",
       " ' 기분 전환 밤 새벽',\n",
       " ' 댄스',\n",
       " ' 걸그룹 발라드',\n",
       " ' 휴식 가을 귀르가즘 우울 발라드 감성',\n",
       " '',\n",
       " ' 신곡 박자 비트',\n",
       " ' 재즈',\n",
       " ' 휴식 월요병 노래 음색 힐링 기분 전환',\n",
       " ' 힐링',\n",
       " ' 겨울 저녁 매장 음악 겨울 감성 카페 드라이브 기분 전환 사랑',\n",
       " ' 피크닉 감성 기분 전환 오후 여행',\n",
       " ' 운동',\n",
       " ' 발라드',\n",
       " ' 락',\n",
       " ' 무도 무한도전',\n",
       " ' 카페 음악 휴식 커피 드라이브',\n",
       " ' 재즈',\n",
       " ' 드라이브 봄 벚꽃',\n",
       " ' 기분 드라이브 산책',\n",
       " ' 매장 음악',\n",
       " ' 기분 전환 운동',\n",
       " ' 힙합 랩 국내 힙합 트렌드 쇼미더머니 스웨 그',\n",
       " ' 게임 넥슨 니드포스피드 니드포스피드 엣지',\n",
       " ' 휴식 연주 곡 피아노 연주 곡 모음 피아노 카페 듣기 음악 아메리카노 가사 뉴에이지 피아노 연주 곡 머리 아침 잠',\n",
       " ' 드라이브 여행',\n",
       " ' 월요병 안녕 집 위로 힐링',\n",
       " ' 스트레스 기분 전환',\n",
       " ' 휴식 힐링',\n",
       " ' 집중 여유 회상 추억 사랑 감미 스트레스',\n",
       " ' 휴식 팝 차',\n",
       " ' 여행 드라이브 산책',\n",
       " ' 세대',\n",
       " ' 힙합 일렉트로니카 드럼 머신 댄스 리믹스 하이브리드 팝랩',\n",
       " ' 발라드',\n",
       " ' 힙합 클럽 알앤비 드라이브 힙합 클럽 불금 외힙 트렌디',\n",
       " ' 흑인음악 소울 카페',\n",
       " ' 클럽 최신 댄스 하우스 파티 인기 일렉트로닉 팝 렉',\n",
       " ' 뉴에이지',\n",
       " ' 락',\n",
       " ' 키즈 클래식 살 살 살',\n",
       " ' 기분 전환 사랑',\n",
       " ' 취향 저격 잠 감성 새벽',\n",
       " ' 팝',\n",
       " ' 올해 앨범 연말 결산 박효재 스쿨오브록 록',\n",
       " ' 휴식 힐링',\n",
       " ' 썸남 감성 카페 썸녀 분위기 재즈 데이트 썸',\n",
       " ' 사랑',\n",
       " ' 기분 전환 까페',\n",
       " ' 락',\n",
       " ' 휴식 노동요 연주 곡 피아노 공부 클래식 기전 침대 자장가 불면증',\n",
       " ' 불면증 새벽 밤 여름밤',\n",
       " ' 발라드',\n",
       " ' 팝',\n",
       " ' 퇴근 봄 카페 매장 꽃 공감',\n",
       " ' 서재 페 제 재즈',\n",
       " ' 힐링 휴식 사랑',\n",
       " ' 위로',\n",
       " ' 발라드',\n",
       " ' 힙합 랩',\n",
       " ' 댄스 곡 여름 송 걸그룹',\n",
       " ' 퇴근 기분 전환 카페',\n",
       " ' 팝',\n",
       " ' 감성 봄 드라이브 여행 휴식 기분 전환',\n",
       " ' 새벽 추억 밤 회상',\n",
       " '',\n",
       " ' 팝',\n",
       " '',\n",
       " ' 슬픔 추억 이별 회상',\n",
       " ' 휴식 힐링 여행 산책',\n",
       " ' 아이돌',\n",
       " '',\n",
       " ' 재즈',\n",
       " ' 살 살 살 살 아기 동화',\n",
       " ' 매장 음악 까페',\n",
       " ' 여행 기분 전환 산책',\n",
       " ' 크리스마스 송',\n",
       " ' 트로트',\n",
       " ' 여행 드라이브 산책',\n",
       " ' 힙합 감성 힙합 랩 띵곡 국내 힙합 감성 국힙',\n",
       " ' 방탄소년단 방탄소년단 명곡',\n",
       " ' 감성 팝 팝 발라드',\n",
       " ' 카페',\n",
       " ' 추천 감성 새벽 새벽 감성 노래 감상',\n",
       " ' 걸그룹 댄스 히트 곡',\n",
       " ' 휴식 힐링 밤 새벽',\n",
       " ' 블랙 이드 필승',\n",
       " ' 드라이브',\n",
       " ' 아무로 나미 세트리스트',\n",
       " ' 힙합 매장 음악 카페 알앤비 감각 그루 브 꿀 보이스 커피 리드미컬 트렌디',\n",
       " ' 공부 카페',\n",
       " ' 슬픔 이별 가을',\n",
       " ' 겨울 저녁 밤 로맨틱 레스토랑 재즈 바 크리스마스',\n",
       " ' 클럽 스트레스',\n",
       " ' 힐링 휴식',\n",
       " ' 리드미컬 기분 전환',\n",
       " ' 힐링 카페',\n",
       " ' 슬픔 이별',\n",
       " ' 유니크 분위기 힙 시크 트렌디 팝 힙스터',\n",
       " ' 기분 전환 드라이브',\n",
       " ' 사랑',\n",
       " ' 힐링 휴식',\n",
       " ' 기분 전환 드라이브',\n",
       " ' 겨울',\n",
       " ' 발라드',\n",
       " ' 한국어 패치 수능 금지곡 금지곡 한글 한국어',\n",
       " ' 발라드',\n",
       " ' 힙합 외국 힙합 트렌디 트렌디',\n",
       " ' 락',\n",
       " ' 운동',\n",
       " ' 피아노 뉴에이지 재즈',\n",
       " '',\n",
       " ' 기분 밤 달달 고막 행복 연애 사랑 새벽',\n",
       " ' 사랑 밤 새벽',\n",
       " ' 감성 가을 카페 발라드 한강 오후 매장 드라이브 하늘 저녁',\n",
       " ' 팝',\n",
       " '',\n",
       " ' 밤 달달 연인 새벽 사랑 자장가',\n",
       " ' 클래식',\n",
       " ' 저녁 밤 새벽 추억 그리움 슬픔 사랑 이별 회상',\n",
       " ' 감각 트렌디 편집 모델 런웨이',\n",
       " ' 힙합 매장 음악 카페 알앤비 드라이브 여행',\n",
       " '',\n",
       " ' 비 날 감성 혼자 새벽 새벽 감성 우울 토닥토닥 센치 위로 날',\n",
       " ' 뉴에이지',\n",
       " ' 셋 리스트 공연',\n",
       " ' 힙합 랩',\n",
       " ' 밤 새벽',\n",
       " '',\n",
       " ' 곡 비교 팬텀 싱어',\n",
       " ' 방탄소년단',\n",
       " ' 운동',\n",
       " ' 빌보드 빌보드',\n",
       " ' 일렉트로니카 매장 음악 우울 페스티벌 기분 전환',\n",
       " ' 발라드',\n",
       " ' 응원 토닥토닥 수험생 수능 긍정 기분 전환 시험 스트레스',\n",
       " ' 휴식 힐링 기분 전환',\n",
       " ' 뉴에이지',\n",
       " ' 비 날 추억 회상',\n",
       " ' 겨울 겨울 공기 취향 저격 인디뮤직 몽환 몽환',\n",
       " ' 또 라이',\n",
       " ' 추억 회상',\n",
       " ' 겨울 휴식 발라드 드라이브 공감 산책 이별 사랑',\n",
       " ' 비 날 기분 전환',\n",
       " ' 댄스',\n",
       " ' 여름 사랑',\n",
       " ' 겨울 어쿠스틱 발라드 추억 기분 전환 사랑',\n",
       " ' 클래식',\n",
       " ' 아기 클래식 살',\n",
       " ' 사랑 밤 새벽',\n",
       " ' 소울 알앤비',\n",
       " ' 뉴에이지',\n",
       " ' 기분 전환 드라이브 시원',\n",
       " '',\n",
       " ' 여름 명곡 발라드',\n",
       " ' 봄 회상 산뜻 달달 드라이브 기분 전환 산책 잔잔',\n",
       " ' 발라드',\n",
       " ' 저녁 카페 여름밤 매장 드라이브 여름 노래 바캉스 퇴근길 해변',\n",
       " ' 발라드',\n",
       " ' 추억 회상 재 응답 발라드 댄스 복고 세대 공감',\n",
       " ' 락',\n",
       " ' 뉴에이지',\n",
       " ' 사랑 애정',\n",
       " ' 우울 감성 밤 새벽',\n",
       " '',\n",
       " ' 클럽',\n",
       " ' 락',\n",
       " '',\n",
       " ' 기분 전환 감성 힙합',\n",
       " ' 가을 발라드',\n",
       " ' 팝',\n",
       " ' 휴식 감성',\n",
       " ' 추억 회상',\n",
       " ' 겨울 어쿠스틱 음악',\n",
       " ' 비 날',\n",
       " ' 웹진 웨이브 위 클리 초이스 기분 전환',\n",
       " ' 발라드',\n",
       " ' 추억 회상',\n",
       " ' 소울 알앤비',\n",
       " ' 일렉트로니카',\n",
       " ' 노래방 감성 겨울 이별',\n",
       " ' 뉴이스트 추천 노래',\n",
       " ' 팝',\n",
       " '',\n",
       " ' 힙합',\n",
       " ' 중독',\n",
       " '',\n",
       " ' 저녁 씨티 팝 밤 시티 팝 드라이브 도시 시티 팝 도시 밤 밤 드라이브 노을 레트로',\n",
       " ' 매장 음악 카페 가을 알앤비 센치 힐링 기분 전환 고막 힐링 소울',\n",
       " ' 세기말 잔잔 감성',\n",
       " ' 가이드 한지훈',\n",
       " ' 힙합 랩',\n",
       " ' 힙합',\n",
       " ' 스트레스 기분 전환',\n",
       " ' 이스케이프 이스케이프 코리아 페스티벌 페발 할로윈',\n",
       " ' 겨울 감성 혼자 겨울 밤 센치 위로 퇴근길 발라드',\n",
       " ' 클래식',\n",
       " ' 클럽 루프 탑 리듬 매장 드라이브 그루 브 맥주 기분 전환 운전 댄스',\n",
       " ' 기분',\n",
       " ' 댄스',\n",
       " ' 추억 영혼 박효신',\n",
       " ' 새벽 추억 밤 회상',\n",
       " ' 렉',\n",
       " ' 락',\n",
       " ' 추억 사랑 회상',\n",
       " ' 밤',\n",
       " ' 스트레스 기분 전환',\n",
       " ' 힐링 휴식',\n",
       " ' 드라이브 밤 새벽',\n",
       " ' 락',\n",
       " ' 휴식 힐링 기분 전환',\n",
       " ' 힙합 팝 렉',\n",
       " ' 띵곡 업뎃중',\n",
       " '',\n",
       " ' 여름 댄스 추억 드라이브 여름 노래 가요 바다 휴가 무더위',\n",
       " ' 추억 감성 한국 모음',\n",
       " ' 그루 브 해외 팝 핫 빌보드',\n",
       " ' 무념무 유상 멍',\n",
       " ' 발라드',\n",
       " ' 일본 노래 일본 노래 추천 일본',\n",
       " ' 한번 노래 발라드 감성 감성 벽감',\n",
       " ' 팝',\n",
       " ' 스트레스 운동',\n",
       " ' 카페',\n",
       " ' 댄스',\n",
       " ' 뮤직 테라 피',\n",
       " ' 커플 휴식 드라이브 차안',\n",
       " ' 비 날 여름',\n",
       " ' 힙합 랩 추억 래퍼 탑골 공원',\n",
       " ' 그루비 룸 딘 식 케이 감성 힙합 그루 브',\n",
       " '',\n",
       " ' 셋 리스트 공연',\n",
       " ' 하드코어 외힙',\n",
       " ' 팝',\n",
       " ' 집중 노동요 연주 곡 피아노 명상 커피 모닝콜 피곤 작업 생각',\n",
       " ' 팝 베이스 락',\n",
       " ' 댄스',\n",
       " ' 힐링 혼자',\n",
       " ' 렉',\n",
       " ' 뉴에이지',\n",
       " ' 휴식 힐링',\n",
       " ' 내적댄스 댄스',\n",
       " ' 왜 가수 타 아이돌 타 취향',\n",
       " ' 기분 전환',\n",
       " ' 비 날 감성 밤 카페 새벽 드라이브 밤 듣기 노래',\n",
       " ' 슬픔 밤 이별 새벽',\n",
       " ' 사랑',\n",
       " ' 여름 휴양지 노래 주말 월요병 열대야 바다 운전 무더위',\n",
       " ' 카페 주말 연애 고백 데이트 썸 고막 여친 나들이',\n",
       " ' 달달 달콤 기분 봄날',\n",
       " ' 비 날',\n",
       " ' 여름 댄스 곡',\n",
       " ' 응원 휴식 집콕 운동 달달 매장 봄 캐롤 감성',\n",
       " ' 클럽 매장 음악',\n",
       " ' 그래미어워드 컨츄리 가스펠',\n",
       " ' 힙합 랩',\n",
       " ' 베이스 모타운',\n",
       " ' 렉',\n",
       " '',\n",
       " ' 비 날 스트레스',\n",
       " ' 감성 자극 한강 밤 듣기 노래 새벽 여름밤',\n",
       " ' 락',\n",
       " ' 장',\n",
       " ' 추억 기분 전환 회상',\n",
       " ' 소울 알앤비',\n",
       " ' 힐링 휴식',\n",
       " ' 까페',\n",
       " ' 또 라이',\n",
       " ' 감성 새벽 슬픔 사랑 아픔 이별',\n",
       " ' 응답 아련 발라드 명장 그리움 드라마 복고',\n",
       " ' 발라드',\n",
       " ' 노래 노래 버스 창가 가사 멜로디 선선 한밤 산책 전',\n",
       " ' 락',\n",
       " ' 렉',\n",
       " ' 재즈',\n",
       " ' 뉴에이지',\n",
       " ' 워십 경배 하나님 찬양 예수님 사랑 은혜',\n",
       " ' 비 날 감성 발라드 가을 새벽',\n",
       " ' 명곡 멜론 플레이 리스트',\n",
       " ' 렉',\n",
       " ' 팝',\n",
       " ' 더위 열대야',\n",
       " ' 불면증 새벽 겨울 비',\n",
       " '',\n",
       " ' 힙합 렉 팝 새해 복',\n",
       " ' 감성 팝 새벽',\n",
       " ' 명곡 댄스 걸그룹 수록 곡 돌',\n",
       " ' 힐링 휴식',\n",
       " ' 추억 기분 전환 회상',\n",
       " ' 가을 감성 감성 가을 멜로디 포레스트 캠프 포캠 명곡 가요 공연 오락 반장',\n",
       " ' 떡 신예 새해 복 루키',\n",
       " ' 발라드',\n",
       " ' 팝',\n",
       " ' 봄 사랑',\n",
       " ' 달달',\n",
       " ' 감성 시작 출발 새해 위로 사랑 연초 연인 화이팅',\n",
       " ' 외힙 싱잉랩 씨잼',\n",
       " ' 휴식 밤 새벽 취향 저격 멜랑꼴리 베드룸 팝',\n",
       " ' 렉',\n",
       " ' 소울 알앤비',\n",
       " ' 비프리',\n",
       " ' 집중 가을 추억 시험 독서 뉴에이지 연주 음악 공부',\n",
       " ' 운전 때 기분 전환 끄덕 끄덕',\n",
       " ' 감성 봄 카페 우울 추억 드라이브 힐링 사랑',\n",
       " ' 햇살 봄 발라드 오후 추억 그리움 차안 어쿠스틱',\n",
       " ' 기분 전환 봄',\n",
       " ' 엄마 음악 태교 태교 음악 아기 음악 까페 음악 감동 임산부 자장가 힐링 노래',\n",
       " ' 여행 드라이브 산책',\n",
       " ' 여자 보컬 음색 부자 음색',\n",
       " ' 슬픔 이별',\n",
       " ' 뉴에이지',\n",
       " ' 여름 여행',\n",
       " ' 가을',\n",
       " ' 비 날',\n",
       " ' 발라드',\n",
       " '',\n",
       " ' 감성 매장 음악 연주 곡 피아노 위로 커피 뉴에이지',\n",
       " ' 탐구생활 아이돌 탐구생활 아이돌',\n",
       " ' 힙합 랩',\n",
       " '',\n",
       " ' 발라드',\n",
       " ' 힙합 랩',\n",
       " ' 비 날 카페 추억 슬픔 사랑 회상 발라드',\n",
       " ' 힐링 사랑',\n",
       " ' 겨울 발라드',\n",
       " ' 릴 렉스 한강 가을',\n",
       " '',\n",
       " ' 겨울 사랑',\n",
       " ' 팝',\n",
       " ' 휴식 여유 분위기 재즈팝',\n",
       " ' 페미니즘 여성',\n",
       " ' 썸 썸남썸녀',\n",
       " ' 비 날 추천 장마 알앤비 분위기 노래',\n",
       " ' 휴식 힐링 사랑',\n",
       " ' 클린 트 이스트 우드 영화음악 영화감독',\n",
       " ' 발라드',\n",
       " ' 생일 안지영 볼 사춘기 생일 축하 노래',\n",
       " ' 기분 전환 매장 음악',\n",
       " ' 기분 전환 여름 드라이브',\n",
       " ' 최애 음악 기분 전환',\n",
       " ' 열대야',\n",
       " ' 취 보이스 감성 자극',\n",
       " ' 연말 연말 결산 그리움',\n",
       " ' 취향 저격 멜론 차트 노답 차트 빌보드 팝',\n",
       " ' 내한 케샤 세트리스트 여자 보컬 음색 깡패 팝 스트레스 해소',\n",
       " ' 재즈 추천 황덕호 원더풀 재즈 재즈',\n",
       " ' 밤 카페 여름밤 회상 바람',\n",
       " ' 록',\n",
       " ' 랩 감성 합합',\n",
       " '',\n",
       " ' 국내 기분 전환 드라이브 장르 불문',\n",
       " ' 스트레스 기분 전환',\n",
       " ' 비스트',\n",
       " ' 제스 글린',\n",
       " ' 나 피쉬 슈즈 아티스트 추천 음악',\n",
       " ' 중 병 밴드 락 락 메탈',\n",
       " ' 기분 전환 드라이브',\n",
       " ' 사랑',\n",
       " ' 휴식 힐링',\n",
       " ' 팝',\n",
       " ' 저녁 가을 발라드 버스 지하철 센치 노을 퇴근길 우울',\n",
       " ' 기분 전환 사랑',\n",
       " ' 락',\n",
       " ' 매장 음악 까페',\n",
       " ' 여행 기분 전환 산책',\n",
       " ' 기말고사 음악 세계',\n",
       " ' 이갈룡',\n",
       " ' 사랑',\n",
       " ' 사랑',\n",
       " ' 추억 회상',\n",
       " ' 감성 눈물 가을 발라드 음색 이별 외로움',\n",
       " ' 휴일 아이돌 댄스 가을비 드라이브 여행 기분 전환',\n",
       " ' 카페 음악 카페 오후 드라이브 기분 전환',\n",
       " ' 추억 기분 전환 회상',\n",
       " ' 발라드',\n",
       " ' 클래식',\n",
       " ' 발라드',\n",
       " ' 분위기 노래',\n",
       " ' 산책 여행',\n",
       " ' 밤 새벽',\n",
       " ' 발라드',\n",
       " ' 기분 전환 드라이브',\n",
       " ' 발라드',\n",
       " ' 힙합 감성 드라이브',\n",
       " ' 송가 트롯 스밍 정미 애',\n",
       " ' 날 날씨 음악 오후',\n",
       " ' 매장 음악 운동 음악 드라이브 기분 전환 비트',\n",
       " ' 매장 음악 카페 러블리쏘 분위기 드라마 사랑 팝',\n",
       " ' 힐링 휴식',\n",
       " ' 이별 감성 이별 위로 눈물',\n",
       " ' 슬픔 겨울 이별',\n",
       " ' 휴식 힐링 기분 전환',\n",
       " ' 밤 분위기 드라이브 위로',\n",
       " ' 패밀리 그룹 비지스 팝 레전드 가족 잭슨 파이브 오스먼드 패밀리 카펜터즈',\n",
       " ' 여행 봄 산책 풍경',\n",
       " ' 숫자 제목 숫자',\n",
       " ' 안예은 단독 공연 안예은 마녀 춘몽 홍 언니',\n",
       " ' 팝',\n",
       " ' 사랑',\n",
       " ' 댄스',\n",
       " ' 발라드',\n",
       " '',\n",
       " ' 락',\n",
       " ' 발라드',\n",
       " ' 팝',\n",
       " ' 가을 까페',\n",
       " ' 해외 알앤비 소울 얼터 알앤비 어번 컨템포러리 몽환',\n",
       " ' 때 최신 팝 팝락 락 기분 전환 팝',\n",
       " ' 처음 재즈',\n",
       " ' 트와이스 일본 타이틀',\n",
       " ' 외국 힙합',\n",
       " ' 매장 음악 카페 알앤비 운동 드라이브 여행 기분 전환 사랑 소울',\n",
       " ' 슬픔 추억 이별 회상',\n",
       " ' 징글벨 메리크리스마스 성탄절 크리스마스 캐롤 캐롤 송',\n",
       " ' 도움 태교',\n",
       " ' 도입 부 일 때 듣기 노래 드라이브 팝송 도입 부 기분 전환 팝',\n",
       " ' 락 메탈',\n",
       " ' 찬 공기 가을 시작',\n",
       " ' 추억 회상',\n",
       " ' 위로 대화 눈물',\n",
       " ' 매장 음악 카페 사랑 재즈',\n",
       " ' 힙합',\n",
       " ' 뉴에이지',\n",
       " ' 댄스 곡',\n",
       " ' 기분 여유 카페 산책 봄날 힐링 장르 불문 팝',\n",
       " ' 후 발라드 감성 음악 이별 노래 이별 발라드 감성 발라드 이별 감성 이별',\n",
       " ' 밤 새벽',\n",
       " ' 힙합 랩',\n",
       " ' 감성 새벽 명곡 드라마 기분 전환 영화 힐링 명반',\n",
       " ' 기분 전환 사랑',\n",
       " ' 힙합 취향 저격 감각 드라이브 그루 브 여행 기분 전환 유니크 운전 트렌디',\n",
       " ' 감성 노래',\n",
       " ' 외국 힙합',\n",
       " ' 사랑 밤 새벽',\n",
       " ' 발라드',\n",
       " ' 겨울 겨울 감성 카페 겨울 밤 매장 드라이브 겨울 노래 로맨틱 추위',\n",
       " ' 드라이브',\n",
       " ' 기분 전환 로보트 드라이브',\n",
       " ' 힐링 휴식',\n",
       " ' 명곡',\n",
       " ' 추억 회상',\n",
       " ' 차트 국내 차트',\n",
       " ' 팝',\n",
       " ' 댄스',\n",
       " ' 비 날',\n",
       " ' 휴식 매장 음악 카페 발라드 감미 로움 분위기 센치 감성 기분 전환 이별',\n",
       " '',\n",
       " ' 휴식 가을 감성 드라이브 여행 힐링 기분 전환 사랑',\n",
       " ' 힐링 휴식 기분 전환',\n",
       " ' 가요제 회상 낭만 추억 대학',\n",
       " ' 여름 상큼 발랄 드라이브 여행 기분 전환',\n",
       " ' 샹송 프랑스 칸소네 이탈리아',\n",
       " ' 힐링 휴식 밤 새벽',\n",
       " ' 기분 전환 가을',\n",
       " ' 락',\n",
       " ' 힙합 미국 힙합 외힙 입문 미국',\n",
       " ' 도입 부',\n",
       " ' 사랑',\n",
       " ' 힙합 힙합 감성 힙합 눈물 때',\n",
       " ' 집중 연주 곡 카페 피아노 독서 힐링 뉴에이지 공부',\n",
       " ' 방송 하트 시그널 하트 시그널 하트 시그널',\n",
       " ' 댄스 추억 드라이브 나이트 기분 전환 팝송 옛날 팝송 광고음악',\n",
       " ' 여름 국적 휴가',\n",
       " ' 커플 로맨틱 웨딩 송 사랑 결혼식 축가',\n",
       " ' 장르 트로트 성인가요 트로트 차트 인기 트로트',\n",
       " ' 여름 해외 운동 드라이브 팝송 스트레스',\n",
       " ' 팝',\n",
       " ' 드라이브 감성 매장 음악',\n",
       " ' 락',\n",
       " ' 휴식 힐링',\n",
       " ' 차트 멜론 인기 곡 국내 가요 인기',\n",
       " ' 알앤비 렬루 그루 브 리듬 앤 블루스',\n",
       " ' 댄스',\n",
       " ' 추천 곡 휴식 운동 힐링 출근길 트렌디 기분 전환',\n",
       " ' 뉴에이지',\n",
       " ' 가을',\n",
       " '',\n",
       " ' 발라드',\n",
       " ' 슬픔 추억 이별 회상',\n",
       " ' 소울 알앤비',\n",
       " ' 팝',\n",
       " ' 운동 자전거',\n",
       " ' 나 피쉬 슈즈 새봄',\n",
       " ' 홈트 스포츠 운동 홈 트레이닝 록',\n",
       " ' 클래식',\n",
       " ' 클래식',\n",
       " ' 추억 회상 청곡 라디오 발라드 송라이터 아날로그 가요 스 테디 셀러',\n",
       " ' 이탈리아 오페라 아리아 베르디 합창곡 감동 작곡가',\n",
       " ' 명곡 회상 추억 리메이크 감동',\n",
       " ' 션 데스 내한 감성 취향 저격 싱어송라이터 분위기 음색 기분 전환 트렌디 팝',\n",
       " ' 힙합 랩',\n",
       " ' 겨울 매장 음악',\n",
       " ' 분위기 팝송',\n",
       " ' 감성 카페 봄바람 드라이브 봄 노래 방콕 집 봄 캐롤 기분 전환',\n",
       " ' 연주 곡 카페 피아노 힐링 기분 전환 뉴에이지 스트레스',\n",
       " ' 감성 휴식 기분 전환 일렉트로니카 팝 일렉트로니카',\n",
       " ' 땐 어도 척 진짜 과정',\n",
       " ' 힙합 팝 아이돌',\n",
       " ' 댄스',\n",
       " ' 겨울 매장 음악 카페 매장 드라이브 재즈 기분 전환 크리스마스 캐롤',\n",
       " ...]"
      ]
     },
     "execution_count": 228,
     "metadata": {},
     "output_type": "execute_result"
    }
   ],
   "source": [
    "contents_for_vectorize"
   ]
  },
  {
   "cell_type": "code",
   "execution_count": 249,
   "metadata": {
    "ExecuteTime": {
     "end_time": "2020-05-14T11:29:08.449838Z",
     "start_time": "2020-05-14T11:29:07.875888Z"
    }
   },
   "outputs": [
    {
     "data": {
      "text/plain": [
       "<115071x10395 sparse matrix of type '<class 'numpy.int64'>'\n",
       "\twith 395059 stored elements in Compressed Sparse Row format>"
      ]
     },
     "execution_count": 249,
     "metadata": {},
     "output_type": "execute_result"
    }
   ],
   "source": [
    "# 벡터라이즈\n",
    "from sklearn.feature_extraction.text import CountVectorizer, TfidfVectorizer\n",
    "vectorizer = TfidfVectorizer(min_df = 1, decode_error = 'ignore')\n",
    "X = vectorizer.fit_transform(contents_for_vectorize)\n",
    "X"
   ]
  },
  {
   "cell_type": "code",
   "execution_count": null,
   "metadata": {
    "ExecuteTime": {
     "start_time": "2020-05-14T11:29:10.859Z"
    },
    "scrolled": true
   },
   "outputs": [],
   "source": [
    "# 메모리 터짐\n",
    "from sklearn.metrics import pairwise_distances\n",
    "pairwise_matrix = pairwise_distances(X, X, n_jobs=-1)"
   ]
  },
  {
   "cell_type": "markdown",
   "metadata": {
    "ExecuteTime": {
     "end_time": "2020-05-14T06:56:28.432447Z",
     "start_time": "2020-05-14T06:56:28.430336Z"
    }
   },
   "source": [
    "# 유사도 측정할 테스트 문장"
   ]
  },
  {
   "cell_type": "code",
   "execution_count": 29,
   "metadata": {
    "ExecuteTime": {
     "end_time": "2020-05-14T10:44:11.032730Z",
     "start_time": "2020-05-14T10:44:11.027660Z"
    }
   },
   "outputs": [
    {
     "data": {
      "text/plain": [
       "1                                        앨리스테이블\n",
       "8                 리듬타면서 빡시게 운동하자!!!(스트레스 날리자):}\n",
       "9                       기분 좋은 재즈와 함께 만드는 달달한 하루\n",
       "17                                 다시 생각나는 그 사람\n",
       "20                            불면증엔 아름다운 뉴에이지 곡들\n",
       "                          ...                  \n",
       "22991         컨트리 황제 조니 캐시가 선 레코드 시절 발표한 초기 대표작\n",
       "22992                    ♥옷차림이 가벼워질때 부담없이 듣는음악♥\n",
       "22996                                   해 저무는 밤\n",
       "23002    숨어듣는명곡! 텐션올릴때듣는 그시절그노래!! (그냥명곡있을수있음주의)\n",
       "23008                    [별책부록] Sweetmind의 음악마중\n",
       "Name: plylst_title, Length: 4379, dtype: object"
      ]
     },
     "execution_count": 29,
     "metadata": {},
     "output_type": "execute_result"
    }
   ],
   "source": [
    "val_w_full_tags_not_in['plylst_title']"
   ]
  },
  {
   "cell_type": "code",
   "execution_count": 30,
   "metadata": {
    "ExecuteTime": {
     "end_time": "2020-05-14T10:44:13.934669Z",
     "start_time": "2020-05-14T10:44:13.929106Z"
    }
   },
   "outputs": [
    {
     "data": {
      "text/plain": [
       "[' 다시 그 사람']"
      ]
     },
     "execution_count": 30,
     "metadata": {},
     "output_type": "execute_result"
    }
   ],
   "source": [
    "new_post = [val_w_full_tags_not_in['plylst_title'].iloc[3]]\n",
    "new_post_tokens = [t.nouns(row) for row in new_post]\n",
    "\n",
    "new_post_for_vectorize = []\n",
    "\n",
    "for content in new_post_tokens:\n",
    "    sentence = ''\n",
    "    for word in content:\n",
    "        sentence = sentence + ' ' + word\n",
    "    \n",
    "    new_post_for_vectorize.append(sentence)\n",
    "    \n",
    "new_post_for_vectorize"
   ]
  },
  {
   "cell_type": "code",
   "execution_count": 31,
   "metadata": {
    "ExecuteTime": {
     "end_time": "2020-05-14T10:44:16.389935Z",
     "start_time": "2020-05-14T10:44:16.386650Z"
    }
   },
   "outputs": [],
   "source": [
    "new_post_vec = vectorizer.transform(new_post_for_vectorize)"
   ]
  },
  {
   "cell_type": "code",
   "execution_count": 36,
   "metadata": {
    "ExecuteTime": {
     "end_time": "2020-05-14T10:45:12.777803Z",
     "start_time": "2020-05-14T10:45:12.774063Z"
    }
   },
   "outputs": [],
   "source": [
    "def dist_norm(v1, v2):\n",
    "    v1_normalized = v1 / sp.linalg.norm(v1.toarray())\n",
    "    v2_normalized = v2 / sp.linalg.norm(v2.toarray())\n",
    "    \n",
    "    delta = v1_normalized - v2_normalized\n",
    "    \n",
    "    return sp.linalg.norm(delta.toarray())"
   ]
  },
  {
   "cell_type": "code",
   "execution_count": 188,
   "metadata": {
    "ExecuteTime": {
     "end_time": "2020-05-14T11:09:15.957866Z",
     "start_time": "2020-05-14T11:09:15.954394Z"
    }
   },
   "outputs": [],
   "source": [
    "import scipy as sp\n",
    "\n",
    "def dist_raw(v1, v2):\n",
    "    delta = v1 - v2\n",
    "    return sp.linalg.norm(delta.toarray())"
   ]
  },
  {
   "cell_type": "markdown",
   "metadata": {},
   "source": [
    "## 거리 구하고"
   ]
  },
  {
   "cell_type": "code",
   "execution_count": 223,
   "metadata": {
    "ExecuteTime": {
     "end_time": "2020-05-14T11:19:02.518744Z",
     "start_time": "2020-05-14T11:17:42.003109Z"
    }
   },
   "outputs": [],
   "source": [
    "dist = [dist_norm(each, new_post_vec) for each in X]"
   ]
  },
  {
   "cell_type": "code",
   "execution_count": 224,
   "metadata": {
    "ExecuteTime": {
     "end_time": "2020-05-14T11:19:09.520358Z",
     "start_time": "2020-05-14T11:19:09.334138Z"
    }
   },
   "outputs": [],
   "source": [
    "ls = []\n",
    "for i in sorted(dist):\n",
    "    ls.append(dist.index(i))"
   ]
  },
  {
   "cell_type": "code",
   "execution_count": 225,
   "metadata": {
    "ExecuteTime": {
     "end_time": "2020-05-14T11:19:11.220300Z",
     "start_time": "2020-05-14T11:19:11.198289Z"
    }
   },
   "outputs": [
    {
     "data": {
      "text/plain": [
       "['다시',\n",
       " '고마웠어',\n",
       " '그사람',\n",
       " '볼수없는',\n",
       " '언제나좋은',\n",
       " '기분전환',\n",
       " 'Pop',\n",
       " '다시듣게되는',\n",
       " '겨울to봄',\n",
       " '봄',\n",
       " '다시_봄']"
      ]
     },
     "execution_count": 225,
     "metadata": {},
     "output_type": "execute_result"
    }
   ],
   "source": [
    "j = []\n",
    "for i in raw_tr.iloc[ls].drop_duplicates('id')['tags']:\n",
    "    j.append(i)\n",
    "k = sum(j, [])[:11]\n",
    "k"
   ]
  },
  {
   "cell_type": "code",
   "execution_count": null,
   "metadata": {},
   "outputs": [],
   "source": []
  },
  {
   "cell_type": "code",
   "execution_count": null,
   "metadata": {},
   "outputs": [],
   "source": []
  },
  {
   "cell_type": "code",
   "execution_count": null,
   "metadata": {},
   "outputs": [],
   "source": []
  },
  {
   "cell_type": "code",
   "execution_count": null,
   "metadata": {},
   "outputs": [],
   "source": []
  },
  {
   "cell_type": "code",
   "execution_count": 53,
   "metadata": {
    "ExecuteTime": {
     "end_time": "2020-05-14T10:50:37.501559Z",
     "start_time": "2020-05-14T10:50:37.487206Z"
    },
    "scrolled": true
   },
   "outputs": [
    {
     "name": "stdout",
     "output_type": "stream",
     "text": [
      "Best post is  8808 , dist =  0.7506618237326745\n",
      "Test post is -->  ['다시 생각나는 그 사람']\n"
     ]
    },
    {
     "data": {
      "text/plain": [
       "['다시']"
      ]
     },
     "execution_count": 53,
     "metadata": {},
     "output_type": "execute_result"
    }
   ],
   "source": [
    "print('Best post is ', dist.index(min(dist)), \", dist = \", min(dist))\n",
    "print('Test post is --> ', new_post)\n",
    "raw_tr.iloc[dist.index(min(dist))]['tags']"
   ]
  },
  {
   "cell_type": "code",
   "execution_count": null,
   "metadata": {},
   "outputs": [],
   "source": []
  },
  {
   "cell_type": "code",
   "execution_count": 118,
   "metadata": {
    "ExecuteTime": {
     "end_time": "2020-05-14T09:22:01.983912Z",
     "start_time": "2020-05-14T09:22:01.927661Z"
    }
   },
   "outputs": [],
   "source": [
    "import operator\n",
    "dist_dict = dict(enumerate(dist))\n",
    "sorted_dict = sorted(dist_dict.items(), key=operator.itemgetter(1))"
   ]
  },
  {
   "cell_type": "code",
   "execution_count": 123,
   "metadata": {
    "ExecuteTime": {
     "end_time": "2020-05-14T09:22:42.273384Z",
     "start_time": "2020-05-14T09:22:42.269490Z"
    }
   },
   "outputs": [
    {
     "name": "stdout",
     "output_type": "stream",
     "text": [
      "Best 5 post is  [(395, 0.0), (722, 0.0), (1049, 0.0), (1113, 0.0), (1203, 0.0), (3561, 0.0), (4357, 0.0), (5017, 0.0), (5564, 0.0), (5947, 0.0)]\n",
      "Test post is -->  ['리듬타면서 빡시게 운동하자!!!(스트레스 날리자):}']\n"
     ]
    }
   ],
   "source": [
    "print('Best 5 post is ', sorted_dict[:10])\n",
    "print('Test post is --> ', new_post)"
   ]
  },
  {
   "cell_type": "code",
   "execution_count": 120,
   "metadata": {
    "ExecuteTime": {
     "end_time": "2020-05-14T09:22:26.101123Z",
     "start_time": "2020-05-14T09:22:26.096920Z"
    }
   },
   "outputs": [
    {
     "data": {
      "text/plain": [
       "['스트레스', '운동']"
      ]
     },
     "execution_count": 120,
     "metadata": {},
     "output_type": "execute_result"
    }
   ],
   "source": [
    "raw_tr.iloc[395]['tags']"
   ]
  },
  {
   "cell_type": "code",
   "execution_count": 121,
   "metadata": {
    "ExecuteTime": {
     "end_time": "2020-05-14T09:22:30.780103Z",
     "start_time": "2020-05-14T09:22:30.776177Z"
    }
   },
   "outputs": [
    {
     "data": {
      "text/plain": [
       "['스트레스', '운동']"
      ]
     },
     "execution_count": 121,
     "metadata": {},
     "output_type": "execute_result"
    }
   ],
   "source": [
    "raw_tr.iloc[722]['tags']"
   ]
  },
  {
   "cell_type": "code",
   "execution_count": 124,
   "metadata": {
    "ExecuteTime": {
     "end_time": "2020-05-14T09:22:45.432248Z",
     "start_time": "2020-05-14T09:22:45.428520Z"
    }
   },
   "outputs": [
    {
     "data": {
      "text/plain": [
       "['스트레스', '운동']"
      ]
     },
     "execution_count": 124,
     "metadata": {},
     "output_type": "execute_result"
    }
   ],
   "source": [
    "raw_tr.iloc[5947]['tags']"
   ]
  },
  {
   "cell_type": "code",
   "execution_count": null,
   "metadata": {},
   "outputs": [],
   "source": []
  },
  {
   "cell_type": "code",
   "execution_count": null,
   "metadata": {},
   "outputs": [],
   "source": []
  },
  {
   "cell_type": "code",
   "execution_count": 117,
   "metadata": {
    "ExecuteTime": {
     "end_time": "2020-05-14T09:21:30.425221Z",
     "start_time": "2020-05-14T09:21:30.417943Z"
    }
   },
   "outputs": [
    {
     "data": {
      "text/plain": [
       "395"
      ]
     },
     "execution_count": 117,
     "metadata": {},
     "output_type": "execute_result"
    }
   ],
   "source": [
    "dist.index(min(dist))"
   ]
  },
  {
   "cell_type": "code",
   "execution_count": null,
   "metadata": {},
   "outputs": [],
   "source": []
  },
  {
   "cell_type": "code",
   "execution_count": null,
   "metadata": {},
   "outputs": [],
   "source": []
  },
  {
   "cell_type": "code",
   "execution_count": 568,
   "metadata": {
    "ExecuteTime": {
     "end_time": "2020-05-14T05:51:24.225825Z",
     "start_time": "2020-05-14T05:51:24.221937Z"
    }
   },
   "outputs": [
    {
     "data": {
      "text/plain": [
       "[]"
      ]
     },
     "execution_count": 568,
     "metadata": {},
     "output_type": "execute_result"
    }
   ],
   "source": [
    "val_w_full_tags['tags'][1]"
   ]
  },
  {
   "cell_type": "code",
   "execution_count": 572,
   "metadata": {
    "ExecuteTime": {
     "end_time": "2020-05-14T05:52:06.412743Z",
     "start_time": "2020-05-14T05:52:06.405199Z"
    }
   },
   "outputs": [
    {
     "data": {
      "text/html": [
       "<div>\n",
       "<style scoped>\n",
       "    .dataframe tbody tr th:only-of-type {\n",
       "        vertical-align: middle;\n",
       "    }\n",
       "\n",
       "    .dataframe tbody tr th {\n",
       "        vertical-align: top;\n",
       "    }\n",
       "\n",
       "    .dataframe thead th {\n",
       "        text-align: right;\n",
       "    }\n",
       "</style>\n",
       "<table border=\"1\" class=\"dataframe\">\n",
       "  <thead>\n",
       "    <tr style=\"text-align: right;\">\n",
       "      <th></th>\n",
       "      <th>tags</th>\n",
       "      <th>songs</th>\n",
       "      <th>songs_num</th>\n",
       "    </tr>\n",
       "  </thead>\n",
       "  <tbody>\n",
       "  </tbody>\n",
       "</table>\n",
       "</div>"
      ],
      "text/plain": [
       "Empty DataFrame\n",
       "Columns: [tags, songs, songs_num]\n",
       "Index: []"
      ]
     },
     "execution_count": 572,
     "metadata": {},
     "output_type": "execute_result"
    }
   ],
   "source": [
    "raw_tag_song[raw_tag_song['tags'].isna()]"
   ]
  },
  {
   "cell_type": "code",
   "execution_count": 567,
   "metadata": {
    "ExecuteTime": {
     "end_time": "2020-05-14T05:51:14.658394Z",
     "start_time": "2020-05-14T05:51:14.654255Z"
    }
   },
   "outputs": [
    {
     "data": {
      "text/plain": [
       "[]"
      ]
     },
     "execution_count": 567,
     "metadata": {},
     "output_type": "execute_result"
    }
   ],
   "source": [
    "a = song_count(val_w_full_tags['tags'][1])\n",
    "a"
   ]
  },
  {
   "cell_type": "code",
   "execution_count": null,
   "metadata": {},
   "outputs": [],
   "source": []
  },
  {
   "cell_type": "code",
   "execution_count": 540,
   "metadata": {
    "ExecuteTime": {
     "end_time": "2020-05-14T05:47:37.931964Z",
     "start_time": "2020-05-14T05:47:37.928231Z"
    }
   },
   "outputs": [
    {
     "data": {
      "text/plain": [
       "['랩', '힙구']"
      ]
     },
     "execution_count": 540,
     "metadata": {},
     "output_type": "execute_result"
    }
   ],
   "source": [
    "val_w_full_tags['tags'][12345]"
   ]
  },
  {
   "cell_type": "code",
   "execution_count": 209,
   "metadata": {
    "ExecuteTime": {
     "end_time": "2020-05-14T04:59:06.996763Z",
     "start_time": "2020-05-14T04:59:06.990242Z"
    }
   },
   "outputs": [],
   "source": [
    "val_test = val_w_full_tags[(val_w_full_tags['plylst_title'] == '')]"
   ]
  },
  {
   "cell_type": "markdown",
   "metadata": {},
   "source": [
    "# apply 함수 적용"
   ]
  },
  {
   "cell_type": "code",
   "execution_count": 339,
   "metadata": {
    "ExecuteTime": {
     "end_time": "2020-05-14T05:15:40.027550Z",
     "start_time": "2020-05-14T05:15:40.024513Z"
    }
   },
   "outputs": [],
   "source": [
    "def count_song_id(tags): \n",
    "    return raw_tag_song[raw_tag_song['tags'] == tags]['songs'].tolist()"
   ]
  },
  {
   "cell_type": "code",
   "execution_count": 327,
   "metadata": {
    "ExecuteTime": {
     "end_time": "2020-05-14T05:13:31.715207Z",
     "start_time": "2020-05-14T05:13:11.678619Z"
    },
    "collapsed": true
   },
   "outputs": [
    {
     "ename": "KeyboardInterrupt",
     "evalue": "",
     "output_type": "error",
     "traceback": [
      "\u001b[0;31m---------------------------------------------------------------------------\u001b[0m",
      "\u001b[0;31mKeyboardInterrupt\u001b[0m                         Traceback (most recent call last)",
      "\u001b[0;32m<ipython-input-327-e31a49c62e2e>\u001b[0m in \u001b[0;36m<module>\u001b[0;34m\u001b[0m\n\u001b[0;32m----> 1\u001b[0;31m \u001b[0ma\u001b[0m \u001b[0;34m=\u001b[0m \u001b[0mval_w_full_tags\u001b[0m\u001b[0;34m[\u001b[0m\u001b[0;34m'tags'\u001b[0m\u001b[0;34m]\u001b[0m\u001b[0;34m.\u001b[0m\u001b[0mapply\u001b[0m\u001b[0;34m(\u001b[0m\u001b[0;32mlambda\u001b[0m \u001b[0mx\u001b[0m \u001b[0;34m:\u001b[0m \u001b[0;34m[\u001b[0m\u001b[0;34m{\u001b[0m\u001b[0;34m\"playlist_id\"\u001b[0m\u001b[0;34m:\u001b[0m \u001b[0mx\u001b[0m \u001b[0;34m,\u001b[0m \u001b[0;34m\"tags\"\u001b[0m\u001b[0;34m:\u001b[0m \u001b[0mi\u001b[0m\u001b[0;34m,\u001b[0m \u001b[0;34m\"song_id\"\u001b[0m\u001b[0;34m:\u001b[0m \u001b[0mcount_song_id\u001b[0m\u001b[0;34m(\u001b[0m\u001b[0mi\u001b[0m\u001b[0;34m)\u001b[0m \u001b[0;34m}\u001b[0m \u001b[0;32mfor\u001b[0m \u001b[0mi\u001b[0m \u001b[0;32min\u001b[0m \u001b[0mx\u001b[0m\u001b[0;34m]\u001b[0m\u001b[0;34m)\u001b[0m\u001b[0;34m\u001b[0m\u001b[0;34m\u001b[0m\u001b[0m\n\u001b[0m",
      "\u001b[0;32m~/opt/anaconda3/envs/fastcampus/lib/python3.7/site-packages/pandas/core/series.py\u001b[0m in \u001b[0;36mapply\u001b[0;34m(self, func, convert_dtype, args, **kwds)\u001b[0m\n\u001b[1;32m   4040\u001b[0m             \u001b[0;32melse\u001b[0m\u001b[0;34m:\u001b[0m\u001b[0;34m\u001b[0m\u001b[0;34m\u001b[0m\u001b[0m\n\u001b[1;32m   4041\u001b[0m                 \u001b[0mvalues\u001b[0m \u001b[0;34m=\u001b[0m \u001b[0mself\u001b[0m\u001b[0;34m.\u001b[0m\u001b[0mastype\u001b[0m\u001b[0;34m(\u001b[0m\u001b[0mobject\u001b[0m\u001b[0;34m)\u001b[0m\u001b[0;34m.\u001b[0m\u001b[0mvalues\u001b[0m\u001b[0;34m\u001b[0m\u001b[0;34m\u001b[0m\u001b[0m\n\u001b[0;32m-> 4042\u001b[0;31m                 \u001b[0mmapped\u001b[0m \u001b[0;34m=\u001b[0m \u001b[0mlib\u001b[0m\u001b[0;34m.\u001b[0m\u001b[0mmap_infer\u001b[0m\u001b[0;34m(\u001b[0m\u001b[0mvalues\u001b[0m\u001b[0;34m,\u001b[0m \u001b[0mf\u001b[0m\u001b[0;34m,\u001b[0m \u001b[0mconvert\u001b[0m\u001b[0;34m=\u001b[0m\u001b[0mconvert_dtype\u001b[0m\u001b[0;34m)\u001b[0m\u001b[0;34m\u001b[0m\u001b[0;34m\u001b[0m\u001b[0m\n\u001b[0m\u001b[1;32m   4043\u001b[0m \u001b[0;34m\u001b[0m\u001b[0m\n\u001b[1;32m   4044\u001b[0m         \u001b[0;32mif\u001b[0m \u001b[0mlen\u001b[0m\u001b[0;34m(\u001b[0m\u001b[0mmapped\u001b[0m\u001b[0;34m)\u001b[0m \u001b[0;32mand\u001b[0m \u001b[0misinstance\u001b[0m\u001b[0;34m(\u001b[0m\u001b[0mmapped\u001b[0m\u001b[0;34m[\u001b[0m\u001b[0;36m0\u001b[0m\u001b[0;34m]\u001b[0m\u001b[0;34m,\u001b[0m \u001b[0mSeries\u001b[0m\u001b[0;34m)\u001b[0m\u001b[0;34m:\u001b[0m\u001b[0;34m\u001b[0m\u001b[0;34m\u001b[0m\u001b[0m\n",
      "\u001b[0;32mpandas/_libs/lib.pyx\u001b[0m in \u001b[0;36mpandas._libs.lib.map_infer\u001b[0;34m()\u001b[0m\n",
      "\u001b[0;32m<ipython-input-327-e31a49c62e2e>\u001b[0m in \u001b[0;36m<lambda>\u001b[0;34m(x)\u001b[0m\n\u001b[0;32m----> 1\u001b[0;31m \u001b[0ma\u001b[0m \u001b[0;34m=\u001b[0m \u001b[0mval_w_full_tags\u001b[0m\u001b[0;34m[\u001b[0m\u001b[0;34m'tags'\u001b[0m\u001b[0;34m]\u001b[0m\u001b[0;34m.\u001b[0m\u001b[0mapply\u001b[0m\u001b[0;34m(\u001b[0m\u001b[0;32mlambda\u001b[0m \u001b[0mx\u001b[0m \u001b[0;34m:\u001b[0m \u001b[0;34m[\u001b[0m\u001b[0;34m{\u001b[0m\u001b[0;34m\"playlist_id\"\u001b[0m\u001b[0;34m:\u001b[0m \u001b[0mx\u001b[0m \u001b[0;34m,\u001b[0m \u001b[0;34m\"tags\"\u001b[0m\u001b[0;34m:\u001b[0m \u001b[0mi\u001b[0m\u001b[0;34m,\u001b[0m \u001b[0;34m\"song_id\"\u001b[0m\u001b[0;34m:\u001b[0m \u001b[0mcount_song_id\u001b[0m\u001b[0;34m(\u001b[0m\u001b[0mi\u001b[0m\u001b[0;34m)\u001b[0m \u001b[0;34m}\u001b[0m \u001b[0;32mfor\u001b[0m \u001b[0mi\u001b[0m \u001b[0;32min\u001b[0m \u001b[0mx\u001b[0m\u001b[0;34m]\u001b[0m\u001b[0;34m)\u001b[0m\u001b[0;34m\u001b[0m\u001b[0;34m\u001b[0m\u001b[0m\n\u001b[0m",
      "\u001b[0;32m<ipython-input-327-e31a49c62e2e>\u001b[0m in \u001b[0;36m<listcomp>\u001b[0;34m(.0)\u001b[0m\n\u001b[0;32m----> 1\u001b[0;31m \u001b[0ma\u001b[0m \u001b[0;34m=\u001b[0m \u001b[0mval_w_full_tags\u001b[0m\u001b[0;34m[\u001b[0m\u001b[0;34m'tags'\u001b[0m\u001b[0;34m]\u001b[0m\u001b[0;34m.\u001b[0m\u001b[0mapply\u001b[0m\u001b[0;34m(\u001b[0m\u001b[0;32mlambda\u001b[0m \u001b[0mx\u001b[0m \u001b[0;34m:\u001b[0m \u001b[0;34m[\u001b[0m\u001b[0;34m{\u001b[0m\u001b[0;34m\"playlist_id\"\u001b[0m\u001b[0;34m:\u001b[0m \u001b[0mx\u001b[0m \u001b[0;34m,\u001b[0m \u001b[0;34m\"tags\"\u001b[0m\u001b[0;34m:\u001b[0m \u001b[0mi\u001b[0m\u001b[0;34m,\u001b[0m \u001b[0;34m\"song_id\"\u001b[0m\u001b[0;34m:\u001b[0m \u001b[0mcount_song_id\u001b[0m\u001b[0;34m(\u001b[0m\u001b[0mi\u001b[0m\u001b[0;34m)\u001b[0m \u001b[0;34m}\u001b[0m \u001b[0;32mfor\u001b[0m \u001b[0mi\u001b[0m \u001b[0;32min\u001b[0m \u001b[0mx\u001b[0m\u001b[0;34m]\u001b[0m\u001b[0;34m)\u001b[0m\u001b[0;34m\u001b[0m\u001b[0;34m\u001b[0m\u001b[0m\n\u001b[0m",
      "\u001b[0;32m<ipython-input-326-71e7176f3051>\u001b[0m in \u001b[0;36mcount_song_id\u001b[0;34m(tags)\u001b[0m\n\u001b[1;32m      1\u001b[0m \u001b[0;32mdef\u001b[0m \u001b[0mcount_song_id\u001b[0m\u001b[0;34m(\u001b[0m\u001b[0mtags\u001b[0m\u001b[0;34m)\u001b[0m\u001b[0;34m:\u001b[0m\u001b[0;34m\u001b[0m\u001b[0;34m\u001b[0m\u001b[0m\n\u001b[0;32m----> 2\u001b[0;31m     \u001b[0;32mreturn\u001b[0m \u001b[0mtag_song\u001b[0m\u001b[0;34m[\u001b[0m\u001b[0mtag_song\u001b[0m\u001b[0;34m[\u001b[0m\u001b[0;34m'tags'\u001b[0m\u001b[0;34m]\u001b[0m \u001b[0;34m==\u001b[0m \u001b[0mtags\u001b[0m\u001b[0;34m]\u001b[0m\u001b[0;34m[\u001b[0m\u001b[0;34m'songs'\u001b[0m\u001b[0;34m]\u001b[0m\u001b[0;34m.\u001b[0m\u001b[0mtolist\u001b[0m\u001b[0;34m(\u001b[0m\u001b[0;34m)\u001b[0m\u001b[0;34m\u001b[0m\u001b[0;34m\u001b[0m\u001b[0m\n\u001b[0m",
      "\u001b[0;32m~/opt/anaconda3/envs/fastcampus/lib/python3.7/site-packages/pandas/core/ops/__init__.py\u001b[0m in \u001b[0;36mwrapper\u001b[0;34m(self, other, axis)\u001b[0m\n\u001b[1;32m   1227\u001b[0m \u001b[0;34m\u001b[0m\u001b[0m\n\u001b[1;32m   1228\u001b[0m             \u001b[0;32mwith\u001b[0m \u001b[0mnp\u001b[0m\u001b[0;34m.\u001b[0m\u001b[0merrstate\u001b[0m\u001b[0;34m(\u001b[0m\u001b[0mall\u001b[0m\u001b[0;34m=\u001b[0m\u001b[0;34m\"ignore\"\u001b[0m\u001b[0;34m)\u001b[0m\u001b[0;34m:\u001b[0m\u001b[0;34m\u001b[0m\u001b[0;34m\u001b[0m\u001b[0m\n\u001b[0;32m-> 1229\u001b[0;31m                 \u001b[0mres\u001b[0m \u001b[0;34m=\u001b[0m \u001b[0mna_op\u001b[0m\u001b[0;34m(\u001b[0m\u001b[0mvalues\u001b[0m\u001b[0;34m,\u001b[0m \u001b[0mother\u001b[0m\u001b[0;34m)\u001b[0m\u001b[0;34m\u001b[0m\u001b[0;34m\u001b[0m\u001b[0m\n\u001b[0m\u001b[1;32m   1230\u001b[0m             \u001b[0;32mif\u001b[0m \u001b[0mis_scalar\u001b[0m\u001b[0;34m(\u001b[0m\u001b[0mres\u001b[0m\u001b[0;34m)\u001b[0m\u001b[0;34m:\u001b[0m\u001b[0;34m\u001b[0m\u001b[0;34m\u001b[0m\u001b[0m\n\u001b[1;32m   1231\u001b[0m                 raise TypeError(\n",
      "\u001b[0;32m~/opt/anaconda3/envs/fastcampus/lib/python3.7/site-packages/pandas/core/ops/__init__.py\u001b[0m in \u001b[0;36mna_op\u001b[0;34m(x, y)\u001b[0m\n\u001b[1;32m   1089\u001b[0m \u001b[0;34m\u001b[0m\u001b[0m\n\u001b[1;32m   1090\u001b[0m         \u001b[0;32mif\u001b[0m \u001b[0mis_object_dtype\u001b[0m\u001b[0;34m(\u001b[0m\u001b[0mx\u001b[0m\u001b[0;34m.\u001b[0m\u001b[0mdtype\u001b[0m\u001b[0;34m)\u001b[0m\u001b[0;34m:\u001b[0m\u001b[0;34m\u001b[0m\u001b[0;34m\u001b[0m\u001b[0m\n\u001b[0;32m-> 1091\u001b[0;31m             \u001b[0mresult\u001b[0m \u001b[0;34m=\u001b[0m \u001b[0m_comp_method_OBJECT_ARRAY\u001b[0m\u001b[0;34m(\u001b[0m\u001b[0mop\u001b[0m\u001b[0;34m,\u001b[0m \u001b[0mx\u001b[0m\u001b[0;34m,\u001b[0m \u001b[0my\u001b[0m\u001b[0;34m)\u001b[0m\u001b[0;34m\u001b[0m\u001b[0;34m\u001b[0m\u001b[0m\n\u001b[0m\u001b[1;32m   1092\u001b[0m \u001b[0;34m\u001b[0m\u001b[0m\n\u001b[1;32m   1093\u001b[0m         \u001b[0;32melif\u001b[0m \u001b[0mis_datetimelike_v_numeric\u001b[0m\u001b[0;34m(\u001b[0m\u001b[0mx\u001b[0m\u001b[0;34m,\u001b[0m \u001b[0my\u001b[0m\u001b[0;34m)\u001b[0m\u001b[0;34m:\u001b[0m\u001b[0;34m\u001b[0m\u001b[0;34m\u001b[0m\u001b[0m\n",
      "\u001b[0;32m~/opt/anaconda3/envs/fastcampus/lib/python3.7/site-packages/pandas/core/ops/__init__.py\u001b[0m in \u001b[0;36m_comp_method_OBJECT_ARRAY\u001b[0;34m(op, x, y)\u001b[0m\n\u001b[1;32m   1067\u001b[0m         \u001b[0mresult\u001b[0m \u001b[0;34m=\u001b[0m \u001b[0mlibops\u001b[0m\u001b[0;34m.\u001b[0m\u001b[0mvec_compare\u001b[0m\u001b[0;34m(\u001b[0m\u001b[0mx\u001b[0m\u001b[0;34m,\u001b[0m \u001b[0my\u001b[0m\u001b[0;34m,\u001b[0m \u001b[0mop\u001b[0m\u001b[0;34m)\u001b[0m\u001b[0;34m\u001b[0m\u001b[0;34m\u001b[0m\u001b[0m\n\u001b[1;32m   1068\u001b[0m     \u001b[0;32melse\u001b[0m\u001b[0;34m:\u001b[0m\u001b[0;34m\u001b[0m\u001b[0;34m\u001b[0m\u001b[0m\n\u001b[0;32m-> 1069\u001b[0;31m         \u001b[0mresult\u001b[0m \u001b[0;34m=\u001b[0m \u001b[0mlibops\u001b[0m\u001b[0;34m.\u001b[0m\u001b[0mscalar_compare\u001b[0m\u001b[0;34m(\u001b[0m\u001b[0mx\u001b[0m\u001b[0;34m,\u001b[0m \u001b[0my\u001b[0m\u001b[0;34m,\u001b[0m \u001b[0mop\u001b[0m\u001b[0;34m)\u001b[0m\u001b[0;34m\u001b[0m\u001b[0;34m\u001b[0m\u001b[0m\n\u001b[0m\u001b[1;32m   1070\u001b[0m     \u001b[0;32mreturn\u001b[0m \u001b[0mresult\u001b[0m\u001b[0;34m\u001b[0m\u001b[0;34m\u001b[0m\u001b[0m\n\u001b[1;32m   1071\u001b[0m \u001b[0;34m\u001b[0m\u001b[0m\n",
      "\u001b[0;31mKeyboardInterrupt\u001b[0m: "
     ]
    }
   ],
   "source": [
    "a = val_w_full_tags['tags'].apply(lambda x : [{\"playlist_id\": x , \"tags\": i, \"song_id\": count_song_id(i) } for i in x])"
   ]
  },
  {
   "cell_type": "code",
   "execution_count": 340,
   "metadata": {
    "ExecuteTime": {
     "end_time": "2020-05-14T05:15:42.098696Z",
     "start_time": "2020-05-14T05:15:42.008333Z"
    }
   },
   "outputs": [],
   "source": [
    "a = val_w_full_tags['tags'][:5].apply(lambda x : [{\"tags\": i, \"song_id\": count_song_id(i) } for i in x])"
   ]
  },
  {
   "cell_type": "code",
   "execution_count": 358,
   "metadata": {
    "ExecuteTime": {
     "end_time": "2020-05-14T05:17:44.906448Z",
     "start_time": "2020-05-14T05:17:43.387508Z"
    }
   },
   "outputs": [
    {
     "data": {
      "text/plain": [
       "0    [{'tags': 'OST', 'song_id': [[537468, 234710, ...\n",
       "1                                                   []\n",
       "2    [{'tags': '발라드', 'song_id': [[610133, 55358, 6...\n",
       "3    [{'tags': '발라드', 'song_id': [[610133, 55358, 6...\n",
       "4    [{'tags': 'CCM', 'song_id': [[297140, 388686, ...\n",
       "Name: tags, dtype: object"
      ]
     },
     "execution_count": 358,
     "metadata": {},
     "output_type": "execute_result"
    }
   ],
   "source": [
    "a"
   ]
  },
  {
   "cell_type": "code",
   "execution_count": 300,
   "metadata": {
    "ExecuteTime": {
     "end_time": "2020-05-14T05:09:32.540947Z",
     "start_time": "2020-05-14T05:09:32.536483Z"
    }
   },
   "outputs": [
    {
     "data": {
      "text/plain": [
       "<function list.index(value, start=0, stop=9223372036854775807, /)>"
      ]
     },
     "execution_count": 300,
     "metadata": {},
     "output_type": "execute_result"
    }
   ],
   "source": [
    "val_test['tags'][0].index"
   ]
  },
  {
   "cell_type": "code",
   "execution_count": 280,
   "metadata": {
    "ExecuteTime": {
     "end_time": "2020-05-14T05:07:12.433472Z",
     "start_time": "2020-05-14T05:07:12.429514Z"
    }
   },
   "outputs": [
    {
     "data": {
      "text/plain": [
       "['OST', '기분전환', '디즈니', '애니메이션', '영화', '팝', '겨울', '추억', '휴식', '힐링']"
      ]
     },
     "execution_count": 280,
     "metadata": {},
     "output_type": "execute_result"
    }
   ],
   "source": [
    "val_test['tags'][0]"
   ]
  },
  {
   "cell_type": "code",
   "execution_count": 271,
   "metadata": {
    "ExecuteTime": {
     "end_time": "2020-05-14T05:06:07.952027Z",
     "start_time": "2020-05-14T05:06:07.921451Z"
    }
   },
   "outputs": [
    {
     "data": {
      "text/plain": [
       "0    [{'playlist_id': 1, 'tags': 'OST', 'song_id': ...\n",
       "2    [{'playlist_id': 1, 'tags': '발라드', 'song_id': ...\n",
       "3    [{'playlist_id': 1, 'tags': '발라드', 'song_id': ...\n",
       "4    [{'playlist_id': 1, 'tags': 'CCM', 'song_id': ...\n",
       "5    [{'playlist_id': 1, 'tags': 'Pop', 'song_id': ...\n",
       "Name: tags, dtype: object"
      ]
     },
     "execution_count": 271,
     "metadata": {},
     "output_type": "execute_result"
    }
   ],
   "source": [
    "a"
   ]
  },
  {
   "cell_type": "code",
   "execution_count": 238,
   "metadata": {
    "ExecuteTime": {
     "end_time": "2020-05-14T05:01:58.257976Z",
     "start_time": "2020-05-14T05:01:56.762486Z"
    }
   },
   "outputs": [],
   "source": [
    "flat_list = []\n",
    "for sublist in a:\n",
    "    for items in sublist:\n",
    "        for item in items:\n",
    "            flat_list.append(item)"
   ]
  },
  {
   "cell_type": "code",
   "execution_count": 232,
   "metadata": {
    "ExecuteTime": {
     "end_time": "2020-05-14T05:01:10.027826Z",
     "start_time": "2020-05-14T05:01:10.017651Z"
    }
   },
   "outputs": [
    {
     "ename": "TypeError",
     "evalue": "object of type 'int' has no len()",
     "output_type": "error",
     "traceback": [
      "\u001b[0;31m---------------------------------------------------------------------------\u001b[0m",
      "\u001b[0;31mTypeError\u001b[0m                                 Traceback (most recent call last)",
      "\u001b[0;32m<ipython-input-232-96ca64a088fa>\u001b[0m in \u001b[0;36m<module>\u001b[0;34m\u001b[0m\n\u001b[1;32m      1\u001b[0m \u001b[0;32mfor\u001b[0m \u001b[0mi\u001b[0m \u001b[0;32min\u001b[0m \u001b[0mrange\u001b[0m\u001b[0;34m(\u001b[0m\u001b[0;36m10\u001b[0m\u001b[0;34m)\u001b[0m\u001b[0;34m:\u001b[0m\u001b[0;34m\u001b[0m\u001b[0;34m\u001b[0m\u001b[0m\n\u001b[0;32m----> 2\u001b[0;31m     \u001b[0mprint\u001b[0m\u001b[0;34m(\u001b[0m\u001b[0mlen\u001b[0m\u001b[0;34m(\u001b[0m\u001b[0mflat_list\u001b[0m\u001b[0;34m[\u001b[0m\u001b[0mi\u001b[0m\u001b[0;34m]\u001b[0m\u001b[0;34m[\u001b[0m\u001b[0;36m0\u001b[0m\u001b[0;34m]\u001b[0m\u001b[0;34m)\u001b[0m\u001b[0;34m)\u001b[0m\u001b[0;34m\u001b[0m\u001b[0;34m\u001b[0m\u001b[0m\n\u001b[0m",
      "\u001b[0;31mTypeError\u001b[0m: object of type 'int' has no len()"
     ]
    }
   ],
   "source": [
    "for i in range(10):\n",
    "    print(len(flat_list[i][0]))"
   ]
  },
  {
   "cell_type": "code",
   "execution_count": 136,
   "metadata": {
    "ExecuteTime": {
     "end_time": "2020-05-14T04:48:41.052781Z",
     "start_time": "2020-05-14T04:48:41.043855Z"
    }
   },
   "outputs": [
    {
     "data": {
      "text/plain": [
       "112445"
      ]
     },
     "execution_count": 136,
     "metadata": {},
     "output_type": "execute_result"
    }
   ],
   "source": [
    "flat_list = [item for sublist in a[0][0].values.tolist() for item in sublist]\n",
    "len(flat_list)"
   ]
  },
  {
   "cell_type": "code",
   "execution_count": 208,
   "metadata": {
    "ExecuteTime": {
     "end_time": "2020-05-14T04:58:50.538981Z",
     "start_time": "2020-05-14T04:58:50.528759Z"
    }
   },
   "outputs": [
    {
     "data": {
      "text/plain": [
       "[537468,\n",
       " 234710,\n",
       " 691961,\n",
       " 116590,\n",
       " 570884,\n",
       " 632011,\n",
       " 425733,\n",
       " 530220,\n",
       " 171609,\n",
       " 303681,\n",
       " 160812,\n",
       " 312129,\n",
       " 552735,\n",
       " 393313,\n",
       " 538341,\n",
       " 312732,\n",
       " 209779,\n",
       " 429703,\n",
       " 452316,\n",
       " 148785,\n",
       " 399636,\n",
       " 356564,\n",
       " 333768,\n",
       " 672355,\n",
       " 262019,\n",
       " 299789,\n",
       " 150653,\n",
       " 10232,\n",
       " 572932,\n",
       " 514134,\n",
       " 75118,\n",
       " 598294,\n",
       " 170159,\n",
       " 393436,\n",
       " 552496,\n",
       " 535097,\n",
       " 469459,\n",
       " 16634,\n",
       " 54614,\n",
       " 299107,\n",
       " 35603,\n",
       " 378146,\n",
       " 318996,\n",
       " 446875,\n",
       " 301977,\n",
       " 686043,\n",
       " 94809,\n",
       " 623183,\n",
       " 468612,\n",
       " 341556,\n",
       " 502749,\n",
       " 266820,\n",
       " 66897,\n",
       " 46046,\n",
       " 506883,\n",
       " 520379,\n",
       " 348895,\n",
       " 386218,\n",
       " 176424,\n",
       " 464140,\n",
       " 642481,\n",
       " 542099,\n",
       " 549149,\n",
       " 120974,\n",
       " 30020,\n",
       " 32690,\n",
       " 405206,\n",
       " 563262,\n",
       " 630884,\n",
       " 121860,\n",
       " 541367,\n",
       " 490217,\n",
       " 526056,\n",
       " 654757,\n",
       " 593791,\n",
       " 152809,\n",
       " 435392,\n",
       " 574790,\n",
       " 434140,\n",
       " 223008,\n",
       " 63272,\n",
       " 540992,\n",
       " 376393,\n",
       " 121204,\n",
       " 615111,\n",
       " 366893,\n",
       " 216796,\n",
       " 599183,\n",
       " 278062,\n",
       " 629718,\n",
       " 588475,\n",
       " 241694,\n",
       " 285794,\n",
       " 472864,\n",
       " 62874,\n",
       " 430222,\n",
       " 198674,\n",
       " 97396,\n",
       " 158164,\n",
       " 697803,\n",
       " 285282,\n",
       " 151246,\n",
       " 686245,\n",
       " 170820,\n",
       " 92,\n",
       " 580748,\n",
       " 315279,\n",
       " 479111,\n",
       " 675607,\n",
       " 196994,\n",
       " 408117,\n",
       " 549117,\n",
       " 268506,\n",
       " 72972,\n",
       " 429082,\n",
       " 424531,\n",
       " 182424,\n",
       " 138837,\n",
       " 412335,\n",
       " 354886,\n",
       " 693957,\n",
       " 689105,\n",
       " 670433,\n",
       " 591671,\n",
       " 676358,\n",
       " 117287,\n",
       " 270001,\n",
       " 232250,\n",
       " 328664,\n",
       " 286485,\n",
       " 587152,\n",
       " 200453,\n",
       " 171198,\n",
       " 187180,\n",
       " 318501,\n",
       " 57489,\n",
       " 682976,\n",
       " 423478,\n",
       " 77272,\n",
       " 570436,\n",
       " 519581,\n",
       " 682976,\n",
       " 254934,\n",
       " 413652,\n",
       " 209032,\n",
       " 247239,\n",
       " 457272,\n",
       " 548975,\n",
       " 481276,\n",
       " 423849,\n",
       " 71577,\n",
       " 474518,\n",
       " 408699,\n",
       " 679180,\n",
       " 212615,\n",
       " 645459,\n",
       " 43526,\n",
       " 156760,\n",
       " 272342,\n",
       " 580062,\n",
       " 70641,\n",
       " 466799,\n",
       " 57489,\n",
       " 421473,\n",
       " 22333,\n",
       " 686043,\n",
       " 550314,\n",
       " 401543,\n",
       " 285411,\n",
       " 622801,\n",
       " 356758,\n",
       " 576799,\n",
       " 537889,\n",
       " 588590,\n",
       " 57544,\n",
       " 225082,\n",
       " 658627,\n",
       " 138231,\n",
       " 552602,\n",
       " 401565,\n",
       " 699497,\n",
       " 193269,\n",
       " 471037,\n",
       " 451233,\n",
       " 224130,\n",
       " 436458,\n",
       " 303171,\n",
       " 500484,\n",
       " 223327,\n",
       " 343917,\n",
       " 621707,\n",
       " 59044,\n",
       " 318380,\n",
       " 202964,\n",
       " 307773,\n",
       " 245658,\n",
       " 389173,\n",
       " 380437,\n",
       " 464477,\n",
       " 11938,\n",
       " 691961,\n",
       " 392325,\n",
       " 138520,\n",
       " 505710,\n",
       " 516376,\n",
       " 320530,\n",
       " 302881,\n",
       " 129740,\n",
       " 271926,\n",
       " 642011,\n",
       " 187437,\n",
       " 218580,\n",
       " 645381,\n",
       " 262430,\n",
       " 152475,\n",
       " 88471,\n",
       " 563670,\n",
       " 278658,\n",
       " 117425,\n",
       " 70624,\n",
       " 74729,\n",
       " 49318,\n",
       " 374167,\n",
       " 21768,\n",
       " 605227,\n",
       " 406349,\n",
       " 218279,\n",
       " 381946,\n",
       " 492580,\n",
       " 516167,\n",
       " 623047,\n",
       " 99039,\n",
       " 573669,\n",
       " 558397,\n",
       " 1133,\n",
       " 461009,\n",
       " 337269,\n",
       " 640239,\n",
       " 156409,\n",
       " 77233,\n",
       " 4831,\n",
       " 123465,\n",
       " 291478,\n",
       " 638488,\n",
       " 592526,\n",
       " 633386,\n",
       " 624983,\n",
       " 621388,\n",
       " 35703,\n",
       " 255937,\n",
       " 92286,\n",
       " 650764,\n",
       " 492083,\n",
       " 479111,\n",
       " 629031,\n",
       " 281210,\n",
       " 51594,\n",
       " 252915,\n",
       " 597855,\n",
       " 520471,\n",
       " 507358,\n",
       " 606994,\n",
       " 436410,\n",
       " 704000,\n",
       " 615644,\n",
       " 110336,\n",
       " 607779,\n",
       " 392372,\n",
       " 300534,\n",
       " 131971,\n",
       " 22194,\n",
       " 682656,\n",
       " 376457,\n",
       " 558513,\n",
       " 188660,\n",
       " 207702,\n",
       " 88238,\n",
       " 111372,\n",
       " 480854,\n",
       " 150201,\n",
       " 284797,\n",
       " 249229,\n",
       " 556769,\n",
       " 632727,\n",
       " 2188,\n",
       " 589983,\n",
       " 681159,\n",
       " 212014,\n",
       " 395416,\n",
       " 563956,\n",
       " 6546,\n",
       " 152422,\n",
       " 483909,\n",
       " 670635,\n",
       " 707724,\n",
       " 178044,\n",
       " 233140,\n",
       " 37748,\n",
       " 37725,\n",
       " 475515,\n",
       " 682520,\n",
       " 77555,\n",
       " 417922,\n",
       " 118219,\n",
       " 469711,\n",
       " 221745,\n",
       " 375485,\n",
       " 335293,\n",
       " 128851,\n",
       " 584465,\n",
       " 574431,\n",
       " 125962,\n",
       " 555829,\n",
       " 157354,\n",
       " 678337,\n",
       " 237127,\n",
       " 517841,\n",
       " 414843,\n",
       " 444706,\n",
       " 375179,\n",
       " 480626,\n",
       " 248877,\n",
       " 198343,\n",
       " 645525,\n",
       " 352313,\n",
       " 320530,\n",
       " 456581,\n",
       " 550271,\n",
       " 393654,\n",
       " 629351,\n",
       " 654757,\n",
       " 445180,\n",
       " 88503,\n",
       " 593791,\n",
       " 460897,\n",
       " 316600,\n",
       " 552770,\n",
       " 231659,\n",
       " 540992,\n",
       " 94076,\n",
       " 376393,\n",
       " 329543,\n",
       " 70156,\n",
       " 634014,\n",
       " 512849,\n",
       " 707167,\n",
       " 285934,\n",
       " 152913,\n",
       " 674132,\n",
       " 645489,\n",
       " 21884,\n",
       " 392397,\n",
       " 516542,\n",
       " 292636,\n",
       " 425143,\n",
       " 482903,\n",
       " 646450,\n",
       " 275930,\n",
       " 117425,\n",
       " 11325,\n",
       " 513449,\n",
       " 434760,\n",
       " 200453,\n",
       " 54994,\n",
       " 98739,\n",
       " 385430,\n",
       " 556394,\n",
       " 73377,\n",
       " 312942,\n",
       " 202062,\n",
       " 39170,\n",
       " 707093,\n",
       " 649782,\n",
       " 707580,\n",
       " 705049,\n",
       " 507509,\n",
       " 552496,\n",
       " 167241,\n",
       " 390830,\n",
       " 637811,\n",
       " 77272,\n",
       " 66520,\n",
       " 260220,\n",
       " 665620,\n",
       " 219044,\n",
       " 491764,\n",
       " 537280,\n",
       " 242958,\n",
       " 164999,\n",
       " 634207,\n",
       " 123465,\n",
       " 137773,\n",
       " 122757,\n",
       " 188987,\n",
       " 378146,\n",
       " 70641,\n",
       " 466799,\n",
       " 57489,\n",
       " 421473,\n",
       " 401543,\n",
       " 362088,\n",
       " 510449,\n",
       " 539248,\n",
       " 573373,\n",
       " 435683,\n",
       " 18546,\n",
       " 505664,\n",
       " 487987,\n",
       " 60708,\n",
       " 336921,\n",
       " 273849,\n",
       " 667893,\n",
       " 329384,\n",
       " 211358,\n",
       " 2149,\n",
       " 531214,\n",
       " 274924,\n",
       " 103139,\n",
       " 573856,\n",
       " 440239,\n",
       " 593527,\n",
       " 148741,\n",
       " 424531,\n",
       " 174967,\n",
       " 182424,\n",
       " 402305,\n",
       " 471988,\n",
       " 557258,\n",
       " 138837,\n",
       " 355910,\n",
       " 158164,\n",
       " 331460,\n",
       " 138586,\n",
       " 689624,\n",
       " 561965,\n",
       " 398132,\n",
       " 299584,\n",
       " 29179,\n",
       " 95040,\n",
       " 492678,\n",
       " 413075,\n",
       " 141106,\n",
       " 131605,\n",
       " 35518,\n",
       " 538426,\n",
       " 443497,\n",
       " 281798,\n",
       " 577128,\n",
       " 43697,\n",
       " 486480,\n",
       " 439074,\n",
       " 646217,\n",
       " 327913,\n",
       " 518074,\n",
       " 218078,\n",
       " 668658,\n",
       " 696268,\n",
       " 544584,\n",
       " 152475,\n",
       " 458085,\n",
       " 536667,\n",
       " 106931,\n",
       " 140833,\n",
       " 438929,\n",
       " 483733,\n",
       " 486877,\n",
       " 244491,\n",
       " 127356,\n",
       " 240426,\n",
       " 523095,\n",
       " 152896,\n",
       " 54631,\n",
       " 424228,\n",
       " 627298,\n",
       " 413170,\n",
       " 50364,\n",
       " 531243,\n",
       " 541367,\n",
       " 622147,\n",
       " 513978,\n",
       " 140407,\n",
       " 209196,\n",
       " 703864,\n",
       " 142036,\n",
       " 160925,\n",
       " 129654,\n",
       " 643298,\n",
       " 553080,\n",
       " 393654,\n",
       " 544099,\n",
       " 654757,\n",
       " 422355,\n",
       " 374574,\n",
       " 88503,\n",
       " 44264,\n",
       " 608081,\n",
       " 211158,\n",
       " 687196,\n",
       " 630014,\n",
       " 435531,\n",
       " 285934,\n",
       " 57780,\n",
       " 516542,\n",
       " 103644,\n",
       " 482903,\n",
       " 607391,\n",
       " 664190,\n",
       " 532890,\n",
       " 584330,\n",
       " 274924,\n",
       " 282030,\n",
       " 507358,\n",
       " 673172,\n",
       " 197168,\n",
       " 707580,\n",
       " 465440,\n",
       " 564600,\n",
       " 505124,\n",
       " 556394,\n",
       " 73377,\n",
       " 611706,\n",
       " 238895,\n",
       " 445180,\n",
       " 88503,\n",
       " 593791,\n",
       " 116418,\n",
       " 645762,\n",
       " 531243,\n",
       " 180942,\n",
       " 709,\n",
       " 357744,\n",
       " 210493,\n",
       " 451557,\n",
       " 657399,\n",
       " 252683,\n",
       " 194692,\n",
       " 297055,\n",
       " 483162,\n",
       " 375248,\n",
       " 372848,\n",
       " 626978,\n",
       " 555561,\n",
       " 441355,\n",
       " 474202,\n",
       " 374391,\n",
       " 264338,\n",
       " 685316,\n",
       " 112104,\n",
       " 108798,\n",
       " 340122,\n",
       " 356317,\n",
       " 449885,\n",
       " 438548,\n",
       " 399006,\n",
       " 410528,\n",
       " 279084,\n",
       " 55180,\n",
       " 398174,\n",
       " 511144,\n",
       " 505999,\n",
       " 230100,\n",
       " 665469,\n",
       " 24671,\n",
       " 706691,\n",
       " 486488,\n",
       " 269167,\n",
       " 565493,\n",
       " 339037,\n",
       " 437765,\n",
       " 94809,\n",
       " 327187,\n",
       " 97387,\n",
       " 297193,\n",
       " 209390,\n",
       " 513141,\n",
       " 320678,\n",
       " 372858,\n",
       " 407533,\n",
       " 431463,\n",
       " 9764,\n",
       " 232181,\n",
       " 153058,\n",
       " 197699,\n",
       " 255689,\n",
       " 667253,\n",
       " 278104,\n",
       " 26977,\n",
       " 88694,\n",
       " 277651,\n",
       " 313772,\n",
       " 591303,\n",
       " 468612,\n",
       " 502749,\n",
       " 228831,\n",
       " 225408,\n",
       " 331385,\n",
       " 677166,\n",
       " 3616,\n",
       " 586801,\n",
       " 39099,\n",
       " 435319,\n",
       " 475304,\n",
       " 307065,\n",
       " 303368,\n",
       " 641928,\n",
       " 17107,\n",
       " 282167,\n",
       " 358876,\n",
       " 657070,\n",
       " 333768,\n",
       " 142156,\n",
       " 299789,\n",
       " 34607,\n",
       " 150653,\n",
       " 304977,\n",
       " 224716,\n",
       " 566253,\n",
       " 227431,\n",
       " 96876,\n",
       " 672407,\n",
       " 294866,\n",
       " 523650,\n",
       " 411972,\n",
       " 338459,\n",
       " 318996,\n",
       " 119291,\n",
       " 299527,\n",
       " 311293,\n",
       " 551641,\n",
       " 333906,\n",
       " 453834,\n",
       " 497065,\n",
       " 413913,\n",
       " 247657,\n",
       " 42628,\n",
       " 171293,\n",
       " 311726,\n",
       " 494720,\n",
       " 329543,\n",
       " 689127,\n",
       " 569249,\n",
       " 297747,\n",
       " 306770,\n",
       " 685423,\n",
       " 519908,\n",
       " 106756,\n",
       " 646422,\n",
       " 642551,\n",
       " 557295,\n",
       " 482903,\n",
       " 264701,\n",
       " 278355,\n",
       " 683830,\n",
       " 222279,\n",
       " 34366,\n",
       " 459139,\n",
       " 58893,\n",
       " 178015,\n",
       " 213115,\n",
       " 426115,\n",
       " 368686,\n",
       " 440631,\n",
       " 444424,\n",
       " 202062,\n",
       " 681628,\n",
       " 307483,\n",
       " 461673,\n",
       " 697803,\n",
       " 24121,\n",
       " 183165,\n",
       " 135558,\n",
       " 66558,\n",
       " 169344,\n",
       " 409475,\n",
       " 317362,\n",
       " 236813,\n",
       " 35603,\n",
       " 378146,\n",
       " 632841,\n",
       " 117425,\n",
       " 513449,\n",
       " 399636,\n",
       " 356564,\n",
       " 467709,\n",
       " 392708,\n",
       " 203264,\n",
       " 401430,\n",
       " 450901,\n",
       " 706041,\n",
       " 352313,\n",
       " 410066,\n",
       " 229731,\n",
       " 471013,\n",
       " 73252,\n",
       " 168776,\n",
       " 483162,\n",
       " 16905,\n",
       " 652875,\n",
       " 170147,\n",
       " 669990,\n",
       " 237395,\n",
       " 195266,\n",
       " 205999,\n",
       " 374574,\n",
       " 566968,\n",
       " 71481,\n",
       " 543646,\n",
       " 298067,\n",
       " 277922,\n",
       " 248208,\n",
       " 282167,\n",
       " 644021,\n",
       " 409862,\n",
       " 643340,\n",
       " 156791,\n",
       " 54219,\n",
       " 586573,\n",
       " 189017,\n",
       " 82714,\n",
       " 140476,\n",
       " 248877,\n",
       " 132985,\n",
       " 523665,\n",
       " 44200,\n",
       " 75772,\n",
       " 323651,\n",
       " 613959,\n",
       " 187438,\n",
       " 282807,\n",
       " 622804,\n",
       " 162534,\n",
       " 599175,\n",
       " 127158,\n",
       " 335183,\n",
       " 45665,\n",
       " 68545,\n",
       " 682575,\n",
       " 654371,\n",
       " 230200,\n",
       " 600395,\n",
       " 141802,\n",
       " 210693,\n",
       " 667604,\n",
       " 567945,\n",
       " 615157,\n",
       " 389069,\n",
       " 546582,\n",
       " 500098,\n",
       " 657070,\n",
       " 416082,\n",
       " 302491,\n",
       " 335328,\n",
       " 145554,\n",
       " 460646,\n",
       " 333180,\n",
       " 27362,\n",
       " 343356,\n",
       " 145724,\n",
       " 634050,\n",
       " 645219,\n",
       " 659303,\n",
       " 357679,\n",
       " 148785,\n",
       " 569051,\n",
       " 40681,\n",
       " 414148,\n",
       " 315656,\n",
       " 561237,\n",
       " 328932,\n",
       " 511674,\n",
       " 227528,\n",
       " 227338,\n",
       " 555561,\n",
       " 641225,\n",
       " 76483,\n",
       " 442352,\n",
       " 302881,\n",
       " 445081,\n",
       " 612873,\n",
       " 61759,\n",
       " 229482,\n",
       " 614472,\n",
       " 614770,\n",
       " 543821,\n",
       " 274779,\n",
       " 33152,\n",
       " 634751,\n",
       " 569295,\n",
       " 703624,\n",
       " 337013,\n",
       " 695872,\n",
       " 686043,\n",
       " 77017,\n",
       " 370668,\n",
       " 491764,\n",
       " 37056,\n",
       " 184890,\n",
       " 124956,\n",
       " 659217,\n",
       " 74979,\n",
       " 209255,\n",
       " 51858,\n",
       " 504799,\n",
       " 204589,\n",
       " 4831,\n",
       " 123465,\n",
       " 475515,\n",
       " 118219,\n",
       " 460017,\n",
       " 64556,\n",
       " 489957,\n",
       " 294356,\n",
       " 145628,\n",
       " 525465,\n",
       " 320298,\n",
       " 541690,\n",
       " 555609,\n",
       " 5046,\n",
       " 536752,\n",
       " 362257,\n",
       " 676540,\n",
       " 194810,\n",
       " 92838,\n",
       " 611942,\n",
       " 285797,\n",
       " 105486,\n",
       " 383436,\n",
       " 202469,\n",
       " 694750,\n",
       " 52736,\n",
       " 421468,\n",
       " 288296,\n",
       " 582946,\n",
       " 332928,\n",
       " 668516,\n",
       " 436851,\n",
       " 415099,\n",
       " 19606,\n",
       " 452745,\n",
       " 129630,\n",
       " 196967,\n",
       " 6516,\n",
       " 275679,\n",
       " 512028,\n",
       " 693110,\n",
       " 244802,\n",
       " 569263,\n",
       " 5914,\n",
       " 150428,\n",
       " 532843,\n",
       " 346378,\n",
       " 68852,\n",
       " 230709,\n",
       " 184406,\n",
       " 558609,\n",
       " 628352,\n",
       " 251558,\n",
       " 395915,\n",
       " 351955,\n",
       " 310003,\n",
       " 570870,\n",
       " 482409,\n",
       " 261102,\n",
       " 140128,\n",
       " 629827,\n",
       " 533539,\n",
       " 620610,\n",
       " 644859,\n",
       " 169413,\n",
       " 436410,\n",
       " 649782,\n",
       " 564600,\n",
       " 366565,\n",
       " 551177,\n",
       " 72972,\n",
       " 47523,\n",
       " 642188,\n",
       " 473057,\n",
       " 221255,\n",
       " 184391,\n",
       " 316600,\n",
       " 357744,\n",
       " 250518,\n",
       " 545934,\n",
       " 104565,\n",
       " 652509,\n",
       " 16510,\n",
       " 197045,\n",
       " 295250,\n",
       " 128851,\n",
       " 440246,\n",
       " 217190,\n",
       " 310693,\n",
       " 316695,\n",
       " 550271,\n",
       " 109888,\n",
       " 360995,\n",
       " 186755,\n",
       " 452909,\n",
       " 373732,\n",
       " 661158,\n",
       " 385467,\n",
       " 252485,\n",
       " 695071,\n",
       " 559201,\n",
       " 583769,\n",
       " 381894,\n",
       " 663347,\n",
       " 469696,\n",
       " 2312,\n",
       " 229259,\n",
       " 705975,\n",
       " 434760,\n",
       " 200453,\n",
       " 87641,\n",
       " 246029,\n",
       " 157354,\n",
       " 686043,\n",
       " 77017,\n",
       " 412335,\n",
       " 676358,\n",
       " 198706,\n",
       " 421326,\n",
       " 439260,\n",
       " 271752,\n",
       " 133593,\n",
       " 106756,\n",
       " 405111,\n",
       " 633833,\n",
       " 611351,\n",
       " 608127,\n",
       " 678256,\n",
       " 379836,\n",
       " 46536,\n",
       " 77666,\n",
       " 328664,\n",
       " 291464,\n",
       " 147736,\n",
       " 361734,\n",
       " 309248,\n",
       " 51558,\n",
       " 705965,\n",
       " 471479,\n",
       " 541075,\n",
       " 7298,\n",
       " 642526,\n",
       " 649727,\n",
       " 487339,\n",
       " 644077,\n",
       " 379483,\n",
       " 524300,\n",
       " 320010,\n",
       " 307945,\n",
       " 113625,\n",
       " 295042,\n",
       " 5695,\n",
       " 202294,\n",
       " 125437,\n",
       " 465907,\n",
       " 330285,\n",
       " 356252,\n",
       " 682712,\n",
       " 80767,\n",
       " 520822,\n",
       " 653509,\n",
       " 425765,\n",
       " 104455,\n",
       " 549912,\n",
       " 677725,\n",
       " 707801,\n",
       " 164581,\n",
       " 312777,\n",
       " 508413,\n",
       " 643559,\n",
       " 142381,\n",
       " 401803,\n",
       " 623383,\n",
       " 105845,\n",
       " 220265,\n",
       " 531243,\n",
       " 567945,\n",
       " 650026,\n",
       " 159117,\n",
       " 145932,\n",
       " 324436,\n",
       " 96068,\n",
       " 615112,\n",
       " 672003,\n",
       " 468312,\n",
       " 405685,\n",
       " 528710,\n",
       " 604226,\n",
       " 682677,\n",
       " 393428,\n",
       " 148726,\n",
       " 323670,\n",
       " 97270,\n",
       " 698644,\n",
       " 495254,\n",
       " 28839,\n",
       " ...]"
      ]
     },
     "execution_count": 208,
     "metadata": {},
     "output_type": "execute_result"
    }
   ],
   "source": [
    "flat_list[0]"
   ]
  },
  {
   "cell_type": "code",
   "execution_count": 122,
   "metadata": {
    "ExecuteTime": {
     "end_time": "2020-05-14T04:46:25.573290Z",
     "start_time": "2020-05-14T04:46:25.562554Z"
    }
   },
   "outputs": [
    {
     "data": {
      "text/plain": [
       "[[537468,\n",
       "  234710,\n",
       "  691961,\n",
       "  116590,\n",
       "  570884,\n",
       "  632011,\n",
       "  425733,\n",
       "  530220,\n",
       "  171609,\n",
       "  303681,\n",
       "  160812,\n",
       "  312129,\n",
       "  552735,\n",
       "  393313,\n",
       "  538341,\n",
       "  312732,\n",
       "  209779,\n",
       "  429703,\n",
       "  452316,\n",
       "  148785,\n",
       "  399636,\n",
       "  356564,\n",
       "  333768,\n",
       "  672355,\n",
       "  262019,\n",
       "  299789,\n",
       "  150653,\n",
       "  10232,\n",
       "  572932,\n",
       "  514134,\n",
       "  75118,\n",
       "  598294,\n",
       "  170159,\n",
       "  393436,\n",
       "  552496,\n",
       "  535097,\n",
       "  469459,\n",
       "  16634,\n",
       "  54614,\n",
       "  299107,\n",
       "  35603,\n",
       "  378146,\n",
       "  318996,\n",
       "  446875,\n",
       "  301977,\n",
       "  686043,\n",
       "  94809,\n",
       "  623183,\n",
       "  468612,\n",
       "  341556,\n",
       "  502749,\n",
       "  266820,\n",
       "  66897,\n",
       "  46046,\n",
       "  506883,\n",
       "  520379,\n",
       "  348895,\n",
       "  386218,\n",
       "  176424,\n",
       "  464140,\n",
       "  642481,\n",
       "  542099,\n",
       "  549149,\n",
       "  120974,\n",
       "  30020,\n",
       "  32690,\n",
       "  405206,\n",
       "  563262,\n",
       "  630884,\n",
       "  121860,\n",
       "  541367,\n",
       "  490217,\n",
       "  526056,\n",
       "  654757,\n",
       "  593791,\n",
       "  152809,\n",
       "  435392,\n",
       "  574790,\n",
       "  434140,\n",
       "  223008,\n",
       "  63272,\n",
       "  540992,\n",
       "  376393,\n",
       "  121204,\n",
       "  615111,\n",
       "  366893,\n",
       "  216796,\n",
       "  599183,\n",
       "  278062,\n",
       "  629718,\n",
       "  588475,\n",
       "  241694,\n",
       "  285794,\n",
       "  472864,\n",
       "  62874,\n",
       "  430222,\n",
       "  198674,\n",
       "  97396,\n",
       "  158164,\n",
       "  697803,\n",
       "  285282,\n",
       "  151246,\n",
       "  686245,\n",
       "  170820,\n",
       "  92,\n",
       "  580748,\n",
       "  315279,\n",
       "  479111,\n",
       "  675607,\n",
       "  196994,\n",
       "  408117,\n",
       "  549117,\n",
       "  268506,\n",
       "  72972,\n",
       "  429082,\n",
       "  424531,\n",
       "  182424,\n",
       "  138837,\n",
       "  412335,\n",
       "  354886,\n",
       "  693957,\n",
       "  689105,\n",
       "  670433,\n",
       "  591671,\n",
       "  676358,\n",
       "  117287,\n",
       "  270001,\n",
       "  232250,\n",
       "  328664,\n",
       "  286485,\n",
       "  587152,\n",
       "  200453,\n",
       "  171198,\n",
       "  187180,\n",
       "  318501,\n",
       "  57489,\n",
       "  682976,\n",
       "  423478,\n",
       "  77272,\n",
       "  570436,\n",
       "  519581,\n",
       "  682976,\n",
       "  254934,\n",
       "  413652,\n",
       "  209032,\n",
       "  247239,\n",
       "  457272,\n",
       "  548975,\n",
       "  481276,\n",
       "  423849,\n",
       "  71577,\n",
       "  474518,\n",
       "  408699,\n",
       "  679180,\n",
       "  212615,\n",
       "  645459,\n",
       "  43526,\n",
       "  156760,\n",
       "  272342,\n",
       "  580062,\n",
       "  70641,\n",
       "  466799,\n",
       "  57489,\n",
       "  421473,\n",
       "  22333,\n",
       "  686043,\n",
       "  550314,\n",
       "  401543,\n",
       "  285411,\n",
       "  622801,\n",
       "  356758,\n",
       "  576799,\n",
       "  537889,\n",
       "  588590,\n",
       "  57544,\n",
       "  225082,\n",
       "  658627,\n",
       "  138231,\n",
       "  552602,\n",
       "  401565,\n",
       "  699497,\n",
       "  193269,\n",
       "  471037,\n",
       "  451233,\n",
       "  224130,\n",
       "  436458,\n",
       "  303171,\n",
       "  500484,\n",
       "  223327,\n",
       "  343917,\n",
       "  621707,\n",
       "  59044,\n",
       "  318380,\n",
       "  202964,\n",
       "  307773,\n",
       "  245658,\n",
       "  389173,\n",
       "  380437,\n",
       "  464477,\n",
       "  11938,\n",
       "  691961,\n",
       "  392325,\n",
       "  138520,\n",
       "  505710,\n",
       "  516376,\n",
       "  320530,\n",
       "  302881,\n",
       "  129740,\n",
       "  271926,\n",
       "  642011,\n",
       "  187437,\n",
       "  218580,\n",
       "  645381,\n",
       "  262430,\n",
       "  152475,\n",
       "  88471,\n",
       "  563670,\n",
       "  278658,\n",
       "  117425,\n",
       "  70624,\n",
       "  74729,\n",
       "  49318,\n",
       "  374167,\n",
       "  21768,\n",
       "  605227,\n",
       "  406349,\n",
       "  218279,\n",
       "  381946,\n",
       "  492580,\n",
       "  516167,\n",
       "  623047,\n",
       "  99039,\n",
       "  573669,\n",
       "  558397,\n",
       "  1133,\n",
       "  461009,\n",
       "  337269,\n",
       "  640239,\n",
       "  156409,\n",
       "  77233,\n",
       "  4831,\n",
       "  123465,\n",
       "  291478,\n",
       "  638488,\n",
       "  592526,\n",
       "  633386,\n",
       "  624983,\n",
       "  621388,\n",
       "  35703,\n",
       "  255937,\n",
       "  92286,\n",
       "  650764,\n",
       "  492083,\n",
       "  479111,\n",
       "  629031,\n",
       "  281210,\n",
       "  51594,\n",
       "  252915,\n",
       "  597855,\n",
       "  520471,\n",
       "  507358,\n",
       "  606994,\n",
       "  436410,\n",
       "  704000,\n",
       "  615644,\n",
       "  110336,\n",
       "  607779,\n",
       "  392372,\n",
       "  300534,\n",
       "  131971,\n",
       "  22194,\n",
       "  682656,\n",
       "  376457,\n",
       "  558513,\n",
       "  188660,\n",
       "  207702,\n",
       "  88238,\n",
       "  111372,\n",
       "  480854,\n",
       "  150201,\n",
       "  284797,\n",
       "  249229,\n",
       "  556769,\n",
       "  632727,\n",
       "  2188,\n",
       "  589983,\n",
       "  681159,\n",
       "  212014,\n",
       "  395416,\n",
       "  563956,\n",
       "  6546,\n",
       "  152422,\n",
       "  483909,\n",
       "  670635,\n",
       "  707724,\n",
       "  178044,\n",
       "  233140,\n",
       "  37748,\n",
       "  37725,\n",
       "  475515,\n",
       "  682520,\n",
       "  77555,\n",
       "  417922,\n",
       "  118219,\n",
       "  469711,\n",
       "  221745,\n",
       "  375485,\n",
       "  335293,\n",
       "  128851,\n",
       "  584465,\n",
       "  574431,\n",
       "  125962,\n",
       "  555829,\n",
       "  157354,\n",
       "  678337,\n",
       "  237127,\n",
       "  517841,\n",
       "  414843,\n",
       "  444706,\n",
       "  375179,\n",
       "  480626,\n",
       "  248877,\n",
       "  198343,\n",
       "  645525,\n",
       "  352313,\n",
       "  320530,\n",
       "  456581,\n",
       "  550271,\n",
       "  393654,\n",
       "  629351,\n",
       "  654757,\n",
       "  445180,\n",
       "  88503,\n",
       "  593791,\n",
       "  460897,\n",
       "  316600,\n",
       "  552770,\n",
       "  231659,\n",
       "  540992,\n",
       "  94076,\n",
       "  376393,\n",
       "  329543,\n",
       "  70156,\n",
       "  634014,\n",
       "  512849,\n",
       "  707167,\n",
       "  285934,\n",
       "  152913,\n",
       "  674132,\n",
       "  645489,\n",
       "  21884,\n",
       "  392397,\n",
       "  516542,\n",
       "  292636,\n",
       "  425143,\n",
       "  482903,\n",
       "  646450,\n",
       "  275930,\n",
       "  117425,\n",
       "  11325,\n",
       "  513449,\n",
       "  434760,\n",
       "  200453,\n",
       "  54994,\n",
       "  98739,\n",
       "  385430,\n",
       "  556394,\n",
       "  73377,\n",
       "  312942,\n",
       "  202062,\n",
       "  39170,\n",
       "  707093,\n",
       "  649782,\n",
       "  707580,\n",
       "  705049,\n",
       "  507509,\n",
       "  552496,\n",
       "  167241,\n",
       "  390830,\n",
       "  637811,\n",
       "  77272,\n",
       "  66520,\n",
       "  260220,\n",
       "  665620,\n",
       "  219044,\n",
       "  491764,\n",
       "  537280,\n",
       "  242958,\n",
       "  164999,\n",
       "  634207,\n",
       "  123465,\n",
       "  137773,\n",
       "  122757,\n",
       "  188987,\n",
       "  378146,\n",
       "  70641,\n",
       "  466799,\n",
       "  57489,\n",
       "  421473,\n",
       "  401543,\n",
       "  362088,\n",
       "  510449,\n",
       "  539248,\n",
       "  573373,\n",
       "  435683,\n",
       "  18546,\n",
       "  505664,\n",
       "  487987,\n",
       "  60708,\n",
       "  336921,\n",
       "  273849,\n",
       "  667893,\n",
       "  329384,\n",
       "  211358,\n",
       "  2149,\n",
       "  531214,\n",
       "  274924,\n",
       "  103139,\n",
       "  573856,\n",
       "  440239,\n",
       "  593527,\n",
       "  148741,\n",
       "  424531,\n",
       "  174967,\n",
       "  182424,\n",
       "  402305,\n",
       "  471988,\n",
       "  557258,\n",
       "  138837,\n",
       "  355910,\n",
       "  158164,\n",
       "  331460,\n",
       "  138586,\n",
       "  689624,\n",
       "  561965,\n",
       "  398132,\n",
       "  299584,\n",
       "  29179,\n",
       "  95040,\n",
       "  492678,\n",
       "  413075,\n",
       "  141106,\n",
       "  131605,\n",
       "  35518,\n",
       "  538426,\n",
       "  443497,\n",
       "  281798,\n",
       "  577128,\n",
       "  43697,\n",
       "  486480,\n",
       "  439074,\n",
       "  646217,\n",
       "  327913,\n",
       "  518074,\n",
       "  218078,\n",
       "  668658,\n",
       "  696268,\n",
       "  544584,\n",
       "  152475,\n",
       "  458085,\n",
       "  536667,\n",
       "  106931,\n",
       "  140833,\n",
       "  438929,\n",
       "  483733,\n",
       "  486877,\n",
       "  244491,\n",
       "  127356,\n",
       "  240426,\n",
       "  523095,\n",
       "  152896,\n",
       "  54631,\n",
       "  424228,\n",
       "  627298,\n",
       "  413170,\n",
       "  50364,\n",
       "  531243,\n",
       "  541367,\n",
       "  622147,\n",
       "  513978,\n",
       "  140407,\n",
       "  209196,\n",
       "  703864,\n",
       "  142036,\n",
       "  160925,\n",
       "  129654,\n",
       "  643298,\n",
       "  553080,\n",
       "  393654,\n",
       "  544099,\n",
       "  654757,\n",
       "  422355,\n",
       "  374574,\n",
       "  88503,\n",
       "  44264,\n",
       "  608081,\n",
       "  211158,\n",
       "  687196,\n",
       "  630014,\n",
       "  435531,\n",
       "  285934,\n",
       "  57780,\n",
       "  516542,\n",
       "  103644,\n",
       "  482903,\n",
       "  607391,\n",
       "  664190,\n",
       "  532890,\n",
       "  584330,\n",
       "  274924,\n",
       "  282030,\n",
       "  507358,\n",
       "  673172,\n",
       "  197168,\n",
       "  707580,\n",
       "  465440,\n",
       "  564600,\n",
       "  505124,\n",
       "  556394,\n",
       "  73377,\n",
       "  611706,\n",
       "  238895,\n",
       "  445180,\n",
       "  88503,\n",
       "  593791,\n",
       "  116418,\n",
       "  645762,\n",
       "  531243,\n",
       "  180942,\n",
       "  709,\n",
       "  357744,\n",
       "  210493,\n",
       "  451557,\n",
       "  657399,\n",
       "  252683,\n",
       "  194692,\n",
       "  297055,\n",
       "  483162,\n",
       "  375248,\n",
       "  372848,\n",
       "  626978,\n",
       "  555561,\n",
       "  441355,\n",
       "  474202,\n",
       "  374391,\n",
       "  264338,\n",
       "  685316,\n",
       "  112104,\n",
       "  108798,\n",
       "  340122,\n",
       "  356317,\n",
       "  449885,\n",
       "  438548,\n",
       "  399006,\n",
       "  410528,\n",
       "  279084,\n",
       "  55180,\n",
       "  398174,\n",
       "  511144,\n",
       "  505999,\n",
       "  230100,\n",
       "  665469,\n",
       "  24671,\n",
       "  706691,\n",
       "  486488,\n",
       "  269167,\n",
       "  565493,\n",
       "  339037,\n",
       "  437765,\n",
       "  94809,\n",
       "  327187,\n",
       "  97387,\n",
       "  297193,\n",
       "  209390,\n",
       "  513141,\n",
       "  320678,\n",
       "  372858,\n",
       "  407533,\n",
       "  431463,\n",
       "  9764,\n",
       "  232181,\n",
       "  153058,\n",
       "  197699,\n",
       "  255689,\n",
       "  667253,\n",
       "  278104,\n",
       "  26977,\n",
       "  88694,\n",
       "  277651,\n",
       "  313772,\n",
       "  591303,\n",
       "  468612,\n",
       "  502749,\n",
       "  228831,\n",
       "  225408,\n",
       "  331385,\n",
       "  677166,\n",
       "  3616,\n",
       "  586801,\n",
       "  39099,\n",
       "  435319,\n",
       "  475304,\n",
       "  307065,\n",
       "  303368,\n",
       "  641928,\n",
       "  17107,\n",
       "  282167,\n",
       "  358876,\n",
       "  657070,\n",
       "  333768,\n",
       "  142156,\n",
       "  299789,\n",
       "  34607,\n",
       "  150653,\n",
       "  304977,\n",
       "  224716,\n",
       "  566253,\n",
       "  227431,\n",
       "  96876,\n",
       "  672407,\n",
       "  294866,\n",
       "  523650,\n",
       "  411972,\n",
       "  338459,\n",
       "  318996,\n",
       "  119291,\n",
       "  299527,\n",
       "  311293,\n",
       "  551641,\n",
       "  333906,\n",
       "  453834,\n",
       "  497065,\n",
       "  413913,\n",
       "  247657,\n",
       "  42628,\n",
       "  171293,\n",
       "  311726,\n",
       "  494720,\n",
       "  329543,\n",
       "  689127,\n",
       "  569249,\n",
       "  297747,\n",
       "  306770,\n",
       "  685423,\n",
       "  519908,\n",
       "  106756,\n",
       "  646422,\n",
       "  642551,\n",
       "  557295,\n",
       "  482903,\n",
       "  264701,\n",
       "  278355,\n",
       "  683830,\n",
       "  222279,\n",
       "  34366,\n",
       "  459139,\n",
       "  58893,\n",
       "  178015,\n",
       "  213115,\n",
       "  426115,\n",
       "  368686,\n",
       "  440631,\n",
       "  444424,\n",
       "  202062,\n",
       "  681628,\n",
       "  307483,\n",
       "  461673,\n",
       "  697803,\n",
       "  24121,\n",
       "  183165,\n",
       "  135558,\n",
       "  66558,\n",
       "  169344,\n",
       "  409475,\n",
       "  317362,\n",
       "  236813,\n",
       "  35603,\n",
       "  378146,\n",
       "  632841,\n",
       "  117425,\n",
       "  513449,\n",
       "  399636,\n",
       "  356564,\n",
       "  467709,\n",
       "  392708,\n",
       "  203264,\n",
       "  401430,\n",
       "  450901,\n",
       "  706041,\n",
       "  352313,\n",
       "  410066,\n",
       "  229731,\n",
       "  471013,\n",
       "  73252,\n",
       "  168776,\n",
       "  483162,\n",
       "  16905,\n",
       "  652875,\n",
       "  170147,\n",
       "  669990,\n",
       "  237395,\n",
       "  195266,\n",
       "  205999,\n",
       "  374574,\n",
       "  566968,\n",
       "  71481,\n",
       "  543646,\n",
       "  298067,\n",
       "  277922,\n",
       "  248208,\n",
       "  282167,\n",
       "  644021,\n",
       "  409862,\n",
       "  643340,\n",
       "  156791,\n",
       "  54219,\n",
       "  586573,\n",
       "  189017,\n",
       "  82714,\n",
       "  140476,\n",
       "  248877,\n",
       "  132985,\n",
       "  523665,\n",
       "  44200,\n",
       "  75772,\n",
       "  323651,\n",
       "  613959,\n",
       "  187438,\n",
       "  282807,\n",
       "  622804,\n",
       "  162534,\n",
       "  599175,\n",
       "  127158,\n",
       "  335183,\n",
       "  45665,\n",
       "  68545,\n",
       "  682575,\n",
       "  654371,\n",
       "  230200,\n",
       "  600395,\n",
       "  141802,\n",
       "  210693,\n",
       "  667604,\n",
       "  567945,\n",
       "  615157,\n",
       "  389069,\n",
       "  546582,\n",
       "  500098,\n",
       "  657070,\n",
       "  416082,\n",
       "  302491,\n",
       "  335328,\n",
       "  145554,\n",
       "  460646,\n",
       "  333180,\n",
       "  27362,\n",
       "  343356,\n",
       "  145724,\n",
       "  634050,\n",
       "  645219,\n",
       "  659303,\n",
       "  357679,\n",
       "  148785,\n",
       "  569051,\n",
       "  40681,\n",
       "  414148,\n",
       "  315656,\n",
       "  561237,\n",
       "  328932,\n",
       "  511674,\n",
       "  227528,\n",
       "  227338,\n",
       "  555561,\n",
       "  641225,\n",
       "  76483,\n",
       "  442352,\n",
       "  302881,\n",
       "  445081,\n",
       "  612873,\n",
       "  61759,\n",
       "  229482,\n",
       "  614472,\n",
       "  614770,\n",
       "  543821,\n",
       "  274779,\n",
       "  33152,\n",
       "  634751,\n",
       "  569295,\n",
       "  703624,\n",
       "  337013,\n",
       "  695872,\n",
       "  686043,\n",
       "  77017,\n",
       "  370668,\n",
       "  491764,\n",
       "  37056,\n",
       "  184890,\n",
       "  124956,\n",
       "  659217,\n",
       "  74979,\n",
       "  209255,\n",
       "  51858,\n",
       "  504799,\n",
       "  204589,\n",
       "  4831,\n",
       "  123465,\n",
       "  475515,\n",
       "  118219,\n",
       "  460017,\n",
       "  64556,\n",
       "  489957,\n",
       "  294356,\n",
       "  145628,\n",
       "  525465,\n",
       "  320298,\n",
       "  541690,\n",
       "  555609,\n",
       "  5046,\n",
       "  536752,\n",
       "  362257,\n",
       "  676540,\n",
       "  194810,\n",
       "  92838,\n",
       "  611942,\n",
       "  285797,\n",
       "  105486,\n",
       "  383436,\n",
       "  202469,\n",
       "  694750,\n",
       "  52736,\n",
       "  421468,\n",
       "  288296,\n",
       "  582946,\n",
       "  332928,\n",
       "  668516,\n",
       "  436851,\n",
       "  415099,\n",
       "  19606,\n",
       "  452745,\n",
       "  129630,\n",
       "  196967,\n",
       "  6516,\n",
       "  275679,\n",
       "  512028,\n",
       "  693110,\n",
       "  244802,\n",
       "  569263,\n",
       "  5914,\n",
       "  150428,\n",
       "  532843,\n",
       "  346378,\n",
       "  68852,\n",
       "  230709,\n",
       "  184406,\n",
       "  558609,\n",
       "  628352,\n",
       "  251558,\n",
       "  395915,\n",
       "  351955,\n",
       "  310003,\n",
       "  570870,\n",
       "  482409,\n",
       "  261102,\n",
       "  140128,\n",
       "  629827,\n",
       "  533539,\n",
       "  620610,\n",
       "  644859,\n",
       "  169413,\n",
       "  436410,\n",
       "  649782,\n",
       "  564600,\n",
       "  366565,\n",
       "  551177,\n",
       "  72972,\n",
       "  47523,\n",
       "  642188,\n",
       "  473057,\n",
       "  221255,\n",
       "  184391,\n",
       "  316600,\n",
       "  357744,\n",
       "  250518,\n",
       "  545934,\n",
       "  104565,\n",
       "  652509,\n",
       "  16510,\n",
       "  197045,\n",
       "  295250,\n",
       "  128851,\n",
       "  440246,\n",
       "  217190,\n",
       "  310693,\n",
       "  316695,\n",
       "  550271,\n",
       "  109888,\n",
       "  360995,\n",
       "  186755,\n",
       "  452909,\n",
       "  373732,\n",
       "  661158,\n",
       "  385467,\n",
       "  252485,\n",
       "  695071,\n",
       "  559201,\n",
       "  583769,\n",
       "  381894,\n",
       "  663347,\n",
       "  469696,\n",
       "  2312,\n",
       "  229259,\n",
       "  705975,\n",
       "  434760,\n",
       "  200453,\n",
       "  87641,\n",
       "  246029,\n",
       "  157354,\n",
       "  686043,\n",
       "  77017,\n",
       "  412335,\n",
       "  676358,\n",
       "  198706,\n",
       "  421326,\n",
       "  439260,\n",
       "  271752,\n",
       "  133593,\n",
       "  106756,\n",
       "  405111,\n",
       "  633833,\n",
       "  611351,\n",
       "  608127,\n",
       "  678256,\n",
       "  379836,\n",
       "  46536,\n",
       "  77666,\n",
       "  328664,\n",
       "  291464,\n",
       "  147736,\n",
       "  361734,\n",
       "  309248,\n",
       "  51558,\n",
       "  705965,\n",
       "  471479,\n",
       "  541075,\n",
       "  7298,\n",
       "  642526,\n",
       "  649727,\n",
       "  487339,\n",
       "  644077,\n",
       "  379483,\n",
       "  524300,\n",
       "  320010,\n",
       "  307945,\n",
       "  113625,\n",
       "  295042,\n",
       "  5695,\n",
       "  202294,\n",
       "  125437,\n",
       "  465907,\n",
       "  330285,\n",
       "  356252,\n",
       "  682712,\n",
       "  80767,\n",
       "  520822,\n",
       "  653509,\n",
       "  425765,\n",
       "  104455,\n",
       "  549912,\n",
       "  677725,\n",
       "  707801,\n",
       "  164581,\n",
       "  312777,\n",
       "  508413,\n",
       "  643559,\n",
       "  142381,\n",
       "  401803,\n",
       "  623383,\n",
       "  105845,\n",
       "  220265,\n",
       "  531243,\n",
       "  567945,\n",
       "  650026,\n",
       "  159117,\n",
       "  145932,\n",
       "  324436,\n",
       "  96068,\n",
       "  615112,\n",
       "  672003,\n",
       "  468312,\n",
       "  405685,\n",
       "  528710,\n",
       "  604226,\n",
       "  682677,\n",
       "  393428,\n",
       "  148726,\n",
       "  323670,\n",
       "  97270,\n",
       "  698644,\n",
       "  495254,\n",
       "  28839,\n",
       "  ...]]"
      ]
     },
     "execution_count": 122,
     "metadata": {},
     "output_type": "execute_result"
    }
   ],
   "source": [
    "a[0][0].values.tolist()"
   ]
  },
  {
   "cell_type": "code",
   "execution_count": 105,
   "metadata": {
    "ExecuteTime": {
     "end_time": "2020-05-14T04:44:25.938575Z",
     "start_time": "2020-05-14T04:44:25.928473Z"
    }
   },
   "outputs": [
    {
     "data": {
      "text/plain": [
       "0    [[[537468, 234710, 691961, 116590, 570884, 632...\n",
       "Name: tags, dtype: object"
      ]
     },
     "execution_count": 105,
     "metadata": {},
     "output_type": "execute_result"
    }
   ],
   "source": []
  },
  {
   "cell_type": "code",
   "execution_count": 104,
   "metadata": {
    "ExecuteTime": {
     "end_time": "2020-05-14T04:44:07.133008Z",
     "start_time": "2020-05-14T04:44:07.122819Z"
    }
   },
   "outputs": [
    {
     "data": {
      "text/plain": [
       "0    [[[537468, 234710, 691961, 116590, 570884, 632...\n",
       "Name: tags, dtype: object"
      ]
     },
     "execution_count": 104,
     "metadata": {},
     "output_type": "execute_result"
    }
   ],
   "source": [
    "a"
   ]
  },
  {
   "cell_type": "code",
   "execution_count": 55,
   "metadata": {
    "ExecuteTime": {
     "end_time": "2020-05-14T03:27:58.060219Z",
     "start_time": "2020-05-14T03:27:58.052841Z"
    }
   },
   "outputs": [
    {
     "data": {
      "text/plain": [
       "2615    [537468, 234710, 691961, 116590, 570884, 63201...\n",
       "Name: songs, dtype: object"
      ]
     },
     "execution_count": 55,
     "metadata": {},
     "output_type": "execute_result"
    }
   ],
   "source": [
    "tag_song[tag_song['tags'] == 'OST']['songs']"
   ]
  },
  {
   "cell_type": "code",
   "execution_count": null,
   "metadata": {},
   "outputs": [],
   "source": []
  },
  {
   "cell_type": "code",
   "execution_count": 40,
   "metadata": {
    "ExecuteTime": {
     "end_time": "2020-05-14T03:24:49.080997Z",
     "start_time": "2020-05-14T03:24:49.076250Z"
    }
   },
   "outputs": [],
   "source": [
    "df = pd.Series(sum([item for item in tag_song['songs'][1:2]], [])).value_counts()"
   ]
  },
  {
   "cell_type": "code",
   "execution_count": 41,
   "metadata": {
    "ExecuteTime": {
     "end_time": "2020-05-14T03:24:49.417883Z",
     "start_time": "2020-05-14T03:24:49.413848Z"
    }
   },
   "outputs": [
    {
     "data": {
      "text/plain": [
       "131071    1\n",
       "140638    1\n",
       "54875     1\n",
       "662362    1\n",
       "452185    1\n",
       "         ..\n",
       "2726      1\n",
       "271883    1\n",
       "77813     1\n",
       "419490    1\n",
       "521216    1\n",
       "Length: 167, dtype: int64"
      ]
     },
     "execution_count": 41,
     "metadata": {},
     "output_type": "execute_result"
    }
   ],
   "source": [
    "df"
   ]
  },
  {
   "cell_type": "code",
   "execution_count": null,
   "metadata": {},
   "outputs": [],
   "source": []
  },
  {
   "cell_type": "code",
   "execution_count": null,
   "metadata": {},
   "outputs": [],
   "source": []
  },
  {
   "cell_type": "code",
   "execution_count": null,
   "metadata": {},
   "outputs": [],
   "source": []
  },
  {
   "cell_type": "code",
   "execution_count": 100,
   "metadata": {
    "ExecuteTime": {
     "end_time": "2020-05-14T03:11:41.920504Z",
     "start_time": "2020-05-14T03:11:41.909286Z"
    }
   },
   "outputs": [
    {
     "ename": "AttributeError",
     "evalue": "'list' object has no attribute 'astype'",
     "output_type": "error",
     "traceback": [
      "\u001b[0;31m---------------------------------------------------------------------------\u001b[0m",
      "\u001b[0;31mAttributeError\u001b[0m                            Traceback (most recent call last)",
      "\u001b[0;32m<ipython-input-100-4db2f0897564>\u001b[0m in \u001b[0;36m<module>\u001b[0;34m\u001b[0m\n\u001b[0;32m----> 1\u001b[0;31m \u001b[0mCounter\u001b[0m\u001b[0;34m(\u001b[0m\u001b[0mtag_song\u001b[0m\u001b[0;34m[\u001b[0m\u001b[0;34m'songs'\u001b[0m\u001b[0;34m]\u001b[0m\u001b[0;34m[\u001b[0m\u001b[0;36m0\u001b[0m\u001b[0;34m]\u001b[0m\u001b[0;34m.\u001b[0m\u001b[0mastype\u001b[0m\u001b[0;34m(\u001b[0m\u001b[0mstr\u001b[0m\u001b[0;34m)\u001b[0m\u001b[0;34m)\u001b[0m\u001b[0;34m\u001b[0m\u001b[0;34m\u001b[0m\u001b[0m\n\u001b[0m",
      "\u001b[0;31mAttributeError\u001b[0m: 'list' object has no attribute 'astype'"
     ]
    }
   ],
   "source": [
    "tag_song['songs'][0].astype(str)"
   ]
  },
  {
   "cell_type": "code",
   "execution_count": 27,
   "metadata": {
    "ExecuteTime": {
     "end_time": "2020-05-14T02:50:57.640635Z",
     "start_time": "2020-05-14T02:50:57.635543Z"
    },
    "scrolled": true
   },
   "outputs": [
    {
     "data": {
      "text/plain": [
       "0       \n",
       "1     00\n",
       "2    007\n",
       "Name: tags, dtype: object"
      ]
     },
     "execution_count": 27,
     "metadata": {},
     "output_type": "execute_result"
    }
   ],
   "source": [
    "tag_song.iloc[:3]['tags']"
   ]
  },
  {
   "cell_type": "code",
   "execution_count": 86,
   "metadata": {
    "ExecuteTime": {
     "end_time": "2020-05-14T03:06:36.454695Z",
     "start_time": "2020-05-14T03:06:36.450558Z"
    }
   },
   "outputs": [
    {
     "data": {
      "text/plain": [
       "913408"
      ]
     },
     "execution_count": 86,
     "metadata": {},
     "output_type": "execute_result"
    }
   ],
   "source": [
    "from collections import Counter\n",
    "len(tag_song['songs'][0])"
   ]
  },
  {
   "cell_type": "code",
   "execution_count": null,
   "metadata": {},
   "outputs": [],
   "source": []
  },
  {
   "cell_type": "code",
   "execution_count": 92,
   "metadata": {
    "ExecuteTime": {
     "end_time": "2020-05-14T03:09:32.972966Z",
     "start_time": "2020-05-14T03:09:32.962174Z"
    }
   },
   "outputs": [
    {
     "ename": "NameError",
     "evalue": "name 'frequency_list' is not defined",
     "output_type": "error",
     "traceback": [
      "\u001b[0;31m---------------------------------------------------------------------------\u001b[0m",
      "\u001b[0;31mNameError\u001b[0m                                 Traceback (most recent call last)",
      "\u001b[0;32m<ipython-input-92-cfd00eb12627>\u001b[0m in \u001b[0;36m<module>\u001b[0;34m\u001b[0m\n\u001b[0;32m----> 1\u001b[0;31m \u001b[0mfrequency_list\u001b[0m\u001b[0;34m\u001b[0m\u001b[0;34m\u001b[0m\u001b[0m\n\u001b[0m",
      "\u001b[0;31mNameError\u001b[0m: name 'frequency_list' is not defined"
     ]
    }
   ],
   "source": [
    "frequency_list"
   ]
  },
  {
   "cell_type": "code",
   "execution_count": 46,
   "metadata": {
    "ExecuteTime": {
     "end_time": "2020-05-14T02:57:31.188117Z",
     "start_time": "2020-05-14T02:57:31.183627Z"
    }
   },
   "outputs": [],
   "source": [
    "frequency = {}\n",
    "for i in tag_song[:3].index:\n",
    "    tags = tag_song.get_value(i,'tags')\n",
    "    songs = tag_song.get_value(i,'songs')\n",
    "    for word in songs:\n",
    "        count = frequency.get(word,0)\n",
    "        frequency[tags] = count + 1"
   ]
  },
  {
   "cell_type": "code",
   "execution_count": 47,
   "metadata": {
    "ExecuteTime": {
     "end_time": "2020-05-14T02:57:34.703813Z",
     "start_time": "2020-05-14T02:57:34.700412Z"
    }
   },
   "outputs": [
    {
     "data": {
      "text/plain": [
       "{'': 1, '00': 1, '007': 1}"
      ]
     },
     "execution_count": 47,
     "metadata": {},
     "output_type": "execute_result"
    }
   ],
   "source": [
    "frequency"
   ]
  },
  {
   "cell_type": "code",
   "execution_count": 18,
   "metadata": {
    "ExecuteTime": {
     "end_time": "2020-05-14T02:49:26.633335Z",
     "start_time": "2020-05-14T02:49:26.630390Z"
    }
   },
   "outputs": [
    {
     "name": "stdout",
     "output_type": "stream",
     "text": [
      "tags\n",
      "songs\n"
     ]
    }
   ],
   "source": [
    "for i in tag_song:\n",
    "    print(i)"
   ]
  },
  {
   "cell_type": "code",
   "execution_count": 14,
   "metadata": {
    "ExecuteTime": {
     "end_time": "2020-05-14T02:48:45.810491Z",
     "start_time": "2020-05-14T02:48:45.806910Z"
    }
   },
   "outputs": [
    {
     "data": {
      "text/plain": [
       "{'tags': 1, 'songs': 2}"
      ]
     },
     "execution_count": 14,
     "metadata": {},
     "output_type": "execute_result"
    }
   ],
   "source": [
    "frequency"
   ]
  },
  {
   "cell_type": "code",
   "execution_count": null,
   "metadata": {},
   "outputs": [],
   "source": []
  }
 ],
 "metadata": {
  "kernelspec": {
   "display_name": "Python 3",
   "language": "python",
   "name": "python3"
  },
  "language_info": {
   "codemirror_mode": {
    "name": "ipython",
    "version": 3
   },
   "file_extension": ".py",
   "mimetype": "text/x-python",
   "name": "python",
   "nbconvert_exporter": "python",
   "pygments_lexer": "ipython3",
   "version": "3.7.4"
  }
 },
 "nbformat": 4,
 "nbformat_minor": 2
}
