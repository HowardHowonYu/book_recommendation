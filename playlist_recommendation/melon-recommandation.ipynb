{
 "cells": [
  {
   "cell_type": "markdown",
   "metadata": {},
   "source": [
    "## import"
   ]
  },
  {
   "cell_type": "code",
   "execution_count": 148,
   "metadata": {
    "ExecuteTime": {
     "end_time": "2020-05-13T09:08:21.495983Z",
     "start_time": "2020-05-13T09:08:21.491006Z"
    }
   },
   "outputs": [],
   "source": [
    "from implicit.evaluation import  *\n",
    "from implicit.als import AlternatingLeastSquares as ALS\n",
    "from implicit.bpr import BayesianPersonalizedRanking as BPR\n",
    "import numpy as np\n",
    "import os\n",
    "os.environ['KMP_DUPLICATE_LIB_OK']='True'\n",
    "from sklearn.utils import shuffle\n",
    "from scipy.sparse import *\n",
    "# import rec_util\n",
    "pd.options.display.float_format = '{:.2f}'.format\n",
    "import pandas as pd"
   ]
  },
  {
   "cell_type": "markdown",
   "metadata": {},
   "source": [
    "## 파일 로드"
   ]
  },
  {
   "cell_type": "code",
   "execution_count": 149,
   "metadata": {
    "ExecuteTime": {
     "end_time": "2020-05-13T09:08:26.434967Z",
     "start_time": "2020-05-13T09:08:21.929194Z"
    },
    "scrolled": true
   },
   "outputs": [],
   "source": [
    "raw_tr = pd.read_json(\"./raw_data/train.json\")\n",
    "raw_te = pd.read_json(\"./raw_data/val.json\")"
   ]
  },
  {
   "cell_type": "markdown",
   "metadata": {},
   "source": [
    "## 태그별 빈도 확인"
   ]
  },
  {
   "cell_type": "code",
   "execution_count": 178,
   "metadata": {
    "ExecuteTime": {
     "end_time": "2020-05-13T09:11:02.057039Z",
     "start_time": "2020-05-13T09:11:01.932395Z"
    }
   },
   "outputs": [],
   "source": [
    "ret = []\n",
    "for tag in raw_tr.tags.tolist():\n",
    "    ret += tag\n",
    "from collections import Counter\n",
    "r = dict(Counter(ret))"
   ]
  },
  {
   "cell_type": "code",
   "execution_count": 179,
   "metadata": {
    "ExecuteTime": {
     "end_time": "2020-05-13T09:11:02.123583Z",
     "start_time": "2020-05-13T09:11:02.083809Z"
    }
   },
   "outputs": [
    {
     "data": {
      "text/plain": [
       "[('기분전환', 16465), ('감성', 11417), ('휴식', 11215), ('발라드', 10796), ('잔잔한', 10218)]"
      ]
     },
     "execution_count": 179,
     "metadata": {},
     "output_type": "execute_result"
    }
   ],
   "source": [
    "r = sorted(r.items(), key=lambda x: -x[1])\n",
    "r[:5]"
   ]
  },
  {
   "cell_type": "code",
   "execution_count": 180,
   "metadata": {
    "ExecuteTime": {
     "end_time": "2020-05-13T09:11:06.015942Z",
     "start_time": "2020-05-13T09:11:06.012804Z"
    }
   },
   "outputs": [],
   "source": [
    "top_tags = [x[0] for x in r[:1000]]"
   ]
  },
  {
   "cell_type": "code",
   "execution_count": null,
   "metadata": {},
   "outputs": [],
   "source": []
  },
  {
   "cell_type": "markdown",
   "metadata": {},
   "source": [
    "# 태그와 노래 목록 만으로 나머지 예측하기"
   ]
  },
  {
   "cell_type": "code",
   "execution_count": 153,
   "metadata": {
    "ExecuteTime": {
     "end_time": "2020-05-13T09:08:26.888747Z",
     "start_time": "2020-05-13T09:08:26.647309Z"
    }
   },
   "outputs": [],
   "source": [
    "train_songs = raw_tr['songs'].tolist()\n",
    "test_songs = raw_te['songs'].apply(lambda x : [float(i)for i in x]).tolist()\n",
    "train_tags = raw_tr['tags'].tolist()\n",
    "test_tags = raw_te['tags'].tolist()\n",
    "test_ids = raw_te['id'].tolist()"
   ]
  },
  {
   "cell_type": "markdown",
   "metadata": {},
   "source": [
    "### train 데이터 list to list 로 만들기"
   ]
  },
  {
   "cell_type": "code",
   "execution_count": 154,
   "metadata": {
    "ExecuteTime": {
     "end_time": "2020-05-13T09:08:53.748417Z",
     "start_time": "2020-05-13T09:08:51.641348Z"
    }
   },
   "outputs": [],
   "source": [
    "from itertools import groupby\n",
    "tr = []\n",
    "iid_to_idx = {}\n",
    "idx = 0\n",
    "\n",
    "for i, l in enumerate(train_songs):\n",
    "    view = l\n",
    "    for item_id in view:\n",
    "        if item_id not in iid_to_idx:\n",
    "            iid_to_idx[item_id] = idx\n",
    "            idx += 1\n",
    "    view = [iid_to_idx[x] for x in view]\n",
    "    tr.append(view)"
   ]
  },
  {
   "cell_type": "code",
   "execution_count": 155,
   "metadata": {
    "ExecuteTime": {
     "end_time": "2020-05-13T09:08:54.466794Z",
     "start_time": "2020-05-13T09:08:54.240504Z"
    }
   },
   "outputs": [],
   "source": [
    "idx = 0\n",
    "n_items = 615142\n",
    "tag_to_idx = {} \n",
    "for i, tags in enumerate(train_tags):\n",
    "    for tag in tags:\n",
    "        if tag not in tag_to_idx:\n",
    "            tag_to_idx[tag] = n_items + idx\n",
    "            idx += 1\n",
    "    tr[i].extend([tag_to_idx[x] for x in tags])\n",
    "n_items = len(iid_to_idx)\n",
    "n_tags = len(tag_to_idx)"
   ]
  },
  {
   "cell_type": "markdown",
   "metadata": {},
   "source": [
    "### test 데이터 list to list 로 만들기"
   ]
  },
  {
   "cell_type": "code",
   "execution_count": 156,
   "metadata": {
    "ExecuteTime": {
     "end_time": "2020-05-13T09:08:56.165130Z",
     "start_time": "2020-05-13T09:08:55.864385Z"
    }
   },
   "outputs": [],
   "source": [
    "from itertools import groupby\n",
    "te = []\n",
    "\n",
    "idx = 0\n",
    "for i, l in enumerate(test_songs):\n",
    "    view = l\n",
    "    ret = [] \n",
    "    for item_id in view:\n",
    "        if item_id not in iid_to_idx:\n",
    "            continue\n",
    "        ret.append(iid_to_idx[item_id])\n",
    "    te.append(ret)\n",
    "idx = 0\n",
    "for i, tags in enumerate(test_tags):\n",
    "    ret = []\n",
    "    for tag in tags:\n",
    "        if tag not in tag_to_idx:\n",
    "            continue\n",
    "        ret.append(tag)\n",
    "    te[i].extend([tag_to_idx[x] for x in ret])"
   ]
  },
  {
   "cell_type": "markdown",
   "metadata": {},
   "source": [
    "# 데이터 쓰까"
   ]
  },
  {
   "cell_type": "code",
   "execution_count": 157,
   "metadata": {
    "ExecuteTime": {
     "end_time": "2020-05-13T09:08:56.757415Z",
     "start_time": "2020-05-13T09:08:56.696463Z"
    }
   },
   "outputs": [],
   "source": [
    "tr = shuffle(tr)"
   ]
  },
  {
   "cell_type": "markdown",
   "metadata": {},
   "source": [
    "### 노래 및 태그 인덱싱 하기"
   ]
  },
  {
   "cell_type": "code",
   "execution_count": 185,
   "metadata": {
    "ExecuteTime": {
     "end_time": "2020-05-13T09:12:31.724669Z",
     "start_time": "2020-05-13T09:12:31.643506Z"
    },
    "scrolled": true
   },
   "outputs": [],
   "source": [
    "idx_to_iid = {x:y for(y,x) in iid_to_idx.items()}\n",
    "idx_to_tag = {(x - n_items):y for(y,x) in tag_to_idx.items()}"
   ]
  },
  {
   "cell_type": "markdown",
   "metadata": {},
   "source": [
    "# sparse matrix\n",
    "- 방법에 대해 고민 해봐야 함"
   ]
  },
  {
   "cell_type": "code",
   "execution_count": 22,
   "metadata": {
    "ExecuteTime": {
     "end_time": "2020-05-13T08:12:06.875091Z",
     "start_time": "2020-05-13T08:12:06.871357Z"
    }
   },
   "outputs": [],
   "source": [
    "def boolean_indexing(v):\n",
    "    lens = np.array([len(item) for item in v])\n",
    "    mask = lens[:,None] > np.arange(lens.max())\n",
    "    out = np.zeros(mask.shape,dtype=int)\n",
    "    out[mask] = np.concatenate(v)\n",
    "    return out"
   ]
  },
  {
   "cell_type": "code",
   "execution_count": 23,
   "metadata": {
    "ExecuteTime": {
     "end_time": "2020-05-13T08:12:08.098282Z",
     "start_time": "2020-05-13T08:12:07.039188Z"
    }
   },
   "outputs": [],
   "source": [
    "tr_array = boolean_indexing(tr)"
   ]
  },
  {
   "cell_type": "code",
   "execution_count": 24,
   "metadata": {
    "ExecuteTime": {
     "end_time": "2020-05-13T08:12:08.192678Z",
     "start_time": "2020-05-13T08:12:08.100380Z"
    }
   },
   "outputs": [],
   "source": [
    "te_array = boolean_indexing(te)"
   ]
  },
  {
   "cell_type": "code",
   "execution_count": 78,
   "metadata": {
    "ExecuteTime": {
     "end_time": "2020-05-13T08:20:16.061773Z",
     "start_time": "2020-05-13T08:20:15.133967Z"
    }
   },
   "outputs": [],
   "source": [
    "tr_array = np.zeros([len(tr),len(max(tr,key = lambda x: len(x)))])\n",
    "for i,j in enumerate(tr):\n",
    "    tr_array[i][0:len(j)] = j"
   ]
  },
  {
   "cell_type": "code",
   "execution_count": null,
   "metadata": {},
   "outputs": [],
   "source": [
    "# 노래 곡수 + 태그의 최대 숫자가 240인데 이렇게 나오면 안되고, 'n_tags + n_items'인 115071 x 644302인 어레이가 나와야 함"
   ]
  },
  {
   "cell_type": "code",
   "execution_count": 84,
   "metadata": {
    "ExecuteTime": {
     "end_time": "2020-05-13T08:22:04.221262Z",
     "start_time": "2020-05-13T08:22:04.184473Z"
    }
   },
   "outputs": [
    {
     "data": {
      "text/plain": [
       "240"
      ]
     },
     "execution_count": 84,
     "metadata": {},
     "output_type": "execute_result"
    }
   ],
   "source": [
    "np.array([len (i) for i in tr]).max()"
   ]
  },
  {
   "cell_type": "code",
   "execution_count": 100,
   "metadata": {
    "ExecuteTime": {
     "end_time": "2020-05-13T08:33:40.762218Z",
     "start_time": "2020-05-13T08:33:40.633425Z"
    },
    "scrolled": true
   },
   "outputs": [
    {
     "data": {
      "text/plain": [
       "array([548271, 548272, 191482, 548273, 548274, 548275, 548276, 548277,\n",
       "       548278, 548279, 548280, 548281, 548282,  73077, 477958, 548283,\n",
       "       490260, 548284,     87,    572,     33,      1,    173,     45,\n",
       "           20,   1840, 115158, 115643, 115104, 115072, 115244, 115116,\n",
       "       115091, 116911, 615229, 615714, 615175, 615143, 615315, 615187,\n",
       "       615162, 616982, 615229, 615714, 615175, 615143, 615315, 615187,\n",
       "       615162, 616982,      0,      0,      0,      0,      0,      0,\n",
       "            0,      0,      0,      0,      0,      0,      0,      0,\n",
       "            0,      0,      0,      0,      0,      0,      0,      0,\n",
       "            0,      0,      0,      0,      0,      0,      0,      0,\n",
       "            0,      0,      0,      0,      0,      0,      0,      0,\n",
       "            0,      0,      0,      0,      0,      0,      0,      0,\n",
       "            0,      0,      0,      0,      0,      0,      0,      0,\n",
       "            0,      0,      0,      0,      0,      0,      0,      0,\n",
       "            0,      0,      0,      0,      0,      0,      0,      0,\n",
       "            0,      0,      0,      0,      0,      0,      0,      0,\n",
       "            0,      0,      0,      0,      0,      0,      0,      0,\n",
       "            0,      0,      0,      0,      0,      0,      0,      0,\n",
       "            0,      0,      0,      0,      0,      0,      0,      0,\n",
       "            0,      0,      0,      0,      0,      0,      0,      0,\n",
       "            0,      0,      0,      0,      0,      0,      0,      0,\n",
       "            0,      0,      0,      0,      0,      0,      0,      0,\n",
       "            0,      0,      0,      0,      0,      0,      0,      0,\n",
       "            0,      0,      0,      0,      0,      0,      0,      0,\n",
       "            0,      0,      0,      0,      0,      0,      0,      0,\n",
       "            0,      0,      0,      0,      0,      0,      0,      0,\n",
       "            0,      0,      0,      0,      0,      0,      0,      0,\n",
       "            0,      0,      0,      0,      0,      0,      0,      0,\n",
       "            0,      0,      0,      0,      0,      0,      0,      0,\n",
       "            0,      0,      0,      0,      0,      0,      0,      0])"
      ]
     },
     "execution_count": 100,
     "metadata": {},
     "output_type": "execute_result"
    }
   ],
   "source": [
    "tr_array.astype(int)[0]"
   ]
  },
  {
   "cell_type": "code",
   "execution_count": 62,
   "metadata": {
    "ExecuteTime": {
     "end_time": "2020-05-13T08:16:46.993245Z",
     "start_time": "2020-05-13T08:16:46.989344Z"
    }
   },
   "outputs": [
    {
     "data": {
      "text/plain": [
       "(23015, 105)"
      ]
     },
     "execution_count": 62,
     "metadata": {},
     "output_type": "execute_result"
    }
   ],
   "source": [
    "te_array.shape"
   ]
  },
  {
   "cell_type": "code",
   "execution_count": 64,
   "metadata": {
    "ExecuteTime": {
     "end_time": "2020-05-13T08:17:04.042465Z",
     "start_time": "2020-05-13T08:17:04.039033Z"
    }
   },
   "outputs": [
    {
     "data": {
      "text/plain": [
       "644302"
      ]
     },
     "execution_count": 64,
     "metadata": {},
     "output_type": "execute_result"
    }
   ],
   "source": [
    "n_tags + n_items"
   ]
  },
  {
   "cell_type": "markdown",
   "metadata": {
    "ExecuteTime": {
     "end_time": "2020-05-13T09:13:19.300114Z",
     "start_time": "2020-05-13T09:13:19.297769Z"
    }
   },
   "source": [
    "## binary matrix 만들기\n",
    "- https://stackoverflow.com/questions/50702988/creating-binary-matrix-of-each-unique-value-from-list-of-lists"
   ]
  },
  {
   "cell_type": "markdown",
   "metadata": {},
   "source": [
    "- train list to list"
   ]
  },
  {
   "cell_type": "code",
   "execution_count": 135,
   "metadata": {
    "ExecuteTime": {
     "end_time": "2020-05-13T09:01:57.147283Z",
     "start_time": "2020-05-13T09:01:40.355134Z"
    }
   },
   "outputs": [
    {
     "data": {
      "text/plain": [
       "matrix([[0, 1, 0, ..., 0, 0, 0],\n",
       "        [0, 0, 0, ..., 0, 0, 0],\n",
       "        [0, 0, 0, ..., 0, 0, 0],\n",
       "        ...,\n",
       "        [0, 0, 0, ..., 0, 0, 0],\n",
       "        [0, 0, 0, ..., 0, 0, 0],\n",
       "        [0, 0, 0, ..., 0, 0, 0]])"
      ]
     },
     "execution_count": 135,
     "metadata": {},
     "output_type": "execute_result"
    }
   ],
   "source": [
    "from sklearn.feature_extraction.text import CountVectorizer\n",
    "cv = CountVectorizer(tokenizer=lambda x: x, lowercase=False)\n",
    "tr_array = cv.fit_transform(tr)\n",
    "\n",
    "# To transform to dense matrix\n",
    "tr_array.todense()"
   ]
  },
  {
   "cell_type": "markdown",
   "metadata": {},
   "source": [
    "- test list to list"
   ]
  },
  {
   "cell_type": "code",
   "execution_count": 112,
   "metadata": {
    "ExecuteTime": {
     "end_time": "2020-05-13T08:40:25.982025Z",
     "start_time": "2020-05-13T08:40:24.405295Z"
    }
   },
   "outputs": [
    {
     "data": {
      "text/plain": [
       "matrix([[0, 0, 0, ..., 0, 0, 0],\n",
       "        [0, 0, 0, ..., 0, 0, 0],\n",
       "        [0, 0, 0, ..., 0, 0, 0],\n",
       "        ...,\n",
       "        [0, 0, 0, ..., 0, 0, 0],\n",
       "        [0, 0, 0, ..., 0, 0, 0],\n",
       "        [0, 0, 0, ..., 0, 0, 0]])"
      ]
     },
     "execution_count": 112,
     "metadata": {},
     "output_type": "execute_result"
    }
   ],
   "source": [
    "from sklearn.feature_extraction.text import CountVectorizer\n",
    "cv = CountVectorizer(tokenizer=lambda x: x, lowercase=False)\n",
    "te_array = cv.fit_transform(te)\n",
    "\n",
    "# To transform to dense matrix\n",
    "te_array.todense()"
   ]
  },
  {
   "cell_type": "markdown",
   "metadata": {},
   "source": [
    "# 모델링\n",
    "- 1. sparse 행렬 작업\n",
    "- 2. 두 행렬을 합치고\n",
    "- 3. 모델 fit 시키기"
   ]
  },
  {
   "cell_type": "code",
   "execution_count": 115,
   "metadata": {
    "ExecuteTime": {
     "end_time": "2020-05-13T08:40:36.576910Z",
     "start_time": "2020-05-13T08:40:36.573546Z"
    }
   },
   "outputs": [],
   "source": [
    "tr_csr = csr_matrix(tr_array, (len(tr), n_tags + n_items))\n",
    "te_csr = csr_matrix(te_array, (len(te), n_tags + n_items))"
   ]
  },
  {
   "cell_type": "code",
   "execution_count": 116,
   "metadata": {
    "ExecuteTime": {
     "end_time": "2020-05-13T08:40:39.389925Z",
     "start_time": "2020-05-13T08:40:39.309446Z"
    },
    "scrolled": true
   },
   "outputs": [],
   "source": [
    "import scipy.sparse\n",
    "r = scipy.sparse.vstack([te_csr, tr_csr])\n",
    "r = csr_matrix(r)"
   ]
  },
  {
   "cell_type": "code",
   "execution_count": 117,
   "metadata": {
    "ExecuteTime": {
     "end_time": "2020-05-13T08:47:37.263660Z",
     "start_time": "2020-05-13T08:40:40.195397Z"
    },
    "scrolled": true
   },
   "outputs": [
    {
     "data": {
      "application/vnd.jupyter.widget-view+json": {
       "model_id": "5e401e6596c84d24ba31176d9d47e397",
       "version_major": 2,
       "version_minor": 0
      },
      "text/plain": [
       "HBox(children=(IntProgress(value=0, max=15), HTML(value='')))"
      ]
     },
     "metadata": {},
     "output_type": "display_data"
    },
    {
     "name": "stdout",
     "output_type": "stream",
     "text": [
      "\n"
     ]
    }
   ],
   "source": [
    "als_model = ALS(factors=128, regularization=0.08)\n",
    "als_model.fit(r.T * 15.0)"
   ]
  },
  {
   "cell_type": "markdown",
   "metadata": {},
   "source": [
    "### 노래 예측 모댈과, 태그 예측모댈에 user factor와 item factor를 분배"
   ]
  },
  {
   "cell_type": "code",
   "execution_count": 118,
   "metadata": {
    "ExecuteTime": {
     "end_time": "2020-05-13T08:47:37.286343Z",
     "start_time": "2020-05-13T08:47:37.267484Z"
    }
   },
   "outputs": [],
   "source": [
    "item_model = ALS(use_gpu=False)\n",
    "tag_model = ALS(use_gpu=False)\n",
    "item_model.user_factors = als_model.user_factors\n",
    "tag_model.user_factors = als_model.user_factors"
   ]
  },
  {
   "cell_type": "code",
   "execution_count": 119,
   "metadata": {
    "ExecuteTime": {
     "end_time": "2020-05-13T08:47:37.294424Z",
     "start_time": "2020-05-13T08:47:37.290463Z"
    }
   },
   "outputs": [],
   "source": [
    "item_model.item_factors = als_model.item_factors[:n_items]\n",
    "tag_model.item_factors = als_model.item_factors[n_items:]"
   ]
  },
  {
   "cell_type": "code",
   "execution_count": 120,
   "metadata": {
    "ExecuteTime": {
     "end_time": "2020-05-13T08:47:37.302899Z",
     "start_time": "2020-05-13T08:47:37.297663Z"
    }
   },
   "outputs": [
    {
     "data": {
      "text/plain": [
       "(644302, 128)"
      ]
     },
     "execution_count": 120,
     "metadata": {},
     "output_type": "execute_result"
    }
   ],
   "source": [
    "als_model.item_factors.shape"
   ]
  },
  {
   "cell_type": "code",
   "execution_count": 121,
   "metadata": {
    "ExecuteTime": {
     "end_time": "2020-05-13T08:47:37.314569Z",
     "start_time": "2020-05-13T08:47:37.305544Z"
    }
   },
   "outputs": [
    {
     "data": {
      "text/plain": [
       "array([[-2.7139655e-01,  8.1092104e-02, -2.3679076e-02, ...,\n",
       "        -4.6856251e-01,  5.2570064e-02,  2.4029304e-01],\n",
       "       [-4.5710164e-01, -7.0614681e-02,  7.0186621e-03, ...,\n",
       "         3.4151590e-01,  6.6628605e-01,  2.1835957e-01],\n",
       "       [-4.2948008e-01, -1.3847241e-02, -5.4426279e-02, ...,\n",
       "         2.7176657e-01,  6.3023746e-01,  2.0602919e-01],\n",
       "       ...,\n",
       "       [ 3.5432735e-03,  2.6923401e-04,  1.0970696e-03, ...,\n",
       "         4.5748334e-03,  3.5547253e-03,  2.3294524e-03],\n",
       "       [-1.9738213e-03, -6.2862844e-03, -2.1205323e-03, ...,\n",
       "        -2.0258485e-03,  8.1458660e-03,  2.8332591e-03],\n",
       "       [-2.4964832e-04, -8.6847757e-04, -2.2691030e-04, ...,\n",
       "        -4.4478368e-04, -4.3195429e-05, -5.5013713e-04]], dtype=float32)"
      ]
     },
     "execution_count": 121,
     "metadata": {},
     "output_type": "execute_result"
    }
   ],
   "source": [
    "als_model.item_factors[n_items:]"
   ]
  },
  {
   "cell_type": "code",
   "execution_count": 123,
   "metadata": {
    "ExecuteTime": {
     "end_time": "2020-05-13T08:48:11.113259Z",
     "start_time": "2020-05-13T08:48:11.007733Z"
    }
   },
   "outputs": [],
   "source": [
    "item_rec_csr = tr_csr[:, :n_items]\n",
    "tag_rec_csr = tr_csr[:, n_items:]"
   ]
  },
  {
   "cell_type": "markdown",
   "metadata": {},
   "source": [
    "## recommend 과정"
   ]
  },
  {
   "cell_type": "code",
   "execution_count": 130,
   "metadata": {
    "ExecuteTime": {
     "end_time": "2020-05-13T08:59:55.265049Z",
     "start_time": "2020-05-13T08:49:31.250917Z"
    },
    "scrolled": true
   },
   "outputs": [
    {
     "data": {
      "application/vnd.jupyter.widget-view+json": {
       "model_id": "d71f7c510f084a6c88d4688dd9a861a1",
       "version_major": 2,
       "version_minor": 0
      },
      "text/plain": [
       "HBox(children=(IntProgress(value=0, max=23015), HTML(value='')))"
      ]
     },
     "metadata": {},
     "output_type": "display_data"
    },
    {
     "name": "stdout",
     "output_type": "stream",
     "text": [
      "\n"
     ]
    }
   ],
   "source": [
    "item_ret = []\n",
    "tag_ret = []\n",
    "from tqdm.auto import tqdm\n",
    "for u in tqdm(range(te_csr.shape[0])):\n",
    "    item_rec = item_model.recommend(u, item_rec_csr, N=100)\n",
    "    item_rec = [idx_to_iid[x[0]] for x in item_rec]\n",
    "    tag_rec = tag_model.recommend(u, tag_rec_csr, N=100)\n",
    "    tag_rec = [idx_to_tag[x[0]] for x in tag_rec if x[0] in idx_to_tag]\n",
    "    item_ret.append(item_rec)\n",
    "    tag_ret.append(tag_rec)"
   ]
  },
  {
   "cell_type": "code",
   "execution_count": 132,
   "metadata": {
    "ExecuteTime": {
     "end_time": "2020-05-13T08:59:55.283880Z",
     "start_time": "2020-05-13T08:59:55.277696Z"
    }
   },
   "outputs": [
    {
     "data": {
      "text/plain": [
       "array([[-2.7139655e-01,  8.1092104e-02, -2.3679076e-02, ...,\n",
       "        -4.6856251e-01,  5.2570064e-02,  2.4029304e-01],\n",
       "       [-4.5710164e-01, -7.0614681e-02,  7.0186621e-03, ...,\n",
       "         3.4151590e-01,  6.6628605e-01,  2.1835957e-01],\n",
       "       [-4.2948008e-01, -1.3847241e-02, -5.4426279e-02, ...,\n",
       "         2.7176657e-01,  6.3023746e-01,  2.0602919e-01],\n",
       "       ...,\n",
       "       [ 3.5432735e-03,  2.6923401e-04,  1.0970696e-03, ...,\n",
       "         4.5748334e-03,  3.5547253e-03,  2.3294524e-03],\n",
       "       [-1.9738213e-03, -6.2862844e-03, -2.1205323e-03, ...,\n",
       "        -2.0258485e-03,  8.1458660e-03,  2.8332591e-03],\n",
       "       [-2.4964832e-04, -8.6847757e-04, -2.2691030e-04, ...,\n",
       "        -4.4478368e-04, -4.3195429e-05, -5.5013713e-04]], dtype=float32)"
      ]
     },
     "execution_count": 132,
     "metadata": {},
     "output_type": "execute_result"
    }
   ],
   "source": [
    "tag_model.item_factors"
   ]
  },
  {
   "cell_type": "code",
   "execution_count": 26,
   "metadata": {},
   "outputs": [
    {
     "data": {
      "text/plain": [
       "array([[ 3.55746090e-01, -5.69548428e-01, -5.59754260e-02, ...,\n",
       "         4.83457536e-01,  1.95368275e-01,  1.14752978e-01],\n",
       "       [ 1.13077201e-01,  4.99642581e-01,  1.01401411e-01, ...,\n",
       "         8.70525062e-01,  5.08861303e-01,  4.67959046e-01],\n",
       "       [ 1.34080434e-02,  5.13347864e-01,  1.56607270e-01, ...,\n",
       "         6.01837337e-01,  4.08071131e-01,  3.32719356e-01],\n",
       "       ...,\n",
       "       [-5.10524551e-04,  3.28546972e-04,  8.81741638e-04, ...,\n",
       "         8.72330857e-04,  1.68862971e-04,  1.18788111e-03],\n",
       "       [ 9.88858286e-04,  1.02399255e-03,  3.29685328e-03, ...,\n",
       "         1.42479164e-03, -1.69632386e-03, -1.65981124e-03],\n",
       "       [ 9.73270435e-05,  1.62653669e-04, -2.30579590e-05, ...,\n",
       "         1.98975016e-04,  2.20649337e-04, -1.06205756e-04]], dtype=float32)"
      ]
     },
     "execution_count": 26,
     "metadata": {},
     "output_type": "execute_result"
    }
   ],
   "source": [
    "tag_model.item_factors"
   ]
  },
  {
   "cell_type": "markdown",
   "metadata": {},
   "source": [
    "## 최종 json파일 추출"
   ]
  },
  {
   "cell_type": "code",
   "execution_count": 133,
   "metadata": {
    "ExecuteTime": {
     "end_time": "2020-05-13T09:00:02.072383Z",
     "start_time": "2020-05-13T09:00:01.966829Z"
    }
   },
   "outputs": [],
   "source": [
    "returnval = []\n",
    "for _id, rec, tag_rec in zip(test_ids, item_ret, tag_ret):\n",
    "    returnval.append({\n",
    "        \"id\": _id,\n",
    "        \"songs\": rec[:100],\n",
    "        \"tags\": tag_rec[:10]\n",
    "    })"
   ]
  },
  {
   "cell_type": "code",
   "execution_count": 134,
   "metadata": {
    "ExecuteTime": {
     "end_time": "2020-05-13T09:00:03.088221Z",
     "start_time": "2020-05-13T09:00:02.576789Z"
    }
   },
   "outputs": [],
   "source": [
    "import json\n",
    "with open('ret.json', 'w', encoding='utf-8') as f:\n",
    "    f.write(json.dumps(returnval, ensure_ascii=False))"
   ]
  },
  {
   "cell_type": "code",
   "execution_count": null,
   "metadata": {},
   "outputs": [],
   "source": []
  }
 ],
 "metadata": {
  "kernelspec": {
   "display_name": "Python 3",
   "language": "python",
   "name": "python3"
  },
  "language_info": {
   "codemirror_mode": {
    "name": "ipython",
    "version": 3
   },
   "file_extension": ".py",
   "mimetype": "text/x-python",
   "name": "python",
   "nbconvert_exporter": "python",
   "pygments_lexer": "ipython3",
   "version": "3.7.4"
  }
 },
 "nbformat": 4,
 "nbformat_minor": 2
}
