{
 "cells": [
  {
   "cell_type": "code",
   "execution_count": 1,
   "metadata": {
    "ExecuteTime": {
     "end_time": "2020-05-19T03:39:03.014627Z",
     "start_time": "2020-05-19T03:39:02.981755Z"
    }
   },
   "outputs": [],
   "source": [
    "from implicit.evaluation import  *\n",
    "from implicit.als import AlternatingLeastSquares as ALS\n",
    "from implicit.bpr import BayesianPersonalizedRanking as BPR\n",
    "import numpy as np\n",
    "import os\n",
    "os.environ['KMP_DUPLICATE_LIB_OK']='True'\n",
    "from sklearn.utils import shuffle\n",
    "from scipy.sparse import *\n",
    "# import rec_util\n",
    "pd.options.display.float_format = '{:.2f}'.format\n",
    "import pandas as pd\n",
    "from tqdm import tqdm\n",
    "tqdm.pandas()"
   ]
  },
  {
   "cell_type": "code",
   "execution_count": 2,
   "metadata": {
    "ExecuteTime": {
     "end_time": "2020-05-19T03:39:14.454752Z",
     "start_time": "2020-05-19T03:39:03.016594Z"
    }
   },
   "outputs": [],
   "source": [
    "song_meta = pd.read_json('./raw_data/song_meta.json')\n",
    "train = pd.read_json('./raw_data/train.json')\n",
    "val = pd.read_json('./raw_data/val.json')\n",
    "genre = pd.read_json('./raw_data/genre_gn_all.json', typ = 'seriese')"
   ]
  },
  {
   "cell_type": "code",
   "execution_count": 3,
   "metadata": {
    "ExecuteTime": {
     "end_time": "2020-05-19T03:39:14.476232Z",
     "start_time": "2020-05-19T03:39:14.457429Z"
    }
   },
   "outputs": [
    {
     "data": {
      "text/html": [
       "<div>\n",
       "<style scoped>\n",
       "    .dataframe tbody tr th:only-of-type {\n",
       "        vertical-align: middle;\n",
       "    }\n",
       "\n",
       "    .dataframe tbody tr th {\n",
       "        vertical-align: top;\n",
       "    }\n",
       "\n",
       "    .dataframe thead th {\n",
       "        text-align: right;\n",
       "    }\n",
       "</style>\n",
       "<table border=\"1\" class=\"dataframe\">\n",
       "  <thead>\n",
       "    <tr style=\"text-align: right;\">\n",
       "      <th></th>\n",
       "      <th>song_gn_dtl_gnr_basket</th>\n",
       "      <th>issue_date</th>\n",
       "      <th>album_name</th>\n",
       "      <th>album_id</th>\n",
       "      <th>artist_id_basket</th>\n",
       "      <th>song_name</th>\n",
       "      <th>song_gn_gnr_basket</th>\n",
       "      <th>artist_name_basket</th>\n",
       "      <th>id</th>\n",
       "    </tr>\n",
       "  </thead>\n",
       "  <tbody>\n",
       "    <tr>\n",
       "      <td>0</td>\n",
       "      <td>[GN0901]</td>\n",
       "      <td>20140512</td>\n",
       "      <td>불후의 명곡 - 7080 추억의 얄개시대 팝송베스트</td>\n",
       "      <td>2255639</td>\n",
       "      <td>[2727]</td>\n",
       "      <td>Feelings</td>\n",
       "      <td>[GN0900]</td>\n",
       "      <td>[Various Artists]</td>\n",
       "      <td>0</td>\n",
       "    </tr>\n",
       "    <tr>\n",
       "      <td>1</td>\n",
       "      <td>[GN1601, GN1606]</td>\n",
       "      <td>20080421</td>\n",
       "      <td>Bach : Partitas Nos. 2, 3 &amp; 4</td>\n",
       "      <td>376431</td>\n",
       "      <td>[29966]</td>\n",
       "      <td>Bach : Partita No. 4 In D Major, BWV 828 - II....</td>\n",
       "      <td>[GN1600]</td>\n",
       "      <td>[Murray Perahia]</td>\n",
       "      <td>1</td>\n",
       "    </tr>\n",
       "    <tr>\n",
       "      <td>2</td>\n",
       "      <td>[GN0901]</td>\n",
       "      <td>20180518</td>\n",
       "      <td>Hit</td>\n",
       "      <td>4698747</td>\n",
       "      <td>[3361]</td>\n",
       "      <td>Solsbury Hill (Remastered 2002)</td>\n",
       "      <td>[GN0900]</td>\n",
       "      <td>[Peter Gabriel]</td>\n",
       "      <td>2</td>\n",
       "    </tr>\n",
       "    <tr>\n",
       "      <td>3</td>\n",
       "      <td>[GN1102, GN1101]</td>\n",
       "      <td>20151016</td>\n",
       "      <td>Feeling Right (Everything Is Nice) (Feat. Popc...</td>\n",
       "      <td>2644882</td>\n",
       "      <td>[838543]</td>\n",
       "      <td>Feeling Right (Everything Is Nice) (Feat. Popc...</td>\n",
       "      <td>[GN1100]</td>\n",
       "      <td>[Matoma]</td>\n",
       "      <td>3</td>\n",
       "    </tr>\n",
       "    <tr>\n",
       "      <td>4</td>\n",
       "      <td>[GN1802, GN1801]</td>\n",
       "      <td>20110824</td>\n",
       "      <td>그남자 그여자</td>\n",
       "      <td>2008470</td>\n",
       "      <td>[560160]</td>\n",
       "      <td>그남자 그여자</td>\n",
       "      <td>[GN1800]</td>\n",
       "      <td>[Jude Law]</td>\n",
       "      <td>4</td>\n",
       "    </tr>\n",
       "  </tbody>\n",
       "</table>\n",
       "</div>"
      ],
      "text/plain": [
       "  song_gn_dtl_gnr_basket  issue_date  \\\n",
       "0               [GN0901]    20140512   \n",
       "1       [GN1601, GN1606]    20080421   \n",
       "2               [GN0901]    20180518   \n",
       "3       [GN1102, GN1101]    20151016   \n",
       "4       [GN1802, GN1801]    20110824   \n",
       "\n",
       "                                          album_name  album_id  \\\n",
       "0                       불후의 명곡 - 7080 추억의 얄개시대 팝송베스트   2255639   \n",
       "1                      Bach : Partitas Nos. 2, 3 & 4    376431   \n",
       "2                                                Hit   4698747   \n",
       "3  Feeling Right (Everything Is Nice) (Feat. Popc...   2644882   \n",
       "4                                            그남자 그여자   2008470   \n",
       "\n",
       "  artist_id_basket                                          song_name  \\\n",
       "0           [2727]                                           Feelings   \n",
       "1          [29966]  Bach : Partita No. 4 In D Major, BWV 828 - II....   \n",
       "2           [3361]                    Solsbury Hill (Remastered 2002)   \n",
       "3         [838543]  Feeling Right (Everything Is Nice) (Feat. Popc...   \n",
       "4         [560160]                                            그남자 그여자   \n",
       "\n",
       "  song_gn_gnr_basket artist_name_basket  id  \n",
       "0           [GN0900]  [Various Artists]   0  \n",
       "1           [GN1600]   [Murray Perahia]   1  \n",
       "2           [GN0900]    [Peter Gabriel]   2  \n",
       "3           [GN1100]           [Matoma]   3  \n",
       "4           [GN1800]         [Jude Law]   4  "
      ]
     },
     "execution_count": 3,
     "metadata": {},
     "output_type": "execute_result"
    }
   ],
   "source": [
    "song_meta.head()"
   ]
  },
  {
   "cell_type": "markdown",
   "metadata": {},
   "source": [
    "## id별 장르 구분"
   ]
  },
  {
   "cell_type": "code",
   "execution_count": 4,
   "metadata": {
    "ExecuteTime": {
     "end_time": "2020-05-19T03:39:14.527632Z",
     "start_time": "2020-05-19T03:39:14.479035Z"
    },
    "scrolled": true
   },
   "outputs": [
    {
     "data": {
      "text/html": [
       "<div>\n",
       "<style scoped>\n",
       "    .dataframe tbody tr th:only-of-type {\n",
       "        vertical-align: middle;\n",
       "    }\n",
       "\n",
       "    .dataframe tbody tr th {\n",
       "        vertical-align: top;\n",
       "    }\n",
       "\n",
       "    .dataframe thead th {\n",
       "        text-align: right;\n",
       "    }\n",
       "</style>\n",
       "<table border=\"1\" class=\"dataframe\">\n",
       "  <thead>\n",
       "    <tr style=\"text-align: right;\">\n",
       "      <th></th>\n",
       "      <th>id</th>\n",
       "      <th>song_gn_dtl_gnr_basket</th>\n",
       "      <th>song_gn_gnr_basket</th>\n",
       "    </tr>\n",
       "  </thead>\n",
       "  <tbody>\n",
       "    <tr>\n",
       "      <td>0</td>\n",
       "      <td>0</td>\n",
       "      <td>[GN0901]</td>\n",
       "      <td>[GN0900]</td>\n",
       "    </tr>\n",
       "    <tr>\n",
       "      <td>1</td>\n",
       "      <td>1</td>\n",
       "      <td>[GN1601, GN1606]</td>\n",
       "      <td>[GN1600]</td>\n",
       "    </tr>\n",
       "    <tr>\n",
       "      <td>2</td>\n",
       "      <td>2</td>\n",
       "      <td>[GN0901]</td>\n",
       "      <td>[GN0900]</td>\n",
       "    </tr>\n",
       "    <tr>\n",
       "      <td>3</td>\n",
       "      <td>3</td>\n",
       "      <td>[GN1102, GN1101]</td>\n",
       "      <td>[GN1100]</td>\n",
       "    </tr>\n",
       "    <tr>\n",
       "      <td>4</td>\n",
       "      <td>4</td>\n",
       "      <td>[GN1802, GN1801]</td>\n",
       "      <td>[GN1800]</td>\n",
       "    </tr>\n",
       "    <tr>\n",
       "      <td>...</td>\n",
       "      <td>...</td>\n",
       "      <td>...</td>\n",
       "      <td>...</td>\n",
       "    </tr>\n",
       "    <tr>\n",
       "      <td>707984</td>\n",
       "      <td>707984</td>\n",
       "      <td>[GN2001]</td>\n",
       "      <td>[GN2000]</td>\n",
       "    </tr>\n",
       "    <tr>\n",
       "      <td>707985</td>\n",
       "      <td>707985</td>\n",
       "      <td>[GN0901]</td>\n",
       "      <td>[GN0900]</td>\n",
       "    </tr>\n",
       "    <tr>\n",
       "      <td>707986</td>\n",
       "      <td>707986</td>\n",
       "      <td>[GN0105, GN0101]</td>\n",
       "      <td>[GN0100]</td>\n",
       "    </tr>\n",
       "    <tr>\n",
       "      <td>707987</td>\n",
       "      <td>707987</td>\n",
       "      <td>[GN1807, GN1801]</td>\n",
       "      <td>[GN1800]</td>\n",
       "    </tr>\n",
       "    <tr>\n",
       "      <td>707988</td>\n",
       "      <td>707988</td>\n",
       "      <td>[GN0601, GN0604]</td>\n",
       "      <td>[GN0600]</td>\n",
       "    </tr>\n",
       "  </tbody>\n",
       "</table>\n",
       "<p>707989 rows × 3 columns</p>\n",
       "</div>"
      ],
      "text/plain": [
       "            id song_gn_dtl_gnr_basket song_gn_gnr_basket\n",
       "0            0               [GN0901]           [GN0900]\n",
       "1            1       [GN1601, GN1606]           [GN1600]\n",
       "2            2               [GN0901]           [GN0900]\n",
       "3            3       [GN1102, GN1101]           [GN1100]\n",
       "4            4       [GN1802, GN1801]           [GN1800]\n",
       "...        ...                    ...                ...\n",
       "707984  707984               [GN2001]           [GN2000]\n",
       "707985  707985               [GN0901]           [GN0900]\n",
       "707986  707986       [GN0105, GN0101]           [GN0100]\n",
       "707987  707987       [GN1807, GN1801]           [GN1800]\n",
       "707988  707988       [GN0601, GN0604]           [GN0600]\n",
       "\n",
       "[707989 rows x 3 columns]"
      ]
     },
     "execution_count": 4,
     "metadata": {},
     "output_type": "execute_result"
    }
   ],
   "source": [
    "song_meta[['id','song_gn_dtl_gnr_basket','song_gn_gnr_basket']]"
   ]
  },
  {
   "cell_type": "code",
   "execution_count": 5,
   "metadata": {
    "ExecuteTime": {
     "end_time": "2020-05-19T03:39:14.831781Z",
     "start_time": "2020-05-19T03:39:14.529679Z"
    }
   },
   "outputs": [],
   "source": [
    "song_meta['total_gn'] = song_meta['song_gn_dtl_gnr_basket'] + song_meta['song_gn_gnr_basket']"
   ]
  },
  {
   "cell_type": "code",
   "execution_count": 6,
   "metadata": {
    "ExecuteTime": {
     "end_time": "2020-05-19T03:39:15.500343Z",
     "start_time": "2020-05-19T03:39:14.833663Z"
    }
   },
   "outputs": [
    {
     "data": {
      "text/html": [
       "<div>\n",
       "<style scoped>\n",
       "    .dataframe tbody tr th:only-of-type {\n",
       "        vertical-align: middle;\n",
       "    }\n",
       "\n",
       "    .dataframe tbody tr th {\n",
       "        vertical-align: top;\n",
       "    }\n",
       "\n",
       "    .dataframe thead th {\n",
       "        text-align: right;\n",
       "    }\n",
       "</style>\n",
       "<table border=\"1\" class=\"dataframe\">\n",
       "  <thead>\n",
       "    <tr style=\"text-align: right;\">\n",
       "      <th></th>\n",
       "      <th>id</th>\n",
       "      <th>total_gn</th>\n",
       "    </tr>\n",
       "  </thead>\n",
       "  <tbody>\n",
       "    <tr>\n",
       "      <td>0</td>\n",
       "      <td>0</td>\n",
       "      <td>[GN0901, GN0900]</td>\n",
       "    </tr>\n",
       "    <tr>\n",
       "      <td>1</td>\n",
       "      <td>1</td>\n",
       "      <td>[GN1601, GN1606, GN1600]</td>\n",
       "    </tr>\n",
       "    <tr>\n",
       "      <td>2</td>\n",
       "      <td>2</td>\n",
       "      <td>[GN0901, GN0900]</td>\n",
       "    </tr>\n",
       "    <tr>\n",
       "      <td>3</td>\n",
       "      <td>3</td>\n",
       "      <td>[GN1102, GN1101, GN1100]</td>\n",
       "    </tr>\n",
       "    <tr>\n",
       "      <td>4</td>\n",
       "      <td>4</td>\n",
       "      <td>[GN1802, GN1801, GN1800]</td>\n",
       "    </tr>\n",
       "    <tr>\n",
       "      <td>...</td>\n",
       "      <td>...</td>\n",
       "      <td>...</td>\n",
       "    </tr>\n",
       "    <tr>\n",
       "      <td>707984</td>\n",
       "      <td>707984</td>\n",
       "      <td>[GN2001, GN2000]</td>\n",
       "    </tr>\n",
       "    <tr>\n",
       "      <td>707985</td>\n",
       "      <td>707985</td>\n",
       "      <td>[GN0901, GN0900]</td>\n",
       "    </tr>\n",
       "    <tr>\n",
       "      <td>707986</td>\n",
       "      <td>707986</td>\n",
       "      <td>[GN0105, GN0101, GN0100]</td>\n",
       "    </tr>\n",
       "    <tr>\n",
       "      <td>707987</td>\n",
       "      <td>707987</td>\n",
       "      <td>[GN1807, GN1801, GN1800]</td>\n",
       "    </tr>\n",
       "    <tr>\n",
       "      <td>707988</td>\n",
       "      <td>707988</td>\n",
       "      <td>[GN0601, GN0604, GN0600]</td>\n",
       "    </tr>\n",
       "  </tbody>\n",
       "</table>\n",
       "<p>707989 rows × 2 columns</p>\n",
       "</div>"
      ],
      "text/plain": [
       "            id                  total_gn\n",
       "0            0          [GN0901, GN0900]\n",
       "1            1  [GN1601, GN1606, GN1600]\n",
       "2            2          [GN0901, GN0900]\n",
       "3            3  [GN1102, GN1101, GN1100]\n",
       "4            4  [GN1802, GN1801, GN1800]\n",
       "...        ...                       ...\n",
       "707984  707984          [GN2001, GN2000]\n",
       "707985  707985          [GN0901, GN0900]\n",
       "707986  707986  [GN0105, GN0101, GN0100]\n",
       "707987  707987  [GN1807, GN1801, GN1800]\n",
       "707988  707988  [GN0601, GN0604, GN0600]\n",
       "\n",
       "[707989 rows x 2 columns]"
      ]
     },
     "execution_count": 6,
     "metadata": {},
     "output_type": "execute_result"
    }
   ],
   "source": [
    "song_meta[['id','total_gn']]"
   ]
  },
  {
   "cell_type": "code",
   "execution_count": 7,
   "metadata": {
    "ExecuteTime": {
     "end_time": "2020-05-19T03:39:17.089194Z",
     "start_time": "2020-05-19T03:39:15.502254Z"
    }
   },
   "outputs": [
    {
     "data": {
      "text/html": [
       "<div>\n",
       "<style scoped>\n",
       "    .dataframe tbody tr th:only-of-type {\n",
       "        vertical-align: middle;\n",
       "    }\n",
       "\n",
       "    .dataframe tbody tr th {\n",
       "        vertical-align: top;\n",
       "    }\n",
       "\n",
       "    .dataframe thead th {\n",
       "        text-align: right;\n",
       "    }\n",
       "</style>\n",
       "<table border=\"1\" class=\"dataframe\">\n",
       "  <thead>\n",
       "    <tr style=\"text-align: right;\">\n",
       "      <th></th>\n",
       "      <th>id</th>\n",
       "      <th>total_gn</th>\n",
       "    </tr>\n",
       "  </thead>\n",
       "  <tbody>\n",
       "    <tr>\n",
       "      <td>0</td>\n",
       "      <td>0</td>\n",
       "      <td>GN0901</td>\n",
       "    </tr>\n",
       "    <tr>\n",
       "      <td>0</td>\n",
       "      <td>0</td>\n",
       "      <td>GN0900</td>\n",
       "    </tr>\n",
       "    <tr>\n",
       "      <td>1</td>\n",
       "      <td>1</td>\n",
       "      <td>GN1601</td>\n",
       "    </tr>\n",
       "    <tr>\n",
       "      <td>1</td>\n",
       "      <td>1</td>\n",
       "      <td>GN1606</td>\n",
       "    </tr>\n",
       "    <tr>\n",
       "      <td>1</td>\n",
       "      <td>1</td>\n",
       "      <td>GN1600</td>\n",
       "    </tr>\n",
       "    <tr>\n",
       "      <td>...</td>\n",
       "      <td>...</td>\n",
       "      <td>...</td>\n",
       "    </tr>\n",
       "    <tr>\n",
       "      <td>707987</td>\n",
       "      <td>707987</td>\n",
       "      <td>GN1801</td>\n",
       "    </tr>\n",
       "    <tr>\n",
       "      <td>707987</td>\n",
       "      <td>707987</td>\n",
       "      <td>GN1800</td>\n",
       "    </tr>\n",
       "    <tr>\n",
       "      <td>707988</td>\n",
       "      <td>707988</td>\n",
       "      <td>GN0601</td>\n",
       "    </tr>\n",
       "    <tr>\n",
       "      <td>707988</td>\n",
       "      <td>707988</td>\n",
       "      <td>GN0604</td>\n",
       "    </tr>\n",
       "    <tr>\n",
       "      <td>707988</td>\n",
       "      <td>707988</td>\n",
       "      <td>GN0600</td>\n",
       "    </tr>\n",
       "  </tbody>\n",
       "</table>\n",
       "<p>2316313 rows × 2 columns</p>\n",
       "</div>"
      ],
      "text/plain": [
       "            id total_gn\n",
       "0            0   GN0901\n",
       "0            0   GN0900\n",
       "1            1   GN1601\n",
       "1            1   GN1606\n",
       "1            1   GN1600\n",
       "...        ...      ...\n",
       "707987  707987   GN1801\n",
       "707987  707987   GN1800\n",
       "707988  707988   GN0601\n",
       "707988  707988   GN0604\n",
       "707988  707988   GN0600\n",
       "\n",
       "[2316313 rows x 2 columns]"
      ]
     },
     "execution_count": 7,
     "metadata": {},
     "output_type": "execute_result"
    }
   ],
   "source": [
    "df = song_meta[['id','total_gn']].explode('total_gn')\n",
    "# df1.explode('song_gn_dtl_gnr_basket')\n",
    "df"
   ]
  },
  {
   "cell_type": "markdown",
   "metadata": {},
   "source": [
    "# 이진행렬 만들기"
   ]
  },
  {
   "cell_type": "code",
   "execution_count": 8,
   "metadata": {
    "ExecuteTime": {
     "end_time": "2020-05-19T03:39:35.314197Z",
     "start_time": "2020-05-19T03:39:17.091135Z"
    }
   },
   "outputs": [],
   "source": [
    "df1 = pd.get_dummies(df['total_gn']).max(level=0)"
   ]
  },
  {
   "cell_type": "code",
   "execution_count": 9,
   "metadata": {
    "ExecuteTime": {
     "end_time": "2020-05-19T03:39:35.330360Z",
     "start_time": "2020-05-19T03:39:35.321742Z"
    }
   },
   "outputs": [
    {
     "data": {
      "text/plain": [
       "(707989, 249)"
      ]
     },
     "execution_count": 9,
     "metadata": {},
     "output_type": "execute_result"
    }
   ],
   "source": [
    "df1.shape"
   ]
  },
  {
   "cell_type": "markdown",
   "metadata": {},
   "source": [
    "## 빠진 장르 확인"
   ]
  },
  {
   "cell_type": "code",
   "execution_count": 10,
   "metadata": {
    "ExecuteTime": {
     "end_time": "2020-05-19T03:39:35.338595Z",
     "start_time": "2020-05-19T03:39:35.333522Z"
    }
   },
   "outputs": [],
   "source": [
    "a = df1.columns.difference(['id']).tolist()"
   ]
  },
  {
   "cell_type": "code",
   "execution_count": 11,
   "metadata": {
    "ExecuteTime": {
     "end_time": "2020-05-19T03:39:35.343640Z",
     "start_time": "2020-05-19T03:39:35.340505Z"
    }
   },
   "outputs": [],
   "source": [
    "b = genre.index.tolist()"
   ]
  },
  {
   "cell_type": "code",
   "execution_count": 12,
   "metadata": {
    "ExecuteTime": {
     "end_time": "2020-05-19T03:39:35.348436Z",
     "start_time": "2020-05-19T03:39:35.345389Z"
    }
   },
   "outputs": [],
   "source": [
    "s = set(a)\n",
    "temp3 = [x for x in b if x not in s]"
   ]
  },
  {
   "cell_type": "code",
   "execution_count": 13,
   "metadata": {
    "ExecuteTime": {
     "end_time": "2020-05-19T03:39:35.353925Z",
     "start_time": "2020-05-19T03:39:35.350424Z"
    }
   },
   "outputs": [
    {
     "data": {
      "text/plain": [
       "['GN0305', 'GN1612', 'GN1709', 'GN2110', 'GN2604', 'GN3000']"
      ]
     },
     "execution_count": 13,
     "metadata": {},
     "output_type": "execute_result"
    }
   ],
   "source": [
    "temp3"
   ]
  },
  {
   "cell_type": "code",
   "execution_count": 14,
   "metadata": {
    "ExecuteTime": {
     "end_time": "2020-05-19T03:39:35.378255Z",
     "start_time": "2020-05-19T03:39:35.355570Z"
    }
   },
   "outputs": [
    {
     "data": {
      "text/html": [
       "<div>\n",
       "<style scoped>\n",
       "    .dataframe tbody tr th:only-of-type {\n",
       "        vertical-align: middle;\n",
       "    }\n",
       "\n",
       "    .dataframe tbody tr th {\n",
       "        vertical-align: top;\n",
       "    }\n",
       "\n",
       "    .dataframe thead th {\n",
       "        text-align: right;\n",
       "    }\n",
       "</style>\n",
       "<table border=\"1\" class=\"dataframe\">\n",
       "  <thead>\n",
       "    <tr style=\"text-align: right;\">\n",
       "      <th></th>\n",
       "      <th>index</th>\n",
       "      <th>0</th>\n",
       "    </tr>\n",
       "  </thead>\n",
       "  <tbody>\n",
       "    <tr>\n",
       "      <td>0</td>\n",
       "      <td>GN0100</td>\n",
       "      <td>발라드</td>\n",
       "    </tr>\n",
       "    <tr>\n",
       "      <td>1</td>\n",
       "      <td>GN0101</td>\n",
       "      <td>세부장르전체</td>\n",
       "    </tr>\n",
       "    <tr>\n",
       "      <td>2</td>\n",
       "      <td>GN0102</td>\n",
       "      <td>'80</td>\n",
       "    </tr>\n",
       "    <tr>\n",
       "      <td>3</td>\n",
       "      <td>GN0103</td>\n",
       "      <td>'90</td>\n",
       "    </tr>\n",
       "    <tr>\n",
       "      <td>4</td>\n",
       "      <td>GN0104</td>\n",
       "      <td>'00</td>\n",
       "    </tr>\n",
       "    <tr>\n",
       "      <td>...</td>\n",
       "      <td>...</td>\n",
       "      <td>...</td>\n",
       "    </tr>\n",
       "    <tr>\n",
       "      <td>249</td>\n",
       "      <td>GN2900</td>\n",
       "      <td>뮤지컬</td>\n",
       "    </tr>\n",
       "    <tr>\n",
       "      <td>250</td>\n",
       "      <td>GN2901</td>\n",
       "      <td>세부장르전체</td>\n",
       "    </tr>\n",
       "    <tr>\n",
       "      <td>251</td>\n",
       "      <td>GN2902</td>\n",
       "      <td>국내뮤지컬</td>\n",
       "    </tr>\n",
       "    <tr>\n",
       "      <td>252</td>\n",
       "      <td>GN2903</td>\n",
       "      <td>국외뮤지컬</td>\n",
       "    </tr>\n",
       "    <tr>\n",
       "      <td>253</td>\n",
       "      <td>GN3000</td>\n",
       "      <td>크리스마스</td>\n",
       "    </tr>\n",
       "  </tbody>\n",
       "</table>\n",
       "<p>254 rows × 2 columns</p>\n",
       "</div>"
      ],
      "text/plain": [
       "      index       0\n",
       "0    GN0100     발라드\n",
       "1    GN0101  세부장르전체\n",
       "2    GN0102     '80\n",
       "3    GN0103     '90\n",
       "4    GN0104     '00\n",
       "..      ...     ...\n",
       "249  GN2900     뮤지컬\n",
       "250  GN2901  세부장르전체\n",
       "251  GN2902   국내뮤지컬\n",
       "252  GN2903   국외뮤지컬\n",
       "253  GN3000   크리스마스\n",
       "\n",
       "[254 rows x 2 columns]"
      ]
     },
     "execution_count": 14,
     "metadata": {},
     "output_type": "execute_result"
    }
   ],
   "source": [
    "genre_df = pd.DataFrame(genre).reset_index()\n",
    "genre_df"
   ]
  },
  {
   "cell_type": "code",
   "execution_count": 15,
   "metadata": {
    "ExecuteTime": {
     "end_time": "2020-05-19T03:39:35.390860Z",
     "start_time": "2020-05-19T03:39:35.381301Z"
    }
   },
   "outputs": [
    {
     "data": {
      "text/html": [
       "<div>\n",
       "<style scoped>\n",
       "    .dataframe tbody tr th:only-of-type {\n",
       "        vertical-align: middle;\n",
       "    }\n",
       "\n",
       "    .dataframe tbody tr th {\n",
       "        vertical-align: top;\n",
       "    }\n",
       "\n",
       "    .dataframe thead th {\n",
       "        text-align: right;\n",
       "    }\n",
       "</style>\n",
       "<table border=\"1\" class=\"dataframe\">\n",
       "  <thead>\n",
       "    <tr style=\"text-align: right;\">\n",
       "      <th></th>\n",
       "      <th>index</th>\n",
       "      <th>0</th>\n",
       "    </tr>\n",
       "  </thead>\n",
       "  <tbody>\n",
       "    <tr>\n",
       "      <td>253</td>\n",
       "      <td>GN3000</td>\n",
       "      <td>크리스마스</td>\n",
       "    </tr>\n",
       "  </tbody>\n",
       "</table>\n",
       "</div>"
      ],
      "text/plain": [
       "      index      0\n",
       "253  GN3000  크리스마스"
      ]
     },
     "execution_count": 15,
     "metadata": {},
     "output_type": "execute_result"
    }
   ],
   "source": [
    "genre_df[genre_df['index'] == 'GN3000']"
   ]
  },
  {
   "cell_type": "code",
   "execution_count": 16,
   "metadata": {
    "ExecuteTime": {
     "end_time": "2020-05-19T03:39:36.704419Z",
     "start_time": "2020-05-19T03:39:35.395132Z"
    }
   },
   "outputs": [],
   "source": [
    "tr_csr = csr_matrix(df1.values)"
   ]
  },
  {
   "cell_type": "code",
   "execution_count": 17,
   "metadata": {
    "ExecuteTime": {
     "end_time": "2020-05-19T03:39:36.710488Z",
     "start_time": "2020-05-19T03:39:36.706352Z"
    },
    "scrolled": true
   },
   "outputs": [
    {
     "data": {
      "text/plain": [
       "<707989x249 sparse matrix of type '<class 'numpy.uint8'>'\n",
       "\twith 2315254 stored elements in Compressed Sparse Row format>"
      ]
     },
     "execution_count": 17,
     "metadata": {},
     "output_type": "execute_result"
    }
   ],
   "source": [
    "tr_csr"
   ]
  },
  {
   "cell_type": "code",
   "execution_count": 18,
   "metadata": {
    "ExecuteTime": {
     "end_time": "2020-05-19T03:39:36.715192Z",
     "start_time": "2020-05-19T03:39:36.712237Z"
    }
   },
   "outputs": [],
   "source": [
    "# # 메모리 터짐\n",
    "# from sklearn.metrics import pairwise_distances\n",
    "# pairwise_matrix = pairwise_distances(tr_csr, tr_csr, n_jobs=-1)"
   ]
  },
  {
   "cell_type": "code",
   "execution_count": 19,
   "metadata": {
    "ExecuteTime": {
     "end_time": "2020-05-19T03:39:36.719724Z",
     "start_time": "2020-05-19T03:39:36.717650Z"
    }
   },
   "outputs": [],
   "source": [
    "# model 1"
   ]
  },
  {
   "cell_type": "code",
   "execution_count": 20,
   "metadata": {
    "ExecuteTime": {
     "end_time": "2020-05-19T03:39:36.727596Z",
     "start_time": "2020-05-19T03:39:36.721604Z"
    }
   },
   "outputs": [
    {
     "name": "stderr",
     "output_type": "stream",
     "text": [
      "WARNING:root:Intel MKL BLAS detected. Its highly recommend to set the environment variable 'export MKL_NUM_THREADS=1' to disable its internal multithreading\n"
     ]
    }
   ],
   "source": [
    "als_model = ALS(factors=256, regularization=0.08)"
   ]
  },
  {
   "cell_type": "markdown",
   "metadata": {},
   "source": [
    "## 모델링\n",
    "- 노래 100개 먼저 채우기"
   ]
  },
  {
   "cell_type": "code",
   "execution_count": 21,
   "metadata": {
    "ExecuteTime": {
     "end_time": "2020-05-19T03:44:43.426322Z",
     "start_time": "2020-05-19T03:39:36.733157Z"
    },
    "scrolled": true
   },
   "outputs": [
    {
     "data": {
      "application/vnd.jupyter.widget-view+json": {
       "model_id": "ffc5093ddae3423e9347af0c04d04fbb",
       "version_major": 2,
       "version_minor": 0
      },
      "text/plain": [
       "HBox(children=(IntProgress(value=0, max=15), HTML(value='')))"
      ]
     },
     "metadata": {},
     "output_type": "display_data"
    },
    {
     "name": "stdout",
     "output_type": "stream",
     "text": [
      "\n"
     ]
    }
   ],
   "source": [
    "als_model.fit(tr_csr * 32)"
   ]
  },
  {
   "cell_type": "code",
   "execution_count": 22,
   "metadata": {
    "ExecuteTime": {
     "end_time": "2020-05-19T03:44:44.348852Z",
     "start_time": "2020-05-19T03:44:43.428975Z"
    }
   },
   "outputs": [],
   "source": [
    "from numba import jit\n",
    "\n",
    "@jit\n",
    "def similar_songs(song_list):\n",
    "    ls = []\n",
    "    for song in song_list:\n",
    "        ls += als_model.similar_items(song, N=100)[:int(100 / len(song_list)) + 1]\n",
    "    return [i[0] for i in ls][:100]"
   ]
  },
  {
   "cell_type": "markdown",
   "metadata": {},
   "source": [
    "# 노래 먼저 100개 채우기, 약 5시간 걸림"
   ]
  },
  {
   "cell_type": "code",
   "execution_count": 23,
   "metadata": {
    "ExecuteTime": {
     "end_time": "2020-05-19T03:44:44.505348Z",
     "start_time": "2020-05-19T03:44:44.350986Z"
    }
   },
   "outputs": [],
   "source": [
    "val_song_100 = val.copy()"
   ]
  },
  {
   "cell_type": "code",
   "execution_count": 24,
   "metadata": {
    "ExecuteTime": {
     "end_time": "2020-05-19T08:43:03.657495Z",
     "start_time": "2020-05-19T03:44:44.507206Z"
    }
   },
   "outputs": [
    {
     "name": "stderr",
     "output_type": "stream",
     "text": [
      "100%|██████████| 23015/23015 [4:58:19<00:00,  1.29it/s]  \n"
     ]
    }
   ],
   "source": [
    "val_song_100['songs_predicted'] = val_song_100['songs'].progress_apply(similar_songs)"
   ]
  },
  {
   "cell_type": "code",
   "execution_count": 25,
   "metadata": {
    "ExecuteTime": {
     "end_time": "2020-05-19T08:43:04.146023Z",
     "start_time": "2020-05-19T08:43:03.711214Z"
    }
   },
   "outputs": [],
   "source": [
    "val_song_100.to_json('./val_song_100.json')"
   ]
  },
  {
   "cell_type": "markdown",
   "metadata": {},
   "source": [
    "## tag에 장르 붙이기"
   ]
  },
  {
   "cell_type": "code",
   "execution_count": 24,
   "metadata": {
    "ExecuteTime": {
     "end_time": "2020-05-19T02:53:05.025675Z",
     "start_time": "2020-05-19T02:53:05.008806Z"
    }
   },
   "outputs": [],
   "source": [
    "tagandsong = train.loc[:,['tags','songs']]"
   ]
  },
  {
   "cell_type": "code",
   "execution_count": 72,
   "metadata": {
    "ExecuteTime": {
     "end_time": "2020-05-19T03:09:24.722411Z",
     "start_time": "2020-05-19T03:09:23.043668Z"
    }
   },
   "outputs": [
    {
     "data": {
      "text/html": [
       "<div>\n",
       "<style scoped>\n",
       "    .dataframe tbody tr th:only-of-type {\n",
       "        vertical-align: middle;\n",
       "    }\n",
       "\n",
       "    .dataframe tbody tr th {\n",
       "        vertical-align: top;\n",
       "    }\n",
       "\n",
       "    .dataframe thead th {\n",
       "        text-align: right;\n",
       "    }\n",
       "</style>\n",
       "<table border=\"1\" class=\"dataframe\">\n",
       "  <thead>\n",
       "    <tr style=\"text-align: right;\">\n",
       "      <th></th>\n",
       "      <th>id</th>\n",
       "      <th>total_gn</th>\n",
       "    </tr>\n",
       "  </thead>\n",
       "  <tbody>\n",
       "    <tr>\n",
       "      <td>0</td>\n",
       "      <td>0</td>\n",
       "      <td>GN0901</td>\n",
       "    </tr>\n",
       "    <tr>\n",
       "      <td>0</td>\n",
       "      <td>0</td>\n",
       "      <td>GN0900</td>\n",
       "    </tr>\n",
       "    <tr>\n",
       "      <td>1</td>\n",
       "      <td>1</td>\n",
       "      <td>GN1601</td>\n",
       "    </tr>\n",
       "    <tr>\n",
       "      <td>1</td>\n",
       "      <td>1</td>\n",
       "      <td>GN1606</td>\n",
       "    </tr>\n",
       "    <tr>\n",
       "      <td>1</td>\n",
       "      <td>1</td>\n",
       "      <td>GN1600</td>\n",
       "    </tr>\n",
       "    <tr>\n",
       "      <td>...</td>\n",
       "      <td>...</td>\n",
       "      <td>...</td>\n",
       "    </tr>\n",
       "    <tr>\n",
       "      <td>707987</td>\n",
       "      <td>707987</td>\n",
       "      <td>GN1801</td>\n",
       "    </tr>\n",
       "    <tr>\n",
       "      <td>707987</td>\n",
       "      <td>707987</td>\n",
       "      <td>GN1800</td>\n",
       "    </tr>\n",
       "    <tr>\n",
       "      <td>707988</td>\n",
       "      <td>707988</td>\n",
       "      <td>GN0601</td>\n",
       "    </tr>\n",
       "    <tr>\n",
       "      <td>707988</td>\n",
       "      <td>707988</td>\n",
       "      <td>GN0604</td>\n",
       "    </tr>\n",
       "    <tr>\n",
       "      <td>707988</td>\n",
       "      <td>707988</td>\n",
       "      <td>GN0600</td>\n",
       "    </tr>\n",
       "  </tbody>\n",
       "</table>\n",
       "<p>2316313 rows × 2 columns</p>\n",
       "</div>"
      ],
      "text/plain": [
       "            id total_gn\n",
       "0            0   GN0901\n",
       "0            0   GN0900\n",
       "1            1   GN1601\n",
       "1            1   GN1606\n",
       "1            1   GN1600\n",
       "...        ...      ...\n",
       "707987  707987   GN1801\n",
       "707987  707987   GN1800\n",
       "707988  707988   GN0601\n",
       "707988  707988   GN0604\n",
       "707988  707988   GN0600\n",
       "\n",
       "[2316313 rows x 2 columns]"
      ]
     },
     "execution_count": 72,
     "metadata": {},
     "output_type": "execute_result"
    }
   ],
   "source": [
    "df = song_meta[['id','total_gn']].explode('total_gn')\n",
    "# df1.explode('song_gn_dtl_gnr_basket')"
   ]
  },
  {
   "cell_type": "code",
   "execution_count": 49,
   "metadata": {
    "ExecuteTime": {
     "end_time": "2020-05-19T02:59:09.597001Z",
     "start_time": "2020-05-19T02:59:09.548982Z"
    }
   },
   "outputs": [],
   "source": [
    "ls = []\n",
    "for idx, x in tagandsong.iloc[:1].iterrows():\n",
    "    for tag in x['tags']:\n",
    "        for song in x['songs']:\n",
    "            ls.append({'tag' : tag,\n",
    "            'genre': df[df['id'] == song]['total_gn'].tolist()})"
   ]
  },
  {
   "cell_type": "code",
   "execution_count": 73,
   "metadata": {
    "ExecuteTime": {
     "end_time": "2020-05-19T03:09:54.179420Z",
     "start_time": "2020-05-19T03:09:54.175391Z"
    }
   },
   "outputs": [],
   "source": [
    "def song_tag_match(x):\n",
    "    ls = []\n",
    "    for tag in x['tags']:\n",
    "        for song in x['songs']:\n",
    "            dt = {'tag' : tag,\n",
    "            'genre': df[df['id'] == song]['total_gn'].tolist()}\n",
    "            ls.append(dt)\n",
    "            dt = {}\n",
    "    return ls"
   ]
  },
  {
   "cell_type": "markdown",
   "metadata": {},
   "source": [
    "# 12시간 걸림"
   ]
  },
  {
   "cell_type": "code",
   "execution_count": 75,
   "metadata": {
    "ExecuteTime": {
     "end_time": "2020-05-19T03:12:13.251411Z",
     "start_time": "2020-05-19T03:12:13.247875Z"
    }
   },
   "outputs": [
    {
     "data": {
      "text/plain": [
       "(115071, 2)"
      ]
     },
     "execution_count": 75,
     "metadata": {},
     "output_type": "execute_result"
    }
   ],
   "source": [
    "tagandsong.shape"
   ]
  },
  {
   "cell_type": "code",
   "execution_count": 74,
   "metadata": {
    "ExecuteTime": {
     "end_time": "2020-05-19T03:09:58.338397Z",
     "start_time": "2020-05-19T03:09:54.889236Z"
    }
   },
   "outputs": [],
   "source": [
    "result = tagandsong.iloc[:10].apply(lambda x: song_tag_match(x), axis=1)"
   ]
  },
  {
   "cell_type": "code",
   "execution_count": 68,
   "metadata": {
    "ExecuteTime": {
     "end_time": "2020-05-19T03:05:40.558811Z",
     "start_time": "2020-05-19T03:05:40.553671Z"
    },
    "scrolled": false
   },
   "outputs": [],
   "source": [
    "result_df = pd.DataFrame(result.sum())"
   ]
  },
  {
   "cell_type": "code",
   "execution_count": 69,
   "metadata": {
    "ExecuteTime": {
     "end_time": "2020-05-19T03:05:41.284583Z",
     "start_time": "2020-05-19T03:05:41.233904Z"
    }
   },
   "outputs": [
    {
     "data": {
      "text/html": [
       "<div>\n",
       "<style scoped>\n",
       "    .dataframe tbody tr th:only-of-type {\n",
       "        vertical-align: middle;\n",
       "    }\n",
       "\n",
       "    .dataframe tbody tr th {\n",
       "        vertical-align: top;\n",
       "    }\n",
       "\n",
       "    .dataframe thead th {\n",
       "        text-align: right;\n",
       "    }\n",
       "</style>\n",
       "<table border=\"1\" class=\"dataframe\">\n",
       "  <thead>\n",
       "    <tr style=\"text-align: right;\">\n",
       "      <th></th>\n",
       "      <th>genre</th>\n",
       "    </tr>\n",
       "    <tr>\n",
       "      <th>tag</th>\n",
       "      <th></th>\n",
       "    </tr>\n",
       "  </thead>\n",
       "  <tbody>\n",
       "    <tr>\n",
       "      <td>2017</td>\n",
       "      <td>[GN0901, GN0900, GN1201, GN1200, GN1105, GN110...</td>\n",
       "    </tr>\n",
       "    <tr>\n",
       "      <td>Metal</td>\n",
       "      <td>[GN0601, GN0605, GN0600, GN0601, GN0605, GN060...</td>\n",
       "    </tr>\n",
       "    <tr>\n",
       "      <td>M에센셜</td>\n",
       "      <td>[GN0601, GN0605, GN0600, GN0601, GN0605, GN060...</td>\n",
       "    </tr>\n",
       "    <tr>\n",
       "      <td>Pop</td>\n",
       "      <td>[GN0901, GN0900, GN1201, GN1200, GN1105, GN110...</td>\n",
       "    </tr>\n",
       "    <tr>\n",
       "      <td>Rock</td>\n",
       "      <td>[GN0601, GN0605, GN0600, GN0601, GN0605, GN060...</td>\n",
       "    </tr>\n",
       "    <tr>\n",
       "      <td>겨울노래</td>\n",
       "      <td>[GN0908, GN1509, GN0901, GN2207, GN1501, GN150...</td>\n",
       "    </tr>\n",
       "    <tr>\n",
       "      <td>겨울왕국</td>\n",
       "      <td>[GN0908, GN1509, GN0901, GN2207, GN1501, GN150...</td>\n",
       "    </tr>\n",
       "    <tr>\n",
       "      <td>고백</td>\n",
       "      <td>[GN0101, GN0100, GN0401, GN0403, GN0402, GN040...</td>\n",
       "    </tr>\n",
       "    <tr>\n",
       "      <td>기분전환</td>\n",
       "      <td>[GN0901, GN0900, GN1201, GN1200, GN1105, GN110...</td>\n",
       "    </tr>\n",
       "    <tr>\n",
       "      <td>까페</td>\n",
       "      <td>[GN0401, GN0403, GN0400, GN0401, GN0403, GN040...</td>\n",
       "    </tr>\n",
       "    <tr>\n",
       "      <td>눈오는날</td>\n",
       "      <td>[GN0908, GN1509, GN0901, GN2207, GN1501, GN150...</td>\n",
       "    </tr>\n",
       "    <tr>\n",
       "      <td>댄스</td>\n",
       "      <td>[GN0101, GN0100, GN0101, GN0103, GN0100, GN250...</td>\n",
       "    </tr>\n",
       "    <tr>\n",
       "      <td>드라이브</td>\n",
       "      <td>[GN0901, GN0900, GN1201, GN1200, GN1105, GN110...</td>\n",
       "    </tr>\n",
       "    <tr>\n",
       "      <td>따듯한</td>\n",
       "      <td>[GN0908, GN1509, GN0901, GN2207, GN1501, GN150...</td>\n",
       "    </tr>\n",
       "    <tr>\n",
       "      <td>락</td>\n",
       "      <td>[GN1402, GN1401, GN1400, GN0901, GN0902, GN100...</td>\n",
       "    </tr>\n",
       "    <tr>\n",
       "      <td>록</td>\n",
       "      <td>[GN0601, GN0605, GN0600, GN0601, GN0605, GN060...</td>\n",
       "    </tr>\n",
       "    <tr>\n",
       "      <td>메탈</td>\n",
       "      <td>[GN0601, GN0605, GN0600, GN0601, GN0605, GN060...</td>\n",
       "    </tr>\n",
       "    <tr>\n",
       "      <td>분위기</td>\n",
       "      <td>[GN0908, GN1509, GN0901, GN2207, GN1501, GN150...</td>\n",
       "    </tr>\n",
       "    <tr>\n",
       "      <td>사랑</td>\n",
       "      <td>[GN0101, GN0100, GN0401, GN0403, GN0402, GN040...</td>\n",
       "    </tr>\n",
       "    <tr>\n",
       "      <td>슬픔</td>\n",
       "      <td>[GN0101, GN0100, GN0401, GN0403, GN0402, GN040...</td>\n",
       "    </tr>\n",
       "    <tr>\n",
       "      <td>연말</td>\n",
       "      <td>[GN0908, GN1509, GN0901, GN2207, GN1501, GN150...</td>\n",
       "    </tr>\n",
       "    <tr>\n",
       "      <td>운동</td>\n",
       "      <td>[GN0901, GN0900, GN1201, GN1200, GN1105, GN110...</td>\n",
       "    </tr>\n",
       "    <tr>\n",
       "      <td>이별</td>\n",
       "      <td>[GN0101, GN0100, GN0401, GN0403, GN0402, GN040...</td>\n",
       "    </tr>\n",
       "    <tr>\n",
       "      <td>이일우</td>\n",
       "      <td>[GN0601, GN0605, GN0600, GN0601, GN0605, GN060...</td>\n",
       "    </tr>\n",
       "    <tr>\n",
       "      <td>인디</td>\n",
       "      <td>[GN0601, GN0605, GN0600, GN0601, GN0605, GN060...</td>\n",
       "    </tr>\n",
       "    <tr>\n",
       "      <td>일렉</td>\n",
       "      <td>[GN0901, GN0900, GN1201, GN1200, GN1105, GN110...</td>\n",
       "    </tr>\n",
       "    <tr>\n",
       "      <td>일렉트로니카</td>\n",
       "      <td>[GN0601, GN0605, GN0600, GN0601, GN0605, GN060...</td>\n",
       "    </tr>\n",
       "    <tr>\n",
       "      <td>잔잔한</td>\n",
       "      <td>[GN0401, GN0403, GN0400, GN0401, GN0403, GN040...</td>\n",
       "    </tr>\n",
       "    <tr>\n",
       "      <td>짝사랑</td>\n",
       "      <td>[GN0101, GN0100, GN0401, GN0403, GN0402, GN040...</td>\n",
       "    </tr>\n",
       "    <tr>\n",
       "      <td>추억</td>\n",
       "      <td>[GN0101, GN0103, GN0100, GN0601, GN0605, GN060...</td>\n",
       "    </tr>\n",
       "    <tr>\n",
       "      <td>취향저격</td>\n",
       "      <td>[GN0101, GN0100, GN0401, GN0403, GN0402, GN040...</td>\n",
       "    </tr>\n",
       "    <tr>\n",
       "      <td>캐럴</td>\n",
       "      <td>[GN0908, GN1509, GN0901, GN2207, GN1501, GN150...</td>\n",
       "    </tr>\n",
       "    <tr>\n",
       "      <td>크리스마스</td>\n",
       "      <td>[GN0908, GN1509, GN0901, GN2207, GN1501, GN150...</td>\n",
       "    </tr>\n",
       "    <tr>\n",
       "      <td>크리스마스송</td>\n",
       "      <td>[GN0908, GN1509, GN0901, GN2207, GN1501, GN150...</td>\n",
       "    </tr>\n",
       "    <tr>\n",
       "      <td>크리스마스캐럴</td>\n",
       "      <td>[GN0908, GN1509, GN0901, GN2207, GN1501, GN150...</td>\n",
       "    </tr>\n",
       "    <tr>\n",
       "      <td>트렌드</td>\n",
       "      <td>[GN0901, GN0900, GN1201, GN1200, GN1105, GN110...</td>\n",
       "    </tr>\n",
       "    <tr>\n",
       "      <td>트로피컬하우스</td>\n",
       "      <td>[GN0901, GN0900, GN1201, GN1200, GN1105, GN110...</td>\n",
       "    </tr>\n",
       "    <tr>\n",
       "      <td>팝</td>\n",
       "      <td>[GN0901, GN0900, GN1201, GN1200, GN1105, GN110...</td>\n",
       "    </tr>\n",
       "    <tr>\n",
       "      <td>포크</td>\n",
       "      <td>[GN0601, GN0605, GN0600, GN0601, GN0605, GN060...</td>\n",
       "    </tr>\n",
       "    <tr>\n",
       "      <td>회상</td>\n",
       "      <td>[GN0101, GN0103, GN0100, GN0601, GN0605, GN060...</td>\n",
       "    </tr>\n",
       "    <tr>\n",
       "      <td>힐링</td>\n",
       "      <td>[GN0901, GN0900, GN1201, GN1200, GN1105, GN110...</td>\n",
       "    </tr>\n",
       "  </tbody>\n",
       "</table>\n",
       "</div>"
      ],
      "text/plain": [
       "                                                     genre\n",
       "tag                                                       \n",
       "2017     [GN0901, GN0900, GN1201, GN1200, GN1105, GN110...\n",
       "Metal    [GN0601, GN0605, GN0600, GN0601, GN0605, GN060...\n",
       "M에센셜     [GN0601, GN0605, GN0600, GN0601, GN0605, GN060...\n",
       "Pop      [GN0901, GN0900, GN1201, GN1200, GN1105, GN110...\n",
       "Rock     [GN0601, GN0605, GN0600, GN0601, GN0605, GN060...\n",
       "겨울노래     [GN0908, GN1509, GN0901, GN2207, GN1501, GN150...\n",
       "겨울왕국     [GN0908, GN1509, GN0901, GN2207, GN1501, GN150...\n",
       "고백       [GN0101, GN0100, GN0401, GN0403, GN0402, GN040...\n",
       "기분전환     [GN0901, GN0900, GN1201, GN1200, GN1105, GN110...\n",
       "까페       [GN0401, GN0403, GN0400, GN0401, GN0403, GN040...\n",
       "눈오는날     [GN0908, GN1509, GN0901, GN2207, GN1501, GN150...\n",
       "댄스       [GN0101, GN0100, GN0101, GN0103, GN0100, GN250...\n",
       "드라이브     [GN0901, GN0900, GN1201, GN1200, GN1105, GN110...\n",
       "따듯한      [GN0908, GN1509, GN0901, GN2207, GN1501, GN150...\n",
       "락        [GN1402, GN1401, GN1400, GN0901, GN0902, GN100...\n",
       "록        [GN0601, GN0605, GN0600, GN0601, GN0605, GN060...\n",
       "메탈       [GN0601, GN0605, GN0600, GN0601, GN0605, GN060...\n",
       "분위기      [GN0908, GN1509, GN0901, GN2207, GN1501, GN150...\n",
       "사랑       [GN0101, GN0100, GN0401, GN0403, GN0402, GN040...\n",
       "슬픔       [GN0101, GN0100, GN0401, GN0403, GN0402, GN040...\n",
       "연말       [GN0908, GN1509, GN0901, GN2207, GN1501, GN150...\n",
       "운동       [GN0901, GN0900, GN1201, GN1200, GN1105, GN110...\n",
       "이별       [GN0101, GN0100, GN0401, GN0403, GN0402, GN040...\n",
       "이일우      [GN0601, GN0605, GN0600, GN0601, GN0605, GN060...\n",
       "인디       [GN0601, GN0605, GN0600, GN0601, GN0605, GN060...\n",
       "일렉       [GN0901, GN0900, GN1201, GN1200, GN1105, GN110...\n",
       "일렉트로니카   [GN0601, GN0605, GN0600, GN0601, GN0605, GN060...\n",
       "잔잔한      [GN0401, GN0403, GN0400, GN0401, GN0403, GN040...\n",
       "짝사랑      [GN0101, GN0100, GN0401, GN0403, GN0402, GN040...\n",
       "추억       [GN0101, GN0103, GN0100, GN0601, GN0605, GN060...\n",
       "취향저격     [GN0101, GN0100, GN0401, GN0403, GN0402, GN040...\n",
       "캐럴       [GN0908, GN1509, GN0901, GN2207, GN1501, GN150...\n",
       "크리스마스    [GN0908, GN1509, GN0901, GN2207, GN1501, GN150...\n",
       "크리스마스송   [GN0908, GN1509, GN0901, GN2207, GN1501, GN150...\n",
       "크리스마스캐럴  [GN0908, GN1509, GN0901, GN2207, GN1501, GN150...\n",
       "트렌드      [GN0901, GN0900, GN1201, GN1200, GN1105, GN110...\n",
       "트로피컬하우스  [GN0901, GN0900, GN1201, GN1200, GN1105, GN110...\n",
       "팝        [GN0901, GN0900, GN1201, GN1200, GN1105, GN110...\n",
       "포크       [GN0601, GN0605, GN0600, GN0601, GN0605, GN060...\n",
       "회상       [GN0101, GN0103, GN0100, GN0601, GN0605, GN060...\n",
       "힐링       [GN0901, GN0900, GN1201, GN1200, GN1105, GN110..."
      ]
     },
     "execution_count": 69,
     "metadata": {},
     "output_type": "execute_result"
    }
   ],
   "source": [
    "result_df.groupby('tag').agg(sum)"
   ]
  },
  {
   "cell_type": "code",
   "execution_count": 85,
   "metadata": {
    "ExecuteTime": {
     "end_time": "2020-05-19T03:36:23.145135Z",
     "start_time": "2020-05-19T03:36:23.105803Z"
    }
   },
   "outputs": [
    {
     "data": {
      "text/html": [
       "<div>\n",
       "<style scoped>\n",
       "    .dataframe tbody tr th:only-of-type {\n",
       "        vertical-align: middle;\n",
       "    }\n",
       "\n",
       "    .dataframe tbody tr th {\n",
       "        vertical-align: top;\n",
       "    }\n",
       "\n",
       "    .dataframe thead th {\n",
       "        text-align: right;\n",
       "    }\n",
       "</style>\n",
       "<table border=\"1\" class=\"dataframe\">\n",
       "  <thead>\n",
       "    <tr style=\"text-align: right;\">\n",
       "      <th></th>\n",
       "      <th>tags</th>\n",
       "      <th>id</th>\n",
       "      <th>plylst_title</th>\n",
       "      <th>songs</th>\n",
       "      <th>like_cnt</th>\n",
       "      <th>updt_date</th>\n",
       "    </tr>\n",
       "  </thead>\n",
       "  <tbody>\n",
       "    <tr>\n",
       "      <td>1</td>\n",
       "      <td>[]</td>\n",
       "      <td>131447</td>\n",
       "      <td>앨리스테이블</td>\n",
       "      <td>[]</td>\n",
       "      <td>1</td>\n",
       "      <td>2014-07-16 15:24:24.000</td>\n",
       "    </tr>\n",
       "    <tr>\n",
       "      <td>9</td>\n",
       "      <td>[]</td>\n",
       "      <td>142007</td>\n",
       "      <td>기분 좋은 재즈와 함께 만드는 달달한 하루</td>\n",
       "      <td>[]</td>\n",
       "      <td>0</td>\n",
       "      <td>2015-06-22 09:11:02.000</td>\n",
       "    </tr>\n",
       "    <tr>\n",
       "      <td>35</td>\n",
       "      <td>[]</td>\n",
       "      <td>65114</td>\n",
       "      <td>■■■■ 사랑,그리고이별 ■■■■</td>\n",
       "      <td>[]</td>\n",
       "      <td>6</td>\n",
       "      <td>2010-10-27 10:34:34.000</td>\n",
       "    </tr>\n",
       "    <tr>\n",
       "      <td>57</td>\n",
       "      <td>[]</td>\n",
       "      <td>87700</td>\n",
       "      <td>마쉬멜로우같은 멜로우한 음악</td>\n",
       "      <td>[]</td>\n",
       "      <td>6</td>\n",
       "      <td>2016-01-14 10:19:30.000</td>\n",
       "    </tr>\n",
       "    <tr>\n",
       "      <td>71</td>\n",
       "      <td>[]</td>\n",
       "      <td>35271</td>\n",
       "      <td>공부와 독서를 위한 #Newage</td>\n",
       "      <td>[]</td>\n",
       "      <td>10</td>\n",
       "      <td>2020-01-17 15:46:20.000</td>\n",
       "    </tr>\n",
       "    <tr>\n",
       "      <td>...</td>\n",
       "      <td>...</td>\n",
       "      <td>...</td>\n",
       "      <td>...</td>\n",
       "      <td>...</td>\n",
       "      <td>...</td>\n",
       "      <td>...</td>\n",
       "    </tr>\n",
       "    <tr>\n",
       "      <td>22903</td>\n",
       "      <td>[]</td>\n",
       "      <td>140513</td>\n",
       "      <td>10년이 지나 들어도 좋은 감성 Ballad</td>\n",
       "      <td>[]</td>\n",
       "      <td>405</td>\n",
       "      <td>2016-01-11 10:58:05.000</td>\n",
       "    </tr>\n",
       "    <tr>\n",
       "      <td>22920</td>\n",
       "      <td>[]</td>\n",
       "      <td>124704</td>\n",
       "      <td>가사의 의미와 뜻은모른다!! 오직 멜로디로만 선곡한 팝송!!</td>\n",
       "      <td>[]</td>\n",
       "      <td>27</td>\n",
       "      <td>2016-02-05 12:31:59.000</td>\n",
       "    </tr>\n",
       "    <tr>\n",
       "      <td>22981</td>\n",
       "      <td>[]</td>\n",
       "      <td>13045</td>\n",
       "      <td>＊카페 느낌 샹송♭</td>\n",
       "      <td>[]</td>\n",
       "      <td>38</td>\n",
       "      <td>2011-07-12 00:58:39.000</td>\n",
       "    </tr>\n",
       "    <tr>\n",
       "      <td>22991</td>\n",
       "      <td>[]</td>\n",
       "      <td>32537</td>\n",
       "      <td>컨트리 황제 조니 캐시가 선 레코드 시절 발표한 초기 대표작</td>\n",
       "      <td>[]</td>\n",
       "      <td>28</td>\n",
       "      <td>2019-06-17 14:22:48.000</td>\n",
       "    </tr>\n",
       "    <tr>\n",
       "      <td>22996</td>\n",
       "      <td>[]</td>\n",
       "      <td>86721</td>\n",
       "      <td>해 저무는 밤</td>\n",
       "      <td>[]</td>\n",
       "      <td>5</td>\n",
       "      <td>2016-04-27 15:32:55.000</td>\n",
       "    </tr>\n",
       "  </tbody>\n",
       "</table>\n",
       "<p>1749 rows × 6 columns</p>\n",
       "</div>"
      ],
      "text/plain": [
       "      tags      id                       plylst_title songs  like_cnt  \\\n",
       "1       []  131447                             앨리스테이블    []         1   \n",
       "9       []  142007            기분 좋은 재즈와 함께 만드는 달달한 하루    []         0   \n",
       "35      []   65114                 ■■■■ 사랑,그리고이별 ■■■■    []         6   \n",
       "57      []   87700                    마쉬멜로우같은 멜로우한 음악    []         6   \n",
       "71      []   35271                 공부와 독서를 위한 #Newage    []        10   \n",
       "...    ...     ...                                ...   ...       ...   \n",
       "22903   []  140513           10년이 지나 들어도 좋은 감성 Ballad    []       405   \n",
       "22920   []  124704  가사의 의미와 뜻은모른다!! 오직 멜로디로만 선곡한 팝송!!    []        27   \n",
       "22981   []   13045                         ＊카페 느낌 샹송♭    []        38   \n",
       "22991   []   32537  컨트리 황제 조니 캐시가 선 레코드 시절 발표한 초기 대표작    []        28   \n",
       "22996   []   86721                            해 저무는 밤    []         5   \n",
       "\n",
       "                     updt_date  \n",
       "1      2014-07-16 15:24:24.000  \n",
       "9      2015-06-22 09:11:02.000  \n",
       "35     2010-10-27 10:34:34.000  \n",
       "57     2016-01-14 10:19:30.000  \n",
       "71     2020-01-17 15:46:20.000  \n",
       "...                        ...  \n",
       "22903  2016-01-11 10:58:05.000  \n",
       "22920  2016-02-05 12:31:59.000  \n",
       "22981  2011-07-12 00:58:39.000  \n",
       "22991  2019-06-17 14:22:48.000  \n",
       "22996  2016-04-27 15:32:55.000  \n",
       "\n",
       "[1749 rows x 6 columns]"
      ]
     },
     "execution_count": 85,
     "metadata": {},
     "output_type": "execute_result"
    }
   ],
   "source": [
    "val_song_100[(val_song_100['tags'].apply(len) == 0) & (val_song_100['songs'].apply(len) == 0)]"
   ]
  },
  {
   "cell_type": "code",
   "execution_count": null,
   "metadata": {},
   "outputs": [],
   "source": []
  }
 ],
 "metadata": {
  "kernelspec": {
   "display_name": "Python 3",
   "language": "python",
   "name": "python3"
  },
  "language_info": {
   "codemirror_mode": {
    "name": "ipython",
    "version": 3
   },
   "file_extension": ".py",
   "mimetype": "text/x-python",
   "name": "python",
   "nbconvert_exporter": "python",
   "pygments_lexer": "ipython3",
   "version": "3.7.4"
  }
 },
 "nbformat": 4,
 "nbformat_minor": 2
}
