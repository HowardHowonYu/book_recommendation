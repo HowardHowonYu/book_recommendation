{
 "cells": [
  {
   "cell_type": "markdown",
   "metadata": {},
   "source": [
    "## 예측 - song -> tag"
   ]
  },
  {
   "cell_type": "code",
   "execution_count": 44,
   "metadata": {
    "ExecuteTime": {
     "end_time": "2020-05-29T00:11:31.829567Z",
     "start_time": "2020-05-29T00:11:11.760325Z"
    },
    "execution": {
     "iopub.execute_input": "2020-05-28T07:55:21.605410Z",
     "iopub.status.busy": "2020-05-28T07:55:21.605410Z",
     "iopub.status.idle": "2020-05-28T07:55:28.293681Z",
     "shell.execute_reply": "2020-05-28T07:55:28.293681Z",
     "shell.execute_reply.started": "2020-05-28T07:55:21.605410Z"
    }
   },
   "outputs": [],
   "source": [
    "df_song_train = pd.read_pickle('./raw_data/df_song_train.pkl')\n",
    "df_song_val = pd.read_pickle('./raw_data/df_song_val.pkl')\n",
    "val = pd.read_json('./raw_data/validation.json')"
   ]
  },
  {
   "cell_type": "code",
   "execution_count": 23,
   "metadata": {
    "ExecuteTime": {
     "end_time": "2020-05-29T00:03:38.403902Z",
     "start_time": "2020-05-29T00:03:37.704765Z"
    },
    "execution": {
     "iopub.execute_input": "2020-05-28T07:55:28.295677Z",
     "iopub.status.busy": "2020-05-28T07:55:28.295677Z",
     "iopub.status.idle": "2020-05-28T07:55:28.884869Z",
     "shell.execute_reply": "2020-05-28T07:55:28.884869Z",
     "shell.execute_reply.started": "2020-05-28T07:55:28.295677Z"
    }
   },
   "outputs": [],
   "source": [
    "# 모델 불러오기\n",
    "from keras.models import load_model\n",
    "model = load_model('./model/multi_tag_classification_last_sgd.h5')"
   ]
  },
  {
   "cell_type": "code",
   "execution_count": 24,
   "metadata": {
    "ExecuteTime": {
     "end_time": "2020-05-29T00:03:45.341323Z",
     "start_time": "2020-05-29T00:03:38.967029Z"
    },
    "execution": {
     "iopub.execute_input": "2020-05-28T07:55:38.423740Z",
     "iopub.status.busy": "2020-05-28T07:55:38.422757Z",
     "iopub.status.idle": "2020-05-28T07:55:43.565987Z",
     "shell.execute_reply": "2020-05-28T07:55:43.565053Z",
     "shell.execute_reply.started": "2020-05-28T07:55:38.423740Z"
    }
   },
   "outputs": [],
   "source": [
    "# y클래스 생성\n",
    "from sklearn.preprocessing import MultiLabelBinarizer\n",
    "raw_te_tags_mlb = MultiLabelBinarizer(sparse_output=True)\n",
    "raw_te_tags = list(df_song_train.tags)\n",
    "y = raw_te_tags_mlb.fit_transform(raw_te_tags)\n",
    "y_classes = raw_te_tags_mlb.classes_"
   ]
  },
  {
   "cell_type": "code",
   "execution_count": 25,
   "metadata": {
    "ExecuteTime": {
     "end_time": "2020-05-29T00:03:48.289684Z",
     "start_time": "2020-05-29T00:03:45.344903Z"
    },
    "execution": {
     "iopub.execute_input": "2020-05-28T07:55:43.567015Z",
     "iopub.status.busy": "2020-05-28T07:55:43.567015Z",
     "iopub.status.idle": "2020-05-28T07:55:44.304027Z",
     "shell.execute_reply": "2020-05-28T07:55:44.303015Z",
     "shell.execute_reply.started": "2020-05-28T07:55:43.567015Z"
    }
   },
   "outputs": [],
   "source": [
    "X = df_song_train[df_song_train.columns.difference(['tags'])]"
   ]
  },
  {
   "cell_type": "code",
   "execution_count": 26,
   "metadata": {
    "ExecuteTime": {
     "end_time": "2020-05-29T00:03:53.649644Z",
     "start_time": "2020-05-29T00:03:48.293113Z"
    },
    "execution": {
     "iopub.execute_input": "2020-05-28T07:55:44.306013Z",
     "iopub.status.busy": "2020-05-28T07:55:44.306013Z",
     "iopub.status.idle": "2020-05-28T07:55:48.887752Z",
     "shell.execute_reply": "2020-05-28T07:55:48.886782Z",
     "shell.execute_reply.started": "2020-05-28T07:55:44.306013Z"
    }
   },
   "outputs": [
    {
     "data": {
      "text/html": [
       "<div>\n",
       "<style scoped>\n",
       "    .dataframe tbody tr th:only-of-type {\n",
       "        vertical-align: middle;\n",
       "    }\n",
       "\n",
       "    .dataframe tbody tr th {\n",
       "        vertical-align: top;\n",
       "    }\n",
       "\n",
       "    .dataframe thead th {\n",
       "        text-align: right;\n",
       "    }\n",
       "</style>\n",
       "<table border=\"1\" class=\"dataframe\">\n",
       "  <thead>\n",
       "    <tr style=\"text-align: right;\">\n",
       "      <th></th>\n",
       "      <th>GN0100</th>\n",
       "      <th>GN0101</th>\n",
       "      <th>GN0102</th>\n",
       "      <th>GN0103</th>\n",
       "      <th>GN0104</th>\n",
       "      <th>GN0105</th>\n",
       "      <th>GN0200</th>\n",
       "      <th>GN0201</th>\n",
       "      <th>GN0202</th>\n",
       "      <th>GN0203</th>\n",
       "      <th>...</th>\n",
       "      <th>issue_year_2015</th>\n",
       "      <th>issue_year_2016</th>\n",
       "      <th>issue_year_2017</th>\n",
       "      <th>issue_year_2018</th>\n",
       "      <th>issue_year_2019</th>\n",
       "      <th>issue_year_2020</th>\n",
       "      <th>issue_year_2022</th>\n",
       "      <th>like_cnt</th>\n",
       "      <th>population</th>\n",
       "      <th>tag_score</th>\n",
       "    </tr>\n",
       "    <tr>\n",
       "      <th>id</th>\n",
       "      <th></th>\n",
       "      <th></th>\n",
       "      <th></th>\n",
       "      <th></th>\n",
       "      <th></th>\n",
       "      <th></th>\n",
       "      <th></th>\n",
       "      <th></th>\n",
       "      <th></th>\n",
       "      <th></th>\n",
       "      <th></th>\n",
       "      <th></th>\n",
       "      <th></th>\n",
       "      <th></th>\n",
       "      <th></th>\n",
       "      <th></th>\n",
       "      <th></th>\n",
       "      <th></th>\n",
       "      <th></th>\n",
       "      <th></th>\n",
       "      <th></th>\n",
       "    </tr>\n",
       "  </thead>\n",
       "  <tbody>\n",
       "    <tr>\n",
       "      <td>0</td>\n",
       "      <td>0.0</td>\n",
       "      <td>0.0</td>\n",
       "      <td>0.0</td>\n",
       "      <td>0.0</td>\n",
       "      <td>0.0</td>\n",
       "      <td>0.0</td>\n",
       "      <td>0.0</td>\n",
       "      <td>0.0</td>\n",
       "      <td>0.0</td>\n",
       "      <td>0.0</td>\n",
       "      <td>...</td>\n",
       "      <td>0.0</td>\n",
       "      <td>0.0</td>\n",
       "      <td>0.0</td>\n",
       "      <td>0.0</td>\n",
       "      <td>0.0</td>\n",
       "      <td>0.0</td>\n",
       "      <td>0.0</td>\n",
       "      <td>0.000089</td>\n",
       "      <td>0.000460</td>\n",
       "      <td>0.065164</td>\n",
       "    </tr>\n",
       "    <tr>\n",
       "      <td>4</td>\n",
       "      <td>0.0</td>\n",
       "      <td>0.0</td>\n",
       "      <td>0.0</td>\n",
       "      <td>0.0</td>\n",
       "      <td>0.0</td>\n",
       "      <td>0.0</td>\n",
       "      <td>0.0</td>\n",
       "      <td>0.0</td>\n",
       "      <td>0.0</td>\n",
       "      <td>0.0</td>\n",
       "      <td>...</td>\n",
       "      <td>0.0</td>\n",
       "      <td>0.0</td>\n",
       "      <td>0.0</td>\n",
       "      <td>0.0</td>\n",
       "      <td>0.0</td>\n",
       "      <td>0.0</td>\n",
       "      <td>0.0</td>\n",
       "      <td>0.000119</td>\n",
       "      <td>0.000460</td>\n",
       "      <td>0.009413</td>\n",
       "    </tr>\n",
       "    <tr>\n",
       "      <td>5</td>\n",
       "      <td>0.0</td>\n",
       "      <td>0.0</td>\n",
       "      <td>0.0</td>\n",
       "      <td>0.0</td>\n",
       "      <td>0.0</td>\n",
       "      <td>0.0</td>\n",
       "      <td>0.0</td>\n",
       "      <td>0.0</td>\n",
       "      <td>0.0</td>\n",
       "      <td>0.0</td>\n",
       "      <td>...</td>\n",
       "      <td>0.0</td>\n",
       "      <td>0.0</td>\n",
       "      <td>0.0</td>\n",
       "      <td>0.0</td>\n",
       "      <td>0.0</td>\n",
       "      <td>0.0</td>\n",
       "      <td>0.0</td>\n",
       "      <td>0.001196</td>\n",
       "      <td>0.001840</td>\n",
       "      <td>0.159218</td>\n",
       "    </tr>\n",
       "    <tr>\n",
       "      <td>6</td>\n",
       "      <td>0.0</td>\n",
       "      <td>0.0</td>\n",
       "      <td>0.0</td>\n",
       "      <td>0.0</td>\n",
       "      <td>0.0</td>\n",
       "      <td>0.0</td>\n",
       "      <td>0.0</td>\n",
       "      <td>0.0</td>\n",
       "      <td>0.0</td>\n",
       "      <td>0.0</td>\n",
       "      <td>...</td>\n",
       "      <td>0.0</td>\n",
       "      <td>0.0</td>\n",
       "      <td>1.0</td>\n",
       "      <td>0.0</td>\n",
       "      <td>0.0</td>\n",
       "      <td>0.0</td>\n",
       "      <td>0.0</td>\n",
       "      <td>0.000073</td>\n",
       "      <td>0.000000</td>\n",
       "      <td>0.013426</td>\n",
       "    </tr>\n",
       "    <tr>\n",
       "      <td>7</td>\n",
       "      <td>0.0</td>\n",
       "      <td>0.0</td>\n",
       "      <td>0.0</td>\n",
       "      <td>0.0</td>\n",
       "      <td>0.0</td>\n",
       "      <td>0.0</td>\n",
       "      <td>0.0</td>\n",
       "      <td>0.0</td>\n",
       "      <td>0.0</td>\n",
       "      <td>0.0</td>\n",
       "      <td>...</td>\n",
       "      <td>0.0</td>\n",
       "      <td>0.0</td>\n",
       "      <td>0.0</td>\n",
       "      <td>0.0</td>\n",
       "      <td>1.0</td>\n",
       "      <td>0.0</td>\n",
       "      <td>0.0</td>\n",
       "      <td>0.000009</td>\n",
       "      <td>0.000000</td>\n",
       "      <td>0.005898</td>\n",
       "    </tr>\n",
       "    <tr>\n",
       "      <td>...</td>\n",
       "      <td>...</td>\n",
       "      <td>...</td>\n",
       "      <td>...</td>\n",
       "      <td>...</td>\n",
       "      <td>...</td>\n",
       "      <td>...</td>\n",
       "      <td>...</td>\n",
       "      <td>...</td>\n",
       "      <td>...</td>\n",
       "      <td>...</td>\n",
       "      <td>...</td>\n",
       "      <td>...</td>\n",
       "      <td>...</td>\n",
       "      <td>...</td>\n",
       "      <td>...</td>\n",
       "      <td>...</td>\n",
       "      <td>...</td>\n",
       "      <td>...</td>\n",
       "      <td>...</td>\n",
       "      <td>...</td>\n",
       "      <td>...</td>\n",
       "    </tr>\n",
       "    <tr>\n",
       "      <td>707959</td>\n",
       "      <td>0.0</td>\n",
       "      <td>0.0</td>\n",
       "      <td>0.0</td>\n",
       "      <td>0.0</td>\n",
       "      <td>0.0</td>\n",
       "      <td>0.0</td>\n",
       "      <td>0.0</td>\n",
       "      <td>0.0</td>\n",
       "      <td>0.0</td>\n",
       "      <td>0.0</td>\n",
       "      <td>...</td>\n",
       "      <td>0.0</td>\n",
       "      <td>0.0</td>\n",
       "      <td>0.0</td>\n",
       "      <td>0.0</td>\n",
       "      <td>0.0</td>\n",
       "      <td>0.0</td>\n",
       "      <td>0.0</td>\n",
       "      <td>NaN</td>\n",
       "      <td>NaN</td>\n",
       "      <td>NaN</td>\n",
       "    </tr>\n",
       "    <tr>\n",
       "      <td>707962</td>\n",
       "      <td>0.0</td>\n",
       "      <td>0.0</td>\n",
       "      <td>0.0</td>\n",
       "      <td>0.0</td>\n",
       "      <td>0.0</td>\n",
       "      <td>0.0</td>\n",
       "      <td>0.0</td>\n",
       "      <td>0.0</td>\n",
       "      <td>0.0</td>\n",
       "      <td>0.0</td>\n",
       "      <td>...</td>\n",
       "      <td>0.0</td>\n",
       "      <td>0.0</td>\n",
       "      <td>0.0</td>\n",
       "      <td>0.0</td>\n",
       "      <td>0.0</td>\n",
       "      <td>0.0</td>\n",
       "      <td>0.0</td>\n",
       "      <td>NaN</td>\n",
       "      <td>NaN</td>\n",
       "      <td>NaN</td>\n",
       "    </tr>\n",
       "    <tr>\n",
       "      <td>707965</td>\n",
       "      <td>0.0</td>\n",
       "      <td>0.0</td>\n",
       "      <td>0.0</td>\n",
       "      <td>0.0</td>\n",
       "      <td>0.0</td>\n",
       "      <td>0.0</td>\n",
       "      <td>0.0</td>\n",
       "      <td>0.0</td>\n",
       "      <td>0.0</td>\n",
       "      <td>0.0</td>\n",
       "      <td>...</td>\n",
       "      <td>0.0</td>\n",
       "      <td>0.0</td>\n",
       "      <td>0.0</td>\n",
       "      <td>0.0</td>\n",
       "      <td>0.0</td>\n",
       "      <td>0.0</td>\n",
       "      <td>0.0</td>\n",
       "      <td>0.008497</td>\n",
       "      <td>0.015639</td>\n",
       "      <td>0.372112</td>\n",
       "    </tr>\n",
       "    <tr>\n",
       "      <td>707969</td>\n",
       "      <td>0.0</td>\n",
       "      <td>0.0</td>\n",
       "      <td>0.0</td>\n",
       "      <td>0.0</td>\n",
       "      <td>0.0</td>\n",
       "      <td>0.0</td>\n",
       "      <td>0.0</td>\n",
       "      <td>0.0</td>\n",
       "      <td>0.0</td>\n",
       "      <td>0.0</td>\n",
       "      <td>...</td>\n",
       "      <td>0.0</td>\n",
       "      <td>0.0</td>\n",
       "      <td>0.0</td>\n",
       "      <td>0.0</td>\n",
       "      <td>0.0</td>\n",
       "      <td>0.0</td>\n",
       "      <td>0.0</td>\n",
       "      <td>0.006068</td>\n",
       "      <td>0.009200</td>\n",
       "      <td>0.449044</td>\n",
       "    </tr>\n",
       "    <tr>\n",
       "      <td>707986</td>\n",
       "      <td>1.0</td>\n",
       "      <td>1.0</td>\n",
       "      <td>0.0</td>\n",
       "      <td>0.0</td>\n",
       "      <td>0.0</td>\n",
       "      <td>1.0</td>\n",
       "      <td>0.0</td>\n",
       "      <td>0.0</td>\n",
       "      <td>0.0</td>\n",
       "      <td>0.0</td>\n",
       "      <td>...</td>\n",
       "      <td>0.0</td>\n",
       "      <td>1.0</td>\n",
       "      <td>0.0</td>\n",
       "      <td>0.0</td>\n",
       "      <td>0.0</td>\n",
       "      <td>0.0</td>\n",
       "      <td>0.0</td>\n",
       "      <td>0.003435</td>\n",
       "      <td>0.004600</td>\n",
       "      <td>0.438850</td>\n",
       "    </tr>\n",
       "  </tbody>\n",
       "</table>\n",
       "<p>638336 rows × 350 columns</p>\n",
       "</div>"
      ],
      "text/plain": [
       "        GN0100  GN0101  GN0102  GN0103  GN0104  GN0105  GN0200  GN0201  \\\n",
       "id                                                                       \n",
       "0          0.0     0.0     0.0     0.0     0.0     0.0     0.0     0.0   \n",
       "4          0.0     0.0     0.0     0.0     0.0     0.0     0.0     0.0   \n",
       "5          0.0     0.0     0.0     0.0     0.0     0.0     0.0     0.0   \n",
       "6          0.0     0.0     0.0     0.0     0.0     0.0     0.0     0.0   \n",
       "7          0.0     0.0     0.0     0.0     0.0     0.0     0.0     0.0   \n",
       "...        ...     ...     ...     ...     ...     ...     ...     ...   \n",
       "707959     0.0     0.0     0.0     0.0     0.0     0.0     0.0     0.0   \n",
       "707962     0.0     0.0     0.0     0.0     0.0     0.0     0.0     0.0   \n",
       "707965     0.0     0.0     0.0     0.0     0.0     0.0     0.0     0.0   \n",
       "707969     0.0     0.0     0.0     0.0     0.0     0.0     0.0     0.0   \n",
       "707986     1.0     1.0     0.0     0.0     0.0     1.0     0.0     0.0   \n",
       "\n",
       "        GN0202  GN0203  ...  issue_year_2015  issue_year_2016  \\\n",
       "id                      ...                                     \n",
       "0          0.0     0.0  ...              0.0              0.0   \n",
       "4          0.0     0.0  ...              0.0              0.0   \n",
       "5          0.0     0.0  ...              0.0              0.0   \n",
       "6          0.0     0.0  ...              0.0              0.0   \n",
       "7          0.0     0.0  ...              0.0              0.0   \n",
       "...        ...     ...  ...              ...              ...   \n",
       "707959     0.0     0.0  ...              0.0              0.0   \n",
       "707962     0.0     0.0  ...              0.0              0.0   \n",
       "707965     0.0     0.0  ...              0.0              0.0   \n",
       "707969     0.0     0.0  ...              0.0              0.0   \n",
       "707986     0.0     0.0  ...              0.0              1.0   \n",
       "\n",
       "        issue_year_2017  issue_year_2018  issue_year_2019  issue_year_2020  \\\n",
       "id                                                                           \n",
       "0                   0.0              0.0              0.0              0.0   \n",
       "4                   0.0              0.0              0.0              0.0   \n",
       "5                   0.0              0.0              0.0              0.0   \n",
       "6                   1.0              0.0              0.0              0.0   \n",
       "7                   0.0              0.0              1.0              0.0   \n",
       "...                 ...              ...              ...              ...   \n",
       "707959              0.0              0.0              0.0              0.0   \n",
       "707962              0.0              0.0              0.0              0.0   \n",
       "707965              0.0              0.0              0.0              0.0   \n",
       "707969              0.0              0.0              0.0              0.0   \n",
       "707986              0.0              0.0              0.0              0.0   \n",
       "\n",
       "        issue_year_2022  like_cnt  population  tag_score  \n",
       "id                                                        \n",
       "0                   0.0  0.000089    0.000460   0.065164  \n",
       "4                   0.0  0.000119    0.000460   0.009413  \n",
       "5                   0.0  0.001196    0.001840   0.159218  \n",
       "6                   0.0  0.000073    0.000000   0.013426  \n",
       "7                   0.0  0.000009    0.000000   0.005898  \n",
       "...                 ...       ...         ...        ...  \n",
       "707959              0.0       NaN         NaN        NaN  \n",
       "707962              0.0       NaN         NaN        NaN  \n",
       "707965              0.0  0.008497    0.015639   0.372112  \n",
       "707969              0.0  0.006068    0.009200   0.449044  \n",
       "707986              0.0  0.003435    0.004600   0.438850  \n",
       "\n",
       "[638336 rows x 350 columns]"
      ]
     },
     "execution_count": 26,
     "metadata": {},
     "output_type": "execute_result"
    }
   ],
   "source": [
    "raw_datas = pd.concat([X,df_song_val])\n",
    "raw_datas.reset_index(inplace = True)\n",
    "raw_datas.drop_duplicates('id', inplace = True,keep = 'last')\n",
    "raw_datas.set_index('id', inplace = True)"
   ]
  },
  {
   "cell_type": "code",
   "execution_count": 28,
   "metadata": {
    "ExecuteTime": {
     "end_time": "2020-05-29T00:06:30.991653Z",
     "start_time": "2020-05-29T00:06:29.626758Z"
    }
   },
   "outputs": [],
   "source": [
    "raw_datas = raw_datas[raw_datas.columns.difference(['tags','population','tag_score','like_cnt'])]"
   ]
  },
  {
   "cell_type": "code",
   "execution_count": 45,
   "metadata": {
    "ExecuteTime": {
     "end_time": "2020-05-29T00:14:01.844268Z",
     "start_time": "2020-05-29T00:11:31.832060Z"
    },
    "execution": {
     "iopub.execute_input": "2020-05-28T08:00:19.179096Z",
     "iopub.status.busy": "2020-05-28T08:00:19.178097Z",
     "iopub.status.idle": "2020-05-28T08:01:41.504077Z",
     "shell.execute_reply": "2020-05-28T08:01:41.503074Z",
     "shell.execute_reply.started": "2020-05-28T08:00:19.179096Z"
    }
   },
   "outputs": [
    {
     "data": {
      "application/vnd.jupyter.widget-view+json": {
       "model_id": "31f090dd6f5243b4aaf39f983b56103c",
       "version_major": 2,
       "version_minor": 0
      },
      "text/plain": [
       "HBox(children=(IntProgress(value=0, max=23015), HTML(value='')))"
      ]
     },
     "metadata": {},
     "output_type": "display_data"
    },
    {
     "name": "stdout",
     "output_type": "stream",
     "text": [
      "\n"
     ]
    }
   ],
   "source": [
    "from tqdm.notebook import tqdm\n",
    "val['predict_tags'] = 0\n",
    "for i in tqdm(range(0,len(val['songs']))):\n",
    "    k = int(val['songs'][i][0]) # 중복제거 고민 코드 지금은 앞에 1개의 태그에서만 가져옴\n",
    "    val_data = raw_datas.loc[k].values\n",
    "    preds = model.predict(val_data.reshape(1,-1))\n",
    "    val['predict_tags'][i] = list(y_classes[np.concatenate(preds.argsort())[::-1][1:11]])"
   ]
  },
  {
   "cell_type": "code",
   "execution_count": 46,
   "metadata": {
    "ExecuteTime": {
     "end_time": "2020-05-29T00:14:01.860352Z",
     "start_time": "2020-05-29T00:14:01.846530Z"
    },
    "execution": {
     "iopub.execute_input": "2020-05-28T08:01:47.876405Z",
     "iopub.status.busy": "2020-05-28T08:01:47.876405Z",
     "iopub.status.idle": "2020-05-28T08:01:47.901360Z",
     "shell.execute_reply": "2020-05-28T08:01:47.901360Z",
     "shell.execute_reply.started": "2020-05-28T08:01:47.876405Z"
    }
   },
   "outputs": [
    {
     "data": {
      "text/html": [
       "<div>\n",
       "<style scoped>\n",
       "    .dataframe tbody tr th:only-of-type {\n",
       "        vertical-align: middle;\n",
       "    }\n",
       "\n",
       "    .dataframe tbody tr th {\n",
       "        vertical-align: top;\n",
       "    }\n",
       "\n",
       "    .dataframe thead th {\n",
       "        text-align: right;\n",
       "    }\n",
       "</style>\n",
       "<table border=\"1\" class=\"dataframe\">\n",
       "  <thead>\n",
       "    <tr style=\"text-align: right;\">\n",
       "      <th></th>\n",
       "      <th>tags</th>\n",
       "      <th>id</th>\n",
       "      <th>plylst_title</th>\n",
       "      <th>songs</th>\n",
       "      <th>like_cnt</th>\n",
       "      <th>updt_date</th>\n",
       "      <th>predict_tags</th>\n",
       "    </tr>\n",
       "  </thead>\n",
       "  <tbody>\n",
       "  </tbody>\n",
       "</table>\n",
       "</div>"
      ],
      "text/plain": [
       "Empty DataFrame\n",
       "Columns: [tags, id, plylst_title, songs, like_cnt, updt_date, predict_tags]\n",
       "Index: []"
      ]
     },
     "execution_count": 46,
     "metadata": {},
     "output_type": "execute_result"
    }
   ],
   "source": [
    "# 혹시나 태그 10개 안채워진거있나 확인\n",
    "val[val['predict_tags'].apply(lambda x : len(x) != 10)]"
   ]
  },
  {
   "cell_type": "code",
   "execution_count": 47,
   "metadata": {
    "ExecuteTime": {
     "end_time": "2020-05-29T00:14:01.886985Z",
     "start_time": "2020-05-29T00:14:01.862483Z"
    },
    "execution": {
     "iopub.execute_input": "2020-05-28T08:30:03.553124Z",
     "iopub.status.busy": "2020-05-28T08:30:03.553124Z",
     "iopub.status.idle": "2020-05-28T08:30:03.653854Z",
     "shell.execute_reply": "2020-05-28T08:30:03.653854Z",
     "shell.execute_reply.started": "2020-05-28T08:30:03.553124Z"
    }
   },
   "outputs": [
    {
     "data": {
      "text/html": [
       "<div>\n",
       "<style scoped>\n",
       "    .dataframe tbody tr th:only-of-type {\n",
       "        vertical-align: middle;\n",
       "    }\n",
       "\n",
       "    .dataframe tbody tr th {\n",
       "        vertical-align: top;\n",
       "    }\n",
       "\n",
       "    .dataframe thead th {\n",
       "        text-align: right;\n",
       "    }\n",
       "</style>\n",
       "<table border=\"1\" class=\"dataframe\">\n",
       "  <thead>\n",
       "    <tr style=\"text-align: right;\">\n",
       "      <th></th>\n",
       "      <th>tags</th>\n",
       "      <th>id</th>\n",
       "      <th>plylst_title</th>\n",
       "      <th>songs</th>\n",
       "      <th>like_cnt</th>\n",
       "      <th>updt_date</th>\n",
       "      <th>predict_tags</th>\n",
       "    </tr>\n",
       "  </thead>\n",
       "  <tbody>\n",
       "    <tr>\n",
       "      <td>0</td>\n",
       "      <td>[OST]</td>\n",
       "      <td>118598</td>\n",
       "      <td></td>\n",
       "      <td>[373313, 151080, 275346, 696876, 165237, 52593...</td>\n",
       "      <td>1675</td>\n",
       "      <td>2019-05-27 14:14:33.000</td>\n",
       "      <td>[감성, 힐링, 기분전환, 잔잔한, 휴식, 팝, 새벽, 카페, 밤, 매장음악]</td>\n",
       "    </tr>\n",
       "    <tr>\n",
       "      <td>1</td>\n",
       "      <td>[턴테이블]</td>\n",
       "      <td>131447</td>\n",
       "      <td>앨리스테이블</td>\n",
       "      <td>[572238, 233146, 61064, 336013, 611334, 359175...</td>\n",
       "      <td>1</td>\n",
       "      <td>2014-07-16 15:24:24.000</td>\n",
       "      <td>[휴식, 힐링, 감성, 드라이브, 잔잔한, 새벽, 팝, 사랑, 밤, 카페]</td>\n",
       "    </tr>\n",
       "    <tr>\n",
       "      <td>2</td>\n",
       "      <td>[발라드]</td>\n",
       "      <td>51464</td>\n",
       "      <td></td>\n",
       "      <td>[529437, 516103, 360067, 705713, 226062, 37089...</td>\n",
       "      <td>62</td>\n",
       "      <td>2008-06-21 23:26:22.000</td>\n",
       "      <td>[기분전환, 힐링, 드라이브, 감성, 잔잔한, 새벽, 밤, 추억, 팝, 카페]</td>\n",
       "    </tr>\n",
       "    <tr>\n",
       "      <td>3</td>\n",
       "      <td>[발라드]</td>\n",
       "      <td>45144</td>\n",
       "      <td></td>\n",
       "      <td>[589668, 21711, 570151, 320043, 13930, 599327,...</td>\n",
       "      <td>20</td>\n",
       "      <td>2017-10-30 18:15:43.000</td>\n",
       "      <td>[휴식, 드라이브, 감성, 힐링, 잔잔한, 새벽, 밤, 팝, 사랑, 발라드]</td>\n",
       "    </tr>\n",
       "    <tr>\n",
       "      <td>4</td>\n",
       "      <td>[CCM]</td>\n",
       "      <td>79929</td>\n",
       "      <td></td>\n",
       "      <td>[672718, 121924, 102694, 683657, 201558, 38511...</td>\n",
       "      <td>20</td>\n",
       "      <td>2017-02-07 11:40:42.000</td>\n",
       "      <td>[감성, 새벽, 밤, 휴식, 팝, 잔잔한, 힐링, 카페, 기분전환, 여행]</td>\n",
       "    </tr>\n",
       "    <tr>\n",
       "      <td>...</td>\n",
       "      <td>...</td>\n",
       "      <td>...</td>\n",
       "      <td>...</td>\n",
       "      <td>...</td>\n",
       "      <td>...</td>\n",
       "      <td>...</td>\n",
       "      <td>...</td>\n",
       "    </tr>\n",
       "    <tr>\n",
       "      <td>23010</td>\n",
       "      <td>[잔잔한]</td>\n",
       "      <td>101722</td>\n",
       "      <td></td>\n",
       "      <td>[75842, 26083, 244183, 684715, 500593, 508608,...</td>\n",
       "      <td>17</td>\n",
       "      <td>2015-12-17 14:06:05.000</td>\n",
       "      <td>[감성, 휴식, 드라이브, 힐링, 잔잔한, 밤, 새벽, 사랑, 팝, 카페]</td>\n",
       "    </tr>\n",
       "    <tr>\n",
       "      <td>23011</td>\n",
       "      <td>[어머니, 힘들때, 아빠, 가족, 위로받고싶을때]</td>\n",
       "      <td>122127</td>\n",
       "      <td></td>\n",
       "      <td>[450275, 487671, 561031, 663944, 628672, 59121...</td>\n",
       "      <td>10</td>\n",
       "      <td>2020-04-16 21:35:44.000</td>\n",
       "      <td>[드라이브, 휴식, 잔잔한, 힐링, 감성, 새벽, 밤, 팝, 사랑, 카페]</td>\n",
       "    </tr>\n",
       "    <tr>\n",
       "      <td>23012</td>\n",
       "      <td>[팝]</td>\n",
       "      <td>77438</td>\n",
       "      <td></td>\n",
       "      <td>[625875, 464051, 11657, 236393, 358186, 213435...</td>\n",
       "      <td>0</td>\n",
       "      <td>2019-03-27 15:27:40.000</td>\n",
       "      <td>[드라이브, 휴식, 감성, 잔잔한, 힐링, 팝, 밤, 새벽, 카페, 사랑]</td>\n",
       "    </tr>\n",
       "    <tr>\n",
       "      <td>23013</td>\n",
       "      <td>[클래식]</td>\n",
       "      <td>36231</td>\n",
       "      <td></td>\n",
       "      <td>[161094, 665833, 688145, 432735, 439938, 12665...</td>\n",
       "      <td>31</td>\n",
       "      <td>2015-11-18 11:49:09.000</td>\n",
       "      <td>[휴식, 감성, 드라이브, 힐링, 잔잔한, 팝, 새벽, 사랑, 카페, 밤]</td>\n",
       "    </tr>\n",
       "    <tr>\n",
       "      <td>23014</td>\n",
       "      <td>[발라드]</td>\n",
       "      <td>65189</td>\n",
       "      <td></td>\n",
       "      <td>[643070, 132994, 98223, 293236, 513129, 650494...</td>\n",
       "      <td>19</td>\n",
       "      <td>2017-04-23 16:50:58.000</td>\n",
       "      <td>[잔잔한, 감성, 힐링, 휴식, 기분전환, 새벽, 팝, 밤, 카페, 추억]</td>\n",
       "    </tr>\n",
       "  </tbody>\n",
       "</table>\n",
       "<p>23015 rows × 7 columns</p>\n",
       "</div>"
      ],
      "text/plain": [
       "                              tags      id plylst_title  \\\n",
       "0                            [OST]  118598                \n",
       "1                           [턴테이블]  131447       앨리스테이블   \n",
       "2                            [발라드]   51464                \n",
       "3                            [발라드]   45144                \n",
       "4                            [CCM]   79929                \n",
       "...                            ...     ...          ...   \n",
       "23010                        [잔잔한]  101722                \n",
       "23011  [어머니, 힘들때, 아빠, 가족, 위로받고싶을때]  122127                \n",
       "23012                          [팝]   77438                \n",
       "23013                        [클래식]   36231                \n",
       "23014                        [발라드]   65189                \n",
       "\n",
       "                                                   songs  like_cnt  \\\n",
       "0      [373313, 151080, 275346, 696876, 165237, 52593...      1675   \n",
       "1      [572238, 233146, 61064, 336013, 611334, 359175...         1   \n",
       "2      [529437, 516103, 360067, 705713, 226062, 37089...        62   \n",
       "3      [589668, 21711, 570151, 320043, 13930, 599327,...        20   \n",
       "4      [672718, 121924, 102694, 683657, 201558, 38511...        20   \n",
       "...                                                  ...       ...   \n",
       "23010  [75842, 26083, 244183, 684715, 500593, 508608,...        17   \n",
       "23011  [450275, 487671, 561031, 663944, 628672, 59121...        10   \n",
       "23012  [625875, 464051, 11657, 236393, 358186, 213435...         0   \n",
       "23013  [161094, 665833, 688145, 432735, 439938, 12665...        31   \n",
       "23014  [643070, 132994, 98223, 293236, 513129, 650494...        19   \n",
       "\n",
       "                     updt_date                                 predict_tags  \n",
       "0      2019-05-27 14:14:33.000  [감성, 힐링, 기분전환, 잔잔한, 휴식, 팝, 새벽, 카페, 밤, 매장음악]  \n",
       "1      2014-07-16 15:24:24.000    [휴식, 힐링, 감성, 드라이브, 잔잔한, 새벽, 팝, 사랑, 밤, 카페]  \n",
       "2      2008-06-21 23:26:22.000  [기분전환, 힐링, 드라이브, 감성, 잔잔한, 새벽, 밤, 추억, 팝, 카페]  \n",
       "3      2017-10-30 18:15:43.000   [휴식, 드라이브, 감성, 힐링, 잔잔한, 새벽, 밤, 팝, 사랑, 발라드]  \n",
       "4      2017-02-07 11:40:42.000    [감성, 새벽, 밤, 휴식, 팝, 잔잔한, 힐링, 카페, 기분전환, 여행]  \n",
       "...                        ...                                          ...  \n",
       "23010  2015-12-17 14:06:05.000    [감성, 휴식, 드라이브, 힐링, 잔잔한, 밤, 새벽, 사랑, 팝, 카페]  \n",
       "23011  2020-04-16 21:35:44.000    [드라이브, 휴식, 잔잔한, 힐링, 감성, 새벽, 밤, 팝, 사랑, 카페]  \n",
       "23012  2019-03-27 15:27:40.000    [드라이브, 휴식, 감성, 잔잔한, 힐링, 팝, 밤, 새벽, 카페, 사랑]  \n",
       "23013  2015-11-18 11:49:09.000    [휴식, 감성, 드라이브, 힐링, 잔잔한, 팝, 새벽, 사랑, 카페, 밤]  \n",
       "23014  2017-04-23 16:50:58.000    [잔잔한, 감성, 힐링, 휴식, 기분전환, 새벽, 팝, 밤, 카페, 추억]  \n",
       "\n",
       "[23015 rows x 7 columns]"
      ]
     },
     "execution_count": 47,
     "metadata": {},
     "output_type": "execute_result"
    }
   ],
   "source": [
    "val"
   ]
  },
  {
   "cell_type": "markdown",
   "metadata": {},
   "source": [
    "## 예측 - tag -> song"
   ]
  },
  {
   "cell_type": "code",
   "execution_count": 6,
   "metadata": {
    "ExecuteTime": {
     "end_time": "2020-05-28T15:53:12.141456Z",
     "start_time": "2020-05-28T15:53:10.680164Z"
    },
    "execution": {
     "iopub.execute_input": "2020-05-28T08:31:01.869538Z",
     "iopub.status.busy": "2020-05-28T08:31:01.868541Z",
     "iopub.status.idle": "2020-05-28T08:31:03.224912Z",
     "shell.execute_reply": "2020-05-28T08:31:03.224912Z",
     "shell.execute_reply.started": "2020-05-28T08:31:01.869538Z"
    }
   },
   "outputs": [],
   "source": [
    "df_tags_train = pd.read_pickle('./raw_data/df_tags_train.pkl')\n",
    "df_tags_val = pd.read_pickle('./raw_data/df_tags_val.pkl')\n",
    "# val = pd.read_json('datas/validation.json')"
   ]
  },
  {
   "cell_type": "code",
   "execution_count": 7,
   "metadata": {
    "ExecuteTime": {
     "end_time": "2020-05-28T16:01:52.144676Z",
     "start_time": "2020-05-28T16:01:35.751353Z"
    },
    "execution": {
     "iopub.execute_input": "2020-05-28T08:31:03.225910Z",
     "iopub.status.busy": "2020-05-28T08:31:03.225910Z",
     "iopub.status.idle": "2020-05-28T08:31:04.741855Z",
     "shell.execute_reply": "2020-05-28T08:31:04.741855Z",
     "shell.execute_reply.started": "2020-05-28T08:31:03.225910Z"
    }
   },
   "outputs": [
    {
     "name": "stderr",
     "output_type": "stream",
     "text": [
      "Using TensorFlow backend.\n"
     ]
    }
   ],
   "source": [
    "# 모델 불러오기\n",
    "from keras.models import load_model\n",
    "model = load_model('./model/multi_song_classification_last.h5')"
   ]
  },
  {
   "cell_type": "code",
   "execution_count": 8,
   "metadata": {
    "ExecuteTime": {
     "end_time": "2020-05-28T16:02:02.889229Z",
     "start_time": "2020-05-28T16:01:54.414453Z"
    },
    "execution": {
     "iopub.execute_input": "2020-05-28T08:31:04.743850Z",
     "iopub.status.busy": "2020-05-28T08:31:04.743850Z",
     "iopub.status.idle": "2020-05-28T08:31:11.383092Z",
     "shell.execute_reply": "2020-05-28T08:31:11.382094Z",
     "shell.execute_reply.started": "2020-05-28T08:31:04.743850Z"
    }
   },
   "outputs": [],
   "source": [
    "# y클래스 생성\n",
    "from sklearn.preprocessing import MultiLabelBinarizer\n",
    "raw_te_tags_mlb = MultiLabelBinarizer(sparse_output=True)\n",
    "raw_te_tags = list(df_tags_train.songs)\n",
    "y = raw_te_tags_mlb.fit_transform(raw_te_tags)\n",
    "y_classes = raw_te_tags_mlb.classes_"
   ]
  },
  {
   "cell_type": "code",
   "execution_count": 9,
   "metadata": {
    "ExecuteTime": {
     "end_time": "2020-05-28T16:02:02.912003Z",
     "start_time": "2020-05-28T16:02:02.891268Z"
    },
    "execution": {
     "iopub.execute_input": "2020-05-28T08:31:12.964861Z",
     "iopub.status.busy": "2020-05-28T08:31:12.964861Z",
     "iopub.status.idle": "2020-05-28T08:31:13.050638Z",
     "shell.execute_reply": "2020-05-28T08:31:13.049634Z",
     "shell.execute_reply.started": "2020-05-28T08:31:12.964861Z"
    }
   },
   "outputs": [],
   "source": [
    "X = df_tags_train[df_tags_train.columns.difference(['songs'])]"
   ]
  },
  {
   "cell_type": "code",
   "execution_count": 10,
   "metadata": {
    "ExecuteTime": {
     "end_time": "2020-05-28T16:02:03.104385Z",
     "start_time": "2020-05-28T16:02:02.915052Z"
    },
    "execution": {
     "iopub.execute_input": "2020-05-28T08:31:14.283335Z",
     "iopub.status.busy": "2020-05-28T08:31:14.282337Z",
     "iopub.status.idle": "2020-05-28T08:31:14.434929Z",
     "shell.execute_reply": "2020-05-28T08:31:14.434929Z",
     "shell.execute_reply.started": "2020-05-28T08:31:14.282337Z"
    }
   },
   "outputs": [
    {
     "data": {
      "text/html": [
       "<div>\n",
       "<style scoped>\n",
       "    .dataframe tbody tr th:only-of-type {\n",
       "        vertical-align: middle;\n",
       "    }\n",
       "\n",
       "    .dataframe tbody tr th {\n",
       "        vertical-align: top;\n",
       "    }\n",
       "\n",
       "    .dataframe thead th {\n",
       "        text-align: right;\n",
       "    }\n",
       "</style>\n",
       "<table border=\"1\" class=\"dataframe\">\n",
       "  <thead>\n",
       "    <tr style=\"text-align: right;\">\n",
       "      <th></th>\n",
       "      <th>GN0100</th>\n",
       "      <th>GN0101</th>\n",
       "      <th>GN0102</th>\n",
       "      <th>GN0103</th>\n",
       "      <th>GN0104</th>\n",
       "      <th>GN0105</th>\n",
       "      <th>GN0200</th>\n",
       "      <th>GN0201</th>\n",
       "      <th>GN0202</th>\n",
       "      <th>GN0203</th>\n",
       "      <th>...</th>\n",
       "      <th>GN2802</th>\n",
       "      <th>GN2803</th>\n",
       "      <th>GN2804</th>\n",
       "      <th>GN2805</th>\n",
       "      <th>GN2806</th>\n",
       "      <th>GN2900</th>\n",
       "      <th>GN2901</th>\n",
       "      <th>GN2902</th>\n",
       "      <th>GN2903</th>\n",
       "      <th>GN3000</th>\n",
       "    </tr>\n",
       "    <tr>\n",
       "      <th>tags</th>\n",
       "      <th></th>\n",
       "      <th></th>\n",
       "      <th></th>\n",
       "      <th></th>\n",
       "      <th></th>\n",
       "      <th></th>\n",
       "      <th></th>\n",
       "      <th></th>\n",
       "      <th></th>\n",
       "      <th></th>\n",
       "      <th></th>\n",
       "      <th></th>\n",
       "      <th></th>\n",
       "      <th></th>\n",
       "      <th></th>\n",
       "      <th></th>\n",
       "      <th></th>\n",
       "      <th></th>\n",
       "      <th></th>\n",
       "      <th></th>\n",
       "      <th></th>\n",
       "    </tr>\n",
       "  </thead>\n",
       "  <tbody>\n",
       "    <tr>\n",
       "      <td></td>\n",
       "      <td>0.000000</td>\n",
       "      <td>0.000000</td>\n",
       "      <td>0.000000</td>\n",
       "      <td>0.000000</td>\n",
       "      <td>0.000000</td>\n",
       "      <td>0.000000</td>\n",
       "      <td>0.000000</td>\n",
       "      <td>0.000000</td>\n",
       "      <td>0.000000</td>\n",
       "      <td>0.000000</td>\n",
       "      <td>...</td>\n",
       "      <td>0.0</td>\n",
       "      <td>0.0</td>\n",
       "      <td>0.0</td>\n",
       "      <td>0.0</td>\n",
       "      <td>0.0</td>\n",
       "      <td>0.000000</td>\n",
       "      <td>0.000000</td>\n",
       "      <td>0.0</td>\n",
       "      <td>0.000000</td>\n",
       "      <td>0.0</td>\n",
       "    </tr>\n",
       "    <tr>\n",
       "      <td>00</td>\n",
       "      <td>0.000006</td>\n",
       "      <td>0.000006</td>\n",
       "      <td>0.000000</td>\n",
       "      <td>0.000000</td>\n",
       "      <td>0.000000</td>\n",
       "      <td>0.000000</td>\n",
       "      <td>0.000374</td>\n",
       "      <td>0.000360</td>\n",
       "      <td>0.000000</td>\n",
       "      <td>0.000965</td>\n",
       "      <td>...</td>\n",
       "      <td>0.0</td>\n",
       "      <td>0.0</td>\n",
       "      <td>0.0</td>\n",
       "      <td>0.0</td>\n",
       "      <td>0.0</td>\n",
       "      <td>0.000000</td>\n",
       "      <td>0.000000</td>\n",
       "      <td>0.0</td>\n",
       "      <td>0.000000</td>\n",
       "      <td>0.0</td>\n",
       "    </tr>\n",
       "    <tr>\n",
       "      <td>007시리즈</td>\n",
       "      <td>0.000000</td>\n",
       "      <td>0.000000</td>\n",
       "      <td>0.000000</td>\n",
       "      <td>0.000000</td>\n",
       "      <td>0.000000</td>\n",
       "      <td>0.000000</td>\n",
       "      <td>0.000000</td>\n",
       "      <td>0.000000</td>\n",
       "      <td>0.000000</td>\n",
       "      <td>0.000000</td>\n",
       "      <td>...</td>\n",
       "      <td>0.0</td>\n",
       "      <td>0.0</td>\n",
       "      <td>0.0</td>\n",
       "      <td>0.0</td>\n",
       "      <td>0.0</td>\n",
       "      <td>0.000000</td>\n",
       "      <td>0.000000</td>\n",
       "      <td>0.0</td>\n",
       "      <td>0.000000</td>\n",
       "      <td>0.0</td>\n",
       "    </tr>\n",
       "    <tr>\n",
       "      <td>00s</td>\n",
       "      <td>0.000360</td>\n",
       "      <td>0.000345</td>\n",
       "      <td>0.001471</td>\n",
       "      <td>0.002077</td>\n",
       "      <td>0.000702</td>\n",
       "      <td>0.000029</td>\n",
       "      <td>0.000505</td>\n",
       "      <td>0.000483</td>\n",
       "      <td>0.000000</td>\n",
       "      <td>0.002342</td>\n",
       "      <td>...</td>\n",
       "      <td>0.0</td>\n",
       "      <td>0.0</td>\n",
       "      <td>0.0</td>\n",
       "      <td>0.0</td>\n",
       "      <td>0.0</td>\n",
       "      <td>0.000000</td>\n",
       "      <td>0.000000</td>\n",
       "      <td>0.0</td>\n",
       "      <td>0.000000</td>\n",
       "      <td>0.0</td>\n",
       "    </tr>\n",
       "    <tr>\n",
       "      <td>00년</td>\n",
       "      <td>0.000262</td>\n",
       "      <td>0.000259</td>\n",
       "      <td>0.000000</td>\n",
       "      <td>0.000383</td>\n",
       "      <td>0.000539</td>\n",
       "      <td>0.000092</td>\n",
       "      <td>0.000677</td>\n",
       "      <td>0.000648</td>\n",
       "      <td>0.002062</td>\n",
       "      <td>0.000413</td>\n",
       "      <td>...</td>\n",
       "      <td>0.0</td>\n",
       "      <td>0.0</td>\n",
       "      <td>0.0</td>\n",
       "      <td>0.0</td>\n",
       "      <td>0.0</td>\n",
       "      <td>0.000000</td>\n",
       "      <td>0.000000</td>\n",
       "      <td>0.0</td>\n",
       "      <td>0.000000</td>\n",
       "      <td>0.0</td>\n",
       "    </tr>\n",
       "    <tr>\n",
       "      <td>...</td>\n",
       "      <td>...</td>\n",
       "      <td>...</td>\n",
       "      <td>...</td>\n",
       "      <td>...</td>\n",
       "      <td>...</td>\n",
       "      <td>...</td>\n",
       "      <td>...</td>\n",
       "      <td>...</td>\n",
       "      <td>...</td>\n",
       "      <td>...</td>\n",
       "      <td>...</td>\n",
       "      <td>...</td>\n",
       "      <td>...</td>\n",
       "      <td>...</td>\n",
       "      <td>...</td>\n",
       "      <td>...</td>\n",
       "      <td>...</td>\n",
       "      <td>...</td>\n",
       "      <td>...</td>\n",
       "      <td>...</td>\n",
       "      <td>...</td>\n",
       "    </tr>\n",
       "    <tr>\n",
       "      <td>힙합엘이</td>\n",
       "      <td>0.000009</td>\n",
       "      <td>0.000009</td>\n",
       "      <td>0.000000</td>\n",
       "      <td>0.000000</td>\n",
       "      <td>0.000000</td>\n",
       "      <td>0.000011</td>\n",
       "      <td>0.000333</td>\n",
       "      <td>0.000319</td>\n",
       "      <td>0.000000</td>\n",
       "      <td>0.000000</td>\n",
       "      <td>...</td>\n",
       "      <td>0.0</td>\n",
       "      <td>0.0</td>\n",
       "      <td>0.0</td>\n",
       "      <td>0.0</td>\n",
       "      <td>0.0</td>\n",
       "      <td>0.006789</td>\n",
       "      <td>0.006821</td>\n",
       "      <td>0.0</td>\n",
       "      <td>0.012837</td>\n",
       "      <td>0.0</td>\n",
       "    </tr>\n",
       "    <tr>\n",
       "      <td>힙합재즈</td>\n",
       "      <td>0.000000</td>\n",
       "      <td>0.000000</td>\n",
       "      <td>0.000000</td>\n",
       "      <td>0.000000</td>\n",
       "      <td>0.000000</td>\n",
       "      <td>0.000000</td>\n",
       "      <td>0.000000</td>\n",
       "      <td>0.000000</td>\n",
       "      <td>0.000000</td>\n",
       "      <td>0.000000</td>\n",
       "      <td>...</td>\n",
       "      <td>0.0</td>\n",
       "      <td>0.0</td>\n",
       "      <td>0.0</td>\n",
       "      <td>0.0</td>\n",
       "      <td>0.0</td>\n",
       "      <td>0.000000</td>\n",
       "      <td>0.000000</td>\n",
       "      <td>0.0</td>\n",
       "      <td>0.000000</td>\n",
       "      <td>0.0</td>\n",
       "    </tr>\n",
       "    <tr>\n",
       "      <td>힙합존</td>\n",
       "      <td>0.000000</td>\n",
       "      <td>0.000000</td>\n",
       "      <td>0.000000</td>\n",
       "      <td>0.000000</td>\n",
       "      <td>0.000000</td>\n",
       "      <td>0.000000</td>\n",
       "      <td>0.000000</td>\n",
       "      <td>0.000000</td>\n",
       "      <td>0.000000</td>\n",
       "      <td>0.000000</td>\n",
       "      <td>...</td>\n",
       "      <td>0.0</td>\n",
       "      <td>0.0</td>\n",
       "      <td>0.0</td>\n",
       "      <td>0.0</td>\n",
       "      <td>0.0</td>\n",
       "      <td>0.000000</td>\n",
       "      <td>0.000000</td>\n",
       "      <td>0.0</td>\n",
       "      <td>0.000000</td>\n",
       "      <td>0.0</td>\n",
       "    </tr>\n",
       "    <tr>\n",
       "      <td>힙합클럽</td>\n",
       "      <td>0.000161</td>\n",
       "      <td>0.000158</td>\n",
       "      <td>0.000000</td>\n",
       "      <td>0.000000</td>\n",
       "      <td>0.000020</td>\n",
       "      <td>0.000213</td>\n",
       "      <td>0.000212</td>\n",
       "      <td>0.000216</td>\n",
       "      <td>0.000000</td>\n",
       "      <td>0.000000</td>\n",
       "      <td>...</td>\n",
       "      <td>0.0</td>\n",
       "      <td>0.0</td>\n",
       "      <td>0.0</td>\n",
       "      <td>0.0</td>\n",
       "      <td>0.0</td>\n",
       "      <td>0.000000</td>\n",
       "      <td>0.000000</td>\n",
       "      <td>0.0</td>\n",
       "      <td>0.000000</td>\n",
       "      <td>0.0</td>\n",
       "    </tr>\n",
       "    <tr>\n",
       "      <td>힙합홍대</td>\n",
       "      <td>0.000000</td>\n",
       "      <td>0.000000</td>\n",
       "      <td>0.000000</td>\n",
       "      <td>0.000000</td>\n",
       "      <td>0.000000</td>\n",
       "      <td>0.000000</td>\n",
       "      <td>0.000010</td>\n",
       "      <td>0.000000</td>\n",
       "      <td>0.000000</td>\n",
       "      <td>0.000000</td>\n",
       "      <td>...</td>\n",
       "      <td>0.0</td>\n",
       "      <td>0.0</td>\n",
       "      <td>0.0</td>\n",
       "      <td>0.0</td>\n",
       "      <td>0.0</td>\n",
       "      <td>0.000000</td>\n",
       "      <td>0.000000</td>\n",
       "      <td>0.0</td>\n",
       "      <td>0.000000</td>\n",
       "      <td>0.0</td>\n",
       "    </tr>\n",
       "  </tbody>\n",
       "</table>\n",
       "<p>29965 rows × 254 columns</p>\n",
       "</div>"
      ],
      "text/plain": [
       "          GN0100    GN0101    GN0102    GN0103    GN0104    GN0105    GN0200  \\\n",
       "tags                                                                           \n",
       "        0.000000  0.000000  0.000000  0.000000  0.000000  0.000000  0.000000   \n",
       "00      0.000006  0.000006  0.000000  0.000000  0.000000  0.000000  0.000374   \n",
       "007시리즈  0.000000  0.000000  0.000000  0.000000  0.000000  0.000000  0.000000   \n",
       "00s     0.000360  0.000345  0.001471  0.002077  0.000702  0.000029  0.000505   \n",
       "00년     0.000262  0.000259  0.000000  0.000383  0.000539  0.000092  0.000677   \n",
       "...          ...       ...       ...       ...       ...       ...       ...   \n",
       "힙합엘이    0.000009  0.000009  0.000000  0.000000  0.000000  0.000011  0.000333   \n",
       "힙합재즈    0.000000  0.000000  0.000000  0.000000  0.000000  0.000000  0.000000   \n",
       "힙합존     0.000000  0.000000  0.000000  0.000000  0.000000  0.000000  0.000000   \n",
       "힙합클럽    0.000161  0.000158  0.000000  0.000000  0.000020  0.000213  0.000212   \n",
       "힙합홍대    0.000000  0.000000  0.000000  0.000000  0.000000  0.000000  0.000010   \n",
       "\n",
       "          GN0201    GN0202    GN0203  ...  GN2802  GN2803  GN2804  GN2805  \\\n",
       "tags                                  ...                                   \n",
       "        0.000000  0.000000  0.000000  ...     0.0     0.0     0.0     0.0   \n",
       "00      0.000360  0.000000  0.000965  ...     0.0     0.0     0.0     0.0   \n",
       "007시리즈  0.000000  0.000000  0.000000  ...     0.0     0.0     0.0     0.0   \n",
       "00s     0.000483  0.000000  0.002342  ...     0.0     0.0     0.0     0.0   \n",
       "00년     0.000648  0.002062  0.000413  ...     0.0     0.0     0.0     0.0   \n",
       "...          ...       ...       ...  ...     ...     ...     ...     ...   \n",
       "힙합엘이    0.000319  0.000000  0.000000  ...     0.0     0.0     0.0     0.0   \n",
       "힙합재즈    0.000000  0.000000  0.000000  ...     0.0     0.0     0.0     0.0   \n",
       "힙합존     0.000000  0.000000  0.000000  ...     0.0     0.0     0.0     0.0   \n",
       "힙합클럽    0.000216  0.000000  0.000000  ...     0.0     0.0     0.0     0.0   \n",
       "힙합홍대    0.000000  0.000000  0.000000  ...     0.0     0.0     0.0     0.0   \n",
       "\n",
       "        GN2806    GN2900    GN2901  GN2902    GN2903  GN3000  \n",
       "tags                                                          \n",
       "           0.0  0.000000  0.000000     0.0  0.000000     0.0  \n",
       "00         0.0  0.000000  0.000000     0.0  0.000000     0.0  \n",
       "007시리즈     0.0  0.000000  0.000000     0.0  0.000000     0.0  \n",
       "00s        0.0  0.000000  0.000000     0.0  0.000000     0.0  \n",
       "00년        0.0  0.000000  0.000000     0.0  0.000000     0.0  \n",
       "...        ...       ...       ...     ...       ...     ...  \n",
       "힙합엘이       0.0  0.006789  0.006821     0.0  0.012837     0.0  \n",
       "힙합재즈       0.0  0.000000  0.000000     0.0  0.000000     0.0  \n",
       "힙합존        0.0  0.000000  0.000000     0.0  0.000000     0.0  \n",
       "힙합클럽       0.0  0.000000  0.000000     0.0  0.000000     0.0  \n",
       "힙합홍대       0.0  0.000000  0.000000     0.0  0.000000     0.0  \n",
       "\n",
       "[29965 rows x 254 columns]"
      ]
     },
     "execution_count": 10,
     "metadata": {},
     "output_type": "execute_result"
    }
   ],
   "source": [
    "raw_datas = pd.concat([X,df_tags_val])\n",
    "raw_datas.reset_index(inplace = True)\n",
    "raw_datas.drop_duplicates('tags', inplace = True,keep = 'last')\n",
    "raw_datas.set_index('tags', inplace = True)\n",
    "raw_datas"
   ]
  },
  {
   "cell_type": "code",
   "execution_count": 11,
   "metadata": {
    "ExecuteTime": {
     "end_time": "2020-05-28T16:02:03.113339Z",
     "start_time": "2020-05-28T16:02:03.107321Z"
    },
    "execution": {
     "iopub.execute_input": "2020-05-28T08:31:18.204846Z",
     "iopub.status.busy": "2020-05-28T08:31:18.204846Z",
     "iopub.status.idle": "2020-05-28T08:31:18.213839Z",
     "shell.execute_reply": "2020-05-28T08:31:18.212824Z",
     "shell.execute_reply.started": "2020-05-28T08:31:18.204846Z"
    }
   },
   "outputs": [],
   "source": [
    "# 중복제거 고민\n",
    "def find_songs(x):\n",
    "    return list(OrderedDict.fromkeys(np.concatenate([y_classes[np.concatenate(model.predict(raw_datas.loc[i].values.reshape(1,-1)).argsort())[::-1][1:int(201/len(x))]] for i in x])))[:100]"
   ]
  },
  {
   "cell_type": "code",
   "execution_count": 12,
   "metadata": {
    "ExecuteTime": {
     "end_time": "2020-05-28T17:07:42.853587Z",
     "start_time": "2020-05-28T16:02:03.115639Z"
    },
    "execution": {
     "iopub.execute_input": "2020-05-28T08:31:20.392993Z",
     "iopub.status.busy": "2020-05-28T08:31:20.392993Z"
    }
   },
   "outputs": [
    {
     "data": {
      "application/vnd.jupyter.widget-view+json": {
       "model_id": "7945d53e81244047813e297d54e45289",
       "version_major": 2,
       "version_minor": 0
      },
      "text/plain": [
       "HBox(children=(IntProgress(value=0, max=23015), HTML(value='')))"
      ]
     },
     "metadata": {},
     "output_type": "display_data"
    },
    {
     "name": "stdout",
     "output_type": "stream",
     "text": [
      "\n"
     ]
    }
   ],
   "source": [
    "from tqdm.notebook import tqdm\n",
    "from collections import OrderedDict\n",
    "tqdm.pandas()\n",
    "val['predict_songs'] = val['tags'].progress_apply(lambda x: find_songs(x))"
   ]
  },
  {
   "cell_type": "code",
   "execution_count": 14,
   "metadata": {
    "ExecuteTime": {
     "end_time": "2020-05-28T17:14:57.762922Z",
     "start_time": "2020-05-28T17:14:57.749884Z"
    },
    "execution": {
     "iopub.execute_input": "2020-05-28T03:20:30.116945Z",
     "iopub.status.busy": "2020-05-28T03:20:30.116945Z",
     "iopub.status.idle": "2020-05-28T03:20:30.167813Z",
     "shell.execute_reply": "2020-05-28T03:20:30.166811Z",
     "shell.execute_reply.started": "2020-05-28T03:20:30.116945Z"
    }
   },
   "outputs": [
    {
     "data": {
      "text/plain": [
       "4459"
      ]
     },
     "execution_count": 14,
     "metadata": {},
     "output_type": "execute_result"
    }
   ],
   "source": [
    "# 혹시나 노래 100개 안채워진거있나 확인\n",
    "not_100 = val[val['predict_songs'].apply(lambda x : len(x) != 100)]\n",
    "len(not_100['predict_songs']) "
   ]
  },
  {
   "cell_type": "code",
   "execution_count": 18,
   "metadata": {
    "ExecuteTime": {
     "end_time": "2020-05-28T17:16:07.404580Z",
     "start_time": "2020-05-28T17:15:46.122521Z"
    },
    "execution": {
     "iopub.execute_input": "2020-05-28T03:20:36.242391Z",
     "iopub.status.busy": "2020-05-28T03:20:36.242391Z",
     "iopub.status.idle": "2020-05-28T03:20:49.772659Z",
     "shell.execute_reply": "2020-05-28T03:20:49.772659Z",
     "shell.execute_reply.started": "2020-05-28T03:20:36.242391Z"
    }
   },
   "outputs": [],
   "source": [
    "song_tags = pd.read_json('./raw_data/song_tags.json', typ = 'frame')\n",
    "import random\n",
    "random.seed(13)\n",
    "song_list = list(song_tags['songs'])\n",
    "for i in not_100.index:\n",
    "        s = list(map(int,random.sample(song_list, 100 - len(not_100['predict_songs'][i]))))\n",
    "        not_100['predict_songs'][i] = list(set(s + not_100['predict_songs'][i]))"
   ]
  },
  {
   "cell_type": "code",
   "execution_count": 19,
   "metadata": {
    "ExecuteTime": {
     "end_time": "2020-05-28T17:16:08.444645Z",
     "start_time": "2020-05-28T17:16:08.430775Z"
    },
    "execution": {
     "iopub.execute_input": "2020-05-28T03:20:51.374167Z",
     "iopub.status.busy": "2020-05-28T03:20:51.374167Z",
     "iopub.status.idle": "2020-05-28T03:20:51.384141Z",
     "shell.execute_reply": "2020-05-28T03:20:51.384141Z",
     "shell.execute_reply.started": "2020-05-28T03:20:51.374167Z"
    }
   },
   "outputs": [
    {
     "data": {
      "text/html": [
       "<div>\n",
       "<style scoped>\n",
       "    .dataframe tbody tr th:only-of-type {\n",
       "        vertical-align: middle;\n",
       "    }\n",
       "\n",
       "    .dataframe tbody tr th {\n",
       "        vertical-align: top;\n",
       "    }\n",
       "\n",
       "    .dataframe thead th {\n",
       "        text-align: right;\n",
       "    }\n",
       "</style>\n",
       "<table border=\"1\" class=\"dataframe\">\n",
       "  <thead>\n",
       "    <tr style=\"text-align: right;\">\n",
       "      <th></th>\n",
       "      <th>tags</th>\n",
       "      <th>id</th>\n",
       "      <th>plylst_title</th>\n",
       "      <th>songs</th>\n",
       "      <th>like_cnt</th>\n",
       "      <th>updt_date</th>\n",
       "      <th>predict_songs</th>\n",
       "    </tr>\n",
       "  </thead>\n",
       "  <tbody>\n",
       "  </tbody>\n",
       "</table>\n",
       "</div>"
      ],
      "text/plain": [
       "Empty DataFrame\n",
       "Columns: [tags, id, plylst_title, songs, like_cnt, updt_date, predict_songs]\n",
       "Index: []"
      ]
     },
     "execution_count": 19,
     "metadata": {},
     "output_type": "execute_result"
    }
   ],
   "source": [
    "not_100[not_100['predict_songs'].apply(lambda x : len(x) != 100)]"
   ]
  },
  {
   "cell_type": "code",
   "execution_count": 49,
   "metadata": {
    "ExecuteTime": {
     "end_time": "2020-05-29T00:14:13.710756Z",
     "start_time": "2020-05-29T00:14:13.679689Z"
    },
    "execution": {
     "iopub.execute_input": "2020-05-28T03:20:52.267207Z",
     "iopub.status.busy": "2020-05-28T03:20:52.267207Z",
     "iopub.status.idle": "2020-05-28T03:20:52.305131Z",
     "shell.execute_reply": "2020-05-28T03:20:52.305131Z",
     "shell.execute_reply.started": "2020-05-28T03:20:52.267207Z"
    }
   },
   "outputs": [],
   "source": [
    "val = pd.concat([val,not_100])\n",
    "val = val.drop_duplicates('id',keep = 'last')\n",
    "val.reset_index(drop = True, inplace = True)"
   ]
  },
  {
   "cell_type": "code",
   "execution_count": 50,
   "metadata": {
    "ExecuteTime": {
     "end_time": "2020-05-29T00:14:14.771158Z",
     "start_time": "2020-05-29T00:14:14.750140Z"
    },
    "execution": {
     "iopub.execute_input": "2020-05-28T03:26:21.589166Z",
     "iopub.status.busy": "2020-05-28T03:26:21.589166Z",
     "iopub.status.idle": "2020-05-28T03:26:22.114782Z",
     "shell.execute_reply": "2020-05-28T03:26:22.114071Z",
     "shell.execute_reply.started": "2020-05-28T03:26:21.589166Z"
    }
   },
   "outputs": [
    {
     "ename": "TypeError",
     "evalue": "'float' object is not iterable",
     "output_type": "error",
     "traceback": [
      "\u001b[0;31m---------------------------------------------------------------------------\u001b[0m",
      "\u001b[0;31mTypeError\u001b[0m                                 Traceback (most recent call last)",
      "\u001b[0;32m<ipython-input-50-27a710bdb51a>\u001b[0m in \u001b[0;36m<module>\u001b[0;34m\u001b[0m\n\u001b[1;32m      2\u001b[0m \u001b[0mno_song\u001b[0m \u001b[0;34m=\u001b[0m \u001b[0;34m[\u001b[0m\u001b[0;34m]\u001b[0m\u001b[0;34m\u001b[0m\u001b[0;34m\u001b[0m\u001b[0m\n\u001b[1;32m      3\u001b[0m \u001b[0;32mfor\u001b[0m \u001b[0mi\u001b[0m \u001b[0;32min\u001b[0m \u001b[0mval\u001b[0m\u001b[0;34m.\u001b[0m\u001b[0mindex\u001b[0m\u001b[0;34m:\u001b[0m\u001b[0;34m\u001b[0m\u001b[0;34m\u001b[0m\u001b[0m\n\u001b[0;32m----> 4\u001b[0;31m     \u001b[0;32mif\u001b[0m \u001b[0mlen\u001b[0m\u001b[0;34m(\u001b[0m\u001b[0mset\u001b[0m\u001b[0;34m(\u001b[0m\u001b[0mval\u001b[0m\u001b[0;34m[\u001b[0m\u001b[0;34m'predict_songs'\u001b[0m\u001b[0;34m]\u001b[0m\u001b[0;34m[\u001b[0m\u001b[0mi\u001b[0m\u001b[0;34m]\u001b[0m\u001b[0;34m)\u001b[0m\u001b[0;34m)\u001b[0m \u001b[0;34m!=\u001b[0m \u001b[0;36m100\u001b[0m\u001b[0;34m:\u001b[0m\u001b[0;34m\u001b[0m\u001b[0;34m\u001b[0m\u001b[0m\n\u001b[0m\u001b[1;32m      5\u001b[0m         \u001b[0mno_song\u001b[0m\u001b[0;34m.\u001b[0m\u001b[0mappend\u001b[0m\u001b[0;34m(\u001b[0m\u001b[0mval\u001b[0m\u001b[0;34m.\u001b[0m\u001b[0mloc\u001b[0m\u001b[0;34m[\u001b[0m\u001b[0mi\u001b[0m\u001b[0;34m]\u001b[0m\u001b[0;34m)\u001b[0m\u001b[0;34m\u001b[0m\u001b[0;34m\u001b[0m\u001b[0m\n",
      "\u001b[0;31mTypeError\u001b[0m: 'float' object is not iterable"
     ]
    }
   ],
   "source": [
    "# 노래 중복확인\n",
    "no_song = []\n",
    "for i in val.index:\n",
    "    if len(set(val['predict_songs'][i])) != 100:\n",
    "        no_song.append(val.loc[i])"
   ]
  },
  {
   "cell_type": "code",
   "execution_count": 51,
   "metadata": {
    "ExecuteTime": {
     "end_time": "2020-05-29T00:14:15.965010Z",
     "start_time": "2020-05-29T00:14:15.679989Z"
    },
    "execution": {
     "iopub.execute_input": "2020-05-28T03:26:27.077454Z",
     "iopub.status.busy": "2020-05-28T03:26:27.076421Z",
     "iopub.status.idle": "2020-05-28T03:26:27.459395Z",
     "shell.execute_reply": "2020-05-28T03:26:27.458744Z",
     "shell.execute_reply.started": "2020-05-28T03:26:27.077454Z"
    }
   },
   "outputs": [
    {
     "ename": "TypeError",
     "evalue": "'float' object is not iterable",
     "output_type": "error",
     "traceback": [
      "\u001b[0;31m---------------------------------------------------------------------------\u001b[0m",
      "\u001b[0;31mTypeError\u001b[0m                                 Traceback (most recent call last)",
      "\u001b[0;32m<ipython-input-51-f117a802f758>\u001b[0m in \u001b[0;36m<module>\u001b[0;34m\u001b[0m\n\u001b[1;32m      2\u001b[0m \u001b[0mno_tag\u001b[0m \u001b[0;34m=\u001b[0m \u001b[0;34m[\u001b[0m\u001b[0;34m]\u001b[0m\u001b[0;34m\u001b[0m\u001b[0;34m\u001b[0m\u001b[0m\n\u001b[1;32m      3\u001b[0m \u001b[0;32mfor\u001b[0m \u001b[0mi\u001b[0m \u001b[0;32min\u001b[0m \u001b[0mval\u001b[0m\u001b[0;34m.\u001b[0m\u001b[0mindex\u001b[0m\u001b[0;34m:\u001b[0m\u001b[0;34m\u001b[0m\u001b[0;34m\u001b[0m\u001b[0m\n\u001b[0;32m----> 4\u001b[0;31m     \u001b[0;32mif\u001b[0m \u001b[0mlen\u001b[0m\u001b[0;34m(\u001b[0m\u001b[0mset\u001b[0m\u001b[0;34m(\u001b[0m\u001b[0mval\u001b[0m\u001b[0;34m[\u001b[0m\u001b[0;34m'predict_tags'\u001b[0m\u001b[0;34m]\u001b[0m\u001b[0;34m[\u001b[0m\u001b[0mi\u001b[0m\u001b[0;34m]\u001b[0m\u001b[0;34m)\u001b[0m\u001b[0;34m)\u001b[0m \u001b[0;34m!=\u001b[0m \u001b[0;36m10\u001b[0m\u001b[0;34m:\u001b[0m\u001b[0;34m\u001b[0m\u001b[0;34m\u001b[0m\u001b[0m\n\u001b[0m\u001b[1;32m      5\u001b[0m         \u001b[0mno_tag\u001b[0m\u001b[0;34m.\u001b[0m\u001b[0mappend\u001b[0m\u001b[0;34m(\u001b[0m\u001b[0mval\u001b[0m\u001b[0;34m.\u001b[0m\u001b[0mloc\u001b[0m\u001b[0;34m[\u001b[0m\u001b[0mi\u001b[0m\u001b[0;34m]\u001b[0m\u001b[0;34m)\u001b[0m\u001b[0;34m\u001b[0m\u001b[0;34m\u001b[0m\u001b[0m\n",
      "\u001b[0;31mTypeError\u001b[0m: 'float' object is not iterable"
     ]
    }
   ],
   "source": [
    "# 노래 중복확인\n",
    "no_tag = []\n",
    "for i in val.index:\n",
    "    if len(set(val['predict_tags'][i])) != 10:\n",
    "        no_tag.append(val.loc[i])"
   ]
  },
  {
   "cell_type": "code",
   "execution_count": 45,
   "metadata": {
    "execution": {
     "iopub.execute_input": "2020-05-28T03:26:33.477774Z",
     "iopub.status.busy": "2020-05-28T03:26:33.476731Z",
     "iopub.status.idle": "2020-05-28T03:26:33.482715Z",
     "shell.execute_reply": "2020-05-28T03:26:33.482715Z",
     "shell.execute_reply.started": "2020-05-28T03:26:33.477774Z"
    }
   },
   "outputs": [
    {
     "data": {
      "text/plain": [
       "[]"
      ]
     },
     "execution_count": 45,
     "metadata": {},
     "output_type": "execute_result"
    }
   ],
   "source": [
    "no_song"
   ]
  },
  {
   "cell_type": "code",
   "execution_count": 44,
   "metadata": {
    "execution": {
     "iopub.execute_input": "2020-05-28T03:26:32.085098Z",
     "iopub.status.busy": "2020-05-28T03:26:32.085098Z",
     "iopub.status.idle": "2020-05-28T03:26:32.090111Z",
     "shell.execute_reply": "2020-05-28T03:26:32.090111Z",
     "shell.execute_reply.started": "2020-05-28T03:26:32.085098Z"
    }
   },
   "outputs": [
    {
     "data": {
      "text/plain": [
       "[]"
      ]
     },
     "execution_count": 44,
     "metadata": {},
     "output_type": "execute_result"
    }
   ],
   "source": [
    "no_tag"
   ]
  },
  {
   "cell_type": "markdown",
   "metadata": {},
   "source": [
    "#### 제출용 저장"
   ]
  },
  {
   "cell_type": "code",
   "execution_count": 53,
   "metadata": {
    "ExecuteTime": {
     "end_time": "2020-05-29T00:14:29.453039Z",
     "start_time": "2020-05-29T00:14:29.447439Z"
    },
    "execution": {
     "iopub.execute_input": "2020-05-28T03:24:35.836782Z",
     "iopub.status.busy": "2020-05-28T03:24:35.836782Z",
     "iopub.status.idle": "2020-05-28T03:24:35.842776Z",
     "shell.execute_reply": "2020-05-28T03:24:35.842776Z",
     "shell.execute_reply.started": "2020-05-28T03:24:35.836782Z"
    }
   },
   "outputs": [],
   "source": [
    "result = val[['id','predict_songs','predict_tags']]"
   ]
  },
  {
   "cell_type": "code",
   "execution_count": 54,
   "metadata": {
    "ExecuteTime": {
     "end_time": "2020-05-29T00:14:29.683050Z",
     "start_time": "2020-05-29T00:14:29.617758Z"
    },
    "execution": {
     "iopub.execute_input": "2020-05-28T03:25:12.701558Z",
     "iopub.status.busy": "2020-05-28T03:25:12.701558Z",
     "iopub.status.idle": "2020-05-28T03:25:14.031998Z",
     "shell.execute_reply": "2020-05-28T03:25:14.031003Z",
     "shell.execute_reply.started": "2020-05-28T03:25:12.701558Z"
    }
   },
   "outputs": [
    {
     "ename": "TypeError",
     "evalue": "'float' object is not iterable",
     "output_type": "error",
     "traceback": [
      "\u001b[0;31m---------------------------------------------------------------------------\u001b[0m",
      "\u001b[0;31mTypeError\u001b[0m                                 Traceback (most recent call last)",
      "\u001b[0;32m<ipython-input-54-10189ab19410>\u001b[0m in \u001b[0;36m<module>\u001b[0;34m\u001b[0m\n\u001b[1;32m      1\u001b[0m \u001b[0mresults\u001b[0m \u001b[0;34m=\u001b[0m \u001b[0;34m[\u001b[0m\u001b[0;34m]\u001b[0m\u001b[0;34m\u001b[0m\u001b[0;34m\u001b[0m\u001b[0m\n\u001b[1;32m      2\u001b[0m \u001b[0;32mfor\u001b[0m \u001b[0mi\u001b[0m \u001b[0;32min\u001b[0m \u001b[0mrange\u001b[0m\u001b[0;34m(\u001b[0m\u001b[0;36m0\u001b[0m\u001b[0;34m,\u001b[0m\u001b[0mlen\u001b[0m\u001b[0;34m(\u001b[0m\u001b[0mresult\u001b[0m\u001b[0;34m)\u001b[0m\u001b[0;34m)\u001b[0m\u001b[0;34m:\u001b[0m\u001b[0;34m\u001b[0m\u001b[0;34m\u001b[0m\u001b[0m\n\u001b[0;32m----> 3\u001b[0;31m     \u001b[0mresults\u001b[0m\u001b[0;34m.\u001b[0m\u001b[0mappend\u001b[0m\u001b[0;34m(\u001b[0m\u001b[0;34m{\u001b[0m\u001b[0;34m'id'\u001b[0m \u001b[0;34m:\u001b[0m \u001b[0mint\u001b[0m\u001b[0;34m(\u001b[0m\u001b[0mresult\u001b[0m\u001b[0;34m[\u001b[0m\u001b[0;34m'id'\u001b[0m\u001b[0;34m]\u001b[0m\u001b[0;34m[\u001b[0m\u001b[0mi\u001b[0m\u001b[0;34m]\u001b[0m\u001b[0;34m)\u001b[0m\u001b[0;34m,\u001b[0m \u001b[0;34m'songs'\u001b[0m \u001b[0;34m:\u001b[0m \u001b[0mlist\u001b[0m\u001b[0;34m(\u001b[0m\u001b[0mmap\u001b[0m\u001b[0;34m(\u001b[0m\u001b[0mint\u001b[0m\u001b[0;34m,\u001b[0m \u001b[0mresult\u001b[0m\u001b[0;34m[\u001b[0m\u001b[0;34m'predict_songs'\u001b[0m\u001b[0;34m]\u001b[0m\u001b[0;34m[\u001b[0m\u001b[0mi\u001b[0m\u001b[0;34m]\u001b[0m\u001b[0;34m)\u001b[0m\u001b[0;34m)\u001b[0m\u001b[0;34m,\u001b[0m \u001b[0;34m'tags'\u001b[0m \u001b[0;34m:\u001b[0m \u001b[0mresult\u001b[0m\u001b[0;34m[\u001b[0m\u001b[0;34m'predict_tags'\u001b[0m\u001b[0;34m]\u001b[0m\u001b[0;34m[\u001b[0m\u001b[0mi\u001b[0m\u001b[0;34m]\u001b[0m\u001b[0;34m}\u001b[0m\u001b[0;34m)\u001b[0m\u001b[0;34m\u001b[0m\u001b[0;34m\u001b[0m\u001b[0m\n\u001b[0m",
      "\u001b[0;31mTypeError\u001b[0m: 'float' object is not iterable"
     ]
    }
   ],
   "source": [
    "results = []\n",
    "for i in range(0,len(result)):\n",
    "    results.append({'id' : int(result['id'][i]), 'songs' : list(map(int, result['predict_songs'][i])), 'tags' : result['predict_tags'][i]})"
   ]
  },
  {
   "cell_type": "code",
   "execution_count": 55,
   "metadata": {
    "ExecuteTime": {
     "end_time": "2020-05-29T00:14:29.802304Z",
     "start_time": "2020-05-29T00:14:29.786038Z"
    },
    "execution": {
     "iopub.execute_input": "2020-05-28T03:25:15.913095Z",
     "iopub.status.busy": "2020-05-28T03:25:15.913095Z",
     "iopub.status.idle": "2020-05-28T03:25:18.014446Z",
     "shell.execute_reply": "2020-05-28T03:25:18.014446Z",
     "shell.execute_reply.started": "2020-05-28T03:25:15.913095Z"
    }
   },
   "outputs": [],
   "source": [
    "import json\n",
    "with open('results.json', 'w', encoding='utf-8',) as make_file:\n",
    "    json.dump(results, make_file, indent=\"\\t\", ensure_ascii=False)"
   ]
  },
  {
   "cell_type": "code",
   "execution_count": null,
   "metadata": {},
   "outputs": [],
   "source": []
  }
 ],
 "metadata": {
  "kernelspec": {
   "display_name": "Python 3",
   "language": "python",
   "name": "python3"
  },
  "language_info": {
   "codemirror_mode": {
    "name": "ipython",
    "version": 3
   },
   "file_extension": ".py",
   "mimetype": "text/x-python",
   "name": "python",
   "nbconvert_exporter": "python",
   "pygments_lexer": "ipython3",
   "version": "3.7.4"
  }
 },
 "nbformat": 4,
 "nbformat_minor": 4
}
