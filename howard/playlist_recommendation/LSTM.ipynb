{
 "cells": [
  {
   "cell_type": "code",
   "execution_count": 1,
   "metadata": {
    "ExecuteTime": {
     "end_time": "2020-05-21T10:10:41.339005Z",
     "start_time": "2020-05-21T10:10:39.292758Z"
    }
   },
   "outputs": [],
   "source": [
    "train = pd.read_json('./raw_data/train.json')\n",
    "val = pd.read_json('./raw_data/val.json')"
   ]
  },
  {
   "cell_type": "code",
   "execution_count": 71,
   "metadata": {
    "ExecuteTime": {
     "end_time": "2020-05-21T11:58:04.892788Z",
     "start_time": "2020-05-21T11:58:04.859626Z"
    },
    "collapsed": true
   },
   "outputs": [
    {
     "ename": "ValueError",
     "evalue": "If using all scalar values, you must pass an index",
     "output_type": "error",
     "traceback": [
      "\u001b[0;31m---------------------------------------------------------------------------\u001b[0m",
      "\u001b[0;31mValueError\u001b[0m                                Traceback (most recent call last)",
      "\u001b[0;32m<ipython-input-71-de61867cad90>\u001b[0m in \u001b[0;36m<module>\u001b[0;34m\u001b[0m\n\u001b[0;32m----> 1\u001b[0;31m \u001b[0mgenre\u001b[0m \u001b[0;34m=\u001b[0m \u001b[0mpd\u001b[0m\u001b[0;34m.\u001b[0m\u001b[0mread_json\u001b[0m\u001b[0;34m(\u001b[0m\u001b[0;34m'./raw_data/genre_gn_all.json'\u001b[0m\u001b[0;34m)\u001b[0m\u001b[0;34m\u001b[0m\u001b[0;34m\u001b[0m\u001b[0m\n\u001b[0m",
      "\u001b[0;32m~/opt/anaconda3/envs/fastcampus/lib/python3.7/site-packages/pandas/io/json/_json.py\u001b[0m in \u001b[0;36mread_json\u001b[0;34m(path_or_buf, orient, typ, dtype, convert_axes, convert_dates, keep_default_dates, numpy, precise_float, date_unit, encoding, lines, chunksize, compression)\u001b[0m\n\u001b[1;32m    590\u001b[0m         \u001b[0;32mreturn\u001b[0m \u001b[0mjson_reader\u001b[0m\u001b[0;34m\u001b[0m\u001b[0;34m\u001b[0m\u001b[0m\n\u001b[1;32m    591\u001b[0m \u001b[0;34m\u001b[0m\u001b[0m\n\u001b[0;32m--> 592\u001b[0;31m     \u001b[0mresult\u001b[0m \u001b[0;34m=\u001b[0m \u001b[0mjson_reader\u001b[0m\u001b[0;34m.\u001b[0m\u001b[0mread\u001b[0m\u001b[0;34m(\u001b[0m\u001b[0;34m)\u001b[0m\u001b[0;34m\u001b[0m\u001b[0;34m\u001b[0m\u001b[0m\n\u001b[0m\u001b[1;32m    593\u001b[0m     \u001b[0;32mif\u001b[0m \u001b[0mshould_close\u001b[0m\u001b[0;34m:\u001b[0m\u001b[0;34m\u001b[0m\u001b[0;34m\u001b[0m\u001b[0m\n\u001b[1;32m    594\u001b[0m         \u001b[0;32mtry\u001b[0m\u001b[0;34m:\u001b[0m\u001b[0;34m\u001b[0m\u001b[0;34m\u001b[0m\u001b[0m\n",
      "\u001b[0;32m~/opt/anaconda3/envs/fastcampus/lib/python3.7/site-packages/pandas/io/json/_json.py\u001b[0m in \u001b[0;36mread\u001b[0;34m(self)\u001b[0m\n\u001b[1;32m    715\u001b[0m             \u001b[0mobj\u001b[0m \u001b[0;34m=\u001b[0m \u001b[0mself\u001b[0m\u001b[0;34m.\u001b[0m\u001b[0m_get_object_parser\u001b[0m\u001b[0;34m(\u001b[0m\u001b[0mself\u001b[0m\u001b[0;34m.\u001b[0m\u001b[0m_combine_lines\u001b[0m\u001b[0;34m(\u001b[0m\u001b[0mdata\u001b[0m\u001b[0;34m.\u001b[0m\u001b[0msplit\u001b[0m\u001b[0;34m(\u001b[0m\u001b[0;34m\"\\n\"\u001b[0m\u001b[0;34m)\u001b[0m\u001b[0;34m)\u001b[0m\u001b[0;34m)\u001b[0m\u001b[0;34m\u001b[0m\u001b[0;34m\u001b[0m\u001b[0m\n\u001b[1;32m    716\u001b[0m         \u001b[0;32melse\u001b[0m\u001b[0;34m:\u001b[0m\u001b[0;34m\u001b[0m\u001b[0;34m\u001b[0m\u001b[0m\n\u001b[0;32m--> 717\u001b[0;31m             \u001b[0mobj\u001b[0m \u001b[0;34m=\u001b[0m \u001b[0mself\u001b[0m\u001b[0;34m.\u001b[0m\u001b[0m_get_object_parser\u001b[0m\u001b[0;34m(\u001b[0m\u001b[0mself\u001b[0m\u001b[0;34m.\u001b[0m\u001b[0mdata\u001b[0m\u001b[0;34m)\u001b[0m\u001b[0;34m\u001b[0m\u001b[0;34m\u001b[0m\u001b[0m\n\u001b[0m\u001b[1;32m    718\u001b[0m         \u001b[0mself\u001b[0m\u001b[0;34m.\u001b[0m\u001b[0mclose\u001b[0m\u001b[0;34m(\u001b[0m\u001b[0;34m)\u001b[0m\u001b[0;34m\u001b[0m\u001b[0;34m\u001b[0m\u001b[0m\n\u001b[1;32m    719\u001b[0m         \u001b[0;32mreturn\u001b[0m \u001b[0mobj\u001b[0m\u001b[0;34m\u001b[0m\u001b[0;34m\u001b[0m\u001b[0m\n",
      "\u001b[0;32m~/opt/anaconda3/envs/fastcampus/lib/python3.7/site-packages/pandas/io/json/_json.py\u001b[0m in \u001b[0;36m_get_object_parser\u001b[0;34m(self, json)\u001b[0m\n\u001b[1;32m    737\u001b[0m         \u001b[0mobj\u001b[0m \u001b[0;34m=\u001b[0m \u001b[0;32mNone\u001b[0m\u001b[0;34m\u001b[0m\u001b[0;34m\u001b[0m\u001b[0m\n\u001b[1;32m    738\u001b[0m         \u001b[0;32mif\u001b[0m \u001b[0mtyp\u001b[0m \u001b[0;34m==\u001b[0m \u001b[0;34m\"frame\"\u001b[0m\u001b[0;34m:\u001b[0m\u001b[0;34m\u001b[0m\u001b[0;34m\u001b[0m\u001b[0m\n\u001b[0;32m--> 739\u001b[0;31m             \u001b[0mobj\u001b[0m \u001b[0;34m=\u001b[0m \u001b[0mFrameParser\u001b[0m\u001b[0;34m(\u001b[0m\u001b[0mjson\u001b[0m\u001b[0;34m,\u001b[0m \u001b[0;34m**\u001b[0m\u001b[0mkwargs\u001b[0m\u001b[0;34m)\u001b[0m\u001b[0;34m.\u001b[0m\u001b[0mparse\u001b[0m\u001b[0;34m(\u001b[0m\u001b[0;34m)\u001b[0m\u001b[0;34m\u001b[0m\u001b[0;34m\u001b[0m\u001b[0m\n\u001b[0m\u001b[1;32m    740\u001b[0m \u001b[0;34m\u001b[0m\u001b[0m\n\u001b[1;32m    741\u001b[0m         \u001b[0;32mif\u001b[0m \u001b[0mtyp\u001b[0m \u001b[0;34m==\u001b[0m \u001b[0;34m\"series\"\u001b[0m \u001b[0;32mor\u001b[0m \u001b[0mobj\u001b[0m \u001b[0;32mis\u001b[0m \u001b[0;32mNone\u001b[0m\u001b[0;34m:\u001b[0m\u001b[0;34m\u001b[0m\u001b[0;34m\u001b[0m\u001b[0m\n",
      "\u001b[0;32m~/opt/anaconda3/envs/fastcampus/lib/python3.7/site-packages/pandas/io/json/_json.py\u001b[0m in \u001b[0;36mparse\u001b[0;34m(self)\u001b[0m\n\u001b[1;32m    847\u001b[0m \u001b[0;34m\u001b[0m\u001b[0m\n\u001b[1;32m    848\u001b[0m         \u001b[0;32melse\u001b[0m\u001b[0;34m:\u001b[0m\u001b[0;34m\u001b[0m\u001b[0;34m\u001b[0m\u001b[0m\n\u001b[0;32m--> 849\u001b[0;31m             \u001b[0mself\u001b[0m\u001b[0;34m.\u001b[0m\u001b[0m_parse_no_numpy\u001b[0m\u001b[0;34m(\u001b[0m\u001b[0;34m)\u001b[0m\u001b[0;34m\u001b[0m\u001b[0;34m\u001b[0m\u001b[0m\n\u001b[0m\u001b[1;32m    850\u001b[0m \u001b[0;34m\u001b[0m\u001b[0m\n\u001b[1;32m    851\u001b[0m         \u001b[0;32mif\u001b[0m \u001b[0mself\u001b[0m\u001b[0;34m.\u001b[0m\u001b[0mobj\u001b[0m \u001b[0;32mis\u001b[0m \u001b[0;32mNone\u001b[0m\u001b[0;34m:\u001b[0m\u001b[0;34m\u001b[0m\u001b[0;34m\u001b[0m\u001b[0m\n",
      "\u001b[0;32m~/opt/anaconda3/envs/fastcampus/lib/python3.7/site-packages/pandas/io/json/_json.py\u001b[0m in \u001b[0;36m_parse_no_numpy\u001b[0;34m(self)\u001b[0m\n\u001b[1;32m   1091\u001b[0m         \u001b[0;32mif\u001b[0m \u001b[0morient\u001b[0m \u001b[0;34m==\u001b[0m \u001b[0;34m\"columns\"\u001b[0m\u001b[0;34m:\u001b[0m\u001b[0;34m\u001b[0m\u001b[0;34m\u001b[0m\u001b[0m\n\u001b[1;32m   1092\u001b[0m             self.obj = DataFrame(\n\u001b[0;32m-> 1093\u001b[0;31m                 \u001b[0mloads\u001b[0m\u001b[0;34m(\u001b[0m\u001b[0mjson\u001b[0m\u001b[0;34m,\u001b[0m \u001b[0mprecise_float\u001b[0m\u001b[0;34m=\u001b[0m\u001b[0mself\u001b[0m\u001b[0;34m.\u001b[0m\u001b[0mprecise_float\u001b[0m\u001b[0;34m)\u001b[0m\u001b[0;34m,\u001b[0m \u001b[0mdtype\u001b[0m\u001b[0;34m=\u001b[0m\u001b[0;32mNone\u001b[0m\u001b[0;34m\u001b[0m\u001b[0;34m\u001b[0m\u001b[0m\n\u001b[0m\u001b[1;32m   1094\u001b[0m             )\n\u001b[1;32m   1095\u001b[0m         \u001b[0;32melif\u001b[0m \u001b[0morient\u001b[0m \u001b[0;34m==\u001b[0m \u001b[0;34m\"split\"\u001b[0m\u001b[0;34m:\u001b[0m\u001b[0;34m\u001b[0m\u001b[0;34m\u001b[0m\u001b[0m\n",
      "\u001b[0;32m~/opt/anaconda3/envs/fastcampus/lib/python3.7/site-packages/pandas/core/frame.py\u001b[0m in \u001b[0;36m__init__\u001b[0;34m(self, data, index, columns, dtype, copy)\u001b[0m\n\u001b[1;32m    409\u001b[0m             )\n\u001b[1;32m    410\u001b[0m         \u001b[0;32melif\u001b[0m \u001b[0misinstance\u001b[0m\u001b[0;34m(\u001b[0m\u001b[0mdata\u001b[0m\u001b[0;34m,\u001b[0m \u001b[0mdict\u001b[0m\u001b[0;34m)\u001b[0m\u001b[0;34m:\u001b[0m\u001b[0;34m\u001b[0m\u001b[0;34m\u001b[0m\u001b[0m\n\u001b[0;32m--> 411\u001b[0;31m             \u001b[0mmgr\u001b[0m \u001b[0;34m=\u001b[0m \u001b[0minit_dict\u001b[0m\u001b[0;34m(\u001b[0m\u001b[0mdata\u001b[0m\u001b[0;34m,\u001b[0m \u001b[0mindex\u001b[0m\u001b[0;34m,\u001b[0m \u001b[0mcolumns\u001b[0m\u001b[0;34m,\u001b[0m \u001b[0mdtype\u001b[0m\u001b[0;34m=\u001b[0m\u001b[0mdtype\u001b[0m\u001b[0;34m)\u001b[0m\u001b[0;34m\u001b[0m\u001b[0;34m\u001b[0m\u001b[0m\n\u001b[0m\u001b[1;32m    412\u001b[0m         \u001b[0;32melif\u001b[0m \u001b[0misinstance\u001b[0m\u001b[0;34m(\u001b[0m\u001b[0mdata\u001b[0m\u001b[0;34m,\u001b[0m \u001b[0mma\u001b[0m\u001b[0;34m.\u001b[0m\u001b[0mMaskedArray\u001b[0m\u001b[0;34m)\u001b[0m\u001b[0;34m:\u001b[0m\u001b[0;34m\u001b[0m\u001b[0;34m\u001b[0m\u001b[0m\n\u001b[1;32m    413\u001b[0m             \u001b[0;32mimport\u001b[0m \u001b[0mnumpy\u001b[0m\u001b[0;34m.\u001b[0m\u001b[0mma\u001b[0m\u001b[0;34m.\u001b[0m\u001b[0mmrecords\u001b[0m \u001b[0;32mas\u001b[0m \u001b[0mmrecords\u001b[0m\u001b[0;34m\u001b[0m\u001b[0;34m\u001b[0m\u001b[0m\n",
      "\u001b[0;32m~/opt/anaconda3/envs/fastcampus/lib/python3.7/site-packages/pandas/core/internals/construction.py\u001b[0m in \u001b[0;36minit_dict\u001b[0;34m(data, index, columns, dtype)\u001b[0m\n\u001b[1;32m    255\u001b[0m             \u001b[0marr\u001b[0m \u001b[0;32mif\u001b[0m \u001b[0;32mnot\u001b[0m \u001b[0mis_datetime64tz_dtype\u001b[0m\u001b[0;34m(\u001b[0m\u001b[0marr\u001b[0m\u001b[0;34m)\u001b[0m \u001b[0;32melse\u001b[0m \u001b[0marr\u001b[0m\u001b[0;34m.\u001b[0m\u001b[0mcopy\u001b[0m\u001b[0;34m(\u001b[0m\u001b[0;34m)\u001b[0m \u001b[0;32mfor\u001b[0m \u001b[0marr\u001b[0m \u001b[0;32min\u001b[0m \u001b[0marrays\u001b[0m\u001b[0;34m\u001b[0m\u001b[0;34m\u001b[0m\u001b[0m\n\u001b[1;32m    256\u001b[0m         ]\n\u001b[0;32m--> 257\u001b[0;31m     \u001b[0;32mreturn\u001b[0m \u001b[0marrays_to_mgr\u001b[0m\u001b[0;34m(\u001b[0m\u001b[0marrays\u001b[0m\u001b[0;34m,\u001b[0m \u001b[0mdata_names\u001b[0m\u001b[0;34m,\u001b[0m \u001b[0mindex\u001b[0m\u001b[0;34m,\u001b[0m \u001b[0mcolumns\u001b[0m\u001b[0;34m,\u001b[0m \u001b[0mdtype\u001b[0m\u001b[0;34m=\u001b[0m\u001b[0mdtype\u001b[0m\u001b[0;34m)\u001b[0m\u001b[0;34m\u001b[0m\u001b[0;34m\u001b[0m\u001b[0m\n\u001b[0m\u001b[1;32m    258\u001b[0m \u001b[0;34m\u001b[0m\u001b[0m\n\u001b[1;32m    259\u001b[0m \u001b[0;34m\u001b[0m\u001b[0m\n",
      "\u001b[0;32m~/opt/anaconda3/envs/fastcampus/lib/python3.7/site-packages/pandas/core/internals/construction.py\u001b[0m in \u001b[0;36marrays_to_mgr\u001b[0;34m(arrays, arr_names, index, columns, dtype)\u001b[0m\n\u001b[1;32m     75\u001b[0m     \u001b[0;31m# figure out the index, if necessary\u001b[0m\u001b[0;34m\u001b[0m\u001b[0;34m\u001b[0m\u001b[0;34m\u001b[0m\u001b[0m\n\u001b[1;32m     76\u001b[0m     \u001b[0;32mif\u001b[0m \u001b[0mindex\u001b[0m \u001b[0;32mis\u001b[0m \u001b[0;32mNone\u001b[0m\u001b[0;34m:\u001b[0m\u001b[0;34m\u001b[0m\u001b[0;34m\u001b[0m\u001b[0m\n\u001b[0;32m---> 77\u001b[0;31m         \u001b[0mindex\u001b[0m \u001b[0;34m=\u001b[0m \u001b[0mextract_index\u001b[0m\u001b[0;34m(\u001b[0m\u001b[0marrays\u001b[0m\u001b[0;34m)\u001b[0m\u001b[0;34m\u001b[0m\u001b[0;34m\u001b[0m\u001b[0m\n\u001b[0m\u001b[1;32m     78\u001b[0m     \u001b[0;32melse\u001b[0m\u001b[0;34m:\u001b[0m\u001b[0;34m\u001b[0m\u001b[0;34m\u001b[0m\u001b[0m\n\u001b[1;32m     79\u001b[0m         \u001b[0mindex\u001b[0m \u001b[0;34m=\u001b[0m \u001b[0mensure_index\u001b[0m\u001b[0;34m(\u001b[0m\u001b[0mindex\u001b[0m\u001b[0;34m)\u001b[0m\u001b[0;34m\u001b[0m\u001b[0;34m\u001b[0m\u001b[0m\n",
      "\u001b[0;32m~/opt/anaconda3/envs/fastcampus/lib/python3.7/site-packages/pandas/core/internals/construction.py\u001b[0m in \u001b[0;36mextract_index\u001b[0;34m(data)\u001b[0m\n\u001b[1;32m    356\u001b[0m \u001b[0;34m\u001b[0m\u001b[0m\n\u001b[1;32m    357\u001b[0m         \u001b[0;32mif\u001b[0m \u001b[0;32mnot\u001b[0m \u001b[0mindexes\u001b[0m \u001b[0;32mand\u001b[0m \u001b[0;32mnot\u001b[0m \u001b[0mraw_lengths\u001b[0m\u001b[0;34m:\u001b[0m\u001b[0;34m\u001b[0m\u001b[0;34m\u001b[0m\u001b[0m\n\u001b[0;32m--> 358\u001b[0;31m             \u001b[0;32mraise\u001b[0m \u001b[0mValueError\u001b[0m\u001b[0;34m(\u001b[0m\u001b[0;34m\"If using all scalar values, you must pass an index\"\u001b[0m\u001b[0;34m)\u001b[0m\u001b[0;34m\u001b[0m\u001b[0;34m\u001b[0m\u001b[0m\n\u001b[0m\u001b[1;32m    359\u001b[0m \u001b[0;34m\u001b[0m\u001b[0m\n\u001b[1;32m    360\u001b[0m         \u001b[0;32mif\u001b[0m \u001b[0mhave_series\u001b[0m\u001b[0;34m:\u001b[0m\u001b[0;34m\u001b[0m\u001b[0;34m\u001b[0m\u001b[0m\n",
      "\u001b[0;31mValueError\u001b[0m: If using all scalar values, you must pass an index"
     ]
    }
   ],
   "source": [
    "genre = pd.read_json('./raw_data/genre_gn_all.json',)"
   ]
  },
  {
   "cell_type": "code",
   "execution_count": null,
   "metadata": {},
   "outputs": [],
   "source": []
  },
  {
   "cell_type": "code",
   "execution_count": 69,
   "metadata": {
    "ExecuteTime": {
     "end_time": "2020-05-21T11:55:58.990072Z",
     "start_time": "2020-05-21T11:55:46.632203Z"
    }
   },
   "outputs": [],
   "source": [
    "song_meta = pd.read_json('./raw_data/song_meta.json')"
   ]
  },
  {
   "cell_type": "code",
   "execution_count": 70,
   "metadata": {
    "ExecuteTime": {
     "end_time": "2020-05-21T11:55:59.019170Z",
     "start_time": "2020-05-21T11:55:58.992334Z"
    }
   },
   "outputs": [
    {
     "data": {
      "text/html": [
       "<div>\n",
       "<style scoped>\n",
       "    .dataframe tbody tr th:only-of-type {\n",
       "        vertical-align: middle;\n",
       "    }\n",
       "\n",
       "    .dataframe tbody tr th {\n",
       "        vertical-align: top;\n",
       "    }\n",
       "\n",
       "    .dataframe thead th {\n",
       "        text-align: right;\n",
       "    }\n",
       "</style>\n",
       "<table border=\"1\" class=\"dataframe\">\n",
       "  <thead>\n",
       "    <tr style=\"text-align: right;\">\n",
       "      <th></th>\n",
       "      <th>song_gn_dtl_gnr_basket</th>\n",
       "      <th>issue_date</th>\n",
       "      <th>album_name</th>\n",
       "      <th>album_id</th>\n",
       "      <th>artist_id_basket</th>\n",
       "      <th>song_name</th>\n",
       "      <th>song_gn_gnr_basket</th>\n",
       "      <th>artist_name_basket</th>\n",
       "      <th>id</th>\n",
       "    </tr>\n",
       "  </thead>\n",
       "  <tbody>\n",
       "    <tr>\n",
       "      <td>0</td>\n",
       "      <td>[GN0901]</td>\n",
       "      <td>20140512</td>\n",
       "      <td>불후의 명곡 - 7080 추억의 얄개시대 팝송베스트</td>\n",
       "      <td>2255639</td>\n",
       "      <td>[2727]</td>\n",
       "      <td>Feelings</td>\n",
       "      <td>[GN0900]</td>\n",
       "      <td>[Various Artists]</td>\n",
       "      <td>0</td>\n",
       "    </tr>\n",
       "    <tr>\n",
       "      <td>1</td>\n",
       "      <td>[GN1601, GN1606]</td>\n",
       "      <td>20080421</td>\n",
       "      <td>Bach : Partitas Nos. 2, 3 &amp; 4</td>\n",
       "      <td>376431</td>\n",
       "      <td>[29966]</td>\n",
       "      <td>Bach : Partita No. 4 In D Major, BWV 828 - II....</td>\n",
       "      <td>[GN1600]</td>\n",
       "      <td>[Murray Perahia]</td>\n",
       "      <td>1</td>\n",
       "    </tr>\n",
       "    <tr>\n",
       "      <td>2</td>\n",
       "      <td>[GN0901]</td>\n",
       "      <td>20180518</td>\n",
       "      <td>Hit</td>\n",
       "      <td>4698747</td>\n",
       "      <td>[3361]</td>\n",
       "      <td>Solsbury Hill (Remastered 2002)</td>\n",
       "      <td>[GN0900]</td>\n",
       "      <td>[Peter Gabriel]</td>\n",
       "      <td>2</td>\n",
       "    </tr>\n",
       "    <tr>\n",
       "      <td>3</td>\n",
       "      <td>[GN1102, GN1101]</td>\n",
       "      <td>20151016</td>\n",
       "      <td>Feeling Right (Everything Is Nice) (Feat. Popc...</td>\n",
       "      <td>2644882</td>\n",
       "      <td>[838543]</td>\n",
       "      <td>Feeling Right (Everything Is Nice) (Feat. Popc...</td>\n",
       "      <td>[GN1100]</td>\n",
       "      <td>[Matoma]</td>\n",
       "      <td>3</td>\n",
       "    </tr>\n",
       "    <tr>\n",
       "      <td>4</td>\n",
       "      <td>[GN1802, GN1801]</td>\n",
       "      <td>20110824</td>\n",
       "      <td>그남자 그여자</td>\n",
       "      <td>2008470</td>\n",
       "      <td>[560160]</td>\n",
       "      <td>그남자 그여자</td>\n",
       "      <td>[GN1800]</td>\n",
       "      <td>[Jude Law]</td>\n",
       "      <td>4</td>\n",
       "    </tr>\n",
       "    <tr>\n",
       "      <td>...</td>\n",
       "      <td>...</td>\n",
       "      <td>...</td>\n",
       "      <td>...</td>\n",
       "      <td>...</td>\n",
       "      <td>...</td>\n",
       "      <td>...</td>\n",
       "      <td>...</td>\n",
       "      <td>...</td>\n",
       "      <td>...</td>\n",
       "    </tr>\n",
       "    <tr>\n",
       "      <td>707984</td>\n",
       "      <td>[GN2001]</td>\n",
       "      <td>19991219</td>\n",
       "      <td>The Best Best Of The Black President</td>\n",
       "      <td>65254</td>\n",
       "      <td>[166499]</td>\n",
       "      <td>Coffin For Head Of State</td>\n",
       "      <td>[GN2000]</td>\n",
       "      <td>[Fela Kuti]</td>\n",
       "      <td>707984</td>\n",
       "    </tr>\n",
       "    <tr>\n",
       "      <td>707985</td>\n",
       "      <td>[GN0901]</td>\n",
       "      <td>19860000</td>\n",
       "      <td>True Colors</td>\n",
       "      <td>44141</td>\n",
       "      <td>[11837]</td>\n",
       "      <td>Change Of Heart</td>\n",
       "      <td>[GN0900]</td>\n",
       "      <td>[Cyndi Lauper]</td>\n",
       "      <td>707985</td>\n",
       "    </tr>\n",
       "    <tr>\n",
       "      <td>707986</td>\n",
       "      <td>[GN0105, GN0101]</td>\n",
       "      <td>20160120</td>\n",
       "      <td>행보 2015 윤종신 / 작사가 윤종신 Live Part.1</td>\n",
       "      <td>2662866</td>\n",
       "      <td>[437]</td>\n",
       "      <td>스치듯 안녕</td>\n",
       "      <td>[GN0100]</td>\n",
       "      <td>[윤종신]</td>\n",
       "      <td>707986</td>\n",
       "    </tr>\n",
       "    <tr>\n",
       "      <td>707987</td>\n",
       "      <td>[GN1807, GN1801]</td>\n",
       "      <td>20131217</td>\n",
       "      <td>명상의 시간을 위한 뉴에이지 음악</td>\n",
       "      <td>2221722</td>\n",
       "      <td>[729868]</td>\n",
       "      <td>숲의 빛</td>\n",
       "      <td>[GN1800]</td>\n",
       "      <td>[Nature Piano]</td>\n",
       "      <td>707987</td>\n",
       "    </tr>\n",
       "    <tr>\n",
       "      <td>707988</td>\n",
       "      <td>[GN0601, GN0604]</td>\n",
       "      <td>19980000</td>\n",
       "      <td>김경호 Live</td>\n",
       "      <td>34663</td>\n",
       "      <td>[895]</td>\n",
       "      <td>Queen 명곡 멜로디</td>\n",
       "      <td>[GN0600]</td>\n",
       "      <td>[김경호]</td>\n",
       "      <td>707988</td>\n",
       "    </tr>\n",
       "  </tbody>\n",
       "</table>\n",
       "<p>707989 rows × 9 columns</p>\n",
       "</div>"
      ],
      "text/plain": [
       "       song_gn_dtl_gnr_basket  issue_date  \\\n",
       "0                    [GN0901]    20140512   \n",
       "1            [GN1601, GN1606]    20080421   \n",
       "2                    [GN0901]    20180518   \n",
       "3            [GN1102, GN1101]    20151016   \n",
       "4            [GN1802, GN1801]    20110824   \n",
       "...                       ...         ...   \n",
       "707984               [GN2001]    19991219   \n",
       "707985               [GN0901]    19860000   \n",
       "707986       [GN0105, GN0101]    20160120   \n",
       "707987       [GN1807, GN1801]    20131217   \n",
       "707988       [GN0601, GN0604]    19980000   \n",
       "\n",
       "                                               album_name  album_id  \\\n",
       "0                            불후의 명곡 - 7080 추억의 얄개시대 팝송베스트   2255639   \n",
       "1                           Bach : Partitas Nos. 2, 3 & 4    376431   \n",
       "2                                                     Hit   4698747   \n",
       "3       Feeling Right (Everything Is Nice) (Feat. Popc...   2644882   \n",
       "4                                                 그남자 그여자   2008470   \n",
       "...                                                   ...       ...   \n",
       "707984               The Best Best Of The Black President     65254   \n",
       "707985                                        True Colors     44141   \n",
       "707986                  행보 2015 윤종신 / 작사가 윤종신 Live Part.1   2662866   \n",
       "707987                                 명상의 시간을 위한 뉴에이지 음악   2221722   \n",
       "707988                                           김경호 Live     34663   \n",
       "\n",
       "       artist_id_basket                                          song_name  \\\n",
       "0                [2727]                                           Feelings   \n",
       "1               [29966]  Bach : Partita No. 4 In D Major, BWV 828 - II....   \n",
       "2                [3361]                    Solsbury Hill (Remastered 2002)   \n",
       "3              [838543]  Feeling Right (Everything Is Nice) (Feat. Popc...   \n",
       "4              [560160]                                            그남자 그여자   \n",
       "...                 ...                                                ...   \n",
       "707984         [166499]                           Coffin For Head Of State   \n",
       "707985          [11837]                                    Change Of Heart   \n",
       "707986            [437]                                             스치듯 안녕   \n",
       "707987         [729868]                                               숲의 빛   \n",
       "707988            [895]                                       Queen 명곡 멜로디   \n",
       "\n",
       "       song_gn_gnr_basket artist_name_basket      id  \n",
       "0                [GN0900]  [Various Artists]       0  \n",
       "1                [GN1600]   [Murray Perahia]       1  \n",
       "2                [GN0900]    [Peter Gabriel]       2  \n",
       "3                [GN1100]           [Matoma]       3  \n",
       "4                [GN1800]         [Jude Law]       4  \n",
       "...                   ...                ...     ...  \n",
       "707984           [GN2000]        [Fela Kuti]  707984  \n",
       "707985           [GN0900]     [Cyndi Lauper]  707985  \n",
       "707986           [GN0100]              [윤종신]  707986  \n",
       "707987           [GN1800]     [Nature Piano]  707987  \n",
       "707988           [GN0600]              [김경호]  707988  \n",
       "\n",
       "[707989 rows x 9 columns]"
      ]
     },
     "execution_count": 70,
     "metadata": {},
     "output_type": "execute_result"
    }
   ],
   "source": [
    "song_meta"
   ]
  },
  {
   "cell_type": "code",
   "execution_count": 14,
   "metadata": {
    "ExecuteTime": {
     "end_time": "2020-05-21T10:40:31.046070Z",
     "start_time": "2020-05-21T10:40:31.019053Z"
    }
   },
   "outputs": [
    {
     "data": {
      "text/plain": [
       "16"
      ]
     },
     "execution_count": 14,
     "metadata": {},
     "output_type": "execute_result"
    }
   ],
   "source": [
    "val[val['songs'].apply(len) == 1]"
   ]
  },
  {
   "cell_type": "code",
   "execution_count": 2,
   "metadata": {
    "ExecuteTime": {
     "end_time": "2020-05-21T10:10:41.400028Z",
     "start_time": "2020-05-21T10:10:41.341224Z"
    }
   },
   "outputs": [],
   "source": [
    "df = pd.concat([train,val])"
   ]
  },
  {
   "cell_type": "code",
   "execution_count": 3,
   "metadata": {
    "ExecuteTime": {
     "end_time": "2020-05-21T10:10:41.485276Z",
     "start_time": "2020-05-21T10:10:41.402647Z"
    }
   },
   "outputs": [],
   "source": [
    "df = df[['id','songs']]"
   ]
  },
  {
   "cell_type": "code",
   "execution_count": 4,
   "metadata": {
    "ExecuteTime": {
     "end_time": "2020-05-21T10:10:41.537273Z",
     "start_time": "2020-05-21T10:10:41.488021Z"
    }
   },
   "outputs": [],
   "source": [
    "# val에만 노래가 없는 플레이리스트가 있음\n",
    "df = df[df['songs'].apply(len) != 0]"
   ]
  },
  {
   "cell_type": "code",
   "execution_count": 5,
   "metadata": {
    "ExecuteTime": {
     "end_time": "2020-05-21T10:10:42.077210Z",
     "start_time": "2020-05-21T10:10:41.539436Z"
    },
    "scrolled": true
   },
   "outputs": [
    {
     "data": {
      "image/png": "[encoded data removed]",
      "text/plain": [
       "<Figure size 576x360 with 1 Axes>"
      ]
     },
     "metadata": {
      "image/png": {
       "height": 307,
       "width": 502
      },
      "needs_background": "light"
     },
     "output_type": "display_data"
    }
   ],
   "source": [
    "plt.hist(df['songs'].apply(len),bins=100)\n",
    "plt.show()"
   ]
  },
  {
   "cell_type": "code",
   "execution_count": 6,
   "metadata": {
    "ExecuteTime": {
     "end_time": "2020-05-21T10:10:45.530162Z",
     "start_time": "2020-05-21T10:10:42.079062Z"
    }
   },
   "outputs": [
    {
     "name": "stderr",
     "output_type": "stream",
     "text": [
      "Using TensorFlow backend.\n"
     ]
    }
   ],
   "source": [
    "from keras.callbacks import LambdaCallback\n",
    "from keras.models import Sequential\n",
    "from keras.layers import Dense, LSTM\n",
    "from keras.optimizers import RMSprop\n",
    "from keras.utils.data_utils import get_file\n",
    "import numpy as np\n",
    "\n",
    "import random\n",
    "import sys\n",
    "import io\n",
    "import re"
   ]
  },
  {
   "cell_type": "code",
   "execution_count": 7,
   "metadata": {
    "ExecuteTime": {
     "end_time": "2020-05-21T10:10:45.548907Z",
     "start_time": "2020-05-21T10:10:45.532293Z"
    }
   },
   "outputs": [
    {
     "data": {
      "text/html": [
       "<div>\n",
       "<style scoped>\n",
       "    .dataframe tbody tr th:only-of-type {\n",
       "        vertical-align: middle;\n",
       "    }\n",
       "\n",
       "    .dataframe tbody tr th {\n",
       "        vertical-align: top;\n",
       "    }\n",
       "\n",
       "    .dataframe thead th {\n",
       "        text-align: right;\n",
       "    }\n",
       "</style>\n",
       "<table border=\"1\" class=\"dataframe\">\n",
       "  <thead>\n",
       "    <tr style=\"text-align: right;\">\n",
       "      <th></th>\n",
       "      <th>id</th>\n",
       "      <th>songs</th>\n",
       "    </tr>\n",
       "  </thead>\n",
       "  <tbody>\n",
       "    <tr>\n",
       "      <td>0</td>\n",
       "      <td>61281</td>\n",
       "      <td>[525514, 129701, 383374, 562083, 297861, 13954...</td>\n",
       "    </tr>\n",
       "    <tr>\n",
       "      <td>1</td>\n",
       "      <td>10532</td>\n",
       "      <td>[432406, 675945, 497066, 120377, 389529, 24427...</td>\n",
       "    </tr>\n",
       "    <tr>\n",
       "      <td>2</td>\n",
       "      <td>76951</td>\n",
       "      <td>[83116, 276692, 166267, 186301, 354465, 256598...</td>\n",
       "    </tr>\n",
       "    <tr>\n",
       "      <td>3</td>\n",
       "      <td>147456</td>\n",
       "      <td>[394031, 195524, 540149, 287984, 440773, 10033...</td>\n",
       "    </tr>\n",
       "    <tr>\n",
       "      <td>4</td>\n",
       "      <td>27616</td>\n",
       "      <td>[159327, 553610, 5130, 645103, 294435, 100657,...</td>\n",
       "    </tr>\n",
       "    <tr>\n",
       "      <td>...</td>\n",
       "      <td>...</td>\n",
       "      <td>...</td>\n",
       "    </tr>\n",
       "    <tr>\n",
       "      <td>23010</td>\n",
       "      <td>101722</td>\n",
       "      <td>[75842, 26083, 244183, 684715, 500593, 508608,...</td>\n",
       "    </tr>\n",
       "    <tr>\n",
       "      <td>23011</td>\n",
       "      <td>122127</td>\n",
       "      <td>[450275, 487671, 561031, 663944, 628672, 59121...</td>\n",
       "    </tr>\n",
       "    <tr>\n",
       "      <td>23012</td>\n",
       "      <td>77438</td>\n",
       "      <td>[625875, 464051, 11657, 236393, 358186, 213435...</td>\n",
       "    </tr>\n",
       "    <tr>\n",
       "      <td>23013</td>\n",
       "      <td>36231</td>\n",
       "      <td>[161094, 665833, 688145, 432735, 439938, 12665...</td>\n",
       "    </tr>\n",
       "    <tr>\n",
       "      <td>23014</td>\n",
       "      <td>65189</td>\n",
       "      <td>[643070, 132994, 98223, 293236, 513129, 650494...</td>\n",
       "    </tr>\n",
       "  </tbody>\n",
       "</table>\n",
       "<p>133707 rows × 2 columns</p>\n",
       "</div>"
      ],
      "text/plain": [
       "           id                                              songs\n",
       "0       61281  [525514, 129701, 383374, 562083, 297861, 13954...\n",
       "1       10532  [432406, 675945, 497066, 120377, 389529, 24427...\n",
       "2       76951  [83116, 276692, 166267, 186301, 354465, 256598...\n",
       "3      147456  [394031, 195524, 540149, 287984, 440773, 10033...\n",
       "4       27616  [159327, 553610, 5130, 645103, 294435, 100657,...\n",
       "...       ...                                                ...\n",
       "23010  101722  [75842, 26083, 244183, 684715, 500593, 508608,...\n",
       "23011  122127  [450275, 487671, 561031, 663944, 628672, 59121...\n",
       "23012   77438  [625875, 464051, 11657, 236393, 358186, 213435...\n",
       "23013   36231  [161094, 665833, 688145, 432735, 439938, 12665...\n",
       "23014   65189  [643070, 132994, 98223, 293236, 513129, 650494...\n",
       "\n",
       "[133707 rows x 2 columns]"
      ]
     },
     "execution_count": 7,
     "metadata": {},
     "output_type": "execute_result"
    }
   ],
   "source": [
    "df"
   ]
  },
  {
   "cell_type": "code",
   "execution_count": 19,
   "metadata": {
    "ExecuteTime": {
     "end_time": "2020-05-21T11:17:27.331642Z",
     "start_time": "2020-05-21T11:17:27.305431Z"
    }
   },
   "outputs": [
    {
     "data": {
      "text/html": [
       "<div>\n",
       "<style scoped>\n",
       "    .dataframe tbody tr th:only-of-type {\n",
       "        vertical-align: middle;\n",
       "    }\n",
       "\n",
       "    .dataframe tbody tr th {\n",
       "        vertical-align: top;\n",
       "    }\n",
       "\n",
       "    .dataframe thead th {\n",
       "        text-align: right;\n",
       "    }\n",
       "</style>\n",
       "<table border=\"1\" class=\"dataframe\">\n",
       "  <thead>\n",
       "    <tr style=\"text-align: right;\">\n",
       "      <th></th>\n",
       "      <th>tags</th>\n",
       "      <th>id</th>\n",
       "      <th>plylst_title</th>\n",
       "      <th>songs</th>\n",
       "      <th>like_cnt</th>\n",
       "      <th>updt_date</th>\n",
       "    </tr>\n",
       "  </thead>\n",
       "  <tbody>\n",
       "    <tr>\n",
       "      <td>829</td>\n",
       "      <td>[]</td>\n",
       "      <td>118562</td>\n",
       "      <td></td>\n",
       "      <td>[707293]</td>\n",
       "      <td>13</td>\n",
       "      <td>2016-06-29 18:44:23.000</td>\n",
       "    </tr>\n",
       "    <tr>\n",
       "      <td>1235</td>\n",
       "      <td>[]</td>\n",
       "      <td>60825</td>\n",
       "      <td></td>\n",
       "      <td>[158207]</td>\n",
       "      <td>95</td>\n",
       "      <td>2014-12-15 18:19:57.000</td>\n",
       "    </tr>\n",
       "    <tr>\n",
       "      <td>2519</td>\n",
       "      <td>[]</td>\n",
       "      <td>93893</td>\n",
       "      <td></td>\n",
       "      <td>[590860]</td>\n",
       "      <td>0</td>\n",
       "      <td>2018-02-26 10:11:20.000</td>\n",
       "    </tr>\n",
       "    <tr>\n",
       "      <td>2880</td>\n",
       "      <td>[]</td>\n",
       "      <td>113370</td>\n",
       "      <td></td>\n",
       "      <td>[404812]</td>\n",
       "      <td>76</td>\n",
       "      <td>2008-11-27 16:13:26.000</td>\n",
       "    </tr>\n",
       "    <tr>\n",
       "      <td>4353</td>\n",
       "      <td>[]</td>\n",
       "      <td>109786</td>\n",
       "      <td></td>\n",
       "      <td>[124539]</td>\n",
       "      <td>1</td>\n",
       "      <td>2019-06-12 10:10:24.000</td>\n",
       "    </tr>\n",
       "    <tr>\n",
       "      <td>5417</td>\n",
       "      <td>[]</td>\n",
       "      <td>31314</td>\n",
       "      <td></td>\n",
       "      <td>[382530]</td>\n",
       "      <td>0</td>\n",
       "      <td>2019-06-12 10:10:24.000</td>\n",
       "    </tr>\n",
       "    <tr>\n",
       "      <td>5987</td>\n",
       "      <td>[]</td>\n",
       "      <td>27746</td>\n",
       "      <td></td>\n",
       "      <td>[268414]</td>\n",
       "      <td>12</td>\n",
       "      <td>2016-11-07 15:59:29.000</td>\n",
       "    </tr>\n",
       "    <tr>\n",
       "      <td>7051</td>\n",
       "      <td>[]</td>\n",
       "      <td>95216</td>\n",
       "      <td></td>\n",
       "      <td>[23640]</td>\n",
       "      <td>72</td>\n",
       "      <td>2013-04-17 10:55:23.000</td>\n",
       "    </tr>\n",
       "    <tr>\n",
       "      <td>9487</td>\n",
       "      <td>[여름]</td>\n",
       "      <td>50781</td>\n",
       "      <td></td>\n",
       "      <td>[532375]</td>\n",
       "      <td>77</td>\n",
       "      <td>2014-07-31 10:07:53.000</td>\n",
       "    </tr>\n",
       "    <tr>\n",
       "      <td>10315</td>\n",
       "      <td>[]</td>\n",
       "      <td>13972</td>\n",
       "      <td></td>\n",
       "      <td>[598137]</td>\n",
       "      <td>2</td>\n",
       "      <td>2014-12-04 00:08:30.000</td>\n",
       "    </tr>\n",
       "    <tr>\n",
       "      <td>12266</td>\n",
       "      <td>[인디]</td>\n",
       "      <td>61064</td>\n",
       "      <td></td>\n",
       "      <td>[620800]</td>\n",
       "      <td>8</td>\n",
       "      <td>2016-06-17 17:33:54.000</td>\n",
       "    </tr>\n",
       "    <tr>\n",
       "      <td>14387</td>\n",
       "      <td>[]</td>\n",
       "      <td>46808</td>\n",
       "      <td></td>\n",
       "      <td>[394761]</td>\n",
       "      <td>3</td>\n",
       "      <td>2014-06-13 10:58:05.000</td>\n",
       "    </tr>\n",
       "    <tr>\n",
       "      <td>16688</td>\n",
       "      <td>[]</td>\n",
       "      <td>33833</td>\n",
       "      <td></td>\n",
       "      <td>[475326]</td>\n",
       "      <td>0</td>\n",
       "      <td>2018-04-02 10:17:44.000</td>\n",
       "    </tr>\n",
       "    <tr>\n",
       "      <td>18536</td>\n",
       "      <td>[]</td>\n",
       "      <td>29543</td>\n",
       "      <td></td>\n",
       "      <td>[354741]</td>\n",
       "      <td>57</td>\n",
       "      <td>2012-07-03 16:15:31.000</td>\n",
       "    </tr>\n",
       "    <tr>\n",
       "      <td>19804</td>\n",
       "      <td>[]</td>\n",
       "      <td>113118</td>\n",
       "      <td></td>\n",
       "      <td>[90637]</td>\n",
       "      <td>12</td>\n",
       "      <td>2011-02-27 04:44:42.000</td>\n",
       "    </tr>\n",
       "    <tr>\n",
       "      <td>20812</td>\n",
       "      <td>[]</td>\n",
       "      <td>129335</td>\n",
       "      <td></td>\n",
       "      <td>[539633]</td>\n",
       "      <td>0</td>\n",
       "      <td>2015-10-02 14:50:16.000</td>\n",
       "    </tr>\n",
       "  </tbody>\n",
       "</table>\n",
       "</div>"
      ],
      "text/plain": [
       "       tags      id plylst_title     songs  like_cnt                updt_date\n",
       "829      []  118562               [707293]        13  2016-06-29 18:44:23.000\n",
       "1235     []   60825               [158207]        95  2014-12-15 18:19:57.000\n",
       "2519     []   93893               [590860]         0  2018-02-26 10:11:20.000\n",
       "2880     []  113370               [404812]        76  2008-11-27 16:13:26.000\n",
       "4353     []  109786               [124539]         1  2019-06-12 10:10:24.000\n",
       "5417     []   31314               [382530]         0  2019-06-12 10:10:24.000\n",
       "5987     []   27746               [268414]        12  2016-11-07 15:59:29.000\n",
       "7051     []   95216                [23640]        72  2013-04-17 10:55:23.000\n",
       "9487   [여름]   50781               [532375]        77  2014-07-31 10:07:53.000\n",
       "10315    []   13972               [598137]         2  2014-12-04 00:08:30.000\n",
       "12266  [인디]   61064               [620800]         8  2016-06-17 17:33:54.000\n",
       "14387    []   46808               [394761]         3  2014-06-13 10:58:05.000\n",
       "16688    []   33833               [475326]         0  2018-04-02 10:17:44.000\n",
       "18536    []   29543               [354741]        57  2012-07-03 16:15:31.000\n",
       "19804    []  113118                [90637]        12  2011-02-27 04:44:42.000\n",
       "20812    []  129335               [539633]         0  2015-10-02 14:50:16.000"
      ]
     },
     "execution_count": 19,
     "metadata": {},
     "output_type": "execute_result"
    }
   ],
   "source": [
    "val[val['songs'].apply(len) == 1]"
   ]
  },
  {
   "cell_type": "code",
   "execution_count": 15,
   "metadata": {
    "ExecuteTime": {
     "end_time": "2020-05-21T09:58:30.949717Z",
     "start_time": "2020-05-21T09:58:30.941336Z"
    },
    "scrolled": true
   },
   "outputs": [
    {
     "name": "stdout",
     "output_type": "stream",
     "text": [
      "total chars: 45146\n"
     ]
    }
   ],
   "source": [
    "chars = list(set(text))\n",
    "print('total chars:', len(text))"
   ]
  },
  {
   "cell_type": "code",
   "execution_count": 16,
   "metadata": {
    "ExecuteTime": {
     "end_time": "2020-05-21T09:58:31.577540Z",
     "start_time": "2020-05-21T09:58:31.556900Z"
    }
   },
   "outputs": [],
   "source": [
    "char_indices = dict(((c,i) for i,c in enumerate(chars)))\n",
    "indices_char = dict(((i,c) for i,c in enumerate(chars)))"
   ]
  },
  {
   "cell_type": "code",
   "execution_count": 17,
   "metadata": {
    "ExecuteTime": {
     "end_time": "2020-05-21T09:58:31.922100Z",
     "start_time": "2020-05-21T09:58:31.915849Z"
    }
   },
   "outputs": [
    {
     "data": {
      "text/plain": [
       "0    [525514, 129701, 383374, 562083, 297861, 13954...\n",
       "1    [432406, 675945, 497066, 120377, 389529, 24427...\n",
       "2    [83116, 276692, 166267, 186301, 354465, 256598...\n",
       "Name: songs, dtype: object"
      ]
     },
     "execution_count": 17,
     "metadata": {},
     "output_type": "execute_result"
    }
   ],
   "source": [
    "df['songs'].iloc[:3]"
   ]
  },
  {
   "cell_type": "code",
   "execution_count": 8,
   "metadata": {
    "ExecuteTime": {
     "end_time": "2020-05-21T10:23:22.311440Z",
     "start_time": "2020-05-21T10:23:22.308812Z"
    }
   },
   "outputs": [],
   "source": [
    "encoding = np.eye(10)"
   ]
  },
  {
   "cell_type": "code",
   "execution_count": 9,
   "metadata": {
    "ExecuteTime": {
     "end_time": "2020-05-21T10:23:24.625949Z",
     "start_time": "2020-05-21T10:23:24.620650Z"
    }
   },
   "outputs": [
    {
     "data": {
      "text/plain": [
       "array([[1., 0., 0., 0., 0., 0., 0., 0., 0., 0.],\n",
       "       [0., 1., 0., 0., 0., 0., 0., 0., 0., 0.],\n",
       "       [0., 0., 1., 0., 0., 0., 0., 0., 0., 0.],\n",
       "       [0., 0., 0., 1., 0., 0., 0., 0., 0., 0.],\n",
       "       [0., 0., 0., 0., 1., 0., 0., 0., 0., 0.],\n",
       "       [0., 0., 0., 0., 0., 1., 0., 0., 0., 0.],\n",
       "       [0., 0., 0., 0., 0., 0., 1., 0., 0., 0.],\n",
       "       [0., 0., 0., 0., 0., 0., 0., 1., 0., 0.],\n",
       "       [0., 0., 0., 0., 0., 0., 0., 0., 1., 0.],\n",
       "       [0., 0., 0., 0., 0., 0., 0., 0., 0., 1.]])"
      ]
     },
     "execution_count": 9,
     "metadata": {},
     "output_type": "execute_result"
    }
   ],
   "source": [
    "encoding"
   ]
  },
  {
   "cell_type": "code",
   "execution_count": null,
   "metadata": {},
   "outputs": [],
   "source": []
  },
  {
   "cell_type": "code",
   "execution_count": null,
   "metadata": {},
   "outputs": [],
   "source": []
  },
  {
   "cell_type": "code",
   "execution_count": null,
   "metadata": {},
   "outputs": [],
   "source": []
  },
  {
   "cell_type": "code",
   "execution_count": null,
   "metadata": {},
   "outputs": [],
   "source": []
  },
  {
   "cell_type": "code",
   "execution_count": 22,
   "metadata": {
    "ExecuteTime": {
     "end_time": "2020-05-21T11:24:47.416021Z",
     "start_time": "2020-05-21T11:24:47.407192Z"
    }
   },
   "outputs": [],
   "source": [
    "def levenshtein(s1, s2, cost=None, debug=False):\n",
    "    if len(s1) < len(s2):\n",
    "        return levenshtein(s2, s1, debug=debug)\n",
    "\n",
    "    if len(s2) == 0:\n",
    "        return len(s1)\n",
    "\n",
    "    if cost is None:\n",
    "        cost = {}\n",
    "\n",
    "    # changed\n",
    "    def substitution_cost(c1, c2):\n",
    "        if c1 == c2:\n",
    "            return 0\n",
    "        return cost.get((c1, c2), 1)\n",
    "\n",
    "    previous_row = range(len(s2) + 1)\n",
    "    for i, c1 in enumerate(s1):\n",
    "        current_row = [i + 1]\n",
    "        for j, c2 in enumerate(s2):\n",
    "            insertions = previous_row[j + 1] + 1\n",
    "            deletions = current_row[j] + 1\n",
    "            # Changed\n",
    "            substitutions = previous_row[j] + substitution_cost(c1, c2)\n",
    "            current_row.append(min(insertions, deletions, substitutions))\n",
    "\n",
    "        if debug:\n",
    "            print(current_row[1:])\n",
    "\n",
    "        previous_row = current_row\n",
    "\n",
    "    return previous_row[-1]"
   ]
  },
  {
   "cell_type": "code",
   "execution_count": 26,
   "metadata": {
    "ExecuteTime": {
     "end_time": "2020-05-21T11:28:10.321696Z",
     "start_time": "2020-05-21T11:28:10.306695Z"
    }
   },
   "outputs": [],
   "source": [
    "from tqdm import tqdm"
   ]
  },
  {
   "cell_type": "code",
   "execution_count": 34,
   "metadata": {
    "ExecuteTime": {
     "end_time": "2020-05-21T11:34:09.101159Z",
     "start_time": "2020-05-21T11:34:09.098456Z"
    }
   },
   "outputs": [],
   "source": [
    "from editdistance import eval as edit_distance"
   ]
  },
  {
   "cell_type": "code",
   "execution_count": 48,
   "metadata": {
    "ExecuteTime": {
     "end_time": "2020-05-21T11:41:10.566195Z",
     "start_time": "2020-05-21T11:41:10.563545Z"
    }
   },
   "outputs": [],
   "source": [
    "from collections import deque"
   ]
  },
  {
   "cell_type": "code",
   "execution_count": 49,
   "metadata": {
    "ExecuteTime": {
     "end_time": "2020-05-21T11:43:27.908655Z",
     "start_time": "2020-05-21T11:43:27.899873Z"
    }
   },
   "outputs": [],
   "source": [
    "dq = deque(list(np.zeros(len(train.songs.values))))"
   ]
  },
  {
   "cell_type": "code",
   "execution_count": 62,
   "metadata": {
    "ExecuteTime": {
     "end_time": "2020-05-21T11:51:46.410594Z",
     "start_time": "2020-05-21T11:51:46.406784Z"
    }
   },
   "outputs": [],
   "source": [
    "def test():\n",
    "    D = []\n",
    "    values = train.songs.values\n",
    "    for value_1 in values[:1]:\n",
    "        d = []\n",
    "        for value_2 in values:        \n",
    "            d.append(edit_distance(value_1, value_2))\n",
    "        D.append(d)"
   ]
  },
  {
   "cell_type": "code",
   "execution_count": 56,
   "metadata": {
    "ExecuteTime": {
     "end_time": "2020-05-21T11:47:14.244703Z",
     "start_time": "2020-05-21T11:47:03.659542Z"
    }
   },
   "outputs": [],
   "source": [
    "values = train.songs.values\n",
    "D = [\n",
    "    [edit_distance(value_1, value_2) for value_2 in values]\n",
    "    for value_1 in values[:5]\n",
    "]"
   ]
  },
  {
   "cell_type": "code",
   "execution_count": 60,
   "metadata": {
    "ExecuteTime": {
     "end_time": "2020-05-21T11:50:30.819974Z",
     "start_time": "2020-05-21T11:50:30.817364Z"
    }
   },
   "outputs": [],
   "source": [
    "from cProfile import Profile\n",
    "from pstats import Stats"
   ]
  },
  {
   "cell_type": "code",
   "execution_count": 64,
   "metadata": {
    "ExecuteTime": {
     "end_time": "2020-05-21T11:52:03.384996Z",
     "start_time": "2020-05-21T11:52:03.382504Z"
    }
   },
   "outputs": [],
   "source": [
    "profile = Profile()"
   ]
  },
  {
   "cell_type": "code",
   "execution_count": 65,
   "metadata": {
    "ExecuteTime": {
     "end_time": "2020-05-21T11:52:06.310604Z",
     "start_time": "2020-05-21T11:52:04.525999Z"
    }
   },
   "outputs": [],
   "source": [
    "profile.runcall(test)"
   ]
  },
  {
   "cell_type": "code",
   "execution_count": null,
   "metadata": {},
   "outputs": [],
   "source": []
  },
  {
   "cell_type": "code",
   "execution_count": null,
   "metadata": {},
   "outputs": [],
   "source": []
  },
  {
   "cell_type": "code",
   "execution_count": null,
   "metadata": {},
   "outputs": [],
   "source": []
  },
  {
   "cell_type": "code",
   "execution_count": null,
   "metadata": {},
   "outputs": [],
   "source": []
  },
  {
   "cell_type": "code",
   "execution_count": null,
   "metadata": {},
   "outputs": [],
   "source": []
  },
  {
   "cell_type": "code",
   "execution_count": 67,
   "metadata": {
    "ExecuteTime": {
     "end_time": "2020-05-21T11:52:11.737882Z",
     "start_time": "2020-05-21T11:52:11.726154Z"
    },
    "collapsed": true
   },
   "outputs": [
    {
     "name": "stdout",
     "output_type": "stream",
     "text": [
      "         230173 function calls in 1.782 seconds\n",
      "\n",
      "   Ordered by: cumulative time\n",
      "\n",
      "   ncalls  tottime  percall  cumtime  percall filename:lineno(function)\n",
      "        1    0.040    0.040    1.782    1.782 <ipython-input-62-6022aca7cc45>:1(test)\n",
      "   115071    1.733    0.000    1.733    0.000 {built-in method editdistance.bycython.eval}\n",
      "   115072    0.008    0.000    0.008    0.000 {method 'append' of 'list' objects}\n",
      "        1    0.000    0.000    0.000    0.000 generic.py:5162(__getattr__)\n",
      "        1    0.000    0.000    0.000    0.000 base.py:4297(_can_hold_identifiers_and_holds_name)\n",
      "        1    0.000    0.000    0.000    0.000 frame.py:2949(__getitem__)\n",
      "        1    0.000    0.000    0.000    0.000 base.py:1826(is_object)\n",
      "        1    0.000    0.000    0.000    0.000 common.py:225(is_object_dtype)\n",
      "        1    0.000    0.000    0.000    0.000 series.py:517(values)\n",
      "        1    0.000    0.000    0.000    0.000 common.py:1886(_is_dtype_type)\n",
      "        2    0.000    0.000    0.000    0.000 base.py:4228(__contains__)\n",
      "        1    0.000    0.000    0.000    0.000 generic.py:486(_info_axis)\n",
      "        1    0.000    0.000    0.000    0.000 managers.py:1582(external_values)\n",
      "        1    0.000    0.000    0.000    0.000 {built-in method builtins.getattr}\n",
      "        1    0.000    0.000    0.000    0.000 generic.py:3265(_get_item_cache)\n",
      "        1    0.000    0.000    0.000    0.000 common.py:211(<lambda>)\n",
      "        1    0.000    0.000    0.000    0.000 common.py:352(apply_if_callable)\n",
      "        1    0.000    0.000    0.000    0.000 managers.py:1523(_block)\n",
      "        1    0.000    0.000    0.000    0.000 {method 'get' of 'dict' objects}\n",
      "        3    0.000    0.000    0.000    0.000 {built-in method builtins.hash}\n",
      "        1    0.000    0.000    0.000    0.000 {method 'disable' of '_lsprof.Profiler' objects}\n",
      "        1    0.000    0.000    0.000    0.000 {pandas._libs.lib.item_from_zerodim}\n",
      "        1    0.000    0.000    0.000    0.000 common.py:209(classes)\n",
      "        1    0.000    0.000    0.000    0.000 inference.py:386(is_hashable)\n",
      "        1    0.000    0.000    0.000    0.000 {built-in method builtins.callable}\n",
      "        1    0.000    0.000    0.000    0.000 {built-in method builtins.isinstance}\n",
      "        1    0.000    0.000    0.000    0.000 {built-in method builtins.issubclass}\n",
      "        1    0.000    0.000    0.000    0.000 base.py:1524(nlevels)\n",
      "        1    0.000    0.000    0.000    0.000 blocks.py:203(external_values)\n",
      "\n",
      "\n"
     ]
    },
    {
     "data": {
      "text/plain": [
       "<pstats.Stats at 0x159f65ad0>"
      ]
     },
     "execution_count": 67,
     "metadata": {},
     "output_type": "execute_result"
    }
   ],
   "source": [
    "stats = Stats(profile)\n",
    "stats.strip_dirs()\n",
    "stats.sort_stats('cumulative')\n",
    "stats.print_stats()"
   ]
  },
  {
   "cell_type": "code",
   "execution_count": 32,
   "metadata": {
    "ExecuteTime": {
     "end_time": "2020-05-21T11:33:27.473100Z",
     "start_time": "2020-05-21T11:33:23.612477Z"
    },
    "collapsed": true
   },
   "outputs": [
    {
     "name": "stdout",
     "output_type": "stream",
     "text": [
      "Collecting editdistance\n",
      "  Downloading editdistance-0.5.3-cp37-cp37m-macosx_10_6_intel.whl (43 kB)\n",
      "\u001b[K     |████████████████████████████████| 43 kB 331 kB/s eta 0:00:011\n",
      "\u001b[31mERROR: Error checking for conflicts.\n",
      "Traceback (most recent call last):\n",
      "  File \"/Users/yoohowon/opt/anaconda3/envs/fastcampus/lib/python3.7/site-packages/pip/_vendor/pkg_resources/__init__.py\", line 3021, in _dep_map\n",
      "    return self.__dep_map\n",
      "  File \"/Users/yoohowon/opt/anaconda3/envs/fastcampus/lib/python3.7/site-packages/pip/_vendor/pkg_resources/__init__.py\", line 2815, in __getattr__\n",
      "    raise AttributeError(attr)\n",
      "AttributeError: _DistInfoDistribution__dep_map\n",
      "\n",
      "During handling of the above exception, another exception occurred:\n",
      "\n",
      "Traceback (most recent call last):\n",
      "  File \"/Users/yoohowon/opt/anaconda3/envs/fastcampus/lib/python3.7/site-packages/pip/_vendor/pkg_resources/__init__.py\", line 3012, in _parsed_pkg_info\n",
      "    return self._pkg_info\n",
      "  File \"/Users/yoohowon/opt/anaconda3/envs/fastcampus/lib/python3.7/site-packages/pip/_vendor/pkg_resources/__init__.py\", line 2815, in __getattr__\n",
      "    raise AttributeError(attr)\n",
      "AttributeError: _pkg_info\n",
      "\n",
      "During handling of the above exception, another exception occurred:\n",
      "\n",
      "Traceback (most recent call last):\n",
      "  File \"/Users/yoohowon/opt/anaconda3/envs/fastcampus/lib/python3.7/site-packages/pip/_internal/commands/install.py\", line 512, in _warn_about_conflicts\n",
      "    package_set, _dep_info = check_install_conflicts(to_install)\n",
      "  File \"/Users/yoohowon/opt/anaconda3/envs/fastcampus/lib/python3.7/site-packages/pip/_internal/operations/check.py\", line 114, in check_install_conflicts\n",
      "    package_set, _ = create_package_set_from_installed()\n",
      "  File \"/Users/yoohowon/opt/anaconda3/envs/fastcampus/lib/python3.7/site-packages/pip/_internal/operations/check.py\", line 53, in create_package_set_from_installed\n",
      "    package_set[name] = PackageDetails(dist.version, dist.requires())\n",
      "  File \"/Users/yoohowon/opt/anaconda3/envs/fastcampus/lib/python3.7/site-packages/pip/_vendor/pkg_resources/__init__.py\", line 2736, in requires\n",
      "    dm = self._dep_map\n",
      "  File \"/Users/yoohowon/opt/anaconda3/envs/fastcampus/lib/python3.7/site-packages/pip/_vendor/pkg_resources/__init__.py\", line 3023, in _dep_map\n",
      "    self.__dep_map = self._compute_dependencies()\n",
      "  File \"/Users/yoohowon/opt/anaconda3/envs/fastcampus/lib/python3.7/site-packages/pip/_vendor/pkg_resources/__init__.py\", line 3032, in _compute_dependencies\n",
      "    for req in self._parsed_pkg_info.get_all('Requires-Dist') or []:\n",
      "  File \"/Users/yoohowon/opt/anaconda3/envs/fastcampus/lib/python3.7/site-packages/pip/_vendor/pkg_resources/__init__.py\", line 3014, in _parsed_pkg_info\n",
      "    metadata = self.get_metadata(self.PKG_INFO)\n",
      "  File \"/Users/yoohowon/opt/anaconda3/envs/fastcampus/lib/python3.7/site-packages/pip/_vendor/pkg_resources/__init__.py\", line 1420, in get_metadata\n",
      "    value = self._get(path)\n",
      "  File \"/Users/yoohowon/opt/anaconda3/envs/fastcampus/lib/python3.7/site-packages/pip/_vendor/pkg_resources/__init__.py\", line 1616, in _get\n",
      "    with open(path, 'rb') as stream:\n",
      "FileNotFoundError: [Errno 2] No such file or directory: '/Users/yoohowon/opt/anaconda3/envs/fastcampus/lib/python3.7/site-packages/ipython-7.13.0.dist-info/METADATA'\u001b[0m\n",
      "\u001b[?25hInstalling collected packages: editdistance\n",
      "Successfully installed editdistance-0.5.3\n"
     ]
    }
   ],
   "source": [
    "!pip install editdistance"
   ]
  },
  {
   "cell_type": "code",
   "execution_count": 23,
   "metadata": {
    "ExecuteTime": {
     "end_time": "2020-05-21T11:24:57.052377Z",
     "start_time": "2020-05-21T11:24:57.047603Z"
    }
   },
   "outputs": [
    {
     "data": {
      "text/plain": [
       "[525514,\n",
       " 129701,\n",
       " 383374,\n",
       " 562083,\n",
       " 297861,\n",
       " 139541,\n",
       " 351214,\n",
       " 650298,\n",
       " 531057,\n",
       " 205238,\n",
       " 706183,\n",
       " 127099,\n",
       " 660493,\n",
       " 461973,\n",
       " 121455,\n",
       " 72552,\n",
       " 223955,\n",
       " 324992,\n",
       " 50104]"
      ]
     },
     "execution_count": 23,
     "metadata": {},
     "output_type": "execute_result"
    }
   ],
   "source": [
    "train['songs'].iloc[0]"
   ]
  },
  {
   "cell_type": "code",
   "execution_count": null,
   "metadata": {},
   "outputs": [],
   "source": []
  }
 ],
 "metadata": {
  "kernelspec": {
   "display_name": "Python 3",
   "language": "python",
   "name": "python3"
  },
  "language_info": {
   "codemirror_mode": {
    "name": "ipython",
    "version": 3
   },
   "file_extension": ".py",
   "mimetype": "text/x-python",
   "name": "python",
   "nbconvert_exporter": "python",
   "pygments_lexer": "ipython3",
   "version": "3.7.4"
  }
 },
 "nbformat": 4,
 "nbformat_minor": 2
}
