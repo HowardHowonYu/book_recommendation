{
 "cells": [
  {
   "cell_type": "code",
   "execution_count": 1,
   "metadata": {
    "ExecuteTime": {
     "end_time": "2020-05-23T08:13:06.376601Z",
     "start_time": "2020-05-23T08:13:04.511846Z"
    }
   },
   "outputs": [],
   "source": [
    "train = pd.read_json('./raw_data/train.json')\n",
    "# val = pd.read_json('./raw_data/val.json')"
   ]
  },
  {
   "cell_type": "code",
   "execution_count": 2,
   "metadata": {
    "ExecuteTime": {
     "end_time": "2020-05-23T08:13:17.061557Z",
     "start_time": "2020-05-23T08:13:06.378600Z"
    }
   },
   "outputs": [],
   "source": [
    "song_meta = pd.read_json('./raw_data/song_meta.json')"
   ]
  },
  {
   "cell_type": "code",
   "execution_count": 3,
   "metadata": {
    "ExecuteTime": {
     "end_time": "2020-05-23T08:13:28.621165Z",
     "start_time": "2020-05-23T08:13:17.064164Z"
    }
   },
   "outputs": [],
   "source": [
    "raw_df = pd.read_csv('./df_for_MLC.csv')"
   ]
  },
  {
   "cell_type": "markdown",
   "metadata": {},
   "source": [
    "## 노래별로 어떤 tag가 붙어 있는지"
   ]
  },
  {
   "cell_type": "code",
   "execution_count": 4,
   "metadata": {
    "ExecuteTime": {
     "end_time": "2020-05-23T08:15:06.273393Z",
     "start_time": "2020-05-23T08:13:28.624237Z"
    }
   },
   "outputs": [
    {
     "data": {
      "text/html": [
       "<div>\n",
       "<style scoped>\n",
       "    .dataframe tbody tr th:only-of-type {\n",
       "        vertical-align: middle;\n",
       "    }\n",
       "\n",
       "    .dataframe tbody tr th {\n",
       "        vertical-align: top;\n",
       "    }\n",
       "\n",
       "    .dataframe thead th {\n",
       "        text-align: right;\n",
       "    }\n",
       "</style>\n",
       "<table border=\"1\" class=\"dataframe\">\n",
       "  <thead>\n",
       "    <tr style=\"text-align: right;\">\n",
       "      <th></th>\n",
       "      <th>id</th>\n",
       "      <th>tags</th>\n",
       "    </tr>\n",
       "  </thead>\n",
       "  <tbody>\n",
       "    <tr>\n",
       "      <td>0</td>\n",
       "      <td>0</td>\n",
       "      <td>[비오는날, 드라이브, 비오는날, 추억, 회상]</td>\n",
       "    </tr>\n",
       "    <tr>\n",
       "      <td>1</td>\n",
       "      <td>3</td>\n",
       "      <td>[1, 감성, 듣기좋은, 드라이브, Pop, 여행, 기분전환, 팝, 신나는, 클럽,...</td>\n",
       "    </tr>\n",
       "    <tr>\n",
       "      <td>2</td>\n",
       "      <td>4</td>\n",
       "      <td>[뉴에이지, 뉴에이지]</td>\n",
       "    </tr>\n",
       "    <tr>\n",
       "      <td>3</td>\n",
       "      <td>5</td>\n",
       "      <td>[비오는날, 재즈, 락, 발라드, 휴식, 리메이크, 재즈, 힐링송, 힐링, 기분전환...</td>\n",
       "    </tr>\n",
       "    <tr>\n",
       "      <td>4</td>\n",
       "      <td>6</td>\n",
       "      <td>[클래식, 산책, 조깅]</td>\n",
       "    </tr>\n",
       "    <tr>\n",
       "      <td>...</td>\n",
       "      <td>...</td>\n",
       "      <td>...</td>\n",
       "    </tr>\n",
       "    <tr>\n",
       "      <td>615137</td>\n",
       "      <td>707984</td>\n",
       "      <td>[월드뮤직]</td>\n",
       "    </tr>\n",
       "    <tr>\n",
       "      <td>615138</td>\n",
       "      <td>707985</td>\n",
       "      <td>[Pop, 해외차트, 시대별차트, 신디로퍼, Pop, 1980, 라이벌, 록]</td>\n",
       "    </tr>\n",
       "    <tr>\n",
       "      <td>615139</td>\n",
       "      <td>707986</td>\n",
       "      <td>[힙합, 랩, 발라드, 감성, 리메이크곡, 카페, 잔잔한, 추억, 위로, 힐링, 사...</td>\n",
       "    </tr>\n",
       "    <tr>\n",
       "      <td>615140</td>\n",
       "      <td>707987</td>\n",
       "      <td>[집중, 노동요, 새벽, 오후, 자장가, 공부]</td>\n",
       "    </tr>\n",
       "    <tr>\n",
       "      <td>615141</td>\n",
       "      <td>707988</td>\n",
       "      <td>[데뷔24년, 김경호, 샤우팅의_지존]</td>\n",
       "    </tr>\n",
       "  </tbody>\n",
       "</table>\n",
       "<p>615142 rows × 2 columns</p>\n",
       "</div>"
      ],
      "text/plain": [
       "            id                                               tags\n",
       "0            0                         [비오는날, 드라이브, 비오는날, 추억, 회상]\n",
       "1            3  [1, 감성, 듣기좋은, 드라이브, Pop, 여행, 기분전환, 팝, 신나는, 클럽,...\n",
       "2            4                                       [뉴에이지, 뉴에이지]\n",
       "3            5  [비오는날, 재즈, 락, 발라드, 휴식, 리메이크, 재즈, 힐링송, 힐링, 기분전환...\n",
       "4            6                                      [클래식, 산책, 조깅]\n",
       "...        ...                                                ...\n",
       "615137  707984                                             [월드뮤직]\n",
       "615138  707985        [Pop, 해외차트, 시대별차트, 신디로퍼, Pop, 1980, 라이벌, 록]\n",
       "615139  707986  [힙합, 랩, 발라드, 감성, 리메이크곡, 카페, 잔잔한, 추억, 위로, 힐링, 사...\n",
       "615140  707987                         [집중, 노동요, 새벽, 오후, 자장가, 공부]\n",
       "615141  707988                              [데뷔24년, 김경호, 샤우팅의_지존]\n",
       "\n",
       "[615142 rows x 2 columns]"
      ]
     },
     "execution_count": 4,
     "metadata": {},
     "output_type": "execute_result"
    }
   ],
   "source": [
    "ls = []\n",
    "for i in train[['tags','songs']].index:\n",
    "    tags = train.get_value(i,'tags')\n",
    "    songs = train.get_value(i,'songs')\n",
    "    for song in songs:\n",
    "        ls.append({'id':song,'tags': tags})\n",
    "song_tag = pd.DataFrame(ls)\n",
    "song_tag_df = song_tag.groupby('id').agg(sum).reset_index()\n",
    "song_tag_df"
   ]
  },
  {
   "cell_type": "markdown",
   "metadata": {},
   "source": [
    "# train playlist에 언급된 unique한 노래들 추출"
   ]
  },
  {
   "cell_type": "code",
   "execution_count": 5,
   "metadata": {
    "ExecuteTime": {
     "end_time": "2020-05-23T08:15:11.472720Z",
     "start_time": "2020-05-23T08:15:06.275556Z"
    }
   },
   "outputs": [
    {
     "data": {
      "text/plain": [
       "[0, 3, 4, 5, 6]"
      ]
     },
     "execution_count": 5,
     "metadata": {},
     "output_type": "execute_result"
    }
   ],
   "source": [
    "df_songs = train['songs'].apply(lambda x : [str(i) for i in x])\n",
    "df_songs = train['songs'].reset_index(drop=True)\n",
    "unique_song_list = np.concatenate(df_songs)\n",
    "unique_song_list = list(set(unique_song_list))\n",
    "unique_song_list = [int(i) for i in unique_song_list]\n",
    "unique_song_list[:5]"
   ]
  },
  {
   "cell_type": "code",
   "execution_count": 6,
   "metadata": {
    "ExecuteTime": {
     "end_time": "2020-05-23T08:15:12.225867Z",
     "start_time": "2020-05-23T08:15:11.474568Z"
    }
   },
   "outputs": [],
   "source": [
    "df = raw_df[raw_df['id'].isin(unique_song_list)]"
   ]
  },
  {
   "cell_type": "code",
   "execution_count": 7,
   "metadata": {
    "ExecuteTime": {
     "end_time": "2020-05-23T08:15:12.375923Z",
     "start_time": "2020-05-23T08:15:12.227675Z"
    }
   },
   "outputs": [
    {
     "data": {
      "text/html": [
       "<div>\n",
       "<style scoped>\n",
       "    .dataframe tbody tr th:only-of-type {\n",
       "        vertical-align: middle;\n",
       "    }\n",
       "\n",
       "    .dataframe tbody tr th {\n",
       "        vertical-align: top;\n",
       "    }\n",
       "\n",
       "    .dataframe thead th {\n",
       "        text-align: right;\n",
       "    }\n",
       "</style>\n",
       "<table border=\"1\" class=\"dataframe\">\n",
       "  <thead>\n",
       "    <tr style=\"text-align: right;\">\n",
       "      <th></th>\n",
       "      <th>Unnamed: 0</th>\n",
       "      <th>id</th>\n",
       "      <th>GN0100</th>\n",
       "      <th>GN0101</th>\n",
       "      <th>GN0102</th>\n",
       "      <th>GN0103</th>\n",
       "      <th>GN0104</th>\n",
       "      <th>GN0105</th>\n",
       "      <th>GN0200</th>\n",
       "      <th>GN0201</th>\n",
       "      <th>...</th>\n",
       "      <th>GN2900</th>\n",
       "      <th>GN2901</th>\n",
       "      <th>GN2902</th>\n",
       "      <th>GN2903</th>\n",
       "      <th>GN9000</th>\n",
       "      <th>issue_year</th>\n",
       "      <th>issue_month</th>\n",
       "      <th>like_cnt</th>\n",
       "      <th>population</th>\n",
       "      <th>tag_score</th>\n",
       "    </tr>\n",
       "  </thead>\n",
       "  <tbody>\n",
       "    <tr>\n",
       "      <td>0</td>\n",
       "      <td>0</td>\n",
       "      <td>0</td>\n",
       "      <td>0</td>\n",
       "      <td>0</td>\n",
       "      <td>0</td>\n",
       "      <td>0</td>\n",
       "      <td>0</td>\n",
       "      <td>0</td>\n",
       "      <td>0</td>\n",
       "      <td>0</td>\n",
       "      <td>...</td>\n",
       "      <td>0</td>\n",
       "      <td>0</td>\n",
       "      <td>0</td>\n",
       "      <td>0</td>\n",
       "      <td>0</td>\n",
       "      <td>2014</td>\n",
       "      <td>5</td>\n",
       "      <td>29.0</td>\n",
       "      <td>2.0</td>\n",
       "      <td>24176.0</td>\n",
       "    </tr>\n",
       "    <tr>\n",
       "      <td>3</td>\n",
       "      <td>3</td>\n",
       "      <td>3</td>\n",
       "      <td>0</td>\n",
       "      <td>0</td>\n",
       "      <td>0</td>\n",
       "      <td>0</td>\n",
       "      <td>0</td>\n",
       "      <td>0</td>\n",
       "      <td>0</td>\n",
       "      <td>0</td>\n",
       "      <td>...</td>\n",
       "      <td>0</td>\n",
       "      <td>0</td>\n",
       "      <td>0</td>\n",
       "      <td>0</td>\n",
       "      <td>0</td>\n",
       "      <td>2015</td>\n",
       "      <td>10</td>\n",
       "      <td>1686.0</td>\n",
       "      <td>8.0</td>\n",
       "      <td>79205.0</td>\n",
       "    </tr>\n",
       "    <tr>\n",
       "      <td>4</td>\n",
       "      <td>4</td>\n",
       "      <td>4</td>\n",
       "      <td>0</td>\n",
       "      <td>0</td>\n",
       "      <td>0</td>\n",
       "      <td>0</td>\n",
       "      <td>0</td>\n",
       "      <td>0</td>\n",
       "      <td>0</td>\n",
       "      <td>0</td>\n",
       "      <td>...</td>\n",
       "      <td>0</td>\n",
       "      <td>0</td>\n",
       "      <td>0</td>\n",
       "      <td>0</td>\n",
       "      <td>0</td>\n",
       "      <td>2011</td>\n",
       "      <td>8</td>\n",
       "      <td>39.0</td>\n",
       "      <td>2.0</td>\n",
       "      <td>3493.0</td>\n",
       "    </tr>\n",
       "    <tr>\n",
       "      <td>5</td>\n",
       "      <td>5</td>\n",
       "      <td>5</td>\n",
       "      <td>0</td>\n",
       "      <td>0</td>\n",
       "      <td>0</td>\n",
       "      <td>0</td>\n",
       "      <td>0</td>\n",
       "      <td>0</td>\n",
       "      <td>0</td>\n",
       "      <td>0</td>\n",
       "      <td>...</td>\n",
       "      <td>0</td>\n",
       "      <td>0</td>\n",
       "      <td>0</td>\n",
       "      <td>0</td>\n",
       "      <td>0</td>\n",
       "      <td>2010</td>\n",
       "      <td>6</td>\n",
       "      <td>391.0</td>\n",
       "      <td>5.0</td>\n",
       "      <td>59069.0</td>\n",
       "    </tr>\n",
       "    <tr>\n",
       "      <td>6</td>\n",
       "      <td>6</td>\n",
       "      <td>6</td>\n",
       "      <td>0</td>\n",
       "      <td>0</td>\n",
       "      <td>0</td>\n",
       "      <td>0</td>\n",
       "      <td>0</td>\n",
       "      <td>0</td>\n",
       "      <td>0</td>\n",
       "      <td>0</td>\n",
       "      <td>...</td>\n",
       "      <td>0</td>\n",
       "      <td>0</td>\n",
       "      <td>0</td>\n",
       "      <td>0</td>\n",
       "      <td>0</td>\n",
       "      <td>2017</td>\n",
       "      <td>2</td>\n",
       "      <td>24.0</td>\n",
       "      <td>1.0</td>\n",
       "      <td>4982.0</td>\n",
       "    </tr>\n",
       "    <tr>\n",
       "      <td>...</td>\n",
       "      <td>...</td>\n",
       "      <td>...</td>\n",
       "      <td>...</td>\n",
       "      <td>...</td>\n",
       "      <td>...</td>\n",
       "      <td>...</td>\n",
       "      <td>...</td>\n",
       "      <td>...</td>\n",
       "      <td>...</td>\n",
       "      <td>...</td>\n",
       "      <td>...</td>\n",
       "      <td>...</td>\n",
       "      <td>...</td>\n",
       "      <td>...</td>\n",
       "      <td>...</td>\n",
       "      <td>...</td>\n",
       "      <td>...</td>\n",
       "      <td>...</td>\n",
       "      <td>...</td>\n",
       "      <td>...</td>\n",
       "      <td>...</td>\n",
       "    </tr>\n",
       "    <tr>\n",
       "      <td>707984</td>\n",
       "      <td>707984</td>\n",
       "      <td>707984</td>\n",
       "      <td>0</td>\n",
       "      <td>0</td>\n",
       "      <td>0</td>\n",
       "      <td>0</td>\n",
       "      <td>0</td>\n",
       "      <td>0</td>\n",
       "      <td>0</td>\n",
       "      <td>0</td>\n",
       "      <td>...</td>\n",
       "      <td>0</td>\n",
       "      <td>0</td>\n",
       "      <td>0</td>\n",
       "      <td>0</td>\n",
       "      <td>0</td>\n",
       "      <td>1999</td>\n",
       "      <td>12</td>\n",
       "      <td>2.0</td>\n",
       "      <td>1.0</td>\n",
       "      <td>243.0</td>\n",
       "    </tr>\n",
       "    <tr>\n",
       "      <td>707985</td>\n",
       "      <td>707985</td>\n",
       "      <td>707985</td>\n",
       "      <td>0</td>\n",
       "      <td>0</td>\n",
       "      <td>0</td>\n",
       "      <td>0</td>\n",
       "      <td>0</td>\n",
       "      <td>0</td>\n",
       "      <td>0</td>\n",
       "      <td>0</td>\n",
       "      <td>...</td>\n",
       "      <td>0</td>\n",
       "      <td>0</td>\n",
       "      <td>0</td>\n",
       "      <td>0</td>\n",
       "      <td>0</td>\n",
       "      <td>1986</td>\n",
       "      <td>0</td>\n",
       "      <td>11.0</td>\n",
       "      <td>4.0</td>\n",
       "      <td>4323.0</td>\n",
       "    </tr>\n",
       "    <tr>\n",
       "      <td>707986</td>\n",
       "      <td>707986</td>\n",
       "      <td>707986</td>\n",
       "      <td>1</td>\n",
       "      <td>1</td>\n",
       "      <td>0</td>\n",
       "      <td>0</td>\n",
       "      <td>0</td>\n",
       "      <td>1</td>\n",
       "      <td>0</td>\n",
       "      <td>0</td>\n",
       "      <td>...</td>\n",
       "      <td>0</td>\n",
       "      <td>0</td>\n",
       "      <td>0</td>\n",
       "      <td>0</td>\n",
       "      <td>0</td>\n",
       "      <td>2016</td>\n",
       "      <td>1</td>\n",
       "      <td>1123.0</td>\n",
       "      <td>11.0</td>\n",
       "      <td>162809.0</td>\n",
       "    </tr>\n",
       "    <tr>\n",
       "      <td>707987</td>\n",
       "      <td>707987</td>\n",
       "      <td>707987</td>\n",
       "      <td>0</td>\n",
       "      <td>0</td>\n",
       "      <td>0</td>\n",
       "      <td>0</td>\n",
       "      <td>0</td>\n",
       "      <td>0</td>\n",
       "      <td>0</td>\n",
       "      <td>0</td>\n",
       "      <td>...</td>\n",
       "      <td>0</td>\n",
       "      <td>0</td>\n",
       "      <td>0</td>\n",
       "      <td>0</td>\n",
       "      <td>0</td>\n",
       "      <td>2013</td>\n",
       "      <td>12</td>\n",
       "      <td>4.0</td>\n",
       "      <td>1.0</td>\n",
       "      <td>12775.0</td>\n",
       "    </tr>\n",
       "    <tr>\n",
       "      <td>707988</td>\n",
       "      <td>707988</td>\n",
       "      <td>707988</td>\n",
       "      <td>0</td>\n",
       "      <td>0</td>\n",
       "      <td>0</td>\n",
       "      <td>0</td>\n",
       "      <td>0</td>\n",
       "      <td>0</td>\n",
       "      <td>0</td>\n",
       "      <td>0</td>\n",
       "      <td>...</td>\n",
       "      <td>0</td>\n",
       "      <td>0</td>\n",
       "      <td>0</td>\n",
       "      <td>0</td>\n",
       "      <td>0</td>\n",
       "      <td>1998</td>\n",
       "      <td>0</td>\n",
       "      <td>4.0</td>\n",
       "      <td>1.0</td>\n",
       "      <td>8.0</td>\n",
       "    </tr>\n",
       "  </tbody>\n",
       "</table>\n",
       "<p>615142 rows × 256 columns</p>\n",
       "</div>"
      ],
      "text/plain": [
       "        Unnamed: 0      id  GN0100  GN0101  GN0102  GN0103  GN0104  GN0105  \\\n",
       "0                0       0       0       0       0       0       0       0   \n",
       "3                3       3       0       0       0       0       0       0   \n",
       "4                4       4       0       0       0       0       0       0   \n",
       "5                5       5       0       0       0       0       0       0   \n",
       "6                6       6       0       0       0       0       0       0   \n",
       "...            ...     ...     ...     ...     ...     ...     ...     ...   \n",
       "707984      707984  707984       0       0       0       0       0       0   \n",
       "707985      707985  707985       0       0       0       0       0       0   \n",
       "707986      707986  707986       1       1       0       0       0       1   \n",
       "707987      707987  707987       0       0       0       0       0       0   \n",
       "707988      707988  707988       0       0       0       0       0       0   \n",
       "\n",
       "        GN0200  GN0201  ...  GN2900  GN2901  GN2902  GN2903  GN9000  \\\n",
       "0            0       0  ...       0       0       0       0       0   \n",
       "3            0       0  ...       0       0       0       0       0   \n",
       "4            0       0  ...       0       0       0       0       0   \n",
       "5            0       0  ...       0       0       0       0       0   \n",
       "6            0       0  ...       0       0       0       0       0   \n",
       "...        ...     ...  ...     ...     ...     ...     ...     ...   \n",
       "707984       0       0  ...       0       0       0       0       0   \n",
       "707985       0       0  ...       0       0       0       0       0   \n",
       "707986       0       0  ...       0       0       0       0       0   \n",
       "707987       0       0  ...       0       0       0       0       0   \n",
       "707988       0       0  ...       0       0       0       0       0   \n",
       "\n",
       "        issue_year  issue_month  like_cnt  population  tag_score  \n",
       "0             2014            5      29.0         2.0    24176.0  \n",
       "3             2015           10    1686.0         8.0    79205.0  \n",
       "4             2011            8      39.0         2.0     3493.0  \n",
       "5             2010            6     391.0         5.0    59069.0  \n",
       "6             2017            2      24.0         1.0     4982.0  \n",
       "...            ...          ...       ...         ...        ...  \n",
       "707984        1999           12       2.0         1.0      243.0  \n",
       "707985        1986            0      11.0         4.0     4323.0  \n",
       "707986        2016            1    1123.0        11.0   162809.0  \n",
       "707987        2013           12       4.0         1.0    12775.0  \n",
       "707988        1998            0       4.0         1.0        8.0  \n",
       "\n",
       "[615142 rows x 256 columns]"
      ]
     },
     "execution_count": 7,
     "metadata": {},
     "output_type": "execute_result"
    }
   ],
   "source": [
    "df"
   ]
  },
  {
   "cell_type": "markdown",
   "metadata": {},
   "source": [
    "## 연도를 one-hot-encoding 진행"
   ]
  },
  {
   "cell_type": "code",
   "execution_count": 8,
   "metadata": {
    "ExecuteTime": {
     "end_time": "2020-05-23T08:15:14.102963Z",
     "start_time": "2020-05-23T08:15:12.380348Z"
    }
   },
   "outputs": [],
   "source": [
    "df[['issue_year','issue_month']] = df[['issue_year','issue_month']].apply(lambda x : [str(i) for i in x])"
   ]
  },
  {
   "cell_type": "code",
   "execution_count": 9,
   "metadata": {
    "ExecuteTime": {
     "end_time": "2020-05-23T08:15:14.661289Z",
     "start_time": "2020-05-23T08:15:14.105955Z"
    }
   },
   "outputs": [],
   "source": [
    "final_df_year_month_dummies = pd.get_dummies(df[['issue_year','issue_month']])"
   ]
  },
  {
   "cell_type": "code",
   "execution_count": 10,
   "metadata": {
    "ExecuteTime": {
     "end_time": "2020-05-23T08:15:14.740841Z",
     "start_time": "2020-05-23T08:15:14.663182Z"
    }
   },
   "outputs": [],
   "source": [
    "final_df_year_month_dummies.reset_index(inplace=True)\n",
    "final_df_year_month_dummies.rename(columns={'index':'id'},inplace=True)"
   ]
  },
  {
   "cell_type": "code",
   "execution_count": 11,
   "metadata": {
    "ExecuteTime": {
     "end_time": "2020-05-23T08:15:16.554334Z",
     "start_time": "2020-05-23T08:15:14.742897Z"
    }
   },
   "outputs": [],
   "source": [
    "final_df_one_hot = df[df.columns.difference(['issue_year','issue_month'])].merge(final_df_year_month_dummies, on='id')"
   ]
  },
  {
   "cell_type": "code",
   "execution_count": 12,
   "metadata": {
    "ExecuteTime": {
     "end_time": "2020-05-23T08:15:16.633203Z",
     "start_time": "2020-05-23T08:15:16.556251Z"
    }
   },
   "outputs": [
    {
     "data": {
      "text/html": [
       "<div>\n",
       "<style scoped>\n",
       "    .dataframe tbody tr th:only-of-type {\n",
       "        vertical-align: middle;\n",
       "    }\n",
       "\n",
       "    .dataframe tbody tr th {\n",
       "        vertical-align: top;\n",
       "    }\n",
       "\n",
       "    .dataframe thead th {\n",
       "        text-align: right;\n",
       "    }\n",
       "</style>\n",
       "<table border=\"1\" class=\"dataframe\">\n",
       "  <thead>\n",
       "    <tr style=\"text-align: right;\">\n",
       "      <th></th>\n",
       "      <th>GN0100</th>\n",
       "      <th>GN0101</th>\n",
       "      <th>GN0102</th>\n",
       "      <th>GN0103</th>\n",
       "      <th>GN0104</th>\n",
       "      <th>GN0105</th>\n",
       "      <th>GN0200</th>\n",
       "      <th>GN0201</th>\n",
       "      <th>GN0202</th>\n",
       "      <th>GN0203</th>\n",
       "      <th>...</th>\n",
       "      <th>issue_month_12</th>\n",
       "      <th>issue_month_2</th>\n",
       "      <th>issue_month_3</th>\n",
       "      <th>issue_month_4</th>\n",
       "      <th>issue_month_5</th>\n",
       "      <th>issue_month_51</th>\n",
       "      <th>issue_month_6</th>\n",
       "      <th>issue_month_7</th>\n",
       "      <th>issue_month_8</th>\n",
       "      <th>issue_month_9</th>\n",
       "    </tr>\n",
       "  </thead>\n",
       "  <tbody>\n",
       "    <tr>\n",
       "      <td>0</td>\n",
       "      <td>0</td>\n",
       "      <td>0</td>\n",
       "      <td>0</td>\n",
       "      <td>0</td>\n",
       "      <td>0</td>\n",
       "      <td>0</td>\n",
       "      <td>0</td>\n",
       "      <td>0</td>\n",
       "      <td>0</td>\n",
       "      <td>0</td>\n",
       "      <td>...</td>\n",
       "      <td>0</td>\n",
       "      <td>0</td>\n",
       "      <td>0</td>\n",
       "      <td>0</td>\n",
       "      <td>1</td>\n",
       "      <td>0</td>\n",
       "      <td>0</td>\n",
       "      <td>0</td>\n",
       "      <td>0</td>\n",
       "      <td>0</td>\n",
       "    </tr>\n",
       "    <tr>\n",
       "      <td>1</td>\n",
       "      <td>0</td>\n",
       "      <td>0</td>\n",
       "      <td>0</td>\n",
       "      <td>0</td>\n",
       "      <td>0</td>\n",
       "      <td>0</td>\n",
       "      <td>0</td>\n",
       "      <td>0</td>\n",
       "      <td>0</td>\n",
       "      <td>0</td>\n",
       "      <td>...</td>\n",
       "      <td>0</td>\n",
       "      <td>0</td>\n",
       "      <td>0</td>\n",
       "      <td>0</td>\n",
       "      <td>0</td>\n",
       "      <td>0</td>\n",
       "      <td>0</td>\n",
       "      <td>0</td>\n",
       "      <td>0</td>\n",
       "      <td>0</td>\n",
       "    </tr>\n",
       "    <tr>\n",
       "      <td>2</td>\n",
       "      <td>0</td>\n",
       "      <td>0</td>\n",
       "      <td>0</td>\n",
       "      <td>0</td>\n",
       "      <td>0</td>\n",
       "      <td>0</td>\n",
       "      <td>0</td>\n",
       "      <td>0</td>\n",
       "      <td>0</td>\n",
       "      <td>0</td>\n",
       "      <td>...</td>\n",
       "      <td>0</td>\n",
       "      <td>0</td>\n",
       "      <td>0</td>\n",
       "      <td>0</td>\n",
       "      <td>0</td>\n",
       "      <td>0</td>\n",
       "      <td>0</td>\n",
       "      <td>0</td>\n",
       "      <td>1</td>\n",
       "      <td>0</td>\n",
       "    </tr>\n",
       "    <tr>\n",
       "      <td>3</td>\n",
       "      <td>0</td>\n",
       "      <td>0</td>\n",
       "      <td>0</td>\n",
       "      <td>0</td>\n",
       "      <td>0</td>\n",
       "      <td>0</td>\n",
       "      <td>0</td>\n",
       "      <td>0</td>\n",
       "      <td>0</td>\n",
       "      <td>0</td>\n",
       "      <td>...</td>\n",
       "      <td>0</td>\n",
       "      <td>0</td>\n",
       "      <td>0</td>\n",
       "      <td>0</td>\n",
       "      <td>0</td>\n",
       "      <td>0</td>\n",
       "      <td>1</td>\n",
       "      <td>0</td>\n",
       "      <td>0</td>\n",
       "      <td>0</td>\n",
       "    </tr>\n",
       "    <tr>\n",
       "      <td>4</td>\n",
       "      <td>0</td>\n",
       "      <td>0</td>\n",
       "      <td>0</td>\n",
       "      <td>0</td>\n",
       "      <td>0</td>\n",
       "      <td>0</td>\n",
       "      <td>0</td>\n",
       "      <td>0</td>\n",
       "      <td>0</td>\n",
       "      <td>0</td>\n",
       "      <td>...</td>\n",
       "      <td>0</td>\n",
       "      <td>1</td>\n",
       "      <td>0</td>\n",
       "      <td>0</td>\n",
       "      <td>0</td>\n",
       "      <td>0</td>\n",
       "      <td>0</td>\n",
       "      <td>0</td>\n",
       "      <td>0</td>\n",
       "      <td>0</td>\n",
       "    </tr>\n",
       "    <tr>\n",
       "      <td>...</td>\n",
       "      <td>...</td>\n",
       "      <td>...</td>\n",
       "      <td>...</td>\n",
       "      <td>...</td>\n",
       "      <td>...</td>\n",
       "      <td>...</td>\n",
       "      <td>...</td>\n",
       "      <td>...</td>\n",
       "      <td>...</td>\n",
       "      <td>...</td>\n",
       "      <td>...</td>\n",
       "      <td>...</td>\n",
       "      <td>...</td>\n",
       "      <td>...</td>\n",
       "      <td>...</td>\n",
       "      <td>...</td>\n",
       "      <td>...</td>\n",
       "      <td>...</td>\n",
       "      <td>...</td>\n",
       "      <td>...</td>\n",
       "      <td>...</td>\n",
       "    </tr>\n",
       "    <tr>\n",
       "      <td>615137</td>\n",
       "      <td>0</td>\n",
       "      <td>0</td>\n",
       "      <td>0</td>\n",
       "      <td>0</td>\n",
       "      <td>0</td>\n",
       "      <td>0</td>\n",
       "      <td>0</td>\n",
       "      <td>0</td>\n",
       "      <td>0</td>\n",
       "      <td>0</td>\n",
       "      <td>...</td>\n",
       "      <td>1</td>\n",
       "      <td>0</td>\n",
       "      <td>0</td>\n",
       "      <td>0</td>\n",
       "      <td>0</td>\n",
       "      <td>0</td>\n",
       "      <td>0</td>\n",
       "      <td>0</td>\n",
       "      <td>0</td>\n",
       "      <td>0</td>\n",
       "    </tr>\n",
       "    <tr>\n",
       "      <td>615138</td>\n",
       "      <td>0</td>\n",
       "      <td>0</td>\n",
       "      <td>0</td>\n",
       "      <td>0</td>\n",
       "      <td>0</td>\n",
       "      <td>0</td>\n",
       "      <td>0</td>\n",
       "      <td>0</td>\n",
       "      <td>0</td>\n",
       "      <td>0</td>\n",
       "      <td>...</td>\n",
       "      <td>0</td>\n",
       "      <td>0</td>\n",
       "      <td>0</td>\n",
       "      <td>0</td>\n",
       "      <td>0</td>\n",
       "      <td>0</td>\n",
       "      <td>0</td>\n",
       "      <td>0</td>\n",
       "      <td>0</td>\n",
       "      <td>0</td>\n",
       "    </tr>\n",
       "    <tr>\n",
       "      <td>615139</td>\n",
       "      <td>1</td>\n",
       "      <td>1</td>\n",
       "      <td>0</td>\n",
       "      <td>0</td>\n",
       "      <td>0</td>\n",
       "      <td>1</td>\n",
       "      <td>0</td>\n",
       "      <td>0</td>\n",
       "      <td>0</td>\n",
       "      <td>0</td>\n",
       "      <td>...</td>\n",
       "      <td>0</td>\n",
       "      <td>0</td>\n",
       "      <td>0</td>\n",
       "      <td>0</td>\n",
       "      <td>0</td>\n",
       "      <td>0</td>\n",
       "      <td>0</td>\n",
       "      <td>0</td>\n",
       "      <td>0</td>\n",
       "      <td>0</td>\n",
       "    </tr>\n",
       "    <tr>\n",
       "      <td>615140</td>\n",
       "      <td>0</td>\n",
       "      <td>0</td>\n",
       "      <td>0</td>\n",
       "      <td>0</td>\n",
       "      <td>0</td>\n",
       "      <td>0</td>\n",
       "      <td>0</td>\n",
       "      <td>0</td>\n",
       "      <td>0</td>\n",
       "      <td>0</td>\n",
       "      <td>...</td>\n",
       "      <td>1</td>\n",
       "      <td>0</td>\n",
       "      <td>0</td>\n",
       "      <td>0</td>\n",
       "      <td>0</td>\n",
       "      <td>0</td>\n",
       "      <td>0</td>\n",
       "      <td>0</td>\n",
       "      <td>0</td>\n",
       "      <td>0</td>\n",
       "    </tr>\n",
       "    <tr>\n",
       "      <td>615141</td>\n",
       "      <td>0</td>\n",
       "      <td>0</td>\n",
       "      <td>0</td>\n",
       "      <td>0</td>\n",
       "      <td>0</td>\n",
       "      <td>0</td>\n",
       "      <td>0</td>\n",
       "      <td>0</td>\n",
       "      <td>0</td>\n",
       "      <td>0</td>\n",
       "      <td>...</td>\n",
       "      <td>0</td>\n",
       "      <td>0</td>\n",
       "      <td>0</td>\n",
       "      <td>0</td>\n",
       "      <td>0</td>\n",
       "      <td>0</td>\n",
       "      <td>0</td>\n",
       "      <td>0</td>\n",
       "      <td>0</td>\n",
       "      <td>0</td>\n",
       "    </tr>\n",
       "  </tbody>\n",
       "</table>\n",
       "<p>615142 rows × 352 columns</p>\n",
       "</div>"
      ],
      "text/plain": [
       "        GN0100  GN0101  GN0102  GN0103  GN0104  GN0105  GN0200  GN0201  \\\n",
       "0            0       0       0       0       0       0       0       0   \n",
       "1            0       0       0       0       0       0       0       0   \n",
       "2            0       0       0       0       0       0       0       0   \n",
       "3            0       0       0       0       0       0       0       0   \n",
       "4            0       0       0       0       0       0       0       0   \n",
       "...        ...     ...     ...     ...     ...     ...     ...     ...   \n",
       "615137       0       0       0       0       0       0       0       0   \n",
       "615138       0       0       0       0       0       0       0       0   \n",
       "615139       1       1       0       0       0       1       0       0   \n",
       "615140       0       0       0       0       0       0       0       0   \n",
       "615141       0       0       0       0       0       0       0       0   \n",
       "\n",
       "        GN0202  GN0203  ...  issue_month_12  issue_month_2  issue_month_3  \\\n",
       "0            0       0  ...               0              0              0   \n",
       "1            0       0  ...               0              0              0   \n",
       "2            0       0  ...               0              0              0   \n",
       "3            0       0  ...               0              0              0   \n",
       "4            0       0  ...               0              1              0   \n",
       "...        ...     ...  ...             ...            ...            ...   \n",
       "615137       0       0  ...               1              0              0   \n",
       "615138       0       0  ...               0              0              0   \n",
       "615139       0       0  ...               0              0              0   \n",
       "615140       0       0  ...               1              0              0   \n",
       "615141       0       0  ...               0              0              0   \n",
       "\n",
       "        issue_month_4  issue_month_5  issue_month_51  issue_month_6  \\\n",
       "0                   0              1               0              0   \n",
       "1                   0              0               0              0   \n",
       "2                   0              0               0              0   \n",
       "3                   0              0               0              1   \n",
       "4                   0              0               0              0   \n",
       "...               ...            ...             ...            ...   \n",
       "615137              0              0               0              0   \n",
       "615138              0              0               0              0   \n",
       "615139              0              0               0              0   \n",
       "615140              0              0               0              0   \n",
       "615141              0              0               0              0   \n",
       "\n",
       "        issue_month_7  issue_month_8  issue_month_9  \n",
       "0                   0              0              0  \n",
       "1                   0              0              0  \n",
       "2                   0              1              0  \n",
       "3                   0              0              0  \n",
       "4                   0              0              0  \n",
       "...               ...            ...            ...  \n",
       "615137              0              0              0  \n",
       "615138              0              0              0  \n",
       "615139              0              0              0  \n",
       "615140              0              0              0  \n",
       "615141              0              0              0  \n",
       "\n",
       "[615142 rows x 352 columns]"
      ]
     },
     "execution_count": 12,
     "metadata": {},
     "output_type": "execute_result"
    }
   ],
   "source": [
    "final_df_one_hot"
   ]
  },
  {
   "cell_type": "markdown",
   "metadata": {},
   "source": [
    "## id만 발라내기"
   ]
  },
  {
   "cell_type": "code",
   "execution_count": 13,
   "metadata": {
    "ExecuteTime": {
     "end_time": "2020-05-23T08:15:17.454368Z",
     "start_time": "2020-05-23T08:15:16.635584Z"
    }
   },
   "outputs": [],
   "source": [
    "final_df_no_id = final_df_one_hot[final_df_one_hot.columns.difference(['id'])]"
   ]
  },
  {
   "cell_type": "code",
   "execution_count": 14,
   "metadata": {
    "ExecuteTime": {
     "end_time": "2020-05-23T08:15:17.484328Z",
     "start_time": "2020-05-23T08:15:17.457954Z"
    }
   },
   "outputs": [
    {
     "data": {
      "text/html": [
       "<div>\n",
       "<style scoped>\n",
       "    .dataframe tbody tr th:only-of-type {\n",
       "        vertical-align: middle;\n",
       "    }\n",
       "\n",
       "    .dataframe tbody tr th {\n",
       "        vertical-align: top;\n",
       "    }\n",
       "\n",
       "    .dataframe thead th {\n",
       "        text-align: right;\n",
       "    }\n",
       "</style>\n",
       "<table border=\"1\" class=\"dataframe\">\n",
       "  <thead>\n",
       "    <tr style=\"text-align: right;\">\n",
       "      <th></th>\n",
       "      <th>population</th>\n",
       "      <th>like_cnt</th>\n",
       "      <th>tag_score</th>\n",
       "    </tr>\n",
       "  </thead>\n",
       "  <tbody>\n",
       "    <tr>\n",
       "      <td>0</td>\n",
       "      <td>2.0</td>\n",
       "      <td>29.0</td>\n",
       "      <td>24176.0</td>\n",
       "    </tr>\n",
       "    <tr>\n",
       "      <td>1</td>\n",
       "      <td>8.0</td>\n",
       "      <td>1686.0</td>\n",
       "      <td>79205.0</td>\n",
       "    </tr>\n",
       "    <tr>\n",
       "      <td>2</td>\n",
       "      <td>2.0</td>\n",
       "      <td>39.0</td>\n",
       "      <td>3493.0</td>\n",
       "    </tr>\n",
       "    <tr>\n",
       "      <td>3</td>\n",
       "      <td>5.0</td>\n",
       "      <td>391.0</td>\n",
       "      <td>59069.0</td>\n",
       "    </tr>\n",
       "    <tr>\n",
       "      <td>4</td>\n",
       "      <td>1.0</td>\n",
       "      <td>24.0</td>\n",
       "      <td>4982.0</td>\n",
       "    </tr>\n",
       "    <tr>\n",
       "      <td>...</td>\n",
       "      <td>...</td>\n",
       "      <td>...</td>\n",
       "      <td>...</td>\n",
       "    </tr>\n",
       "    <tr>\n",
       "      <td>615137</td>\n",
       "      <td>1.0</td>\n",
       "      <td>2.0</td>\n",
       "      <td>243.0</td>\n",
       "    </tr>\n",
       "    <tr>\n",
       "      <td>615138</td>\n",
       "      <td>4.0</td>\n",
       "      <td>11.0</td>\n",
       "      <td>4323.0</td>\n",
       "    </tr>\n",
       "    <tr>\n",
       "      <td>615139</td>\n",
       "      <td>11.0</td>\n",
       "      <td>1123.0</td>\n",
       "      <td>162809.0</td>\n",
       "    </tr>\n",
       "    <tr>\n",
       "      <td>615140</td>\n",
       "      <td>1.0</td>\n",
       "      <td>4.0</td>\n",
       "      <td>12775.0</td>\n",
       "    </tr>\n",
       "    <tr>\n",
       "      <td>615141</td>\n",
       "      <td>1.0</td>\n",
       "      <td>4.0</td>\n",
       "      <td>8.0</td>\n",
       "    </tr>\n",
       "  </tbody>\n",
       "</table>\n",
       "<p>615142 rows × 3 columns</p>\n",
       "</div>"
      ],
      "text/plain": [
       "        population  like_cnt  tag_score\n",
       "0              2.0      29.0    24176.0\n",
       "1              8.0    1686.0    79205.0\n",
       "2              2.0      39.0     3493.0\n",
       "3              5.0     391.0    59069.0\n",
       "4              1.0      24.0     4982.0\n",
       "...            ...       ...        ...\n",
       "615137         1.0       2.0      243.0\n",
       "615138         4.0      11.0     4323.0\n",
       "615139        11.0    1123.0   162809.0\n",
       "615140         1.0       4.0    12775.0\n",
       "615141         1.0       4.0        8.0\n",
       "\n",
       "[615142 rows x 3 columns]"
      ]
     },
     "execution_count": 14,
     "metadata": {},
     "output_type": "execute_result"
    }
   ],
   "source": [
    "final_df_no_id[['population','like_cnt','tag_score']]"
   ]
  },
  {
   "cell_type": "markdown",
   "metadata": {},
   "source": [
    "## 정규화"
   ]
  },
  {
   "cell_type": "code",
   "execution_count": 15,
   "metadata": {
    "ExecuteTime": {
     "end_time": "2020-05-23T00:13:44.416918Z",
     "start_time": "2020-05-23T00:13:43.886045Z"
    }
   },
   "outputs": [],
   "source": [
    "from sklearn.preprocessing import minmax_scale"
   ]
  },
  {
   "cell_type": "code",
   "execution_count": 16,
   "metadata": {
    "ExecuteTime": {
     "end_time": "2020-05-23T00:13:49.691096Z",
     "start_time": "2020-05-23T00:13:44.418685Z"
    }
   },
   "outputs": [],
   "source": [
    "MinMax_scaled = minmax_scale(final_df_no_id, axis=0, copy=True, )"
   ]
  },
  {
   "cell_type": "code",
   "execution_count": 17,
   "metadata": {
    "ExecuteTime": {
     "end_time": "2020-05-23T00:13:49.697825Z",
     "start_time": "2020-05-23T00:13:49.693440Z"
    }
   },
   "outputs": [],
   "source": [
    "df_for_KNN = pd.DataFrame(MinMax_scaled, columns = final_df_no_id.columns)"
   ]
  },
  {
   "cell_type": "code",
   "execution_count": 18,
   "metadata": {
    "ExecuteTime": {
     "end_time": "2020-05-23T00:13:49.715637Z",
     "start_time": "2020-05-23T00:13:49.700641Z"
    }
   },
   "outputs": [],
   "source": [
    "df_for_KNN['id'] = final_df_one_hot['id']"
   ]
  },
  {
   "cell_type": "code",
   "execution_count": 19,
   "metadata": {
    "ExecuteTime": {
     "end_time": "2020-05-23T00:13:49.906210Z",
     "start_time": "2020-05-23T00:13:49.718204Z"
    }
   },
   "outputs": [
    {
     "data": {
      "text/html": [
       "<div>\n",
       "<style scoped>\n",
       "    .dataframe tbody tr th:only-of-type {\n",
       "        vertical-align: middle;\n",
       "    }\n",
       "\n",
       "    .dataframe tbody tr th {\n",
       "        vertical-align: top;\n",
       "    }\n",
       "\n",
       "    .dataframe thead th {\n",
       "        text-align: right;\n",
       "    }\n",
       "</style>\n",
       "<table border=\"1\" class=\"dataframe\">\n",
       "  <thead>\n",
       "    <tr style=\"text-align: right;\">\n",
       "      <th></th>\n",
       "      <th>GN0100</th>\n",
       "      <th>GN0101</th>\n",
       "      <th>GN0102</th>\n",
       "      <th>GN0103</th>\n",
       "      <th>GN0104</th>\n",
       "      <th>GN0105</th>\n",
       "      <th>GN0200</th>\n",
       "      <th>GN0201</th>\n",
       "      <th>GN0202</th>\n",
       "      <th>GN0203</th>\n",
       "      <th>...</th>\n",
       "      <th>issue_year_2016</th>\n",
       "      <th>issue_year_2017</th>\n",
       "      <th>issue_year_2018</th>\n",
       "      <th>issue_year_2019</th>\n",
       "      <th>issue_year_2020</th>\n",
       "      <th>issue_year_2022</th>\n",
       "      <th>like_cnt</th>\n",
       "      <th>population</th>\n",
       "      <th>tag_score</th>\n",
       "      <th>id</th>\n",
       "    </tr>\n",
       "  </thead>\n",
       "  <tbody>\n",
       "    <tr>\n",
       "      <td>0</td>\n",
       "      <td>0.0</td>\n",
       "      <td>0.0</td>\n",
       "      <td>0.0</td>\n",
       "      <td>0.0</td>\n",
       "      <td>0.0</td>\n",
       "      <td>0.0</td>\n",
       "      <td>0.0</td>\n",
       "      <td>0.0</td>\n",
       "      <td>0.0</td>\n",
       "      <td>0.0</td>\n",
       "      <td>...</td>\n",
       "      <td>0.0</td>\n",
       "      <td>0.0</td>\n",
       "      <td>0.0</td>\n",
       "      <td>0.0</td>\n",
       "      <td>0.0</td>\n",
       "      <td>0.0</td>\n",
       "      <td>0.000089</td>\n",
       "      <td>0.00046</td>\n",
       "      <td>0.065164</td>\n",
       "      <td>0</td>\n",
       "    </tr>\n",
       "    <tr>\n",
       "      <td>1</td>\n",
       "      <td>0.0</td>\n",
       "      <td>0.0</td>\n",
       "      <td>0.0</td>\n",
       "      <td>0.0</td>\n",
       "      <td>0.0</td>\n",
       "      <td>0.0</td>\n",
       "      <td>0.0</td>\n",
       "      <td>0.0</td>\n",
       "      <td>0.0</td>\n",
       "      <td>0.0</td>\n",
       "      <td>...</td>\n",
       "      <td>0.0</td>\n",
       "      <td>0.0</td>\n",
       "      <td>0.0</td>\n",
       "      <td>0.0</td>\n",
       "      <td>0.0</td>\n",
       "      <td>0.0</td>\n",
       "      <td>0.005157</td>\n",
       "      <td>0.00322</td>\n",
       "      <td>0.213495</td>\n",
       "      <td>3</td>\n",
       "    </tr>\n",
       "    <tr>\n",
       "      <td>2</td>\n",
       "      <td>0.0</td>\n",
       "      <td>0.0</td>\n",
       "      <td>0.0</td>\n",
       "      <td>0.0</td>\n",
       "      <td>0.0</td>\n",
       "      <td>0.0</td>\n",
       "      <td>0.0</td>\n",
       "      <td>0.0</td>\n",
       "      <td>0.0</td>\n",
       "      <td>0.0</td>\n",
       "      <td>...</td>\n",
       "      <td>0.0</td>\n",
       "      <td>0.0</td>\n",
       "      <td>0.0</td>\n",
       "      <td>0.0</td>\n",
       "      <td>0.0</td>\n",
       "      <td>0.0</td>\n",
       "      <td>0.000119</td>\n",
       "      <td>0.00046</td>\n",
       "      <td>0.009413</td>\n",
       "      <td>4</td>\n",
       "    </tr>\n",
       "    <tr>\n",
       "      <td>3</td>\n",
       "      <td>0.0</td>\n",
       "      <td>0.0</td>\n",
       "      <td>0.0</td>\n",
       "      <td>0.0</td>\n",
       "      <td>0.0</td>\n",
       "      <td>0.0</td>\n",
       "      <td>0.0</td>\n",
       "      <td>0.0</td>\n",
       "      <td>0.0</td>\n",
       "      <td>0.0</td>\n",
       "      <td>...</td>\n",
       "      <td>0.0</td>\n",
       "      <td>0.0</td>\n",
       "      <td>0.0</td>\n",
       "      <td>0.0</td>\n",
       "      <td>0.0</td>\n",
       "      <td>0.0</td>\n",
       "      <td>0.001196</td>\n",
       "      <td>0.00184</td>\n",
       "      <td>0.159218</td>\n",
       "      <td>5</td>\n",
       "    </tr>\n",
       "    <tr>\n",
       "      <td>4</td>\n",
       "      <td>0.0</td>\n",
       "      <td>0.0</td>\n",
       "      <td>0.0</td>\n",
       "      <td>0.0</td>\n",
       "      <td>0.0</td>\n",
       "      <td>0.0</td>\n",
       "      <td>0.0</td>\n",
       "      <td>0.0</td>\n",
       "      <td>0.0</td>\n",
       "      <td>0.0</td>\n",
       "      <td>...</td>\n",
       "      <td>0.0</td>\n",
       "      <td>1.0</td>\n",
       "      <td>0.0</td>\n",
       "      <td>0.0</td>\n",
       "      <td>0.0</td>\n",
       "      <td>0.0</td>\n",
       "      <td>0.000073</td>\n",
       "      <td>0.00000</td>\n",
       "      <td>0.013426</td>\n",
       "      <td>6</td>\n",
       "    </tr>\n",
       "    <tr>\n",
       "      <td>...</td>\n",
       "      <td>...</td>\n",
       "      <td>...</td>\n",
       "      <td>...</td>\n",
       "      <td>...</td>\n",
       "      <td>...</td>\n",
       "      <td>...</td>\n",
       "      <td>...</td>\n",
       "      <td>...</td>\n",
       "      <td>...</td>\n",
       "      <td>...</td>\n",
       "      <td>...</td>\n",
       "      <td>...</td>\n",
       "      <td>...</td>\n",
       "      <td>...</td>\n",
       "      <td>...</td>\n",
       "      <td>...</td>\n",
       "      <td>...</td>\n",
       "      <td>...</td>\n",
       "      <td>...</td>\n",
       "      <td>...</td>\n",
       "      <td>...</td>\n",
       "    </tr>\n",
       "    <tr>\n",
       "      <td>615137</td>\n",
       "      <td>0.0</td>\n",
       "      <td>0.0</td>\n",
       "      <td>0.0</td>\n",
       "      <td>0.0</td>\n",
       "      <td>0.0</td>\n",
       "      <td>0.0</td>\n",
       "      <td>0.0</td>\n",
       "      <td>0.0</td>\n",
       "      <td>0.0</td>\n",
       "      <td>0.0</td>\n",
       "      <td>...</td>\n",
       "      <td>0.0</td>\n",
       "      <td>0.0</td>\n",
       "      <td>0.0</td>\n",
       "      <td>0.0</td>\n",
       "      <td>0.0</td>\n",
       "      <td>0.0</td>\n",
       "      <td>0.000006</td>\n",
       "      <td>0.00000</td>\n",
       "      <td>0.000652</td>\n",
       "      <td>707984</td>\n",
       "    </tr>\n",
       "    <tr>\n",
       "      <td>615138</td>\n",
       "      <td>0.0</td>\n",
       "      <td>0.0</td>\n",
       "      <td>0.0</td>\n",
       "      <td>0.0</td>\n",
       "      <td>0.0</td>\n",
       "      <td>0.0</td>\n",
       "      <td>0.0</td>\n",
       "      <td>0.0</td>\n",
       "      <td>0.0</td>\n",
       "      <td>0.0</td>\n",
       "      <td>...</td>\n",
       "      <td>0.0</td>\n",
       "      <td>0.0</td>\n",
       "      <td>0.0</td>\n",
       "      <td>0.0</td>\n",
       "      <td>0.0</td>\n",
       "      <td>0.0</td>\n",
       "      <td>0.000034</td>\n",
       "      <td>0.00138</td>\n",
       "      <td>0.011650</td>\n",
       "      <td>707985</td>\n",
       "    </tr>\n",
       "    <tr>\n",
       "      <td>615139</td>\n",
       "      <td>1.0</td>\n",
       "      <td>1.0</td>\n",
       "      <td>0.0</td>\n",
       "      <td>0.0</td>\n",
       "      <td>0.0</td>\n",
       "      <td>1.0</td>\n",
       "      <td>0.0</td>\n",
       "      <td>0.0</td>\n",
       "      <td>0.0</td>\n",
       "      <td>0.0</td>\n",
       "      <td>...</td>\n",
       "      <td>1.0</td>\n",
       "      <td>0.0</td>\n",
       "      <td>0.0</td>\n",
       "      <td>0.0</td>\n",
       "      <td>0.0</td>\n",
       "      <td>0.0</td>\n",
       "      <td>0.003435</td>\n",
       "      <td>0.00460</td>\n",
       "      <td>0.438850</td>\n",
       "      <td>707986</td>\n",
       "    </tr>\n",
       "    <tr>\n",
       "      <td>615140</td>\n",
       "      <td>0.0</td>\n",
       "      <td>0.0</td>\n",
       "      <td>0.0</td>\n",
       "      <td>0.0</td>\n",
       "      <td>0.0</td>\n",
       "      <td>0.0</td>\n",
       "      <td>0.0</td>\n",
       "      <td>0.0</td>\n",
       "      <td>0.0</td>\n",
       "      <td>0.0</td>\n",
       "      <td>...</td>\n",
       "      <td>0.0</td>\n",
       "      <td>0.0</td>\n",
       "      <td>0.0</td>\n",
       "      <td>0.0</td>\n",
       "      <td>0.0</td>\n",
       "      <td>0.0</td>\n",
       "      <td>0.000012</td>\n",
       "      <td>0.00000</td>\n",
       "      <td>0.034432</td>\n",
       "      <td>707987</td>\n",
       "    </tr>\n",
       "    <tr>\n",
       "      <td>615141</td>\n",
       "      <td>0.0</td>\n",
       "      <td>0.0</td>\n",
       "      <td>0.0</td>\n",
       "      <td>0.0</td>\n",
       "      <td>0.0</td>\n",
       "      <td>0.0</td>\n",
       "      <td>0.0</td>\n",
       "      <td>0.0</td>\n",
       "      <td>0.0</td>\n",
       "      <td>0.0</td>\n",
       "      <td>...</td>\n",
       "      <td>0.0</td>\n",
       "      <td>0.0</td>\n",
       "      <td>0.0</td>\n",
       "      <td>0.0</td>\n",
       "      <td>0.0</td>\n",
       "      <td>0.0</td>\n",
       "      <td>0.000012</td>\n",
       "      <td>0.00000</td>\n",
       "      <td>0.000019</td>\n",
       "      <td>707988</td>\n",
       "    </tr>\n",
       "  </tbody>\n",
       "</table>\n",
       "<p>615142 rows × 352 columns</p>\n",
       "</div>"
      ],
      "text/plain": [
       "        GN0100  GN0101  GN0102  GN0103  GN0104  GN0105  GN0200  GN0201  \\\n",
       "0          0.0     0.0     0.0     0.0     0.0     0.0     0.0     0.0   \n",
       "1          0.0     0.0     0.0     0.0     0.0     0.0     0.0     0.0   \n",
       "2          0.0     0.0     0.0     0.0     0.0     0.0     0.0     0.0   \n",
       "3          0.0     0.0     0.0     0.0     0.0     0.0     0.0     0.0   \n",
       "4          0.0     0.0     0.0     0.0     0.0     0.0     0.0     0.0   \n",
       "...        ...     ...     ...     ...     ...     ...     ...     ...   \n",
       "615137     0.0     0.0     0.0     0.0     0.0     0.0     0.0     0.0   \n",
       "615138     0.0     0.0     0.0     0.0     0.0     0.0     0.0     0.0   \n",
       "615139     1.0     1.0     0.0     0.0     0.0     1.0     0.0     0.0   \n",
       "615140     0.0     0.0     0.0     0.0     0.0     0.0     0.0     0.0   \n",
       "615141     0.0     0.0     0.0     0.0     0.0     0.0     0.0     0.0   \n",
       "\n",
       "        GN0202  GN0203  ...  issue_year_2016  issue_year_2017  \\\n",
       "0          0.0     0.0  ...              0.0              0.0   \n",
       "1          0.0     0.0  ...              0.0              0.0   \n",
       "2          0.0     0.0  ...              0.0              0.0   \n",
       "3          0.0     0.0  ...              0.0              0.0   \n",
       "4          0.0     0.0  ...              0.0              1.0   \n",
       "...        ...     ...  ...              ...              ...   \n",
       "615137     0.0     0.0  ...              0.0              0.0   \n",
       "615138     0.0     0.0  ...              0.0              0.0   \n",
       "615139     0.0     0.0  ...              1.0              0.0   \n",
       "615140     0.0     0.0  ...              0.0              0.0   \n",
       "615141     0.0     0.0  ...              0.0              0.0   \n",
       "\n",
       "        issue_year_2018  issue_year_2019  issue_year_2020  issue_year_2022  \\\n",
       "0                   0.0              0.0              0.0              0.0   \n",
       "1                   0.0              0.0              0.0              0.0   \n",
       "2                   0.0              0.0              0.0              0.0   \n",
       "3                   0.0              0.0              0.0              0.0   \n",
       "4                   0.0              0.0              0.0              0.0   \n",
       "...                 ...              ...              ...              ...   \n",
       "615137              0.0              0.0              0.0              0.0   \n",
       "615138              0.0              0.0              0.0              0.0   \n",
       "615139              0.0              0.0              0.0              0.0   \n",
       "615140              0.0              0.0              0.0              0.0   \n",
       "615141              0.0              0.0              0.0              0.0   \n",
       "\n",
       "        like_cnt  population  tag_score      id  \n",
       "0       0.000089     0.00046   0.065164       0  \n",
       "1       0.005157     0.00322   0.213495       3  \n",
       "2       0.000119     0.00046   0.009413       4  \n",
       "3       0.001196     0.00184   0.159218       5  \n",
       "4       0.000073     0.00000   0.013426       6  \n",
       "...          ...         ...        ...     ...  \n",
       "615137  0.000006     0.00000   0.000652  707984  \n",
       "615138  0.000034     0.00138   0.011650  707985  \n",
       "615139  0.003435     0.00460   0.438850  707986  \n",
       "615140  0.000012     0.00000   0.034432  707987  \n",
       "615141  0.000012     0.00000   0.000019  707988  \n",
       "\n",
       "[615142 rows x 352 columns]"
      ]
     },
     "execution_count": 19,
     "metadata": {},
     "output_type": "execute_result"
    }
   ],
   "source": [
    "df_for_KNN"
   ]
  },
  {
   "cell_type": "code",
   "execution_count": 20,
   "metadata": {
    "ExecuteTime": {
     "end_time": "2020-05-23T00:13:49.926110Z",
     "start_time": "2020-05-23T00:13:49.908596Z"
    },
    "scrolled": false
   },
   "outputs": [
    {
     "data": {
      "text/html": [
       "<div>\n",
       "<style scoped>\n",
       "    .dataframe tbody tr th:only-of-type {\n",
       "        vertical-align: middle;\n",
       "    }\n",
       "\n",
       "    .dataframe tbody tr th {\n",
       "        vertical-align: top;\n",
       "    }\n",
       "\n",
       "    .dataframe thead th {\n",
       "        text-align: right;\n",
       "    }\n",
       "</style>\n",
       "<table border=\"1\" class=\"dataframe\">\n",
       "  <thead>\n",
       "    <tr style=\"text-align: right;\">\n",
       "      <th></th>\n",
       "      <th>id</th>\n",
       "      <th>tags</th>\n",
       "    </tr>\n",
       "  </thead>\n",
       "  <tbody>\n",
       "    <tr>\n",
       "      <td>0</td>\n",
       "      <td>0</td>\n",
       "      <td>[비오는날, 드라이브, 비오는날, 추억, 회상]</td>\n",
       "    </tr>\n",
       "    <tr>\n",
       "      <td>1</td>\n",
       "      <td>3</td>\n",
       "      <td>[1, 감성, 듣기좋은, 드라이브, Pop, 여행, 기분전환, 팝, 신나는, 클럽,...</td>\n",
       "    </tr>\n",
       "    <tr>\n",
       "      <td>2</td>\n",
       "      <td>4</td>\n",
       "      <td>[뉴에이지, 뉴에이지]</td>\n",
       "    </tr>\n",
       "    <tr>\n",
       "      <td>3</td>\n",
       "      <td>5</td>\n",
       "      <td>[비오는날, 재즈, 락, 발라드, 휴식, 리메이크, 재즈, 힐링송, 힐링, 기분전환...</td>\n",
       "    </tr>\n",
       "    <tr>\n",
       "      <td>4</td>\n",
       "      <td>6</td>\n",
       "      <td>[클래식, 산책, 조깅]</td>\n",
       "    </tr>\n",
       "    <tr>\n",
       "      <td>...</td>\n",
       "      <td>...</td>\n",
       "      <td>...</td>\n",
       "    </tr>\n",
       "    <tr>\n",
       "      <td>615137</td>\n",
       "      <td>707984</td>\n",
       "      <td>[월드뮤직]</td>\n",
       "    </tr>\n",
       "    <tr>\n",
       "      <td>615138</td>\n",
       "      <td>707985</td>\n",
       "      <td>[Pop, 해외차트, 시대별차트, 신디로퍼, Pop, 1980, 라이벌, 록]</td>\n",
       "    </tr>\n",
       "    <tr>\n",
       "      <td>615139</td>\n",
       "      <td>707986</td>\n",
       "      <td>[힙합, 랩, 발라드, 감성, 리메이크곡, 카페, 잔잔한, 추억, 위로, 힐링, 사...</td>\n",
       "    </tr>\n",
       "    <tr>\n",
       "      <td>615140</td>\n",
       "      <td>707987</td>\n",
       "      <td>[집중, 노동요, 새벽, 오후, 자장가, 공부]</td>\n",
       "    </tr>\n",
       "    <tr>\n",
       "      <td>615141</td>\n",
       "      <td>707988</td>\n",
       "      <td>[데뷔24년, 김경호, 샤우팅의_지존]</td>\n",
       "    </tr>\n",
       "  </tbody>\n",
       "</table>\n",
       "<p>615142 rows × 2 columns</p>\n",
       "</div>"
      ],
      "text/plain": [
       "            id                                               tags\n",
       "0            0                         [비오는날, 드라이브, 비오는날, 추억, 회상]\n",
       "1            3  [1, 감성, 듣기좋은, 드라이브, Pop, 여행, 기분전환, 팝, 신나는, 클럽,...\n",
       "2            4                                       [뉴에이지, 뉴에이지]\n",
       "3            5  [비오는날, 재즈, 락, 발라드, 휴식, 리메이크, 재즈, 힐링송, 힐링, 기분전환...\n",
       "4            6                                      [클래식, 산책, 조깅]\n",
       "...        ...                                                ...\n",
       "615137  707984                                             [월드뮤직]\n",
       "615138  707985        [Pop, 해외차트, 시대별차트, 신디로퍼, Pop, 1980, 라이벌, 록]\n",
       "615139  707986  [힙합, 랩, 발라드, 감성, 리메이크곡, 카페, 잔잔한, 추억, 위로, 힐링, 사...\n",
       "615140  707987                         [집중, 노동요, 새벽, 오후, 자장가, 공부]\n",
       "615141  707988                              [데뷔24년, 김경호, 샤우팅의_지존]\n",
       "\n",
       "[615142 rows x 2 columns]"
      ]
     },
     "execution_count": 20,
     "metadata": {},
     "output_type": "execute_result"
    }
   ],
   "source": [
    "song_tag_df"
   ]
  },
  {
   "cell_type": "markdown",
   "metadata": {},
   "source": [
    "## 분석에 필요한 데이터 남기고"
   ]
  },
  {
   "cell_type": "code",
   "execution_count": 15,
   "metadata": {
    "ExecuteTime": {
     "end_time": "2020-05-23T08:15:17.500915Z",
     "start_time": "2020-05-23T08:15:17.494899Z"
    }
   },
   "outputs": [],
   "source": [
    "final_df_no_id['id'] = final_df_one_hot['id']"
   ]
  },
  {
   "cell_type": "code",
   "execution_count": 16,
   "metadata": {
    "ExecuteTime": {
     "end_time": "2020-05-23T08:15:18.864497Z",
     "start_time": "2020-05-23T08:15:17.504752Z"
    }
   },
   "outputs": [],
   "source": [
    "df = final_df_no_id.merge(song_tag_df,on='id')"
   ]
  },
  {
   "cell_type": "code",
   "execution_count": 17,
   "metadata": {
    "ExecuteTime": {
     "end_time": "2020-05-23T08:15:18.972968Z",
     "start_time": "2020-05-23T08:15:18.867033Z"
    }
   },
   "outputs": [],
   "source": [
    "# 메모리 위해 변수 삭제\n",
    "del raw_df"
   ]
  },
  {
   "cell_type": "markdown",
   "metadata": {},
   "source": [
    "## 10000개만 뽑아서 찾아보기"
   ]
  },
  {
   "cell_type": "code",
   "execution_count": 20,
   "metadata": {
    "ExecuteTime": {
     "end_time": "2020-05-23T06:36:44.481252Z",
     "start_time": "2020-05-23T06:36:42.650659Z"
    }
   },
   "outputs": [],
   "source": [
    "df_10000 = df.sample(10000)"
   ]
  },
  {
   "cell_type": "code",
   "execution_count": 21,
   "metadata": {
    "ExecuteTime": {
     "end_time": "2020-05-23T06:36:44.507138Z",
     "start_time": "2020-05-23T06:36:44.483330Z"
    }
   },
   "outputs": [],
   "source": [
    "df_10000 = df_10000.set_index(['id'])"
   ]
  },
  {
   "cell_type": "code",
   "execution_count": 22,
   "metadata": {
    "ExecuteTime": {
     "end_time": "2020-05-23T06:36:45.568247Z",
     "start_time": "2020-05-23T06:36:45.563191Z"
    }
   },
   "outputs": [],
   "source": [
    "y = list(df_10000.tags)"
   ]
  },
  {
   "cell_type": "markdown",
   "metadata": {},
   "source": [
    "## song- tag one-hot vector 만들기"
   ]
  },
  {
   "cell_type": "code",
   "execution_count": 24,
   "metadata": {
    "ExecuteTime": {
     "end_time": "2020-05-23T06:37:12.278882Z",
     "start_time": "2020-05-23T06:37:11.421590Z"
    }
   },
   "outputs": [],
   "source": [
    "from sklearn.preprocessing import MultiLabelBinarizer\n",
    "Y_mlb = MultiLabelBinarizer(sparse_output=True)\n",
    "Y_true = Y_mlb.fit_transform(y)"
   ]
  },
  {
   "cell_type": "code",
   "execution_count": 25,
   "metadata": {
    "ExecuteTime": {
     "end_time": "2020-05-23T06:37:12.285152Z",
     "start_time": "2020-05-23T06:37:12.281579Z"
    }
   },
   "outputs": [
    {
     "data": {
      "text/plain": [
       "<10000x17128 sparse matrix of type '<class 'numpy.int64'>'\n",
       "\twith 178231 stored elements in Compressed Sparse Row format>"
      ]
     },
     "execution_count": 25,
     "metadata": {},
     "output_type": "execute_result"
    }
   ],
   "source": [
    "Y_true"
   ]
  },
  {
   "cell_type": "code",
   "execution_count": 27,
   "metadata": {
    "ExecuteTime": {
     "end_time": "2020-05-23T06:37:20.377305Z",
     "start_time": "2020-05-23T06:37:20.373312Z"
    }
   },
   "outputs": [
    {
     "data": {
      "text/plain": [
       "array(['00', '00s', '00년', ..., '힛뎀포크', '힛뎀폭', '힛뎀폭스'], dtype=object)"
      ]
     },
     "execution_count": 27,
     "metadata": {},
     "output_type": "execute_result"
    }
   ],
   "source": [
    "kwd_classes = Y_mlb.classes_ # binarizer를 저장해두고, 이후에 classes_ 를 읽어서, 각 칼럼이 무슨 값인지를 확인해야 함.\n",
    "kwd_classes"
   ]
  },
  {
   "cell_type": "code",
   "execution_count": 28,
   "metadata": {
    "ExecuteTime": {
     "end_time": "2020-05-23T06:37:26.741606Z",
     "start_time": "2020-05-23T06:37:26.724728Z"
    }
   },
   "outputs": [],
   "source": [
    "X = df_10000[df_10000.columns.difference(['tags'])]"
   ]
  },
  {
   "cell_type": "code",
   "execution_count": 31,
   "metadata": {
    "ExecuteTime": {
     "end_time": "2020-05-23T06:38:36.636058Z",
     "start_time": "2020-05-23T06:38:36.615399Z"
    }
   },
   "outputs": [
    {
     "data": {
      "text/html": [
       "<div>\n",
       "<style scoped>\n",
       "    .dataframe tbody tr th:only-of-type {\n",
       "        vertical-align: middle;\n",
       "    }\n",
       "\n",
       "    .dataframe tbody tr th {\n",
       "        vertical-align: top;\n",
       "    }\n",
       "\n",
       "    .dataframe thead th {\n",
       "        text-align: right;\n",
       "    }\n",
       "</style>\n",
       "<table border=\"1\" class=\"dataframe\">\n",
       "  <thead>\n",
       "    <tr style=\"text-align: right;\">\n",
       "      <th></th>\n",
       "      <th>GN0100</th>\n",
       "      <th>GN0101</th>\n",
       "      <th>GN0102</th>\n",
       "      <th>GN0103</th>\n",
       "      <th>GN0104</th>\n",
       "      <th>GN0105</th>\n",
       "      <th>GN0200</th>\n",
       "      <th>GN0201</th>\n",
       "      <th>GN0202</th>\n",
       "      <th>GN0203</th>\n",
       "      <th>...</th>\n",
       "      <th>issue_year_2015</th>\n",
       "      <th>issue_year_2016</th>\n",
       "      <th>issue_year_2017</th>\n",
       "      <th>issue_year_2018</th>\n",
       "      <th>issue_year_2019</th>\n",
       "      <th>issue_year_2020</th>\n",
       "      <th>issue_year_2022</th>\n",
       "      <th>like_cnt</th>\n",
       "      <th>population</th>\n",
       "      <th>tag_score</th>\n",
       "    </tr>\n",
       "    <tr>\n",
       "      <th>id</th>\n",
       "      <th></th>\n",
       "      <th></th>\n",
       "      <th></th>\n",
       "      <th></th>\n",
       "      <th></th>\n",
       "      <th></th>\n",
       "      <th></th>\n",
       "      <th></th>\n",
       "      <th></th>\n",
       "      <th></th>\n",
       "      <th></th>\n",
       "      <th></th>\n",
       "      <th></th>\n",
       "      <th></th>\n",
       "      <th></th>\n",
       "      <th></th>\n",
       "      <th></th>\n",
       "      <th></th>\n",
       "      <th></th>\n",
       "      <th></th>\n",
       "      <th></th>\n",
       "    </tr>\n",
       "  </thead>\n",
       "  <tbody>\n",
       "    <tr>\n",
       "      <td>583661</td>\n",
       "      <td>0</td>\n",
       "      <td>0</td>\n",
       "      <td>0</td>\n",
       "      <td>0</td>\n",
       "      <td>0</td>\n",
       "      <td>0</td>\n",
       "      <td>0</td>\n",
       "      <td>0</td>\n",
       "      <td>0</td>\n",
       "      <td>0</td>\n",
       "      <td>...</td>\n",
       "      <td>0</td>\n",
       "      <td>0</td>\n",
       "      <td>0</td>\n",
       "      <td>0</td>\n",
       "      <td>0</td>\n",
       "      <td>0</td>\n",
       "      <td>0</td>\n",
       "      <td>32.0</td>\n",
       "      <td>3.0</td>\n",
       "      <td>17488.0</td>\n",
       "    </tr>\n",
       "    <tr>\n",
       "      <td>333737</td>\n",
       "      <td>0</td>\n",
       "      <td>0</td>\n",
       "      <td>0</td>\n",
       "      <td>0</td>\n",
       "      <td>0</td>\n",
       "      <td>0</td>\n",
       "      <td>0</td>\n",
       "      <td>0</td>\n",
       "      <td>0</td>\n",
       "      <td>0</td>\n",
       "      <td>...</td>\n",
       "      <td>0</td>\n",
       "      <td>0</td>\n",
       "      <td>0</td>\n",
       "      <td>1</td>\n",
       "      <td>0</td>\n",
       "      <td>0</td>\n",
       "      <td>0</td>\n",
       "      <td>314.0</td>\n",
       "      <td>1.0</td>\n",
       "      <td>22753.0</td>\n",
       "    </tr>\n",
       "    <tr>\n",
       "      <td>612847</td>\n",
       "      <td>0</td>\n",
       "      <td>0</td>\n",
       "      <td>0</td>\n",
       "      <td>0</td>\n",
       "      <td>0</td>\n",
       "      <td>0</td>\n",
       "      <td>0</td>\n",
       "      <td>0</td>\n",
       "      <td>0</td>\n",
       "      <td>0</td>\n",
       "      <td>...</td>\n",
       "      <td>0</td>\n",
       "      <td>0</td>\n",
       "      <td>0</td>\n",
       "      <td>0</td>\n",
       "      <td>1</td>\n",
       "      <td>0</td>\n",
       "      <td>0</td>\n",
       "      <td>4.0</td>\n",
       "      <td>1.0</td>\n",
       "      <td>2410.0</td>\n",
       "    </tr>\n",
       "    <tr>\n",
       "      <td>368031</td>\n",
       "      <td>1</td>\n",
       "      <td>1</td>\n",
       "      <td>0</td>\n",
       "      <td>0</td>\n",
       "      <td>0</td>\n",
       "      <td>0</td>\n",
       "      <td>0</td>\n",
       "      <td>0</td>\n",
       "      <td>0</td>\n",
       "      <td>0</td>\n",
       "      <td>...</td>\n",
       "      <td>0</td>\n",
       "      <td>0</td>\n",
       "      <td>0</td>\n",
       "      <td>0</td>\n",
       "      <td>0</td>\n",
       "      <td>0</td>\n",
       "      <td>0</td>\n",
       "      <td>1327.0</td>\n",
       "      <td>7.0</td>\n",
       "      <td>73159.0</td>\n",
       "    </tr>\n",
       "    <tr>\n",
       "      <td>620129</td>\n",
       "      <td>0</td>\n",
       "      <td>0</td>\n",
       "      <td>0</td>\n",
       "      <td>0</td>\n",
       "      <td>0</td>\n",
       "      <td>0</td>\n",
       "      <td>0</td>\n",
       "      <td>0</td>\n",
       "      <td>0</td>\n",
       "      <td>0</td>\n",
       "      <td>...</td>\n",
       "      <td>0</td>\n",
       "      <td>0</td>\n",
       "      <td>0</td>\n",
       "      <td>0</td>\n",
       "      <td>0</td>\n",
       "      <td>0</td>\n",
       "      <td>0</td>\n",
       "      <td>39.0</td>\n",
       "      <td>2.0</td>\n",
       "      <td>2234.0</td>\n",
       "    </tr>\n",
       "    <tr>\n",
       "      <td>...</td>\n",
       "      <td>...</td>\n",
       "      <td>...</td>\n",
       "      <td>...</td>\n",
       "      <td>...</td>\n",
       "      <td>...</td>\n",
       "      <td>...</td>\n",
       "      <td>...</td>\n",
       "      <td>...</td>\n",
       "      <td>...</td>\n",
       "      <td>...</td>\n",
       "      <td>...</td>\n",
       "      <td>...</td>\n",
       "      <td>...</td>\n",
       "      <td>...</td>\n",
       "      <td>...</td>\n",
       "      <td>...</td>\n",
       "      <td>...</td>\n",
       "      <td>...</td>\n",
       "      <td>...</td>\n",
       "      <td>...</td>\n",
       "      <td>...</td>\n",
       "    </tr>\n",
       "    <tr>\n",
       "      <td>658322</td>\n",
       "      <td>0</td>\n",
       "      <td>0</td>\n",
       "      <td>0</td>\n",
       "      <td>0</td>\n",
       "      <td>0</td>\n",
       "      <td>0</td>\n",
       "      <td>0</td>\n",
       "      <td>0</td>\n",
       "      <td>0</td>\n",
       "      <td>0</td>\n",
       "      <td>...</td>\n",
       "      <td>0</td>\n",
       "      <td>0</td>\n",
       "      <td>0</td>\n",
       "      <td>0</td>\n",
       "      <td>0</td>\n",
       "      <td>0</td>\n",
       "      <td>0</td>\n",
       "      <td>629.0</td>\n",
       "      <td>3.0</td>\n",
       "      <td>64098.0</td>\n",
       "    </tr>\n",
       "    <tr>\n",
       "      <td>402731</td>\n",
       "      <td>0</td>\n",
       "      <td>0</td>\n",
       "      <td>0</td>\n",
       "      <td>0</td>\n",
       "      <td>0</td>\n",
       "      <td>0</td>\n",
       "      <td>0</td>\n",
       "      <td>0</td>\n",
       "      <td>0</td>\n",
       "      <td>0</td>\n",
       "      <td>...</td>\n",
       "      <td>1</td>\n",
       "      <td>0</td>\n",
       "      <td>0</td>\n",
       "      <td>0</td>\n",
       "      <td>0</td>\n",
       "      <td>0</td>\n",
       "      <td>0</td>\n",
       "      <td>34.0</td>\n",
       "      <td>2.0</td>\n",
       "      <td>27584.0</td>\n",
       "    </tr>\n",
       "    <tr>\n",
       "      <td>169825</td>\n",
       "      <td>0</td>\n",
       "      <td>0</td>\n",
       "      <td>0</td>\n",
       "      <td>0</td>\n",
       "      <td>0</td>\n",
       "      <td>0</td>\n",
       "      <td>0</td>\n",
       "      <td>0</td>\n",
       "      <td>0</td>\n",
       "      <td>0</td>\n",
       "      <td>...</td>\n",
       "      <td>0</td>\n",
       "      <td>0</td>\n",
       "      <td>0</td>\n",
       "      <td>0</td>\n",
       "      <td>0</td>\n",
       "      <td>0</td>\n",
       "      <td>0</td>\n",
       "      <td>5.0</td>\n",
       "      <td>1.0</td>\n",
       "      <td>6425.0</td>\n",
       "    </tr>\n",
       "    <tr>\n",
       "      <td>46228</td>\n",
       "      <td>0</td>\n",
       "      <td>0</td>\n",
       "      <td>0</td>\n",
       "      <td>0</td>\n",
       "      <td>0</td>\n",
       "      <td>0</td>\n",
       "      <td>0</td>\n",
       "      <td>0</td>\n",
       "      <td>0</td>\n",
       "      <td>0</td>\n",
       "      <td>...</td>\n",
       "      <td>0</td>\n",
       "      <td>1</td>\n",
       "      <td>0</td>\n",
       "      <td>0</td>\n",
       "      <td>0</td>\n",
       "      <td>0</td>\n",
       "      <td>0</td>\n",
       "      <td>39.0</td>\n",
       "      <td>2.0</td>\n",
       "      <td>30824.0</td>\n",
       "    </tr>\n",
       "    <tr>\n",
       "      <td>93648</td>\n",
       "      <td>0</td>\n",
       "      <td>0</td>\n",
       "      <td>0</td>\n",
       "      <td>0</td>\n",
       "      <td>0</td>\n",
       "      <td>0</td>\n",
       "      <td>0</td>\n",
       "      <td>0</td>\n",
       "      <td>0</td>\n",
       "      <td>0</td>\n",
       "      <td>...</td>\n",
       "      <td>0</td>\n",
       "      <td>0</td>\n",
       "      <td>0</td>\n",
       "      <td>0</td>\n",
       "      <td>0</td>\n",
       "      <td>0</td>\n",
       "      <td>0</td>\n",
       "      <td>534.0</td>\n",
       "      <td>1.0</td>\n",
       "      <td>3493.0</td>\n",
       "    </tr>\n",
       "  </tbody>\n",
       "</table>\n",
       "<p>10000 rows × 351 columns</p>\n",
       "</div>"
      ],
      "text/plain": [
       "        GN0100  GN0101  GN0102  GN0103  GN0104  GN0105  GN0200  GN0201  \\\n",
       "id                                                                       \n",
       "583661       0       0       0       0       0       0       0       0   \n",
       "333737       0       0       0       0       0       0       0       0   \n",
       "612847       0       0       0       0       0       0       0       0   \n",
       "368031       1       1       0       0       0       0       0       0   \n",
       "620129       0       0       0       0       0       0       0       0   \n",
       "...        ...     ...     ...     ...     ...     ...     ...     ...   \n",
       "658322       0       0       0       0       0       0       0       0   \n",
       "402731       0       0       0       0       0       0       0       0   \n",
       "169825       0       0       0       0       0       0       0       0   \n",
       "46228        0       0       0       0       0       0       0       0   \n",
       "93648        0       0       0       0       0       0       0       0   \n",
       "\n",
       "        GN0202  GN0203  ...  issue_year_2015  issue_year_2016  \\\n",
       "id                      ...                                     \n",
       "583661       0       0  ...                0                0   \n",
       "333737       0       0  ...                0                0   \n",
       "612847       0       0  ...                0                0   \n",
       "368031       0       0  ...                0                0   \n",
       "620129       0       0  ...                0                0   \n",
       "...        ...     ...  ...              ...              ...   \n",
       "658322       0       0  ...                0                0   \n",
       "402731       0       0  ...                1                0   \n",
       "169825       0       0  ...                0                0   \n",
       "46228        0       0  ...                0                1   \n",
       "93648        0       0  ...                0                0   \n",
       "\n",
       "        issue_year_2017  issue_year_2018  issue_year_2019  issue_year_2020  \\\n",
       "id                                                                           \n",
       "583661                0                0                0                0   \n",
       "333737                0                1                0                0   \n",
       "612847                0                0                1                0   \n",
       "368031                0                0                0                0   \n",
       "620129                0                0                0                0   \n",
       "...                 ...              ...              ...              ...   \n",
       "658322                0                0                0                0   \n",
       "402731                0                0                0                0   \n",
       "169825                0                0                0                0   \n",
       "46228                 0                0                0                0   \n",
       "93648                 0                0                0                0   \n",
       "\n",
       "        issue_year_2022  like_cnt  population  tag_score  \n",
       "id                                                        \n",
       "583661                0      32.0         3.0    17488.0  \n",
       "333737                0     314.0         1.0    22753.0  \n",
       "612847                0       4.0         1.0     2410.0  \n",
       "368031                0    1327.0         7.0    73159.0  \n",
       "620129                0      39.0         2.0     2234.0  \n",
       "...                 ...       ...         ...        ...  \n",
       "658322                0     629.0         3.0    64098.0  \n",
       "402731                0      34.0         2.0    27584.0  \n",
       "169825                0       5.0         1.0     6425.0  \n",
       "46228                 0      39.0         2.0    30824.0  \n",
       "93648                 0     534.0         1.0     3493.0  \n",
       "\n",
       "[10000 rows x 351 columns]"
      ]
     },
     "execution_count": 31,
     "metadata": {},
     "output_type": "execute_result"
    }
   ],
   "source": [
    "X"
   ]
  },
  {
   "cell_type": "code",
   "execution_count": 32,
   "metadata": {
    "ExecuteTime": {
     "end_time": "2020-05-23T06:38:45.456777Z",
     "start_time": "2020-05-23T06:38:45.367619Z"
    }
   },
   "outputs": [
    {
     "name": "stdout",
     "output_type": "stream",
     "text": [
      "(7500, 351)\n",
      "(7500, 17128)\n",
      "(2500, 351)\n",
      "(2500, 17128)\n"
     ]
    }
   ],
   "source": [
    "from sklearn.model_selection import train_test_split\n",
    "X_train, X_test, y_train, y_test= train_test_split(X.values, Y_true)\n",
    "print(X_train.shape)\n",
    "print(y_train.shape)\n",
    "print(X_test.shape)\n",
    "print(y_test.shape)"
   ]
  },
  {
   "cell_type": "markdown",
   "metadata": {},
   "source": [
    "## MLPClassifier를 튜닝해야 합니다\n",
    "- Multi-Output Classification가 저희가 만들어 내야할 모델입니다\n",
    "- tensorflow에서 구현하는 방향으로 가면 디테일하게 튜닝해볼수 있을것 같습니다.\n",
    "- 예를들어 지금 이모델은 0,1만 뱉어내는 모델이기 때문에, 최종적으로 sigmoid 함수로 0~1사이의 값을 뱉어내개 해야 합니다.\n",
    "- 지금 MLPClassifier에서는 그방법을 모르겠고, Tensorflow에서 그 기능을 구현하는 방향으로 진행해야 합니다."
   ]
  },
  {
   "cell_type": "code",
   "execution_count": 33,
   "metadata": {
    "ExecuteTime": {
     "end_time": "2020-05-23T00:14:04.028151Z",
     "start_time": "2020-05-23T00:14:04.025727Z"
    }
   },
   "outputs": [],
   "source": [
    "## 모델링"
   ]
  },
  {
   "cell_type": "code",
   "execution_count": 36,
   "metadata": {
    "ExecuteTime": {
     "end_time": "2020-05-23T00:28:56.877274Z",
     "start_time": "2020-05-23T00:16:48.414385Z"
    }
   },
   "outputs": [],
   "source": [
    "from sklearn.neural_network import MLPClassifier\n",
    "mlp_multilabel = MLPClassifier(\n",
    "    hidden_layer_sizes=(300,100), \n",
    "    max_iter=10000, \n",
    "    activation=' ' ,\n",
    "    random_state=42).fit(X_train, y_train)"
   ]
  },
  {
   "cell_type": "code",
   "execution_count": 37,
   "metadata": {
    "ExecuteTime": {
     "end_time": "2020-05-23T00:28:58.718477Z",
     "start_time": "2020-05-23T00:28:58.662388Z"
    }
   },
   "outputs": [
    {
     "data": {
      "text/plain": [
       "0.424"
      ]
     },
     "execution_count": 37,
     "metadata": {},
     "output_type": "execute_result"
    }
   ],
   "source": [
    "Y_pred = mlp_multilabel.predict(X_test)\n",
    "Y_pred = Y_pred.toarray()\n",
    "y_test = y_test.toarray()\n",
    "\n",
    "# \n",
    "np.sum(np.sum(y_test.astype(int) & Y_pred, axis=1) > 0) / y_test.shape[0]"
   ]
  },
  {
   "cell_type": "code",
   "execution_count": 40,
   "metadata": {
    "ExecuteTime": {
     "end_time": "2020-05-23T00:29:17.568883Z",
     "start_time": "2020-05-23T00:29:17.542850Z"
    }
   },
   "outputs": [
    {
     "data": {
      "text/html": [
       "<div>\n",
       "<style scoped>\n",
       "    .dataframe tbody tr th:only-of-type {\n",
       "        vertical-align: middle;\n",
       "    }\n",
       "\n",
       "    .dataframe tbody tr th {\n",
       "        vertical-align: top;\n",
       "    }\n",
       "\n",
       "    .dataframe thead th {\n",
       "        text-align: right;\n",
       "    }\n",
       "</style>\n",
       "<table border=\"1\" class=\"dataframe\">\n",
       "  <thead>\n",
       "    <tr style=\"text-align: right;\">\n",
       "      <th></th>\n",
       "      <th>GN0100</th>\n",
       "      <th>GN0101</th>\n",
       "      <th>GN0102</th>\n",
       "      <th>GN0103</th>\n",
       "      <th>GN0104</th>\n",
       "      <th>GN0105</th>\n",
       "      <th>GN0200</th>\n",
       "      <th>GN0201</th>\n",
       "      <th>GN0202</th>\n",
       "      <th>GN0203</th>\n",
       "      <th>...</th>\n",
       "      <th>issue_year_2015</th>\n",
       "      <th>issue_year_2016</th>\n",
       "      <th>issue_year_2017</th>\n",
       "      <th>issue_year_2018</th>\n",
       "      <th>issue_year_2019</th>\n",
       "      <th>issue_year_2020</th>\n",
       "      <th>issue_year_2022</th>\n",
       "      <th>like_cnt</th>\n",
       "      <th>population</th>\n",
       "      <th>tag_score</th>\n",
       "    </tr>\n",
       "    <tr>\n",
       "      <th>id</th>\n",
       "      <th></th>\n",
       "      <th></th>\n",
       "      <th></th>\n",
       "      <th></th>\n",
       "      <th></th>\n",
       "      <th></th>\n",
       "      <th></th>\n",
       "      <th></th>\n",
       "      <th></th>\n",
       "      <th></th>\n",
       "      <th></th>\n",
       "      <th></th>\n",
       "      <th></th>\n",
       "      <th></th>\n",
       "      <th></th>\n",
       "      <th></th>\n",
       "      <th></th>\n",
       "      <th></th>\n",
       "      <th></th>\n",
       "      <th></th>\n",
       "      <th></th>\n",
       "    </tr>\n",
       "  </thead>\n",
       "  <tbody>\n",
       "    <tr>\n",
       "      <td>27530</td>\n",
       "      <td>1.0</td>\n",
       "      <td>1.0</td>\n",
       "      <td>0.0</td>\n",
       "      <td>0.0</td>\n",
       "      <td>0.0</td>\n",
       "      <td>0.0</td>\n",
       "      <td>0.0</td>\n",
       "      <td>0.0</td>\n",
       "      <td>0.0</td>\n",
       "      <td>0.0</td>\n",
       "      <td>...</td>\n",
       "      <td>0.0</td>\n",
       "      <td>1.0</td>\n",
       "      <td>0.0</td>\n",
       "      <td>0.0</td>\n",
       "      <td>0.0</td>\n",
       "      <td>0.0</td>\n",
       "      <td>0.0</td>\n",
       "      <td>0.000043</td>\n",
       "      <td>0.000000</td>\n",
       "      <td>0.031117</td>\n",
       "    </tr>\n",
       "    <tr>\n",
       "      <td>381934</td>\n",
       "      <td>0.0</td>\n",
       "      <td>0.0</td>\n",
       "      <td>0.0</td>\n",
       "      <td>0.0</td>\n",
       "      <td>0.0</td>\n",
       "      <td>0.0</td>\n",
       "      <td>0.0</td>\n",
       "      <td>0.0</td>\n",
       "      <td>0.0</td>\n",
       "      <td>0.0</td>\n",
       "      <td>...</td>\n",
       "      <td>0.0</td>\n",
       "      <td>0.0</td>\n",
       "      <td>0.0</td>\n",
       "      <td>0.0</td>\n",
       "      <td>0.0</td>\n",
       "      <td>0.0</td>\n",
       "      <td>0.0</td>\n",
       "      <td>0.000031</td>\n",
       "      <td>0.001840</td>\n",
       "      <td>0.080628</td>\n",
       "    </tr>\n",
       "    <tr>\n",
       "      <td>682893</td>\n",
       "      <td>0.0</td>\n",
       "      <td>0.0</td>\n",
       "      <td>0.0</td>\n",
       "      <td>0.0</td>\n",
       "      <td>0.0</td>\n",
       "      <td>0.0</td>\n",
       "      <td>0.0</td>\n",
       "      <td>0.0</td>\n",
       "      <td>0.0</td>\n",
       "      <td>0.0</td>\n",
       "      <td>...</td>\n",
       "      <td>0.0</td>\n",
       "      <td>1.0</td>\n",
       "      <td>0.0</td>\n",
       "      <td>0.0</td>\n",
       "      <td>0.0</td>\n",
       "      <td>0.0</td>\n",
       "      <td>0.0</td>\n",
       "      <td>0.000058</td>\n",
       "      <td>0.000460</td>\n",
       "      <td>0.026656</td>\n",
       "    </tr>\n",
       "    <tr>\n",
       "      <td>54407</td>\n",
       "      <td>0.0</td>\n",
       "      <td>0.0</td>\n",
       "      <td>0.0</td>\n",
       "      <td>0.0</td>\n",
       "      <td>0.0</td>\n",
       "      <td>0.0</td>\n",
       "      <td>0.0</td>\n",
       "      <td>0.0</td>\n",
       "      <td>0.0</td>\n",
       "      <td>0.0</td>\n",
       "      <td>...</td>\n",
       "      <td>0.0</td>\n",
       "      <td>0.0</td>\n",
       "      <td>0.0</td>\n",
       "      <td>1.0</td>\n",
       "      <td>0.0</td>\n",
       "      <td>0.0</td>\n",
       "      <td>0.0</td>\n",
       "      <td>0.000018</td>\n",
       "      <td>0.000000</td>\n",
       "      <td>0.172717</td>\n",
       "    </tr>\n",
       "    <tr>\n",
       "      <td>58804</td>\n",
       "      <td>0.0</td>\n",
       "      <td>0.0</td>\n",
       "      <td>0.0</td>\n",
       "      <td>0.0</td>\n",
       "      <td>0.0</td>\n",
       "      <td>0.0</td>\n",
       "      <td>0.0</td>\n",
       "      <td>0.0</td>\n",
       "      <td>0.0</td>\n",
       "      <td>0.0</td>\n",
       "      <td>...</td>\n",
       "      <td>0.0</td>\n",
       "      <td>0.0</td>\n",
       "      <td>0.0</td>\n",
       "      <td>0.0</td>\n",
       "      <td>0.0</td>\n",
       "      <td>0.0</td>\n",
       "      <td>0.0</td>\n",
       "      <td>0.000560</td>\n",
       "      <td>0.000920</td>\n",
       "      <td>0.006914</td>\n",
       "    </tr>\n",
       "    <tr>\n",
       "      <td>...</td>\n",
       "      <td>...</td>\n",
       "      <td>...</td>\n",
       "      <td>...</td>\n",
       "      <td>...</td>\n",
       "      <td>...</td>\n",
       "      <td>...</td>\n",
       "      <td>...</td>\n",
       "      <td>...</td>\n",
       "      <td>...</td>\n",
       "      <td>...</td>\n",
       "      <td>...</td>\n",
       "      <td>...</td>\n",
       "      <td>...</td>\n",
       "      <td>...</td>\n",
       "      <td>...</td>\n",
       "      <td>...</td>\n",
       "      <td>...</td>\n",
       "      <td>...</td>\n",
       "      <td>...</td>\n",
       "      <td>...</td>\n",
       "      <td>...</td>\n",
       "    </tr>\n",
       "    <tr>\n",
       "      <td>247224</td>\n",
       "      <td>0.0</td>\n",
       "      <td>0.0</td>\n",
       "      <td>0.0</td>\n",
       "      <td>0.0</td>\n",
       "      <td>0.0</td>\n",
       "      <td>0.0</td>\n",
       "      <td>1.0</td>\n",
       "      <td>1.0</td>\n",
       "      <td>0.0</td>\n",
       "      <td>0.0</td>\n",
       "      <td>...</td>\n",
       "      <td>0.0</td>\n",
       "      <td>0.0</td>\n",
       "      <td>0.0</td>\n",
       "      <td>0.0</td>\n",
       "      <td>0.0</td>\n",
       "      <td>0.0</td>\n",
       "      <td>0.0</td>\n",
       "      <td>0.000113</td>\n",
       "      <td>0.000000</td>\n",
       "      <td>0.008874</td>\n",
       "    </tr>\n",
       "    <tr>\n",
       "      <td>626388</td>\n",
       "      <td>0.0</td>\n",
       "      <td>0.0</td>\n",
       "      <td>0.0</td>\n",
       "      <td>0.0</td>\n",
       "      <td>0.0</td>\n",
       "      <td>0.0</td>\n",
       "      <td>0.0</td>\n",
       "      <td>0.0</td>\n",
       "      <td>0.0</td>\n",
       "      <td>0.0</td>\n",
       "      <td>...</td>\n",
       "      <td>0.0</td>\n",
       "      <td>0.0</td>\n",
       "      <td>0.0</td>\n",
       "      <td>0.0</td>\n",
       "      <td>0.0</td>\n",
       "      <td>0.0</td>\n",
       "      <td>0.0</td>\n",
       "      <td>0.000009</td>\n",
       "      <td>0.000000</td>\n",
       "      <td>0.113551</td>\n",
       "    </tr>\n",
       "    <tr>\n",
       "      <td>123738</td>\n",
       "      <td>0.0</td>\n",
       "      <td>0.0</td>\n",
       "      <td>0.0</td>\n",
       "      <td>0.0</td>\n",
       "      <td>0.0</td>\n",
       "      <td>0.0</td>\n",
       "      <td>0.0</td>\n",
       "      <td>0.0</td>\n",
       "      <td>0.0</td>\n",
       "      <td>0.0</td>\n",
       "      <td>...</td>\n",
       "      <td>0.0</td>\n",
       "      <td>0.0</td>\n",
       "      <td>0.0</td>\n",
       "      <td>0.0</td>\n",
       "      <td>0.0</td>\n",
       "      <td>0.0</td>\n",
       "      <td>0.0</td>\n",
       "      <td>0.007806</td>\n",
       "      <td>0.012879</td>\n",
       "      <td>0.354480</td>\n",
       "    </tr>\n",
       "    <tr>\n",
       "      <td>473222</td>\n",
       "      <td>0.0</td>\n",
       "      <td>0.0</td>\n",
       "      <td>0.0</td>\n",
       "      <td>0.0</td>\n",
       "      <td>0.0</td>\n",
       "      <td>0.0</td>\n",
       "      <td>0.0</td>\n",
       "      <td>0.0</td>\n",
       "      <td>0.0</td>\n",
       "      <td>0.0</td>\n",
       "      <td>...</td>\n",
       "      <td>0.0</td>\n",
       "      <td>0.0</td>\n",
       "      <td>0.0</td>\n",
       "      <td>0.0</td>\n",
       "      <td>0.0</td>\n",
       "      <td>0.0</td>\n",
       "      <td>0.0</td>\n",
       "      <td>0.000000</td>\n",
       "      <td>0.000000</td>\n",
       "      <td>0.011337</td>\n",
       "    </tr>\n",
       "    <tr>\n",
       "      <td>20839</td>\n",
       "      <td>1.0</td>\n",
       "      <td>1.0</td>\n",
       "      <td>0.0</td>\n",
       "      <td>0.0</td>\n",
       "      <td>0.0</td>\n",
       "      <td>1.0</td>\n",
       "      <td>0.0</td>\n",
       "      <td>0.0</td>\n",
       "      <td>0.0</td>\n",
       "      <td>0.0</td>\n",
       "      <td>...</td>\n",
       "      <td>0.0</td>\n",
       "      <td>1.0</td>\n",
       "      <td>0.0</td>\n",
       "      <td>0.0</td>\n",
       "      <td>0.0</td>\n",
       "      <td>0.0</td>\n",
       "      <td>0.0</td>\n",
       "      <td>0.000015</td>\n",
       "      <td>0.000000</td>\n",
       "      <td>0.000011</td>\n",
       "    </tr>\n",
       "  </tbody>\n",
       "</table>\n",
       "<p>250 rows × 351 columns</p>\n",
       "</div>"
      ],
      "text/plain": [
       "        GN0100  GN0101  GN0102  GN0103  GN0104  GN0105  GN0200  GN0201  \\\n",
       "id                                                                       \n",
       "27530      1.0     1.0     0.0     0.0     0.0     0.0     0.0     0.0   \n",
       "381934     0.0     0.0     0.0     0.0     0.0     0.0     0.0     0.0   \n",
       "682893     0.0     0.0     0.0     0.0     0.0     0.0     0.0     0.0   \n",
       "54407      0.0     0.0     0.0     0.0     0.0     0.0     0.0     0.0   \n",
       "58804      0.0     0.0     0.0     0.0     0.0     0.0     0.0     0.0   \n",
       "...        ...     ...     ...     ...     ...     ...     ...     ...   \n",
       "247224     0.0     0.0     0.0     0.0     0.0     0.0     1.0     1.0   \n",
       "626388     0.0     0.0     0.0     0.0     0.0     0.0     0.0     0.0   \n",
       "123738     0.0     0.0     0.0     0.0     0.0     0.0     0.0     0.0   \n",
       "473222     0.0     0.0     0.0     0.0     0.0     0.0     0.0     0.0   \n",
       "20839      1.0     1.0     0.0     0.0     0.0     1.0     0.0     0.0   \n",
       "\n",
       "        GN0202  GN0203  ...  issue_year_2015  issue_year_2016  \\\n",
       "id                      ...                                     \n",
       "27530      0.0     0.0  ...              0.0              1.0   \n",
       "381934     0.0     0.0  ...              0.0              0.0   \n",
       "682893     0.0     0.0  ...              0.0              1.0   \n",
       "54407      0.0     0.0  ...              0.0              0.0   \n",
       "58804      0.0     0.0  ...              0.0              0.0   \n",
       "...        ...     ...  ...              ...              ...   \n",
       "247224     0.0     0.0  ...              0.0              0.0   \n",
       "626388     0.0     0.0  ...              0.0              0.0   \n",
       "123738     0.0     0.0  ...              0.0              0.0   \n",
       "473222     0.0     0.0  ...              0.0              0.0   \n",
       "20839      0.0     0.0  ...              0.0              1.0   \n",
       "\n",
       "        issue_year_2017  issue_year_2018  issue_year_2019  issue_year_2020  \\\n",
       "id                                                                           \n",
       "27530               0.0              0.0              0.0              0.0   \n",
       "381934              0.0              0.0              0.0              0.0   \n",
       "682893              0.0              0.0              0.0              0.0   \n",
       "54407               0.0              1.0              0.0              0.0   \n",
       "58804               0.0              0.0              0.0              0.0   \n",
       "...                 ...              ...              ...              ...   \n",
       "247224              0.0              0.0              0.0              0.0   \n",
       "626388              0.0              0.0              0.0              0.0   \n",
       "123738              0.0              0.0              0.0              0.0   \n",
       "473222              0.0              0.0              0.0              0.0   \n",
       "20839               0.0              0.0              0.0              0.0   \n",
       "\n",
       "        issue_year_2022  like_cnt  population  tag_score  \n",
       "id                                                        \n",
       "27530               0.0  0.000043    0.000000   0.031117  \n",
       "381934              0.0  0.000031    0.001840   0.080628  \n",
       "682893              0.0  0.000058    0.000460   0.026656  \n",
       "54407               0.0  0.000018    0.000000   0.172717  \n",
       "58804               0.0  0.000560    0.000920   0.006914  \n",
       "...                 ...       ...         ...        ...  \n",
       "247224              0.0  0.000113    0.000000   0.008874  \n",
       "626388              0.0  0.000009    0.000000   0.113551  \n",
       "123738              0.0  0.007806    0.012879   0.354480  \n",
       "473222              0.0  0.000000    0.000000   0.011337  \n",
       "20839               0.0  0.000015    0.000000   0.000011  \n",
       "\n",
       "[250 rows x 351 columns]"
      ]
     },
     "execution_count": 40,
     "metadata": {},
     "output_type": "execute_result"
    }
   ],
   "source": [
    "X_test"
   ]
  },
  {
   "cell_type": "markdown",
   "metadata": {
    "ExecuteTime": {
     "end_time": "2020-05-22T12:09:50.144581Z",
     "start_time": "2020-05-22T12:09:50.142487Z"
    }
   },
   "source": [
    "## 결과 확인을 위한 작업"
   ]
  },
  {
   "cell_type": "code",
   "execution_count": 41,
   "metadata": {
    "ExecuteTime": {
     "end_time": "2020-05-23T00:29:19.682322Z",
     "start_time": "2020-05-23T00:29:19.636016Z"
    }
   },
   "outputs": [],
   "source": [
    "result_df = pd.DataFrame(Y_pred, columns=kwd_classes)\n",
    "result_df = result_df.merge(pd.DataFrame(X_test.index),on=result_df.index)\n",
    "result_df = result_df.drop('key_0',axis=1).set_index(['id'])"
   ]
  },
  {
   "cell_type": "code",
   "execution_count": 42,
   "metadata": {
    "ExecuteTime": {
     "end_time": "2020-05-23T00:29:20.096219Z",
     "start_time": "2020-05-23T00:29:20.092403Z"
    }
   },
   "outputs": [
    {
     "data": {
      "text/plain": [
       "Int64Index([ 27530, 381934, 682893,  54407,  58804, 210040, 632155, 216933,\n",
       "            201886, 206127,\n",
       "            ...\n",
       "            246008,  50473,  74775, 127757, 422372, 247224, 626388, 123738,\n",
       "            473222,  20839],\n",
       "           dtype='int64', name='id', length=250)"
      ]
     },
     "execution_count": 42,
     "metadata": {},
     "output_type": "execute_result"
    }
   ],
   "source": [
    "result_df.index"
   ]
  },
  {
   "cell_type": "markdown",
   "metadata": {},
   "source": [
    "## 결과 학인 함수 설정"
   ]
  },
  {
   "cell_type": "code",
   "execution_count": 43,
   "metadata": {
    "ExecuteTime": {
     "end_time": "2020-05-23T00:29:21.868930Z",
     "start_time": "2020-05-23T00:29:21.865671Z"
    }
   },
   "outputs": [],
   "source": [
    "def get_tags(ls):\n",
    "    result_ls = []\n",
    "    for i in ls:\n",
    "        result_ls.append(result_df.loc[i][result_df.loc[i] > 0])\n",
    "    return result_ls"
   ]
  },
  {
   "cell_type": "code",
   "execution_count": 44,
   "metadata": {
    "ExecuteTime": {
     "end_time": "2020-05-23T00:29:23.092654Z",
     "start_time": "2020-05-23T00:29:22.813608Z"
    }
   },
   "outputs": [
    {
     "data": {
      "text/html": [
       "<div>\n",
       "<style scoped>\n",
       "    .dataframe tbody tr th:only-of-type {\n",
       "        vertical-align: middle;\n",
       "    }\n",
       "\n",
       "    .dataframe tbody tr th {\n",
       "        vertical-align: top;\n",
       "    }\n",
       "\n",
       "    .dataframe thead th {\n",
       "        text-align: right;\n",
       "    }\n",
       "</style>\n",
       "<table border=\"1\" class=\"dataframe\">\n",
       "  <thead>\n",
       "    <tr style=\"text-align: right;\">\n",
       "      <th></th>\n",
       "      <th>락</th>\n",
       "      <th>뉴에이지</th>\n",
       "      <th>비오는날</th>\n",
       "      <th>재즈</th>\n",
       "      <th>휴식</th>\n",
       "      <th>팝</th>\n",
       "      <th>2000년대</th>\n",
       "      <th>OST</th>\n",
       "      <th>가을</th>\n",
       "      <th>감성</th>\n",
       "      <th>...</th>\n",
       "      <th>퇴근</th>\n",
       "      <th>트롯</th>\n",
       "      <th>펭수</th>\n",
       "      <th>한잔해</th>\n",
       "      <th>향수</th>\n",
       "      <th>홍자</th>\n",
       "      <th>홍진영</th>\n",
       "      <th>흥겨운</th>\n",
       "      <th>히트곡</th>\n",
       "      <th>힘들때</th>\n",
       "    </tr>\n",
       "  </thead>\n",
       "  <tbody>\n",
       "    <tr>\n",
       "      <td>27530</td>\n",
       "      <td>1.0</td>\n",
       "      <td>NaN</td>\n",
       "      <td>NaN</td>\n",
       "      <td>NaN</td>\n",
       "      <td>NaN</td>\n",
       "      <td>NaN</td>\n",
       "      <td>NaN</td>\n",
       "      <td>NaN</td>\n",
       "      <td>NaN</td>\n",
       "      <td>NaN</td>\n",
       "      <td>...</td>\n",
       "      <td>NaN</td>\n",
       "      <td>NaN</td>\n",
       "      <td>NaN</td>\n",
       "      <td>NaN</td>\n",
       "      <td>NaN</td>\n",
       "      <td>NaN</td>\n",
       "      <td>NaN</td>\n",
       "      <td>NaN</td>\n",
       "      <td>NaN</td>\n",
       "      <td>NaN</td>\n",
       "    </tr>\n",
       "    <tr>\n",
       "      <td>381934</td>\n",
       "      <td>NaN</td>\n",
       "      <td>NaN</td>\n",
       "      <td>NaN</td>\n",
       "      <td>NaN</td>\n",
       "      <td>NaN</td>\n",
       "      <td>NaN</td>\n",
       "      <td>NaN</td>\n",
       "      <td>NaN</td>\n",
       "      <td>NaN</td>\n",
       "      <td>NaN</td>\n",
       "      <td>...</td>\n",
       "      <td>NaN</td>\n",
       "      <td>NaN</td>\n",
       "      <td>NaN</td>\n",
       "      <td>NaN</td>\n",
       "      <td>NaN</td>\n",
       "      <td>NaN</td>\n",
       "      <td>NaN</td>\n",
       "      <td>NaN</td>\n",
       "      <td>NaN</td>\n",
       "      <td>NaN</td>\n",
       "    </tr>\n",
       "    <tr>\n",
       "      <td>682893</td>\n",
       "      <td>NaN</td>\n",
       "      <td>NaN</td>\n",
       "      <td>NaN</td>\n",
       "      <td>NaN</td>\n",
       "      <td>NaN</td>\n",
       "      <td>NaN</td>\n",
       "      <td>NaN</td>\n",
       "      <td>NaN</td>\n",
       "      <td>NaN</td>\n",
       "      <td>NaN</td>\n",
       "      <td>...</td>\n",
       "      <td>NaN</td>\n",
       "      <td>NaN</td>\n",
       "      <td>NaN</td>\n",
       "      <td>NaN</td>\n",
       "      <td>NaN</td>\n",
       "      <td>NaN</td>\n",
       "      <td>NaN</td>\n",
       "      <td>NaN</td>\n",
       "      <td>NaN</td>\n",
       "      <td>NaN</td>\n",
       "    </tr>\n",
       "    <tr>\n",
       "      <td>54407</td>\n",
       "      <td>NaN</td>\n",
       "      <td>1.0</td>\n",
       "      <td>1.0</td>\n",
       "      <td>1.0</td>\n",
       "      <td>1.0</td>\n",
       "      <td>NaN</td>\n",
       "      <td>NaN</td>\n",
       "      <td>NaN</td>\n",
       "      <td>NaN</td>\n",
       "      <td>NaN</td>\n",
       "      <td>...</td>\n",
       "      <td>NaN</td>\n",
       "      <td>NaN</td>\n",
       "      <td>NaN</td>\n",
       "      <td>NaN</td>\n",
       "      <td>NaN</td>\n",
       "      <td>NaN</td>\n",
       "      <td>NaN</td>\n",
       "      <td>NaN</td>\n",
       "      <td>NaN</td>\n",
       "      <td>NaN</td>\n",
       "    </tr>\n",
       "    <tr>\n",
       "      <td>58804</td>\n",
       "      <td>NaN</td>\n",
       "      <td>NaN</td>\n",
       "      <td>NaN</td>\n",
       "      <td>NaN</td>\n",
       "      <td>NaN</td>\n",
       "      <td>NaN</td>\n",
       "      <td>NaN</td>\n",
       "      <td>NaN</td>\n",
       "      <td>NaN</td>\n",
       "      <td>NaN</td>\n",
       "      <td>...</td>\n",
       "      <td>NaN</td>\n",
       "      <td>NaN</td>\n",
       "      <td>NaN</td>\n",
       "      <td>NaN</td>\n",
       "      <td>NaN</td>\n",
       "      <td>NaN</td>\n",
       "      <td>NaN</td>\n",
       "      <td>NaN</td>\n",
       "      <td>NaN</td>\n",
       "      <td>NaN</td>\n",
       "    </tr>\n",
       "    <tr>\n",
       "      <td>...</td>\n",
       "      <td>...</td>\n",
       "      <td>...</td>\n",
       "      <td>...</td>\n",
       "      <td>...</td>\n",
       "      <td>...</td>\n",
       "      <td>...</td>\n",
       "      <td>...</td>\n",
       "      <td>...</td>\n",
       "      <td>...</td>\n",
       "      <td>...</td>\n",
       "      <td>...</td>\n",
       "      <td>...</td>\n",
       "      <td>...</td>\n",
       "      <td>...</td>\n",
       "      <td>...</td>\n",
       "      <td>...</td>\n",
       "      <td>...</td>\n",
       "      <td>...</td>\n",
       "      <td>...</td>\n",
       "      <td>...</td>\n",
       "      <td>...</td>\n",
       "    </tr>\n",
       "    <tr>\n",
       "      <td>247224</td>\n",
       "      <td>NaN</td>\n",
       "      <td>NaN</td>\n",
       "      <td>NaN</td>\n",
       "      <td>NaN</td>\n",
       "      <td>NaN</td>\n",
       "      <td>NaN</td>\n",
       "      <td>NaN</td>\n",
       "      <td>NaN</td>\n",
       "      <td>NaN</td>\n",
       "      <td>NaN</td>\n",
       "      <td>...</td>\n",
       "      <td>NaN</td>\n",
       "      <td>NaN</td>\n",
       "      <td>NaN</td>\n",
       "      <td>NaN</td>\n",
       "      <td>NaN</td>\n",
       "      <td>NaN</td>\n",
       "      <td>NaN</td>\n",
       "      <td>NaN</td>\n",
       "      <td>NaN</td>\n",
       "      <td>NaN</td>\n",
       "    </tr>\n",
       "    <tr>\n",
       "      <td>626388</td>\n",
       "      <td>NaN</td>\n",
       "      <td>1.0</td>\n",
       "      <td>NaN</td>\n",
       "      <td>NaN</td>\n",
       "      <td>NaN</td>\n",
       "      <td>NaN</td>\n",
       "      <td>NaN</td>\n",
       "      <td>NaN</td>\n",
       "      <td>1.0</td>\n",
       "      <td>NaN</td>\n",
       "      <td>...</td>\n",
       "      <td>NaN</td>\n",
       "      <td>NaN</td>\n",
       "      <td>NaN</td>\n",
       "      <td>NaN</td>\n",
       "      <td>NaN</td>\n",
       "      <td>NaN</td>\n",
       "      <td>NaN</td>\n",
       "      <td>NaN</td>\n",
       "      <td>NaN</td>\n",
       "      <td>NaN</td>\n",
       "    </tr>\n",
       "    <tr>\n",
       "      <td>123738</td>\n",
       "      <td>NaN</td>\n",
       "      <td>NaN</td>\n",
       "      <td>NaN</td>\n",
       "      <td>NaN</td>\n",
       "      <td>1.0</td>\n",
       "      <td>NaN</td>\n",
       "      <td>NaN</td>\n",
       "      <td>1.0</td>\n",
       "      <td>1.0</td>\n",
       "      <td>1.0</td>\n",
       "      <td>...</td>\n",
       "      <td>1.0</td>\n",
       "      <td>1.0</td>\n",
       "      <td>1.0</td>\n",
       "      <td>1.0</td>\n",
       "      <td>1.0</td>\n",
       "      <td>1.0</td>\n",
       "      <td>1.0</td>\n",
       "      <td>1.0</td>\n",
       "      <td>1.0</td>\n",
       "      <td>1.0</td>\n",
       "    </tr>\n",
       "    <tr>\n",
       "      <td>473222</td>\n",
       "      <td>NaN</td>\n",
       "      <td>NaN</td>\n",
       "      <td>NaN</td>\n",
       "      <td>NaN</td>\n",
       "      <td>NaN</td>\n",
       "      <td>NaN</td>\n",
       "      <td>NaN</td>\n",
       "      <td>NaN</td>\n",
       "      <td>NaN</td>\n",
       "      <td>NaN</td>\n",
       "      <td>...</td>\n",
       "      <td>NaN</td>\n",
       "      <td>NaN</td>\n",
       "      <td>NaN</td>\n",
       "      <td>NaN</td>\n",
       "      <td>NaN</td>\n",
       "      <td>NaN</td>\n",
       "      <td>NaN</td>\n",
       "      <td>NaN</td>\n",
       "      <td>NaN</td>\n",
       "      <td>NaN</td>\n",
       "    </tr>\n",
       "    <tr>\n",
       "      <td>20839</td>\n",
       "      <td>NaN</td>\n",
       "      <td>NaN</td>\n",
       "      <td>NaN</td>\n",
       "      <td>NaN</td>\n",
       "      <td>NaN</td>\n",
       "      <td>NaN</td>\n",
       "      <td>NaN</td>\n",
       "      <td>NaN</td>\n",
       "      <td>NaN</td>\n",
       "      <td>NaN</td>\n",
       "      <td>...</td>\n",
       "      <td>NaN</td>\n",
       "      <td>NaN</td>\n",
       "      <td>NaN</td>\n",
       "      <td>NaN</td>\n",
       "      <td>NaN</td>\n",
       "      <td>NaN</td>\n",
       "      <td>NaN</td>\n",
       "      <td>NaN</td>\n",
       "      <td>NaN</td>\n",
       "      <td>NaN</td>\n",
       "    </tr>\n",
       "  </tbody>\n",
       "</table>\n",
       "<p>250 rows × 413 columns</p>\n",
       "</div>"
      ],
      "text/plain": [
       "          락  뉴에이지  비오는날   재즈   휴식   팝  2000년대  OST   가을   감성  ...   퇴근   트롯  \\\n",
       "27530   1.0   NaN   NaN  NaN  NaN NaN     NaN  NaN  NaN  NaN  ...  NaN  NaN   \n",
       "381934  NaN   NaN   NaN  NaN  NaN NaN     NaN  NaN  NaN  NaN  ...  NaN  NaN   \n",
       "682893  NaN   NaN   NaN  NaN  NaN NaN     NaN  NaN  NaN  NaN  ...  NaN  NaN   \n",
       "54407   NaN   1.0   1.0  1.0  1.0 NaN     NaN  NaN  NaN  NaN  ...  NaN  NaN   \n",
       "58804   NaN   NaN   NaN  NaN  NaN NaN     NaN  NaN  NaN  NaN  ...  NaN  NaN   \n",
       "...     ...   ...   ...  ...  ...  ..     ...  ...  ...  ...  ...  ...  ...   \n",
       "247224  NaN   NaN   NaN  NaN  NaN NaN     NaN  NaN  NaN  NaN  ...  NaN  NaN   \n",
       "626388  NaN   1.0   NaN  NaN  NaN NaN     NaN  NaN  1.0  NaN  ...  NaN  NaN   \n",
       "123738  NaN   NaN   NaN  NaN  1.0 NaN     NaN  1.0  1.0  1.0  ...  1.0  1.0   \n",
       "473222  NaN   NaN   NaN  NaN  NaN NaN     NaN  NaN  NaN  NaN  ...  NaN  NaN   \n",
       "20839   NaN   NaN   NaN  NaN  NaN NaN     NaN  NaN  NaN  NaN  ...  NaN  NaN   \n",
       "\n",
       "         펭수  한잔해   향수   홍자  홍진영  흥겨운  히트곡  힘들때  \n",
       "27530   NaN  NaN  NaN  NaN  NaN  NaN  NaN  NaN  \n",
       "381934  NaN  NaN  NaN  NaN  NaN  NaN  NaN  NaN  \n",
       "682893  NaN  NaN  NaN  NaN  NaN  NaN  NaN  NaN  \n",
       "54407   NaN  NaN  NaN  NaN  NaN  NaN  NaN  NaN  \n",
       "58804   NaN  NaN  NaN  NaN  NaN  NaN  NaN  NaN  \n",
       "...     ...  ...  ...  ...  ...  ...  ...  ...  \n",
       "247224  NaN  NaN  NaN  NaN  NaN  NaN  NaN  NaN  \n",
       "626388  NaN  NaN  NaN  NaN  NaN  NaN  NaN  NaN  \n",
       "123738  1.0  1.0  1.0  1.0  1.0  1.0  1.0  1.0  \n",
       "473222  NaN  NaN  NaN  NaN  NaN  NaN  NaN  NaN  \n",
       "20839   NaN  NaN  NaN  NaN  NaN  NaN  NaN  NaN  \n",
       "\n",
       "[250 rows x 413 columns]"
      ]
     },
     "execution_count": 44,
     "metadata": {},
     "output_type": "execute_result"
    }
   ],
   "source": [
    "pd.DataFrame(get_tags(result_df.index))"
   ]
  },
  {
   "cell_type": "markdown",
   "metadata": {},
   "source": [
    "- 보다 싶이 1값을 가지고 있는게 이 모델이 추천해준 태그들입니다. \n",
    "- 마찬가지로 태그의 요소들로 인해 뽑아내는 방법을 강구해야 합니다."
   ]
  },
  {
   "cell_type": "code",
   "execution_count": 45,
   "metadata": {
    "ExecuteTime": {
     "end_time": "2020-05-23T00:29:35.611861Z",
     "start_time": "2020-05-23T00:29:35.595642Z"
    }
   },
   "outputs": [
    {
     "data": {
      "text/html": [
       "<div>\n",
       "<style scoped>\n",
       "    .dataframe tbody tr th:only-of-type {\n",
       "        vertical-align: middle;\n",
       "    }\n",
       "\n",
       "    .dataframe tbody tr th {\n",
       "        vertical-align: top;\n",
       "    }\n",
       "\n",
       "    .dataframe thead th {\n",
       "        text-align: right;\n",
       "    }\n",
       "</style>\n",
       "<table border=\"1\" class=\"dataframe\">\n",
       "  <thead>\n",
       "    <tr style=\"text-align: right;\">\n",
       "      <th></th>\n",
       "      <th>song_gn_dtl_gnr_basket</th>\n",
       "      <th>issue_date</th>\n",
       "      <th>album_name</th>\n",
       "      <th>album_id</th>\n",
       "      <th>artist_id_basket</th>\n",
       "      <th>song_name</th>\n",
       "      <th>song_gn_gnr_basket</th>\n",
       "      <th>artist_name_basket</th>\n",
       "      <th>id</th>\n",
       "    </tr>\n",
       "  </thead>\n",
       "  <tbody>\n",
       "    <tr>\n",
       "      <td>27530</td>\n",
       "      <td>[GN0101]</td>\n",
       "      <td>20161228</td>\n",
       "      <td>마지막 한 마디만 듣고가요</td>\n",
       "      <td>10026511</td>\n",
       "      <td>[424945]</td>\n",
       "      <td>마지막 한 마디만 듣고가요 (Inst.)</td>\n",
       "      <td>[GN0100]</td>\n",
       "      <td>[에스프레소]</td>\n",
       "      <td>27530</td>\n",
       "    </tr>\n",
       "  </tbody>\n",
       "</table>\n",
       "</div>"
      ],
      "text/plain": [
       "      song_gn_dtl_gnr_basket  issue_date      album_name  album_id  \\\n",
       "27530               [GN0101]    20161228  마지막 한 마디만 듣고가요  10026511   \n",
       "\n",
       "      artist_id_basket               song_name song_gn_gnr_basket  \\\n",
       "27530         [424945]  마지막 한 마디만 듣고가요 (Inst.)           [GN0100]   \n",
       "\n",
       "      artist_name_basket     id  \n",
       "27530            [에스프레소]  27530  "
      ]
     },
     "execution_count": 45,
     "metadata": {},
     "output_type": "execute_result"
    }
   ],
   "source": [
    "song_meta[song_meta['id'] == 27530]"
   ]
  },
  {
   "cell_type": "code",
   "execution_count": 46,
   "metadata": {
    "ExecuteTime": {
     "end_time": "2020-05-23T00:29:40.253636Z",
     "start_time": "2020-05-23T00:29:40.235381Z"
    },
    "scrolled": true
   },
   "outputs": [
    {
     "data": {
      "text/html": [
       "<div>\n",
       "<style scoped>\n",
       "    .dataframe tbody tr th:only-of-type {\n",
       "        vertical-align: middle;\n",
       "    }\n",
       "\n",
       "    .dataframe tbody tr th {\n",
       "        vertical-align: top;\n",
       "    }\n",
       "\n",
       "    .dataframe thead th {\n",
       "        text-align: right;\n",
       "    }\n",
       "</style>\n",
       "<table border=\"1\" class=\"dataframe\">\n",
       "  <thead>\n",
       "    <tr style=\"text-align: right;\">\n",
       "      <th></th>\n",
       "      <th>GN0100</th>\n",
       "      <th>GN0101</th>\n",
       "      <th>GN0102</th>\n",
       "      <th>GN0103</th>\n",
       "      <th>GN0104</th>\n",
       "      <th>GN0105</th>\n",
       "      <th>GN0200</th>\n",
       "      <th>GN0201</th>\n",
       "      <th>GN0202</th>\n",
       "      <th>GN0203</th>\n",
       "      <th>...</th>\n",
       "      <th>issue_year_2016</th>\n",
       "      <th>issue_year_2017</th>\n",
       "      <th>issue_year_2018</th>\n",
       "      <th>issue_year_2019</th>\n",
       "      <th>issue_year_2020</th>\n",
       "      <th>issue_year_2022</th>\n",
       "      <th>like_cnt</th>\n",
       "      <th>population</th>\n",
       "      <th>tag_score</th>\n",
       "      <th>tags</th>\n",
       "    </tr>\n",
       "    <tr>\n",
       "      <th>id</th>\n",
       "      <th></th>\n",
       "      <th></th>\n",
       "      <th></th>\n",
       "      <th></th>\n",
       "      <th></th>\n",
       "      <th></th>\n",
       "      <th></th>\n",
       "      <th></th>\n",
       "      <th></th>\n",
       "      <th></th>\n",
       "      <th></th>\n",
       "      <th></th>\n",
       "      <th></th>\n",
       "      <th></th>\n",
       "      <th></th>\n",
       "      <th></th>\n",
       "      <th></th>\n",
       "      <th></th>\n",
       "      <th></th>\n",
       "      <th></th>\n",
       "      <th></th>\n",
       "    </tr>\n",
       "  </thead>\n",
       "  <tbody>\n",
       "    <tr>\n",
       "      <td>27530</td>\n",
       "      <td>1.0</td>\n",
       "      <td>1.0</td>\n",
       "      <td>0.0</td>\n",
       "      <td>0.0</td>\n",
       "      <td>0.0</td>\n",
       "      <td>0.0</td>\n",
       "      <td>0.0</td>\n",
       "      <td>0.0</td>\n",
       "      <td>0.0</td>\n",
       "      <td>0.0</td>\n",
       "      <td>...</td>\n",
       "      <td>1.0</td>\n",
       "      <td>0.0</td>\n",
       "      <td>0.0</td>\n",
       "      <td>0.0</td>\n",
       "      <td>0.0</td>\n",
       "      <td>0.0</td>\n",
       "      <td>0.000043</td>\n",
       "      <td>0.0</td>\n",
       "      <td>0.031117</td>\n",
       "      <td>[좋아요, 에스프레소, 감성]</td>\n",
       "    </tr>\n",
       "  </tbody>\n",
       "</table>\n",
       "<p>1 rows × 352 columns</p>\n",
       "</div>"
      ],
      "text/plain": [
       "       GN0100  GN0101  GN0102  GN0103  GN0104  GN0105  GN0200  GN0201  GN0202  \\\n",
       "id                                                                              \n",
       "27530     1.0     1.0     0.0     0.0     0.0     0.0     0.0     0.0     0.0   \n",
       "\n",
       "       GN0203  ...  issue_year_2016  issue_year_2017  issue_year_2018  \\\n",
       "id             ...                                                      \n",
       "27530     0.0  ...              1.0              0.0              0.0   \n",
       "\n",
       "       issue_year_2019  issue_year_2020  issue_year_2022  like_cnt  \\\n",
       "id                                                                   \n",
       "27530              0.0              0.0              0.0  0.000043   \n",
       "\n",
       "       population  tag_score              tags  \n",
       "id                                              \n",
       "27530         0.0   0.031117  [좋아요, 에스프레소, 감성]  \n",
       "\n",
       "[1 rows x 352 columns]"
      ]
     },
     "execution_count": 46,
     "metadata": {},
     "output_type": "execute_result"
    }
   ],
   "source": [
    "df_10000[df_10000.index == 27530]"
   ]
  },
  {
   "cell_type": "code",
   "execution_count": 47,
   "metadata": {
    "ExecuteTime": {
     "end_time": "2020-05-23T00:29:44.104881Z",
     "start_time": "2020-05-23T00:29:44.098730Z"
    }
   },
   "outputs": [
    {
     "data": {
      "text/plain": [
       "락    1\n",
       "Name: 27530, dtype: int64"
      ]
     },
     "execution_count": 47,
     "metadata": {},
     "output_type": "execute_result"
    }
   ],
   "source": [
    "result_df.loc[27530][result_df.loc[27530] > 0]"
   ]
  },
  {
   "cell_type": "markdown",
   "metadata": {},
   "source": [
    "# 결론\n",
    "- 앞서 말씀드렸듯이, 일단 모델이 돌아가서 예측은 가능하나 역시 0,1인 값만 가진 벡터를 반환하기 때문에, 확률값으로 0~1사이 값을 반환하도록 마지막 output layer 단계에서 sigmoid 함수를 사용해야 할듯합니다.\n",
    "- 이런 방법론으로 저희가 배웠던 tensorflow의 모델링 방법을 활용해야 할듯 합니다."
   ]
  },
  {
   "cell_type": "markdown",
   "metadata": {},
   "source": [
    "# keras try"
   ]
  },
  {
   "cell_type": "code",
   "execution_count": 22,
   "metadata": {
    "ExecuteTime": {
     "end_time": "2020-05-23T08:17:38.922822Z",
     "start_time": "2020-05-23T08:17:38.854588Z"
    }
   },
   "outputs": [],
   "source": [
    "df_10000 = df.sample(10000)\n",
    "# df_10000 = df_10000.set_index(['id'])\n",
    "y = list(df_10000.tags)"
   ]
  },
  {
   "cell_type": "code",
   "execution_count": 19,
   "metadata": {
    "ExecuteTime": {
     "end_time": "2020-05-23T08:15:21.084760Z",
     "start_time": "2020-05-23T08:15:20.059223Z"
    }
   },
   "outputs": [],
   "source": [
    "df = df.set_index(['id'])\n",
    "y = list(df.tags)"
   ]
  },
  {
   "cell_type": "code",
   "execution_count": 101,
   "metadata": {
    "ExecuteTime": {
     "end_time": "2020-05-23T07:06:26.925222Z",
     "start_time": "2020-05-23T07:06:26.532354Z"
    }
   },
   "outputs": [],
   "source": [
    "df_100000 = df.sample(100000)\n",
    "y = list(df_100000.tags)"
   ]
  },
  {
   "cell_type": "code",
   "execution_count": 88,
   "metadata": {
    "ExecuteTime": {
     "end_time": "2020-05-23T07:03:13.899891Z",
     "start_time": "2020-05-23T07:03:13.807903Z"
    }
   },
   "outputs": [],
   "source": []
  },
  {
   "cell_type": "markdown",
   "metadata": {},
   "source": [
    "## song- tag one-hot vector 만들기"
   ]
  },
  {
   "cell_type": "code",
   "execution_count": 23,
   "metadata": {
    "ExecuteTime": {
     "end_time": "2020-05-23T08:17:42.987360Z",
     "start_time": "2020-05-23T08:17:42.187789Z"
    }
   },
   "outputs": [],
   "source": [
    "from sklearn.preprocessing import MultiLabelBinarizer\n",
    "Y_mlb = MultiLabelBinarizer(sparse_output=True)\n",
    "Y_true = Y_mlb.fit_transform(y)"
   ]
  },
  {
   "cell_type": "code",
   "execution_count": 24,
   "metadata": {
    "ExecuteTime": {
     "end_time": "2020-05-23T08:17:42.995013Z",
     "start_time": "2020-05-23T08:17:42.990075Z"
    }
   },
   "outputs": [
    {
     "data": {
      "text/plain": [
       "<10000x17284 sparse matrix of type '<class 'numpy.int64'>'\n",
       "\twith 181262 stored elements in Compressed Sparse Row format>"
      ]
     },
     "execution_count": 24,
     "metadata": {},
     "output_type": "execute_result"
    }
   ],
   "source": [
    "Y_true"
   ]
  },
  {
   "cell_type": "code",
   "execution_count": 25,
   "metadata": {
    "ExecuteTime": {
     "end_time": "2020-05-23T08:17:43.370162Z",
     "start_time": "2020-05-23T08:17:43.366837Z"
    }
   },
   "outputs": [
    {
     "data": {
      "text/plain": [
       "array(['00', '007', '00s', ..., '힛뎀포크', '힛뎀폭', '힛뎀폭스'], dtype=object)"
      ]
     },
     "execution_count": 25,
     "metadata": {},
     "output_type": "execute_result"
    }
   ],
   "source": [
    "kwd_classes = Y_mlb.classes_ # binarizer를 저장해두고, 이후에 classes_ 를 읽어서, 각 칼럼이 무슨 값인지를 확인해야 함.\n",
    "kwd_classes"
   ]
  },
  {
   "cell_type": "code",
   "execution_count": 27,
   "metadata": {
    "ExecuteTime": {
     "end_time": "2020-05-23T08:17:49.844076Z",
     "start_time": "2020-05-23T08:17:49.829413Z"
    }
   },
   "outputs": [],
   "source": [
    "X = df_10000[df_10000.columns.difference(['tags'])]"
   ]
  },
  {
   "cell_type": "code",
   "execution_count": 28,
   "metadata": {
    "ExecuteTime": {
     "end_time": "2020-05-23T08:17:50.575942Z",
     "start_time": "2020-05-23T08:17:50.572310Z"
    }
   },
   "outputs": [
    {
     "data": {
      "text/plain": [
       "(10000, 351)"
      ]
     },
     "execution_count": 28,
     "metadata": {},
     "output_type": "execute_result"
    }
   ],
   "source": [
    "X.shape"
   ]
  },
  {
   "cell_type": "code",
   "execution_count": 29,
   "metadata": {
    "ExecuteTime": {
     "end_time": "2020-05-23T08:17:52.762134Z",
     "start_time": "2020-05-23T08:17:52.673998Z"
    }
   },
   "outputs": [
    {
     "name": "stdout",
     "output_type": "stream",
     "text": [
      "(7500, 351)\n",
      "(7500, 17284)\n",
      "(2500, 351)\n",
      "(2500, 17284)\n"
     ]
    }
   ],
   "source": [
    "from sklearn.model_selection import train_test_split\n",
    "X_train, X_test, y_train, y_test= train_test_split(X.values, Y_true)\n",
    "print(X_train.shape)\n",
    "print(y_train.shape)\n",
    "print(X_test.shape)\n",
    "print(y_test.shape)"
   ]
  },
  {
   "cell_type": "code",
   "execution_count": 74,
   "metadata": {
    "ExecuteTime": {
     "end_time": "2020-05-23T08:33:06.448801Z",
     "start_time": "2020-05-23T08:33:06.403205Z"
    }
   },
   "outputs": [],
   "source": [
    "import os, glob, numpy as np\n",
    "from keras.models import Sequential\n",
    "from keras.layers import Conv2D, MaxPooling2D, Dense, Flatten, Dropout\n",
    "from keras.callbacks import EarlyStopping, ModelCheckpoint\n",
    "from keras.layers import BatchNormalization\n",
    "import matplotlib.pyplot as plt\n",
    "import keras.backend.tensorflow_backend as K\n",
    "from keras.optimizers import SGD\n",
    "\n",
    "with K.tf_ops.device('/device:GPU:0'):\n",
    "    model = Sequential()\n",
    "\n",
    "    model.add(Dense(32, input_shape=X_train.shape[1:], activation='relu'))\n",
    "    model.add(Dense(64, activation='relu'))\n",
    "\n",
    "    model.add(Dense(128, activation='relu'))\n",
    "\n",
    "    model.add(Dense(64, activation='relu'))\n",
    "    \n",
    "    model.add(Dense(y_train.shape[1], activation='sigmoid'))\n",
    "    \n",
    "    model.compile(loss='binary_crossentropy',\n",
    "                  optimizer='adam')"
   ]
  },
  {
   "cell_type": "code",
   "execution_count": 73,
   "metadata": {
    "ExecuteTime": {
     "end_time": "2020-05-23T08:33:05.485646Z",
     "start_time": "2020-05-23T08:33:05.483289Z"
    }
   },
   "outputs": [],
   "source": [
    "del model"
   ]
  },
  {
   "cell_type": "code",
   "execution_count": 75,
   "metadata": {
    "ExecuteTime": {
     "end_time": "2020-05-23T08:33:37.650470Z",
     "start_time": "2020-05-23T08:33:07.241634Z"
    },
    "scrolled": false
   },
   "outputs": [
    {
     "name": "stdout",
     "output_type": "stream",
     "text": [
      "Train on 7500 samples, validate on 2500 samples\n",
      "Epoch 1/10\n",
      "7500/7500 [==============================] - 3s 441us/step - loss: 3.8506 - val_loss: 0.0320\n",
      "Epoch 2/10\n",
      "7500/7500 [==============================] - 3s 408us/step - loss: 0.0238 - val_loss: 0.0256\n",
      "Epoch 3/10\n",
      "7500/7500 [==============================] - 3s 379us/step - loss: 0.0208 - val_loss: 0.0258\n",
      "Epoch 4/10\n",
      "7500/7500 [==============================] - 3s 377us/step - loss: 0.0196 - val_loss: 0.0253\n",
      "Epoch 5/10\n",
      "7500/7500 [==============================] - 3s 376us/step - loss: 0.0182 - val_loss: 0.0269\n",
      "Epoch 6/10\n",
      "7500/7500 [==============================] - 3s 393us/step - loss: 0.0193 - val_loss: 0.0271\n",
      "Epoch 7/10\n",
      "7500/7500 [==============================] - 3s 396us/step - loss: 0.0188 - val_loss: 0.0250\n",
      "Epoch 8/10\n",
      "7500/7500 [==============================] - 3s 394us/step - loss: 0.0169 - val_loss: 0.0260\n",
      "Epoch 9/10\n",
      "7500/7500 [==============================] - 3s 406us/step - loss: 0.0166 - val_loss: 0.0244\n",
      "Epoch 10/10\n",
      "7500/7500 [==============================] - 3s 418us/step - loss: 0.0153 - val_loss: 0.0239\n"
     ]
    }
   ],
   "source": [
    "history = model.fit(X_train, y_train, epochs=10, batch_size=100, validation_data=(X_test, y_test))"
   ]
  },
  {
   "cell_type": "code",
   "execution_count": 76,
   "metadata": {
    "ExecuteTime": {
     "end_time": "2020-05-23T08:33:37.958433Z",
     "start_time": "2020-05-23T08:33:37.652554Z"
    }
   },
   "outputs": [
    {
     "data": {
      "image/png": "[encoded data removed]",
      "text/plain": [
       "<Figure size 576x360 with 1 Axes>"
      ]
     },
     "metadata": {
      "image/png": {
       "height": 340,
       "width": 503
      },
      "needs_background": "light"
     },
     "output_type": "display_data"
    }
   ],
   "source": [
    "plt.plot(history.history['loss'])\n",
    "plt.title('model loss')\n",
    "plt.ylabel('loss')\n",
    "plt.xlabel('epochs')\n",
    "plt.show()"
   ]
  },
  {
   "cell_type": "code",
   "execution_count": 77,
   "metadata": {
    "ExecuteTime": {
     "end_time": "2020-05-23T08:33:40.077278Z",
     "start_time": "2020-05-23T08:33:39.865082Z"
    }
   },
   "outputs": [],
   "source": [
    "preds = model.predict(X_test)"
   ]
  },
  {
   "cell_type": "code",
   "execution_count": 78,
   "metadata": {
    "ExecuteTime": {
     "end_time": "2020-05-23T08:33:40.210755Z",
     "start_time": "2020-05-23T08:33:40.079969Z"
    }
   },
   "outputs": [],
   "source": [
    "preds[preds>=0.5] = 1\n",
    "preds[preds<0.5] = 0"
   ]
  },
  {
   "cell_type": "code",
   "execution_count": 80,
   "metadata": {
    "ExecuteTime": {
     "end_time": "2020-05-23T08:33:55.636350Z",
     "start_time": "2020-05-23T08:33:55.632553Z"
    }
   },
   "outputs": [
    {
     "data": {
      "text/plain": [
       "(2500, 17284)"
      ]
     },
     "execution_count": 80,
     "metadata": {},
     "output_type": "execute_result"
    }
   ],
   "source": [
    "preds.shape"
   ]
  },
  {
   "cell_type": "markdown",
   "metadata": {},
   "source": [
    "## 예측한 태그의 갯수"
   ]
  },
  {
   "cell_type": "code",
   "execution_count": 81,
   "metadata": {
    "ExecuteTime": {
     "end_time": "2020-05-23T08:33:57.198120Z",
     "start_time": "2020-05-23T08:33:57.167088Z"
    }
   },
   "outputs": [
    {
     "data": {
      "text/plain": [
       "array([ 5.,  0.,  5.,  0.,  0.,  8.,  8.,  0.,  0.,  0.,  6.,  0.,  1.,\n",
       "        6.,  0.,  0.,  0.,  0.,  0.,  6.,  0.,  0.,  6.,  2.,  0.,  5.,\n",
       "        3., 12.,  0., 21.,  6.,  8.,  0.,  2.,  0.,  0.,  0.,  0., 30.,\n",
       "        0.,  0.,  5.,  0.,  0., 11.,  0.,  0.,  0.,  0.,  0.,  3.,  0.,\n",
       "        0.,  0., 11.,  0.,  0.,  0.,  0., 12.,  8.,  1.,  0., 46.,  0.,\n",
       "        1.,  0.,  5.,  0.,  1., 28.,  0., 17.,  5.,  0., 49., 13.,  0.,\n",
       "        1.,  0.,  1.,  0.,  7.,  2.,  0.,  0.,  0., 15.,  0.,  0.,  0.,\n",
       "        6., 13.,  3.,  0.,  0.,  0.,  0.,  0.,  0.], dtype=float32)"
      ]
     },
     "execution_count": 81,
     "metadata": {},
     "output_type": "execute_result"
    }
   ],
   "source": [
    "preds.sum(axis=1)[:100]"
   ]
  },
  {
   "cell_type": "markdown",
   "metadata": {},
   "source": [
    "## accuracy score"
   ]
  },
  {
   "cell_type": "code",
   "execution_count": 37,
   "metadata": {
    "ExecuteTime": {
     "end_time": "2020-05-23T08:24:10.517554Z",
     "start_time": "2020-05-23T08:24:10.480045Z"
    }
   },
   "outputs": [],
   "source": [
    "y_test = y_test.toarray()"
   ]
  },
  {
   "cell_type": "code",
   "execution_count": 79,
   "metadata": {
    "ExecuteTime": {
     "end_time": "2020-05-23T08:33:42.857644Z",
     "start_time": "2020-05-23T08:33:42.377587Z"
    },
    "scrolled": true
   },
   "outputs": [
    {
     "data": {
      "text/plain": [
       "0.324"
      ]
     },
     "execution_count": 79,
     "metadata": {},
     "output_type": "execute_result"
    }
   ],
   "source": [
    "# 1000건 데이터\n",
    "np.sum(np.sum(y_test.astype(int) & preds.astype(int), axis=1) > 0) / y_test.shape[0]"
   ]
  },
  {
   "cell_type": "code",
   "execution_count": 60,
   "metadata": {
    "ExecuteTime": {
     "end_time": "2020-05-23T08:30:21.676987Z",
     "start_time": "2020-05-23T08:30:21.279906Z"
    },
    "scrolled": true
   },
   "outputs": [
    {
     "data": {
      "text/plain": [
       "0.3796"
      ]
     },
     "execution_count": 60,
     "metadata": {},
     "output_type": "execute_result"
    }
   ],
   "source": [
    "# 1000건 데이터\n",
    "np.sum(np.sum(y_test.astype(int) & preds.astype(int), axis=1) > 0) / y_test.shape[0]"
   ]
  },
  {
   "cell_type": "code",
   "execution_count": 68,
   "metadata": {
    "ExecuteTime": {
     "end_time": "2020-05-23T08:31:54.192408Z",
     "start_time": "2020-05-23T08:31:53.742503Z"
    }
   },
   "outputs": [
    {
     "data": {
      "text/plain": [
       "0.3392"
      ]
     },
     "execution_count": 68,
     "metadata": {},
     "output_type": "execute_result"
    }
   ],
   "source": [
    "# 1000건 데이터\n",
    "np.sum(np.sum(y_test.astype(int) & preds.astype(int), axis=1) > 0) / y_test.shape[0]"
   ]
  },
  {
   "cell_type": "code",
   "execution_count": 122,
   "metadata": {
    "ExecuteTime": {
     "end_time": "2020-05-23T07:16:52.958633Z",
     "start_time": "2020-05-23T07:16:28.896936Z"
    }
   },
   "outputs": [
    {
     "data": {
      "text/plain": [
       "0.3418"
      ]
     },
     "execution_count": 122,
     "metadata": {},
     "output_type": "execute_result"
    }
   ],
   "source": [
    "# 10000건 데이터\n",
    "np.sum(np.sum(y_test.astype(int) & preds.astype(int), axis=1) > 0) / y_test.shape[0]"
   ]
  },
  {
   "cell_type": "code",
   "execution_count": 128,
   "metadata": {
    "ExecuteTime": {
     "end_time": "2020-05-23T07:27:26.963331Z",
     "start_time": "2020-05-23T07:27:03.415792Z"
    }
   },
   "outputs": [
    {
     "data": {
      "text/plain": [
       "0.24504"
      ]
     },
     "execution_count": 128,
     "metadata": {},
     "output_type": "execute_result"
    }
   ],
   "source": [
    "# 10만건 데이터\n",
    "np.sum(np.sum(y_test.astype(int) & preds.astype(int), axis=1) > 0) / y_test.shape[0]"
   ]
  },
  {
   "cell_type": "code",
   "execution_count": 160,
   "metadata": {
    "ExecuteTime": {
     "end_time": "2020-05-23T07:43:13.561031Z",
     "start_time": "2020-05-23T07:42:51.070067Z"
    }
   },
   "outputs": [
    {
     "data": {
      "text/plain": [
       "0.25792"
      ]
     },
     "execution_count": 160,
     "metadata": {},
     "output_type": "execute_result"
    }
   ],
   "source": [
    "np.sum(np.sum(y_test.astype(int) & preds.astype(int), axis=1) > 0) / y_test.shape[0]"
   ]
  },
  {
   "cell_type": "code",
   "execution_count": 179,
   "metadata": {
    "ExecuteTime": {
     "end_time": "2020-05-23T08:00:28.570253Z",
     "start_time": "2020-05-23T08:00:08.569329Z"
    }
   },
   "outputs": [
    {
     "data": {
      "text/plain": [
       "0.0"
      ]
     },
     "execution_count": 179,
     "metadata": {},
     "output_type": "execute_result"
    }
   ],
   "source": [
    "np.sum(np.sum(y_test.astype(int) & preds.astype(int), axis=1) > 0) / y_test.shape[0]"
   ]
  },
  {
   "cell_type": "code",
   "execution_count": 186,
   "metadata": {
    "ExecuteTime": {
     "end_time": "2020-05-23T08:12:40.053044Z",
     "start_time": "2020-05-23T08:12:19.933103Z"
    }
   },
   "outputs": [
    {
     "data": {
      "text/plain": [
       "0.18288"
      ]
     },
     "execution_count": 186,
     "metadata": {},
     "output_type": "execute_result"
    }
   ],
   "source": [
    "np.sum(np.sum(y_test.astype(int) & preds.astype(int), axis=1) > 0) / y_test.shape[0]"
   ]
  },
  {
   "cell_type": "code",
   "execution_count": null,
   "metadata": {},
   "outputs": [],
   "source": []
  }
 ],
 "metadata": {
  "kernelspec": {
   "display_name": "Python 3",
   "language": "python",
   "name": "python3"
  },
  "language_info": {
   "codemirror_mode": {
    "name": "ipython",
    "version": 3
   },
   "file_extension": ".py",
   "mimetype": "text/x-python",
   "name": "python",
   "nbconvert_exporter": "python",
   "pygments_lexer": "ipython3",
   "version": "3.7.4"
  }
 },
 "nbformat": 4,
 "nbformat_minor": 2
}
