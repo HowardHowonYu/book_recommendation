{
 "cells": [
  {
   "cell_type": "code",
   "execution_count": 5,
   "metadata": {
    "ExecuteTime": {
     "end_time": "2020-05-24T06:40:51.757509Z",
     "start_time": "2020-05-24T06:40:50.372489Z"
    }
   },
   "outputs": [],
   "source": [
    "train = pd.read_json('./raw_data/train.json')\n",
    "# val = pd.read_json('./raw_data/val.json')"
   ]
  },
  {
   "cell_type": "code",
   "execution_count": 6,
   "metadata": {
    "ExecuteTime": {
     "end_time": "2020-05-24T06:41:01.501056Z",
     "start_time": "2020-05-24T06:40:51.759631Z"
    }
   },
   "outputs": [],
   "source": [
    "song_meta = pd.read_json('./raw_data/song_meta.json')"
   ]
  },
  {
   "cell_type": "code",
   "execution_count": 7,
   "metadata": {
    "ExecuteTime": {
     "end_time": "2020-05-24T06:41:13.626692Z",
     "start_time": "2020-05-24T06:41:01.503707Z"
    }
   },
   "outputs": [],
   "source": [
    "raw_df = pd.read_csv('./df_for_MLC.csv')"
   ]
  },
  {
   "cell_type": "markdown",
   "metadata": {},
   "source": [
    "## 노래별로 어떤 tag가 붙어 있는지"
   ]
  },
  {
   "cell_type": "code",
   "execution_count": 8,
   "metadata": {
    "ExecuteTime": {
     "end_time": "2020-05-24T06:42:49.286546Z",
     "start_time": "2020-05-24T06:41:13.629350Z"
    }
   },
   "outputs": [
    {
     "data": {
      "text/html": [
       "<div>\n",
       "<style scoped>\n",
       "    .dataframe tbody tr th:only-of-type {\n",
       "        vertical-align: middle;\n",
       "    }\n",
       "\n",
       "    .dataframe tbody tr th {\n",
       "        vertical-align: top;\n",
       "    }\n",
       "\n",
       "    .dataframe thead th {\n",
       "        text-align: right;\n",
       "    }\n",
       "</style>\n",
       "<table border=\"1\" class=\"dataframe\">\n",
       "  <thead>\n",
       "    <tr style=\"text-align: right;\">\n",
       "      <th></th>\n",
       "      <th>id</th>\n",
       "      <th>tags</th>\n",
       "    </tr>\n",
       "  </thead>\n",
       "  <tbody>\n",
       "    <tr>\n",
       "      <td>0</td>\n",
       "      <td>0</td>\n",
       "      <td>[비오는날, 드라이브, 비오는날, 추억, 회상]</td>\n",
       "    </tr>\n",
       "    <tr>\n",
       "      <td>1</td>\n",
       "      <td>3</td>\n",
       "      <td>[1, 감성, 듣기좋은, 드라이브, Pop, 여행, 기분전환, 팝, 신나는, 클럽,...</td>\n",
       "    </tr>\n",
       "    <tr>\n",
       "      <td>2</td>\n",
       "      <td>4</td>\n",
       "      <td>[뉴에이지, 뉴에이지]</td>\n",
       "    </tr>\n",
       "    <tr>\n",
       "      <td>3</td>\n",
       "      <td>5</td>\n",
       "      <td>[비오는날, 재즈, 락, 발라드, 휴식, 리메이크, 재즈, 힐링송, 힐링, 기분전환...</td>\n",
       "    </tr>\n",
       "    <tr>\n",
       "      <td>4</td>\n",
       "      <td>6</td>\n",
       "      <td>[클래식, 산책, 조깅]</td>\n",
       "    </tr>\n",
       "    <tr>\n",
       "      <td>...</td>\n",
       "      <td>...</td>\n",
       "      <td>...</td>\n",
       "    </tr>\n",
       "    <tr>\n",
       "      <td>615137</td>\n",
       "      <td>707984</td>\n",
       "      <td>[월드뮤직]</td>\n",
       "    </tr>\n",
       "    <tr>\n",
       "      <td>615138</td>\n",
       "      <td>707985</td>\n",
       "      <td>[Pop, 해외차트, 시대별차트, 신디로퍼, Pop, 1980, 라이벌, 록]</td>\n",
       "    </tr>\n",
       "    <tr>\n",
       "      <td>615139</td>\n",
       "      <td>707986</td>\n",
       "      <td>[힙합, 랩, 발라드, 감성, 리메이크곡, 카페, 잔잔한, 추억, 위로, 힐링, 사...</td>\n",
       "    </tr>\n",
       "    <tr>\n",
       "      <td>615140</td>\n",
       "      <td>707987</td>\n",
       "      <td>[집중, 노동요, 새벽, 오후, 자장가, 공부]</td>\n",
       "    </tr>\n",
       "    <tr>\n",
       "      <td>615141</td>\n",
       "      <td>707988</td>\n",
       "      <td>[데뷔24년, 김경호, 샤우팅의_지존]</td>\n",
       "    </tr>\n",
       "  </tbody>\n",
       "</table>\n",
       "<p>615142 rows × 2 columns</p>\n",
       "</div>"
      ],
      "text/plain": [
       "            id                                               tags\n",
       "0            0                         [비오는날, 드라이브, 비오는날, 추억, 회상]\n",
       "1            3  [1, 감성, 듣기좋은, 드라이브, Pop, 여행, 기분전환, 팝, 신나는, 클럽,...\n",
       "2            4                                       [뉴에이지, 뉴에이지]\n",
       "3            5  [비오는날, 재즈, 락, 발라드, 휴식, 리메이크, 재즈, 힐링송, 힐링, 기분전환...\n",
       "4            6                                      [클래식, 산책, 조깅]\n",
       "...        ...                                                ...\n",
       "615137  707984                                             [월드뮤직]\n",
       "615138  707985        [Pop, 해외차트, 시대별차트, 신디로퍼, Pop, 1980, 라이벌, 록]\n",
       "615139  707986  [힙합, 랩, 발라드, 감성, 리메이크곡, 카페, 잔잔한, 추억, 위로, 힐링, 사...\n",
       "615140  707987                         [집중, 노동요, 새벽, 오후, 자장가, 공부]\n",
       "615141  707988                              [데뷔24년, 김경호, 샤우팅의_지존]\n",
       "\n",
       "[615142 rows x 2 columns]"
      ]
     },
     "execution_count": 8,
     "metadata": {},
     "output_type": "execute_result"
    }
   ],
   "source": [
    "ls = []\n",
    "for i in train[['tags','songs']].index:\n",
    "    tags = train.get_value(i,'tags')\n",
    "    songs = train.get_value(i,'songs')\n",
    "    for song in songs:\n",
    "        ls.append({'id':song,'tags': tags})\n",
    "song_tag = pd.DataFrame(ls)\n",
    "song_tag_df = song_tag.groupby('id').agg(sum).reset_index()\n",
    "song_tag_df"
   ]
  },
  {
   "cell_type": "markdown",
   "metadata": {},
   "source": [
    "# train playlist에 언급된 unique한 노래들 추출"
   ]
  },
  {
   "cell_type": "code",
   "execution_count": 9,
   "metadata": {
    "ExecuteTime": {
     "end_time": "2020-05-24T06:42:54.091927Z",
     "start_time": "2020-05-24T06:42:49.288747Z"
    }
   },
   "outputs": [
    {
     "data": {
      "text/plain": [
       "[0, 3, 4, 5, 6]"
      ]
     },
     "execution_count": 9,
     "metadata": {},
     "output_type": "execute_result"
    }
   ],
   "source": [
    "df_songs = train['songs'].apply(lambda x : [str(i) for i in x])\n",
    "df_songs = train['songs'].reset_index(drop=True)\n",
    "unique_song_list = np.concatenate(df_songs)\n",
    "unique_song_list = list(set(unique_song_list))\n",
    "unique_song_list = [int(i) for i in unique_song_list]\n",
    "unique_song_list[:5]"
   ]
  },
  {
   "cell_type": "code",
   "execution_count": 10,
   "metadata": {
    "ExecuteTime": {
     "end_time": "2020-05-24T06:42:54.841968Z",
     "start_time": "2020-05-24T06:42:54.093831Z"
    }
   },
   "outputs": [],
   "source": [
    "df = raw_df[raw_df['id'].isin(unique_song_list)]"
   ]
  },
  {
   "cell_type": "code",
   "execution_count": 11,
   "metadata": {
    "ExecuteTime": {
     "end_time": "2020-05-24T06:42:54.988740Z",
     "start_time": "2020-05-24T06:42:54.843975Z"
    }
   },
   "outputs": [
    {
     "data": {
      "text/html": [
       "<div>\n",
       "<style scoped>\n",
       "    .dataframe tbody tr th:only-of-type {\n",
       "        vertical-align: middle;\n",
       "    }\n",
       "\n",
       "    .dataframe tbody tr th {\n",
       "        vertical-align: top;\n",
       "    }\n",
       "\n",
       "    .dataframe thead th {\n",
       "        text-align: right;\n",
       "    }\n",
       "</style>\n",
       "<table border=\"1\" class=\"dataframe\">\n",
       "  <thead>\n",
       "    <tr style=\"text-align: right;\">\n",
       "      <th></th>\n",
       "      <th>Unnamed: 0</th>\n",
       "      <th>id</th>\n",
       "      <th>GN0100</th>\n",
       "      <th>GN0101</th>\n",
       "      <th>GN0102</th>\n",
       "      <th>GN0103</th>\n",
       "      <th>GN0104</th>\n",
       "      <th>GN0105</th>\n",
       "      <th>GN0200</th>\n",
       "      <th>GN0201</th>\n",
       "      <th>...</th>\n",
       "      <th>GN2900</th>\n",
       "      <th>GN2901</th>\n",
       "      <th>GN2902</th>\n",
       "      <th>GN2903</th>\n",
       "      <th>GN9000</th>\n",
       "      <th>issue_year</th>\n",
       "      <th>issue_month</th>\n",
       "      <th>like_cnt</th>\n",
       "      <th>population</th>\n",
       "      <th>tag_score</th>\n",
       "    </tr>\n",
       "  </thead>\n",
       "  <tbody>\n",
       "    <tr>\n",
       "      <td>0</td>\n",
       "      <td>0</td>\n",
       "      <td>0</td>\n",
       "      <td>0</td>\n",
       "      <td>0</td>\n",
       "      <td>0</td>\n",
       "      <td>0</td>\n",
       "      <td>0</td>\n",
       "      <td>0</td>\n",
       "      <td>0</td>\n",
       "      <td>0</td>\n",
       "      <td>...</td>\n",
       "      <td>0</td>\n",
       "      <td>0</td>\n",
       "      <td>0</td>\n",
       "      <td>0</td>\n",
       "      <td>0</td>\n",
       "      <td>2014</td>\n",
       "      <td>5</td>\n",
       "      <td>29.0</td>\n",
       "      <td>2.0</td>\n",
       "      <td>24176.0</td>\n",
       "    </tr>\n",
       "    <tr>\n",
       "      <td>3</td>\n",
       "      <td>3</td>\n",
       "      <td>3</td>\n",
       "      <td>0</td>\n",
       "      <td>0</td>\n",
       "      <td>0</td>\n",
       "      <td>0</td>\n",
       "      <td>0</td>\n",
       "      <td>0</td>\n",
       "      <td>0</td>\n",
       "      <td>0</td>\n",
       "      <td>...</td>\n",
       "      <td>0</td>\n",
       "      <td>0</td>\n",
       "      <td>0</td>\n",
       "      <td>0</td>\n",
       "      <td>0</td>\n",
       "      <td>2015</td>\n",
       "      <td>10</td>\n",
       "      <td>1686.0</td>\n",
       "      <td>8.0</td>\n",
       "      <td>79205.0</td>\n",
       "    </tr>\n",
       "    <tr>\n",
       "      <td>4</td>\n",
       "      <td>4</td>\n",
       "      <td>4</td>\n",
       "      <td>0</td>\n",
       "      <td>0</td>\n",
       "      <td>0</td>\n",
       "      <td>0</td>\n",
       "      <td>0</td>\n",
       "      <td>0</td>\n",
       "      <td>0</td>\n",
       "      <td>0</td>\n",
       "      <td>...</td>\n",
       "      <td>0</td>\n",
       "      <td>0</td>\n",
       "      <td>0</td>\n",
       "      <td>0</td>\n",
       "      <td>0</td>\n",
       "      <td>2011</td>\n",
       "      <td>8</td>\n",
       "      <td>39.0</td>\n",
       "      <td>2.0</td>\n",
       "      <td>3493.0</td>\n",
       "    </tr>\n",
       "    <tr>\n",
       "      <td>5</td>\n",
       "      <td>5</td>\n",
       "      <td>5</td>\n",
       "      <td>0</td>\n",
       "      <td>0</td>\n",
       "      <td>0</td>\n",
       "      <td>0</td>\n",
       "      <td>0</td>\n",
       "      <td>0</td>\n",
       "      <td>0</td>\n",
       "      <td>0</td>\n",
       "      <td>...</td>\n",
       "      <td>0</td>\n",
       "      <td>0</td>\n",
       "      <td>0</td>\n",
       "      <td>0</td>\n",
       "      <td>0</td>\n",
       "      <td>2010</td>\n",
       "      <td>6</td>\n",
       "      <td>391.0</td>\n",
       "      <td>5.0</td>\n",
       "      <td>59069.0</td>\n",
       "    </tr>\n",
       "    <tr>\n",
       "      <td>6</td>\n",
       "      <td>6</td>\n",
       "      <td>6</td>\n",
       "      <td>0</td>\n",
       "      <td>0</td>\n",
       "      <td>0</td>\n",
       "      <td>0</td>\n",
       "      <td>0</td>\n",
       "      <td>0</td>\n",
       "      <td>0</td>\n",
       "      <td>0</td>\n",
       "      <td>...</td>\n",
       "      <td>0</td>\n",
       "      <td>0</td>\n",
       "      <td>0</td>\n",
       "      <td>0</td>\n",
       "      <td>0</td>\n",
       "      <td>2017</td>\n",
       "      <td>2</td>\n",
       "      <td>24.0</td>\n",
       "      <td>1.0</td>\n",
       "      <td>4982.0</td>\n",
       "    </tr>\n",
       "    <tr>\n",
       "      <td>...</td>\n",
       "      <td>...</td>\n",
       "      <td>...</td>\n",
       "      <td>...</td>\n",
       "      <td>...</td>\n",
       "      <td>...</td>\n",
       "      <td>...</td>\n",
       "      <td>...</td>\n",
       "      <td>...</td>\n",
       "      <td>...</td>\n",
       "      <td>...</td>\n",
       "      <td>...</td>\n",
       "      <td>...</td>\n",
       "      <td>...</td>\n",
       "      <td>...</td>\n",
       "      <td>...</td>\n",
       "      <td>...</td>\n",
       "      <td>...</td>\n",
       "      <td>...</td>\n",
       "      <td>...</td>\n",
       "      <td>...</td>\n",
       "      <td>...</td>\n",
       "    </tr>\n",
       "    <tr>\n",
       "      <td>707984</td>\n",
       "      <td>707984</td>\n",
       "      <td>707984</td>\n",
       "      <td>0</td>\n",
       "      <td>0</td>\n",
       "      <td>0</td>\n",
       "      <td>0</td>\n",
       "      <td>0</td>\n",
       "      <td>0</td>\n",
       "      <td>0</td>\n",
       "      <td>0</td>\n",
       "      <td>...</td>\n",
       "      <td>0</td>\n",
       "      <td>0</td>\n",
       "      <td>0</td>\n",
       "      <td>0</td>\n",
       "      <td>0</td>\n",
       "      <td>1999</td>\n",
       "      <td>12</td>\n",
       "      <td>2.0</td>\n",
       "      <td>1.0</td>\n",
       "      <td>243.0</td>\n",
       "    </tr>\n",
       "    <tr>\n",
       "      <td>707985</td>\n",
       "      <td>707985</td>\n",
       "      <td>707985</td>\n",
       "      <td>0</td>\n",
       "      <td>0</td>\n",
       "      <td>0</td>\n",
       "      <td>0</td>\n",
       "      <td>0</td>\n",
       "      <td>0</td>\n",
       "      <td>0</td>\n",
       "      <td>0</td>\n",
       "      <td>...</td>\n",
       "      <td>0</td>\n",
       "      <td>0</td>\n",
       "      <td>0</td>\n",
       "      <td>0</td>\n",
       "      <td>0</td>\n",
       "      <td>1986</td>\n",
       "      <td>0</td>\n",
       "      <td>11.0</td>\n",
       "      <td>4.0</td>\n",
       "      <td>4323.0</td>\n",
       "    </tr>\n",
       "    <tr>\n",
       "      <td>707986</td>\n",
       "      <td>707986</td>\n",
       "      <td>707986</td>\n",
       "      <td>1</td>\n",
       "      <td>1</td>\n",
       "      <td>0</td>\n",
       "      <td>0</td>\n",
       "      <td>0</td>\n",
       "      <td>1</td>\n",
       "      <td>0</td>\n",
       "      <td>0</td>\n",
       "      <td>...</td>\n",
       "      <td>0</td>\n",
       "      <td>0</td>\n",
       "      <td>0</td>\n",
       "      <td>0</td>\n",
       "      <td>0</td>\n",
       "      <td>2016</td>\n",
       "      <td>1</td>\n",
       "      <td>1123.0</td>\n",
       "      <td>11.0</td>\n",
       "      <td>162809.0</td>\n",
       "    </tr>\n",
       "    <tr>\n",
       "      <td>707987</td>\n",
       "      <td>707987</td>\n",
       "      <td>707987</td>\n",
       "      <td>0</td>\n",
       "      <td>0</td>\n",
       "      <td>0</td>\n",
       "      <td>0</td>\n",
       "      <td>0</td>\n",
       "      <td>0</td>\n",
       "      <td>0</td>\n",
       "      <td>0</td>\n",
       "      <td>...</td>\n",
       "      <td>0</td>\n",
       "      <td>0</td>\n",
       "      <td>0</td>\n",
       "      <td>0</td>\n",
       "      <td>0</td>\n",
       "      <td>2013</td>\n",
       "      <td>12</td>\n",
       "      <td>4.0</td>\n",
       "      <td>1.0</td>\n",
       "      <td>12775.0</td>\n",
       "    </tr>\n",
       "    <tr>\n",
       "      <td>707988</td>\n",
       "      <td>707988</td>\n",
       "      <td>707988</td>\n",
       "      <td>0</td>\n",
       "      <td>0</td>\n",
       "      <td>0</td>\n",
       "      <td>0</td>\n",
       "      <td>0</td>\n",
       "      <td>0</td>\n",
       "      <td>0</td>\n",
       "      <td>0</td>\n",
       "      <td>...</td>\n",
       "      <td>0</td>\n",
       "      <td>0</td>\n",
       "      <td>0</td>\n",
       "      <td>0</td>\n",
       "      <td>0</td>\n",
       "      <td>1998</td>\n",
       "      <td>0</td>\n",
       "      <td>4.0</td>\n",
       "      <td>1.0</td>\n",
       "      <td>8.0</td>\n",
       "    </tr>\n",
       "  </tbody>\n",
       "</table>\n",
       "<p>615142 rows × 256 columns</p>\n",
       "</div>"
      ],
      "text/plain": [
       "        Unnamed: 0      id  GN0100  GN0101  GN0102  GN0103  GN0104  GN0105  \\\n",
       "0                0       0       0       0       0       0       0       0   \n",
       "3                3       3       0       0       0       0       0       0   \n",
       "4                4       4       0       0       0       0       0       0   \n",
       "5                5       5       0       0       0       0       0       0   \n",
       "6                6       6       0       0       0       0       0       0   \n",
       "...            ...     ...     ...     ...     ...     ...     ...     ...   \n",
       "707984      707984  707984       0       0       0       0       0       0   \n",
       "707985      707985  707985       0       0       0       0       0       0   \n",
       "707986      707986  707986       1       1       0       0       0       1   \n",
       "707987      707987  707987       0       0       0       0       0       0   \n",
       "707988      707988  707988       0       0       0       0       0       0   \n",
       "\n",
       "        GN0200  GN0201  ...  GN2900  GN2901  GN2902  GN2903  GN9000  \\\n",
       "0            0       0  ...       0       0       0       0       0   \n",
       "3            0       0  ...       0       0       0       0       0   \n",
       "4            0       0  ...       0       0       0       0       0   \n",
       "5            0       0  ...       0       0       0       0       0   \n",
       "6            0       0  ...       0       0       0       0       0   \n",
       "...        ...     ...  ...     ...     ...     ...     ...     ...   \n",
       "707984       0       0  ...       0       0       0       0       0   \n",
       "707985       0       0  ...       0       0       0       0       0   \n",
       "707986       0       0  ...       0       0       0       0       0   \n",
       "707987       0       0  ...       0       0       0       0       0   \n",
       "707988       0       0  ...       0       0       0       0       0   \n",
       "\n",
       "        issue_year  issue_month  like_cnt  population  tag_score  \n",
       "0             2014            5      29.0         2.0    24176.0  \n",
       "3             2015           10    1686.0         8.0    79205.0  \n",
       "4             2011            8      39.0         2.0     3493.0  \n",
       "5             2010            6     391.0         5.0    59069.0  \n",
       "6             2017            2      24.0         1.0     4982.0  \n",
       "...            ...          ...       ...         ...        ...  \n",
       "707984        1999           12       2.0         1.0      243.0  \n",
       "707985        1986            0      11.0         4.0     4323.0  \n",
       "707986        2016            1    1123.0        11.0   162809.0  \n",
       "707987        2013           12       4.0         1.0    12775.0  \n",
       "707988        1998            0       4.0         1.0        8.0  \n",
       "\n",
       "[615142 rows x 256 columns]"
      ]
     },
     "execution_count": 11,
     "metadata": {},
     "output_type": "execute_result"
    }
   ],
   "source": [
    "df"
   ]
  },
  {
   "cell_type": "markdown",
   "metadata": {},
   "source": [
    "## 연도를 one-hot-encoding 진행"
   ]
  },
  {
   "cell_type": "code",
   "execution_count": 12,
   "metadata": {
    "ExecuteTime": {
     "end_time": "2020-05-24T06:42:56.662215Z",
     "start_time": "2020-05-24T06:42:54.993448Z"
    }
   },
   "outputs": [],
   "source": [
    "df[['issue_year','issue_month']] = df[['issue_year','issue_month']].apply(lambda x : [str(i) for i in x])"
   ]
  },
  {
   "cell_type": "code",
   "execution_count": 13,
   "metadata": {
    "ExecuteTime": {
     "end_time": "2020-05-24T06:42:57.191123Z",
     "start_time": "2020-05-24T06:42:56.665325Z"
    }
   },
   "outputs": [],
   "source": [
    "final_df_year_month_dummies = pd.get_dummies(df[['issue_year','issue_month']])"
   ]
  },
  {
   "cell_type": "code",
   "execution_count": 14,
   "metadata": {
    "ExecuteTime": {
     "end_time": "2020-05-24T06:42:57.265627Z",
     "start_time": "2020-05-24T06:42:57.192938Z"
    }
   },
   "outputs": [],
   "source": [
    "final_df_year_month_dummies.reset_index(inplace=True)\n",
    "final_df_year_month_dummies.rename(columns={'index':'id'},inplace=True)"
   ]
  },
  {
   "cell_type": "code",
   "execution_count": 15,
   "metadata": {
    "ExecuteTime": {
     "end_time": "2020-05-24T06:42:59.053475Z",
     "start_time": "2020-05-24T06:42:57.267515Z"
    }
   },
   "outputs": [],
   "source": [
    "final_df_one_hot = df[df.columns.difference(['issue_year','issue_month'])].merge(final_df_year_month_dummies, on='id')"
   ]
  },
  {
   "cell_type": "code",
   "execution_count": 16,
   "metadata": {
    "ExecuteTime": {
     "end_time": "2020-05-24T06:42:59.131391Z",
     "start_time": "2020-05-24T06:42:59.055296Z"
    }
   },
   "outputs": [
    {
     "data": {
      "text/html": [
       "<div>\n",
       "<style scoped>\n",
       "    .dataframe tbody tr th:only-of-type {\n",
       "        vertical-align: middle;\n",
       "    }\n",
       "\n",
       "    .dataframe tbody tr th {\n",
       "        vertical-align: top;\n",
       "    }\n",
       "\n",
       "    .dataframe thead th {\n",
       "        text-align: right;\n",
       "    }\n",
       "</style>\n",
       "<table border=\"1\" class=\"dataframe\">\n",
       "  <thead>\n",
       "    <tr style=\"text-align: right;\">\n",
       "      <th></th>\n",
       "      <th>GN0100</th>\n",
       "      <th>GN0101</th>\n",
       "      <th>GN0102</th>\n",
       "      <th>GN0103</th>\n",
       "      <th>GN0104</th>\n",
       "      <th>GN0105</th>\n",
       "      <th>GN0200</th>\n",
       "      <th>GN0201</th>\n",
       "      <th>GN0202</th>\n",
       "      <th>GN0203</th>\n",
       "      <th>...</th>\n",
       "      <th>issue_month_12</th>\n",
       "      <th>issue_month_2</th>\n",
       "      <th>issue_month_3</th>\n",
       "      <th>issue_month_4</th>\n",
       "      <th>issue_month_5</th>\n",
       "      <th>issue_month_51</th>\n",
       "      <th>issue_month_6</th>\n",
       "      <th>issue_month_7</th>\n",
       "      <th>issue_month_8</th>\n",
       "      <th>issue_month_9</th>\n",
       "    </tr>\n",
       "  </thead>\n",
       "  <tbody>\n",
       "    <tr>\n",
       "      <td>0</td>\n",
       "      <td>0</td>\n",
       "      <td>0</td>\n",
       "      <td>0</td>\n",
       "      <td>0</td>\n",
       "      <td>0</td>\n",
       "      <td>0</td>\n",
       "      <td>0</td>\n",
       "      <td>0</td>\n",
       "      <td>0</td>\n",
       "      <td>0</td>\n",
       "      <td>...</td>\n",
       "      <td>0</td>\n",
       "      <td>0</td>\n",
       "      <td>0</td>\n",
       "      <td>0</td>\n",
       "      <td>1</td>\n",
       "      <td>0</td>\n",
       "      <td>0</td>\n",
       "      <td>0</td>\n",
       "      <td>0</td>\n",
       "      <td>0</td>\n",
       "    </tr>\n",
       "    <tr>\n",
       "      <td>1</td>\n",
       "      <td>0</td>\n",
       "      <td>0</td>\n",
       "      <td>0</td>\n",
       "      <td>0</td>\n",
       "      <td>0</td>\n",
       "      <td>0</td>\n",
       "      <td>0</td>\n",
       "      <td>0</td>\n",
       "      <td>0</td>\n",
       "      <td>0</td>\n",
       "      <td>...</td>\n",
       "      <td>0</td>\n",
       "      <td>0</td>\n",
       "      <td>0</td>\n",
       "      <td>0</td>\n",
       "      <td>0</td>\n",
       "      <td>0</td>\n",
       "      <td>0</td>\n",
       "      <td>0</td>\n",
       "      <td>0</td>\n",
       "      <td>0</td>\n",
       "    </tr>\n",
       "    <tr>\n",
       "      <td>2</td>\n",
       "      <td>0</td>\n",
       "      <td>0</td>\n",
       "      <td>0</td>\n",
       "      <td>0</td>\n",
       "      <td>0</td>\n",
       "      <td>0</td>\n",
       "      <td>0</td>\n",
       "      <td>0</td>\n",
       "      <td>0</td>\n",
       "      <td>0</td>\n",
       "      <td>...</td>\n",
       "      <td>0</td>\n",
       "      <td>0</td>\n",
       "      <td>0</td>\n",
       "      <td>0</td>\n",
       "      <td>0</td>\n",
       "      <td>0</td>\n",
       "      <td>0</td>\n",
       "      <td>0</td>\n",
       "      <td>1</td>\n",
       "      <td>0</td>\n",
       "    </tr>\n",
       "    <tr>\n",
       "      <td>3</td>\n",
       "      <td>0</td>\n",
       "      <td>0</td>\n",
       "      <td>0</td>\n",
       "      <td>0</td>\n",
       "      <td>0</td>\n",
       "      <td>0</td>\n",
       "      <td>0</td>\n",
       "      <td>0</td>\n",
       "      <td>0</td>\n",
       "      <td>0</td>\n",
       "      <td>...</td>\n",
       "      <td>0</td>\n",
       "      <td>0</td>\n",
       "      <td>0</td>\n",
       "      <td>0</td>\n",
       "      <td>0</td>\n",
       "      <td>0</td>\n",
       "      <td>1</td>\n",
       "      <td>0</td>\n",
       "      <td>0</td>\n",
       "      <td>0</td>\n",
       "    </tr>\n",
       "    <tr>\n",
       "      <td>4</td>\n",
       "      <td>0</td>\n",
       "      <td>0</td>\n",
       "      <td>0</td>\n",
       "      <td>0</td>\n",
       "      <td>0</td>\n",
       "      <td>0</td>\n",
       "      <td>0</td>\n",
       "      <td>0</td>\n",
       "      <td>0</td>\n",
       "      <td>0</td>\n",
       "      <td>...</td>\n",
       "      <td>0</td>\n",
       "      <td>1</td>\n",
       "      <td>0</td>\n",
       "      <td>0</td>\n",
       "      <td>0</td>\n",
       "      <td>0</td>\n",
       "      <td>0</td>\n",
       "      <td>0</td>\n",
       "      <td>0</td>\n",
       "      <td>0</td>\n",
       "    </tr>\n",
       "    <tr>\n",
       "      <td>...</td>\n",
       "      <td>...</td>\n",
       "      <td>...</td>\n",
       "      <td>...</td>\n",
       "      <td>...</td>\n",
       "      <td>...</td>\n",
       "      <td>...</td>\n",
       "      <td>...</td>\n",
       "      <td>...</td>\n",
       "      <td>...</td>\n",
       "      <td>...</td>\n",
       "      <td>...</td>\n",
       "      <td>...</td>\n",
       "      <td>...</td>\n",
       "      <td>...</td>\n",
       "      <td>...</td>\n",
       "      <td>...</td>\n",
       "      <td>...</td>\n",
       "      <td>...</td>\n",
       "      <td>...</td>\n",
       "      <td>...</td>\n",
       "      <td>...</td>\n",
       "    </tr>\n",
       "    <tr>\n",
       "      <td>615137</td>\n",
       "      <td>0</td>\n",
       "      <td>0</td>\n",
       "      <td>0</td>\n",
       "      <td>0</td>\n",
       "      <td>0</td>\n",
       "      <td>0</td>\n",
       "      <td>0</td>\n",
       "      <td>0</td>\n",
       "      <td>0</td>\n",
       "      <td>0</td>\n",
       "      <td>...</td>\n",
       "      <td>1</td>\n",
       "      <td>0</td>\n",
       "      <td>0</td>\n",
       "      <td>0</td>\n",
       "      <td>0</td>\n",
       "      <td>0</td>\n",
       "      <td>0</td>\n",
       "      <td>0</td>\n",
       "      <td>0</td>\n",
       "      <td>0</td>\n",
       "    </tr>\n",
       "    <tr>\n",
       "      <td>615138</td>\n",
       "      <td>0</td>\n",
       "      <td>0</td>\n",
       "      <td>0</td>\n",
       "      <td>0</td>\n",
       "      <td>0</td>\n",
       "      <td>0</td>\n",
       "      <td>0</td>\n",
       "      <td>0</td>\n",
       "      <td>0</td>\n",
       "      <td>0</td>\n",
       "      <td>...</td>\n",
       "      <td>0</td>\n",
       "      <td>0</td>\n",
       "      <td>0</td>\n",
       "      <td>0</td>\n",
       "      <td>0</td>\n",
       "      <td>0</td>\n",
       "      <td>0</td>\n",
       "      <td>0</td>\n",
       "      <td>0</td>\n",
       "      <td>0</td>\n",
       "    </tr>\n",
       "    <tr>\n",
       "      <td>615139</td>\n",
       "      <td>1</td>\n",
       "      <td>1</td>\n",
       "      <td>0</td>\n",
       "      <td>0</td>\n",
       "      <td>0</td>\n",
       "      <td>1</td>\n",
       "      <td>0</td>\n",
       "      <td>0</td>\n",
       "      <td>0</td>\n",
       "      <td>0</td>\n",
       "      <td>...</td>\n",
       "      <td>0</td>\n",
       "      <td>0</td>\n",
       "      <td>0</td>\n",
       "      <td>0</td>\n",
       "      <td>0</td>\n",
       "      <td>0</td>\n",
       "      <td>0</td>\n",
       "      <td>0</td>\n",
       "      <td>0</td>\n",
       "      <td>0</td>\n",
       "    </tr>\n",
       "    <tr>\n",
       "      <td>615140</td>\n",
       "      <td>0</td>\n",
       "      <td>0</td>\n",
       "      <td>0</td>\n",
       "      <td>0</td>\n",
       "      <td>0</td>\n",
       "      <td>0</td>\n",
       "      <td>0</td>\n",
       "      <td>0</td>\n",
       "      <td>0</td>\n",
       "      <td>0</td>\n",
       "      <td>...</td>\n",
       "      <td>1</td>\n",
       "      <td>0</td>\n",
       "      <td>0</td>\n",
       "      <td>0</td>\n",
       "      <td>0</td>\n",
       "      <td>0</td>\n",
       "      <td>0</td>\n",
       "      <td>0</td>\n",
       "      <td>0</td>\n",
       "      <td>0</td>\n",
       "    </tr>\n",
       "    <tr>\n",
       "      <td>615141</td>\n",
       "      <td>0</td>\n",
       "      <td>0</td>\n",
       "      <td>0</td>\n",
       "      <td>0</td>\n",
       "      <td>0</td>\n",
       "      <td>0</td>\n",
       "      <td>0</td>\n",
       "      <td>0</td>\n",
       "      <td>0</td>\n",
       "      <td>0</td>\n",
       "      <td>...</td>\n",
       "      <td>0</td>\n",
       "      <td>0</td>\n",
       "      <td>0</td>\n",
       "      <td>0</td>\n",
       "      <td>0</td>\n",
       "      <td>0</td>\n",
       "      <td>0</td>\n",
       "      <td>0</td>\n",
       "      <td>0</td>\n",
       "      <td>0</td>\n",
       "    </tr>\n",
       "  </tbody>\n",
       "</table>\n",
       "<p>615142 rows × 352 columns</p>\n",
       "</div>"
      ],
      "text/plain": [
       "        GN0100  GN0101  GN0102  GN0103  GN0104  GN0105  GN0200  GN0201  \\\n",
       "0            0       0       0       0       0       0       0       0   \n",
       "1            0       0       0       0       0       0       0       0   \n",
       "2            0       0       0       0       0       0       0       0   \n",
       "3            0       0       0       0       0       0       0       0   \n",
       "4            0       0       0       0       0       0       0       0   \n",
       "...        ...     ...     ...     ...     ...     ...     ...     ...   \n",
       "615137       0       0       0       0       0       0       0       0   \n",
       "615138       0       0       0       0       0       0       0       0   \n",
       "615139       1       1       0       0       0       1       0       0   \n",
       "615140       0       0       0       0       0       0       0       0   \n",
       "615141       0       0       0       0       0       0       0       0   \n",
       "\n",
       "        GN0202  GN0203  ...  issue_month_12  issue_month_2  issue_month_3  \\\n",
       "0            0       0  ...               0              0              0   \n",
       "1            0       0  ...               0              0              0   \n",
       "2            0       0  ...               0              0              0   \n",
       "3            0       0  ...               0              0              0   \n",
       "4            0       0  ...               0              1              0   \n",
       "...        ...     ...  ...             ...            ...            ...   \n",
       "615137       0       0  ...               1              0              0   \n",
       "615138       0       0  ...               0              0              0   \n",
       "615139       0       0  ...               0              0              0   \n",
       "615140       0       0  ...               1              0              0   \n",
       "615141       0       0  ...               0              0              0   \n",
       "\n",
       "        issue_month_4  issue_month_5  issue_month_51  issue_month_6  \\\n",
       "0                   0              1               0              0   \n",
       "1                   0              0               0              0   \n",
       "2                   0              0               0              0   \n",
       "3                   0              0               0              1   \n",
       "4                   0              0               0              0   \n",
       "...               ...            ...             ...            ...   \n",
       "615137              0              0               0              0   \n",
       "615138              0              0               0              0   \n",
       "615139              0              0               0              0   \n",
       "615140              0              0               0              0   \n",
       "615141              0              0               0              0   \n",
       "\n",
       "        issue_month_7  issue_month_8  issue_month_9  \n",
       "0                   0              0              0  \n",
       "1                   0              0              0  \n",
       "2                   0              1              0  \n",
       "3                   0              0              0  \n",
       "4                   0              0              0  \n",
       "...               ...            ...            ...  \n",
       "615137              0              0              0  \n",
       "615138              0              0              0  \n",
       "615139              0              0              0  \n",
       "615140              0              0              0  \n",
       "615141              0              0              0  \n",
       "\n",
       "[615142 rows x 352 columns]"
      ]
     },
     "execution_count": 16,
     "metadata": {},
     "output_type": "execute_result"
    }
   ],
   "source": [
    "final_df_one_hot"
   ]
  },
  {
   "cell_type": "markdown",
   "metadata": {},
   "source": [
    "## id만 발라내기"
   ]
  },
  {
   "cell_type": "code",
   "execution_count": 17,
   "metadata": {
    "ExecuteTime": {
     "end_time": "2020-05-24T06:42:59.852348Z",
     "start_time": "2020-05-24T06:42:59.133702Z"
    }
   },
   "outputs": [],
   "source": [
    "final_df_no_id = final_df_one_hot[final_df_one_hot.columns.difference(['id'])]"
   ]
  },
  {
   "cell_type": "code",
   "execution_count": 18,
   "metadata": {
    "ExecuteTime": {
     "end_time": "2020-05-24T06:42:59.875313Z",
     "start_time": "2020-05-24T06:42:59.854824Z"
    }
   },
   "outputs": [
    {
     "data": {
      "text/html": [
       "<div>\n",
       "<style scoped>\n",
       "    .dataframe tbody tr th:only-of-type {\n",
       "        vertical-align: middle;\n",
       "    }\n",
       "\n",
       "    .dataframe tbody tr th {\n",
       "        vertical-align: top;\n",
       "    }\n",
       "\n",
       "    .dataframe thead th {\n",
       "        text-align: right;\n",
       "    }\n",
       "</style>\n",
       "<table border=\"1\" class=\"dataframe\">\n",
       "  <thead>\n",
       "    <tr style=\"text-align: right;\">\n",
       "      <th></th>\n",
       "      <th>population</th>\n",
       "      <th>like_cnt</th>\n",
       "      <th>tag_score</th>\n",
       "    </tr>\n",
       "  </thead>\n",
       "  <tbody>\n",
       "    <tr>\n",
       "      <td>0</td>\n",
       "      <td>2.0</td>\n",
       "      <td>29.0</td>\n",
       "      <td>24176.0</td>\n",
       "    </tr>\n",
       "    <tr>\n",
       "      <td>1</td>\n",
       "      <td>8.0</td>\n",
       "      <td>1686.0</td>\n",
       "      <td>79205.0</td>\n",
       "    </tr>\n",
       "    <tr>\n",
       "      <td>2</td>\n",
       "      <td>2.0</td>\n",
       "      <td>39.0</td>\n",
       "      <td>3493.0</td>\n",
       "    </tr>\n",
       "    <tr>\n",
       "      <td>3</td>\n",
       "      <td>5.0</td>\n",
       "      <td>391.0</td>\n",
       "      <td>59069.0</td>\n",
       "    </tr>\n",
       "    <tr>\n",
       "      <td>4</td>\n",
       "      <td>1.0</td>\n",
       "      <td>24.0</td>\n",
       "      <td>4982.0</td>\n",
       "    </tr>\n",
       "    <tr>\n",
       "      <td>...</td>\n",
       "      <td>...</td>\n",
       "      <td>...</td>\n",
       "      <td>...</td>\n",
       "    </tr>\n",
       "    <tr>\n",
       "      <td>615137</td>\n",
       "      <td>1.0</td>\n",
       "      <td>2.0</td>\n",
       "      <td>243.0</td>\n",
       "    </tr>\n",
       "    <tr>\n",
       "      <td>615138</td>\n",
       "      <td>4.0</td>\n",
       "      <td>11.0</td>\n",
       "      <td>4323.0</td>\n",
       "    </tr>\n",
       "    <tr>\n",
       "      <td>615139</td>\n",
       "      <td>11.0</td>\n",
       "      <td>1123.0</td>\n",
       "      <td>162809.0</td>\n",
       "    </tr>\n",
       "    <tr>\n",
       "      <td>615140</td>\n",
       "      <td>1.0</td>\n",
       "      <td>4.0</td>\n",
       "      <td>12775.0</td>\n",
       "    </tr>\n",
       "    <tr>\n",
       "      <td>615141</td>\n",
       "      <td>1.0</td>\n",
       "      <td>4.0</td>\n",
       "      <td>8.0</td>\n",
       "    </tr>\n",
       "  </tbody>\n",
       "</table>\n",
       "<p>615142 rows × 3 columns</p>\n",
       "</div>"
      ],
      "text/plain": [
       "        population  like_cnt  tag_score\n",
       "0              2.0      29.0    24176.0\n",
       "1              8.0    1686.0    79205.0\n",
       "2              2.0      39.0     3493.0\n",
       "3              5.0     391.0    59069.0\n",
       "4              1.0      24.0     4982.0\n",
       "...            ...       ...        ...\n",
       "615137         1.0       2.0      243.0\n",
       "615138         4.0      11.0     4323.0\n",
       "615139        11.0    1123.0   162809.0\n",
       "615140         1.0       4.0    12775.0\n",
       "615141         1.0       4.0        8.0\n",
       "\n",
       "[615142 rows x 3 columns]"
      ]
     },
     "execution_count": 18,
     "metadata": {},
     "output_type": "execute_result"
    }
   ],
   "source": [
    "final_df_no_id[['population','like_cnt','tag_score']]"
   ]
  },
  {
   "cell_type": "markdown",
   "metadata": {},
   "source": [
    "## 정규화"
   ]
  },
  {
   "cell_type": "code",
   "execution_count": 15,
   "metadata": {
    "ExecuteTime": {
     "end_time": "2020-05-23T00:13:44.416918Z",
     "start_time": "2020-05-23T00:13:43.886045Z"
    }
   },
   "outputs": [],
   "source": [
    "from sklearn.preprocessing import minmax_scale"
   ]
  },
  {
   "cell_type": "code",
   "execution_count": 16,
   "metadata": {
    "ExecuteTime": {
     "end_time": "2020-05-23T00:13:49.691096Z",
     "start_time": "2020-05-23T00:13:44.418685Z"
    }
   },
   "outputs": [],
   "source": [
    "MinMax_scaled = minmax_scale(final_df_no_id, axis=0, copy=True, )"
   ]
  },
  {
   "cell_type": "code",
   "execution_count": 17,
   "metadata": {
    "ExecuteTime": {
     "end_time": "2020-05-23T00:13:49.697825Z",
     "start_time": "2020-05-23T00:13:49.693440Z"
    }
   },
   "outputs": [],
   "source": [
    "df_for_KNN = pd.DataFrame(MinMax_scaled, columns = final_df_no_id.columns)"
   ]
  },
  {
   "cell_type": "code",
   "execution_count": 18,
   "metadata": {
    "ExecuteTime": {
     "end_time": "2020-05-23T00:13:49.715637Z",
     "start_time": "2020-05-23T00:13:49.700641Z"
    }
   },
   "outputs": [],
   "source": [
    "df_for_KNN['id'] = final_df_one_hot['id']"
   ]
  },
  {
   "cell_type": "code",
   "execution_count": 19,
   "metadata": {
    "ExecuteTime": {
     "end_time": "2020-05-23T00:13:49.906210Z",
     "start_time": "2020-05-23T00:13:49.718204Z"
    }
   },
   "outputs": [
    {
     "data": {
      "text/html": [
       "<div>\n",
       "<style scoped>\n",
       "    .dataframe tbody tr th:only-of-type {\n",
       "        vertical-align: middle;\n",
       "    }\n",
       "\n",
       "    .dataframe tbody tr th {\n",
       "        vertical-align: top;\n",
       "    }\n",
       "\n",
       "    .dataframe thead th {\n",
       "        text-align: right;\n",
       "    }\n",
       "</style>\n",
       "<table border=\"1\" class=\"dataframe\">\n",
       "  <thead>\n",
       "    <tr style=\"text-align: right;\">\n",
       "      <th></th>\n",
       "      <th>GN0100</th>\n",
       "      <th>GN0101</th>\n",
       "      <th>GN0102</th>\n",
       "      <th>GN0103</th>\n",
       "      <th>GN0104</th>\n",
       "      <th>GN0105</th>\n",
       "      <th>GN0200</th>\n",
       "      <th>GN0201</th>\n",
       "      <th>GN0202</th>\n",
       "      <th>GN0203</th>\n",
       "      <th>...</th>\n",
       "      <th>issue_year_2016</th>\n",
       "      <th>issue_year_2017</th>\n",
       "      <th>issue_year_2018</th>\n",
       "      <th>issue_year_2019</th>\n",
       "      <th>issue_year_2020</th>\n",
       "      <th>issue_year_2022</th>\n",
       "      <th>like_cnt</th>\n",
       "      <th>population</th>\n",
       "      <th>tag_score</th>\n",
       "      <th>id</th>\n",
       "    </tr>\n",
       "  </thead>\n",
       "  <tbody>\n",
       "    <tr>\n",
       "      <td>0</td>\n",
       "      <td>0.0</td>\n",
       "      <td>0.0</td>\n",
       "      <td>0.0</td>\n",
       "      <td>0.0</td>\n",
       "      <td>0.0</td>\n",
       "      <td>0.0</td>\n",
       "      <td>0.0</td>\n",
       "      <td>0.0</td>\n",
       "      <td>0.0</td>\n",
       "      <td>0.0</td>\n",
       "      <td>...</td>\n",
       "      <td>0.0</td>\n",
       "      <td>0.0</td>\n",
       "      <td>0.0</td>\n",
       "      <td>0.0</td>\n",
       "      <td>0.0</td>\n",
       "      <td>0.0</td>\n",
       "      <td>0.000089</td>\n",
       "      <td>0.00046</td>\n",
       "      <td>0.065164</td>\n",
       "      <td>0</td>\n",
       "    </tr>\n",
       "    <tr>\n",
       "      <td>1</td>\n",
       "      <td>0.0</td>\n",
       "      <td>0.0</td>\n",
       "      <td>0.0</td>\n",
       "      <td>0.0</td>\n",
       "      <td>0.0</td>\n",
       "      <td>0.0</td>\n",
       "      <td>0.0</td>\n",
       "      <td>0.0</td>\n",
       "      <td>0.0</td>\n",
       "      <td>0.0</td>\n",
       "      <td>...</td>\n",
       "      <td>0.0</td>\n",
       "      <td>0.0</td>\n",
       "      <td>0.0</td>\n",
       "      <td>0.0</td>\n",
       "      <td>0.0</td>\n",
       "      <td>0.0</td>\n",
       "      <td>0.005157</td>\n",
       "      <td>0.00322</td>\n",
       "      <td>0.213495</td>\n",
       "      <td>3</td>\n",
       "    </tr>\n",
       "    <tr>\n",
       "      <td>2</td>\n",
       "      <td>0.0</td>\n",
       "      <td>0.0</td>\n",
       "      <td>0.0</td>\n",
       "      <td>0.0</td>\n",
       "      <td>0.0</td>\n",
       "      <td>0.0</td>\n",
       "      <td>0.0</td>\n",
       "      <td>0.0</td>\n",
       "      <td>0.0</td>\n",
       "      <td>0.0</td>\n",
       "      <td>...</td>\n",
       "      <td>0.0</td>\n",
       "      <td>0.0</td>\n",
       "      <td>0.0</td>\n",
       "      <td>0.0</td>\n",
       "      <td>0.0</td>\n",
       "      <td>0.0</td>\n",
       "      <td>0.000119</td>\n",
       "      <td>0.00046</td>\n",
       "      <td>0.009413</td>\n",
       "      <td>4</td>\n",
       "    </tr>\n",
       "    <tr>\n",
       "      <td>3</td>\n",
       "      <td>0.0</td>\n",
       "      <td>0.0</td>\n",
       "      <td>0.0</td>\n",
       "      <td>0.0</td>\n",
       "      <td>0.0</td>\n",
       "      <td>0.0</td>\n",
       "      <td>0.0</td>\n",
       "      <td>0.0</td>\n",
       "      <td>0.0</td>\n",
       "      <td>0.0</td>\n",
       "      <td>...</td>\n",
       "      <td>0.0</td>\n",
       "      <td>0.0</td>\n",
       "      <td>0.0</td>\n",
       "      <td>0.0</td>\n",
       "      <td>0.0</td>\n",
       "      <td>0.0</td>\n",
       "      <td>0.001196</td>\n",
       "      <td>0.00184</td>\n",
       "      <td>0.159218</td>\n",
       "      <td>5</td>\n",
       "    </tr>\n",
       "    <tr>\n",
       "      <td>4</td>\n",
       "      <td>0.0</td>\n",
       "      <td>0.0</td>\n",
       "      <td>0.0</td>\n",
       "      <td>0.0</td>\n",
       "      <td>0.0</td>\n",
       "      <td>0.0</td>\n",
       "      <td>0.0</td>\n",
       "      <td>0.0</td>\n",
       "      <td>0.0</td>\n",
       "      <td>0.0</td>\n",
       "      <td>...</td>\n",
       "      <td>0.0</td>\n",
       "      <td>1.0</td>\n",
       "      <td>0.0</td>\n",
       "      <td>0.0</td>\n",
       "      <td>0.0</td>\n",
       "      <td>0.0</td>\n",
       "      <td>0.000073</td>\n",
       "      <td>0.00000</td>\n",
       "      <td>0.013426</td>\n",
       "      <td>6</td>\n",
       "    </tr>\n",
       "    <tr>\n",
       "      <td>...</td>\n",
       "      <td>...</td>\n",
       "      <td>...</td>\n",
       "      <td>...</td>\n",
       "      <td>...</td>\n",
       "      <td>...</td>\n",
       "      <td>...</td>\n",
       "      <td>...</td>\n",
       "      <td>...</td>\n",
       "      <td>...</td>\n",
       "      <td>...</td>\n",
       "      <td>...</td>\n",
       "      <td>...</td>\n",
       "      <td>...</td>\n",
       "      <td>...</td>\n",
       "      <td>...</td>\n",
       "      <td>...</td>\n",
       "      <td>...</td>\n",
       "      <td>...</td>\n",
       "      <td>...</td>\n",
       "      <td>...</td>\n",
       "      <td>...</td>\n",
       "    </tr>\n",
       "    <tr>\n",
       "      <td>615137</td>\n",
       "      <td>0.0</td>\n",
       "      <td>0.0</td>\n",
       "      <td>0.0</td>\n",
       "      <td>0.0</td>\n",
       "      <td>0.0</td>\n",
       "      <td>0.0</td>\n",
       "      <td>0.0</td>\n",
       "      <td>0.0</td>\n",
       "      <td>0.0</td>\n",
       "      <td>0.0</td>\n",
       "      <td>...</td>\n",
       "      <td>0.0</td>\n",
       "      <td>0.0</td>\n",
       "      <td>0.0</td>\n",
       "      <td>0.0</td>\n",
       "      <td>0.0</td>\n",
       "      <td>0.0</td>\n",
       "      <td>0.000006</td>\n",
       "      <td>0.00000</td>\n",
       "      <td>0.000652</td>\n",
       "      <td>707984</td>\n",
       "    </tr>\n",
       "    <tr>\n",
       "      <td>615138</td>\n",
       "      <td>0.0</td>\n",
       "      <td>0.0</td>\n",
       "      <td>0.0</td>\n",
       "      <td>0.0</td>\n",
       "      <td>0.0</td>\n",
       "      <td>0.0</td>\n",
       "      <td>0.0</td>\n",
       "      <td>0.0</td>\n",
       "      <td>0.0</td>\n",
       "      <td>0.0</td>\n",
       "      <td>...</td>\n",
       "      <td>0.0</td>\n",
       "      <td>0.0</td>\n",
       "      <td>0.0</td>\n",
       "      <td>0.0</td>\n",
       "      <td>0.0</td>\n",
       "      <td>0.0</td>\n",
       "      <td>0.000034</td>\n",
       "      <td>0.00138</td>\n",
       "      <td>0.011650</td>\n",
       "      <td>707985</td>\n",
       "    </tr>\n",
       "    <tr>\n",
       "      <td>615139</td>\n",
       "      <td>1.0</td>\n",
       "      <td>1.0</td>\n",
       "      <td>0.0</td>\n",
       "      <td>0.0</td>\n",
       "      <td>0.0</td>\n",
       "      <td>1.0</td>\n",
       "      <td>0.0</td>\n",
       "      <td>0.0</td>\n",
       "      <td>0.0</td>\n",
       "      <td>0.0</td>\n",
       "      <td>...</td>\n",
       "      <td>1.0</td>\n",
       "      <td>0.0</td>\n",
       "      <td>0.0</td>\n",
       "      <td>0.0</td>\n",
       "      <td>0.0</td>\n",
       "      <td>0.0</td>\n",
       "      <td>0.003435</td>\n",
       "      <td>0.00460</td>\n",
       "      <td>0.438850</td>\n",
       "      <td>707986</td>\n",
       "    </tr>\n",
       "    <tr>\n",
       "      <td>615140</td>\n",
       "      <td>0.0</td>\n",
       "      <td>0.0</td>\n",
       "      <td>0.0</td>\n",
       "      <td>0.0</td>\n",
       "      <td>0.0</td>\n",
       "      <td>0.0</td>\n",
       "      <td>0.0</td>\n",
       "      <td>0.0</td>\n",
       "      <td>0.0</td>\n",
       "      <td>0.0</td>\n",
       "      <td>...</td>\n",
       "      <td>0.0</td>\n",
       "      <td>0.0</td>\n",
       "      <td>0.0</td>\n",
       "      <td>0.0</td>\n",
       "      <td>0.0</td>\n",
       "      <td>0.0</td>\n",
       "      <td>0.000012</td>\n",
       "      <td>0.00000</td>\n",
       "      <td>0.034432</td>\n",
       "      <td>707987</td>\n",
       "    </tr>\n",
       "    <tr>\n",
       "      <td>615141</td>\n",
       "      <td>0.0</td>\n",
       "      <td>0.0</td>\n",
       "      <td>0.0</td>\n",
       "      <td>0.0</td>\n",
       "      <td>0.0</td>\n",
       "      <td>0.0</td>\n",
       "      <td>0.0</td>\n",
       "      <td>0.0</td>\n",
       "      <td>0.0</td>\n",
       "      <td>0.0</td>\n",
       "      <td>...</td>\n",
       "      <td>0.0</td>\n",
       "      <td>0.0</td>\n",
       "      <td>0.0</td>\n",
       "      <td>0.0</td>\n",
       "      <td>0.0</td>\n",
       "      <td>0.0</td>\n",
       "      <td>0.000012</td>\n",
       "      <td>0.00000</td>\n",
       "      <td>0.000019</td>\n",
       "      <td>707988</td>\n",
       "    </tr>\n",
       "  </tbody>\n",
       "</table>\n",
       "<p>615142 rows × 352 columns</p>\n",
       "</div>"
      ],
      "text/plain": [
       "        GN0100  GN0101  GN0102  GN0103  GN0104  GN0105  GN0200  GN0201  \\\n",
       "0          0.0     0.0     0.0     0.0     0.0     0.0     0.0     0.0   \n",
       "1          0.0     0.0     0.0     0.0     0.0     0.0     0.0     0.0   \n",
       "2          0.0     0.0     0.0     0.0     0.0     0.0     0.0     0.0   \n",
       "3          0.0     0.0     0.0     0.0     0.0     0.0     0.0     0.0   \n",
       "4          0.0     0.0     0.0     0.0     0.0     0.0     0.0     0.0   \n",
       "...        ...     ...     ...     ...     ...     ...     ...     ...   \n",
       "615137     0.0     0.0     0.0     0.0     0.0     0.0     0.0     0.0   \n",
       "615138     0.0     0.0     0.0     0.0     0.0     0.0     0.0     0.0   \n",
       "615139     1.0     1.0     0.0     0.0     0.0     1.0     0.0     0.0   \n",
       "615140     0.0     0.0     0.0     0.0     0.0     0.0     0.0     0.0   \n",
       "615141     0.0     0.0     0.0     0.0     0.0     0.0     0.0     0.0   \n",
       "\n",
       "        GN0202  GN0203  ...  issue_year_2016  issue_year_2017  \\\n",
       "0          0.0     0.0  ...              0.0              0.0   \n",
       "1          0.0     0.0  ...              0.0              0.0   \n",
       "2          0.0     0.0  ...              0.0              0.0   \n",
       "3          0.0     0.0  ...              0.0              0.0   \n",
       "4          0.0     0.0  ...              0.0              1.0   \n",
       "...        ...     ...  ...              ...              ...   \n",
       "615137     0.0     0.0  ...              0.0              0.0   \n",
       "615138     0.0     0.0  ...              0.0              0.0   \n",
       "615139     0.0     0.0  ...              1.0              0.0   \n",
       "615140     0.0     0.0  ...              0.0              0.0   \n",
       "615141     0.0     0.0  ...              0.0              0.0   \n",
       "\n",
       "        issue_year_2018  issue_year_2019  issue_year_2020  issue_year_2022  \\\n",
       "0                   0.0              0.0              0.0              0.0   \n",
       "1                   0.0              0.0              0.0              0.0   \n",
       "2                   0.0              0.0              0.0              0.0   \n",
       "3                   0.0              0.0              0.0              0.0   \n",
       "4                   0.0              0.0              0.0              0.0   \n",
       "...                 ...              ...              ...              ...   \n",
       "615137              0.0              0.0              0.0              0.0   \n",
       "615138              0.0              0.0              0.0              0.0   \n",
       "615139              0.0              0.0              0.0              0.0   \n",
       "615140              0.0              0.0              0.0              0.0   \n",
       "615141              0.0              0.0              0.0              0.0   \n",
       "\n",
       "        like_cnt  population  tag_score      id  \n",
       "0       0.000089     0.00046   0.065164       0  \n",
       "1       0.005157     0.00322   0.213495       3  \n",
       "2       0.000119     0.00046   0.009413       4  \n",
       "3       0.001196     0.00184   0.159218       5  \n",
       "4       0.000073     0.00000   0.013426       6  \n",
       "...          ...         ...        ...     ...  \n",
       "615137  0.000006     0.00000   0.000652  707984  \n",
       "615138  0.000034     0.00138   0.011650  707985  \n",
       "615139  0.003435     0.00460   0.438850  707986  \n",
       "615140  0.000012     0.00000   0.034432  707987  \n",
       "615141  0.000012     0.00000   0.000019  707988  \n",
       "\n",
       "[615142 rows x 352 columns]"
      ]
     },
     "execution_count": 19,
     "metadata": {},
     "output_type": "execute_result"
    }
   ],
   "source": [
    "df_for_KNN"
   ]
  },
  {
   "cell_type": "code",
   "execution_count": 20,
   "metadata": {
    "ExecuteTime": {
     "end_time": "2020-05-23T00:13:49.926110Z",
     "start_time": "2020-05-23T00:13:49.908596Z"
    },
    "scrolled": false
   },
   "outputs": [
    {
     "data": {
      "text/html": [
       "<div>\n",
       "<style scoped>\n",
       "    .dataframe tbody tr th:only-of-type {\n",
       "        vertical-align: middle;\n",
       "    }\n",
       "\n",
       "    .dataframe tbody tr th {\n",
       "        vertical-align: top;\n",
       "    }\n",
       "\n",
       "    .dataframe thead th {\n",
       "        text-align: right;\n",
       "    }\n",
       "</style>\n",
       "<table border=\"1\" class=\"dataframe\">\n",
       "  <thead>\n",
       "    <tr style=\"text-align: right;\">\n",
       "      <th></th>\n",
       "      <th>id</th>\n",
       "      <th>tags</th>\n",
       "    </tr>\n",
       "  </thead>\n",
       "  <tbody>\n",
       "    <tr>\n",
       "      <td>0</td>\n",
       "      <td>0</td>\n",
       "      <td>[비오는날, 드라이브, 비오는날, 추억, 회상]</td>\n",
       "    </tr>\n",
       "    <tr>\n",
       "      <td>1</td>\n",
       "      <td>3</td>\n",
       "      <td>[1, 감성, 듣기좋은, 드라이브, Pop, 여행, 기분전환, 팝, 신나는, 클럽,...</td>\n",
       "    </tr>\n",
       "    <tr>\n",
       "      <td>2</td>\n",
       "      <td>4</td>\n",
       "      <td>[뉴에이지, 뉴에이지]</td>\n",
       "    </tr>\n",
       "    <tr>\n",
       "      <td>3</td>\n",
       "      <td>5</td>\n",
       "      <td>[비오는날, 재즈, 락, 발라드, 휴식, 리메이크, 재즈, 힐링송, 힐링, 기분전환...</td>\n",
       "    </tr>\n",
       "    <tr>\n",
       "      <td>4</td>\n",
       "      <td>6</td>\n",
       "      <td>[클래식, 산책, 조깅]</td>\n",
       "    </tr>\n",
       "    <tr>\n",
       "      <td>...</td>\n",
       "      <td>...</td>\n",
       "      <td>...</td>\n",
       "    </tr>\n",
       "    <tr>\n",
       "      <td>615137</td>\n",
       "      <td>707984</td>\n",
       "      <td>[월드뮤직]</td>\n",
       "    </tr>\n",
       "    <tr>\n",
       "      <td>615138</td>\n",
       "      <td>707985</td>\n",
       "      <td>[Pop, 해외차트, 시대별차트, 신디로퍼, Pop, 1980, 라이벌, 록]</td>\n",
       "    </tr>\n",
       "    <tr>\n",
       "      <td>615139</td>\n",
       "      <td>707986</td>\n",
       "      <td>[힙합, 랩, 발라드, 감성, 리메이크곡, 카페, 잔잔한, 추억, 위로, 힐링, 사...</td>\n",
       "    </tr>\n",
       "    <tr>\n",
       "      <td>615140</td>\n",
       "      <td>707987</td>\n",
       "      <td>[집중, 노동요, 새벽, 오후, 자장가, 공부]</td>\n",
       "    </tr>\n",
       "    <tr>\n",
       "      <td>615141</td>\n",
       "      <td>707988</td>\n",
       "      <td>[데뷔24년, 김경호, 샤우팅의_지존]</td>\n",
       "    </tr>\n",
       "  </tbody>\n",
       "</table>\n",
       "<p>615142 rows × 2 columns</p>\n",
       "</div>"
      ],
      "text/plain": [
       "            id                                               tags\n",
       "0            0                         [비오는날, 드라이브, 비오는날, 추억, 회상]\n",
       "1            3  [1, 감성, 듣기좋은, 드라이브, Pop, 여행, 기분전환, 팝, 신나는, 클럽,...\n",
       "2            4                                       [뉴에이지, 뉴에이지]\n",
       "3            5  [비오는날, 재즈, 락, 발라드, 휴식, 리메이크, 재즈, 힐링송, 힐링, 기분전환...\n",
       "4            6                                      [클래식, 산책, 조깅]\n",
       "...        ...                                                ...\n",
       "615137  707984                                             [월드뮤직]\n",
       "615138  707985        [Pop, 해외차트, 시대별차트, 신디로퍼, Pop, 1980, 라이벌, 록]\n",
       "615139  707986  [힙합, 랩, 발라드, 감성, 리메이크곡, 카페, 잔잔한, 추억, 위로, 힐링, 사...\n",
       "615140  707987                         [집중, 노동요, 새벽, 오후, 자장가, 공부]\n",
       "615141  707988                              [데뷔24년, 김경호, 샤우팅의_지존]\n",
       "\n",
       "[615142 rows x 2 columns]"
      ]
     },
     "execution_count": 20,
     "metadata": {},
     "output_type": "execute_result"
    }
   ],
   "source": [
    "song_tag_df"
   ]
  },
  {
   "cell_type": "markdown",
   "metadata": {},
   "source": [
    "## 분석에 필요한 데이터 남기고"
   ]
  },
  {
   "cell_type": "code",
   "execution_count": 19,
   "metadata": {
    "ExecuteTime": {
     "end_time": "2020-05-24T06:42:59.881455Z",
     "start_time": "2020-05-24T06:42:59.877348Z"
    }
   },
   "outputs": [],
   "source": [
    "final_df_no_id['id'] = final_df_one_hot['id']"
   ]
  },
  {
   "cell_type": "code",
   "execution_count": 20,
   "metadata": {
    "ExecuteTime": {
     "end_time": "2020-05-24T06:43:00.998374Z",
     "start_time": "2020-05-24T06:42:59.883300Z"
    }
   },
   "outputs": [],
   "source": [
    "df = final_df_no_id.merge(song_tag_df,on='id')"
   ]
  },
  {
   "cell_type": "code",
   "execution_count": 21,
   "metadata": {
    "ExecuteTime": {
     "end_time": "2020-05-24T06:43:01.094325Z",
     "start_time": "2020-05-24T06:43:01.000171Z"
    }
   },
   "outputs": [],
   "source": [
    "# 메모리 위해 변수 삭제\n",
    "del raw_df"
   ]
  },
  {
   "cell_type": "markdown",
   "metadata": {},
   "source": [
    "## 10000개만 뽑아서 찾아보기"
   ]
  },
  {
   "cell_type": "code",
   "execution_count": 20,
   "metadata": {
    "ExecuteTime": {
     "end_time": "2020-05-23T06:36:44.481252Z",
     "start_time": "2020-05-23T06:36:42.650659Z"
    }
   },
   "outputs": [],
   "source": [
    "df_10000 = df.sample(10000)"
   ]
  },
  {
   "cell_type": "code",
   "execution_count": 21,
   "metadata": {
    "ExecuteTime": {
     "end_time": "2020-05-23T06:36:44.507138Z",
     "start_time": "2020-05-23T06:36:44.483330Z"
    }
   },
   "outputs": [],
   "source": [
    "df_10000 = df_10000.set_index(['id'])"
   ]
  },
  {
   "cell_type": "code",
   "execution_count": 22,
   "metadata": {
    "ExecuteTime": {
     "end_time": "2020-05-23T06:36:45.568247Z",
     "start_time": "2020-05-23T06:36:45.563191Z"
    }
   },
   "outputs": [],
   "source": [
    "y = list(df_10000.tags)"
   ]
  },
  {
   "cell_type": "markdown",
   "metadata": {},
   "source": [
    "## song- tag one-hot vector 만들기"
   ]
  },
  {
   "cell_type": "code",
   "execution_count": null,
   "metadata": {
    "ExecuteTime": {
     "end_time": "2020-05-24T06:40:41.117706Z",
     "start_time": "2020-05-24T06:40:17.330Z"
    }
   },
   "outputs": [],
   "source": [
    "from sklearn.preprocessing import MultiLabelBinarizer\n",
    "Y_mlb = MultiLabelBinarizer(sparse_output=True)\n",
    "Y_true = Y_mlb.fit_transform(y)"
   ]
  },
  {
   "cell_type": "code",
   "execution_count": null,
   "metadata": {
    "ExecuteTime": {
     "end_time": "2020-05-24T06:40:41.118702Z",
     "start_time": "2020-05-24T06:40:17.529Z"
    }
   },
   "outputs": [],
   "source": [
    "Y_true"
   ]
  },
  {
   "cell_type": "code",
   "execution_count": null,
   "metadata": {
    "ExecuteTime": {
     "end_time": "2020-05-24T06:40:41.119942Z",
     "start_time": "2020-05-24T06:40:17.729Z"
    }
   },
   "outputs": [],
   "source": [
    "kwd_classes = Y_mlb.classes_ # binarizer를 저장해두고, 이후에 classes_ 를 읽어서, 각 칼럼이 무슨 값인지를 확인해야 함.\n",
    "kwd_classes"
   ]
  },
  {
   "cell_type": "code",
   "execution_count": null,
   "metadata": {
    "ExecuteTime": {
     "end_time": "2020-05-24T06:40:41.121219Z",
     "start_time": "2020-05-24T06:40:18.809Z"
    }
   },
   "outputs": [],
   "source": [
    "X = df_10000[df_10000.columns.difference(['tags'])]"
   ]
  },
  {
   "cell_type": "code",
   "execution_count": null,
   "metadata": {
    "ExecuteTime": {
     "end_time": "2020-05-24T06:40:41.122540Z",
     "start_time": "2020-05-24T06:40:19.030Z"
    }
   },
   "outputs": [],
   "source": [
    "X"
   ]
  },
  {
   "cell_type": "code",
   "execution_count": null,
   "metadata": {
    "ExecuteTime": {
     "end_time": "2020-05-24T06:40:41.123676Z",
     "start_time": "2020-05-24T06:40:20.377Z"
    }
   },
   "outputs": [],
   "source": [
    "from sklearn.model_selection import train_test_split\n",
    "X_train, X_test, y_train, y_test= train_test_split(X.values, Y_true)\n",
    "print(X_train.shape)\n",
    "print(y_train.shape)\n",
    "print(X_test.shape)\n",
    "print(y_test.shape)"
   ]
  },
  {
   "cell_type": "markdown",
   "metadata": {},
   "source": [
    "## MLPClassifier를 튜닝해야 합니다\n",
    "- Multi-Output Classification가 저희가 만들어 내야할 모델입니다\n",
    "- tensorflow에서 구현하는 방향으로 가면 디테일하게 튜닝해볼수 있을것 같습니다.\n",
    "- 예를들어 지금 이모델은 0,1만 뱉어내는 모델이기 때문에, 최종적으로 sigmoid 함수로 0~1사이의 값을 뱉어내개 해야 합니다.\n",
    "- 지금 MLPClassifier에서는 그방법을 모르겠고, Tensorflow에서 그 기능을 구현하는 방향으로 진행해야 합니다."
   ]
  },
  {
   "cell_type": "code",
   "execution_count": 33,
   "metadata": {
    "ExecuteTime": {
     "end_time": "2020-05-23T00:14:04.028151Z",
     "start_time": "2020-05-23T00:14:04.025727Z"
    }
   },
   "outputs": [],
   "source": [
    "## 모델링"
   ]
  },
  {
   "cell_type": "code",
   "execution_count": 36,
   "metadata": {
    "ExecuteTime": {
     "end_time": "2020-05-23T00:28:56.877274Z",
     "start_time": "2020-05-23T00:16:48.414385Z"
    }
   },
   "outputs": [],
   "source": [
    "from sklearn.neural_network import MLPClassifier\n",
    "mlp_multilabel = MLPClassifier(\n",
    "    hidden_layer_sizes=(300,100), \n",
    "    max_iter=10000, \n",
    "    activation=' ' ,\n",
    "    random_state=42).fit(X_train, y_train)"
   ]
  },
  {
   "cell_type": "code",
   "execution_count": 37,
   "metadata": {
    "ExecuteTime": {
     "end_time": "2020-05-23T00:28:58.718477Z",
     "start_time": "2020-05-23T00:28:58.662388Z"
    }
   },
   "outputs": [
    {
     "data": {
      "text/plain": [
       "0.424"
      ]
     },
     "execution_count": 37,
     "metadata": {},
     "output_type": "execute_result"
    }
   ],
   "source": [
    "Y_pred = mlp_multilabel.predict(X_test)\n",
    "Y_pred = Y_pred.toarray()\n",
    "y_test = y_test.toarray()\n",
    "\n",
    "# \n",
    "np.sum(np.sum(y_test.astype(int) & Y_pred, axis=1) > 0) / y_test.shape[0]"
   ]
  },
  {
   "cell_type": "code",
   "execution_count": 40,
   "metadata": {
    "ExecuteTime": {
     "end_time": "2020-05-23T00:29:17.568883Z",
     "start_time": "2020-05-23T00:29:17.542850Z"
    }
   },
   "outputs": [
    {
     "data": {
      "text/html": [
       "<div>\n",
       "<style scoped>\n",
       "    .dataframe tbody tr th:only-of-type {\n",
       "        vertical-align: middle;\n",
       "    }\n",
       "\n",
       "    .dataframe tbody tr th {\n",
       "        vertical-align: top;\n",
       "    }\n",
       "\n",
       "    .dataframe thead th {\n",
       "        text-align: right;\n",
       "    }\n",
       "</style>\n",
       "<table border=\"1\" class=\"dataframe\">\n",
       "  <thead>\n",
       "    <tr style=\"text-align: right;\">\n",
       "      <th></th>\n",
       "      <th>GN0100</th>\n",
       "      <th>GN0101</th>\n",
       "      <th>GN0102</th>\n",
       "      <th>GN0103</th>\n",
       "      <th>GN0104</th>\n",
       "      <th>GN0105</th>\n",
       "      <th>GN0200</th>\n",
       "      <th>GN0201</th>\n",
       "      <th>GN0202</th>\n",
       "      <th>GN0203</th>\n",
       "      <th>...</th>\n",
       "      <th>issue_year_2015</th>\n",
       "      <th>issue_year_2016</th>\n",
       "      <th>issue_year_2017</th>\n",
       "      <th>issue_year_2018</th>\n",
       "      <th>issue_year_2019</th>\n",
       "      <th>issue_year_2020</th>\n",
       "      <th>issue_year_2022</th>\n",
       "      <th>like_cnt</th>\n",
       "      <th>population</th>\n",
       "      <th>tag_score</th>\n",
       "    </tr>\n",
       "    <tr>\n",
       "      <th>id</th>\n",
       "      <th></th>\n",
       "      <th></th>\n",
       "      <th></th>\n",
       "      <th></th>\n",
       "      <th></th>\n",
       "      <th></th>\n",
       "      <th></th>\n",
       "      <th></th>\n",
       "      <th></th>\n",
       "      <th></th>\n",
       "      <th></th>\n",
       "      <th></th>\n",
       "      <th></th>\n",
       "      <th></th>\n",
       "      <th></th>\n",
       "      <th></th>\n",
       "      <th></th>\n",
       "      <th></th>\n",
       "      <th></th>\n",
       "      <th></th>\n",
       "      <th></th>\n",
       "    </tr>\n",
       "  </thead>\n",
       "  <tbody>\n",
       "    <tr>\n",
       "      <td>27530</td>\n",
       "      <td>1.0</td>\n",
       "      <td>1.0</td>\n",
       "      <td>0.0</td>\n",
       "      <td>0.0</td>\n",
       "      <td>0.0</td>\n",
       "      <td>0.0</td>\n",
       "      <td>0.0</td>\n",
       "      <td>0.0</td>\n",
       "      <td>0.0</td>\n",
       "      <td>0.0</td>\n",
       "      <td>...</td>\n",
       "      <td>0.0</td>\n",
       "      <td>1.0</td>\n",
       "      <td>0.0</td>\n",
       "      <td>0.0</td>\n",
       "      <td>0.0</td>\n",
       "      <td>0.0</td>\n",
       "      <td>0.0</td>\n",
       "      <td>0.000043</td>\n",
       "      <td>0.000000</td>\n",
       "      <td>0.031117</td>\n",
       "    </tr>\n",
       "    <tr>\n",
       "      <td>381934</td>\n",
       "      <td>0.0</td>\n",
       "      <td>0.0</td>\n",
       "      <td>0.0</td>\n",
       "      <td>0.0</td>\n",
       "      <td>0.0</td>\n",
       "      <td>0.0</td>\n",
       "      <td>0.0</td>\n",
       "      <td>0.0</td>\n",
       "      <td>0.0</td>\n",
       "      <td>0.0</td>\n",
       "      <td>...</td>\n",
       "      <td>0.0</td>\n",
       "      <td>0.0</td>\n",
       "      <td>0.0</td>\n",
       "      <td>0.0</td>\n",
       "      <td>0.0</td>\n",
       "      <td>0.0</td>\n",
       "      <td>0.0</td>\n",
       "      <td>0.000031</td>\n",
       "      <td>0.001840</td>\n",
       "      <td>0.080628</td>\n",
       "    </tr>\n",
       "    <tr>\n",
       "      <td>682893</td>\n",
       "      <td>0.0</td>\n",
       "      <td>0.0</td>\n",
       "      <td>0.0</td>\n",
       "      <td>0.0</td>\n",
       "      <td>0.0</td>\n",
       "      <td>0.0</td>\n",
       "      <td>0.0</td>\n",
       "      <td>0.0</td>\n",
       "      <td>0.0</td>\n",
       "      <td>0.0</td>\n",
       "      <td>...</td>\n",
       "      <td>0.0</td>\n",
       "      <td>1.0</td>\n",
       "      <td>0.0</td>\n",
       "      <td>0.0</td>\n",
       "      <td>0.0</td>\n",
       "      <td>0.0</td>\n",
       "      <td>0.0</td>\n",
       "      <td>0.000058</td>\n",
       "      <td>0.000460</td>\n",
       "      <td>0.026656</td>\n",
       "    </tr>\n",
       "    <tr>\n",
       "      <td>54407</td>\n",
       "      <td>0.0</td>\n",
       "      <td>0.0</td>\n",
       "      <td>0.0</td>\n",
       "      <td>0.0</td>\n",
       "      <td>0.0</td>\n",
       "      <td>0.0</td>\n",
       "      <td>0.0</td>\n",
       "      <td>0.0</td>\n",
       "      <td>0.0</td>\n",
       "      <td>0.0</td>\n",
       "      <td>...</td>\n",
       "      <td>0.0</td>\n",
       "      <td>0.0</td>\n",
       "      <td>0.0</td>\n",
       "      <td>1.0</td>\n",
       "      <td>0.0</td>\n",
       "      <td>0.0</td>\n",
       "      <td>0.0</td>\n",
       "      <td>0.000018</td>\n",
       "      <td>0.000000</td>\n",
       "      <td>0.172717</td>\n",
       "    </tr>\n",
       "    <tr>\n",
       "      <td>58804</td>\n",
       "      <td>0.0</td>\n",
       "      <td>0.0</td>\n",
       "      <td>0.0</td>\n",
       "      <td>0.0</td>\n",
       "      <td>0.0</td>\n",
       "      <td>0.0</td>\n",
       "      <td>0.0</td>\n",
       "      <td>0.0</td>\n",
       "      <td>0.0</td>\n",
       "      <td>0.0</td>\n",
       "      <td>...</td>\n",
       "      <td>0.0</td>\n",
       "      <td>0.0</td>\n",
       "      <td>0.0</td>\n",
       "      <td>0.0</td>\n",
       "      <td>0.0</td>\n",
       "      <td>0.0</td>\n",
       "      <td>0.0</td>\n",
       "      <td>0.000560</td>\n",
       "      <td>0.000920</td>\n",
       "      <td>0.006914</td>\n",
       "    </tr>\n",
       "    <tr>\n",
       "      <td>...</td>\n",
       "      <td>...</td>\n",
       "      <td>...</td>\n",
       "      <td>...</td>\n",
       "      <td>...</td>\n",
       "      <td>...</td>\n",
       "      <td>...</td>\n",
       "      <td>...</td>\n",
       "      <td>...</td>\n",
       "      <td>...</td>\n",
       "      <td>...</td>\n",
       "      <td>...</td>\n",
       "      <td>...</td>\n",
       "      <td>...</td>\n",
       "      <td>...</td>\n",
       "      <td>...</td>\n",
       "      <td>...</td>\n",
       "      <td>...</td>\n",
       "      <td>...</td>\n",
       "      <td>...</td>\n",
       "      <td>...</td>\n",
       "      <td>...</td>\n",
       "    </tr>\n",
       "    <tr>\n",
       "      <td>247224</td>\n",
       "      <td>0.0</td>\n",
       "      <td>0.0</td>\n",
       "      <td>0.0</td>\n",
       "      <td>0.0</td>\n",
       "      <td>0.0</td>\n",
       "      <td>0.0</td>\n",
       "      <td>1.0</td>\n",
       "      <td>1.0</td>\n",
       "      <td>0.0</td>\n",
       "      <td>0.0</td>\n",
       "      <td>...</td>\n",
       "      <td>0.0</td>\n",
       "      <td>0.0</td>\n",
       "      <td>0.0</td>\n",
       "      <td>0.0</td>\n",
       "      <td>0.0</td>\n",
       "      <td>0.0</td>\n",
       "      <td>0.0</td>\n",
       "      <td>0.000113</td>\n",
       "      <td>0.000000</td>\n",
       "      <td>0.008874</td>\n",
       "    </tr>\n",
       "    <tr>\n",
       "      <td>626388</td>\n",
       "      <td>0.0</td>\n",
       "      <td>0.0</td>\n",
       "      <td>0.0</td>\n",
       "      <td>0.0</td>\n",
       "      <td>0.0</td>\n",
       "      <td>0.0</td>\n",
       "      <td>0.0</td>\n",
       "      <td>0.0</td>\n",
       "      <td>0.0</td>\n",
       "      <td>0.0</td>\n",
       "      <td>...</td>\n",
       "      <td>0.0</td>\n",
       "      <td>0.0</td>\n",
       "      <td>0.0</td>\n",
       "      <td>0.0</td>\n",
       "      <td>0.0</td>\n",
       "      <td>0.0</td>\n",
       "      <td>0.0</td>\n",
       "      <td>0.000009</td>\n",
       "      <td>0.000000</td>\n",
       "      <td>0.113551</td>\n",
       "    </tr>\n",
       "    <tr>\n",
       "      <td>123738</td>\n",
       "      <td>0.0</td>\n",
       "      <td>0.0</td>\n",
       "      <td>0.0</td>\n",
       "      <td>0.0</td>\n",
       "      <td>0.0</td>\n",
       "      <td>0.0</td>\n",
       "      <td>0.0</td>\n",
       "      <td>0.0</td>\n",
       "      <td>0.0</td>\n",
       "      <td>0.0</td>\n",
       "      <td>...</td>\n",
       "      <td>0.0</td>\n",
       "      <td>0.0</td>\n",
       "      <td>0.0</td>\n",
       "      <td>0.0</td>\n",
       "      <td>0.0</td>\n",
       "      <td>0.0</td>\n",
       "      <td>0.0</td>\n",
       "      <td>0.007806</td>\n",
       "      <td>0.012879</td>\n",
       "      <td>0.354480</td>\n",
       "    </tr>\n",
       "    <tr>\n",
       "      <td>473222</td>\n",
       "      <td>0.0</td>\n",
       "      <td>0.0</td>\n",
       "      <td>0.0</td>\n",
       "      <td>0.0</td>\n",
       "      <td>0.0</td>\n",
       "      <td>0.0</td>\n",
       "      <td>0.0</td>\n",
       "      <td>0.0</td>\n",
       "      <td>0.0</td>\n",
       "      <td>0.0</td>\n",
       "      <td>...</td>\n",
       "      <td>0.0</td>\n",
       "      <td>0.0</td>\n",
       "      <td>0.0</td>\n",
       "      <td>0.0</td>\n",
       "      <td>0.0</td>\n",
       "      <td>0.0</td>\n",
       "      <td>0.0</td>\n",
       "      <td>0.000000</td>\n",
       "      <td>0.000000</td>\n",
       "      <td>0.011337</td>\n",
       "    </tr>\n",
       "    <tr>\n",
       "      <td>20839</td>\n",
       "      <td>1.0</td>\n",
       "      <td>1.0</td>\n",
       "      <td>0.0</td>\n",
       "      <td>0.0</td>\n",
       "      <td>0.0</td>\n",
       "      <td>1.0</td>\n",
       "      <td>0.0</td>\n",
       "      <td>0.0</td>\n",
       "      <td>0.0</td>\n",
       "      <td>0.0</td>\n",
       "      <td>...</td>\n",
       "      <td>0.0</td>\n",
       "      <td>1.0</td>\n",
       "      <td>0.0</td>\n",
       "      <td>0.0</td>\n",
       "      <td>0.0</td>\n",
       "      <td>0.0</td>\n",
       "      <td>0.0</td>\n",
       "      <td>0.000015</td>\n",
       "      <td>0.000000</td>\n",
       "      <td>0.000011</td>\n",
       "    </tr>\n",
       "  </tbody>\n",
       "</table>\n",
       "<p>250 rows × 351 columns</p>\n",
       "</div>"
      ],
      "text/plain": [
       "        GN0100  GN0101  GN0102  GN0103  GN0104  GN0105  GN0200  GN0201  \\\n",
       "id                                                                       \n",
       "27530      1.0     1.0     0.0     0.0     0.0     0.0     0.0     0.0   \n",
       "381934     0.0     0.0     0.0     0.0     0.0     0.0     0.0     0.0   \n",
       "682893     0.0     0.0     0.0     0.0     0.0     0.0     0.0     0.0   \n",
       "54407      0.0     0.0     0.0     0.0     0.0     0.0     0.0     0.0   \n",
       "58804      0.0     0.0     0.0     0.0     0.0     0.0     0.0     0.0   \n",
       "...        ...     ...     ...     ...     ...     ...     ...     ...   \n",
       "247224     0.0     0.0     0.0     0.0     0.0     0.0     1.0     1.0   \n",
       "626388     0.0     0.0     0.0     0.0     0.0     0.0     0.0     0.0   \n",
       "123738     0.0     0.0     0.0     0.0     0.0     0.0     0.0     0.0   \n",
       "473222     0.0     0.0     0.0     0.0     0.0     0.0     0.0     0.0   \n",
       "20839      1.0     1.0     0.0     0.0     0.0     1.0     0.0     0.0   \n",
       "\n",
       "        GN0202  GN0203  ...  issue_year_2015  issue_year_2016  \\\n",
       "id                      ...                                     \n",
       "27530      0.0     0.0  ...              0.0              1.0   \n",
       "381934     0.0     0.0  ...              0.0              0.0   \n",
       "682893     0.0     0.0  ...              0.0              1.0   \n",
       "54407      0.0     0.0  ...              0.0              0.0   \n",
       "58804      0.0     0.0  ...              0.0              0.0   \n",
       "...        ...     ...  ...              ...              ...   \n",
       "247224     0.0     0.0  ...              0.0              0.0   \n",
       "626388     0.0     0.0  ...              0.0              0.0   \n",
       "123738     0.0     0.0  ...              0.0              0.0   \n",
       "473222     0.0     0.0  ...              0.0              0.0   \n",
       "20839      0.0     0.0  ...              0.0              1.0   \n",
       "\n",
       "        issue_year_2017  issue_year_2018  issue_year_2019  issue_year_2020  \\\n",
       "id                                                                           \n",
       "27530               0.0              0.0              0.0              0.0   \n",
       "381934              0.0              0.0              0.0              0.0   \n",
       "682893              0.0              0.0              0.0              0.0   \n",
       "54407               0.0              1.0              0.0              0.0   \n",
       "58804               0.0              0.0              0.0              0.0   \n",
       "...                 ...              ...              ...              ...   \n",
       "247224              0.0              0.0              0.0              0.0   \n",
       "626388              0.0              0.0              0.0              0.0   \n",
       "123738              0.0              0.0              0.0              0.0   \n",
       "473222              0.0              0.0              0.0              0.0   \n",
       "20839               0.0              0.0              0.0              0.0   \n",
       "\n",
       "        issue_year_2022  like_cnt  population  tag_score  \n",
       "id                                                        \n",
       "27530               0.0  0.000043    0.000000   0.031117  \n",
       "381934              0.0  0.000031    0.001840   0.080628  \n",
       "682893              0.0  0.000058    0.000460   0.026656  \n",
       "54407               0.0  0.000018    0.000000   0.172717  \n",
       "58804               0.0  0.000560    0.000920   0.006914  \n",
       "...                 ...       ...         ...        ...  \n",
       "247224              0.0  0.000113    0.000000   0.008874  \n",
       "626388              0.0  0.000009    0.000000   0.113551  \n",
       "123738              0.0  0.007806    0.012879   0.354480  \n",
       "473222              0.0  0.000000    0.000000   0.011337  \n",
       "20839               0.0  0.000015    0.000000   0.000011  \n",
       "\n",
       "[250 rows x 351 columns]"
      ]
     },
     "execution_count": 40,
     "metadata": {},
     "output_type": "execute_result"
    }
   ],
   "source": [
    "X_test"
   ]
  },
  {
   "cell_type": "markdown",
   "metadata": {
    "ExecuteTime": {
     "end_time": "2020-05-22T12:09:50.144581Z",
     "start_time": "2020-05-22T12:09:50.142487Z"
    }
   },
   "source": [
    "## 결과 확인을 위한 작업"
   ]
  },
  {
   "cell_type": "code",
   "execution_count": 41,
   "metadata": {
    "ExecuteTime": {
     "end_time": "2020-05-23T00:29:19.682322Z",
     "start_time": "2020-05-23T00:29:19.636016Z"
    }
   },
   "outputs": [],
   "source": [
    "result_df = pd.DataFrame(Y_pred, columns=kwd_classes)\n",
    "result_df = result_df.merge(pd.DataFrame(X_test.index),on=result_df.index)\n",
    "result_df = result_df.drop('key_0',axis=1).set_index(['id'])"
   ]
  },
  {
   "cell_type": "code",
   "execution_count": 42,
   "metadata": {
    "ExecuteTime": {
     "end_time": "2020-05-23T00:29:20.096219Z",
     "start_time": "2020-05-23T00:29:20.092403Z"
    }
   },
   "outputs": [
    {
     "data": {
      "text/plain": [
       "Int64Index([ 27530, 381934, 682893,  54407,  58804, 210040, 632155, 216933,\n",
       "            201886, 206127,\n",
       "            ...\n",
       "            246008,  50473,  74775, 127757, 422372, 247224, 626388, 123738,\n",
       "            473222,  20839],\n",
       "           dtype='int64', name='id', length=250)"
      ]
     },
     "execution_count": 42,
     "metadata": {},
     "output_type": "execute_result"
    }
   ],
   "source": [
    "result_df.index"
   ]
  },
  {
   "cell_type": "markdown",
   "metadata": {},
   "source": [
    "## 결과 학인 함수 설정"
   ]
  },
  {
   "cell_type": "code",
   "execution_count": 43,
   "metadata": {
    "ExecuteTime": {
     "end_time": "2020-05-23T00:29:21.868930Z",
     "start_time": "2020-05-23T00:29:21.865671Z"
    }
   },
   "outputs": [],
   "source": [
    "def get_tags(ls):\n",
    "    result_ls = []\n",
    "    for i in ls:\n",
    "        result_ls.append(result_df.loc[i][result_df.loc[i] > 0])\n",
    "    return result_ls"
   ]
  },
  {
   "cell_type": "code",
   "execution_count": 44,
   "metadata": {
    "ExecuteTime": {
     "end_time": "2020-05-23T00:29:23.092654Z",
     "start_time": "2020-05-23T00:29:22.813608Z"
    }
   },
   "outputs": [
    {
     "data": {
      "text/html": [
       "<div>\n",
       "<style scoped>\n",
       "    .dataframe tbody tr th:only-of-type {\n",
       "        vertical-align: middle;\n",
       "    }\n",
       "\n",
       "    .dataframe tbody tr th {\n",
       "        vertical-align: top;\n",
       "    }\n",
       "\n",
       "    .dataframe thead th {\n",
       "        text-align: right;\n",
       "    }\n",
       "</style>\n",
       "<table border=\"1\" class=\"dataframe\">\n",
       "  <thead>\n",
       "    <tr style=\"text-align: right;\">\n",
       "      <th></th>\n",
       "      <th>락</th>\n",
       "      <th>뉴에이지</th>\n",
       "      <th>비오는날</th>\n",
       "      <th>재즈</th>\n",
       "      <th>휴식</th>\n",
       "      <th>팝</th>\n",
       "      <th>2000년대</th>\n",
       "      <th>OST</th>\n",
       "      <th>가을</th>\n",
       "      <th>감성</th>\n",
       "      <th>...</th>\n",
       "      <th>퇴근</th>\n",
       "      <th>트롯</th>\n",
       "      <th>펭수</th>\n",
       "      <th>한잔해</th>\n",
       "      <th>향수</th>\n",
       "      <th>홍자</th>\n",
       "      <th>홍진영</th>\n",
       "      <th>흥겨운</th>\n",
       "      <th>히트곡</th>\n",
       "      <th>힘들때</th>\n",
       "    </tr>\n",
       "  </thead>\n",
       "  <tbody>\n",
       "    <tr>\n",
       "      <td>27530</td>\n",
       "      <td>1.0</td>\n",
       "      <td>NaN</td>\n",
       "      <td>NaN</td>\n",
       "      <td>NaN</td>\n",
       "      <td>NaN</td>\n",
       "      <td>NaN</td>\n",
       "      <td>NaN</td>\n",
       "      <td>NaN</td>\n",
       "      <td>NaN</td>\n",
       "      <td>NaN</td>\n",
       "      <td>...</td>\n",
       "      <td>NaN</td>\n",
       "      <td>NaN</td>\n",
       "      <td>NaN</td>\n",
       "      <td>NaN</td>\n",
       "      <td>NaN</td>\n",
       "      <td>NaN</td>\n",
       "      <td>NaN</td>\n",
       "      <td>NaN</td>\n",
       "      <td>NaN</td>\n",
       "      <td>NaN</td>\n",
       "    </tr>\n",
       "    <tr>\n",
       "      <td>381934</td>\n",
       "      <td>NaN</td>\n",
       "      <td>NaN</td>\n",
       "      <td>NaN</td>\n",
       "      <td>NaN</td>\n",
       "      <td>NaN</td>\n",
       "      <td>NaN</td>\n",
       "      <td>NaN</td>\n",
       "      <td>NaN</td>\n",
       "      <td>NaN</td>\n",
       "      <td>NaN</td>\n",
       "      <td>...</td>\n",
       "      <td>NaN</td>\n",
       "      <td>NaN</td>\n",
       "      <td>NaN</td>\n",
       "      <td>NaN</td>\n",
       "      <td>NaN</td>\n",
       "      <td>NaN</td>\n",
       "      <td>NaN</td>\n",
       "      <td>NaN</td>\n",
       "      <td>NaN</td>\n",
       "      <td>NaN</td>\n",
       "    </tr>\n",
       "    <tr>\n",
       "      <td>682893</td>\n",
       "      <td>NaN</td>\n",
       "      <td>NaN</td>\n",
       "      <td>NaN</td>\n",
       "      <td>NaN</td>\n",
       "      <td>NaN</td>\n",
       "      <td>NaN</td>\n",
       "      <td>NaN</td>\n",
       "      <td>NaN</td>\n",
       "      <td>NaN</td>\n",
       "      <td>NaN</td>\n",
       "      <td>...</td>\n",
       "      <td>NaN</td>\n",
       "      <td>NaN</td>\n",
       "      <td>NaN</td>\n",
       "      <td>NaN</td>\n",
       "      <td>NaN</td>\n",
       "      <td>NaN</td>\n",
       "      <td>NaN</td>\n",
       "      <td>NaN</td>\n",
       "      <td>NaN</td>\n",
       "      <td>NaN</td>\n",
       "    </tr>\n",
       "    <tr>\n",
       "      <td>54407</td>\n",
       "      <td>NaN</td>\n",
       "      <td>1.0</td>\n",
       "      <td>1.0</td>\n",
       "      <td>1.0</td>\n",
       "      <td>1.0</td>\n",
       "      <td>NaN</td>\n",
       "      <td>NaN</td>\n",
       "      <td>NaN</td>\n",
       "      <td>NaN</td>\n",
       "      <td>NaN</td>\n",
       "      <td>...</td>\n",
       "      <td>NaN</td>\n",
       "      <td>NaN</td>\n",
       "      <td>NaN</td>\n",
       "      <td>NaN</td>\n",
       "      <td>NaN</td>\n",
       "      <td>NaN</td>\n",
       "      <td>NaN</td>\n",
       "      <td>NaN</td>\n",
       "      <td>NaN</td>\n",
       "      <td>NaN</td>\n",
       "    </tr>\n",
       "    <tr>\n",
       "      <td>58804</td>\n",
       "      <td>NaN</td>\n",
       "      <td>NaN</td>\n",
       "      <td>NaN</td>\n",
       "      <td>NaN</td>\n",
       "      <td>NaN</td>\n",
       "      <td>NaN</td>\n",
       "      <td>NaN</td>\n",
       "      <td>NaN</td>\n",
       "      <td>NaN</td>\n",
       "      <td>NaN</td>\n",
       "      <td>...</td>\n",
       "      <td>NaN</td>\n",
       "      <td>NaN</td>\n",
       "      <td>NaN</td>\n",
       "      <td>NaN</td>\n",
       "      <td>NaN</td>\n",
       "      <td>NaN</td>\n",
       "      <td>NaN</td>\n",
       "      <td>NaN</td>\n",
       "      <td>NaN</td>\n",
       "      <td>NaN</td>\n",
       "    </tr>\n",
       "    <tr>\n",
       "      <td>...</td>\n",
       "      <td>...</td>\n",
       "      <td>...</td>\n",
       "      <td>...</td>\n",
       "      <td>...</td>\n",
       "      <td>...</td>\n",
       "      <td>...</td>\n",
       "      <td>...</td>\n",
       "      <td>...</td>\n",
       "      <td>...</td>\n",
       "      <td>...</td>\n",
       "      <td>...</td>\n",
       "      <td>...</td>\n",
       "      <td>...</td>\n",
       "      <td>...</td>\n",
       "      <td>...</td>\n",
       "      <td>...</td>\n",
       "      <td>...</td>\n",
       "      <td>...</td>\n",
       "      <td>...</td>\n",
       "      <td>...</td>\n",
       "      <td>...</td>\n",
       "    </tr>\n",
       "    <tr>\n",
       "      <td>247224</td>\n",
       "      <td>NaN</td>\n",
       "      <td>NaN</td>\n",
       "      <td>NaN</td>\n",
       "      <td>NaN</td>\n",
       "      <td>NaN</td>\n",
       "      <td>NaN</td>\n",
       "      <td>NaN</td>\n",
       "      <td>NaN</td>\n",
       "      <td>NaN</td>\n",
       "      <td>NaN</td>\n",
       "      <td>...</td>\n",
       "      <td>NaN</td>\n",
       "      <td>NaN</td>\n",
       "      <td>NaN</td>\n",
       "      <td>NaN</td>\n",
       "      <td>NaN</td>\n",
       "      <td>NaN</td>\n",
       "      <td>NaN</td>\n",
       "      <td>NaN</td>\n",
       "      <td>NaN</td>\n",
       "      <td>NaN</td>\n",
       "    </tr>\n",
       "    <tr>\n",
       "      <td>626388</td>\n",
       "      <td>NaN</td>\n",
       "      <td>1.0</td>\n",
       "      <td>NaN</td>\n",
       "      <td>NaN</td>\n",
       "      <td>NaN</td>\n",
       "      <td>NaN</td>\n",
       "      <td>NaN</td>\n",
       "      <td>NaN</td>\n",
       "      <td>1.0</td>\n",
       "      <td>NaN</td>\n",
       "      <td>...</td>\n",
       "      <td>NaN</td>\n",
       "      <td>NaN</td>\n",
       "      <td>NaN</td>\n",
       "      <td>NaN</td>\n",
       "      <td>NaN</td>\n",
       "      <td>NaN</td>\n",
       "      <td>NaN</td>\n",
       "      <td>NaN</td>\n",
       "      <td>NaN</td>\n",
       "      <td>NaN</td>\n",
       "    </tr>\n",
       "    <tr>\n",
       "      <td>123738</td>\n",
       "      <td>NaN</td>\n",
       "      <td>NaN</td>\n",
       "      <td>NaN</td>\n",
       "      <td>NaN</td>\n",
       "      <td>1.0</td>\n",
       "      <td>NaN</td>\n",
       "      <td>NaN</td>\n",
       "      <td>1.0</td>\n",
       "      <td>1.0</td>\n",
       "      <td>1.0</td>\n",
       "      <td>...</td>\n",
       "      <td>1.0</td>\n",
       "      <td>1.0</td>\n",
       "      <td>1.0</td>\n",
       "      <td>1.0</td>\n",
       "      <td>1.0</td>\n",
       "      <td>1.0</td>\n",
       "      <td>1.0</td>\n",
       "      <td>1.0</td>\n",
       "      <td>1.0</td>\n",
       "      <td>1.0</td>\n",
       "    </tr>\n",
       "    <tr>\n",
       "      <td>473222</td>\n",
       "      <td>NaN</td>\n",
       "      <td>NaN</td>\n",
       "      <td>NaN</td>\n",
       "      <td>NaN</td>\n",
       "      <td>NaN</td>\n",
       "      <td>NaN</td>\n",
       "      <td>NaN</td>\n",
       "      <td>NaN</td>\n",
       "      <td>NaN</td>\n",
       "      <td>NaN</td>\n",
       "      <td>...</td>\n",
       "      <td>NaN</td>\n",
       "      <td>NaN</td>\n",
       "      <td>NaN</td>\n",
       "      <td>NaN</td>\n",
       "      <td>NaN</td>\n",
       "      <td>NaN</td>\n",
       "      <td>NaN</td>\n",
       "      <td>NaN</td>\n",
       "      <td>NaN</td>\n",
       "      <td>NaN</td>\n",
       "    </tr>\n",
       "    <tr>\n",
       "      <td>20839</td>\n",
       "      <td>NaN</td>\n",
       "      <td>NaN</td>\n",
       "      <td>NaN</td>\n",
       "      <td>NaN</td>\n",
       "      <td>NaN</td>\n",
       "      <td>NaN</td>\n",
       "      <td>NaN</td>\n",
       "      <td>NaN</td>\n",
       "      <td>NaN</td>\n",
       "      <td>NaN</td>\n",
       "      <td>...</td>\n",
       "      <td>NaN</td>\n",
       "      <td>NaN</td>\n",
       "      <td>NaN</td>\n",
       "      <td>NaN</td>\n",
       "      <td>NaN</td>\n",
       "      <td>NaN</td>\n",
       "      <td>NaN</td>\n",
       "      <td>NaN</td>\n",
       "      <td>NaN</td>\n",
       "      <td>NaN</td>\n",
       "    </tr>\n",
       "  </tbody>\n",
       "</table>\n",
       "<p>250 rows × 413 columns</p>\n",
       "</div>"
      ],
      "text/plain": [
       "          락  뉴에이지  비오는날   재즈   휴식   팝  2000년대  OST   가을   감성  ...   퇴근   트롯  \\\n",
       "27530   1.0   NaN   NaN  NaN  NaN NaN     NaN  NaN  NaN  NaN  ...  NaN  NaN   \n",
       "381934  NaN   NaN   NaN  NaN  NaN NaN     NaN  NaN  NaN  NaN  ...  NaN  NaN   \n",
       "682893  NaN   NaN   NaN  NaN  NaN NaN     NaN  NaN  NaN  NaN  ...  NaN  NaN   \n",
       "54407   NaN   1.0   1.0  1.0  1.0 NaN     NaN  NaN  NaN  NaN  ...  NaN  NaN   \n",
       "58804   NaN   NaN   NaN  NaN  NaN NaN     NaN  NaN  NaN  NaN  ...  NaN  NaN   \n",
       "...     ...   ...   ...  ...  ...  ..     ...  ...  ...  ...  ...  ...  ...   \n",
       "247224  NaN   NaN   NaN  NaN  NaN NaN     NaN  NaN  NaN  NaN  ...  NaN  NaN   \n",
       "626388  NaN   1.0   NaN  NaN  NaN NaN     NaN  NaN  1.0  NaN  ...  NaN  NaN   \n",
       "123738  NaN   NaN   NaN  NaN  1.0 NaN     NaN  1.0  1.0  1.0  ...  1.0  1.0   \n",
       "473222  NaN   NaN   NaN  NaN  NaN NaN     NaN  NaN  NaN  NaN  ...  NaN  NaN   \n",
       "20839   NaN   NaN   NaN  NaN  NaN NaN     NaN  NaN  NaN  NaN  ...  NaN  NaN   \n",
       "\n",
       "         펭수  한잔해   향수   홍자  홍진영  흥겨운  히트곡  힘들때  \n",
       "27530   NaN  NaN  NaN  NaN  NaN  NaN  NaN  NaN  \n",
       "381934  NaN  NaN  NaN  NaN  NaN  NaN  NaN  NaN  \n",
       "682893  NaN  NaN  NaN  NaN  NaN  NaN  NaN  NaN  \n",
       "54407   NaN  NaN  NaN  NaN  NaN  NaN  NaN  NaN  \n",
       "58804   NaN  NaN  NaN  NaN  NaN  NaN  NaN  NaN  \n",
       "...     ...  ...  ...  ...  ...  ...  ...  ...  \n",
       "247224  NaN  NaN  NaN  NaN  NaN  NaN  NaN  NaN  \n",
       "626388  NaN  NaN  NaN  NaN  NaN  NaN  NaN  NaN  \n",
       "123738  1.0  1.0  1.0  1.0  1.0  1.0  1.0  1.0  \n",
       "473222  NaN  NaN  NaN  NaN  NaN  NaN  NaN  NaN  \n",
       "20839   NaN  NaN  NaN  NaN  NaN  NaN  NaN  NaN  \n",
       "\n",
       "[250 rows x 413 columns]"
      ]
     },
     "execution_count": 44,
     "metadata": {},
     "output_type": "execute_result"
    }
   ],
   "source": [
    "pd.DataFrame(get_tags(result_df.index))"
   ]
  },
  {
   "cell_type": "markdown",
   "metadata": {},
   "source": [
    "- 보다 싶이 1값을 가지고 있는게 이 모델이 추천해준 태그들입니다. \n",
    "- 마찬가지로 태그의 요소들로 인해 뽑아내는 방법을 강구해야 합니다."
   ]
  },
  {
   "cell_type": "code",
   "execution_count": 45,
   "metadata": {
    "ExecuteTime": {
     "end_time": "2020-05-23T00:29:35.611861Z",
     "start_time": "2020-05-23T00:29:35.595642Z"
    }
   },
   "outputs": [
    {
     "data": {
      "text/html": [
       "<div>\n",
       "<style scoped>\n",
       "    .dataframe tbody tr th:only-of-type {\n",
       "        vertical-align: middle;\n",
       "    }\n",
       "\n",
       "    .dataframe tbody tr th {\n",
       "        vertical-align: top;\n",
       "    }\n",
       "\n",
       "    .dataframe thead th {\n",
       "        text-align: right;\n",
       "    }\n",
       "</style>\n",
       "<table border=\"1\" class=\"dataframe\">\n",
       "  <thead>\n",
       "    <tr style=\"text-align: right;\">\n",
       "      <th></th>\n",
       "      <th>song_gn_dtl_gnr_basket</th>\n",
       "      <th>issue_date</th>\n",
       "      <th>album_name</th>\n",
       "      <th>album_id</th>\n",
       "      <th>artist_id_basket</th>\n",
       "      <th>song_name</th>\n",
       "      <th>song_gn_gnr_basket</th>\n",
       "      <th>artist_name_basket</th>\n",
       "      <th>id</th>\n",
       "    </tr>\n",
       "  </thead>\n",
       "  <tbody>\n",
       "    <tr>\n",
       "      <td>27530</td>\n",
       "      <td>[GN0101]</td>\n",
       "      <td>20161228</td>\n",
       "      <td>마지막 한 마디만 듣고가요</td>\n",
       "      <td>10026511</td>\n",
       "      <td>[424945]</td>\n",
       "      <td>마지막 한 마디만 듣고가요 (Inst.)</td>\n",
       "      <td>[GN0100]</td>\n",
       "      <td>[에스프레소]</td>\n",
       "      <td>27530</td>\n",
       "    </tr>\n",
       "  </tbody>\n",
       "</table>\n",
       "</div>"
      ],
      "text/plain": [
       "      song_gn_dtl_gnr_basket  issue_date      album_name  album_id  \\\n",
       "27530               [GN0101]    20161228  마지막 한 마디만 듣고가요  10026511   \n",
       "\n",
       "      artist_id_basket               song_name song_gn_gnr_basket  \\\n",
       "27530         [424945]  마지막 한 마디만 듣고가요 (Inst.)           [GN0100]   \n",
       "\n",
       "      artist_name_basket     id  \n",
       "27530            [에스프레소]  27530  "
      ]
     },
     "execution_count": 45,
     "metadata": {},
     "output_type": "execute_result"
    }
   ],
   "source": [
    "song_meta[song_meta['id'] == 27530]"
   ]
  },
  {
   "cell_type": "code",
   "execution_count": 46,
   "metadata": {
    "ExecuteTime": {
     "end_time": "2020-05-23T00:29:40.253636Z",
     "start_time": "2020-05-23T00:29:40.235381Z"
    },
    "scrolled": true
   },
   "outputs": [
    {
     "data": {
      "text/html": [
       "<div>\n",
       "<style scoped>\n",
       "    .dataframe tbody tr th:only-of-type {\n",
       "        vertical-align: middle;\n",
       "    }\n",
       "\n",
       "    .dataframe tbody tr th {\n",
       "        vertical-align: top;\n",
       "    }\n",
       "\n",
       "    .dataframe thead th {\n",
       "        text-align: right;\n",
       "    }\n",
       "</style>\n",
       "<table border=\"1\" class=\"dataframe\">\n",
       "  <thead>\n",
       "    <tr style=\"text-align: right;\">\n",
       "      <th></th>\n",
       "      <th>GN0100</th>\n",
       "      <th>GN0101</th>\n",
       "      <th>GN0102</th>\n",
       "      <th>GN0103</th>\n",
       "      <th>GN0104</th>\n",
       "      <th>GN0105</th>\n",
       "      <th>GN0200</th>\n",
       "      <th>GN0201</th>\n",
       "      <th>GN0202</th>\n",
       "      <th>GN0203</th>\n",
       "      <th>...</th>\n",
       "      <th>issue_year_2016</th>\n",
       "      <th>issue_year_2017</th>\n",
       "      <th>issue_year_2018</th>\n",
       "      <th>issue_year_2019</th>\n",
       "      <th>issue_year_2020</th>\n",
       "      <th>issue_year_2022</th>\n",
       "      <th>like_cnt</th>\n",
       "      <th>population</th>\n",
       "      <th>tag_score</th>\n",
       "      <th>tags</th>\n",
       "    </tr>\n",
       "    <tr>\n",
       "      <th>id</th>\n",
       "      <th></th>\n",
       "      <th></th>\n",
       "      <th></th>\n",
       "      <th></th>\n",
       "      <th></th>\n",
       "      <th></th>\n",
       "      <th></th>\n",
       "      <th></th>\n",
       "      <th></th>\n",
       "      <th></th>\n",
       "      <th></th>\n",
       "      <th></th>\n",
       "      <th></th>\n",
       "      <th></th>\n",
       "      <th></th>\n",
       "      <th></th>\n",
       "      <th></th>\n",
       "      <th></th>\n",
       "      <th></th>\n",
       "      <th></th>\n",
       "      <th></th>\n",
       "    </tr>\n",
       "  </thead>\n",
       "  <tbody>\n",
       "    <tr>\n",
       "      <td>27530</td>\n",
       "      <td>1.0</td>\n",
       "      <td>1.0</td>\n",
       "      <td>0.0</td>\n",
       "      <td>0.0</td>\n",
       "      <td>0.0</td>\n",
       "      <td>0.0</td>\n",
       "      <td>0.0</td>\n",
       "      <td>0.0</td>\n",
       "      <td>0.0</td>\n",
       "      <td>0.0</td>\n",
       "      <td>...</td>\n",
       "      <td>1.0</td>\n",
       "      <td>0.0</td>\n",
       "      <td>0.0</td>\n",
       "      <td>0.0</td>\n",
       "      <td>0.0</td>\n",
       "      <td>0.0</td>\n",
       "      <td>0.000043</td>\n",
       "      <td>0.0</td>\n",
       "      <td>0.031117</td>\n",
       "      <td>[좋아요, 에스프레소, 감성]</td>\n",
       "    </tr>\n",
       "  </tbody>\n",
       "</table>\n",
       "<p>1 rows × 352 columns</p>\n",
       "</div>"
      ],
      "text/plain": [
       "       GN0100  GN0101  GN0102  GN0103  GN0104  GN0105  GN0200  GN0201  GN0202  \\\n",
       "id                                                                              \n",
       "27530     1.0     1.0     0.0     0.0     0.0     0.0     0.0     0.0     0.0   \n",
       "\n",
       "       GN0203  ...  issue_year_2016  issue_year_2017  issue_year_2018  \\\n",
       "id             ...                                                      \n",
       "27530     0.0  ...              1.0              0.0              0.0   \n",
       "\n",
       "       issue_year_2019  issue_year_2020  issue_year_2022  like_cnt  \\\n",
       "id                                                                   \n",
       "27530              0.0              0.0              0.0  0.000043   \n",
       "\n",
       "       population  tag_score              tags  \n",
       "id                                              \n",
       "27530         0.0   0.031117  [좋아요, 에스프레소, 감성]  \n",
       "\n",
       "[1 rows x 352 columns]"
      ]
     },
     "execution_count": 46,
     "metadata": {},
     "output_type": "execute_result"
    }
   ],
   "source": [
    "df_10000[df_10000.index == 27530]"
   ]
  },
  {
   "cell_type": "code",
   "execution_count": 47,
   "metadata": {
    "ExecuteTime": {
     "end_time": "2020-05-23T00:29:44.104881Z",
     "start_time": "2020-05-23T00:29:44.098730Z"
    }
   },
   "outputs": [
    {
     "data": {
      "text/plain": [
       "락    1\n",
       "Name: 27530, dtype: int64"
      ]
     },
     "execution_count": 47,
     "metadata": {},
     "output_type": "execute_result"
    }
   ],
   "source": [
    "result_df.loc[27530][result_df.loc[27530] > 0]"
   ]
  },
  {
   "cell_type": "markdown",
   "metadata": {},
   "source": [
    "# 결론\n",
    "- 앞서 말씀드렸듯이, 일단 모델이 돌아가서 예측은 가능하나 역시 0,1인 값만 가진 벡터를 반환하기 때문에, 확률값으로 0~1사이 값을 반환하도록 마지막 output layer 단계에서 sigmoid 함수를 사용해야 할듯합니다.\n",
    "- 이런 방법론으로 저희가 배웠던 tensorflow의 모델링 방법을 활용해야 할듯 합니다."
   ]
  },
  {
   "cell_type": "markdown",
   "metadata": {},
   "source": [
    "# keras try"
   ]
  },
  {
   "cell_type": "code",
   "execution_count": 22,
   "metadata": {
    "ExecuteTime": {
     "end_time": "2020-05-23T08:17:38.922822Z",
     "start_time": "2020-05-23T08:17:38.854588Z"
    }
   },
   "outputs": [],
   "source": [
    "df_10000 = df.sample(10000)\n",
    "# df_10000 = df_10000.set_index(['id'])\n",
    "y = list(df_10000.tags)"
   ]
  },
  {
   "cell_type": "code",
   "execution_count": 22,
   "metadata": {
    "ExecuteTime": {
     "end_time": "2020-05-24T06:43:03.274913Z",
     "start_time": "2020-05-24T06:43:01.096531Z"
    }
   },
   "outputs": [],
   "source": [
    "df = df.set_index(['id'])\n",
    "y = list(df.tags)"
   ]
  },
  {
   "cell_type": "code",
   "execution_count": 101,
   "metadata": {
    "ExecuteTime": {
     "end_time": "2020-05-23T07:06:26.925222Z",
     "start_time": "2020-05-23T07:06:26.532354Z"
    }
   },
   "outputs": [],
   "source": [
    "df_100000 = df.sample(100000)\n",
    "y = list(df_100000.tags)"
   ]
  },
  {
   "cell_type": "code",
   "execution_count": null,
   "metadata": {
    "ExecuteTime": {
     "end_time": "2020-05-24T06:40:41.125818Z",
     "start_time": "2020-05-24T06:40:37.033Z"
    }
   },
   "outputs": [],
   "source": [
    "y = list(df.tags)"
   ]
  },
  {
   "cell_type": "markdown",
   "metadata": {},
   "source": [
    "## song- tag one-hot vector 만들기"
   ]
  },
  {
   "cell_type": "code",
   "execution_count": 23,
   "metadata": {
    "ExecuteTime": {
     "end_time": "2020-05-24T06:43:10.249018Z",
     "start_time": "2020-05-24T06:43:03.276739Z"
    }
   },
   "outputs": [],
   "source": [
    "from sklearn.preprocessing import MultiLabelBinarizer\n",
    "Y_mlb = MultiLabelBinarizer(sparse_output=True)\n",
    "Y_true = Y_mlb.fit_transform(y)"
   ]
  },
  {
   "cell_type": "code",
   "execution_count": 29,
   "metadata": {
    "ExecuteTime": {
     "end_time": "2020-05-24T07:07:19.197366Z",
     "start_time": "2020-05-24T07:07:19.193089Z"
    }
   },
   "outputs": [
    {
     "data": {
      "text/plain": [
       "<615142x29160 sparse matrix of type '<class 'numpy.int64'>'\n",
       "\twith 10984669 stored elements in Compressed Sparse Row format>"
      ]
     },
     "execution_count": 29,
     "metadata": {},
     "output_type": "execute_result"
    }
   ],
   "source": [
    "Y_true"
   ]
  },
  {
   "cell_type": "code",
   "execution_count": 30,
   "metadata": {
    "ExecuteTime": {
     "end_time": "2020-05-24T07:07:20.746573Z",
     "start_time": "2020-05-24T07:07:20.742906Z"
    }
   },
   "outputs": [
    {
     "data": {
      "text/plain": [
       "array(['', '00', '007', ..., '힛뎀포크', '힛뎀폭', '힛뎀폭스'], dtype=object)"
      ]
     },
     "execution_count": 30,
     "metadata": {},
     "output_type": "execute_result"
    }
   ],
   "source": [
    "kwd_classes = Y_mlb.classes_ # binarizer를 저장해두고, 이후에 classes_ 를 읽어서, 각 칼럼이 무슨 값인지를 확인해야 함.\n",
    "kwd_classes"
   ]
  },
  {
   "cell_type": "code",
   "execution_count": 31,
   "metadata": {
    "ExecuteTime": {
     "end_time": "2020-05-24T07:07:21.994406Z",
     "start_time": "2020-05-24T07:07:21.190059Z"
    }
   },
   "outputs": [],
   "source": [
    "X = df[df.columns.difference(['tags'])]"
   ]
  },
  {
   "cell_type": "code",
   "execution_count": 32,
   "metadata": {
    "ExecuteTime": {
     "end_time": "2020-05-24T07:07:22.001175Z",
     "start_time": "2020-05-24T07:07:21.996766Z"
    }
   },
   "outputs": [
    {
     "data": {
      "text/plain": [
       "(615142, 351)"
      ]
     },
     "execution_count": 32,
     "metadata": {},
     "output_type": "execute_result"
    }
   ],
   "source": [
    "X.shape"
   ]
  },
  {
   "cell_type": "code",
   "execution_count": 33,
   "metadata": {
    "ExecuteTime": {
     "end_time": "2020-05-24T07:07:27.825270Z",
     "start_time": "2020-05-24T07:07:22.004107Z"
    },
    "scrolled": true
   },
   "outputs": [
    {
     "name": "stdout",
     "output_type": "stream",
     "text": [
      "(461356, 351)\n",
      "(461356, 29160)\n",
      "(153786, 351)\n",
      "(153786, 29160)\n"
     ]
    }
   ],
   "source": [
    "from sklearn.model_selection import train_test_split\n",
    "X_train, X_test, y_train, y_test= train_test_split(X.values, Y_true)\n",
    "print(X_train.shape)\n",
    "print(y_train.shape)\n",
    "print(X_test.shape)\n",
    "print(y_test.shape)"
   ]
  },
  {
   "cell_type": "code",
   "execution_count": 34,
   "metadata": {
    "ExecuteTime": {
     "end_time": "2020-05-24T07:07:31.546241Z",
     "start_time": "2020-05-24T07:07:27.827604Z"
    }
   },
   "outputs": [
    {
     "name": "stderr",
     "output_type": "stream",
     "text": [
      "Using TensorFlow backend.\n"
     ]
    }
   ],
   "source": [
    "import os, glob, numpy as np\n",
    "from keras.models import Sequential\n",
    "from keras.layers import Conv2D, MaxPooling2D, Dense, Flatten, Dropout\n",
    "from keras.callbacks import EarlyStopping, ModelCheckpoint\n",
    "from keras.layers import BatchNormalization\n",
    "import matplotlib.pyplot as plt\n",
    "import keras.backend.tensorflow_backend as K\n",
    "from keras.optimizers import SGD\n",
    "\n",
    "with K.tf_ops.device('/device:GPU:0'):\n",
    "    model = Sequential()\n",
    "\n",
    "    model.add(Dense(32, input_shape=X_train.shape[1:], activation='relu'))\n",
    "    \n",
    "    model.add(Dense(64, activation='relu'))\n",
    "\n",
    "    model.add(Dense(256, activation='relu'))\n",
    "\n",
    "    model.add(Dense(64, activation='relu'))\n",
    "    \n",
    "    model.add(Dense(y_train.shape[1], activation='sigmoid'))\n",
    "    \n",
    "    model.compile(loss='binary_crossentropy',\n",
    "                  optimizer='adam')\n",
    "    \n",
    "    model_dir = './model'\n",
    "\n",
    "    if not os.path.exists(model_dir):\n",
    "        os.mkdir(model_dir)\n",
    "\n",
    "    model_path = model_dir + '/multi_img_classification.model'\n",
    "    checkpoint = ModelCheckpoint(filepath=model_path , monitor='loss', verbose=1, save_best_only=True)\n",
    "    early_stopping = EarlyStopping(monitor='loss', patience=3)"
   ]
  },
  {
   "cell_type": "code",
   "execution_count": 26,
   "metadata": {
    "ExecuteTime": {
     "end_time": "2020-05-23T17:03:45.477420Z",
     "start_time": "2020-05-23T17:03:44.817856Z"
    },
    "collapsed": true
   },
   "outputs": [
    {
     "name": "stdout",
     "output_type": "stream",
     "text": [
      "Variable                      Type                   Data/Info\n",
      "--------------------------------------------------------------\n",
      "BatchNormalization            type                   <class 'keras.layers.norm<...>tion.BatchNormalization'>\n",
      "Conv2D                        type                   <class 'keras.layers.convolutional.Conv2D'>\n",
      "Dense                         type                   <class 'keras.layers.core.Dense'>\n",
      "Dropout                       type                   <class 'keras.layers.core.Dropout'>\n",
      "EarlyStopping                 type                   <class 'keras.callbacks.callbacks.EarlyStopping'>\n",
      "Flatten                       type                   <class 'keras.layers.core.Flatten'>\n",
      "K                             module                 <module 'keras.backend.te<...>d/tensorflow_backend.py'>\n",
      "MaxPooling2D                  type                   <class 'keras.layers.pooling.MaxPooling2D'>\n",
      "ModelCheckpoint               type                   <class 'keras.callbacks.c<...>llbacks.ModelCheckpoint'>\n",
      "MultiLabelBinarizer           type                   <class 'sklearn.preproces<...>bel.MultiLabelBinarizer'>\n",
      "SGD                           type                   <class 'keras.optimizers.SGD'>\n",
      "Sequential                    type                   <class 'keras.engine.sequential.Sequential'>\n",
      "X                             DataFrame                      GN0100  GN0101  G<...>15142 rows x 351 columns]\n",
      "X_test                        ndarray                153786x351: 53978886 elems, type `float64`, 431831088 bytes (411.8262176513672 Mb)\n",
      "X_train                       ndarray                461356x351: 161935956 elems, type `float64`, 1295487648 bytes (1235.4732971191406 Mb)\n",
      "Y_mlb                         MultiLabelBinarizer    MultiLabelBinarizer(class<...>None, sparse_output=True)\n",
      "Y_true                        csr_matrix               (0, 14220)\t1\\n  (0, 983<...>27)\t1\\n  (615141, 7235)\t1\n",
      "autopep8                      module                 <module 'autopep8' from '<...>te-packages/autopep8.py'>\n",
      "checkpoint                    ModelCheckpoint        <keras.callbacks.callback<...>nt object at 0x1d60d3690>\n",
      "df                            DataFrame                      GN0100  GN0101  G<...>15142 rows x 352 columns]\n",
      "df_songs                      Series                 0         [525514, 129701<...>th: 115071, dtype: object\n",
      "early_stopping                EarlyStopping          <keras.callbacks.callback<...>ng object at 0x1d60d3bd0>\n",
      "final_df_no_id                DataFrame                      GN0100  GN0101  G<...>15142 rows x 352 columns]\n",
      "final_df_one_hot              DataFrame                      GN0100  GN0101  G<...>15142 rows x 352 columns]\n",
      "final_df_year_month_dummies   DataFrame                          id  issue_yea<...>615142 rows x 99 columns]\n",
      "glob                          module                 <module 'glob' from '/Use<...>s/lib/python3.7/glob.py'>\n",
      "i                             int                    115070\n",
      "json                          module                 <module 'json' from '/Use<...>hon3.7/json/__init__.py'>\n",
      "kwd_classes                   ndarray                29160: 29160 elems, type `object`, 233280 bytes (227.8125 kb)\n",
      "ls                            list                   n=5285871\n",
      "model                         Sequential             <keras.engine.sequential.<...>al object at 0x1d86d3fd0>\n",
      "model_dir                     str                    ./model\n",
      "model_path                    str                    ./model/multi_img_classification.model\n",
      "os                            module                 <module 'os' from '/Users<...>pus/lib/python3.7/os.py'>\n",
      "plt                           module                 <module 'matplotlib.pyplo<...>es/matplotlib/pyplot.py'>\n",
      "song                          int                    154078\n",
      "song_meta                     DataFrame                     song_gn_dtl_gnr_ba<...>[707989 rows x 9 columns]\n",
      "song_tag                      DataFrame                           id          <...>5285871 rows x 2 columns]\n",
      "song_tag_df                   DataFrame                          id           <...>[615142 rows x 2 columns]\n",
      "songs                         list                   n=200\n",
      "tags                          list                   n=4\n",
      "train                         DataFrame                                       <...>[115071 rows x 6 columns]\n",
      "train_test_split              function               <function train_test_split at 0x1a4d3a8c0>\n",
      "unique_song_list              list                   n=615142\n",
      "y                             list                   n=615142\n",
      "y_test                        csr_matrix               (0, 10503)\t1\\n  (1, 135<...>6)\t1\\n  (153785, 28110)\t1\n",
      "y_train                       csr_matrix               (0, 21823)\t1\\n  (1, 983<...>5)\t1\\n  (461355, 10582)\t1\n",
      "yapf_reformat                 function               <function yapf_reformat at 0x1232e49e0>\n"
     ]
    }
   ],
   "source": [
    "%whos"
   ]
  },
  {
   "cell_type": "code",
   "execution_count": 28,
   "metadata": {
    "ExecuteTime": {
     "end_time": "2020-05-23T17:04:33.644880Z",
     "start_time": "2020-05-23T17:04:32.972959Z"
    },
    "collapsed": true
   },
   "outputs": [
    {
     "ename": "NameError",
     "evalue": "name 'model' is not defined",
     "output_type": "error",
     "traceback": [
      "\u001b[0;31m---------------------------------------------------------------------------\u001b[0m",
      "\u001b[0;31mNameError\u001b[0m                                 Traceback (most recent call last)",
      "\u001b[0;32m<ipython-input-28-d37d759f5083>\u001b[0m in \u001b[0;36m<module>\u001b[0;34m\u001b[0m\n\u001b[0;32m----> 1\u001b[0;31m \u001b[0;32mdel\u001b[0m \u001b[0mmodel\u001b[0m\u001b[0;34m\u001b[0m\u001b[0;34m\u001b[0m\u001b[0m\n\u001b[0m\u001b[1;32m      2\u001b[0m \u001b[0;32mdel\u001b[0m \u001b[0mfinal_df_no_id\u001b[0m\u001b[0;34m\u001b[0m\u001b[0;34m\u001b[0m\u001b[0m\n\u001b[1;32m      3\u001b[0m \u001b[0;32mdel\u001b[0m \u001b[0msong_meta\u001b[0m\u001b[0;34m\u001b[0m\u001b[0;34m\u001b[0m\u001b[0m\n\u001b[1;32m      4\u001b[0m \u001b[0;32mdel\u001b[0m \u001b[0mfinal_df_year_month_dummies\u001b[0m\u001b[0;34m\u001b[0m\u001b[0;34m\u001b[0m\u001b[0m\n\u001b[1;32m      5\u001b[0m \u001b[0;32mdel\u001b[0m \u001b[0mfinal_df_one_hot\u001b[0m\u001b[0;34m\u001b[0m\u001b[0;34m\u001b[0m\u001b[0m\n",
      "\u001b[0;31mNameError\u001b[0m: name 'model' is not defined"
     ]
    }
   ],
   "source": [
    "del model\n",
    "del final_df_no_id\n",
    "del song_meta\n",
    "del final_df_year_month_dummies\n",
    "del final_df_one_hot"
   ]
  },
  {
   "cell_type": "code",
   "execution_count": 35,
   "metadata": {
    "ExecuteTime": {
     "end_time": "2020-05-24T10:06:03.444440Z",
     "start_time": "2020-05-24T07:07:31.548669Z"
    }
   },
   "outputs": [
    {
     "name": "stdout",
     "output_type": "stream",
     "text": [
      "Train on 369084 samples, validate on 92272 samples\n",
      "Epoch 1/20\n",
      "369084/369084 [==============================] - 603s 2ms/step - loss: 0.0134 - val_loss: 0.0036\n",
      "\n",
      "Epoch 00001: loss improved from inf to 0.01344, saving model to ./model/multi_img_classification.model\n",
      "Epoch 2/20\n",
      "369084/369084 [==============================] - 617s 2ms/step - loss: 0.0036 - val_loss: 0.0036\n",
      "\n",
      "Epoch 00002: loss improved from 0.01344 to 0.00359, saving model to ./model/multi_img_classification.model\n",
      "Epoch 3/20\n",
      "369084/369084 [==============================] - 578s 2ms/step - loss: 0.0036 - val_loss: 0.0036\n",
      "\n",
      "Epoch 00003: loss improved from 0.00359 to 0.00357, saving model to ./model/multi_img_classification.model\n",
      "Epoch 4/20\n",
      "369084/369084 [==============================] - 579s 2ms/step - loss: 0.0036 - val_loss: 0.0036\n",
      "\n",
      "Epoch 00004: loss improved from 0.00357 to 0.00357, saving model to ./model/multi_img_classification.model\n",
      "Epoch 5/20\n",
      "369084/369084 [==============================] - 591s 2ms/step - loss: 0.0036 - val_loss: 0.0036\n",
      "\n",
      "Epoch 00005: loss did not improve from 0.00357\n",
      "Epoch 6/20\n",
      "369084/369084 [==============================] - 586s 2ms/step - loss: 0.0036 - val_loss: 0.0036\n",
      "\n",
      "Epoch 00006: loss improved from 0.00357 to 0.00357, saving model to ./model/multi_img_classification.model\n",
      "Epoch 7/20\n",
      "369084/369084 [==============================] - 588s 2ms/step - loss: 0.0048 - val_loss: 0.0036\n",
      "\n",
      "Epoch 00007: loss did not improve from 0.00357\n",
      "Epoch 8/20\n",
      "369084/369084 [==============================] - 593s 2ms/step - loss: 0.0036 - val_loss: 0.0036\n",
      "\n",
      "Epoch 00008: loss improved from 0.00357 to 0.00356, saving model to ./model/multi_img_classification.model\n",
      "Epoch 9/20\n",
      "369084/369084 [==============================] - 593s 2ms/step - loss: 0.0036 - val_loss: 0.0036\n",
      "\n",
      "Epoch 00009: loss improved from 0.00356 to 0.00356, saving model to ./model/multi_img_classification.model\n",
      "Epoch 10/20\n",
      "369084/369084 [==============================] - 595s 2ms/step - loss: 0.0037 - val_loss: 0.0036\n",
      "\n",
      "Epoch 00010: loss did not improve from 0.00356\n",
      "Epoch 11/20\n",
      "369084/369084 [==============================] - 593s 2ms/step - loss: 0.0036 - val_loss: 0.0036\n",
      "\n",
      "Epoch 00011: loss did not improve from 0.00356\n",
      "Epoch 12/20\n",
      "369084/369084 [==============================] - 598s 2ms/step - loss: 0.0036 - val_loss: 0.0036\n",
      "\n",
      "Epoch 00012: loss improved from 0.00356 to 0.00356, saving model to ./model/multi_img_classification.model\n",
      "Epoch 13/20\n",
      "369084/369084 [==============================] - 597s 2ms/step - loss: 0.0036 - val_loss: 0.0036\n",
      "\n",
      "Epoch 00013: loss improved from 0.00356 to 0.00356, saving model to ./model/multi_img_classification.model\n",
      "Epoch 14/20\n",
      "369084/369084 [==============================] - 595s 2ms/step - loss: 0.0036 - val_loss: 0.0036\n",
      "\n",
      "Epoch 00014: loss improved from 0.00356 to 0.00356, saving model to ./model/multi_img_classification.model\n",
      "Epoch 15/20\n",
      "369084/369084 [==============================] - 600s 2ms/step - loss: 0.0036 - val_loss: 0.0036\n",
      "\n",
      "Epoch 00015: loss improved from 0.00356 to 0.00356, saving model to ./model/multi_img_classification.model\n",
      "Epoch 16/20\n",
      "369084/369084 [==============================] - 600s 2ms/step - loss: 0.0036 - val_loss: 0.0036\n",
      "\n",
      "Epoch 00016: loss did not improve from 0.00356\n",
      "Epoch 17/20\n",
      "369084/369084 [==============================] - 601s 2ms/step - loss: 0.0036 - val_loss: 0.0036\n",
      "\n",
      "Epoch 00017: loss did not improve from 0.00356\n",
      "Epoch 18/20\n",
      "369084/369084 [==============================] - 603s 2ms/step - loss: 0.0036 - val_loss: 0.0036\n",
      "\n",
      "Epoch 00018: loss did not improve from 0.00356\n"
     ]
    }
   ],
   "source": [
    "history = model.fit(X_train, y_train, batch_size=10, epochs=20, validation_split=0.2, callbacks=[checkpoint, early_stopping])"
   ]
  },
  {
   "cell_type": "code",
   "execution_count": 37,
   "metadata": {
    "ExecuteTime": {
     "end_time": "2020-05-24T11:18:53.071647Z",
     "start_time": "2020-05-24T11:18:52.775510Z"
    }
   },
   "outputs": [
    {
     "data": {
      "image/png": "[encoded data removed]",
      "text/plain": [
       "<Figure size 576x360 with 1 Axes>"
      ]
     },
     "metadata": {
      "image/png": {
       "height": 340,
       "width": 518
      },
      "needs_background": "light"
     },
     "output_type": "display_data"
    }
   ],
   "source": [
    "plt.plot(history.history['loss'])\n",
    "plt.title('model loss')\n",
    "plt.ylabel('loss')\n",
    "plt.xlabel('epochs')\n",
    "plt.show()"
   ]
  },
  {
   "cell_type": "code",
   "execution_count": 38,
   "metadata": {
    "ExecuteTime": {
     "end_time": "2020-05-24T11:19:22.288470Z",
     "start_time": "2020-05-24T11:18:57.213907Z"
    }
   },
   "outputs": [],
   "source": [
    "preds = model.predict(X_test)"
   ]
  },
  {
   "cell_type": "code",
   "execution_count": null,
   "metadata": {},
   "outputs": [],
   "source": [
    "## threshhold 조절 : 0.5"
   ]
  },
  {
   "cell_type": "code",
   "execution_count": 39,
   "metadata": {
    "ExecuteTime": {
     "end_time": "2020-05-24T11:24:43.699266Z",
     "start_time": "2020-05-24T11:19:22.318729Z"
    }
   },
   "outputs": [],
   "source": [
    "preds[preds >= 0.5] = 1\n",
    "preds[preds < 0.5] = 0"
   ]
  },
  {
   "cell_type": "code",
   "execution_count": 34,
   "metadata": {
    "ExecuteTime": {
     "end_time": "2020-05-24T05:34:25.500866Z",
     "start_time": "2020-05-24T05:34:25.390215Z"
    },
    "scrolled": true
   },
   "outputs": [
    {
     "data": {
      "text/plain": [
       "(153786, 29160)"
      ]
     },
     "execution_count": 34,
     "metadata": {},
     "output_type": "execute_result"
    }
   ],
   "source": [
    "preds.shape"
   ]
  },
  {
   "cell_type": "code",
   "execution_count": 39,
   "metadata": {
    "ExecuteTime": {
     "end_time": "2020-05-24T06:34:33.914687Z",
     "start_time": "2020-05-24T06:34:33.497549Z"
    },
    "collapsed": true
   },
   "outputs": [
    {
     "name": "stdout",
     "output_type": "stream",
     "text": [
      "Variable                      Type                   Data/Info\n",
      "--------------------------------------------------------------\n",
      "BatchNormalization            type                   <class 'keras.layers.norm<...>tion.BatchNormalization'>\n",
      "Conv2D                        type                   <class 'keras.layers.convolutional.Conv2D'>\n",
      "Dense                         type                   <class 'keras.layers.core.Dense'>\n",
      "Dropout                       type                   <class 'keras.layers.core.Dropout'>\n",
      "EarlyStopping                 type                   <class 'keras.callbacks.callbacks.EarlyStopping'>\n",
      "Flatten                       type                   <class 'keras.layers.core.Flatten'>\n",
      "K                             module                 <module 'keras.backend.te<...>d/tensorflow_backend.py'>\n",
      "MaxPooling2D                  type                   <class 'keras.layers.pooling.MaxPooling2D'>\n",
      "ModelCheckpoint               type                   <class 'keras.callbacks.c<...>llbacks.ModelCheckpoint'>\n",
      "MultiLabelBinarizer           type                   <class 'sklearn.preproces<...>bel.MultiLabelBinarizer'>\n",
      "SGD                           type                   <class 'keras.optimizers.SGD'>\n",
      "Sequential                    type                   <class 'keras.engine.sequential.Sequential'>\n",
      "X                             DataFrame                      GN0100  GN0101  G<...>15142 rows x 351 columns]\n",
      "X_test                        ndarray                153786x351: 53978886 elems, type `float64`, 431831088 bytes (411.8262176513672 Mb)\n",
      "X_train                       ndarray                461356x351: 161935956 elems, type `float64`, 1295487648 bytes (1235.4732971191406 Mb)\n",
      "Y_mlb                         MultiLabelBinarizer    MultiLabelBinarizer(class<...>None, sparse_output=True)\n",
      "Y_true                        csr_matrix               (0, 14220)\t1\\n  (0, 983<...>27)\t1\\n  (615141, 7235)\t1\n",
      "autopep8                      module                 <module 'autopep8' from '<...>te-packages/autopep8.py'>\n",
      "checkpoint                    ModelCheckpoint        <keras.callbacks.callback<...>nt object at 0x1d86e1510>\n",
      "df                            DataFrame                      GN0100  GN0101  G<...>15142 rows x 352 columns]\n",
      "df_songs                      Series                 0         [525514, 129701<...>th: 115071, dtype: object\n",
      "early_stopping                EarlyStopping          <keras.callbacks.callback<...>ng object at 0x1d60d3690>\n",
      "final_df_one_hot              DataFrame                      GN0100  GN0101  G<...>15142 rows x 352 columns]\n",
      "final_df_year_month_dummies   DataFrame                          id  issue_yea<...>615142 rows x 99 columns]\n",
      "glob                          module                 <module 'glob' from '/Use<...>s/lib/python3.7/glob.py'>\n",
      "history                       History                <keras.callbacks.callback<...>ry object at 0x1f34df990>\n",
      "i                             int                    115070\n",
      "json                          module                 <module 'json' from '/Use<...>hon3.7/json/__init__.py'>\n",
      "kwd_classes                   ndarray                29160: 29160 elems, type `object`, 233280 bytes (227.8125 kb)\n",
      "ls                            list                   n=5285871\n",
      "model                         Sequential             <keras.engine.sequential.<...>al object at 0x1d86d39d0>\n",
      "model_dir                     str                    ./model\n",
      "model_path                    str                    ./model/multi_img_classification.model\n",
      "os                            module                 <module 'os' from '/Users<...>pus/lib/python3.7/os.py'>\n",
      "plt                           module                 <module 'matplotlib.pyplo<...>es/matplotlib/pyplot.py'>\n",
      "preds                         ndarray                153786x29160: 4484399760 elems, type `float32`, 17937599040 bytes (17106.627502441406 Mb)\n",
      "song                          int                    154078\n",
      "song_tag                      DataFrame                           id          <...>5285871 rows x 2 columns]\n",
      "songs                         list                   n=200\n",
      "tags                          list                   n=4\n",
      "train                         DataFrame                                       <...>[115071 rows x 6 columns]\n",
      "train_test_split              function               <function train_test_split at 0x1a4d3a8c0>\n",
      "unique_song_list              list                   n=615142\n",
      "y                             list                   n=615142\n",
      "y_test                        csr_matrix               (0, 10503)\t1\\n  (1, 135<...>6)\t1\\n  (153785, 28110)\t1\n",
      "y_train                       csr_matrix               (0, 21823)\t1\\n  (1, 983<...>5)\t1\\n  (461355, 10582)\t1\n",
      "yapf_reformat                 function               <function yapf_reformat at 0x1232e49e0>\n"
     ]
    }
   ],
   "source": [
    "%whos"
   ]
  },
  {
   "cell_type": "code",
   "execution_count": 40,
   "metadata": {
    "ExecuteTime": {
     "end_time": "2020-05-24T06:34:42.781073Z",
     "start_time": "2020-05-24T06:34:42.777398Z"
    }
   },
   "outputs": [
    {
     "data": {
      "text/plain": [
       "(153786, 29160)"
      ]
     },
     "execution_count": 40,
     "metadata": {},
     "output_type": "execute_result"
    }
   ],
   "source": [
    "preds.shape"
   ]
  },
  {
   "cell_type": "markdown",
   "metadata": {},
   "source": [
    "## 예측한 태그의 갯수"
   ]
  },
  {
   "cell_type": "code",
   "execution_count": 41,
   "metadata": {
    "ExecuteTime": {
     "end_time": "2020-05-24T06:35:06.225569Z",
     "start_time": "2020-05-24T06:34:52.582825Z"
    },
    "collapsed": true
   },
   "outputs": [
    {
     "ename": "KeyboardInterrupt",
     "evalue": "",
     "output_type": "error",
     "traceback": [
      "\u001b[0;31m---------------------------------------------------------------------------\u001b[0m",
      "\u001b[0;31mKeyboardInterrupt\u001b[0m                         Traceback (most recent call last)",
      "\u001b[0;32m<ipython-input-41-a005317fc902>\u001b[0m in \u001b[0;36m<module>\u001b[0;34m\u001b[0m\n\u001b[0;32m----> 1\u001b[0;31m \u001b[0mpreds\u001b[0m\u001b[0;34m.\u001b[0m\u001b[0msum\u001b[0m\u001b[0;34m(\u001b[0m\u001b[0maxis\u001b[0m\u001b[0;34m=\u001b[0m\u001b[0;36m1\u001b[0m\u001b[0;34m)\u001b[0m\u001b[0;34m[\u001b[0m\u001b[0;34m:\u001b[0m\u001b[0;36m100\u001b[0m\u001b[0;34m]\u001b[0m\u001b[0;34m\u001b[0m\u001b[0;34m\u001b[0m\u001b[0m\n\u001b[0m",
      "\u001b[0;32m~/opt/anaconda3/envs/fastcampus/lib/python3.7/site-packages/numpy/core/_methods.py\u001b[0m in \u001b[0;36m_sum\u001b[0;34m(a, axis, dtype, out, keepdims, initial, where)\u001b[0m\n\u001b[1;32m     36\u001b[0m def _sum(a, axis=None, dtype=None, out=None, keepdims=False,\n\u001b[1;32m     37\u001b[0m          initial=_NoValue, where=True):\n\u001b[0;32m---> 38\u001b[0;31m     \u001b[0;32mreturn\u001b[0m \u001b[0mumr_sum\u001b[0m\u001b[0;34m(\u001b[0m\u001b[0ma\u001b[0m\u001b[0;34m,\u001b[0m \u001b[0maxis\u001b[0m\u001b[0;34m,\u001b[0m \u001b[0mdtype\u001b[0m\u001b[0;34m,\u001b[0m \u001b[0mout\u001b[0m\u001b[0;34m,\u001b[0m \u001b[0mkeepdims\u001b[0m\u001b[0;34m,\u001b[0m \u001b[0minitial\u001b[0m\u001b[0;34m,\u001b[0m \u001b[0mwhere\u001b[0m\u001b[0;34m)\u001b[0m\u001b[0;34m\u001b[0m\u001b[0;34m\u001b[0m\u001b[0m\n\u001b[0m\u001b[1;32m     39\u001b[0m \u001b[0;34m\u001b[0m\u001b[0m\n\u001b[1;32m     40\u001b[0m def _prod(a, axis=None, dtype=None, out=None, keepdims=False,\n",
      "\u001b[0;31mKeyboardInterrupt\u001b[0m: "
     ]
    }
   ],
   "source": [
    "preds.sum(axis=1)[:100]"
   ]
  },
  {
   "cell_type": "markdown",
   "metadata": {},
   "source": [
    "## accuracy score"
   ]
  },
  {
   "cell_type": "code",
   "execution_count": 40,
   "metadata": {
    "ExecuteTime": {
     "end_time": "2020-05-24T11:24:47.698188Z",
     "start_time": "2020-05-24T11:24:43.754642Z"
    }
   },
   "outputs": [],
   "source": [
    "y_test = y_test.toarray()"
   ]
  },
  {
   "cell_type": "code",
   "execution_count": 41,
   "metadata": {
    "ExecuteTime": {
     "end_time": "2020-05-24T11:24:47.737038Z",
     "start_time": "2020-05-24T11:24:47.705274Z"
    }
   },
   "outputs": [
    {
     "data": {
      "text/plain": [
       "(153786, 29160)"
      ]
     },
     "execution_count": 41,
     "metadata": {},
     "output_type": "execute_result"
    }
   ],
   "source": [
    "y_test.shape"
   ]
  },
  {
   "cell_type": "code",
   "execution_count": 42,
   "metadata": {
    "ExecuteTime": {
     "end_time": "2020-05-24T11:24:47.753719Z",
     "start_time": "2020-05-24T11:24:47.741156Z"
    }
   },
   "outputs": [
    {
     "data": {
      "text/plain": [
       "(153786, 29160)"
      ]
     },
     "execution_count": 42,
     "metadata": {},
     "output_type": "execute_result"
    }
   ],
   "source": [
    "preds.shape"
   ]
  },
  {
   "cell_type": "code",
   "execution_count": null,
   "metadata": {
    "ExecuteTime": {
     "start_time": "2020-05-24T11:26:43.700Z"
    }
   },
   "outputs": [],
   "source": [
    "# 전체 데이터 \n",
    "np.sum(np.sum(y_test.astype(int) & preds.astype(int), axis=1) > 0) / y_test.shape[0]"
   ]
  },
  {
   "cell_type": "code",
   "execution_count": 45,
   "metadata": {
    "ExecuteTime": {
     "end_time": "2020-05-24T11:26:22.563328Z",
     "start_time": "2020-05-24T11:26:21.930413Z"
    }
   },
   "outputs": [
    {
     "name": "stdout",
     "output_type": "stream",
     "text": [
      "Variable              Type                   Data/Info\n",
      "------------------------------------------------------\n",
      "BatchNormalization    type                   <class 'keras.layers.norm<...>tion.BatchNormalization'>\n",
      "Conv2D                type                   <class 'keras.layers.convolutional.Conv2D'>\n",
      "Dense                 type                   <class 'keras.layers.core.Dense'>\n",
      "Dropout               type                   <class 'keras.layers.core.Dropout'>\n",
      "EarlyStopping         type                   <class 'keras.callbacks.callbacks.EarlyStopping'>\n",
      "Flatten               type                   <class 'keras.layers.core.Flatten'>\n",
      "K                     module                 <module 'keras.backend.te<...>d/tensorflow_backend.py'>\n",
      "MaxPooling2D          type                   <class 'keras.layers.pooling.MaxPooling2D'>\n",
      "ModelCheckpoint       type                   <class 'keras.callbacks.c<...>llbacks.ModelCheckpoint'>\n",
      "MultiLabelBinarizer   type                   <class 'sklearn.preproces<...>bel.MultiLabelBinarizer'>\n",
      "SGD                   type                   <class 'keras.optimizers.SGD'>\n",
      "Sequential            type                   <class 'keras.engine.sequential.Sequential'>\n",
      "X                     DataFrame                      GN0100  GN0101  G<...>15142 rows x 351 columns]\n",
      "X_test                ndarray                153786x351: 53978886 elems, type `float64`, 431831088 bytes (411.8262176513672 Mb)\n",
      "X_train               ndarray                461356x351: 161935956 elems, type `float64`, 1295487648 bytes (1235.4732971191406 Mb)\n",
      "Y_mlb                 MultiLabelBinarizer    MultiLabelBinarizer(class<...>None, sparse_output=True)\n",
      "Y_true                csr_matrix               (0, 14220)\t1\\n  (0, 983<...>27)\t1\\n  (615141, 7235)\t1\n",
      "checkpoint            ModelCheckpoint        <keras.callbacks.callback<...>nt object at 0x1dd7c5d10>\n",
      "df                    DataFrame                      GN0100  GN0101  G<...>15142 rows x 352 columns]\n",
      "df_songs              Series                 0         [525514, 129701<...>th: 115071, dtype: object\n",
      "early_stopping        EarlyStopping          <keras.callbacks.callback<...>ng object at 0x1dd7c7610>\n",
      "glob                  module                 <module 'glob' from '/Use<...>s/lib/python3.7/glob.py'>\n",
      "history               History                <keras.callbacks.callback<...>ry object at 0x1dd64ae10>\n",
      "i                     int                    115070\n",
      "json                  module                 <module 'json' from '/Use<...>hon3.7/json/__init__.py'>\n",
      "kwd_classes           ndarray                29160: 29160 elems, type `object`, 233280 bytes (227.8125 kb)\n",
      "ls                    list                   n=5285871\n",
      "model                 Sequential             <keras.engine.sequential.<...>al object at 0x1df3e2150>\n",
      "model_dir             str                    ./model\n",
      "model_path            str                    ./model/multi_img_classification.model\n",
      "os                    module                 <module 'os' from '/Users<...>pus/lib/python3.7/os.py'>\n",
      "plt                   module                 <module 'matplotlib.pyplo<...>es/matplotlib/pyplot.py'>\n",
      "preds                 ndarray                153786x29160: 4484399760 elems, type `float32`, 17937599040 bytes (17106.627502441406 Mb)\n",
      "song                  int                    154078\n",
      "songs                 list                   n=200\n",
      "tags                  list                   n=4\n",
      "train_test_split      function               <function train_test_split at 0x12bf2d8c0>\n",
      "unique_song_list      list                   n=615142\n",
      "y                     list                   n=615142\n",
      "y_test                ndarray                153786x29160: 4484399760 elems, type `int64`, 35875198080 bytes (34213.25500488281 Mb)\n",
      "y_train               csr_matrix               (0, 14220)\t1\\n  (0, 246<...>0)\t1\\n  (461355, 15546)\t1\n",
      "yapf_reformat         function               <function yapf_reformat at 0x19f4f54d0>\n"
     ]
    }
   ],
   "source": [
    "%whos"
   ]
  },
  {
   "cell_type": "code",
   "execution_count": 46,
   "metadata": {
    "ExecuteTime": {
     "end_time": "2020-05-24T11:26:32.330468Z",
     "start_time": "2020-05-24T11:26:32.288757Z"
    }
   },
   "outputs": [],
   "source": [
    "del df"
   ]
  },
  {
   "cell_type": "code",
   "execution_count": 44,
   "metadata": {
    "ExecuteTime": {
     "end_time": "2020-05-24T11:26:14.059020Z",
     "start_time": "2020-05-24T11:26:05.151995Z"
    }
   },
   "outputs": [],
   "source": [
    "del train\n",
    "del song_meta\n",
    "del song_tag\n",
    "del song_tag_df\n",
    "del final_df_no_id\n",
    "del final_df_one_hot\n",
    "del final_df_year_month_dummies\n"
   ]
  },
  {
   "cell_type": "code",
   "execution_count": null,
   "metadata": {},
   "outputs": [],
   "source": []
  },
  {
   "cell_type": "code",
   "execution_count": null,
   "metadata": {},
   "outputs": [],
   "source": []
  },
  {
   "cell_type": "code",
   "execution_count": null,
   "metadata": {},
   "outputs": [],
   "source": []
  },
  {
   "cell_type": "code",
   "execution_count": null,
   "metadata": {},
   "outputs": [],
   "source": []
  },
  {
   "cell_type": "code",
   "execution_count": null,
   "metadata": {},
   "outputs": [],
   "source": []
  },
  {
   "cell_type": "code",
   "execution_count": null,
   "metadata": {},
   "outputs": [],
   "source": []
  },
  {
   "cell_type": "code",
   "execution_count": 79,
   "metadata": {
    "ExecuteTime": {
     "end_time": "2020-05-23T08:33:42.857644Z",
     "start_time": "2020-05-23T08:33:42.377587Z"
    },
    "scrolled": true
   },
   "outputs": [
    {
     "data": {
      "text/plain": [
       "0.324"
      ]
     },
     "execution_count": 79,
     "metadata": {},
     "output_type": "execute_result"
    }
   ],
   "source": [
    "# 1000건 데이터\n",
    "np.sum(np.sum(y_test.astype(int) & preds.astype(int), axis=1) > 0) / y_test.shape[0]"
   ]
  },
  {
   "cell_type": "code",
   "execution_count": 60,
   "metadata": {
    "ExecuteTime": {
     "end_time": "2020-05-23T08:30:21.676987Z",
     "start_time": "2020-05-23T08:30:21.279906Z"
    },
    "scrolled": true
   },
   "outputs": [
    {
     "data": {
      "text/plain": [
       "0.3796"
      ]
     },
     "execution_count": 60,
     "metadata": {},
     "output_type": "execute_result"
    }
   ],
   "source": [
    "# 1000건 데이터\n",
    "np.sum(np.sum(y_test.astype(int) & preds.astype(int), axis=1) > 0) / y_test.shape[0]"
   ]
  },
  {
   "cell_type": "code",
   "execution_count": 68,
   "metadata": {
    "ExecuteTime": {
     "end_time": "2020-05-23T08:31:54.192408Z",
     "start_time": "2020-05-23T08:31:53.742503Z"
    }
   },
   "outputs": [
    {
     "data": {
      "text/plain": [
       "0.3392"
      ]
     },
     "execution_count": 68,
     "metadata": {},
     "output_type": "execute_result"
    }
   ],
   "source": [
    "# 1000건 데이터\n",
    "np.sum(np.sum(y_test.astype(int) & preds.astype(int), axis=1) > 0) / y_test.shape[0]"
   ]
  },
  {
   "cell_type": "code",
   "execution_count": 122,
   "metadata": {
    "ExecuteTime": {
     "end_time": "2020-05-23T07:16:52.958633Z",
     "start_time": "2020-05-23T07:16:28.896936Z"
    }
   },
   "outputs": [
    {
     "data": {
      "text/plain": [
       "0.3418"
      ]
     },
     "execution_count": 122,
     "metadata": {},
     "output_type": "execute_result"
    }
   ],
   "source": [
    "# 10000건 데이터\n",
    "np.sum(np.sum(y_test.astype(int) & preds.astype(int), axis=1) > 0) / y_test.shape[0]"
   ]
  },
  {
   "cell_type": "code",
   "execution_count": 128,
   "metadata": {
    "ExecuteTime": {
     "end_time": "2020-05-23T07:27:26.963331Z",
     "start_time": "2020-05-23T07:27:03.415792Z"
    }
   },
   "outputs": [
    {
     "data": {
      "text/plain": [
       "0.24504"
      ]
     },
     "execution_count": 128,
     "metadata": {},
     "output_type": "execute_result"
    }
   ],
   "source": [
    "# 10만건 데이터\n",
    "np.sum(np.sum(y_test.astype(int) & preds.astype(int), axis=1) > 0) / y_test.shape[0]"
   ]
  },
  {
   "cell_type": "code",
   "execution_count": 160,
   "metadata": {
    "ExecuteTime": {
     "end_time": "2020-05-23T07:43:13.561031Z",
     "start_time": "2020-05-23T07:42:51.070067Z"
    }
   },
   "outputs": [
    {
     "data": {
      "text/plain": [
       "0.25792"
      ]
     },
     "execution_count": 160,
     "metadata": {},
     "output_type": "execute_result"
    }
   ],
   "source": [
    "np.sum(np.sum(y_test.astype(int) & preds.astype(int), axis=1) > 0) / y_test.shape[0]"
   ]
  },
  {
   "cell_type": "code",
   "execution_count": 179,
   "metadata": {
    "ExecuteTime": {
     "end_time": "2020-05-23T08:00:28.570253Z",
     "start_time": "2020-05-23T08:00:08.569329Z"
    }
   },
   "outputs": [
    {
     "data": {
      "text/plain": [
       "0.0"
      ]
     },
     "execution_count": 179,
     "metadata": {},
     "output_type": "execute_result"
    }
   ],
   "source": [
    "np.sum(np.sum(y_test.astype(int) & preds.astype(int), axis=1) > 0) / y_test.shape[0]"
   ]
  },
  {
   "cell_type": "code",
   "execution_count": 186,
   "metadata": {
    "ExecuteTime": {
     "end_time": "2020-05-23T08:12:40.053044Z",
     "start_time": "2020-05-23T08:12:19.933103Z"
    }
   },
   "outputs": [
    {
     "data": {
      "text/plain": [
       "0.18288"
      ]
     },
     "execution_count": 186,
     "metadata": {},
     "output_type": "execute_result"
    }
   ],
   "source": [
    "np.sum(np.sum(y_test.astype(int) & preds.astype(int), axis=1) > 0) / y_test.shape[0]"
   ]
  },
  {
   "cell_type": "code",
   "execution_count": null,
   "metadata": {},
   "outputs": [],
   "source": []
  }
 ],
 "metadata": {
  "kernelspec": {
   "display_name": "Python 3",
   "language": "python",
   "name": "python3"
  },
  "language_info": {
   "codemirror_mode": {
    "name": "ipython",
    "version": 3
   },
   "file_extension": ".py",
   "mimetype": "text/x-python",
   "name": "python",
   "nbconvert_exporter": "python",
   "pygments_lexer": "ipython3",
   "version": "3.7.4"
  }
 },
 "nbformat": 4,
 "nbformat_minor": 2
}
