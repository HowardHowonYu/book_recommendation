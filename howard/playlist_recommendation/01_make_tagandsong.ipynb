{
 "cells": [
  {
   "cell_type": "markdown",
   "metadata": {},
   "source": [
    "## 1. song에서 tags를 만들기"
   ]
  },
  {
   "cell_type": "code",
   "execution_count": null,
   "metadata": {},
   "outputs": [],
   "source": [
    "train = pd.read_json('datas/train.json', typ = 'frame')\n",
    "train"
   ]
  },
  {
   "cell_type": "code",
   "execution_count": null,
   "metadata": {},
   "outputs": [],
   "source": [
    "tagandsong = train.loc[:,['tags','songs']]"
   ]
  },
  {
   "cell_type": "code",
   "execution_count": null,
   "metadata": {},
   "outputs": [],
   "source": [
    "# song에 tag 붙이기(1) song - tag 1:1\n",
    "\n",
    "from tqdm.notebook import tqdm\n",
    "tag_songs = []\n",
    "for i in tqdm(range(0, len(tagandsong))):\n",
    "    for j in range(0, len(tagandsong['tags'][i])):\n",
    "        for k in range(0,len(tagandsong['songs'][i])):\n",
    "            tag_song = [tagandsong['songs'][i][k], [tagandsong['tags'][i][j]]]\n",
    "            tag_songs.append(tag_song)"
   ]
  },
  {
   "cell_type": "code",
   "execution_count": null,
   "metadata": {},
   "outputs": [],
   "source": [
    "# song에 tag 붙이기(2) song - tag = 1:n\n",
    "df = pd.DataFrame(tag_songs, columns= ['songs', 'tags'])\n",
    "song_tags = pd.DataFrame(df['tags'].groupby(df['songs']).sum())\n",
    "song_tags.reset_index(inplace = True)"
   ]
  },
  {
   "cell_type": "code",
   "execution_count": null,
   "metadata": {},
   "outputs": [],
   "source": [
    "# tags count 붙이기\n",
    "song_tags['tags_num'] = np.nan\n",
    "for i in range(0,len(song_tags)):\n",
    "    song_tags['tags_num'][i] = sorted(Counter(song_tags['tags'][i]).items(), key = lambda x:x[1],reverse=True)\n",
    "    song_tags['tags_num'][i] = dict(song_tags['tags_num'][i])"
   ]
  },
  {
   "cell_type": "code",
   "execution_count": null,
   "metadata": {},
   "outputs": [],
   "source": [
    "# 저장\n",
    "song_tags.to_json('datas/song_tags.json')"
   ]
  },
  {
   "cell_type": "code",
   "execution_count": null,
   "metadata": {},
   "outputs": [],
   "source": [
    "# 불러오기\n",
    "song_tags = pd.read_json('datas/song_tags.json')\n",
    "song_tags"
   ]
  },
  {
   "cell_type": "markdown",
   "metadata": {},
   "source": [
    "## 2. tag에서 songs 만들기"
   ]
  },
  {
   "cell_type": "code",
   "execution_count": null,
   "metadata": {},
   "outputs": [],
   "source": [
    "tagandsong = train.loc[:,['tags','songs']]\n",
    "tagandsong"
   ]
  },
  {
   "cell_type": "code",
   "execution_count": null,
   "metadata": {},
   "outputs": [],
   "source": [
    "# song에 tag 붙이기(1) song - tag 1:1\n",
    "\n",
    "from tqdm.notebook import tqdm\n",
    "song_tags = []\n",
    "# tagandsong_idx = i\n",
    "for i in tqdm(range(0, len(tagandsong))):\n",
    "    #song_idx = j\n",
    "    for j in range(0, len(tagandsong['songs'][i])):\n",
    "        #tag_idx = k\n",
    "        for k in range(0,len(tagandsong['tags'][i])):\n",
    "            song_tag = [tagandsong['tags'][i][k], [tagandsong['songs'][i][j]]]\n",
    "            song_tags.append(song_tag)"
   ]
  },
  {
   "cell_type": "code",
   "execution_count": null,
   "metadata": {},
   "outputs": [],
   "source": [
    "df = pd.DataFrame(song_tags, columns= ['tags', 'songs'])\n",
    "df"
   ]
  },
  {
   "cell_type": "code",
   "execution_count": null,
   "metadata": {},
   "outputs": [],
   "source": [
    "# df의 데이터가 너무많아서 4번으로 나눠서 함(1/4)\n",
    "from collections import Counter\n",
    "from tqdm import notebook\n",
    "\n",
    "empty_df = []\n",
    "for i in notebook.tqdm(range(0,22900000,100000)):\n",
    "    sample = df[i:i+100000]\n",
    "    tag_songs = pd.DataFrame(sample['songs'].groupby(sample['tags']).sum())\n",
    "    tag_songs.reset_index(inplace = True)\n",
    "    empty_df.append(tag_songs)"
   ]
  },
  {
   "cell_type": "code",
   "execution_count": null,
   "metadata": {},
   "outputs": [],
   "source": [
    "df2 = pd.concat(empty_df)\n",
    "df2"
   ]
  },
  {
   "cell_type": "code",
   "execution_count": null,
   "metadata": {},
   "outputs": [],
   "source": [
    "# df의 데이터가 너무많아서 4번으로 나눠서 함(2/4)\n",
    "empty_df2 = []\n",
    "for i in notebook.tqdm(range(0,175726,10000)):\n",
    "    sample2 = df2[i:i+10000]\n",
    "    tag_songs = pd.DataFrame(sample2['songs'].groupby(sample2['tags']).sum())\n",
    "    tag_songs.reset_index(inplace = True)\n",
    "    empty_df2.append(tag_songs)\n",
    "df3 = pd.concat(empty_df2)\n",
    "df3"
   ]
  },
  {
   "cell_type": "code",
   "execution_count": null,
   "metadata": {},
   "outputs": [],
   "source": [
    "df3.reset_index(drop = True, inplace = True)\n",
    "df3"
   ]
  },
  {
   "cell_type": "code",
   "execution_count": null,
   "metadata": {},
   "outputs": [],
   "source": [
    "# df의 데이터가 너무많아서 4번으로 나눠서 함(3/4)\n",
    "empty_df3 = []\n",
    "for i in notebook.tqdm(range(0,82825,40000)):\n",
    "    sample3 = df3[i:i+40000]\n",
    "    tag_songs = pd.DataFrame(sample3['songs'].groupby(sample3['tags']).sum())\n",
    "    tag_songs.reset_index(inplace = True)\n",
    "    empty_df3.append(tag_songs)\n",
    "df4 = pd.concat(empty_df3)\n",
    "df4"
   ]
  },
  {
   "cell_type": "code",
   "execution_count": null,
   "metadata": {},
   "outputs": [],
   "source": [
    "# df의 데이터가 너무많아서 4번으로 나눠서 함(4/4)\n",
    "tag_songs = pd.DataFrame(df4['songs'].groupby(df4['tags']).sum())\n",
    "tag_songs.reset_index(inplace = True)\n",
    "tag_songs"
   ]
  }
 ],
 "metadata": {
  "kernelspec": {
   "display_name": "Python 3",
   "language": "python",
   "name": "python3"
  },
  "language_info": {
   "codemirror_mode": {
    "name": "ipython",
    "version": 3
   },
   "file_extension": ".py",
   "mimetype": "text/x-python",
   "name": "python",
   "nbconvert_exporter": "python",
   "pygments_lexer": "ipython3",
   "version": "3.7.6"
  }
 },
 "nbformat": 4,
 "nbformat_minor": 4
}
