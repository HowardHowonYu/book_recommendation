{
 "cells": [
  {
   "cell_type": "code",
   "execution_count": 14,
   "metadata": {
    "ExecuteTime": {
     "end_time": "2020-05-19T05:03:44.179310Z",
     "start_time": "2020-05-19T05:03:39.135082Z"
    }
   },
   "outputs": [],
   "source": [
    "train = pd.read_json('./raw_data/train.json')\n",
    "test = pd.read_json('./raw_data/test.json')\n",
    "val = pd.read_json('./raw_data/val_copy.json')"
   ]
  },
  {
   "cell_type": "code",
   "execution_count": 21,
   "metadata": {
    "ExecuteTime": {
     "end_time": "2020-05-19T05:06:48.602386Z",
     "start_time": "2020-05-19T05:06:48.559408Z"
    },
    "scrolled": false
   },
   "outputs": [],
   "source": [
    "val_no_tag_songs = val[(val['tags'].apply(len) == 0) & (val['songs'].apply(len) == 0)]"
   ]
  },
  {
   "cell_type": "markdown",
   "metadata": {
    "ExecuteTime": {
     "end_time": "2020-05-14T06:56:28.432447Z",
     "start_time": "2020-05-14T06:56:28.430336Z"
    }
   },
   "source": [
    "# 유사도 측정할 테스트 문장"
   ]
  },
  {
   "cell_type": "code",
   "execution_count": 46,
   "metadata": {
    "ExecuteTime": {
     "end_time": "2020-05-19T05:57:09.294115Z",
     "start_time": "2020-05-19T05:57:09.283161Z"
    }
   },
   "outputs": [],
   "source": [
    "val_no_tag_songs = val_no_tag_songs[val_no_tag_songs['plylst_title'].apply(len) != 0]"
   ]
  },
  {
   "cell_type": "code",
   "execution_count": 45,
   "metadata": {
    "ExecuteTime": {
     "end_time": "2020-05-19T05:57:06.941689Z",
     "start_time": "2020-05-19T05:57:06.931292Z"
    }
   },
   "outputs": [],
   "source": [
    "val_nothing_df = val_no_tag_songs[val_no_tag_songs['plylst_title'].apply(len) == 0]"
   ]
  },
  {
   "cell_type": "code",
   "execution_count": 27,
   "metadata": {
    "ExecuteTime": {
     "end_time": "2020-05-19T05:53:16.438341Z",
     "start_time": "2020-05-19T05:53:16.428359Z"
    }
   },
   "outputs": [
    {
     "name": "stdout",
     "output_type": "stream",
     "text": [
      "안녕\t안녕/MAG\n"
     ]
    }
   ],
   "source": [
    "from khaiii import KhaiiiApi\n",
    "api = KhaiiiApi()\n",
    "for i in api.analyze('안녕'):\n",
    "    print(i)"
   ]
  },
  {
   "cell_type": "code",
   "execution_count": 89,
   "metadata": {
    "ExecuteTime": {
     "end_time": "2020-05-19T06:04:34.450096Z",
     "start_time": "2020-05-19T06:04:34.442508Z"
    }
   },
   "outputs": [
    {
     "name": "stdout",
     "output_type": "stream",
     "text": [
      "앨리스테이블\n",
      "기분 좋은 재즈와 함께 만드는 달달한 하루\n",
      "■■■■ 사랑,그리고이별 ■■■■\n"
     ]
    }
   ],
   "source": [
    "for each in val_no_tag_songs['plylst_title'].iloc[:3]:\n",
    "    print(each)"
   ]
  },
  {
   "cell_type": "code",
   "execution_count": 119,
   "metadata": {
    "ExecuteTime": {
     "end_time": "2020-05-19T06:07:49.500591Z",
     "start_time": "2020-05-19T06:07:49.492041Z"
    }
   },
   "outputs": [
    {
     "data": {
      "text/plain": [
       "57        마쉬멜로우같은 멜로우한 음악\n",
       "71     공부와 독서를 위한 #Newage\n",
       "101          새벽에 감성 돋는 노래\n",
       "115    인디, OST 음악을 만나다 50\n",
       "Name: plylst_title, dtype: object"
      ]
     },
     "execution_count": 119,
     "metadata": {},
     "output_type": "execute_result"
    }
   ],
   "source": [
    "val_no_tag_songs['plylst_title'].iloc[3:7]"
   ]
  },
  {
   "cell_type": "code",
   "execution_count": 256,
   "metadata": {
    "ExecuteTime": {
     "end_time": "2020-05-19T07:02:05.624788Z",
     "start_time": "2020-05-19T07:02:05.594327Z"
    }
   },
   "outputs": [],
   "source": [
    "from khaiii import KhaiiiApi\n",
    "api = KhaiiiApi()\n",
    "ls = []\n",
    "contents_tokens = []\n",
    "for each in val_no_tag_songs['plylst_title'].iloc[:5]:\n",
    "    for word in api.analyze(each):\n",
    "        for morph in word.morphs:\n",
    "            ls.append(morph.lex) \n",
    "    \n",
    "    contents_tokens.append(ls)\n",
    "    ls=[]"
   ]
  },
  {
   "cell_type": "code",
   "execution_count": 257,
   "metadata": {
    "ExecuteTime": {
     "end_time": "2020-05-19T07:02:09.695277Z",
     "start_time": "2020-05-19T07:02:09.675635Z"
    }
   },
   "outputs": [
    {
     "data": {
      "text/plain": [
       "[['앨리스테', '이블'],\n",
       " ['기분', '좋', '은', '재즈', '와', '함께', '만들', '는', '달', '달', '하', 'ㄴ', '하루'],\n",
       " ['■', '■■■', '사랑', ',', '그', '리', '고이별', '■■■■'],\n",
       " ['마쉬', '멜로', '우', '같', '은', '멜로우한', '음악'],\n",
       " ['공부', '와', '독서', '를', '위하', 'ㄴ', '#', 'Newage']]"
      ]
     },
     "execution_count": 257,
     "metadata": {},
     "output_type": "execute_result"
    }
   ],
   "source": [
    "contents_tokens"
   ]
  },
  {
   "cell_type": "code",
   "execution_count": null,
   "metadata": {},
   "outputs": [],
   "source": []
  },
  {
   "cell_type": "code",
   "execution_count": null,
   "metadata": {},
   "outputs": [],
   "source": []
  },
  {
   "cell_type": "code",
   "execution_count": null,
   "metadata": {},
   "outputs": [],
   "source": []
  },
  {
   "cell_type": "code",
   "execution_count": null,
   "metadata": {},
   "outputs": [],
   "source": []
  },
  {
   "cell_type": "code",
   "execution_count": null,
   "metadata": {},
   "outputs": [],
   "source": []
  },
  {
   "cell_type": "code",
   "execution_count": null,
   "metadata": {},
   "outputs": [],
   "source": []
  },
  {
   "cell_type": "code",
   "execution_count": null,
   "metadata": {},
   "outputs": [],
   "source": []
  },
  {
   "cell_type": "code",
   "execution_count": 238,
   "metadata": {
    "ExecuteTime": {
     "end_time": "2020-05-19T06:41:00.912822Z",
     "start_time": "2020-05-19T06:39:16.134315Z"
    }
   },
   "outputs": [],
   "source": [
    "# 1분\n",
    "from sklearn.feature_extraction.text import CountVectorizer\n",
    "from konlpy.tag import Okt\n",
    "\n",
    "t = Okt()\n",
    "vectorizer = CountVectorizer(min_df = 1)\n",
    "\n",
    "contents_tokens = [t.morphs(each) for each in train['plylst_title']]"
   ]
  },
  {
   "cell_type": "code",
   "execution_count": null,
   "metadata": {
    "ExecuteTime": {
     "end_time": "2020-05-19T06:42:32.842266Z",
     "start_time": "2020-05-19T06:41:48.163Z"
    }
   },
   "outputs": [],
   "source": [
    "contents_for_vectorize = []\n",
    "\n",
    "for content in contents_tokens:\n",
    "    sentence = ''\n",
    "    for word in content:\n",
    "        sentence = sentence + \" \" + word\n",
    "    \n",
    "    contents_for_vectorize.append(sentence)\n",
    "    \n",
    "len(contents_for_vectorize)"
   ]
  },
  {
   "cell_type": "code",
   "execution_count": null,
   "metadata": {},
   "outputs": [],
   "source": []
  },
  {
   "cell_type": "code",
   "execution_count": 240,
   "metadata": {
    "ExecuteTime": {
     "end_time": "2020-05-19T06:41:03.009821Z",
     "start_time": "2020-05-19T06:41:01.340037Z"
    }
   },
   "outputs": [
    {
     "data": {
      "text/plain": [
       "<115071x35576 sparse matrix of type '<class 'numpy.float64'>'\n",
       "\twith 514198 stored elements in Compressed Sparse Row format>"
      ]
     },
     "execution_count": 240,
     "metadata": {},
     "output_type": "execute_result"
    }
   ],
   "source": [
    "# 벡터라이즈 morphs\n",
    "from sklearn.feature_extraction.text import CountVectorizer, TfidfVectorizer\n",
    "vectorizer = TfidfVectorizer(min_df = 1, decode_error = 'ignore')\n",
    "X = vectorizer.fit_transform(contents_for_vectorize)\n",
    "X"
   ]
  },
  {
   "cell_type": "code",
   "execution_count": 219,
   "metadata": {
    "ExecuteTime": {
     "end_time": "2020-05-19T06:33:13.392786Z",
     "start_time": "2020-05-19T06:33:12.439916Z"
    }
   },
   "outputs": [
    {
     "data": {
      "text/plain": [
       "<115071x14477 sparse matrix of type '<class 'numpy.float64'>'\n",
       "\twith 292969 stored elements in Compressed Sparse Row format>"
      ]
     },
     "execution_count": 219,
     "metadata": {},
     "output_type": "execute_result"
    }
   ],
   "source": [
    "# 벡터라이즈 nouns\n",
    "from sklearn.feature_extraction.text import CountVectorizer, TfidfVectorizer\n",
    "vectorizer = TfidfVectorizer(min_df = 1, decode_error = 'ignore')\n",
    "X = vectorizer.fit_transform(contents_for_vectorize)\n",
    "X"
   ]
  },
  {
   "cell_type": "code",
   "execution_count": 249,
   "metadata": {
    "ExecuteTime": {
     "end_time": "2020-05-19T06:43:37.762256Z",
     "start_time": "2020-05-19T06:43:37.751394Z"
    }
   },
   "outputs": [
    {
     "data": {
      "text/plain": [
       "[' 어디서 익숙한 멜로디 가 ?! 명곡 을 샘플링 한 해외 음악 21']"
      ]
     },
     "execution_count": 249,
     "metadata": {},
     "output_type": "execute_result"
    }
   ],
   "source": [
    "new_post = [val_no_tag_songs['plylst_title'].iloc[1234]]\n",
    "new_post_tokens = [t.morphs(row) for row in new_post]\n",
    "\n",
    "new_post_for_vectorize = []\n",
    "\n",
    "for content in new_post_tokens:\n",
    "    sentence = ''\n",
    "    for word in content:\n",
    "        sentence = sentence + ' ' + word\n",
    "    \n",
    "    new_post_for_vectorize.append(sentence)\n",
    "    \n",
    "new_post_for_vectorize"
   ]
  },
  {
   "cell_type": "code",
   "execution_count": 250,
   "metadata": {
    "ExecuteTime": {
     "end_time": "2020-05-19T06:43:38.916260Z",
     "start_time": "2020-05-19T06:43:38.906490Z"
    }
   },
   "outputs": [],
   "source": [
    "new_post_vec = vectorizer.transform(new_post_for_vectorize)"
   ]
  },
  {
   "cell_type": "code",
   "execution_count": 222,
   "metadata": {
    "ExecuteTime": {
     "end_time": "2020-05-19T06:33:16.512218Z",
     "start_time": "2020-05-19T06:33:16.507645Z"
    }
   },
   "outputs": [],
   "source": [
    "def dist_norm(v1, v2):\n",
    "    v1_normalized = v1 / sp.linalg.norm(v1.toarray())\n",
    "    v2_normalized = v2 / sp.linalg.norm(v2.toarray())\n",
    "    \n",
    "    delta = v1_normalized - v2_normalized\n",
    "    \n",
    "    return sp.linalg.norm(delta.toarray())"
   ]
  },
  {
   "cell_type": "code",
   "execution_count": 223,
   "metadata": {
    "ExecuteTime": {
     "end_time": "2020-05-19T06:33:17.262114Z",
     "start_time": "2020-05-19T06:33:17.238860Z"
    }
   },
   "outputs": [],
   "source": [
    "import scipy as sp\n",
    "\n",
    "def dist_raw(v1, v2):\n",
    "    delta = v1 - v2\n",
    "    return sp.linalg.norm(delta.toarray())"
   ]
  },
  {
   "cell_type": "markdown",
   "metadata": {},
   "source": [
    "## 거리 구하고"
   ]
  },
  {
   "cell_type": "code",
   "execution_count": 251,
   "metadata": {
    "ExecuteTime": {
     "end_time": "2020-05-19T06:46:32.947843Z",
     "start_time": "2020-05-19T06:43:41.949165Z"
    }
   },
   "outputs": [],
   "source": [
    "dist = [dist_norm(each, new_post_vec) for each in X]"
   ]
  },
  {
   "cell_type": "code",
   "execution_count": 252,
   "metadata": {
    "ExecuteTime": {
     "end_time": "2020-05-19T06:46:59.806495Z",
     "start_time": "2020-05-19T06:46:32.951714Z"
    }
   },
   "outputs": [],
   "source": [
    "ls = []\n",
    "for i in sorted(dist):\n",
    "    ls.append(dist.index(i))"
   ]
  },
  {
   "cell_type": "code",
   "execution_count": 253,
   "metadata": {
    "ExecuteTime": {
     "end_time": "2020-05-19T06:47:10.854324Z",
     "start_time": "2020-05-19T06:46:59.810542Z"
    }
   },
   "outputs": [
    {
     "data": {
      "text/plain": [
       "['재즈', '힙합', '랩', '클래식', '익숙한', '팝', '팝송', 'Pop', '광고음악', '션멘데스', '할시']"
      ]
     },
     "execution_count": 253,
     "metadata": {},
     "output_type": "execute_result"
    }
   ],
   "source": [
    "j = []\n",
    "for i in train.iloc[ls].drop_duplicates('id')['tags']:\n",
    "    j.append(i)\n",
    "k = sum(j, [])[:11]\n",
    "k"
   ]
  },
  {
   "cell_type": "code",
   "execution_count": 228,
   "metadata": {
    "ExecuteTime": {
     "end_time": "2020-05-19T06:36:46.399039Z",
     "start_time": "2020-05-19T06:36:41.239614Z"
    }
   },
   "outputs": [
    {
     "data": {
      "text/plain": [
       "['힙합',\n",
       " '랩',\n",
       " 'DJ',\n",
       " 'Electronic',\n",
       " '디제잉',\n",
       " 'Pop',\n",
       " 'sampling',\n",
       " 'EDM',\n",
       " '팝',\n",
       " 'DJing',\n",
       " '힙합']"
      ]
     },
     "execution_count": 228,
     "metadata": {},
     "output_type": "execute_result"
    }
   ],
   "source": [
    "j = []\n",
    "for i in train.iloc[ls].drop_duplicates('id')['tags']:\n",
    "    j.append(i)\n",
    "k = sum(j, [])[:11]\n",
    "k"
   ]
  },
  {
   "cell_type": "code",
   "execution_count": null,
   "metadata": {},
   "outputs": [],
   "source": []
  },
  {
   "cell_type": "code",
   "execution_count": null,
   "metadata": {},
   "outputs": [],
   "source": []
  },
  {
   "cell_type": "code",
   "execution_count": null,
   "metadata": {},
   "outputs": [],
   "source": []
  }
 ],
 "metadata": {
  "kernelspec": {
   "display_name": "Python 3",
   "language": "python",
   "name": "python3"
  },
  "language_info": {
   "codemirror_mode": {
    "name": "ipython",
    "version": 3
   },
   "file_extension": ".py",
   "mimetype": "text/x-python",
   "name": "python",
   "nbconvert_exporter": "python",
   "pygments_lexer": "ipython3",
   "version": "3.7.4"
  }
 },
 "nbformat": 4,
 "nbformat_minor": 2
}
