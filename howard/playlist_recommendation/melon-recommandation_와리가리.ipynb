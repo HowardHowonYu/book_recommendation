{
 "cells": [
  {
   "cell_type": "markdown",
   "metadata": {},
   "source": [
    "# try 2"
   ]
  },
  {
   "cell_type": "code",
   "execution_count": 133,
   "metadata": {
    "ExecuteTime": {
     "end_time": "2020-05-15T03:23:05.109327Z",
     "start_time": "2020-05-15T03:23:02.323663Z"
    }
   },
   "outputs": [
    {
     "data": {
      "text/html": [
       "<div>\n",
       "<style scoped>\n",
       "    .dataframe tbody tr th:only-of-type {\n",
       "        vertical-align: middle;\n",
       "    }\n",
       "\n",
       "    .dataframe tbody tr th {\n",
       "        vertical-align: top;\n",
       "    }\n",
       "\n",
       "    .dataframe thead th {\n",
       "        text-align: right;\n",
       "    }\n",
       "</style>\n",
       "<table border=\"1\" class=\"dataframe\">\n",
       "  <thead>\n",
       "    <tr style=\"text-align: right;\">\n",
       "      <th></th>\n",
       "      <th>tags</th>\n",
       "      <th>id</th>\n",
       "      <th>plylst_title</th>\n",
       "      <th>songs</th>\n",
       "      <th>like_cnt</th>\n",
       "      <th>updt_date</th>\n",
       "    </tr>\n",
       "  </thead>\n",
       "  <tbody>\n",
       "    <tr>\n",
       "      <td>0</td>\n",
       "      <td>[락]</td>\n",
       "      <td>61281</td>\n",
       "      <td>여행같은 음악</td>\n",
       "      <td>[525514, 129701, 383374, 562083, 297861, 13954...</td>\n",
       "      <td>71</td>\n",
       "      <td>2013-12-19 18:36:19.000</td>\n",
       "    </tr>\n",
       "    <tr>\n",
       "      <td>1</td>\n",
       "      <td>[추억, 회상]</td>\n",
       "      <td>10532</td>\n",
       "      <td>요즘 너 말야</td>\n",
       "      <td>[432406, 675945, 497066, 120377, 389529, 24427...</td>\n",
       "      <td>1</td>\n",
       "      <td>2014-12-02 16:19:42.000</td>\n",
       "    </tr>\n",
       "    <tr>\n",
       "      <td>2</td>\n",
       "      <td>[까페, 잔잔한]</td>\n",
       "      <td>76951</td>\n",
       "      <td>편하게, 잔잔하게 들을 수 있는 곡.-</td>\n",
       "      <td>[83116, 276692, 166267, 186301, 354465, 256598...</td>\n",
       "      <td>17</td>\n",
       "      <td>2017-08-28 07:09:34.000</td>\n",
       "    </tr>\n",
       "    <tr>\n",
       "      <td>3</td>\n",
       "      <td>[연말, 눈오는날, 캐럴, 분위기, 따듯한, 크리스마스캐럴, 겨울노래, 크리스마스,...</td>\n",
       "      <td>147456</td>\n",
       "      <td>크리스마스 분위기에 흠뻑 취하고 싶을때</td>\n",
       "      <td>[394031, 195524, 540149, 287984, 440773, 10033...</td>\n",
       "      <td>33</td>\n",
       "      <td>2019-12-05 15:15:18.000</td>\n",
       "    </tr>\n",
       "    <tr>\n",
       "      <td>4</td>\n",
       "      <td>[댄스]</td>\n",
       "      <td>27616</td>\n",
       "      <td>추억의 노래 ㅋ</td>\n",
       "      <td>[159327, 553610, 5130, 645103, 294435, 100657,...</td>\n",
       "      <td>9</td>\n",
       "      <td>2011-10-25 13:54:56.000</td>\n",
       "    </tr>\n",
       "    <tr>\n",
       "      <td>...</td>\n",
       "      <td>...</td>\n",
       "      <td>...</td>\n",
       "      <td>...</td>\n",
       "      <td>...</td>\n",
       "      <td>...</td>\n",
       "      <td>...</td>\n",
       "    </tr>\n",
       "    <tr>\n",
       "      <td>115066</td>\n",
       "      <td>[록메탈, 밴드사운드, 록, 락메탈, 메탈, 락, extreme]</td>\n",
       "      <td>120325</td>\n",
       "      <td>METAL E'SM #2</td>\n",
       "      <td>[429629, 441511, 612106, 516359, 691768, 38714...</td>\n",
       "      <td>3</td>\n",
       "      <td>2020-04-17 04:31:11.000</td>\n",
       "    </tr>\n",
       "    <tr>\n",
       "      <td>115067</td>\n",
       "      <td>[일렉]</td>\n",
       "      <td>106976</td>\n",
       "      <td>빠른 리스너를 위한 따끈따끈한 최신 인기 EDM 모음!</td>\n",
       "      <td>[321330, 216057, 534472, 240306, 331098, 23288...</td>\n",
       "      <td>13</td>\n",
       "      <td>2015-12-24 17:23:19.000</td>\n",
       "    </tr>\n",
       "    <tr>\n",
       "      <td>115068</td>\n",
       "      <td>[담시, 가족, 눈물, 그리움, 주인공, 나의_이야기, 사랑, 친구]</td>\n",
       "      <td>11343</td>\n",
       "      <td>#1. 눈물이 앞을 가리는 나의_이야기</td>\n",
       "      <td>[50512, 249024, 250608, 371171, 229942, 694943...</td>\n",
       "      <td>4</td>\n",
       "      <td>2019-08-16 20:59:22.000</td>\n",
       "    </tr>\n",
       "    <tr>\n",
       "      <td>115069</td>\n",
       "      <td>[잔잔한, 버스, 퇴근버스, Pop, 풍경, 퇴근길]</td>\n",
       "      <td>131982</td>\n",
       "      <td>퇴근 버스에서 편히 들으면서 하루를 마무리하기에 좋은 POP</td>\n",
       "      <td>[533534, 608114, 343608, 417140, 609009, 30217...</td>\n",
       "      <td>4</td>\n",
       "      <td>2019-10-25 23:40:42.000</td>\n",
       "    </tr>\n",
       "    <tr>\n",
       "      <td>115070</td>\n",
       "      <td>[노래추천, 팝송추천, 팝송, 팝송모음]</td>\n",
       "      <td>100389</td>\n",
       "      <td>FAVORITE POPSONG!!!</td>\n",
       "      <td>[26008, 456354, 324105, 89871, 135272, 143548,...</td>\n",
       "      <td>17</td>\n",
       "      <td>2020-04-18 20:35:06.000</td>\n",
       "    </tr>\n",
       "  </tbody>\n",
       "</table>\n",
       "<p>115071 rows × 6 columns</p>\n",
       "</div>"
      ],
      "text/plain": [
       "                                                     tags      id  \\\n",
       "0                                                     [락]   61281   \n",
       "1                                                [추억, 회상]   10532   \n",
       "2                                               [까페, 잔잔한]   76951   \n",
       "3       [연말, 눈오는날, 캐럴, 분위기, 따듯한, 크리스마스캐럴, 겨울노래, 크리스마스,...  147456   \n",
       "4                                                    [댄스]   27616   \n",
       "...                                                   ...     ...   \n",
       "115066               [록메탈, 밴드사운드, 록, 락메탈, 메탈, 락, extreme]  120325   \n",
       "115067                                               [일렉]  106976   \n",
       "115068             [담시, 가족, 눈물, 그리움, 주인공, 나의_이야기, 사랑, 친구]   11343   \n",
       "115069                      [잔잔한, 버스, 퇴근버스, Pop, 풍경, 퇴근길]  131982   \n",
       "115070                             [노래추천, 팝송추천, 팝송, 팝송모음]  100389   \n",
       "\n",
       "                             plylst_title  \\\n",
       "0                                 여행같은 음악   \n",
       "1                                 요즘 너 말야   \n",
       "2                   편하게, 잔잔하게 들을 수 있는 곡.-   \n",
       "3                   크리스마스 분위기에 흠뻑 취하고 싶을때   \n",
       "4                                추억의 노래 ㅋ   \n",
       "...                                   ...   \n",
       "115066                      METAL E'SM #2   \n",
       "115067     빠른 리스너를 위한 따끈따끈한 최신 인기 EDM 모음!   \n",
       "115068              #1. 눈물이 앞을 가리는 나의_이야기   \n",
       "115069  퇴근 버스에서 편히 들으면서 하루를 마무리하기에 좋은 POP   \n",
       "115070                FAVORITE POPSONG!!!   \n",
       "\n",
       "                                                    songs  like_cnt  \\\n",
       "0       [525514, 129701, 383374, 562083, 297861, 13954...        71   \n",
       "1       [432406, 675945, 497066, 120377, 389529, 24427...         1   \n",
       "2       [83116, 276692, 166267, 186301, 354465, 256598...        17   \n",
       "3       [394031, 195524, 540149, 287984, 440773, 10033...        33   \n",
       "4       [159327, 553610, 5130, 645103, 294435, 100657,...         9   \n",
       "...                                                   ...       ...   \n",
       "115066  [429629, 441511, 612106, 516359, 691768, 38714...         3   \n",
       "115067  [321330, 216057, 534472, 240306, 331098, 23288...        13   \n",
       "115068  [50512, 249024, 250608, 371171, 229942, 694943...         4   \n",
       "115069  [533534, 608114, 343608, 417140, 609009, 30217...         4   \n",
       "115070  [26008, 456354, 324105, 89871, 135272, 143548,...        17   \n",
       "\n",
       "                      updt_date  \n",
       "0       2013-12-19 18:36:19.000  \n",
       "1       2014-12-02 16:19:42.000  \n",
       "2       2017-08-28 07:09:34.000  \n",
       "3       2019-12-05 15:15:18.000  \n",
       "4       2011-10-25 13:54:56.000  \n",
       "...                         ...  \n",
       "115066  2020-04-17 04:31:11.000  \n",
       "115067  2015-12-24 17:23:19.000  \n",
       "115068  2019-08-16 20:59:22.000  \n",
       "115069  2019-10-25 23:40:42.000  \n",
       "115070  2020-04-18 20:35:06.000  \n",
       "\n",
       "[115071 rows x 6 columns]"
      ]
     },
     "execution_count": 133,
     "metadata": {},
     "output_type": "execute_result"
    }
   ],
   "source": [
    "train = pd.read_json('./raw_data/train.json', typ = 'frame')\n",
    "train"
   ]
  },
  {
   "cell_type": "code",
   "execution_count": 115,
   "metadata": {
    "ExecuteTime": {
     "end_time": "2020-05-15T02:05:53.072374Z",
     "start_time": "2020-05-15T02:05:53.063536Z"
    }
   },
   "outputs": [],
   "source": [
    "tagandsong = train.loc[:,['tags','songs']]"
   ]
  },
  {
   "cell_type": "code",
   "execution_count": 119,
   "metadata": {
    "ExecuteTime": {
     "end_time": "2020-05-15T02:06:37.198090Z",
     "start_time": "2020-05-15T02:06:28.640407Z"
    },
    "collapsed": true
   },
   "outputs": [
    {
     "data": {
      "application/vnd.jupyter.widget-view+json": {
       "model_id": "1504544af2084c30ab42819887245558",
       "version_major": 2,
       "version_minor": 0
      },
      "text/plain": [
       "HBox(children=(IntProgress(value=0, max=115071), HTML(value='')))"
      ]
     },
     "metadata": {},
     "output_type": "display_data"
    },
    {
     "ename": "SystemError",
     "evalue": "<built-in function is_scalar> returned a result with an error set",
     "output_type": "error",
     "traceback": [
      "\u001b[0;31m---------------------------------------------------------------------------\u001b[0m",
      "\u001b[0;31mKeyboardInterrupt\u001b[0m                         Traceback (most recent call last)",
      "\u001b[0;32m~/opt/anaconda3/envs/fastcampus/lib/python3.7/abc.py\u001b[0m in \u001b[0;36m__instancecheck__\u001b[0;34m(cls, instance)\u001b[0m\n\u001b[1;32m    136\u001b[0m \u001b[0;34m\u001b[0m\u001b[0m\n\u001b[0;32m--> 137\u001b[0;31m         \u001b[0;32mdef\u001b[0m \u001b[0m__instancecheck__\u001b[0m\u001b[0;34m(\u001b[0m\u001b[0mcls\u001b[0m\u001b[0;34m,\u001b[0m \u001b[0minstance\u001b[0m\u001b[0;34m)\u001b[0m\u001b[0;34m:\u001b[0m\u001b[0;34m\u001b[0m\u001b[0;34m\u001b[0m\u001b[0m\n\u001b[0m\u001b[1;32m    138\u001b[0m             \u001b[0;34m\"\"\"Override for isinstance(instance, cls).\"\"\"\u001b[0m\u001b[0;34m\u001b[0m\u001b[0;34m\u001b[0m\u001b[0m\n",
      "\u001b[0;31mKeyboardInterrupt\u001b[0m: ",
      "\nThe above exception was the direct cause of the following exception:\n",
      "\u001b[0;31mSystemError\u001b[0m                               Traceback (most recent call last)",
      "\u001b[0;32m<ipython-input-119-3937ab7bb88a>\u001b[0m in \u001b[0;36m<module>\u001b[0;34m\u001b[0m\n\u001b[1;32m      6\u001b[0m     \u001b[0;32mfor\u001b[0m \u001b[0mj\u001b[0m \u001b[0;32min\u001b[0m \u001b[0mrange\u001b[0m\u001b[0;34m(\u001b[0m\u001b[0;36m0\u001b[0m\u001b[0;34m,\u001b[0m \u001b[0mlen\u001b[0m\u001b[0;34m(\u001b[0m\u001b[0mtagandsong\u001b[0m\u001b[0;34m[\u001b[0m\u001b[0;34m'tags'\u001b[0m\u001b[0;34m]\u001b[0m\u001b[0;34m[\u001b[0m\u001b[0mi\u001b[0m\u001b[0;34m]\u001b[0m\u001b[0;34m)\u001b[0m\u001b[0;34m)\u001b[0m\u001b[0;34m:\u001b[0m\u001b[0;34m\u001b[0m\u001b[0;34m\u001b[0m\u001b[0m\n\u001b[1;32m      7\u001b[0m         \u001b[0;32mfor\u001b[0m \u001b[0mk\u001b[0m \u001b[0;32min\u001b[0m \u001b[0mrange\u001b[0m\u001b[0;34m(\u001b[0m\u001b[0;36m0\u001b[0m\u001b[0;34m,\u001b[0m\u001b[0mlen\u001b[0m\u001b[0;34m(\u001b[0m\u001b[0mtagandsong\u001b[0m\u001b[0;34m[\u001b[0m\u001b[0;34m'songs'\u001b[0m\u001b[0;34m]\u001b[0m\u001b[0;34m[\u001b[0m\u001b[0mi\u001b[0m\u001b[0;34m]\u001b[0m\u001b[0;34m)\u001b[0m\u001b[0;34m)\u001b[0m\u001b[0;34m:\u001b[0m\u001b[0;34m\u001b[0m\u001b[0;34m\u001b[0m\u001b[0m\n\u001b[0;32m----> 8\u001b[0;31m             \u001b[0mtag_song\u001b[0m \u001b[0;34m=\u001b[0m \u001b[0;34m[\u001b[0m\u001b[0mtagandsong\u001b[0m\u001b[0;34m[\u001b[0m\u001b[0;34m'songs'\u001b[0m\u001b[0;34m]\u001b[0m\u001b[0;34m[\u001b[0m\u001b[0mi\u001b[0m\u001b[0;34m]\u001b[0m\u001b[0;34m[\u001b[0m\u001b[0mk\u001b[0m\u001b[0;34m]\u001b[0m\u001b[0;34m,\u001b[0m \u001b[0;34m[\u001b[0m\u001b[0mtagandsong\u001b[0m\u001b[0;34m[\u001b[0m\u001b[0;34m'tags'\u001b[0m\u001b[0;34m]\u001b[0m\u001b[0;34m[\u001b[0m\u001b[0mi\u001b[0m\u001b[0;34m]\u001b[0m\u001b[0;34m[\u001b[0m\u001b[0mj\u001b[0m\u001b[0;34m]\u001b[0m\u001b[0;34m]\u001b[0m\u001b[0;34m]\u001b[0m\u001b[0;34m\u001b[0m\u001b[0;34m\u001b[0m\u001b[0m\n\u001b[0m\u001b[1;32m      9\u001b[0m             \u001b[0mtag_songs\u001b[0m\u001b[0;34m.\u001b[0m\u001b[0mappend\u001b[0m\u001b[0;34m(\u001b[0m\u001b[0mtag_song\u001b[0m\u001b[0;34m)\u001b[0m\u001b[0;34m\u001b[0m\u001b[0;34m\u001b[0m\u001b[0m\n",
      "\u001b[0;32m~/opt/anaconda3/envs/fastcampus/lib/python3.7/site-packages/pandas/core/series.py\u001b[0m in \u001b[0;36m__getitem__\u001b[0;34m(self, key)\u001b[0m\n\u001b[1;32m   1068\u001b[0m             \u001b[0mresult\u001b[0m \u001b[0;34m=\u001b[0m \u001b[0mself\u001b[0m\u001b[0;34m.\u001b[0m\u001b[0mindex\u001b[0m\u001b[0;34m.\u001b[0m\u001b[0mget_value\u001b[0m\u001b[0;34m(\u001b[0m\u001b[0mself\u001b[0m\u001b[0;34m,\u001b[0m \u001b[0mkey\u001b[0m\u001b[0;34m)\u001b[0m\u001b[0;34m\u001b[0m\u001b[0;34m\u001b[0m\u001b[0m\n\u001b[1;32m   1069\u001b[0m \u001b[0;34m\u001b[0m\u001b[0m\n\u001b[0;32m-> 1070\u001b[0;31m             \u001b[0;32mif\u001b[0m \u001b[0;32mnot\u001b[0m \u001b[0mis_scalar\u001b[0m\u001b[0;34m(\u001b[0m\u001b[0mresult\u001b[0m\u001b[0;34m)\u001b[0m\u001b[0;34m:\u001b[0m\u001b[0;34m\u001b[0m\u001b[0;34m\u001b[0m\u001b[0m\n\u001b[0m\u001b[1;32m   1071\u001b[0m                 \u001b[0;32mif\u001b[0m \u001b[0mis_list_like\u001b[0m\u001b[0;34m(\u001b[0m\u001b[0mresult\u001b[0m\u001b[0;34m)\u001b[0m \u001b[0;32mand\u001b[0m \u001b[0;32mnot\u001b[0m \u001b[0misinstance\u001b[0m\u001b[0;34m(\u001b[0m\u001b[0mresult\u001b[0m\u001b[0;34m,\u001b[0m \u001b[0mSeries\u001b[0m\u001b[0;34m)\u001b[0m\u001b[0;34m:\u001b[0m\u001b[0;34m\u001b[0m\u001b[0;34m\u001b[0m\u001b[0m\n\u001b[1;32m   1072\u001b[0m \u001b[0;34m\u001b[0m\u001b[0m\n",
      "\u001b[0;31mSystemError\u001b[0m: <built-in function is_scalar> returned a result with an error set"
     ]
    }
   ],
   "source": [
    "# song에 tag 붙이기(1) song - tag 1:1\n",
    "\n",
    "from tqdm.notebook import tqdm\n",
    "tag_songs = []\n",
    "for i in tqdm(range(0, len(tagandsong))):\n",
    "    for j in range(0, len(tagandsong['tags'][i])):\n",
    "        for k in range(0,len(tagandsong['songs'][i])):\n",
    "            tag_song = [tagandsong['songs'][i][k], [tagandsong['tags'][i][j]]]\n",
    "            tag_songs.append(tag_song)"
   ]
  },
  {
   "cell_type": "code",
   "execution_count": null,
   "metadata": {
    "ExecuteTime": {
     "end_time": "2020-05-15T02:06:37.200464Z",
     "start_time": "2020-05-15T02:06:29.642Z"
    }
   },
   "outputs": [],
   "source": [
    "# song에 tag 붙이기(2) song - tag = 1:n\n",
    "df = pd.DataFrame(tag_songs, columns= ['songs', 'tags'])\n",
    "song_tags = pd.DataFrame(df['tags'].groupby(df['songs']).sum())\n",
    "song_tags.reset_index(inplace = True)"
   ]
  },
  {
   "cell_type": "code",
   "execution_count": null,
   "metadata": {
    "ExecuteTime": {
     "end_time": "2020-05-15T02:06:37.202568Z",
     "start_time": "2020-05-15T02:06:31.436Z"
    }
   },
   "outputs": [],
   "source": [
    "# tags count 붙이기\n",
    "song_tags['tags_num'] = np.nan\n",
    "for i in range(0,len(song_tags)):\n",
    "    song_tags['tags_num'][i] = sorted(Counter(song_tags['tags'][i]).items(), key = lambda x:x[1],reverse=True)\n",
    "    song_tags['tags_num'][i] = dict(song_tags['tags_num'][i])"
   ]
  },
  {
   "cell_type": "code",
   "execution_count": null,
   "metadata": {
    "ExecuteTime": {
     "end_time": "2020-05-15T02:06:37.203701Z",
     "start_time": "2020-05-15T02:06:31.762Z"
    }
   },
   "outputs": [],
   "source": [
    "# 저장\n",
    "song_tags.to_json('datas/song_tags.json')"
   ]
  },
  {
   "cell_type": "code",
   "execution_count": null,
   "metadata": {},
   "outputs": [],
   "source": [
    "# 불러오기\n",
    "song_tags = pd.read_json('datas/song_tags.json')\n",
    "song_tags"
   ]
  },
  {
   "cell_type": "markdown",
   "metadata": {},
   "source": [
    "## 2. tag에서 songs 만들기"
   ]
  },
  {
   "cell_type": "code",
   "execution_count": null,
   "metadata": {},
   "outputs": [],
   "source": [
    "tagandsong = train.loc[:,['tags','songs']]\n",
    "tagandsong"
   ]
  },
  {
   "cell_type": "code",
   "execution_count": null,
   "metadata": {},
   "outputs": [],
   "source": [
    "# song에 tag 붙이기(1) song - tag 1:1\n",
    "\n",
    "from tqdm.notebook import tqdm\n",
    "song_tags = []\n",
    "# tagandsong_idx = i\n",
    "for i in tqdm(range(0, len(tagandsong))):\n",
    "    #song_idx = j\n",
    "    for j in range(0, len(tagandsong['songs'][i])):\n",
    "        #tag_idx = k\n",
    "        for k in range(0,len(tagandsong['tags'][i])):\n",
    "            song_tag = [tagandsong['tags'][i][k], [tagandsong['songs'][i][j]]]\n",
    "            song_tags.append(song_tag)"
   ]
  },
  {
   "cell_type": "code",
   "execution_count": null,
   "metadata": {},
   "outputs": [],
   "source": [
    "df = pd.DataFrame(song_tags, columns= ['tags', 'songs'])\n",
    "df"
   ]
  },
  {
   "cell_type": "code",
   "execution_count": null,
   "metadata": {},
   "outputs": [],
   "source": [
    "# df의 데이터가 너무많아서 4번으로 나눠서 함(1/4)\n",
    "from collections import Counter\n",
    "from tqdm import notebook\n",
    "\n",
    "empty_df = []\n",
    "for i in notebook.tqdm(range(0,22900000,100000)):\n",
    "    sample = df[i:i+100000]\n",
    "    tag_songs = pd.DataFrame(sample['songs'].groupby(sample['tags']).sum())\n",
    "    tag_songs.reset_index(inplace = True)\n",
    "    empty_df.append(tag_songs)"
   ]
  },
  {
   "cell_type": "code",
   "execution_count": null,
   "metadata": {},
   "outputs": [],
   "source": [
    "df2 = pd.concat(empty_df)\n",
    "df2"
   ]
  },
  {
   "cell_type": "code",
   "execution_count": null,
   "metadata": {},
   "outputs": [],
   "source": [
    "# df의 데이터가 너무많아서 4번으로 나눠서 함(2/4)\n",
    "empty_df2 = []\n",
    "for i in notebook.tqdm(range(0,175726,10000)):\n",
    "    sample2 = df2[i:i+10000]\n",
    "    tag_songs = pd.DataFrame(sample2['songs'].groupby(sample2['tags']).sum())\n",
    "    tag_songs.reset_index(inplace = True)\n",
    "    empty_df2.append(tag_songs)\n",
    "df3 = pd.concat(empty_df2)\n",
    "df3"
   ]
  },
  {
   "cell_type": "code",
   "execution_count": null,
   "metadata": {},
   "outputs": [],
   "source": [
    "df3.reset_index(drop = True, inplace = True)\n",
    "df3"
   ]
  },
  {
   "cell_type": "code",
   "execution_count": null,
   "metadata": {},
   "outputs": [],
   "source": [
    "# df의 데이터가 너무많아서 4번으로 나눠서 함(3/4)\n",
    "empty_df3 = []\n",
    "for i in notebook.tqdm(range(0,82825,40000)):\n",
    "    sample3 = df3[i:i+40000]\n",
    "    tag_songs = pd.DataFrame(sample3['songs'].groupby(sample3['tags']).sum())\n",
    "    tag_songs.reset_index(inplace = True)\n",
    "    empty_df3.append(tag_songs)\n",
    "df4 = pd.concat(empty_df3)\n",
    "df4"
   ]
  },
  {
   "cell_type": "code",
   "execution_count": null,
   "metadata": {},
   "outputs": [],
   "source": [
    "# df의 데이터가 너무많아서 4번으로 나눠서 함(4/4)\n",
    "tag_songs = pd.DataFrame(df4['songs'].groupby(df4['tags']).sum())\n",
    "tag_songs.reset_index(inplace = True)\n",
    "tag_songs"
   ]
  },
  {
   "cell_type": "markdown",
   "metadata": {},
   "source": [
    "## val_copy에서 songs -> tag 만들기"
   ]
  },
  {
   "cell_type": "code",
   "execution_count": 1,
   "metadata": {
    "scrolled": true
   },
   "outputs": [
    {
     "data": {
      "text/html": [
       "<div>\n",
       "<style scoped>\n",
       "    .dataframe tbody tr th:only-of-type {\n",
       "        vertical-align: middle;\n",
       "    }\n",
       "\n",
       "    .dataframe tbody tr th {\n",
       "        vertical-align: top;\n",
       "    }\n",
       "\n",
       "    .dataframe thead th {\n",
       "        text-align: right;\n",
       "    }\n",
       "</style>\n",
       "<table border=\"1\" class=\"dataframe\">\n",
       "  <thead>\n",
       "    <tr style=\"text-align: right;\">\n",
       "      <th></th>\n",
       "      <th>songs</th>\n",
       "      <th>tags</th>\n",
       "      <th>tags_num</th>\n",
       "    </tr>\n",
       "  </thead>\n",
       "  <tbody>\n",
       "    <tr>\n",
       "      <th>0</th>\n",
       "      <td>0</td>\n",
       "      <td>[비오는날, 드라이브, 비오는날, 추억, 회상]</td>\n",
       "      <td>{'비오는날': 2, '드라이브': 1, '추억': 1, '회상': 1}</td>\n",
       "    </tr>\n",
       "    <tr>\n",
       "      <th>1</th>\n",
       "      <td>3</td>\n",
       "      <td>[1, 감성, 듣기좋은, 드라이브, Pop, 여행, 기분전환, 팝, 신나는, 클럽,...</td>\n",
       "      <td>{'기분전환': 3, '신나는': 3, '드라이브': 2, '클럽': 2, '페스티...</td>\n",
       "    </tr>\n",
       "    <tr>\n",
       "      <th>2</th>\n",
       "      <td>4</td>\n",
       "      <td>[뉴에이지, 뉴에이지]</td>\n",
       "      <td>{'뉴에이지': 2}</td>\n",
       "    </tr>\n",
       "    <tr>\n",
       "      <th>3</th>\n",
       "      <td>5</td>\n",
       "      <td>[비오는날, 재즈, 락, 발라드, 휴식, 리메이크, 재즈, 힐링송, 힐링, 기분전환...</td>\n",
       "      <td>{'재즈': 2, '비오는날': 1, '락': 1, '발라드': 1, '휴식': 1...</td>\n",
       "    </tr>\n",
       "    <tr>\n",
       "      <th>4</th>\n",
       "      <td>6</td>\n",
       "      <td>[클래식, 산책, 조깅]</td>\n",
       "      <td>{'클래식': 1, '산책': 1, '조깅': 1}</td>\n",
       "    </tr>\n",
       "    <tr>\n",
       "      <th>...</th>\n",
       "      <td>...</td>\n",
       "      <td>...</td>\n",
       "      <td>...</td>\n",
       "    </tr>\n",
       "    <tr>\n",
       "      <th>615137</th>\n",
       "      <td>707984</td>\n",
       "      <td>[월드뮤직]</td>\n",
       "      <td>{'월드뮤직': 1}</td>\n",
       "    </tr>\n",
       "    <tr>\n",
       "      <th>615138</th>\n",
       "      <td>707985</td>\n",
       "      <td>[Pop, 해외차트, 시대별차트, 신디로퍼, Pop, 1980, 라이벌, 록]</td>\n",
       "      <td>{'Pop': 2, '해외차트': 1, '시대별차트': 1, '신디로퍼': 1, '...</td>\n",
       "    </tr>\n",
       "    <tr>\n",
       "      <th>615139</th>\n",
       "      <td>707986</td>\n",
       "      <td>[힙합, 랩, 발라드, 감성, 리메이크곡, 카페, 잔잔한, 추억, 위로, 힐링, 사...</td>\n",
       "      <td>{'발라드': 5, '잔잔한': 4, '이별': 4, '감성': 3, '추억': 3...</td>\n",
       "    </tr>\n",
       "    <tr>\n",
       "      <th>615140</th>\n",
       "      <td>707987</td>\n",
       "      <td>[집중, 노동요, 새벽, 오후, 자장가, 공부]</td>\n",
       "      <td>{'집중': 1, '노동요': 1, '새벽': 1, '오후': 1, '자장가': 1...</td>\n",
       "    </tr>\n",
       "    <tr>\n",
       "      <th>615141</th>\n",
       "      <td>707988</td>\n",
       "      <td>[데뷔24년, 김경호, 샤우팅의_지존]</td>\n",
       "      <td>{'데뷔24년': 1, '김경호': 1, '샤우팅의_지존': 1}</td>\n",
       "    </tr>\n",
       "  </tbody>\n",
       "</table>\n",
       "<p>615142 rows × 3 columns</p>\n",
       "</div>"
      ],
      "text/plain": [
       "         songs                                               tags  \\\n",
       "0            0                         [비오는날, 드라이브, 비오는날, 추억, 회상]   \n",
       "1            3  [1, 감성, 듣기좋은, 드라이브, Pop, 여행, 기분전환, 팝, 신나는, 클럽,...   \n",
       "2            4                                       [뉴에이지, 뉴에이지]   \n",
       "3            5  [비오는날, 재즈, 락, 발라드, 휴식, 리메이크, 재즈, 힐링송, 힐링, 기분전환...   \n",
       "4            6                                      [클래식, 산책, 조깅]   \n",
       "...        ...                                                ...   \n",
       "615137  707984                                             [월드뮤직]   \n",
       "615138  707985        [Pop, 해외차트, 시대별차트, 신디로퍼, Pop, 1980, 라이벌, 록]   \n",
       "615139  707986  [힙합, 랩, 발라드, 감성, 리메이크곡, 카페, 잔잔한, 추억, 위로, 힐링, 사...   \n",
       "615140  707987                         [집중, 노동요, 새벽, 오후, 자장가, 공부]   \n",
       "615141  707988                              [데뷔24년, 김경호, 샤우팅의_지존]   \n",
       "\n",
       "                                                 tags_num  \n",
       "0                {'비오는날': 2, '드라이브': 1, '추억': 1, '회상': 1}  \n",
       "1       {'기분전환': 3, '신나는': 3, '드라이브': 2, '클럽': 2, '페스티...  \n",
       "2                                             {'뉴에이지': 2}  \n",
       "3       {'재즈': 2, '비오는날': 1, '락': 1, '발라드': 1, '휴식': 1...  \n",
       "4                            {'클래식': 1, '산책': 1, '조깅': 1}  \n",
       "...                                                   ...  \n",
       "615137                                        {'월드뮤직': 1}  \n",
       "615138  {'Pop': 2, '해외차트': 1, '시대별차트': 1, '신디로퍼': 1, '...  \n",
       "615139  {'발라드': 5, '잔잔한': 4, '이별': 4, '감성': 3, '추억': 3...  \n",
       "615140  {'집중': 1, '노동요': 1, '새벽': 1, '오후': 1, '자장가': 1...  \n",
       "615141               {'데뷔24년': 1, '김경호': 1, '샤우팅의_지존': 1}  \n",
       "\n",
       "[615142 rows x 3 columns]"
      ]
     },
     "execution_count": 1,
     "metadata": {},
     "output_type": "execute_result"
    }
   ],
   "source": [
    "# song_tags 불러오기\n",
    "song_tags = pd.read_json('datas/song_tags.json')\n",
    "song_tags"
   ]
  },
  {
   "cell_type": "code",
   "execution_count": 2,
   "metadata": {
    "scrolled": true
   },
   "outputs": [
    {
     "data": {
      "text/html": [
       "<div>\n",
       "<style scoped>\n",
       "    .dataframe tbody tr th:only-of-type {\n",
       "        vertical-align: middle;\n",
       "    }\n",
       "\n",
       "    .dataframe tbody tr th {\n",
       "        vertical-align: top;\n",
       "    }\n",
       "\n",
       "    .dataframe thead th {\n",
       "        text-align: right;\n",
       "    }\n",
       "</style>\n",
       "<table border=\"1\" class=\"dataframe\">\n",
       "  <thead>\n",
       "    <tr style=\"text-align: right;\">\n",
       "      <th></th>\n",
       "      <th>tags</th>\n",
       "      <th>id</th>\n",
       "      <th>plylst_title</th>\n",
       "      <th>songs</th>\n",
       "      <th>like_cnt</th>\n",
       "      <th>updt_date</th>\n",
       "    </tr>\n",
       "  </thead>\n",
       "  <tbody>\n",
       "    <tr>\n",
       "      <th>0</th>\n",
       "      <td>[]</td>\n",
       "      <td>118598</td>\n",
       "      <td></td>\n",
       "      <td>[373313, 151080, 275346, 696876, 165237, 52593...</td>\n",
       "      <td>1675</td>\n",
       "      <td>2019-05-27 14:14:33.000</td>\n",
       "    </tr>\n",
       "    <tr>\n",
       "      <th>1</th>\n",
       "      <td>[]</td>\n",
       "      <td>131447</td>\n",
       "      <td>앨리스테이블</td>\n",
       "      <td>[]</td>\n",
       "      <td>1</td>\n",
       "      <td>2014-07-16 15:24:24.000</td>\n",
       "    </tr>\n",
       "    <tr>\n",
       "      <th>2</th>\n",
       "      <td>[]</td>\n",
       "      <td>51464</td>\n",
       "      <td></td>\n",
       "      <td>[529437, 516103, 360067, 705713, 226062, 37089...</td>\n",
       "      <td>62</td>\n",
       "      <td>2008-06-21 23:26:22.000</td>\n",
       "    </tr>\n",
       "    <tr>\n",
       "      <th>3</th>\n",
       "      <td>[]</td>\n",
       "      <td>45144</td>\n",
       "      <td></td>\n",
       "      <td>[589668, 21711, 570151, 320043, 13930, 599327,...</td>\n",
       "      <td>20</td>\n",
       "      <td>2017-10-30 18:15:43.000</td>\n",
       "    </tr>\n",
       "    <tr>\n",
       "      <th>4</th>\n",
       "      <td>[]</td>\n",
       "      <td>79929</td>\n",
       "      <td></td>\n",
       "      <td>[672718, 121924, 102694, 683657, 201558, 38511...</td>\n",
       "      <td>20</td>\n",
       "      <td>2017-02-07 11:40:42.000</td>\n",
       "    </tr>\n",
       "    <tr>\n",
       "      <th>...</th>\n",
       "      <td>...</td>\n",
       "      <td>...</td>\n",
       "      <td>...</td>\n",
       "      <td>...</td>\n",
       "      <td>...</td>\n",
       "      <td>...</td>\n",
       "    </tr>\n",
       "    <tr>\n",
       "      <th>23010</th>\n",
       "      <td>[잔잔한]</td>\n",
       "      <td>101722</td>\n",
       "      <td></td>\n",
       "      <td>[75842, 26083, 244183, 684715, 500593, 508608,...</td>\n",
       "      <td>17</td>\n",
       "      <td>2015-12-17 14:06:05.000</td>\n",
       "    </tr>\n",
       "    <tr>\n",
       "      <th>23011</th>\n",
       "      <td>[어머니, 힘들때, 아빠, 가족, 위로받고싶을때]</td>\n",
       "      <td>122127</td>\n",
       "      <td></td>\n",
       "      <td>[450275, 487671, 561031, 663944, 628672, 59121...</td>\n",
       "      <td>10</td>\n",
       "      <td>2020-04-16 21:35:44.000</td>\n",
       "    </tr>\n",
       "    <tr>\n",
       "      <th>23012</th>\n",
       "      <td>[]</td>\n",
       "      <td>77438</td>\n",
       "      <td></td>\n",
       "      <td>[625875, 464051, 11657, 236393, 358186, 213435...</td>\n",
       "      <td>0</td>\n",
       "      <td>2019-03-27 15:27:40.000</td>\n",
       "    </tr>\n",
       "    <tr>\n",
       "      <th>23013</th>\n",
       "      <td>[]</td>\n",
       "      <td>36231</td>\n",
       "      <td></td>\n",
       "      <td>[161094, 665833, 688145, 432735, 439938, 12665...</td>\n",
       "      <td>31</td>\n",
       "      <td>2015-11-18 11:49:09.000</td>\n",
       "    </tr>\n",
       "    <tr>\n",
       "      <th>23014</th>\n",
       "      <td>[]</td>\n",
       "      <td>65189</td>\n",
       "      <td></td>\n",
       "      <td>[643070, 132994, 98223, 293236, 513129, 650494...</td>\n",
       "      <td>19</td>\n",
       "      <td>2017-04-23 16:50:58.000</td>\n",
       "    </tr>\n",
       "  </tbody>\n",
       "</table>\n",
       "<p>23015 rows × 6 columns</p>\n",
       "</div>"
      ],
      "text/plain": [
       "                              tags      id plylst_title  \\\n",
       "0                               []  118598                \n",
       "1                               []  131447       앨리스테이블   \n",
       "2                               []   51464                \n",
       "3                               []   45144                \n",
       "4                               []   79929                \n",
       "...                            ...     ...          ...   \n",
       "23010                        [잔잔한]  101722                \n",
       "23011  [어머니, 힘들때, 아빠, 가족, 위로받고싶을때]  122127                \n",
       "23012                           []   77438                \n",
       "23013                           []   36231                \n",
       "23014                           []   65189                \n",
       "\n",
       "                                                   songs  like_cnt  \\\n",
       "0      [373313, 151080, 275346, 696876, 165237, 52593...      1675   \n",
       "1                                                     []         1   \n",
       "2      [529437, 516103, 360067, 705713, 226062, 37089...        62   \n",
       "3      [589668, 21711, 570151, 320043, 13930, 599327,...        20   \n",
       "4      [672718, 121924, 102694, 683657, 201558, 38511...        20   \n",
       "...                                                  ...       ...   \n",
       "23010  [75842, 26083, 244183, 684715, 500593, 508608,...        17   \n",
       "23011  [450275, 487671, 561031, 663944, 628672, 59121...        10   \n",
       "23012  [625875, 464051, 11657, 236393, 358186, 213435...         0   \n",
       "23013  [161094, 665833, 688145, 432735, 439938, 12665...        31   \n",
       "23014  [643070, 132994, 98223, 293236, 513129, 650494...        19   \n",
       "\n",
       "                     updt_date  \n",
       "0      2019-05-27 14:14:33.000  \n",
       "1      2014-07-16 15:24:24.000  \n",
       "2      2008-06-21 23:26:22.000  \n",
       "3      2017-10-30 18:15:43.000  \n",
       "4      2017-02-07 11:40:42.000  \n",
       "...                        ...  \n",
       "23010  2015-12-17 14:06:05.000  \n",
       "23011  2020-04-16 21:35:44.000  \n",
       "23012  2019-03-27 15:27:40.000  \n",
       "23013  2015-11-18 11:49:09.000  \n",
       "23014  2017-04-23 16:50:58.000  \n",
       "\n",
       "[23015 rows x 6 columns]"
      ]
     },
     "execution_count": 2,
     "metadata": {},
     "output_type": "execute_result"
    }
   ],
   "source": [
    "val = pd.read_json('datas/val.json', typ = 'frame')\n",
    "val"
   ]
  },
  {
   "cell_type": "code",
   "execution_count": null,
   "metadata": {},
   "outputs": [],
   "source": [
    "from collections import Counter\n",
    "from tqdm import notebook\n",
    "val_copy = val.copy()\n",
    "# df_indx = i\n",
    "for i in notebook.tqdm(range(0,len(val_copy))):\n",
    "    tags = {}\n",
    "    if len(val_copy['songs'][i]) != 0:\n",
    "        # song_idx = j\n",
    "        for j in range(0,len(val_copy['songs'][i])):\n",
    "            if len(song_tags[song_tags['songs'] == val_copy['songs'][i][j]]) != 0:\n",
    "                tag = song_tags[song_tags['songs'] == val_copy['songs'][i][j]]['tags_num'].values[0]\n",
    "                tags = Counter(tags) + Counter(tag)\n",
    "            val_copy['tags'][i] = list(dict(sorted(tags.items(), key = lambda x:x[1],reverse=True)[:10]).keys())\n",
    "    else :\n",
    "        print(f'{i}번째 노래없음')"
   ]
  },
  {
   "cell_type": "markdown",
   "metadata": {},
   "source": [
    "# 파일 로드"
   ]
  },
  {
   "cell_type": "code",
   "execution_count": 1,
   "metadata": {
    "ExecuteTime": {
     "end_time": "2020-05-15T06:17:36.812965Z",
     "start_time": "2020-05-15T06:17:32.303861Z"
    }
   },
   "outputs": [],
   "source": [
    "raw_tag_song = pd.read_json('./raw_data/tag_songs.json')"
   ]
  },
  {
   "cell_type": "code",
   "execution_count": 2,
   "metadata": {
    "ExecuteTime": {
     "end_time": "2020-05-15T06:17:37.278982Z",
     "start_time": "2020-05-15T06:17:36.815187Z"
    }
   },
   "outputs": [],
   "source": [
    "val_w_full_tags = pd.read_json('./raw_data/val_copy.json')"
   ]
  },
  {
   "cell_type": "code",
   "execution_count": 3,
   "metadata": {
    "ExecuteTime": {
     "end_time": "2020-05-15T06:17:37.310653Z",
     "start_time": "2020-05-15T06:17:37.281811Z"
    }
   },
   "outputs": [
    {
     "data": {
      "text/html": [
       "<div>\n",
       "<style scoped>\n",
       "    .dataframe tbody tr th:only-of-type {\n",
       "        vertical-align: middle;\n",
       "    }\n",
       "\n",
       "    .dataframe tbody tr th {\n",
       "        vertical-align: top;\n",
       "    }\n",
       "\n",
       "    .dataframe thead th {\n",
       "        text-align: right;\n",
       "    }\n",
       "</style>\n",
       "<table border=\"1\" class=\"dataframe\">\n",
       "  <thead>\n",
       "    <tr style=\"text-align: right;\">\n",
       "      <th></th>\n",
       "      <th>tags</th>\n",
       "      <th>songs</th>\n",
       "      <th>songs_num</th>\n",
       "    </tr>\n",
       "  </thead>\n",
       "  <tbody>\n",
       "    <tr>\n",
       "      <td>0</td>\n",
       "      <td></td>\n",
       "      <td>[253222, 270262, 301533, 136007, 238347, 13384...</td>\n",
       "      <td>{'253222': 1, '270262': 1, '301533': 1, '13600...</td>\n",
       "    </tr>\n",
       "    <tr>\n",
       "      <td>1</td>\n",
       "      <td>00</td>\n",
       "      <td>[496456, 323561, 452688, 503200, 102389, 58602...</td>\n",
       "      <td>{'496456': 1, '323561': 1, '452688': 1, '50320...</td>\n",
       "    </tr>\n",
       "    <tr>\n",
       "      <td>2</td>\n",
       "      <td>007</td>\n",
       "      <td>[571824, 181423, 333856, 291812, 402460, 10929...</td>\n",
       "      <td>{'291812': 3, '359929': 3, '210978': 2, '33130...</td>\n",
       "    </tr>\n",
       "    <tr>\n",
       "      <td>3</td>\n",
       "      <td>007시리즈</td>\n",
       "      <td>[427367, 181423, 492240, 333856, 291812, 67710...</td>\n",
       "      <td>{'427367': 2, '181423': 2, '492240': 2, '33385...</td>\n",
       "    </tr>\n",
       "    <tr>\n",
       "      <td>4</td>\n",
       "      <td>00s</td>\n",
       "      <td>[367143, 35117, 387871, 651040, 551409, 544099...</td>\n",
       "      <td>{'580074': 3, '117595': 2, '176961': 2, '58477...</td>\n",
       "    </tr>\n",
       "    <tr>\n",
       "      <td>...</td>\n",
       "      <td>...</td>\n",
       "      <td>...</td>\n",
       "      <td>...</td>\n",
       "    </tr>\n",
       "    <tr>\n",
       "      <td>29155</td>\n",
       "      <td>힙해</td>\n",
       "      <td>[554524, 653392, 669251, 217370, 627771, 75076...</td>\n",
       "      <td>{'363570': 3, '653392': 2, '18117': 2, '271156...</td>\n",
       "    </tr>\n",
       "    <tr>\n",
       "      <td>29156</td>\n",
       "      <td>힙힙힙</td>\n",
       "      <td>[146247, 152953, 170279, 703985, 591826, 46060...</td>\n",
       "      <td>{'44113': 2, '146247': 1, '152953': 1, '170279...</td>\n",
       "    </tr>\n",
       "    <tr>\n",
       "      <td>29157</td>\n",
       "      <td>힛뎀포크</td>\n",
       "      <td>[251011, 14923, 605624, 4819, 442751, 538647, ...</td>\n",
       "      <td>{'251011': 1, '14923': 1, '605624': 1, '4819':...</td>\n",
       "    </tr>\n",
       "    <tr>\n",
       "      <td>29158</td>\n",
       "      <td>힛뎀폭</td>\n",
       "      <td>[251011, 14923, 605624, 4819, 442751, 538647, ...</td>\n",
       "      <td>{'251011': 1, '14923': 1, '605624': 1, '4819':...</td>\n",
       "    </tr>\n",
       "    <tr>\n",
       "      <td>29159</td>\n",
       "      <td>힛뎀폭스</td>\n",
       "      <td>[251011, 14923, 605624, 4819, 442751, 538647, ...</td>\n",
       "      <td>{'404976': 2, '432284': 2, '520506': 2, '69596...</td>\n",
       "    </tr>\n",
       "  </tbody>\n",
       "</table>\n",
       "<p>29160 rows × 3 columns</p>\n",
       "</div>"
      ],
      "text/plain": [
       "         tags                                              songs  \\\n",
       "0              [253222, 270262, 301533, 136007, 238347, 13384...   \n",
       "1          00  [496456, 323561, 452688, 503200, 102389, 58602...   \n",
       "2         007  [571824, 181423, 333856, 291812, 402460, 10929...   \n",
       "3      007시리즈  [427367, 181423, 492240, 333856, 291812, 67710...   \n",
       "4         00s  [367143, 35117, 387871, 651040, 551409, 544099...   \n",
       "...       ...                                                ...   \n",
       "29155      힙해  [554524, 653392, 669251, 217370, 627771, 75076...   \n",
       "29156     힙힙힙  [146247, 152953, 170279, 703985, 591826, 46060...   \n",
       "29157    힛뎀포크  [251011, 14923, 605624, 4819, 442751, 538647, ...   \n",
       "29158     힛뎀폭  [251011, 14923, 605624, 4819, 442751, 538647, ...   \n",
       "29159    힛뎀폭스  [251011, 14923, 605624, 4819, 442751, 538647, ...   \n",
       "\n",
       "                                               songs_num  \n",
       "0      {'253222': 1, '270262': 1, '301533': 1, '13600...  \n",
       "1      {'496456': 1, '323561': 1, '452688': 1, '50320...  \n",
       "2      {'291812': 3, '359929': 3, '210978': 2, '33130...  \n",
       "3      {'427367': 2, '181423': 2, '492240': 2, '33385...  \n",
       "4      {'580074': 3, '117595': 2, '176961': 2, '58477...  \n",
       "...                                                  ...  \n",
       "29155  {'363570': 3, '653392': 2, '18117': 2, '271156...  \n",
       "29156  {'44113': 2, '146247': 1, '152953': 1, '170279...  \n",
       "29157  {'251011': 1, '14923': 1, '605624': 1, '4819':...  \n",
       "29158  {'251011': 1, '14923': 1, '605624': 1, '4819':...  \n",
       "29159  {'404976': 2, '432284': 2, '520506': 2, '69596...  \n",
       "\n",
       "[29160 rows x 3 columns]"
      ]
     },
     "execution_count": 3,
     "metadata": {},
     "output_type": "execute_result"
    }
   ],
   "source": [
    "raw_tag_song"
   ]
  },
  {
   "cell_type": "code",
   "execution_count": 9,
   "metadata": {
    "ExecuteTime": {
     "end_time": "2020-05-15T02:50:36.590742Z",
     "start_time": "2020-05-15T02:50:36.581980Z"
    }
   },
   "outputs": [],
   "source": [
    "import itertools\n",
    "a = dict(itertools.islice(raw_tag_song[raw_tag_song['tags'] == \"OST\"]['songs_num'].tolist()[0].items(), 50))\n",
    "b = dict(itertools.islice(raw_tag_song[raw_tag_song['tags'] == \"OST\"]['songs_num'].tolist()[0].items(), 50))"
   ]
  },
  {
   "cell_type": "code",
   "execution_count": 6,
   "metadata": {
    "ExecuteTime": {
     "end_time": "2020-05-15T02:20:20.373893Z",
     "start_time": "2020-05-15T02:20:20.371427Z"
    }
   },
   "outputs": [],
   "source": [
    "c =[a,b]"
   ]
  },
  {
   "cell_type": "code",
   "execution_count": 7,
   "metadata": {
    "ExecuteTime": {
     "end_time": "2020-05-15T02:20:20.659432Z",
     "start_time": "2020-05-15T02:20:20.656628Z"
    }
   },
   "outputs": [],
   "source": [
    "from collections import Counter\n",
    "counter = Counter()\n",
    "for d in c: \n",
    "    counter.update(d)"
   ]
  },
  {
   "cell_type": "code",
   "execution_count": 31,
   "metadata": {
    "ExecuteTime": {
     "end_time": "2020-05-15T02:24:33.391768Z",
     "start_time": "2020-05-15T02:24:33.386895Z"
    },
    "collapsed": true
   },
   "outputs": [
    {
     "data": {
      "text/plain": [
       "[654757,\n",
       " 88503,\n",
       " 645489,\n",
       " 224921,\n",
       " 492678,\n",
       " 281838,\n",
       " 269370,\n",
       " 482903,\n",
       " 295250,\n",
       " 37748,\n",
       " 246984,\n",
       " 152475,\n",
       " 123465,\n",
       " 707724,\n",
       " 140130,\n",
       " 316600,\n",
       " 88471,\n",
       " 140833,\n",
       " 118219,\n",
       " 260220,\n",
       " 6546,\n",
       " 689725,\n",
       " 701557,\n",
       " 48948,\n",
       " 211158,\n",
       " 11657,\n",
       " 556394,\n",
       " 208186,\n",
       " 264701,\n",
       " 200877,\n",
       " 35703,\n",
       " 58773,\n",
       " 321933,\n",
       " 393654,\n",
       " 592526,\n",
       " 589983,\n",
       " 424531,\n",
       " 507358,\n",
       " 376126,\n",
       " 438929,\n",
       " 375450,\n",
       " 70641,\n",
       " 456581,\n",
       " 207558,\n",
       " 106756,\n",
       " 608260,\n",
       " 544584,\n",
       " 400781,\n",
       " 366565,\n",
       " 380832]"
      ]
     },
     "execution_count": 31,
     "metadata": {},
     "output_type": "execute_result"
    }
   ],
   "source": [
    "[int(songs[0]) for songs in sorted(counter.items(), key=lambda t : t[1], reverse=True)[:100]]"
   ]
  },
  {
   "cell_type": "code",
   "execution_count": 35,
   "metadata": {
    "ExecuteTime": {
     "end_time": "2020-05-14T12:21:44.910907Z",
     "start_time": "2020-05-14T12:21:44.907584Z"
    },
    "scrolled": true
   },
   "outputs": [
    {
     "data": {
      "text/plain": [
       "23015"
      ]
     },
     "execution_count": 35,
     "metadata": {},
     "output_type": "execute_result"
    }
   ],
   "source": [
    "len(val_w_full_tags)"
   ]
  },
  {
   "cell_type": "code",
   "execution_count": 94,
   "metadata": {
    "ExecuteTime": {
     "end_time": "2020-05-14T12:46:17.824767Z",
     "start_time": "2020-05-14T12:46:17.811379Z"
    }
   },
   "outputs": [],
   "source": [
    "tags_under_10 = val_w_full_tags[val_w_full_tags['tags'].apply(lambda x : len(x)) < 10]"
   ]
  },
  {
   "cell_type": "code",
   "execution_count": 113,
   "metadata": {
    "ExecuteTime": {
     "end_time": "2020-05-14T12:59:08.484462Z",
     "start_time": "2020-05-14T12:59:08.466942Z"
    }
   },
   "outputs": [
    {
     "data": {
      "text/html": [
       "<div>\n",
       "<style scoped>\n",
       "    .dataframe tbody tr th:only-of-type {\n",
       "        vertical-align: middle;\n",
       "    }\n",
       "\n",
       "    .dataframe tbody tr th {\n",
       "        vertical-align: top;\n",
       "    }\n",
       "\n",
       "    .dataframe thead th {\n",
       "        text-align: right;\n",
       "    }\n",
       "</style>\n",
       "<table border=\"1\" class=\"dataframe\">\n",
       "  <thead>\n",
       "    <tr style=\"text-align: right;\">\n",
       "      <th></th>\n",
       "      <th>tags</th>\n",
       "      <th>id</th>\n",
       "      <th>plylst_title</th>\n",
       "      <th>songs</th>\n",
       "      <th>like_cnt</th>\n",
       "      <th>updt_date</th>\n",
       "    </tr>\n",
       "  </thead>\n",
       "  <tbody>\n",
       "    <tr>\n",
       "      <td>1</td>\n",
       "      <td>[]</td>\n",
       "      <td>131447</td>\n",
       "      <td>앨리스테이블</td>\n",
       "      <td>[]</td>\n",
       "      <td>1</td>\n",
       "      <td>2014-07-16 15:24:24.000</td>\n",
       "    </tr>\n",
       "    <tr>\n",
       "      <td>8</td>\n",
       "      <td>[스트레스]</td>\n",
       "      <td>80810</td>\n",
       "      <td>리듬타면서 빡시게 운동하자!!!(스트레스 날리자):}</td>\n",
       "      <td>[]</td>\n",
       "      <td>127</td>\n",
       "      <td>2017-02-09 17:33:45.000</td>\n",
       "    </tr>\n",
       "    <tr>\n",
       "      <td>9</td>\n",
       "      <td>[]</td>\n",
       "      <td>142007</td>\n",
       "      <td>기분 좋은 재즈와 함께 만드는 달달한 하루</td>\n",
       "      <td>[]</td>\n",
       "      <td>0</td>\n",
       "      <td>2015-06-22 09:11:02.000</td>\n",
       "    </tr>\n",
       "    <tr>\n",
       "      <td>17</td>\n",
       "      <td>[생각나]</td>\n",
       "      <td>2380</td>\n",
       "      <td>다시 생각나는 그 사람</td>\n",
       "      <td>[]</td>\n",
       "      <td>6</td>\n",
       "      <td>2016-03-19 23:53:20.000</td>\n",
       "    </tr>\n",
       "    <tr>\n",
       "      <td>20</td>\n",
       "      <td>[피아노, 이루마, 메로디]</td>\n",
       "      <td>149069</td>\n",
       "      <td>불면증엔 아름다운 뉴에이지 곡들</td>\n",
       "      <td>[]</td>\n",
       "      <td>11</td>\n",
       "      <td>2019-12-15 19:15:21.000</td>\n",
       "    </tr>\n",
       "    <tr>\n",
       "      <td>...</td>\n",
       "      <td>...</td>\n",
       "      <td>...</td>\n",
       "      <td>...</td>\n",
       "      <td>...</td>\n",
       "      <td>...</td>\n",
       "      <td>...</td>\n",
       "    </tr>\n",
       "    <tr>\n",
       "      <td>22991</td>\n",
       "      <td>[]</td>\n",
       "      <td>32537</td>\n",
       "      <td>컨트리 황제 조니 캐시가 선 레코드 시절 발표한 초기 대표작</td>\n",
       "      <td>[]</td>\n",
       "      <td>28</td>\n",
       "      <td>2019-06-17 14:22:48.000</td>\n",
       "    </tr>\n",
       "    <tr>\n",
       "      <td>22992</td>\n",
       "      <td>[사랑]</td>\n",
       "      <td>32812</td>\n",
       "      <td>♥옷차림이 가벼워질때 부담없이 듣는음악♥</td>\n",
       "      <td>[]</td>\n",
       "      <td>8</td>\n",
       "      <td>2015-05-08 00:09:01.000</td>\n",
       "    </tr>\n",
       "    <tr>\n",
       "      <td>22996</td>\n",
       "      <td>[]</td>\n",
       "      <td>86721</td>\n",
       "      <td>해 저무는 밤</td>\n",
       "      <td>[]</td>\n",
       "      <td>5</td>\n",
       "      <td>2016-04-27 15:32:55.000</td>\n",
       "    </tr>\n",
       "    <tr>\n",
       "      <td>23002</td>\n",
       "      <td>[텐션, 명곡, 학창시절, 텐션업]</td>\n",
       "      <td>56570</td>\n",
       "      <td>숨어듣는명곡! 텐션올릴때듣는 그시절그노래!! (그냥명곡있을수있음주의)</td>\n",
       "      <td>[]</td>\n",
       "      <td>538</td>\n",
       "      <td>2020-04-18 22:02:07.000</td>\n",
       "    </tr>\n",
       "    <tr>\n",
       "      <td>23008</td>\n",
       "      <td>[sweetmind, 발라드, 사랑, 기분전환, 역주행]</td>\n",
       "      <td>100684</td>\n",
       "      <td>[별책부록] Sweetmind의 음악마중</td>\n",
       "      <td>[]</td>\n",
       "      <td>79</td>\n",
       "      <td>2020-02-07 14:42:25.000</td>\n",
       "    </tr>\n",
       "  </tbody>\n",
       "</table>\n",
       "<p>4675 rows × 6 columns</p>\n",
       "</div>"
      ],
      "text/plain": [
       "                                  tags      id  \\\n",
       "1                                   []  131447   \n",
       "8                               [스트레스]   80810   \n",
       "9                                   []  142007   \n",
       "17                               [생각나]    2380   \n",
       "20                     [피아노, 이루마, 메로디]  149069   \n",
       "...                                ...     ...   \n",
       "22991                               []   32537   \n",
       "22992                             [사랑]   32812   \n",
       "22996                               []   86721   \n",
       "23002              [텐션, 명곡, 학창시절, 텐션업]   56570   \n",
       "23008  [sweetmind, 발라드, 사랑, 기분전환, 역주행]  100684   \n",
       "\n",
       "                                 plylst_title songs  like_cnt  \\\n",
       "1                                      앨리스테이블    []         1   \n",
       "8               리듬타면서 빡시게 운동하자!!!(스트레스 날리자):}    []       127   \n",
       "9                     기분 좋은 재즈와 함께 만드는 달달한 하루    []         0   \n",
       "17                               다시 생각나는 그 사람    []         6   \n",
       "20                          불면증엔 아름다운 뉴에이지 곡들    []        11   \n",
       "...                                       ...   ...       ...   \n",
       "22991       컨트리 황제 조니 캐시가 선 레코드 시절 발표한 초기 대표작    []        28   \n",
       "22992                  ♥옷차림이 가벼워질때 부담없이 듣는음악♥    []         8   \n",
       "22996                                 해 저무는 밤    []         5   \n",
       "23002  숨어듣는명곡! 텐션올릴때듣는 그시절그노래!! (그냥명곡있을수있음주의)    []       538   \n",
       "23008                  [별책부록] Sweetmind의 음악마중    []        79   \n",
       "\n",
       "                     updt_date  \n",
       "1      2014-07-16 15:24:24.000  \n",
       "8      2017-02-09 17:33:45.000  \n",
       "9      2015-06-22 09:11:02.000  \n",
       "17     2016-03-19 23:53:20.000  \n",
       "20     2019-12-15 19:15:21.000  \n",
       "...                        ...  \n",
       "22991  2019-06-17 14:22:48.000  \n",
       "22992  2015-05-08 00:09:01.000  \n",
       "22996  2016-04-27 15:32:55.000  \n",
       "23002  2020-04-18 22:02:07.000  \n",
       "23008  2020-02-07 14:42:25.000  \n",
       "\n",
       "[4675 rows x 6 columns]"
      ]
     },
     "execution_count": 113,
     "metadata": {},
     "output_type": "execute_result"
    }
   ],
   "source": [
    "tags_under_10"
   ]
  },
  {
   "cell_type": "markdown",
   "metadata": {},
   "source": [
    "# song_count "
   ]
  },
  {
   "cell_type": "code",
   "execution_count": 111,
   "metadata": {
    "ExecuteTime": {
     "end_time": "2020-05-15T03:08:49.796336Z",
     "start_time": "2020-05-15T03:08:49.790792Z"
    }
   },
   "outputs": [],
   "source": [
    "def song_count(tags):\n",
    "    import itertools\n",
    "    from collections import Counter\n",
    "    counter = Counter()\n",
    "    ls = []\n",
    "    for tag in tags:\n",
    "        try:\n",
    "            dict_songs = dict(itertools.islice(raw_tag_song[raw_tag_song['tags'] == tag]['songs_num'].values[0].items(), 100))\n",
    "            ls.append(dict_songs)\n",
    "        except:\n",
    "            ls.append({})\n",
    "    for d in ls: \n",
    "        counter.update(d)\n",
    "\n",
    "#     ls.sort(key = lambda element : element[1], reverse=True)\n",
    "    \n",
    "    return [int(songs[0]) for songs in sorted(counter.items(), key=lambda t : t[1], reverse=True)[:100]]"
   ]
  },
  {
   "cell_type": "code",
   "execution_count": 41,
   "metadata": {
    "ExecuteTime": {
     "end_time": "2020-05-15T02:26:21.277973Z",
     "start_time": "2020-05-15T02:26:21.244903Z"
    }
   },
   "outputs": [
    {
     "data": {
      "text/html": [
       "<div>\n",
       "<style scoped>\n",
       "    .dataframe tbody tr th:only-of-type {\n",
       "        vertical-align: middle;\n",
       "    }\n",
       "\n",
       "    .dataframe tbody tr th {\n",
       "        vertical-align: top;\n",
       "    }\n",
       "\n",
       "    .dataframe thead th {\n",
       "        text-align: right;\n",
       "    }\n",
       "</style>\n",
       "<table border=\"1\" class=\"dataframe\">\n",
       "  <thead>\n",
       "    <tr style=\"text-align: right;\">\n",
       "      <th></th>\n",
       "      <th>tags</th>\n",
       "      <th>id</th>\n",
       "      <th>plylst_title</th>\n",
       "      <th>songs</th>\n",
       "      <th>like_cnt</th>\n",
       "      <th>updt_date</th>\n",
       "    </tr>\n",
       "  </thead>\n",
       "  <tbody>\n",
       "    <tr>\n",
       "      <td>0</td>\n",
       "      <td>[OST, 기분전환, 디즈니, 애니메이션, 영화, 팝, 겨울, 추억, 휴식, 힐링]</td>\n",
       "      <td>118598</td>\n",
       "      <td></td>\n",
       "      <td>[373313, 151080, 275346, 696876, 165237, 52593...</td>\n",
       "      <td>1675</td>\n",
       "      <td>2019-05-27 14:14:33.000</td>\n",
       "    </tr>\n",
       "    <tr>\n",
       "      <td>2</td>\n",
       "      <td>[발라드, 추억, 회상, 이별, 슬픔, 설렘, 사랑, 싸이월드, 밤, 새벽]</td>\n",
       "      <td>51464</td>\n",
       "      <td></td>\n",
       "      <td>[529437, 516103, 360067, 705713, 226062, 37089...</td>\n",
       "      <td>62</td>\n",
       "      <td>2008-06-21 23:26:22.000</td>\n",
       "    </tr>\n",
       "    <tr>\n",
       "      <td>3</td>\n",
       "      <td>[발라드, 감성, 이별, 기분전환, 사랑, 카페, 드라이브, 잔잔한, 새벽, 휴식]</td>\n",
       "      <td>45144</td>\n",
       "      <td></td>\n",
       "      <td>[589668, 21711, 570151, 320043, 13930, 599327,...</td>\n",
       "      <td>20</td>\n",
       "      <td>2017-10-30 18:15:43.000</td>\n",
       "    </tr>\n",
       "    <tr>\n",
       "      <td>4</td>\n",
       "      <td>[CCM, 찬양, 은혜, 사랑, 예배, 국내ccm, 위로, 은혜로운, 찬송가, 교회]</td>\n",
       "      <td>79929</td>\n",
       "      <td></td>\n",
       "      <td>[672718, 121924, 102694, 683657, 201558, 38511...</td>\n",
       "      <td>20</td>\n",
       "      <td>2017-02-07 11:40:42.000</td>\n",
       "    </tr>\n",
       "    <tr>\n",
       "      <td>5</td>\n",
       "      <td>[Pop, 기분전환, 드라이브, 빌보드, 빌보드Hot50, 트렌디, 스트레스, 빌보...</td>\n",
       "      <td>138538</td>\n",
       "      <td></td>\n",
       "      <td>[173033, 138237, 63140, 15733, 461780, 308519,...</td>\n",
       "      <td>2</td>\n",
       "      <td>2019-06-12 17:43:35.000</td>\n",
       "    </tr>\n",
       "    <tr>\n",
       "      <td>...</td>\n",
       "      <td>...</td>\n",
       "      <td>...</td>\n",
       "      <td>...</td>\n",
       "      <td>...</td>\n",
       "      <td>...</td>\n",
       "      <td>...</td>\n",
       "    </tr>\n",
       "    <tr>\n",
       "      <td>23010</td>\n",
       "      <td>[발라드, 기분전환, 감성, 사랑, 이별, 새벽, 휴식, 잔잔한, 밤, 추억]</td>\n",
       "      <td>101722</td>\n",
       "      <td></td>\n",
       "      <td>[75842, 26083, 244183, 684715, 500593, 508608,...</td>\n",
       "      <td>17</td>\n",
       "      <td>2015-12-17 14:06:05.000</td>\n",
       "    </tr>\n",
       "    <tr>\n",
       "      <td>23011</td>\n",
       "      <td>[힐링, 휴식, 기분전환, 감성, 잔잔한, 발라드, 새벽, 사랑, 밤, 추억]</td>\n",
       "      <td>122127</td>\n",
       "      <td></td>\n",
       "      <td>[450275, 487671, 561031, 663944, 628672, 59121...</td>\n",
       "      <td>10</td>\n",
       "      <td>2020-04-16 21:35:44.000</td>\n",
       "    </tr>\n",
       "    <tr>\n",
       "      <td>23012</td>\n",
       "      <td>[기분전환, 팝, 드라이브, 휴식, 힐링, 감성, Pop, 잔잔한, 팝송, 새벽]</td>\n",
       "      <td>77438</td>\n",
       "      <td></td>\n",
       "      <td>[625875, 464051, 11657, 236393, 358186, 213435...</td>\n",
       "      <td>0</td>\n",
       "      <td>2019-03-27 15:27:40.000</td>\n",
       "    </tr>\n",
       "    <tr>\n",
       "      <td>23013</td>\n",
       "      <td>[클래식, 휴식, 힐링, 잔잔한, 팝, 추억, 기분전환, 올드팝, 감성, 피아노]</td>\n",
       "      <td>36231</td>\n",
       "      <td></td>\n",
       "      <td>[161094, 665833, 688145, 432735, 439938, 12665...</td>\n",
       "      <td>31</td>\n",
       "      <td>2015-11-18 11:49:09.000</td>\n",
       "    </tr>\n",
       "    <tr>\n",
       "      <td>23014</td>\n",
       "      <td>[봄, 사랑, 감성, 기분전환, 드라이브, 설렘, 발라드, 카페, 휴식, 힐링]</td>\n",
       "      <td>65189</td>\n",
       "      <td></td>\n",
       "      <td>[643070, 132994, 98223, 293236, 513129, 650494...</td>\n",
       "      <td>19</td>\n",
       "      <td>2017-04-23 16:50:58.000</td>\n",
       "    </tr>\n",
       "  </tbody>\n",
       "</table>\n",
       "<p>18340 rows × 6 columns</p>\n",
       "</div>"
      ],
      "text/plain": [
       "                                                    tags      id plylst_title  \\\n",
       "0         [OST, 기분전환, 디즈니, 애니메이션, 영화, 팝, 겨울, 추억, 휴식, 힐링]  118598                \n",
       "2             [발라드, 추억, 회상, 이별, 슬픔, 설렘, 사랑, 싸이월드, 밤, 새벽]   51464                \n",
       "3         [발라드, 감성, 이별, 기분전환, 사랑, 카페, 드라이브, 잔잔한, 새벽, 휴식]   45144                \n",
       "4        [CCM, 찬양, 은혜, 사랑, 예배, 국내ccm, 위로, 은혜로운, 찬송가, 교회]   79929                \n",
       "5      [Pop, 기분전환, 드라이브, 빌보드, 빌보드Hot50, 트렌디, 스트레스, 빌보...  138538                \n",
       "...                                                  ...     ...          ...   \n",
       "23010        [발라드, 기분전환, 감성, 사랑, 이별, 새벽, 휴식, 잔잔한, 밤, 추억]  101722                \n",
       "23011        [힐링, 휴식, 기분전환, 감성, 잔잔한, 발라드, 새벽, 사랑, 밤, 추억]  122127                \n",
       "23012      [기분전환, 팝, 드라이브, 휴식, 힐링, 감성, Pop, 잔잔한, 팝송, 새벽]   77438                \n",
       "23013      [클래식, 휴식, 힐링, 잔잔한, 팝, 추억, 기분전환, 올드팝, 감성, 피아노]   36231                \n",
       "23014       [봄, 사랑, 감성, 기분전환, 드라이브, 설렘, 발라드, 카페, 휴식, 힐링]   65189                \n",
       "\n",
       "                                                   songs  like_cnt  \\\n",
       "0      [373313, 151080, 275346, 696876, 165237, 52593...      1675   \n",
       "2      [529437, 516103, 360067, 705713, 226062, 37089...        62   \n",
       "3      [589668, 21711, 570151, 320043, 13930, 599327,...        20   \n",
       "4      [672718, 121924, 102694, 683657, 201558, 38511...        20   \n",
       "5      [173033, 138237, 63140, 15733, 461780, 308519,...         2   \n",
       "...                                                  ...       ...   \n",
       "23010  [75842, 26083, 244183, 684715, 500593, 508608,...        17   \n",
       "23011  [450275, 487671, 561031, 663944, 628672, 59121...        10   \n",
       "23012  [625875, 464051, 11657, 236393, 358186, 213435...         0   \n",
       "23013  [161094, 665833, 688145, 432735, 439938, 12665...        31   \n",
       "23014  [643070, 132994, 98223, 293236, 513129, 650494...        19   \n",
       "\n",
       "                     updt_date  \n",
       "0      2019-05-27 14:14:33.000  \n",
       "2      2008-06-21 23:26:22.000  \n",
       "3      2017-10-30 18:15:43.000  \n",
       "4      2017-02-07 11:40:42.000  \n",
       "5      2019-06-12 17:43:35.000  \n",
       "...                        ...  \n",
       "23010  2015-12-17 14:06:05.000  \n",
       "23011  2020-04-16 21:35:44.000  \n",
       "23012  2019-03-27 15:27:40.000  \n",
       "23013  2015-11-18 11:49:09.000  \n",
       "23014  2017-04-23 16:50:58.000  \n",
       "\n",
       "[18340 rows x 6 columns]"
      ]
     },
     "execution_count": 41,
     "metadata": {},
     "output_type": "execute_result"
    }
   ],
   "source": [
    "val_10_tags_df = val_w_full_tags[val_w_full_tags['tags'].apply(lambda x : len(x)) >= 10] \n",
    "val_10_tags_df"
   ]
  },
  {
   "cell_type": "code",
   "execution_count": 47,
   "metadata": {
    "ExecuteTime": {
     "end_time": "2020-05-15T02:38:02.165394Z",
     "start_time": "2020-05-15T02:38:02.159500Z"
    }
   },
   "outputs": [],
   "source": [
    "val_w_tags = val_w_full_tags.copy()"
   ]
  },
  {
   "cell_type": "code",
   "execution_count": 52,
   "metadata": {
    "ExecuteTime": {
     "end_time": "2020-05-15T02:38:36.354369Z",
     "start_time": "2020-05-15T02:38:36.334305Z"
    }
   },
   "outputs": [
    {
     "data": {
      "text/html": [
       "<div>\n",
       "<style scoped>\n",
       "    .dataframe tbody tr th:only-of-type {\n",
       "        vertical-align: middle;\n",
       "    }\n",
       "\n",
       "    .dataframe tbody tr th {\n",
       "        vertical-align: top;\n",
       "    }\n",
       "\n",
       "    .dataframe thead th {\n",
       "        text-align: right;\n",
       "    }\n",
       "</style>\n",
       "<table border=\"1\" class=\"dataframe\">\n",
       "  <thead>\n",
       "    <tr style=\"text-align: right;\">\n",
       "      <th></th>\n",
       "      <th>tags</th>\n",
       "      <th>id</th>\n",
       "      <th>plylst_title</th>\n",
       "      <th>songs</th>\n",
       "      <th>like_cnt</th>\n",
       "      <th>updt_date</th>\n",
       "    </tr>\n",
       "  </thead>\n",
       "  <tbody>\n",
       "    <tr>\n",
       "      <td>0</td>\n",
       "      <td>[OST, 기분전환, 디즈니, 애니메이션, 영화, 팝, 겨울, 추억, 휴식, 힐링]</td>\n",
       "      <td>118598</td>\n",
       "      <td></td>\n",
       "      <td>[373313, 151080, 275346, 696876, 165237, 52593...</td>\n",
       "      <td>1675</td>\n",
       "      <td>2019-05-27 14:14:33.000</td>\n",
       "    </tr>\n",
       "    <tr>\n",
       "      <td>1</td>\n",
       "      <td>[]</td>\n",
       "      <td>131447</td>\n",
       "      <td>앨리스테이블</td>\n",
       "      <td>[]</td>\n",
       "      <td>1</td>\n",
       "      <td>2014-07-16 15:24:24.000</td>\n",
       "    </tr>\n",
       "    <tr>\n",
       "      <td>2</td>\n",
       "      <td>[발라드, 추억, 회상, 이별, 슬픔, 설렘, 사랑, 싸이월드, 밤, 새벽]</td>\n",
       "      <td>51464</td>\n",
       "      <td></td>\n",
       "      <td>[529437, 516103, 360067, 705713, 226062, 37089...</td>\n",
       "      <td>62</td>\n",
       "      <td>2008-06-21 23:26:22.000</td>\n",
       "    </tr>\n",
       "    <tr>\n",
       "      <td>3</td>\n",
       "      <td>[발라드, 감성, 이별, 기분전환, 사랑, 카페, 드라이브, 잔잔한, 새벽, 휴식]</td>\n",
       "      <td>45144</td>\n",
       "      <td></td>\n",
       "      <td>[589668, 21711, 570151, 320043, 13930, 599327,...</td>\n",
       "      <td>20</td>\n",
       "      <td>2017-10-30 18:15:43.000</td>\n",
       "    </tr>\n",
       "    <tr>\n",
       "      <td>4</td>\n",
       "      <td>[CCM, 찬양, 은혜, 사랑, 예배, 국내ccm, 위로, 은혜로운, 찬송가, 교회]</td>\n",
       "      <td>79929</td>\n",
       "      <td></td>\n",
       "      <td>[672718, 121924, 102694, 683657, 201558, 38511...</td>\n",
       "      <td>20</td>\n",
       "      <td>2017-02-07 11:40:42.000</td>\n",
       "    </tr>\n",
       "    <tr>\n",
       "      <td>...</td>\n",
       "      <td>...</td>\n",
       "      <td>...</td>\n",
       "      <td>...</td>\n",
       "      <td>...</td>\n",
       "      <td>...</td>\n",
       "      <td>...</td>\n",
       "    </tr>\n",
       "    <tr>\n",
       "      <td>23010</td>\n",
       "      <td>[발라드, 기분전환, 감성, 사랑, 이별, 새벽, 휴식, 잔잔한, 밤, 추억]</td>\n",
       "      <td>101722</td>\n",
       "      <td></td>\n",
       "      <td>[75842, 26083, 244183, 684715, 500593, 508608,...</td>\n",
       "      <td>17</td>\n",
       "      <td>2015-12-17 14:06:05.000</td>\n",
       "    </tr>\n",
       "    <tr>\n",
       "      <td>23011</td>\n",
       "      <td>[힐링, 휴식, 기분전환, 감성, 잔잔한, 발라드, 새벽, 사랑, 밤, 추억]</td>\n",
       "      <td>122127</td>\n",
       "      <td></td>\n",
       "      <td>[450275, 487671, 561031, 663944, 628672, 59121...</td>\n",
       "      <td>10</td>\n",
       "      <td>2020-04-16 21:35:44.000</td>\n",
       "    </tr>\n",
       "    <tr>\n",
       "      <td>23012</td>\n",
       "      <td>[기분전환, 팝, 드라이브, 휴식, 힐링, 감성, Pop, 잔잔한, 팝송, 새벽]</td>\n",
       "      <td>77438</td>\n",
       "      <td></td>\n",
       "      <td>[625875, 464051, 11657, 236393, 358186, 213435...</td>\n",
       "      <td>0</td>\n",
       "      <td>2019-03-27 15:27:40.000</td>\n",
       "    </tr>\n",
       "    <tr>\n",
       "      <td>23013</td>\n",
       "      <td>[클래식, 휴식, 힐링, 잔잔한, 팝, 추억, 기분전환, 올드팝, 감성, 피아노]</td>\n",
       "      <td>36231</td>\n",
       "      <td></td>\n",
       "      <td>[161094, 665833, 688145, 432735, 439938, 12665...</td>\n",
       "      <td>31</td>\n",
       "      <td>2015-11-18 11:49:09.000</td>\n",
       "    </tr>\n",
       "    <tr>\n",
       "      <td>23014</td>\n",
       "      <td>[봄, 사랑, 감성, 기분전환, 드라이브, 설렘, 발라드, 카페, 휴식, 힐링]</td>\n",
       "      <td>65189</td>\n",
       "      <td></td>\n",
       "      <td>[643070, 132994, 98223, 293236, 513129, 650494...</td>\n",
       "      <td>19</td>\n",
       "      <td>2017-04-23 16:50:58.000</td>\n",
       "    </tr>\n",
       "  </tbody>\n",
       "</table>\n",
       "<p>23015 rows × 6 columns</p>\n",
       "</div>"
      ],
      "text/plain": [
       "                                                  tags      id plylst_title  \\\n",
       "0       [OST, 기분전환, 디즈니, 애니메이션, 영화, 팝, 겨울, 추억, 휴식, 힐링]  118598                \n",
       "1                                                   []  131447       앨리스테이블   \n",
       "2           [발라드, 추억, 회상, 이별, 슬픔, 설렘, 사랑, 싸이월드, 밤, 새벽]   51464                \n",
       "3       [발라드, 감성, 이별, 기분전환, 사랑, 카페, 드라이브, 잔잔한, 새벽, 휴식]   45144                \n",
       "4      [CCM, 찬양, 은혜, 사랑, 예배, 국내ccm, 위로, 은혜로운, 찬송가, 교회]   79929                \n",
       "...                                                ...     ...          ...   \n",
       "23010      [발라드, 기분전환, 감성, 사랑, 이별, 새벽, 휴식, 잔잔한, 밤, 추억]  101722                \n",
       "23011      [힐링, 휴식, 기분전환, 감성, 잔잔한, 발라드, 새벽, 사랑, 밤, 추억]  122127                \n",
       "23012    [기분전환, 팝, 드라이브, 휴식, 힐링, 감성, Pop, 잔잔한, 팝송, 새벽]   77438                \n",
       "23013    [클래식, 휴식, 힐링, 잔잔한, 팝, 추억, 기분전환, 올드팝, 감성, 피아노]   36231                \n",
       "23014     [봄, 사랑, 감성, 기분전환, 드라이브, 설렘, 발라드, 카페, 휴식, 힐링]   65189                \n",
       "\n",
       "                                                   songs  like_cnt  \\\n",
       "0      [373313, 151080, 275346, 696876, 165237, 52593...      1675   \n",
       "1                                                     []         1   \n",
       "2      [529437, 516103, 360067, 705713, 226062, 37089...        62   \n",
       "3      [589668, 21711, 570151, 320043, 13930, 599327,...        20   \n",
       "4      [672718, 121924, 102694, 683657, 201558, 38511...        20   \n",
       "...                                                  ...       ...   \n",
       "23010  [75842, 26083, 244183, 684715, 500593, 508608,...        17   \n",
       "23011  [450275, 487671, 561031, 663944, 628672, 59121...        10   \n",
       "23012  [625875, 464051, 11657, 236393, 358186, 213435...         0   \n",
       "23013  [161094, 665833, 688145, 432735, 439938, 12665...        31   \n",
       "23014  [643070, 132994, 98223, 293236, 513129, 650494...        19   \n",
       "\n",
       "                     updt_date  \n",
       "0      2019-05-27 14:14:33.000  \n",
       "1      2014-07-16 15:24:24.000  \n",
       "2      2008-06-21 23:26:22.000  \n",
       "3      2017-10-30 18:15:43.000  \n",
       "4      2017-02-07 11:40:42.000  \n",
       "...                        ...  \n",
       "23010  2015-12-17 14:06:05.000  \n",
       "23011  2020-04-16 21:35:44.000  \n",
       "23012  2019-03-27 15:27:40.000  \n",
       "23013  2015-11-18 11:49:09.000  \n",
       "23014  2017-04-23 16:50:58.000  \n",
       "\n",
       "[23015 rows x 6 columns]"
      ]
     },
     "execution_count": 52,
     "metadata": {},
     "output_type": "execute_result"
    }
   ],
   "source": [
    "val_w_tags"
   ]
  },
  {
   "cell_type": "code",
   "execution_count": 106,
   "metadata": {
    "ExecuteTime": {
     "end_time": "2020-05-15T03:07:43.922974Z",
     "start_time": "2020-05-15T03:07:43.917645Z"
    }
   },
   "outputs": [],
   "source": [
    "val_w_tags = val_w_full_tags.copy()"
   ]
  },
  {
   "cell_type": "code",
   "execution_count": 114,
   "metadata": {
    "ExecuteTime": {
     "end_time": "2020-05-15T03:15:46.757645Z",
     "start_time": "2020-05-15T03:09:05.422049Z"
    }
   },
   "outputs": [],
   "source": [
    "# 8분 걸림\n",
    "val_w_tags['count_top_songs'] = val_w_tags['tags'].apply(lambda x : song_count(x))"
   ]
  },
  {
   "cell_type": "code",
   "execution_count": 129,
   "metadata": {
    "ExecuteTime": {
     "end_time": "2020-05-15T03:22:07.627137Z",
     "start_time": "2020-05-15T03:22:07.589761Z"
    }
   },
   "outputs": [
    {
     "data": {
      "text/html": [
       "<div>\n",
       "<style scoped>\n",
       "    .dataframe tbody tr th:only-of-type {\n",
       "        vertical-align: middle;\n",
       "    }\n",
       "\n",
       "    .dataframe tbody tr th {\n",
       "        vertical-align: top;\n",
       "    }\n",
       "\n",
       "    .dataframe thead th {\n",
       "        text-align: right;\n",
       "    }\n",
       "</style>\n",
       "<table border=\"1\" class=\"dataframe\">\n",
       "  <thead>\n",
       "    <tr style=\"text-align: right;\">\n",
       "      <th></th>\n",
       "      <th>tags</th>\n",
       "      <th>id</th>\n",
       "      <th>plylst_title</th>\n",
       "      <th>songs</th>\n",
       "      <th>like_cnt</th>\n",
       "      <th>updt_date</th>\n",
       "      <th>count_top_songs</th>\n",
       "    </tr>\n",
       "  </thead>\n",
       "  <tbody>\n",
       "    <tr>\n",
       "      <td>1</td>\n",
       "      <td>[]</td>\n",
       "      <td>131447</td>\n",
       "      <td>앨리스테이블</td>\n",
       "      <td>[]</td>\n",
       "      <td>1</td>\n",
       "      <td>2014-07-16 15:24:24.000</td>\n",
       "      <td>[]</td>\n",
       "    </tr>\n",
       "    <tr>\n",
       "      <td>9</td>\n",
       "      <td>[]</td>\n",
       "      <td>142007</td>\n",
       "      <td>기분 좋은 재즈와 함께 만드는 달달한 하루</td>\n",
       "      <td>[]</td>\n",
       "      <td>0</td>\n",
       "      <td>2015-06-22 09:11:02.000</td>\n",
       "      <td>[]</td>\n",
       "    </tr>\n",
       "    <tr>\n",
       "      <td>17</td>\n",
       "      <td>[생각나]</td>\n",
       "      <td>2380</td>\n",
       "      <td>다시 생각나는 그 사람</td>\n",
       "      <td>[]</td>\n",
       "      <td>6</td>\n",
       "      <td>2016-03-19 23:53:20.000</td>\n",
       "      <td>[556785, 651499, 1236, 600583, 253755, 537713,...</td>\n",
       "    </tr>\n",
       "    <tr>\n",
       "      <td>35</td>\n",
       "      <td>[]</td>\n",
       "      <td>65114</td>\n",
       "      <td>■■■■ 사랑,그리고이별 ■■■■</td>\n",
       "      <td>[]</td>\n",
       "      <td>6</td>\n",
       "      <td>2010-10-27 10:34:34.000</td>\n",
       "      <td>[]</td>\n",
       "    </tr>\n",
       "    <tr>\n",
       "      <td>57</td>\n",
       "      <td>[]</td>\n",
       "      <td>87700</td>\n",
       "      <td>마쉬멜로우같은 멜로우한 음악</td>\n",
       "      <td>[]</td>\n",
       "      <td>6</td>\n",
       "      <td>2016-01-14 10:19:30.000</td>\n",
       "      <td>[]</td>\n",
       "    </tr>\n",
       "    <tr>\n",
       "      <td>...</td>\n",
       "      <td>...</td>\n",
       "      <td>...</td>\n",
       "      <td>...</td>\n",
       "      <td>...</td>\n",
       "      <td>...</td>\n",
       "      <td>...</td>\n",
       "      <td>...</td>\n",
       "    </tr>\n",
       "    <tr>\n",
       "      <td>22906</td>\n",
       "      <td>[힘찬노래]</td>\n",
       "      <td>61000</td>\n",
       "      <td>세계를 정복한 가수, 방탄소년단</td>\n",
       "      <td>[]</td>\n",
       "      <td>35</td>\n",
       "      <td>2018-06-09 18:49:29.000</td>\n",
       "      <td>[]</td>\n",
       "    </tr>\n",
       "    <tr>\n",
       "      <td>22920</td>\n",
       "      <td>[]</td>\n",
       "      <td>124704</td>\n",
       "      <td>가사의 의미와 뜻은모른다!! 오직 멜로디로만 선곡한 팝송!!</td>\n",
       "      <td>[]</td>\n",
       "      <td>27</td>\n",
       "      <td>2016-02-05 12:31:59.000</td>\n",
       "      <td>[]</td>\n",
       "    </tr>\n",
       "    <tr>\n",
       "      <td>22981</td>\n",
       "      <td>[]</td>\n",
       "      <td>13045</td>\n",
       "      <td>＊카페 느낌 샹송♭</td>\n",
       "      <td>[]</td>\n",
       "      <td>38</td>\n",
       "      <td>2011-07-12 00:58:39.000</td>\n",
       "      <td>[]</td>\n",
       "    </tr>\n",
       "    <tr>\n",
       "      <td>22991</td>\n",
       "      <td>[]</td>\n",
       "      <td>32537</td>\n",
       "      <td>컨트리 황제 조니 캐시가 선 레코드 시절 발표한 초기 대표작</td>\n",
       "      <td>[]</td>\n",
       "      <td>28</td>\n",
       "      <td>2019-06-17 14:22:48.000</td>\n",
       "      <td>[]</td>\n",
       "    </tr>\n",
       "    <tr>\n",
       "      <td>22996</td>\n",
       "      <td>[]</td>\n",
       "      <td>86721</td>\n",
       "      <td>해 저무는 밤</td>\n",
       "      <td>[]</td>\n",
       "      <td>5</td>\n",
       "      <td>2016-04-27 15:32:55.000</td>\n",
       "      <td>[]</td>\n",
       "    </tr>\n",
       "  </tbody>\n",
       "</table>\n",
       "<p>1921 rows × 7 columns</p>\n",
       "</div>"
      ],
      "text/plain": [
       "         tags      id                       plylst_title songs  like_cnt  \\\n",
       "1          []  131447                             앨리스테이블    []         1   \n",
       "9          []  142007            기분 좋은 재즈와 함께 만드는 달달한 하루    []         0   \n",
       "17      [생각나]    2380                       다시 생각나는 그 사람    []         6   \n",
       "35         []   65114                 ■■■■ 사랑,그리고이별 ■■■■    []         6   \n",
       "57         []   87700                    마쉬멜로우같은 멜로우한 음악    []         6   \n",
       "...       ...     ...                                ...   ...       ...   \n",
       "22906  [힘찬노래]   61000                  세계를 정복한 가수, 방탄소년단    []        35   \n",
       "22920      []  124704  가사의 의미와 뜻은모른다!! 오직 멜로디로만 선곡한 팝송!!    []        27   \n",
       "22981      []   13045                         ＊카페 느낌 샹송♭    []        38   \n",
       "22991      []   32537  컨트리 황제 조니 캐시가 선 레코드 시절 발표한 초기 대표작    []        28   \n",
       "22996      []   86721                            해 저무는 밤    []         5   \n",
       "\n",
       "                     updt_date  \\\n",
       "1      2014-07-16 15:24:24.000   \n",
       "9      2015-06-22 09:11:02.000   \n",
       "17     2016-03-19 23:53:20.000   \n",
       "35     2010-10-27 10:34:34.000   \n",
       "57     2016-01-14 10:19:30.000   \n",
       "...                        ...   \n",
       "22906  2018-06-09 18:49:29.000   \n",
       "22920  2016-02-05 12:31:59.000   \n",
       "22981  2011-07-12 00:58:39.000   \n",
       "22991  2019-06-17 14:22:48.000   \n",
       "22996  2016-04-27 15:32:55.000   \n",
       "\n",
       "                                         count_top_songs  \n",
       "1                                                     []  \n",
       "9                                                     []  \n",
       "17     [556785, 651499, 1236, 600583, 253755, 537713,...  \n",
       "35                                                    []  \n",
       "57                                                    []  \n",
       "...                                                  ...  \n",
       "22906                                                 []  \n",
       "22920                                                 []  \n",
       "22981                                                 []  \n",
       "22991                                                 []  \n",
       "22996                                                 []  \n",
       "\n",
       "[1921 rows x 7 columns]"
      ]
     },
     "execution_count": 129,
     "metadata": {},
     "output_type": "execute_result"
    }
   ],
   "source": [
    "val_tag_under10 = val_w_tags[(val_w_tags['count_top_songs'].apply(len) < 100) & (val_w_tags['tags'].apply(len) < 10)]\n",
    "val_tag_under10"
   ]
  },
  {
   "cell_type": "code",
   "execution_count": 15,
   "metadata": {
    "ExecuteTime": {
     "end_time": "2020-05-14T10:39:13.921154Z",
     "start_time": "2020-05-14T10:39:13.907300Z"
    }
   },
   "outputs": [
    {
     "data": {
      "text/html": [
       "<div>\n",
       "<style scoped>\n",
       "    .dataframe tbody tr th:only-of-type {\n",
       "        vertical-align: middle;\n",
       "    }\n",
       "\n",
       "    .dataframe tbody tr th {\n",
       "        vertical-align: top;\n",
       "    }\n",
       "\n",
       "    .dataframe thead th {\n",
       "        text-align: right;\n",
       "    }\n",
       "</style>\n",
       "<table border=\"1\" class=\"dataframe\">\n",
       "  <thead>\n",
       "    <tr style=\"text-align: right;\">\n",
       "      <th></th>\n",
       "      <th>tags</th>\n",
       "      <th>id</th>\n",
       "      <th>plylst_title</th>\n",
       "      <th>songs</th>\n",
       "      <th>like_cnt</th>\n",
       "      <th>updt_date</th>\n",
       "    </tr>\n",
       "  </thead>\n",
       "  <tbody>\n",
       "    <tr>\n",
       "      <td>4514</td>\n",
       "      <td>[알앤비]</td>\n",
       "      <td>120699</td>\n",
       "      <td></td>\n",
       "      <td>[]</td>\n",
       "      <td>3</td>\n",
       "      <td>2016-02-04 16:39:50.000</td>\n",
       "    </tr>\n",
       "    <tr>\n",
       "      <td>6113</td>\n",
       "      <td>[]</td>\n",
       "      <td>108253</td>\n",
       "      <td></td>\n",
       "      <td>[]</td>\n",
       "      <td>28</td>\n",
       "      <td>2012-07-27 17:22:57.000</td>\n",
       "    </tr>\n",
       "    <tr>\n",
       "      <td>12607</td>\n",
       "      <td>[]</td>\n",
       "      <td>2996</td>\n",
       "      <td></td>\n",
       "      <td>[]</td>\n",
       "      <td>229</td>\n",
       "      <td>2018-10-08 13:16:50.000</td>\n",
       "    </tr>\n",
       "    <tr>\n",
       "      <td>17558</td>\n",
       "      <td>[]</td>\n",
       "      <td>125531</td>\n",
       "      <td></td>\n",
       "      <td>[]</td>\n",
       "      <td>2</td>\n",
       "      <td>2014-06-09 14:48:35.000</td>\n",
       "    </tr>\n",
       "    <tr>\n",
       "      <td>19221</td>\n",
       "      <td>[봄, 연주곡, Morning, Instrumental, 아침]</td>\n",
       "      <td>15941</td>\n",
       "      <td></td>\n",
       "      <td>[]</td>\n",
       "      <td>13</td>\n",
       "      <td>2019-05-24 09:52:50.000</td>\n",
       "    </tr>\n",
       "    <tr>\n",
       "      <td>22830</td>\n",
       "      <td>[]</td>\n",
       "      <td>22014</td>\n",
       "      <td></td>\n",
       "      <td>[]</td>\n",
       "      <td>3</td>\n",
       "      <td>2015-05-25 17:10:52.000</td>\n",
       "    </tr>\n",
       "  </tbody>\n",
       "</table>\n",
       "</div>"
      ],
      "text/plain": [
       "                                      tags      id plylst_title songs  \\\n",
       "4514                                 [알앤비]  120699                 []   \n",
       "6113                                    []  108253                 []   \n",
       "12607                                   []    2996                 []   \n",
       "17558                                   []  125531                 []   \n",
       "19221  [봄, 연주곡, Morning, Instrumental, 아침]   15941                 []   \n",
       "22830                                   []   22014                 []   \n",
       "\n",
       "       like_cnt                updt_date  \n",
       "4514          3  2016-02-04 16:39:50.000  \n",
       "6113         28  2012-07-27 17:22:57.000  \n",
       "12607       229  2018-10-08 13:16:50.000  \n",
       "17558         2  2014-06-09 14:48:35.000  \n",
       "19221        13  2019-05-24 09:52:50.000  \n",
       "22830         3  2015-05-25 17:10:52.000  "
      ]
     },
     "execution_count": 15,
     "metadata": {},
     "output_type": "execute_result"
    }
   ],
   "source": [
    "# plylst_title이 없는것\n",
    "val_w_full_tags_not_in[val_w_full_tags_not_in['plylst_title'].apply(lambda x : len(x)) == 0]"
   ]
  },
  {
   "cell_type": "markdown",
   "metadata": {
    "ExecuteTime": {
     "end_time": "2020-05-14T09:13:00.005254Z",
     "start_time": "2020-05-14T09:13:00.002946Z"
    }
   },
   "source": [
    "## 형태소 분석"
   ]
  },
  {
   "cell_type": "code",
   "execution_count": 134,
   "metadata": {
    "ExecuteTime": {
     "end_time": "2020-05-15T03:23:56.984153Z",
     "start_time": "2020-05-15T03:23:06.402173Z"
    }
   },
   "outputs": [],
   "source": [
    "# 1분\n",
    "from sklearn.feature_extraction.text import CountVectorizer\n",
    "from konlpy.tag import Okt\n",
    "\n",
    "t = Okt()\n",
    "vectorizer = CountVectorizer(min_df = 1)\n",
    "\n",
    "contents_tokens = [t.nouns(each) for each in train['tags'].apply(lambda x : \" \".join(x))]"
   ]
  },
  {
   "cell_type": "code",
   "execution_count": 145,
   "metadata": {
    "ExecuteTime": {
     "end_time": "2020-05-15T04:11:43.136427Z",
     "start_time": "2020-05-15T04:11:42.984523Z"
    }
   },
   "outputs": [
    {
     "data": {
      "text/plain": [
       "115071"
      ]
     },
     "execution_count": 145,
     "metadata": {},
     "output_type": "execute_result"
    }
   ],
   "source": [
    "contents_for_vectorize = []\n",
    "\n",
    "for content in contents_tokens:\n",
    "    sentence = ''\n",
    "    for word in content:\n",
    "        sentence = sentence + \" \" + word\n",
    "    \n",
    "    contents_for_vectorize.append(sentence)\n",
    "    \n",
    "len(contents_for_vectorize)"
   ]
  },
  {
   "cell_type": "code",
   "execution_count": 147,
   "metadata": {
    "ExecuteTime": {
     "end_time": "2020-05-15T04:11:48.007179Z",
     "start_time": "2020-05-15T04:11:48.003672Z"
    },
    "scrolled": true
   },
   "outputs": [
    {
     "data": {
      "text/plain": [
       "115071"
      ]
     },
     "execution_count": 147,
     "metadata": {},
     "output_type": "execute_result"
    }
   ],
   "source": [
    "len(contents_for_vectorize)"
   ]
  },
  {
   "cell_type": "code",
   "execution_count": 148,
   "metadata": {
    "ExecuteTime": {
     "end_time": "2020-05-15T04:11:55.265504Z",
     "start_time": "2020-05-15T04:11:54.703713Z"
    }
   },
   "outputs": [
    {
     "data": {
      "text/plain": [
       "<115071x10395 sparse matrix of type '<class 'numpy.float64'>'\n",
       "\twith 395059 stored elements in Compressed Sparse Row format>"
      ]
     },
     "execution_count": 148,
     "metadata": {},
     "output_type": "execute_result"
    }
   ],
   "source": [
    "# 벡터라이즈\n",
    "from sklearn.feature_extraction.text import CountVectorizer, TfidfVectorizer\n",
    "vectorizer = TfidfVectorizer(min_df = 1, decode_error = 'ignore')\n",
    "X = vectorizer.fit_transform(contents_for_vectorize)\n",
    "X"
   ]
  },
  {
   "cell_type": "code",
   "execution_count": 2,
   "metadata": {
    "ExecuteTime": {
     "end_time": "2020-05-15T04:45:23.143427Z",
     "start_time": "2020-05-15T04:45:23.132655Z"
    }
   },
   "outputs": [],
   "source": [
    "%load_ext memory_profiler"
   ]
  },
  {
   "cell_type": "code",
   "execution_count": 3,
   "metadata": {
    "ExecuteTime": {
     "end_time": "2020-05-15T04:45:23.842891Z",
     "start_time": "2020-05-15T04:45:23.625757Z"
    }
   },
   "outputs": [
    {
     "name": "stdout",
     "output_type": "stream",
     "text": [
      "peak memory: 152.07 MiB, increment: 0.07 MiB\n"
     ]
    }
   ],
   "source": [
    "%memit"
   ]
  },
  {
   "cell_type": "code",
   "execution_count": null,
   "metadata": {
    "ExecuteTime": {
     "start_time": "2020-05-15T04:22:16.182Z"
    },
    "scrolled": true
   },
   "outputs": [],
   "source": [
    "# 메모리 터짐\n",
    "from sklearn.metrics import pairwise_distances\n",
    "pairwise_matrix = pairwise_distances(X, X, n_jobs=-1)"
   ]
  },
  {
   "cell_type": "markdown",
   "metadata": {
    "ExecuteTime": {
     "end_time": "2020-05-14T06:56:28.432447Z",
     "start_time": "2020-05-14T06:56:28.430336Z"
    }
   },
   "source": [
    "# 유사도 측정할 테스트 문장"
   ]
  },
  {
   "cell_type": "code",
   "execution_count": 139,
   "metadata": {
    "ExecuteTime": {
     "end_time": "2020-05-15T03:25:45.514948Z",
     "start_time": "2020-05-15T03:25:45.492084Z"
    }
   },
   "outputs": [
    {
     "data": {
      "text/html": [
       "<div>\n",
       "<style scoped>\n",
       "    .dataframe tbody tr th:only-of-type {\n",
       "        vertical-align: middle;\n",
       "    }\n",
       "\n",
       "    .dataframe tbody tr th {\n",
       "        vertical-align: top;\n",
       "    }\n",
       "\n",
       "    .dataframe thead th {\n",
       "        text-align: right;\n",
       "    }\n",
       "</style>\n",
       "<table border=\"1\" class=\"dataframe\">\n",
       "  <thead>\n",
       "    <tr style=\"text-align: right;\">\n",
       "      <th></th>\n",
       "      <th>tags</th>\n",
       "      <th>id</th>\n",
       "      <th>plylst_title</th>\n",
       "      <th>songs</th>\n",
       "      <th>like_cnt</th>\n",
       "      <th>updt_date</th>\n",
       "      <th>count_top_songs</th>\n",
       "    </tr>\n",
       "  </thead>\n",
       "  <tbody>\n",
       "    <tr>\n",
       "      <td>60</td>\n",
       "      <td>[]</td>\n",
       "      <td>47555</td>\n",
       "      <td></td>\n",
       "      <td>[136761, 507344]</td>\n",
       "      <td>0</td>\n",
       "      <td>2015-11-18 14:12:07.000</td>\n",
       "      <td>[]</td>\n",
       "    </tr>\n",
       "    <tr>\n",
       "      <td>233</td>\n",
       "      <td>[]</td>\n",
       "      <td>130185</td>\n",
       "      <td></td>\n",
       "      <td>[537913, 577336, 10370, 299500, 619981, 671353...</td>\n",
       "      <td>1</td>\n",
       "      <td>2019-08-25 14:49:24.000</td>\n",
       "      <td>[]</td>\n",
       "    </tr>\n",
       "    <tr>\n",
       "      <td>737</td>\n",
       "      <td>[]</td>\n",
       "      <td>52149</td>\n",
       "      <td></td>\n",
       "      <td>[638496, 620895, 643877, 170671, 78488, 307555...</td>\n",
       "      <td>1</td>\n",
       "      <td>2020-02-03 16:45:42.000</td>\n",
       "      <td>[]</td>\n",
       "    </tr>\n",
       "    <tr>\n",
       "      <td>799</td>\n",
       "      <td>[]</td>\n",
       "      <td>114714</td>\n",
       "      <td></td>\n",
       "      <td>[350110, 191714, 515717, 593742, 407145, 24027...</td>\n",
       "      <td>17</td>\n",
       "      <td>2019-12-19 14:47:44.000</td>\n",
       "      <td>[]</td>\n",
       "    </tr>\n",
       "    <tr>\n",
       "      <td>821</td>\n",
       "      <td>[]</td>\n",
       "      <td>104922</td>\n",
       "      <td></td>\n",
       "      <td>[316484, 53931, 539725, 204829]</td>\n",
       "      <td>14</td>\n",
       "      <td>2016-07-22 00:42:23.000</td>\n",
       "      <td>[]</td>\n",
       "    </tr>\n",
       "    <tr>\n",
       "      <td>...</td>\n",
       "      <td>...</td>\n",
       "      <td>...</td>\n",
       "      <td>...</td>\n",
       "      <td>...</td>\n",
       "      <td>...</td>\n",
       "      <td>...</td>\n",
       "      <td>...</td>\n",
       "    </tr>\n",
       "    <tr>\n",
       "      <td>21460</td>\n",
       "      <td>[]</td>\n",
       "      <td>63799</td>\n",
       "      <td></td>\n",
       "      <td>[389876, 255641, 432475, 90103, 239292, 18542,...</td>\n",
       "      <td>2</td>\n",
       "      <td>2014-09-28 13:46:15.000</td>\n",
       "      <td>[]</td>\n",
       "    </tr>\n",
       "    <tr>\n",
       "      <td>21538</td>\n",
       "      <td>[]</td>\n",
       "      <td>108712</td>\n",
       "      <td></td>\n",
       "      <td>[596632, 374760, 582554, 503780, 473771]</td>\n",
       "      <td>1</td>\n",
       "      <td>2020-04-03 17:03:31.000</td>\n",
       "      <td>[]</td>\n",
       "    </tr>\n",
       "    <tr>\n",
       "      <td>21805</td>\n",
       "      <td>[]</td>\n",
       "      <td>86094</td>\n",
       "      <td></td>\n",
       "      <td>[430360, 180264, 371559, 361053, 229181, 98991...</td>\n",
       "      <td>14</td>\n",
       "      <td>2018-03-12 14:38:38.000</td>\n",
       "      <td>[]</td>\n",
       "    </tr>\n",
       "    <tr>\n",
       "      <td>22356</td>\n",
       "      <td>[]</td>\n",
       "      <td>144555</td>\n",
       "      <td></td>\n",
       "      <td>[362641, 614449, 177918, 310240, 495650]</td>\n",
       "      <td>1</td>\n",
       "      <td>2015-11-09 14:13:20.000</td>\n",
       "      <td>[]</td>\n",
       "    </tr>\n",
       "    <tr>\n",
       "      <td>22830</td>\n",
       "      <td>[]</td>\n",
       "      <td>22014</td>\n",
       "      <td></td>\n",
       "      <td>[]</td>\n",
       "      <td>3</td>\n",
       "      <td>2015-05-25 17:10:52.000</td>\n",
       "      <td>[]</td>\n",
       "    </tr>\n",
       "  </tbody>\n",
       "</table>\n",
       "<p>99 rows × 7 columns</p>\n",
       "</div>"
      ],
      "text/plain": [
       "      tags      id plylst_title  \\\n",
       "60      []   47555                \n",
       "233     []  130185                \n",
       "737     []   52149                \n",
       "799     []  114714                \n",
       "821     []  104922                \n",
       "...    ...     ...          ...   \n",
       "21460   []   63799                \n",
       "21538   []  108712                \n",
       "21805   []   86094                \n",
       "22356   []  144555                \n",
       "22830   []   22014                \n",
       "\n",
       "                                                   songs  like_cnt  \\\n",
       "60                                      [136761, 507344]         0   \n",
       "233    [537913, 577336, 10370, 299500, 619981, 671353...         1   \n",
       "737    [638496, 620895, 643877, 170671, 78488, 307555...         1   \n",
       "799    [350110, 191714, 515717, 593742, 407145, 24027...        17   \n",
       "821                      [316484, 53931, 539725, 204829]        14   \n",
       "...                                                  ...       ...   \n",
       "21460  [389876, 255641, 432475, 90103, 239292, 18542,...         2   \n",
       "21538           [596632, 374760, 582554, 503780, 473771]         1   \n",
       "21805  [430360, 180264, 371559, 361053, 229181, 98991...        14   \n",
       "22356           [362641, 614449, 177918, 310240, 495650]         1   \n",
       "22830                                                 []         3   \n",
       "\n",
       "                     updt_date count_top_songs  \n",
       "60     2015-11-18 14:12:07.000              []  \n",
       "233    2019-08-25 14:49:24.000              []  \n",
       "737    2020-02-03 16:45:42.000              []  \n",
       "799    2019-12-19 14:47:44.000              []  \n",
       "821    2016-07-22 00:42:23.000              []  \n",
       "...                        ...             ...  \n",
       "21460  2014-09-28 13:46:15.000              []  \n",
       "21538  2020-04-03 17:03:31.000              []  \n",
       "21805  2018-03-12 14:38:38.000              []  \n",
       "22356  2015-11-09 14:13:20.000              []  \n",
       "22830  2015-05-25 17:10:52.000              []  \n",
       "\n",
       "[99 rows x 7 columns]"
      ]
     },
     "execution_count": 139,
     "metadata": {},
     "output_type": "execute_result"
    }
   ],
   "source": [
    "val_tag_under10[val_tag_under10['plylst_title'].apply(len)==0]"
   ]
  },
  {
   "cell_type": "code",
   "execution_count": 157,
   "metadata": {
    "ExecuteTime": {
     "end_time": "2020-05-15T04:13:16.608617Z",
     "start_time": "2020-05-15T04:13:16.602067Z"
    }
   },
   "outputs": [
    {
     "data": {
      "text/plain": [
       "[' 마쉬멜로우 같은 멜로 우한 음악']"
      ]
     },
     "execution_count": 157,
     "metadata": {},
     "output_type": "execute_result"
    }
   ],
   "source": [
    "new_post = [val_tag_under10['plylst_title'].iloc[4]]\n",
    "new_post_tokens = [t.morphs(row) for row in new_post]\n",
    "\n",
    "new_post_for_vectorize = []\n",
    "\n",
    "for content in new_post_tokens:\n",
    "    sentence = ''\n",
    "    for word in content:\n",
    "        sentence = sentence + ' ' + word\n",
    "    \n",
    "    new_post_for_vectorize.append(sentence)\n",
    "    \n",
    "new_post_for_vectorize"
   ]
  },
  {
   "cell_type": "code",
   "execution_count": 31,
   "metadata": {
    "ExecuteTime": {
     "end_time": "2020-05-14T10:44:16.389935Z",
     "start_time": "2020-05-14T10:44:16.386650Z"
    }
   },
   "outputs": [],
   "source": [
    "new_post_vec = vectorizer.transform(new_post_for_vectorize)"
   ]
  },
  {
   "cell_type": "code",
   "execution_count": 36,
   "metadata": {
    "ExecuteTime": {
     "end_time": "2020-05-14T10:45:12.777803Z",
     "start_time": "2020-05-14T10:45:12.774063Z"
    }
   },
   "outputs": [],
   "source": [
    "def dist_norm(v1, v2):\n",
    "    v1_normalized = v1 / sp.linalg.norm(v1.toarray())\n",
    "    v2_normalized = v2 / sp.linalg.norm(v2.toarray())\n",
    "    \n",
    "    delta = v1_normalized - v2_normalized\n",
    "    \n",
    "    return sp.linalg.norm(delta.toarray())"
   ]
  },
  {
   "cell_type": "code",
   "execution_count": 188,
   "metadata": {
    "ExecuteTime": {
     "end_time": "2020-05-14T11:09:15.957866Z",
     "start_time": "2020-05-14T11:09:15.954394Z"
    }
   },
   "outputs": [],
   "source": [
    "import scipy as sp\n",
    "\n",
    "def dist_raw(v1, v2):\n",
    "    delta = v1 - v2\n",
    "    return sp.linalg.norm(delta.toarray())"
   ]
  },
  {
   "cell_type": "markdown",
   "metadata": {},
   "source": [
    "## 거리 구하고"
   ]
  },
  {
   "cell_type": "code",
   "execution_count": 223,
   "metadata": {
    "ExecuteTime": {
     "end_time": "2020-05-14T11:19:02.518744Z",
     "start_time": "2020-05-14T11:17:42.003109Z"
    }
   },
   "outputs": [],
   "source": [
    "dist = [dist_norm(each, new_post_vec) for each in X]"
   ]
  },
  {
   "cell_type": "code",
   "execution_count": 224,
   "metadata": {
    "ExecuteTime": {
     "end_time": "2020-05-14T11:19:09.520358Z",
     "start_time": "2020-05-14T11:19:09.334138Z"
    }
   },
   "outputs": [],
   "source": [
    "ls = []\n",
    "for i in sorted(dist):\n",
    "    ls.append(dist.index(i))"
   ]
  },
  {
   "cell_type": "code",
   "execution_count": 225,
   "metadata": {
    "ExecuteTime": {
     "end_time": "2020-05-14T11:19:11.220300Z",
     "start_time": "2020-05-14T11:19:11.198289Z"
    }
   },
   "outputs": [
    {
     "data": {
      "text/plain": [
       "['다시',\n",
       " '고마웠어',\n",
       " '그사람',\n",
       " '볼수없는',\n",
       " '언제나좋은',\n",
       " '기분전환',\n",
       " 'Pop',\n",
       " '다시듣게되는',\n",
       " '겨울to봄',\n",
       " '봄',\n",
       " '다시_봄']"
      ]
     },
     "execution_count": 225,
     "metadata": {},
     "output_type": "execute_result"
    }
   ],
   "source": [
    "j = []\n",
    "for i in raw_tr.iloc[ls].drop_duplicates('id')['tags']:\n",
    "    j.append(i)\n",
    "k = sum(j, [])[:11]\n",
    "k"
   ]
  },
  {
   "cell_type": "code",
   "execution_count": null,
   "metadata": {},
   "outputs": [],
   "source": []
  }
 ],
 "metadata": {
  "kernelspec": {
   "display_name": "Python 3",
   "language": "python",
   "name": "python3"
  },
  "language_info": {
   "codemirror_mode": {
    "name": "ipython",
    "version": 3
   },
   "file_extension": ".py",
   "mimetype": "text/x-python",
   "name": "python",
   "nbconvert_exporter": "python",
   "pygments_lexer": "ipython3",
   "version": "3.7.4"
  }
 },
 "nbformat": 4,
 "nbformat_minor": 2
}
