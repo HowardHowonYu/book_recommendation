{
 "cells": [
  {
   "cell_type": "code",
   "execution_count": 1,
   "metadata": {
    "ExecuteTime": {
     "end_time": "2020-05-27T15:06:55.122463Z",
     "start_time": "2020-05-27T15:06:54.418314Z"
    }
   },
   "outputs": [],
   "source": [
    "import pandas as pd\n",
    "import numpy as np\n",
    "\n",
    "from sklearn.metrics.pairwise import cosine_similarity\n",
    "from scipy import sparse\n"
   ]
  },
  {
   "cell_type": "code",
   "execution_count": 2,
   "metadata": {
    "ExecuteTime": {
     "end_time": "2020-05-27T15:06:57.230957Z",
     "start_time": "2020-05-27T15:06:55.124443Z"
    }
   },
   "outputs": [],
   "source": [
    "raw_tr = pd.read_json(\"./raw_data/train.json\")\n",
    "raw_te = pd.read_json(\"./태그, 노래 채우기/validation.json\")\n",
    "# raw_te = pd.read_json(\"./raw_data/val.json\")"
   ]
  },
  {
   "cell_type": "markdown",
   "metadata": {},
   "source": [
    "## playlist X tag binary matrix"
   ]
  },
  {
   "cell_type": "code",
   "execution_count": 3,
   "metadata": {
    "ExecuteTime": {
     "end_time": "2020-05-27T15:06:57.538640Z",
     "start_time": "2020-05-27T15:06:57.233809Z"
    }
   },
   "outputs": [],
   "source": [
    "from sklearn.preprocessing import MultiLabelBinarizer\n",
    "test_df = raw_tr\n",
    "raw_te_tags_mlb = MultiLabelBinarizer(sparse_output=True)\n",
    "raw_te_tags = list(test_df.tags)\n",
    "te_tag_df = raw_te_tags_mlb.fit_transform(raw_te_tags)\n",
    "te_tag_classes = raw_te_tags_mlb.classes_"
   ]
  },
  {
   "cell_type": "code",
   "execution_count": 4,
   "metadata": {
    "ExecuteTime": {
     "end_time": "2020-05-27T15:06:58.211937Z",
     "start_time": "2020-05-27T15:06:57.540921Z"
    }
   },
   "outputs": [],
   "source": [
    "data_items = pd.DataFrame(te_tag_df.todense(), columns=te_tag_classes)"
   ]
  },
  {
   "cell_type": "code",
   "execution_count": 5,
   "metadata": {
    "ExecuteTime": {
     "end_time": "2020-05-27T15:09:18.049527Z",
     "start_time": "2020-05-27T15:06:58.213763Z"
    }
   },
   "outputs": [],
   "source": [
    "#------------------------\n",
    "# ITEM-ITEM CALCULATIONS\n",
    "#------------------------\n",
    "\n",
    "# As a first step we normalize the user vectors to unit vectors.\n",
    "\n",
    "# magnitude = sqrt(x2 + y2 + z2 + ...)\n",
    "magnitude = np.sqrt(np.square(data_items).sum(axis=1))\n",
    "# unitvector = (x / magnitude, y / magnitude, z / magnitude, ...)\n",
    "data_items = data_items.divide(magnitude, axis='index')\n",
    "\n",
    "def calculate_similarity(data_items):\n",
    "    \"\"\"Calculate the column-wise cosine similarity for a sparse\n",
    "    matrix. Return a new dataframe matrix with similarities.\n",
    "    \"\"\"\n",
    "    data_sparse = sparse.csr_matrix(data_items)\n",
    "    similarities = cosine_similarity(data_sparse.transpose())\n",
    "    sim = pd.DataFrame(data=similarities, index= data_items.columns, columns= data_items.columns)\n",
    "    return sim\n",
    "\n",
    "# Build the similarity matrix\n",
    "data_matrix = calculate_similarity(data_items)"
   ]
  },
  {
   "cell_type": "code",
   "execution_count": 307,
   "metadata": {
    "ExecuteTime": {
     "end_time": "2020-05-27T16:53:09.243570Z",
     "start_time": "2020-05-27T16:53:09.240217Z"
    }
   },
   "outputs": [],
   "source": [
    "def get_similar_tags_top10(tags):\n",
    "    return data_matrix.index[np.argsort(data_matrix.loc[tags[0]].values)[::-1][:10]].tolist()\n",
    "# list(itertools.chain([i[: 10 // len(tags)+1] for i in ls]))"
   ]
  },
  {
   "cell_type": "code",
   "execution_count": 304,
   "metadata": {
    "ExecuteTime": {
     "end_time": "2020-05-27T16:52:11.520019Z",
     "start_time": "2020-05-27T16:52:11.515634Z"
    }
   },
   "outputs": [],
   "source": [
    "def get_similar_tags(tags):\n",
    "    from collections import OrderedDict\n",
    "    from itertools import repeat\n",
    "    ls = []\n",
    "    for tag in tags:        \n",
    "        ls += data_matrix.index[np.argsort(data_matrix.loc[tag].values)[::-1][:10//len(tags)+3]].tolist()\n",
    "    return list(OrderedDict(zip(ls, repeat(None))))\n",
    "# list(itertools.chain([i[: 10 // len(tags)+1] for i in ls]))"
   ]
  },
  {
   "cell_type": "code",
   "execution_count": 305,
   "metadata": {
    "ExecuteTime": {
     "end_time": "2020-05-27T16:52:12.427132Z",
     "start_time": "2020-05-27T16:52:12.424236Z"
    }
   },
   "outputs": [],
   "source": [
    "from tqdm import tqdm\n",
    "tqdm.pandas()"
   ]
  },
  {
   "cell_type": "code",
   "execution_count": 309,
   "metadata": {
    "ExecuteTime": {
     "end_time": "2020-05-27T16:53:50.977550Z",
     "start_time": "2020-05-27T16:53:34.035008Z"
    }
   },
   "outputs": [],
   "source": [
    "tag_ret = raw_te.tags.apply(lambda x : get_similar_tags_top10(x)).tolist()"
   ]
  },
  {
   "cell_type": "markdown",
   "metadata": {},
   "source": [
    "## playlist X songs list in list 만들기"
   ]
  },
  {
   "cell_type": "code",
   "execution_count": 17,
   "metadata": {
    "ExecuteTime": {
     "end_time": "2020-05-27T15:11:10.481833Z",
     "start_time": "2020-05-27T15:11:10.408950Z"
    }
   },
   "outputs": [],
   "source": [
    "from implicit.evaluation import  *\n",
    "from implicit.als import AlternatingLeastSquares as ALS\n",
    "from implicit.bpr import BayesianPersonalizedRanking as BPR\n",
    "import numpy as np\n",
    "import os\n",
    "os.environ['KMP_DUPLICATE_LIB_OK']='True'\n",
    "from sklearn.utils import shuffle\n",
    "from scipy.sparse import *\n",
    "# import rec_util\n",
    "import pandas as pd\n",
    "pd.options.display.float_format = '{:.2f}'.format\n"
   ]
  },
  {
   "cell_type": "code",
   "execution_count": 18,
   "metadata": {
    "ExecuteTime": {
     "end_time": "2020-05-27T15:11:14.380557Z",
     "start_time": "2020-05-27T15:11:10.645756Z"
    }
   },
   "outputs": [],
   "source": [
    "train_songs = raw_tr['songs'].tolist()\n",
    "test_songs = raw_te['songs'].apply(lambda x : [float(i)for i in x]).tolist()\n",
    "# train_tags = raw_tr['tags'].tolist()\n",
    "# test_tags = raw_te['tags'].tolist()\n",
    "test_ids = raw_te['id'].tolist()\n",
    "\n",
    "### train 데이터 list to list 로 만들기\n",
    "\n",
    "from itertools import groupby\n",
    "tr = []\n",
    "iid_to_idx = {}\n",
    "idx = 0\n",
    "\n",
    "for i, l in enumerate(train_songs):\n",
    "    view = l\n",
    "    for item_id in view:\n",
    "        if item_id not in iid_to_idx:\n",
    "            iid_to_idx[item_id] = idx\n",
    "            idx += 1\n",
    "    view = [iid_to_idx[x] for x in view]\n",
    "    tr.append(view)\n",
    "\n",
    "# idx = 0\n",
    "# n_items = 615142\n",
    "# tag_to_idx = {} \n",
    "# for i, tags in enumerate(train_tags):\n",
    "#     for tag in tags:\n",
    "#         if tag not in tag_to_idx:\n",
    "#             tag_to_idx[tag] = n_items + idx\n",
    "#             idx += 1\n",
    "#     tr[i].extend([tag_to_idx[x] for x in tags])\n",
    "n_items = len(iid_to_idx)\n",
    "# n_tags = len(tag_to_idx)\n",
    "\n",
    "### test 데이터 list to list 로 만들기\n",
    "\n",
    "te = []\n",
    "\n",
    "idx = 0\n",
    "for i, l in enumerate(test_songs):\n",
    "    view = l\n",
    "    ret = [] \n",
    "    for item_id in view:\n",
    "        if item_id not in iid_to_idx:\n",
    "            continue\n",
    "        ret.append(iid_to_idx[item_id])\n",
    "    te.append(ret)\n",
    "# idx = 0\n",
    "# for i, tags in enumerate(test_tags):\n",
    "#     ret = []\n",
    "#     for tag in tags:\n",
    "#         if tag not in tag_to_idx:\n",
    "#             continue\n",
    "#         ret.append(tag)\n",
    "#     te[i].extend([tag_to_idx[x] for x in ret])\n",
    "\n",
    "# 데이터 쓰까\n",
    "\n",
    "# tr = shuffle(tr, random_state=10)\n"
   ]
  },
  {
   "cell_type": "markdown",
   "metadata": {},
   "source": [
    "\n",
    "## 노래 및 태그 인덱싱 하기\n"
   ]
  },
  {
   "cell_type": "code",
   "execution_count": 19,
   "metadata": {
    "ExecuteTime": {
     "end_time": "2020-05-27T15:11:14.450684Z",
     "start_time": "2020-05-27T15:11:14.382673Z"
    }
   },
   "outputs": [],
   "source": [
    "idx_to_iid = {x:y for(y,x) in iid_to_idx.items()}\n",
    "# idx_to_tag = {(x - n_items):y for(y,x) in tag_to_idx.items()}"
   ]
  },
  {
   "cell_type": "code",
   "execution_count": 20,
   "metadata": {
    "ExecuteTime": {
     "end_time": "2020-05-27T15:11:18.628063Z",
     "start_time": "2020-05-27T15:11:14.453709Z"
    }
   },
   "outputs": [],
   "source": [
    "from sklearn.feature_extraction.text import CountVectorizer\n",
    "cv = CountVectorizer(tokenizer=lambda x: x, lowercase=False)\n",
    "tr_array = cv.fit_transform(tr)"
   ]
  },
  {
   "cell_type": "code",
   "execution_count": 21,
   "metadata": {
    "ExecuteTime": {
     "end_time": "2020-05-27T15:11:19.364382Z",
     "start_time": "2020-05-27T15:11:18.630355Z"
    }
   },
   "outputs": [],
   "source": [
    "from sklearn.feature_extraction.text import CountVectorizer\n",
    "cv = CountVectorizer(tokenizer=lambda x: x, lowercase=False)\n",
    "te_array = cv.fit_transform(te)"
   ]
  },
  {
   "cell_type": "code",
   "execution_count": 22,
   "metadata": {
    "ExecuteTime": {
     "end_time": "2020-05-27T15:11:19.369730Z",
     "start_time": "2020-05-27T15:11:19.366292Z"
    }
   },
   "outputs": [],
   "source": [
    "tr_csr = csr_matrix(tr_array, (len(tr), n_items))\n",
    "te_csr = csr_matrix(te_array, (len(te), n_items))"
   ]
  },
  {
   "cell_type": "code",
   "execution_count": 23,
   "metadata": {
    "ExecuteTime": {
     "end_time": "2020-05-27T15:11:19.405093Z",
     "start_time": "2020-05-27T15:11:19.372509Z"
    }
   },
   "outputs": [
    {
     "data": {
      "text/plain": [
       "<138086x615142 sparse matrix of type '<class 'numpy.int64'>'\n",
       "\twith 5779814 stored elements in Compressed Sparse Row format>"
      ]
     },
     "execution_count": 23,
     "metadata": {},
     "output_type": "execute_result"
    }
   ],
   "source": [
    "import scipy.sparse\n",
    "r = scipy.sparse.vstack([tr_csr,te_csr])\n",
    "r = csr_matrix(r)\n",
    "r"
   ]
  },
  {
   "cell_type": "code",
   "execution_count": null,
   "metadata": {
    "ExecuteTime": {
     "start_time": "2020-05-27T16:55:00.395Z"
    }
   },
   "outputs": [
    {
     "data": {
      "application/vnd.jupyter.widget-view+json": {
       "model_id": "54e8be3b7e7c44dbb8047b45f067f218",
       "version_major": 2,
       "version_minor": 0
      },
      "text/plain": [
       "HBox(children=(IntProgress(value=0, max=50), HTML(value='')))"
      ]
     },
     "metadata": {},
     "output_type": "display_data"
    }
   ],
   "source": [
    "als_model = ALS(factors=256, regularization=0.08, iterations=50)\n",
    "als_model.fit(r.T * 15.0)"
   ]
  },
  {
   "cell_type": "code",
   "execution_count": null,
   "metadata": {
    "ExecuteTime": {
     "start_time": "2020-05-27T16:55:06.989Z"
    }
   },
   "outputs": [],
   "source": [
    "item_model = ALS(use_gpu=False)\n",
    "# tag_model = ALS(use_gpu=False)\n",
    "item_model.user_factors = als_model.user_factors\n",
    "# tag_model.user_factors = als_model.user_factors\n",
    "\n",
    "item_model.item_factors = als_model.item_factors\n",
    "# tag_model.item_factors = als_model.item_factors"
   ]
  },
  {
   "cell_type": "code",
   "execution_count": null,
   "metadata": {
    "ExecuteTime": {
     "start_time": "2020-05-27T16:55:07.857Z"
    }
   },
   "outputs": [],
   "source": [
    "item_rec_csr = tr_csr[:, :n_items]"
   ]
  },
  {
   "cell_type": "code",
   "execution_count": null,
   "metadata": {
    "ExecuteTime": {
     "start_time": "2020-05-27T16:55:08.283Z"
    }
   },
   "outputs": [],
   "source": [
    "item_ret = []\n",
    "tag_ret = []\n",
    "from tqdm.auto import tqdm\n",
    "for u in tqdm(range(te_csr.shape[0])):\n",
    "    item_rec = item_model.recommend(u, item_rec_csr, N=100)\n",
    "    item_rec = [idx_to_iid[x[0]] for x in item_rec]\n",
    "    # tag_rec = tag_model.recommend(u, tag_rec_csr, N=100)\n",
    "    # tag_rec = [idx_to_tag[x[0]] for x in tag_rec if x[0] in idx_to_tag]\n",
    "    item_ret.append(item_rec)\n",
    "    # tag_ret.append(tag_rec)"
   ]
  },
  {
   "cell_type": "code",
   "execution_count": 244,
   "metadata": {
    "ExecuteTime": {
     "end_time": "2020-05-27T16:17:14.081402Z",
     "start_time": "2020-05-27T16:17:14.073885Z"
    }
   },
   "outputs": [],
   "source": [
    "for i in range(len(item_ret)):\n",
    "    if len(item_ret[i]) != 100:\n",
    "        print(i)"
   ]
  },
  {
   "cell_type": "code",
   "execution_count": 314,
   "metadata": {
    "ExecuteTime": {
     "end_time": "2020-05-27T16:54:07.990694Z",
     "start_time": "2020-05-27T16:54:07.970519Z"
    }
   },
   "outputs": [],
   "source": [
    "# 태그 중복 확인\n",
    "check_list = []\n",
    "for tags in tag_ret:\n",
    "    if len(set(tags)) != 10:\n",
    "        print(len(set(tags)))\n",
    "        check_list.append(tags)"
   ]
  },
  {
   "cell_type": "code",
   "execution_count": null,
   "metadata": {
    "ExecuteTime": {
     "start_time": "2020-05-27T16:55:17.103Z"
    }
   },
   "outputs": [],
   "source": [
    "returnval = []\n",
    "for _id, rec, tag_rec in zip(test_ids, item_ret, tag_ret):\n",
    "    returnval.append({\n",
    "        \"id\": _id,\n",
    "        \"songs\": rec[:100],\n",
    "        \"tags\": tag_rec[:10]\n",
    "    })"
   ]
  },
  {
   "cell_type": "code",
   "execution_count": null,
   "metadata": {
    "ExecuteTime": {
     "start_time": "2020-05-27T16:55:17.473Z"
    }
   },
   "outputs": [],
   "source": [
    "import json\n",
    "with open('results.json', 'w', encoding='utf-8') as f:\n",
    "    f.write(json.dumps(returnval, ensure_ascii=False))"
   ]
  },
  {
   "cell_type": "code",
   "execution_count": null,
   "metadata": {},
   "outputs": [],
   "source": []
  }
 ],
 "metadata": {
  "kernelspec": {
   "display_name": "Python 3",
   "language": "python",
   "name": "python3"
  },
  "language_info": {
   "codemirror_mode": {
    "name": "ipython",
    "version": 3
   },
   "file_extension": ".py",
   "mimetype": "text/x-python",
   "name": "python",
   "nbconvert_exporter": "python",
   "pygments_lexer": "ipython3",
   "version": "3.7.4"
  }
 },
 "nbformat": 4,
 "nbformat_minor": 2
}
