{
 "cells": [
  {
   "cell_type": "code",
   "execution_count": 1,
   "metadata": {
    "ExecuteTime": {
     "end_time": "2020-05-28T09:34:01.883323Z",
     "start_time": "2020-05-28T09:34:01.401207Z"
    }
   },
   "outputs": [],
   "source": [
    "import pandas as pd\n",
    "import numpy as np\n",
    "\n",
    "from sklearn.metrics.pairwise import cosine_similarity\n",
    "from scipy import sparse"
   ]
  },
  {
   "cell_type": "code",
   "execution_count": 2,
   "metadata": {
    "ExecuteTime": {
     "end_time": "2020-05-28T09:34:03.941012Z",
     "start_time": "2020-05-28T09:34:01.886036Z"
    }
   },
   "outputs": [],
   "source": [
    "raw_tr = pd.read_json(\"./raw_data/train.json\")\n",
    "raw_te = pd.read_json(\"./태그, 노래 채우기/validation.json\")\n",
    "# raw_te = pd.read_json(\"./raw_data/val.json\")"
   ]
  },
  {
   "cell_type": "markdown",
   "metadata": {},
   "source": [
    "## playlist X tag binary matrix"
   ]
  },
  {
   "cell_type": "code",
   "execution_count": 3,
   "metadata": {
    "ExecuteTime": {
     "end_time": "2020-05-28T09:34:04.254947Z",
     "start_time": "2020-05-28T09:34:03.942887Z"
    }
   },
   "outputs": [],
   "source": [
    "from sklearn.preprocessing import MultiLabelBinarizer\n",
    "test_df = pd.concat([raw_tr])\n",
    "raw_te_tags_mlb = MultiLabelBinarizer(sparse_output=True)\n",
    "raw_te_tags = list(test_df.tags)\n",
    "te_tag_df = raw_te_tags_mlb.fit_transform(raw_te_tags)\n",
    "te_tag_classes = raw_te_tags_mlb.classes_"
   ]
  },
  {
   "cell_type": "code",
   "execution_count": 4,
   "metadata": {
    "ExecuteTime": {
     "end_time": "2020-05-28T09:34:04.913298Z",
     "start_time": "2020-05-28T09:34:04.256800Z"
    }
   },
   "outputs": [],
   "source": [
    "data_items = pd.DataFrame(te_tag_df.todense(), columns=te_tag_classes)"
   ]
  },
  {
   "cell_type": "code",
   "execution_count": 36,
   "metadata": {
    "ExecuteTime": {
     "end_time": "2020-05-28T12:24:42.142332Z",
     "start_time": "2020-05-28T12:24:39.390140Z"
    }
   },
   "outputs": [],
   "source": [
    "from sklearn.preprocessing import MultiLabelBinarizer\n",
    "# test_df = pd.concat([raw_tr])\n",
    "raw_te_songs_mlb = MultiLabelBinarizer(sparse_output=True)\n",
    "raw_te_songs = list(raw_tr.songs)\n",
    "te_songs_df = raw_te_songs_mlb.fit_transform(raw_te_songs)\n",
    "te_songs_classes = raw_te_songs_mlb.classes_"
   ]
  },
  {
   "cell_type": "code",
   "execution_count": 37,
   "metadata": {
    "ExecuteTime": {
     "end_time": "2020-05-28T12:24:42.148543Z",
     "start_time": "2020-05-28T12:24:42.144369Z"
    }
   },
   "outputs": [
    {
     "data": {
      "text/plain": [
       "(115071, 615142)"
      ]
     },
     "execution_count": 37,
     "metadata": {},
     "output_type": "execute_result"
    }
   ],
   "source": [
    "te_songs_df.shape"
   ]
  },
  {
   "cell_type": "code",
   "execution_count": 38,
   "metadata": {
    "ExecuteTime": {
     "end_time": "2020-05-28T12:24:59.892997Z",
     "start_time": "2020-05-28T12:24:46.092916Z"
    }
   },
   "outputs": [],
   "source": [
    "data_items2 = pd.DataFrame(te_songs_df.todense(), columns=te_songs_classes)"
   ]
  },
  {
   "cell_type": "code",
   "execution_count": null,
   "metadata": {
    "ExecuteTime": {
     "start_time": "2020-05-28T12:24:49.008Z"
    }
   },
   "outputs": [],
   "source": [
    "magnitude = np.sqrt(np.square(data_items2).sum(axis=1))"
   ]
  },
  {
   "cell_type": "code",
   "execution_count": null,
   "metadata": {
    "ExecuteTime": {
     "start_time": "2020-05-28T12:24:53.144Z"
    }
   },
   "outputs": [],
   "source": [
    "data_items2 = data_items2.divide(magnitude, axis='index')"
   ]
  },
  {
   "cell_type": "code",
   "execution_count": null,
   "metadata": {},
   "outputs": [],
   "source": []
  },
  {
   "cell_type": "code",
   "execution_count": null,
   "metadata": {},
   "outputs": [],
   "source": []
  },
  {
   "cell_type": "code",
   "execution_count": null,
   "metadata": {},
   "outputs": [],
   "source": []
  },
  {
   "cell_type": "code",
   "execution_count": null,
   "metadata": {},
   "outputs": [],
   "source": []
  },
  {
   "cell_type": "code",
   "execution_count": 5,
   "metadata": {
    "ExecuteTime": {
     "end_time": "2020-05-28T09:36:08.848530Z",
     "start_time": "2020-05-28T09:34:04.934279Z"
    }
   },
   "outputs": [],
   "source": [
    "#------------------------\n",
    "# ITEM-ITEM CALCULATIONS\n",
    "#------------------------\n",
    "\n",
    "# magnitude = sqrt(x2 + y2 + z2 + ...)\n",
    "magnitude = np.sqrt(np.square(data_items).sum(axis=1))\n",
    "\n",
    "# vector = (x / magnitude, y / magnitude, z / magnitude, ...)\n",
    "data_items = data_items.divide(magnitude, axis='index')\n",
    "\n",
    "def calculate_similarity(data_items):\n",
    "    data_sparse = sparse.csr_matrix(data_items)\n",
    "    similarities = cosine_similarity(data_sparse.transpose())\n",
    "    sim = pd.DataFrame(data=similarities, index= data_items.columns, \n",
    "                       columns = data_items.columns)\n",
    "    return sim\n",
    "\n",
    "# Build the similarity matrix\n",
    "data_matrix = calculate_similarity(data_items)"
   ]
  },
  {
   "cell_type": "code",
   "execution_count": 6,
   "metadata": {
    "ExecuteTime": {
     "end_time": "2020-05-28T09:36:08.929694Z",
     "start_time": "2020-05-28T09:36:08.921209Z"
    }
   },
   "outputs": [],
   "source": [
    "def get_similar_tags_top10(tags):\n",
    "    return data_matrix.index[np.argsort(data_matrix.loc[tags[0]].values)[::-1][:10]].tolist()\n",
    "# list(itertools.chain([i[: 10 // len(tags)+1] for i in ls]))"
   ]
  },
  {
   "cell_type": "code",
   "execution_count": 9,
   "metadata": {
    "ExecuteTime": {
     "end_time": "2020-05-28T10:36:00.769312Z",
     "start_time": "2020-05-28T10:36:00.763083Z"
    }
   },
   "outputs": [],
   "source": [
    "def get_similar_tags(tags):\n",
    "    from collections import OrderedDict\n",
    "    from itertools import repeat\n",
    "    ls = []\n",
    "    for tag in tags:        \n",
    "        ls += list(OrderedDict(zip(data_matrix.index[np.argsort(data_matrix.loc[tag].values)[::-1]].tolist(), repeat(None))))[:int(10/len(tags))]\n",
    "    return ls[:10]\n",
    "# list(itertools.chain([i[: 10 // len(tags)+1] for i in ls]))"
   ]
  },
  {
   "cell_type": "code",
   "execution_count": 7,
   "metadata": {
    "ExecuteTime": {
     "end_time": "2020-05-28T09:36:09.034577Z",
     "start_time": "2020-05-28T09:36:08.938629Z"
    }
   },
   "outputs": [],
   "source": [
    "from tqdm import tqdm\n",
    "tqdm.pandas()"
   ]
  },
  {
   "cell_type": "code",
   "execution_count": 10,
   "metadata": {
    "ExecuteTime": {
     "end_time": "2020-05-28T10:49:02.066726Z",
     "start_time": "2020-05-28T10:36:01.898728Z"
    }
   },
   "outputs": [],
   "source": [
    "test = raw_te.tags.apply(lambda x : get_similar_tags(x)).tolist()"
   ]
  },
  {
   "cell_type": "code",
   "execution_count": 11,
   "metadata": {
    "ExecuteTime": {
     "end_time": "2020-05-28T10:49:02.091325Z",
     "start_time": "2020-05-28T10:49:02.068688Z"
    }
   },
   "outputs": [],
   "source": [
    "check_list2 = []\n",
    "for i in test:\n",
    "    if len(set(i)) != 10:\n",
    "        check_list2.append(i)"
   ]
  },
  {
   "cell_type": "code",
   "execution_count": 12,
   "metadata": {
    "ExecuteTime": {
     "end_time": "2020-05-28T10:49:02.100111Z",
     "start_time": "2020-05-28T10:49:02.093712Z"
    }
   },
   "outputs": [
    {
     "data": {
      "text/plain": [
       "4910"
      ]
     },
     "execution_count": 12,
     "metadata": {},
     "output_type": "execute_result"
    }
   ],
   "source": [
    "len(check_list2)"
   ]
  },
  {
   "cell_type": "code",
   "execution_count": null,
   "metadata": {},
   "outputs": [],
   "source": []
  },
  {
   "cell_type": "code",
   "execution_count": null,
   "metadata": {},
   "outputs": [],
   "source": []
  },
  {
   "cell_type": "code",
   "execution_count": null,
   "metadata": {},
   "outputs": [],
   "source": []
  },
  {
   "cell_type": "code",
   "execution_count": 24,
   "metadata": {
    "ExecuteTime": {
     "end_time": "2020-05-28T07:07:31.375694Z",
     "start_time": "2020-05-28T07:07:31.371959Z"
    }
   },
   "outputs": [
    {
     "data": {
      "text/plain": [
       "2566"
      ]
     },
     "execution_count": 24,
     "metadata": {},
     "output_type": "execute_result"
    }
   ],
   "source": [
    "len(check_list)"
   ]
  },
  {
   "cell_type": "markdown",
   "metadata": {},
   "source": [
    "## playlist X songs list in list 만들기"
   ]
  },
  {
   "cell_type": "code",
   "execution_count": null,
   "metadata": {
    "ExecuteTime": {
     "end_time": "2020-05-28T09:36:10.053031Z",
     "start_time": "2020-05-28T09:34:16.452Z"
    }
   },
   "outputs": [],
   "source": [
    "from implicit.evaluation import  *\n",
    "from implicit.als import AlternatingLeastSquares as ALS\n",
    "from implicit.bpr import BayesianPersonalizedRanking as BPR\n",
    "import numpy as np\n",
    "import os\n",
    "os.environ['KMP_DUPLICATE_LIB_OK']='True'\n",
    "from sklearn.utils import shuffle\n",
    "from scipy.sparse import *\n",
    "# import rec_util\n",
    "import pandas as pd\n",
    "pd.options.display.float_format = '{:.2f}'.format\n"
   ]
  },
  {
   "cell_type": "code",
   "execution_count": null,
   "metadata": {
    "ExecuteTime": {
     "end_time": "2020-05-28T09:36:10.057792Z",
     "start_time": "2020-05-28T09:34:16.652Z"
    }
   },
   "outputs": [],
   "source": [
    "train_songs = raw_tr['songs'].tolist()\n",
    "test_songs = raw_te['songs'].apply(lambda x : [float(i)for i in x]).tolist()\n",
    "train_tags = raw_tr['tags'].tolist()\n",
    "test_tags = raw_te['tags'].tolist()\n",
    "test_ids = raw_te['id'].tolist()\n",
    "\n",
    "### train 데이터 list to list 로 만들기\n",
    "\n",
    "from itertools import groupby\n",
    "tr = []\n",
    "iid_to_idx = {}\n",
    "idx = 0\n",
    "\n",
    "for i, l in enumerate(train_songs):\n",
    "    view = l\n",
    "    for item_id in view:\n",
    "        if item_id not in iid_to_idx:\n",
    "            iid_to_idx[item_id] = idx\n",
    "            idx += 1\n",
    "    view = [iid_to_idx[x] for x in view]\n",
    "    tr.append(view)\n",
    "\n",
    "idx = 0\n",
    "n_items = 615142\n",
    "tag_to_idx = {} \n",
    "for i, tags in enumerate(train_tags):\n",
    "    for tag in tags:\n",
    "        if tag not in tag_to_idx:\n",
    "            tag_to_idx[tag] = n_items + idx\n",
    "            idx += 1\n",
    "    tr[i].extend([tag_to_idx[x] for x in tags])\n",
    "n_items = len(iid_to_idx)\n",
    "n_tags = len(tag_to_idx)\n",
    "\n",
    "### test 데이터 list to list 로 만들기\n",
    "\n",
    "te = []\n",
    "\n",
    "idx = 0\n",
    "for i, l in enumerate(test_songs):\n",
    "    view = l\n",
    "    ret = [] \n",
    "    for item_id in view:\n",
    "        if item_id not in iid_to_idx:\n",
    "            continue\n",
    "        ret.append(iid_to_idx[item_id])\n",
    "    te.append(ret)\n",
    "idx = 0\n",
    "for i, tags in enumerate(test_tags):\n",
    "    ret = []\n",
    "    for tag in tags:\n",
    "        if tag not in tag_to_idx:\n",
    "            continue\n",
    "        ret.append(tag)\n",
    "    te[i].extend([tag_to_idx[x] for x in ret])\n",
    "\n",
    "# 데이터 쓰까\n",
    "\n",
    "tr = shuffle(tr, random_state=10)\n"
   ]
  },
  {
   "cell_type": "markdown",
   "metadata": {},
   "source": [
    "\n",
    "## 노래 및 태그 인덱싱 하기\n"
   ]
  },
  {
   "cell_type": "code",
   "execution_count": null,
   "metadata": {
    "ExecuteTime": {
     "end_time": "2020-05-28T09:36:10.059324Z",
     "start_time": "2020-05-28T09:34:17.525Z"
    }
   },
   "outputs": [],
   "source": [
    "idx_to_iid = {x:y for(y,x) in iid_to_idx.items()}\n",
    "idx_to_tag = {(x - n_items):y for(y,x) in tag_to_idx.items()}"
   ]
  },
  {
   "cell_type": "code",
   "execution_count": null,
   "metadata": {
    "ExecuteTime": {
     "end_time": "2020-05-28T09:36:10.062073Z",
     "start_time": "2020-05-28T09:34:17.740Z"
    }
   },
   "outputs": [],
   "source": [
    "from sklearn.feature_extraction.text import CountVectorizer\n",
    "cv = CountVectorizer(tokenizer=lambda x: x, lowercase=False)\n",
    "tr_array = cv.fit_transform(tr)"
   ]
  },
  {
   "cell_type": "code",
   "execution_count": null,
   "metadata": {
    "ExecuteTime": {
     "end_time": "2020-05-28T09:36:10.066121Z",
     "start_time": "2020-05-28T09:34:17.956Z"
    }
   },
   "outputs": [],
   "source": [
    "from sklearn.feature_extraction.text import CountVectorizer\n",
    "cv = CountVectorizer(tokenizer=lambda x: x, lowercase=False)\n",
    "te_array = cv.fit_transform(te)"
   ]
  },
  {
   "cell_type": "code",
   "execution_count": null,
   "metadata": {
    "ExecuteTime": {
     "end_time": "2020-05-28T09:36:10.067550Z",
     "start_time": "2020-05-28T09:34:18.579Z"
    }
   },
   "outputs": [],
   "source": [
    "tr_csr = csr_matrix(tr_array, (len(tr), n_items))\n",
    "te_csr = csr_matrix(te_array, (len(te), n_items))"
   ]
  },
  {
   "cell_type": "code",
   "execution_count": null,
   "metadata": {
    "ExecuteTime": {
     "end_time": "2020-05-28T09:36:10.068779Z",
     "start_time": "2020-05-28T09:34:18.972Z"
    }
   },
   "outputs": [],
   "source": [
    "import scipy.sparse\n",
    "r = scipy.sparse.vstack([tr_csr,te_csr])\n",
    "r = csr_matrix(r)\n",
    "r"
   ]
  },
  {
   "cell_type": "markdown",
   "metadata": {},
   "source": [
    "## 더 간단한 방식으로 sparse matrix 만들기"
   ]
  },
  {
   "cell_type": "code",
   "execution_count": null,
   "metadata": {
    "ExecuteTime": {
     "end_time": "2020-05-28T09:36:10.071701Z",
     "start_time": "2020-05-28T09:34:19.892Z"
    }
   },
   "outputs": [],
   "source": [
    "from sklearn.preprocessing import MultiLabelBinarizer\n",
    "test_df = pd.concat([raw_tr, raw_te])\n",
    "raw_songs_MLB = MultiLabelBinarizer(sparse_output=True)\n",
    "raw_songs = list(test_df.songs)\n",
    "te_songs_df = raw_songs_MLB.fit_transform(raw_songs)\n",
    "te_songs_classes = raw_songs_MLB.classes_"
   ]
  },
  {
   "cell_type": "code",
   "execution_count": 356,
   "metadata": {
    "ExecuteTime": {
     "end_time": "2020-05-28T02:10:35.717281Z",
     "start_time": "2020-05-28T02:10:35.650763Z"
    }
   },
   "outputs": [],
   "source": [
    "tr_csr = te_songs_df[:len(raw_tr)]"
   ]
  },
  {
   "cell_type": "code",
   "execution_count": 357,
   "metadata": {
    "ExecuteTime": {
     "end_time": "2020-05-28T02:10:40.608679Z",
     "start_time": "2020-05-28T02:10:40.601684Z"
    }
   },
   "outputs": [],
   "source": [
    "te_csr = te_songs_df[len(raw_tr):]"
   ]
  },
  {
   "cell_type": "code",
   "execution_count": 359,
   "metadata": {
    "ExecuteTime": {
     "end_time": "2020-05-28T02:10:57.906528Z",
     "start_time": "2020-05-28T02:10:57.886874Z"
    }
   },
   "outputs": [
    {
     "data": {
      "text/plain": [
       "<138086x638336 sparse matrix of type '<class 'numpy.int64'>'\n",
       "\twith 5803595 stored elements in Compressed Sparse Row format>"
      ]
     },
     "execution_count": 359,
     "metadata": {},
     "output_type": "execute_result"
    }
   ],
   "source": [
    "r = scipy.sparse.vstack([tr_csr,te_csr])\n",
    "r = csr_matrix(r)\n",
    "r"
   ]
  },
  {
   "cell_type": "code",
   "execution_count": 31,
   "metadata": {
    "ExecuteTime": {
     "end_time": "2020-05-28T12:24:16.322623Z",
     "start_time": "2020-05-28T12:24:16.318664Z"
    }
   },
   "outputs": [
    {
     "data": {
      "text/plain": [
       "(115071, 29160)"
      ]
     },
     "execution_count": 31,
     "metadata": {},
     "output_type": "execute_result"
    }
   ],
   "source": [
    "data_items2.shape"
   ]
  },
  {
   "cell_type": "code",
   "execution_count": null,
   "metadata": {},
   "outputs": [],
   "source": [
    "als_model = ALS(factors=256, regularization=0.01, iterations=5, calculate_training_loss=True)\n",
    "als_model.fit(r.T * 15.0)"
   ]
  },
  {
   "cell_type": "code",
   "execution_count": null,
   "metadata": {
    "ExecuteTime": {
     "end_time": "2020-05-28T09:36:10.073092Z",
     "start_time": "2020-05-28T09:34:30.693Z"
    }
   },
   "outputs": [],
   "source": [
    "als_model = ALS(factors=256, regularization=0.01, iterations=5, calculate_training_loss=True)\n",
    "als_model.fit(r.T * 15.0)"
   ]
  },
  {
   "cell_type": "code",
   "execution_count": null,
   "metadata": {
    "ExecuteTime": {
     "end_time": "2020-05-28T09:36:10.077255Z",
     "start_time": "2020-05-28T09:34:31.428Z"
    }
   },
   "outputs": [],
   "source": [
    "item_model = ALS(use_gpu=False)\n",
    "# tag_model = ALS(use_gpu=False)\n",
    "item_model.user_factors = als_model.user_factors\n",
    "# tag_model.user_factors = als_model.user_factors\n",
    "\n",
    "item_model.item_factors = als_model.item_factors\n",
    "# tag_model.item_factors = als_model.item_factors"
   ]
  },
  {
   "cell_type": "code",
   "execution_count": null,
   "metadata": {
    "ExecuteTime": {
     "end_time": "2020-05-28T09:36:10.079347Z",
     "start_time": "2020-05-28T09:34:34.195Z"
    }
   },
   "outputs": [],
   "source": [
    "item_rec_csr = tr_csr[:, :n_items]"
   ]
  },
  {
   "cell_type": "code",
   "execution_count": 365,
   "metadata": {
    "ExecuteTime": {
     "end_time": "2020-05-28T02:19:17.518922Z",
     "start_time": "2020-05-28T02:19:17.516408Z"
    }
   },
   "outputs": [],
   "source": [
    "item_rec_csr = te_tag_df"
   ]
  },
  {
   "cell_type": "code",
   "execution_count": null,
   "metadata": {
    "ExecuteTime": {
     "end_time": "2020-05-28T09:36:10.081763Z",
     "start_time": "2020-05-28T09:34:35.356Z"
    }
   },
   "outputs": [],
   "source": [
    "item_ret = []\n",
    "# tag_ret = []\n",
    "from tqdm.auto import tqdm\n",
    "for u in tqdm(range(te_csr.shape[0])):\n",
    "    item_rec = item_model.recommend(u, item_rec_csr, N=100)\n",
    "    item_rec = [idx_to_iid[x[0]] for x in item_rec]\n",
    "    # tag_rec = tag_model.recommend(u, tag_rec_csr, N=100)\n",
    "    # tag_rec = [idx_to_tag[x[0]] for x in tag_rec if x[0] in idx_to_tag]\n",
    "    item_ret.append(item_rec)\n",
    "    # tag_ret.append(tag_rec)"
   ]
  },
  {
   "cell_type": "code",
   "execution_count": null,
   "metadata": {
    "ExecuteTime": {
     "end_time": "2020-05-28T09:36:10.085670Z",
     "start_time": "2020-05-28T09:34:36.300Z"
    }
   },
   "outputs": [],
   "source": [
    "for i in range(len(item_ret)):\n",
    "    if len(item_ret[i]) != 100:\n",
    "        print(i)"
   ]
  },
  {
   "cell_type": "code",
   "execution_count": null,
   "metadata": {
    "ExecuteTime": {
     "end_time": "2020-05-28T09:36:10.087089Z",
     "start_time": "2020-05-28T09:34:36.508Z"
    }
   },
   "outputs": [],
   "source": [
    "# 태그 중복 확인\n",
    "check_list = []\n",
    "for tags in tag_ret:\n",
    "    if len(set(tags)) != 10:\n",
    "        print(len(set(tags)))\n",
    "        check_list.append(tags)"
   ]
  },
  {
   "cell_type": "code",
   "execution_count": null,
   "metadata": {
    "ExecuteTime": {
     "end_time": "2020-05-28T09:36:10.088435Z",
     "start_time": "2020-05-28T09:34:37.631Z"
    }
   },
   "outputs": [],
   "source": [
    "returnval = []\n",
    "for _id, rec, tag_rec in zip(test_ids, item_ret, tag_ret):\n",
    "    returnval.append({\n",
    "        \"id\": _id,\n",
    "        \"songs\": rec[:100],\n",
    "        \"tags\": tag_rec[:10]\n",
    "    })"
   ]
  },
  {
   "cell_type": "code",
   "execution_count": null,
   "metadata": {
    "ExecuteTime": {
     "end_time": "2020-05-28T09:36:10.089824Z",
     "start_time": "2020-05-28T09:34:38.806Z"
    }
   },
   "outputs": [],
   "source": [
    "import json\n",
    "with open('results.json', 'w', encoding='utf-8') as f:\n",
    "    f.write(json.dumps(returnval, ensure_ascii=False))"
   ]
  },
  {
   "cell_type": "code",
   "execution_count": null,
   "metadata": {},
   "outputs": [],
   "source": []
  }
 ],
 "metadata": {
  "kernelspec": {
   "display_name": "Python 3",
   "language": "python",
   "name": "python3"
  },
  "language_info": {
   "codemirror_mode": {
    "name": "ipython",
    "version": 3
   },
   "file_extension": ".py",
   "mimetype": "text/x-python",
   "name": "python",
   "nbconvert_exporter": "python",
   "pygments_lexer": "ipython3",
   "version": "3.7.4"
  }
 },
 "nbformat": 4,
 "nbformat_minor": 2
}
