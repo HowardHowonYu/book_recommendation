{
 "cells": [
  {
   "cell_type": "code",
   "execution_count": 15,
   "metadata": {
    "ExecuteTime": {
     "end_time": "2020-05-18T11:56:28.535847Z",
     "start_time": "2020-05-18T11:56:28.486680Z"
    }
   },
   "outputs": [],
   "source": [
    "import pandas as pd\n",
    "import numpy as np\n",
    "\n",
    "from sklearn.metrics.pairwise import cosine_similarity\n",
    "from scipy import sparse\n",
    "\n",
    "#------------------\n",
    "# LOAD THE DATASET\n",
    "#------------------\n",
    "\n",
    "data = pd.read_csv('./raw_data/lastfm.csv')\n",
    "\n",
    "# Create a new dataframe without the user ids.\n",
    "data_items = data.drop('user', 1)"
   ]
  },
  {
   "cell_type": "code",
   "execution_count": 1,
   "metadata": {
    "ExecuteTime": {
     "end_time": "2020-05-18T11:52:56.639208Z",
     "start_time": "2020-05-18T11:52:46.588452Z"
    }
   },
   "outputs": [],
   "source": [
    "song_meta = pd.read_json('./raw_data/song_meta.json')"
   ]
  },
  {
   "cell_type": "code",
   "execution_count": 3,
   "metadata": {
    "ExecuteTime": {
     "end_time": "2020-05-18T11:53:16.113829Z",
     "start_time": "2020-05-18T11:53:15.838202Z"
    }
   },
   "outputs": [],
   "source": [
    "song_meta['total_gn'] = song_meta['song_gn_dtl_gnr_basket'] + song_meta['song_gn_gnr_basket']"
   ]
  },
  {
   "cell_type": "code",
   "execution_count": 4,
   "metadata": {
    "ExecuteTime": {
     "end_time": "2020-05-18T11:53:18.683099Z",
     "start_time": "2020-05-18T11:53:16.293075Z"
    },
    "scrolled": true
   },
   "outputs": [
    {
     "data": {
      "text/html": [
       "<div>\n",
       "<style scoped>\n",
       "    .dataframe tbody tr th:only-of-type {\n",
       "        vertical-align: middle;\n",
       "    }\n",
       "\n",
       "    .dataframe tbody tr th {\n",
       "        vertical-align: top;\n",
       "    }\n",
       "\n",
       "    .dataframe thead th {\n",
       "        text-align: right;\n",
       "    }\n",
       "</style>\n",
       "<table border=\"1\" class=\"dataframe\">\n",
       "  <thead>\n",
       "    <tr style=\"text-align: right;\">\n",
       "      <th></th>\n",
       "      <th>id</th>\n",
       "      <th>total_gn</th>\n",
       "    </tr>\n",
       "  </thead>\n",
       "  <tbody>\n",
       "    <tr>\n",
       "      <td>0</td>\n",
       "      <td>0</td>\n",
       "      <td>GN0901</td>\n",
       "    </tr>\n",
       "    <tr>\n",
       "      <td>0</td>\n",
       "      <td>0</td>\n",
       "      <td>GN0900</td>\n",
       "    </tr>\n",
       "    <tr>\n",
       "      <td>1</td>\n",
       "      <td>1</td>\n",
       "      <td>GN1601</td>\n",
       "    </tr>\n",
       "    <tr>\n",
       "      <td>1</td>\n",
       "      <td>1</td>\n",
       "      <td>GN1606</td>\n",
       "    </tr>\n",
       "    <tr>\n",
       "      <td>1</td>\n",
       "      <td>1</td>\n",
       "      <td>GN1600</td>\n",
       "    </tr>\n",
       "    <tr>\n",
       "      <td>...</td>\n",
       "      <td>...</td>\n",
       "      <td>...</td>\n",
       "    </tr>\n",
       "    <tr>\n",
       "      <td>707987</td>\n",
       "      <td>707987</td>\n",
       "      <td>GN1801</td>\n",
       "    </tr>\n",
       "    <tr>\n",
       "      <td>707987</td>\n",
       "      <td>707987</td>\n",
       "      <td>GN1800</td>\n",
       "    </tr>\n",
       "    <tr>\n",
       "      <td>707988</td>\n",
       "      <td>707988</td>\n",
       "      <td>GN0601</td>\n",
       "    </tr>\n",
       "    <tr>\n",
       "      <td>707988</td>\n",
       "      <td>707988</td>\n",
       "      <td>GN0604</td>\n",
       "    </tr>\n",
       "    <tr>\n",
       "      <td>707988</td>\n",
       "      <td>707988</td>\n",
       "      <td>GN0600</td>\n",
       "    </tr>\n",
       "  </tbody>\n",
       "</table>\n",
       "<p>2316313 rows × 2 columns</p>\n",
       "</div>"
      ],
      "text/plain": [
       "            id total_gn\n",
       "0            0   GN0901\n",
       "0            0   GN0900\n",
       "1            1   GN1601\n",
       "1            1   GN1606\n",
       "1            1   GN1600\n",
       "...        ...      ...\n",
       "707987  707987   GN1801\n",
       "707987  707987   GN1800\n",
       "707988  707988   GN0601\n",
       "707988  707988   GN0604\n",
       "707988  707988   GN0600\n",
       "\n",
       "[2316313 rows x 2 columns]"
      ]
     },
     "execution_count": 4,
     "metadata": {},
     "output_type": "execute_result"
    }
   ],
   "source": [
    "df = song_meta[['id','total_gn']].explode('total_gn')\n",
    "df"
   ]
  },
  {
   "cell_type": "code",
   "execution_count": 13,
   "metadata": {
    "ExecuteTime": {
     "end_time": "2020-05-18T11:56:05.466995Z",
     "start_time": "2020-05-18T11:55:48.824527Z"
    }
   },
   "outputs": [],
   "source": [
    "data_items = pd.get_dummies(df['total_gn']).max(level=0)"
   ]
  },
  {
   "cell_type": "code",
   "execution_count": 16,
   "metadata": {
    "ExecuteTime": {
     "end_time": "2020-05-18T11:56:30.587257Z",
     "start_time": "2020-05-18T11:56:30.551653Z"
    }
   },
   "outputs": [
    {
     "name": "stdout",
     "output_type": "stream",
     "text": [
      "beyonce               1.000000\n",
      "the pussycat dolls    0.351871\n",
      "rihanna               0.334919\n",
      "christina aguilera    0.308388\n",
      "alicia keys           0.297264\n",
      "justin timberlake     0.279726\n",
      "britney spears        0.269557\n",
      "leona lewis           0.259237\n",
      "maria mena            0.248751\n",
      "kelly clarkson        0.245713\n",
      "nelly furtado         0.230789\n",
      "Name: beyonce, dtype: float64\n"
     ]
    }
   ],
   "source": [
    "\n",
    "#------------------------\n",
    "# ITEM-ITEM CALCULATIONS\n",
    "#------------------------\n",
    "\n",
    "# As a first step we normalize the user vectors to unit vectors.\n",
    "\n",
    "# magnitude = sqrt(x2 + y2 + z2 + ...)\n",
    "magnitude = np.sqrt(np.square(data_items).sum(axis=1))\n",
    "\n",
    "# unitvector = (x / magnitude, y / magnitude, z / magnitude, ...)\n",
    "data_items = data_items.divide(magnitude, axis='index')\n",
    "\n",
    "def calculate_similarity(data_items):\n",
    "    \"\"\"Calculate the column-wise cosine similarity for a sparse\n",
    "    matrix. Return a new dataframe matrix with similarities.\n",
    "    \"\"\"\n",
    "    data_sparse = sparse.csr_matrix(data_items)\n",
    "    similarities = cosine_similarity(data_sparse.transpose())\n",
    "    sim = pd.DataFrame(data=similarities, index= data_items.columns, columns= data_items.columns)\n",
    "    return sim\n",
    "\n",
    "# Build the similarity matrix\n",
    "data_matrix = calculate_similarity(data_items)\n",
    "\n",
    "# Lets get the top 11 similar artists for Beyonce\n",
    "print(data_matrix.loc['beyonce'].nlargest(11))"
   ]
  },
  {
   "cell_type": "code",
   "execution_count": 19,
   "metadata": {
    "ExecuteTime": {
     "end_time": "2020-05-18T11:57:28.328351Z",
     "start_time": "2020-05-18T11:57:28.053773Z"
    }
   },
   "outputs": [
    {
     "name": "stdout",
     "output_type": "stream",
     "text": [
      "['bob dylan' 'the cure']\n",
      "joy division           0.087840\n",
      "the smiths             0.087004\n",
      "the rolling stones     0.084162\n",
      "david bowie            0.081768\n",
      "tom waits              0.075365\n",
      "belle and sebastian    0.070918\n",
      "eric clapton           0.069710\n",
      "misfits                0.069017\n",
      "the beatles            0.067101\n",
      "elliott smith          0.067058\n",
      "ramones                0.064136\n",
      "jimi hendrix           0.060558\n",
      "depeche mode           0.057806\n",
      "johnny cash            0.055420\n",
      "the doors              0.047377\n",
      "dtype: float64\n"
     ]
    }
   ],
   "source": [
    "\n",
    "#------------------------\n",
    "# USER-ITEM CALCULATIONS\n",
    "#------------------------\n",
    "\n",
    "# Construct a new dataframe with the 10 closest neighbours (most similar)\n",
    "# for each artist.\n",
    "data_neighbours = pd.DataFrame(index=data_matrix.columns, columns=range(1,11))\n",
    "for i in range(0, len(data_matrix.columns)):\n",
    "    data_neighbours.ix[i,:10] = data_matrix.ix[0:,i].sort_values(ascending=False)[:10].index\n",
    "\n",
    "user = 5985\n",
    "user_index = data[data.user == user].index.tolist()[0]\n",
    "\n",
    "# Get the artists the user has played.\n",
    "known_user_likes = data_items.ix[user_index]\n",
    "known_user_likes = known_user_likes[known_user_likes >0].index.values\n",
    "\n",
    "# Construct the neighbourhood from the most similar items to the\n",
    "# ones our user has already liked.\n",
    "most_similar_to_likes = data_neighbours.ix[known_user_likes]\n",
    "similar_list = most_similar_to_likes.values.tolist()\n",
    "similar_list = list(set([item for sublist in similar_list for item in sublist]))\n",
    "neighbourhood = data_matrix[similar_list].ix[similar_list]\n",
    "\n",
    "# A user vector containing only the neighbourhood items and\n",
    "# the known user likes.\n",
    "user_vector = data_items.ix[user_index].ix[similar_list]\n",
    "\n",
    "# Calculate the score.\n",
    "score = neighbourhood.dot(user_vector).div(neighbourhood.sum(axis=1))\n",
    "\n",
    "# Drop the known likes.\n",
    "score = score.drop(known_user_likes)\n",
    "\n",
    "print(known_user_likes)\n",
    "print(score.nlargest(20))"
   ]
  },
  {
   "cell_type": "code",
   "execution_count": null,
   "metadata": {},
   "outputs": [],
   "source": []
  }
 ],
 "metadata": {
  "kernelspec": {
   "display_name": "Python 3",
   "language": "python",
   "name": "python3"
  },
  "language_info": {
   "codemirror_mode": {
    "name": "ipython",
    "version": 3
   },
   "file_extension": ".py",
   "mimetype": "text/x-python",
   "name": "python",
   "nbconvert_exporter": "python",
   "pygments_lexer": "ipython3",
   "version": "3.7.4"
  }
 },
 "nbformat": 4,
 "nbformat_minor": 2
}
