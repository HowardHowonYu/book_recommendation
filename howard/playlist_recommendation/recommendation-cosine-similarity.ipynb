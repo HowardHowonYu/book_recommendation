{
 "cells": [
  {
   "cell_type": "code",
   "execution_count": 1,
   "metadata": {
    "ExecuteTime": {
     "end_time": "2020-05-27T13:10:44.467317Z",
     "start_time": "2020-05-27T13:10:43.699863Z"
    }
   },
   "outputs": [],
   "source": [
    "import pandas as pd\n",
    "import numpy as np\n",
    "\n",
    "from sklearn.metrics.pairwise import cosine_similarity\n",
    "from scipy import sparse\n",
    "\n",
    "#------------------\n",
    "# LOAD THE DATASET\n",
    "#------------------\n",
    "\n",
    "data = pd.read_csv('./raw_data/lastfm.csv')\n",
    "\n",
    "# Create a new dataframe without the user ids.\n",
    "data_items = data.drop('user', 1)"
   ]
  },
  {
   "cell_type": "code",
   "execution_count": 2,
   "metadata": {
    "ExecuteTime": {
     "end_time": "2020-05-27T13:10:46.098691Z",
     "start_time": "2020-05-27T13:10:44.469392Z"
    }
   },
   "outputs": [],
   "source": [
    "raw_tr = pd.read_json(\"./raw_data/train.json\")\n",
    "# raw_val = pd.read_json(\"./태그, 노래 채우기/validation.json\")\n",
    "# raw_te = pd.read_json(\"./raw_data/val.json\")"
   ]
  },
  {
   "cell_type": "code",
   "execution_count": 3,
   "metadata": {
    "ExecuteTime": {
     "end_time": "2020-05-27T13:10:46.433302Z",
     "start_time": "2020-05-27T13:10:46.101385Z"
    }
   },
   "outputs": [],
   "source": [
    "from sklearn.preprocessing import MultiLabelBinarizer\n",
    "test_df = raw_tr\n",
    "raw_te_tags_mlb = MultiLabelBinarizer(sparse_output=True)\n",
    "raw_te_tags = list(test_df.tags)\n",
    "te_tag_df = raw_te_tags_mlb.fit_transform(raw_te_tags)\n",
    "te_tag_classes = raw_te_tags_mlb.classes_"
   ]
  },
  {
   "cell_type": "code",
   "execution_count": 4,
   "metadata": {
    "ExecuteTime": {
     "end_time": "2020-05-27T13:10:49.181268Z",
     "start_time": "2020-05-27T13:10:46.435834Z"
    }
   },
   "outputs": [],
   "source": [
    "raw_te_songs_mlb = MultiLabelBinarizer(sparse_output=True)\n",
    "raw_te_songs = list(test_df.songs)\n",
    "te_songs_df = raw_te_songs_mlb.fit_transform(raw_te_songs)\n",
    "te_songs_classes = raw_te_songs_mlb.classes_"
   ]
  },
  {
   "cell_type": "code",
   "execution_count": 5,
   "metadata": {
    "ExecuteTime": {
     "end_time": "2020-05-27T13:10:49.868380Z",
     "start_time": "2020-05-27T13:10:49.183131Z"
    }
   },
   "outputs": [],
   "source": [
    "data_items = pd.DataFrame(te_tag_df.todense(), columns=te_tag_classes)"
   ]
  },
  {
   "cell_type": "code",
   "execution_count": 6,
   "metadata": {
    "ExecuteTime": {
     "end_time": "2020-05-27T13:12:53.180524Z",
     "start_time": "2020-05-27T13:10:49.870142Z"
    }
   },
   "outputs": [],
   "source": [
    "#------------------------\n",
    "# ITEM-ITEM CALCULATIONS\n",
    "#------------------------\n",
    "\n",
    "# As a first step we normalize the user vectors to unit vectors.\n",
    "\n",
    "# magnitude = sqrt(x2 + y2 + z2 + ...)\n",
    "magnitude = np.sqrt(np.square(data_items).sum(axis=1))\n",
    "# unitvector = (x / magnitude, y / magnitude, z / magnitude, ...)\n",
    "data_items = data_items.divide(magnitude, axis='index')\n",
    "\n",
    "def calculate_similarity(data_items):\n",
    "    \"\"\"Calculate the column-wise cosine similarity for a sparse\n",
    "    matrix. Return a new dataframe matrix with similarities.\n",
    "    \"\"\"\n",
    "    data_sparse = sparse.csr_matrix(data_items)\n",
    "    similarities = cosine_similarity(data_sparse.transpose())\n",
    "    sim = pd.DataFrame(data=similarities, index= data_items.columns, columns= data_items.columns)\n",
    "    return sim\n",
    "\n",
    "# Build the similarity matrix\n",
    "data_matrix = calculate_similarity(data_items)\n",
    "\n",
    "# # Lets get the top 11 similar artists for Beyonce\n",
    "# print(data_matrix.loc['beyonce'].nlargest(11))"
   ]
  },
  {
   "cell_type": "code",
   "execution_count": 9,
   "metadata": {
    "ExecuteTime": {
     "end_time": "2020-05-27T13:13:37.386434Z",
     "start_time": "2020-05-27T13:13:37.382454Z"
    }
   },
   "outputs": [
    {
     "data": {
      "text/plain": [
       "'pop추천'"
      ]
     },
     "execution_count": 9,
     "metadata": {},
     "output_type": "execute_result"
    }
   ],
   "source": [
    "data_matrix.index[4356]"
   ]
  },
  {
   "cell_type": "code",
   "execution_count": 31,
   "metadata": {
    "ExecuteTime": {
     "end_time": "2020-05-27T12:35:39.705434Z",
     "start_time": "2020-05-27T12:35:39.701722Z"
    }
   },
   "outputs": [
    {
     "data": {
      "text/plain": [
       "'아침식사'"
      ]
     },
     "execution_count": 31,
     "metadata": {},
     "output_type": "execute_result"
    }
   ],
   "source": [
    "data_matrix.index[17815]"
   ]
  },
  {
   "cell_type": "code",
   "execution_count": 10,
   "metadata": {
    "ExecuteTime": {
     "end_time": "2020-05-27T13:13:38.359923Z",
     "start_time": "2020-05-27T13:13:38.352010Z"
    }
   },
   "outputs": [
    {
     "data": {
      "text/plain": [
       "Index(['pop추천', '취향저격노래', '트렌디음악', '알앤비음악', '데일리뮤직', 'popsong', '기분좋아지는노래',\n",
       "       '도입부부터좋은', '데일리', '앤마리'],\n",
       "      dtype='object')"
      ]
     },
     "execution_count": 10,
     "metadata": {},
     "output_type": "execute_result"
    }
   ],
   "source": [
    "data_matrix.index[np.argsort(data_matrix.iloc[4356].values)[::-1][:10]]"
   ]
  },
  {
   "cell_type": "code",
   "execution_count": 52,
   "metadata": {
    "ExecuteTime": {
     "end_time": "2020-05-27T12:42:15.485570Z",
     "start_time": "2020-05-27T12:42:15.482207Z"
    }
   },
   "outputs": [
    {
     "data": {
      "text/plain": [
       "'느린곡'"
      ]
     },
     "execution_count": 52,
     "metadata": {},
     "output_type": "execute_result"
    }
   ],
   "source": [
    "data_matrix.index[8749]"
   ]
  },
  {
   "cell_type": "code",
   "execution_count": 43,
   "metadata": {
    "ExecuteTime": {
     "end_time": "2020-05-27T12:38:19.979812Z",
     "start_time": "2020-05-27T12:38:19.974705Z"
    }
   },
   "outputs": [
    {
     "data": {
      "text/plain": [
       "array([ 6600,  1830, 23712,  1829,  1156, 23710, 16686, 14373,  8387,\n",
       "       11886])"
      ]
     },
     "execution_count": 43,
     "metadata": {},
     "output_type": "execute_result"
    }
   ],
   "source": [
    "np.argsort(data_matrix.iloc[1830].values)[::-1][:10]"
   ]
  },
  {
   "cell_type": "code",
   "execution_count": null,
   "metadata": {},
   "outputs": [],
   "source": []
  },
  {
   "cell_type": "code",
   "execution_count": null,
   "metadata": {},
   "outputs": [],
   "source": []
  },
  {
   "cell_type": "code",
   "execution_count": null,
   "metadata": {},
   "outputs": [],
   "source": []
  },
  {
   "cell_type": "code",
   "execution_count": null,
   "metadata": {},
   "outputs": [],
   "source": []
  },
  {
   "cell_type": "code",
   "execution_count": null,
   "metadata": {},
   "outputs": [],
   "source": []
  },
  {
   "cell_type": "code",
   "execution_count": null,
   "metadata": {},
   "outputs": [],
   "source": []
  },
  {
   "cell_type": "code",
   "execution_count": null,
   "metadata": {},
   "outputs": [],
   "source": []
  },
  {
   "cell_type": "code",
   "execution_count": null,
   "metadata": {},
   "outputs": [],
   "source": []
  },
  {
   "cell_type": "code",
   "execution_count": null,
   "metadata": {},
   "outputs": [],
   "source": []
  },
  {
   "cell_type": "code",
   "execution_count": 10,
   "metadata": {
    "ExecuteTime": {
     "end_time": "2020-05-27T12:32:43.516336Z",
     "start_time": "2020-05-27T12:29:17.750759Z"
    }
   },
   "outputs": [
    {
     "name": "stderr",
     "output_type": "stream",
     "text": [
      "ERROR:root:Internal Python error in the inspect module.\n",
      "Below is the traceback from this internal error.\n",
      "\n"
     ]
    },
    {
     "name": "stdout",
     "output_type": "stream",
     "text": [
      "Traceback (most recent call last):\n",
      "  File \"/Users/yoohowon/opt/anaconda3/envs/fastcampus/lib/python3.7/site-packages/IPython/core/interactiveshell.py\", line 3326, in run_code\n",
      "    exec(code_obj, self.user_global_ns, self.user_ns)\n",
      "  File \"<ipython-input-10-902042cf624f>\", line 10, in <module>\n",
      "    data_neighbours.ix[i,:10] = data_matrix.ix[0:,i].sort_values(ascending=False)[:10].index\n",
      "  File \"/Users/yoohowon/opt/anaconda3/envs/fastcampus/lib/python3.7/site-packages/pandas/core/series.py\", line 3164, in sort_values\n",
      "    argsorted = _try_kind_sort(arr[good])\n",
      "  File \"/Users/yoohowon/opt/anaconda3/envs/fastcampus/lib/python3.7/site-packages/pandas/core/series.py\", line 3150, in _try_kind_sort\n",
      "    return arr.argsort(kind=kind)\n",
      "KeyboardInterrupt\n",
      "\n",
      "During handling of the above exception, another exception occurred:\n",
      "\n",
      "Traceback (most recent call last):\n",
      "  File \"/Users/yoohowon/opt/anaconda3/envs/fastcampus/lib/python3.7/site-packages/IPython/core/interactiveshell.py\", line 2040, in showtraceback\n",
      "    stb = value._render_traceback_()\n",
      "AttributeError: 'KeyboardInterrupt' object has no attribute '_render_traceback_'\n",
      "\n",
      "During handling of the above exception, another exception occurred:\n",
      "\n",
      "Traceback (most recent call last):\n",
      "  File \"/Users/yoohowon/opt/anaconda3/envs/fastcampus/lib/python3.7/site-packages/IPython/core/ultratb.py\", line 1101, in get_records\n",
      "    return _fixed_getinnerframes(etb, number_of_lines_of_context, tb_offset)\n",
      "  File \"/Users/yoohowon/opt/anaconda3/envs/fastcampus/lib/python3.7/site-packages/IPython/core/ultratb.py\", line 319, in wrapped\n",
      "    return f(*args, **kwargs)\n",
      "  File \"/Users/yoohowon/opt/anaconda3/envs/fastcampus/lib/python3.7/site-packages/IPython/core/ultratb.py\", line 353, in _fixed_getinnerframes\n",
      "    records = fix_frame_records_filenames(inspect.getinnerframes(etb, context))\n",
      "  File \"/Users/yoohowon/opt/anaconda3/envs/fastcampus/lib/python3.7/inspect.py\", line 1502, in getinnerframes\n",
      "    frameinfo = (tb.tb_frame,) + getframeinfo(tb, context)\n",
      "  File \"/Users/yoohowon/opt/anaconda3/envs/fastcampus/lib/python3.7/inspect.py\", line 1460, in getframeinfo\n",
      "    filename = getsourcefile(frame) or getfile(frame)\n",
      "  File \"/Users/yoohowon/opt/anaconda3/envs/fastcampus/lib/python3.7/inspect.py\", line 696, in getsourcefile\n",
      "    if getattr(getmodule(object, filename), '__loader__', None) is not None:\n",
      "  File \"/Users/yoohowon/opt/anaconda3/envs/fastcampus/lib/python3.7/inspect.py\", line 742, in getmodule\n",
      "    os.path.realpath(f)] = module.__name__\n",
      "  File \"/Users/yoohowon/opt/anaconda3/envs/fastcampus/lib/python3.7/posixpath.py\", line 395, in realpath\n",
      "    path, ok = _joinrealpath(filename[:0], filename, {})\n",
      "  File \"/Users/yoohowon/opt/anaconda3/envs/fastcampus/lib/python3.7/posixpath.py\", line 429, in _joinrealpath\n",
      "    if not islink(newpath):\n",
      "  File \"/Users/yoohowon/opt/anaconda3/envs/fastcampus/lib/python3.7/posixpath.py\", line 171, in islink\n",
      "    st = os.lstat(path)\n",
      "KeyboardInterrupt\n"
     ]
    },
    {
     "ename": "KeyboardInterrupt",
     "evalue": "",
     "output_type": "error",
     "traceback": [
      "\u001b[0;31m---------------------------------------------------------------------------\u001b[0m"
     ]
    }
   ],
   "source": [
    "#------------------------\n",
    "# USER-ITEM CALCULATIONS\n",
    "#------------------------\n",
    "\n",
    "# Construct a new dataframe with the 10 closest neighbours (most similar)\n",
    "# for each artist.\n",
    "\n",
    "data_neighbours = pd.DataFrame(index=data_matrix.columns, columns=range(1,11))\n",
    "for i in range(0, len(data_matrix.columns)):\n",
    "    data_neighbours.ix[i,:10] = data_matrix.ix[0:,i].sort_values(ascending=False)[:10].index\n",
    "\n",
    "user = 5985\n",
    "user_index = data[data.user == user].index.tolist()[0]\n",
    "\n",
    "# Get the artists the user has played.\n",
    "known_user_likes = data_items.ix[user_index]\n",
    "known_user_likes = known_user_likes[known_user_likes >0].index.values\n",
    "\n",
    "# Construct the neighbourhood from the most similar items to the\n",
    "# ones our user has already liked.\n",
    "most_similar_to_likes = data_neighbours.ix[known_user_likes]\n",
    "similar_list = most_similar_to_likes.values.tolist()\n",
    "similar_list = list(set([item for sublist in similar_list for item in sublist]))\n",
    "neighbourhood = data_matrix[similar_list].ix[similar_list]\n",
    "\n",
    "# A user vector containing only the neighbourhood items and\n",
    "# the known user likes.\n",
    "user_vector = data_items.ix[user_index].ix[similar_list]\n",
    "\n",
    "# Calculate the score.\n",
    "score = neighbourhood.dot(user_vector).div(neighbourhood.sum(axis=1))\n",
    "\n",
    "# Drop the known likes.\n",
    "score = score.drop(known_user_likes)\n",
    "\n",
    "print(known_user_likes)\n",
    "print(score.nlargest(20))"
   ]
  },
  {
   "cell_type": "code",
   "execution_count": null,
   "metadata": {},
   "outputs": [],
   "source": []
  }
 ],
 "metadata": {
  "kernelspec": {
   "display_name": "Python 3",
   "language": "python",
   "name": "python3"
  },
  "language_info": {
   "codemirror_mode": {
    "name": "ipython",
    "version": 3
   },
   "file_extension": ".py",
   "mimetype": "text/x-python",
   "name": "python",
   "nbconvert_exporter": "python",
   "pygments_lexer": "ipython3",
   "version": "3.7.4"
  }
 },
 "nbformat": 4,
 "nbformat_minor": 2
}
