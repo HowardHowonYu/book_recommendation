{
 "cells": [
  {
   "cell_type": "code",
   "execution_count": 1,
   "metadata": {
    "ExecuteTime": {
     "end_time": "2020-07-15T05:53:09.442800Z",
     "start_time": "2020-07-15T05:53:08.777421Z"
    }
   },
   "outputs": [],
   "source": [
    "# basic\n",
    "import time\n",
    "import random\n",
    "import os\n",
    "import re\n",
    "import warnings\n",
    "warnings.filterwarnings('ignore')\n",
    "# data analytics\n",
    "import numpy as np\n",
    "import pandas as pd\n",
    "# web crawling\n",
    "import requests\n",
    "from bs4 import BeautifulSoup\n",
    "from selenium import webdriver\n",
    "# scrapy\n",
    "import scrapy\n",
    "from scrapy.http import TextResponse\n",
    "# visulazation\n",
    "import matplotlib as mpl\n",
    "import matplotlib.pyplot as plt\n",
    "import seaborn as sns\n",
    "sns.set()"
   ]
  },
  {
   "cell_type": "code",
   "execution_count": 2,
   "metadata": {
    "ExecuteTime": {
     "end_time": "2020-07-15T05:53:09.812973Z",
     "start_time": "2020-07-15T05:53:09.444978Z"
    }
   },
   "outputs": [],
   "source": [
    "req = requests.get(\"http://www.yes24.com/24/category/bestseller?CategoryNumber=001001046001&sumgb=06&PageNumber=1\")\n",
    "response = TextResponse(req.url, body=req.text, encoding=\"utf-8\")"
   ]
  },
  {
   "cell_type": "code",
   "execution_count": 3,
   "metadata": {
    "ExecuteTime": {
     "end_time": "2020-07-15T05:53:09.840427Z",
     "start_time": "2020-07-15T05:53:09.815650Z"
    }
   },
   "outputs": [],
   "source": [
    "links = response.xpath('//*[@class=\"goodsTxtInfo\"]/p[1]/a[1]/@href').extract()\n",
    "links = [\"https://www.yes24.com\" + link for link in links]"
   ]
  },
  {
   "cell_type": "code",
   "execution_count": 34,
   "metadata": {
    "ExecuteTime": {
     "end_time": "2020-07-15T06:01:08.632531Z",
     "start_time": "2020-07-15T06:00:41.989003Z"
    }
   },
   "outputs": [
    {
     "name": "stdout",
     "output_type": "stream",
     "text": [
      "20\n",
      "40\n",
      "60\n",
      "80\n"
     ]
    }
   ],
   "source": [
    "result2 = []\n",
    "for i in range(1,5):\n",
    "    result = []\n",
    "    req = requests.get(\"http://www.yes24.com/24/category/bestseller?CategoryNumber=001001046001&sumgb=06&PageNumber={}\".format(i))\n",
    "    response = TextResponse(req.url, body=req.text, encoding=\"utf-8\")\n",
    "    links = response.xpath('//*[@class=\"goodsTxtInfo\"]/p[1]/a[1]/@href').extract()\n",
    "    links = [\"https://www.yes24.com\" + link for link in links]\n",
    "    for link in links:\n",
    "        req = requests.get(link)\n",
    "        response = TextResponse(req.url, body=req.text, encoding=\"utf-8\")\n",
    "        title = response.xpath('//*[@class=\"gd_titArea\"]/h2/text()').extract()[0]\n",
    "        img = response.xpath('//em[@class=\"imgBdr\"]/img/@src').extract()[0]        \n",
    "        try:\n",
    "            text = response.xpath('//*[@id=\"infoset_inBook\"]/div[@class=\"infoSetCont_wrap\"]/div/div[@class=\"infoWrap_txtInner\"]/textarea').extract()\n",
    "            text = \"\".join(text)\n",
    "            text = re.sub('<.+?>', '', text)\n",
    "            text = re.sub('\\r\\n','', text)            \n",
    "        except:\n",
    "            text = ''\n",
    "        try:\n",
    "            tags = response.xpath('//*[@id=\"infoset_goodsCate\"]/div[2]/dl/dd/ul/li[1]/a/text()').extract()[3]\n",
    "        except:\n",
    "            tags = response.xpath('//*[@id=\"infoset_goodsCate\"]/div[2]/dl/dd/ul/li[1]/a/text()').extract()[2]\n",
    "        contents = {\n",
    "            \"title\": title,\n",
    "            \"img\": img,\n",
    "            \"text\": text,\n",
    "            \"tags\":tags\n",
    "        }        \n",
    "        result.append(contents)\n",
    "        contents = {}\n",
    "    result2 += result\n",
    "    print(len(result2))"
   ]
  },
  {
   "cell_type": "code",
   "execution_count": 35,
   "metadata": {
    "ExecuteTime": {
     "end_time": "2020-07-15T06:01:08.637955Z",
     "start_time": "2020-07-15T06:01:08.634690Z"
    }
   },
   "outputs": [],
   "source": [
    "result_df = pd.DataFrame(result2)"
   ]
  },
  {
   "cell_type": "code",
   "execution_count": 39,
   "metadata": {
    "ExecuteTime": {
     "end_time": "2020-07-15T06:01:25.665047Z",
     "start_time": "2020-07-15T06:01:25.657889Z"
    }
   },
   "outputs": [
    {
     "data": {
      "text/html": [
       "<div>\n",
       "<style scoped>\n",
       "    .dataframe tbody tr th:only-of-type {\n",
       "        vertical-align: middle;\n",
       "    }\n",
       "\n",
       "    .dataframe tbody tr th {\n",
       "        vertical-align: top;\n",
       "    }\n",
       "\n",
       "    .dataframe thead th {\n",
       "        text-align: right;\n",
       "    }\n",
       "</style>\n",
       "<table border=\"1\" class=\"dataframe\">\n",
       "  <thead>\n",
       "    <tr style=\"text-align: right;\">\n",
       "      <th></th>\n",
       "      <th>title</th>\n",
       "      <th>img</th>\n",
       "      <th>text</th>\n",
       "      <th>tags</th>\n",
       "    </tr>\n",
       "  </thead>\n",
       "  <tbody>\n",
       "  </tbody>\n",
       "</table>\n",
       "</div>"
      ],
      "text/plain": [
       "Empty DataFrame\n",
       "Columns: [title, img, text, tags]\n",
       "Index: []"
      ]
     },
     "execution_count": 39,
     "metadata": {},
     "output_type": "execute_result"
    }
   ],
   "source": [
    "result_df[result_df['tags'].isnull()]"
   ]
  },
  {
   "cell_type": "code",
   "execution_count": null,
   "metadata": {},
   "outputs": [],
   "source": []
  },
  {
   "cell_type": "code",
   "execution_count": null,
   "metadata": {},
   "outputs": [],
   "source": []
  },
  {
   "cell_type": "code",
   "execution_count": null,
   "metadata": {},
   "outputs": [],
   "source": []
  },
  {
   "cell_type": "code",
   "execution_count": null,
   "metadata": {},
   "outputs": [],
   "source": []
  },
  {
   "cell_type": "code",
   "execution_count": null,
   "metadata": {},
   "outputs": [],
   "source": []
  },
  {
   "cell_type": "code",
   "execution_count": 67,
   "metadata": {},
   "outputs": [
    {
     "name": "stdout",
     "output_type": "stream",
     "text": [
      "https://www.yes24.com/Product/Goods/24912652\n"
     ]
    }
   ],
   "source": [
    "print(links[3])"
   ]
  },
  {
   "cell_type": "code",
   "execution_count": 68,
   "metadata": {},
   "outputs": [],
   "source": [
    "req = requests.get(links[10])\n",
    "response = TextResponse(req.url, body=req.text, encoding=\"utf-8\")"
   ]
  },
  {
   "cell_type": "code",
   "execution_count": 69,
   "metadata": {},
   "outputs": [
    {
     "data": {
      "text/plain": [
       "'순결한 꿈은 오로지 이 일을 즐기며 할 수 있는 재능 있는 이들의 것이었다. 그리고 영광도 그들의 것이 되어야 마땅했다. 영화는, 예술은 범인의 노력이 아니라 타고난 자들의 노력 속에서만 그 진짜 얼굴을 드러냈다. 나는 두 손으로 얼굴을 가리고 눈물을 흘렸다. 그 사실을 인정하기가 어려웠기 때문이다. 재능이 없는 이들이 꿈이라는 허울을 잡기 시작하는 순간, 그 허울은 천천히 삶을 좀먹어간다.---「쇼코의 미소」중에서시간이 지나고 하나의 관계가 끝날 때마다 나는 누가 떠나는 쪽이고 누가 남겨지는 쪽인지 생각했다. 어떤 경우 나는 떠났고, 어떤 경우 남겨졌지만 정말 소중한 관계가 부서졌을 때는 누가 떠나고 누가 남겨지는 쪽인지 알 수 없었다. ---「씬짜오, 씬짜오」중에서상대의 고통을 같이 나눠 질 수 없다면, 상대의 삶을 일정 부분 같이 살아낼 용기도 없다면 어설픈 애정보다는 무정함을 택하는 것이 나았다. ---「언니, 나의 작은, 순애 언니」중에서가장 중요한 사람들은 의외로 생의 초반에 나타났다. 어느 시점이 되니 어린 시절에는 비교적 쉽게 진입할 수 있었던 관계의 첫 장조차도 제대로 넘기지 못했다. 사람들은 약속이나 한 듯이 생의 한 시점에서 마음의 빗장을 닫아걸었다. 그리고 그 빗장 바깥에서 서로에게 절대로 상처를 입히지 않을 사람들을 만나 같이 계를 하고 부부 동반 여행을 가고 등산을 했다. 스무 살 때로는 절대로 돌아가고 싶지 않다는 말을 주고받으면서. 그때는 뭘 모르지 않았느냐고 이야기하면서. ---「언니, 나의 작은, 순애 언니」중에서우리는 예의바르게 서로의 눈을 가렸다. 결국 마지막에 와서야 내가 먼저 그의 눈에서 내 손을 뗐고, 우리는 깨끗하게 갈라섰다. 사랑하는 사람들의 마지막은 그렇게 깨끗할 수 없었기에 그 이별은 우리 사이에 어떤 사랑도 남아 있지 않다는 것을 증명했다. 우리는 그저 한 점에서 다른 한 점으로 이동했을 뿐이었다. ---「한지와 영주」중에서시간은 지나고 사람들은 떠나고 우리는 다시 혼자가 된다.그 사실을 받아들이지 않으면 기억은 현재를 부식시키고 마음을 지치게 해 우리를 늙고 병들게 한다.할머니는 그렇게 말했었다.나는 그 말을 언제나 기억한다. ---「한지와 영주」중에서여자는 노인들을 볼 때마다 그런 존경심을 느꼈다. 오래 살아가는 일이란, 사랑하는 사람들을 먼저 보내고 오래도록 남겨지는 일이니까. 그런 일들을 겪고도 다시 일어나 밥을 먹고 홀로 길을 걸어나가야 하는 일이니까.                 '"
      ]
     },
     "execution_count": 69,
     "metadata": {},
     "output_type": "execute_result"
    }
   ],
   "source": [
    "text = response.xpath('//*[@id=\"infoset_inBook\"]/div[@class=\"infoSetCont_wrap\"]/div/div[@class=\"infoWrap_txtInner\"]/textarea').extract()\n",
    "text = \"\".join(text)\n",
    "text = re.sub('<.+?>', '', text)\n",
    "text = re.sub('\\r\\n','', text)\n",
    "text"
   ]
  },
  {
   "cell_type": "code",
   "execution_count": 82,
   "metadata": {},
   "outputs": [
    {
     "data": {
      "text/plain": [
       "'“소설가로서 최은영의 가장 큰 미덕은 그게 무슨 탐구든 반드시 근사한 이야기로 들려준다는 점이다. 그녀가 앞으로 쓰게 될 근사한 이야기들이 바로 이 책에서 시작했다.” _김연수(소설가)2013년 겨울, 『작가세계』 신인상에 중편소설 「쇼코의 미소」가 당선되어 등단, 그 작품으로 다음해 젊은작가상을 수상하면서 많은 사람들에게 특별한 인상으로 다가갔던 바로 그 신인 소설가 말이다. 그러나 이 ‘특별한 인상’은, 발표한 작품이라고는 등단작 「쇼코의 미소」 한 편밖에 없는 신인 작가가, 등단한 지 채 두 달이 되지 않은 시점에 젊은작가상을 수상했다는 것만을 의미하지 않는다. 저마다의 날카로운 감식안을 지닌 소설가와 평론가들로부터 공통의 감상을 이끌어냈다는 점에 그 특별함이 있다. 어떤 갑론을박도 없이 모두에게서 동일한 평가를 받는 작품이 탁월한 소설이라 말하려는 것이 아니다. 등단작에 대해 흔히 우리가 걸게 되는 기대―기존 작품과 구별되는 ‘낯섦’과 ‘전위’에 대한 요구―로부터 물러나, 별다른 기교 없이 담백하게 이야기를 풀어나가고, 그 정통적인 방식을 통해 읽는 이의 마음을 움직였다는 것에 「쇼코의 미소」가 지닌 특별함이 담겨 있다. 그러니까, “고레에다 히로카즈나 이누도 잇신 감독의 어떤 영화들처럼 거의 모든 영역에서 ‘진실하다’라는 느낌”(문학평론가 신형철)을 준다는 것, 그로부터 “소설이 주는 감동이란 무엇인가를 새삼 생각해보게 만들었다”(소설가 임철우)라는 것. 최은영은 등단 초기부터, “선천적으로 눈이나 위가 약한 사람이 있듯이 마음이 특별히 약해서 쉽게 부서지는 사람도 있는 법”이라고, 전혀 짐작할 수 없는 타인의 고통 앞에 겸손히 귀를 열고 싶다고 밝혀왔다. 최은영의 시선이 가닿는 곳 어디에나 사람이 자리해 있는 것은 바로 이 때문일 터. 총 7편의 작품이 수록된 최은영의 첫 소설집 『쇼코의 미소』는 사람의 마음이 흘러갈 수 있는 정밀한 물매를 만들어냄으로써, 우리들을 바로 그 ‘사람의 자리’로 이끈다.                                                                                     순결한 꿈은 오로지 이 일을 즐기며 할 수 있는 재능 있는 이들의 것이었다. 그리고 영광도 그들의 것이 되어야 마땅했다. 영화는, 예술은 범인의 노력이 아니라 타고난 자들의 노력 속에서만 그 진짜 얼굴을 드러냈다. 나는 두 손으로 얼굴을 가리고 눈물을 흘렸다. 그 사실을 인정하기가 어려웠기 때문이다. 재능이 없는 이들이 꿈이라는 허울을 잡기 시작하는 순간, 그 허울은 천천히 삶을 좀먹어간다.---「쇼코의 미소」중에서시간이 지나고 하나의 관계가 끝날 때마다 나는 누가 떠나는 쪽이고 누가 남겨지는 쪽인지 생각했다. 어떤 경우 나는 떠났고, 어떤 경우 남겨졌지만 정말 소중한 관계가 부서졌을 때는 누가 떠나고 누가 남겨지는 쪽인지 알 수 없었다. ---「씬짜오, 씬짜오」중에서상대의 고통을 같이 나눠 질 수 없다면, 상대의 삶을 일정 부분 같이 살아낼 용기도 없다면 어설픈 애정보다는 무정함을 택하는 것이 나았다. ---「언니, 나의 작은, 순애 언니」중에서가장 중요한 사람들은 의외로 생의 초반에 나타났다. 어느 시점이 되니 어린 시절에는 비교적 쉽게 진입할 수 있었던 관계의 첫 장조차도 제대로 넘기지 못했다. 사람들은 약속이나 한 듯이 생의 한 시점에서 마음의 빗장을 닫아걸었다. 그리고 그 빗장 바깥에서 서로에게 절대로 상처를 입히지 않을 사람들을 만나 같이 계를 하고 부부 동반 여행을 가고 등산을 했다. 스무 살 때로는 절대로 돌아가고 싶지 않다는 말을 주고받으면서. 그때는 뭘 모르지 않았느냐고 이야기하면서. ---「언니, 나의 작은, 순애 언니」중에서우리는 예의바르게 서로의 눈을 가렸다. 결국 마지막에 와서야 내가 먼저 그의 눈에서 내 손을 뗐고, 우리는 깨끗하게 갈라섰다. 사랑하는 사람들의 마지막은 그렇게 깨끗할 수 없었기에 그 이별은 우리 사이에 어떤 사랑도 남아 있지 않다는 것을 증명했다. 우리는 그저 한 점에서 다른 한 점으로 이동했을 뿐이었다. ---「한지와 영주」중에서시간은 지나고 사람들은 떠나고 우리는 다시 혼자가 된다.그 사실을 받아들이지 않으면 기억은 현재를 부식시키고 마음을 지치게 해 우리를 늙고 병들게 한다.할머니는 그렇게 말했었다.나는 그 말을 언제나 기억한다. ---「한지와 영주」중에서여자는 노인들을 볼 때마다 그런 존경심을 느꼈다. 오래 살아가는 일이란, 사랑하는 사람들을 먼저 보내고 오래도록 남겨지는 일이니까. 그런 일들을 겪고도 다시 일어나 밥을 먹고 홀로 길을 걸어나가야 하는 일이니까.'"
      ]
     },
     "execution_count": 82,
     "metadata": {},
     "output_type": "execute_result"
    }
   ],
   "source": [
    "description = response.xpath('//*[@class=\"infoWrap_txtInner\"]').extract()\n",
    "description = \"\".join(description)\n",
    "description = re.sub('<.+?>', '', description)\n",
    "description = re.sub('\\r\\n','', description)\n",
    "description = description.strip()\n",
    "description"
   ]
  },
  {
   "cell_type": "code",
   "execution_count": 45,
   "metadata": {},
   "outputs": [
    {
     "ename": "IndexError",
     "evalue": "list index out of range",
     "output_type": "error",
     "traceback": [
      "\u001b[0;31m---------------------------------------------------------------------------\u001b[0m",
      "\u001b[0;31mIndexError\u001b[0m                                Traceback (most recent call last)",
      "\u001b[0;32m<ipython-input-45-4fb846d4e0f1>\u001b[0m in \u001b[0;36m<module>\u001b[0;34m\u001b[0m\n\u001b[0;32m----> 1\u001b[0;31m \u001b[0mdescription\u001b[0m \u001b[0;34m=\u001b[0m \u001b[0mresponse\u001b[0m\u001b[0;34m.\u001b[0m\u001b[0mxpath\u001b[0m\u001b[0;34m(\u001b[0m\u001b[0;34m'//*[@id=\"infoset_introduce\"]/div[@class=\"infoSetCont_wrap\"]/div[@class=\"infoWrap_txt\"]/div[@class=\"infoWrap_txtInner\"]'\u001b[0m\u001b[0;34m)\u001b[0m\u001b[0;34m.\u001b[0m\u001b[0mextract\u001b[0m\u001b[0;34m(\u001b[0m\u001b[0;34m)\u001b[0m\u001b[0;34m[\u001b[0m\u001b[0;36m0\u001b[0m\u001b[0;34m]\u001b[0m\u001b[0;34m\u001b[0m\u001b[0;34m\u001b[0m\u001b[0m\n\u001b[0m\u001b[1;32m      2\u001b[0m \u001b[0mdescription\u001b[0m \u001b[0;34m=\u001b[0m \u001b[0mre\u001b[0m\u001b[0;34m.\u001b[0m\u001b[0msub\u001b[0m\u001b[0;34m(\u001b[0m\u001b[0;34m'<.+?>'\u001b[0m\u001b[0;34m,\u001b[0m \u001b[0;34m''\u001b[0m\u001b[0;34m,\u001b[0m \u001b[0mdescription\u001b[0m\u001b[0;34m)\u001b[0m\u001b[0;34m\u001b[0m\u001b[0;34m\u001b[0m\u001b[0m\n\u001b[1;32m      3\u001b[0m \u001b[0mdescription\u001b[0m \u001b[0;34m=\u001b[0m \u001b[0mre\u001b[0m\u001b[0;34m.\u001b[0m\u001b[0msub\u001b[0m\u001b[0;34m(\u001b[0m\u001b[0;34m'\\r\\n'\u001b[0m\u001b[0;34m,\u001b[0m\u001b[0;34m''\u001b[0m\u001b[0;34m,\u001b[0m \u001b[0mdescription\u001b[0m\u001b[0;34m)\u001b[0m\u001b[0;34m\u001b[0m\u001b[0;34m\u001b[0m\u001b[0m\n\u001b[1;32m      4\u001b[0m \u001b[0mdescription\u001b[0m\u001b[0;34m\u001b[0m\u001b[0;34m\u001b[0m\u001b[0m\n",
      "\u001b[0;31mIndexError\u001b[0m: list index out of range"
     ]
    }
   ],
   "source": [
    "description = response.xpath('//*[@id=\"infoset_introduce\"]/div[@class=\"infoSetCont_wrap\"]/div[@class=\"infoWrap_txt\"]/div[@class=\"infoWrap_txtInner\"]').extract()\n",
    "description = re.sub('<.+?>', '', description)\n",
    "description = re.sub('\\r\\n','', description)\n",
    "description"
   ]
  },
  {
   "cell_type": "code",
   "execution_count": 293,
   "metadata": {},
   "outputs": [
    {
     "data": {
      "text/plain": [
       "'옥상에서 만나요'"
      ]
     },
     "execution_count": 293,
     "metadata": {},
     "output_type": "execute_result"
    }
   ],
   "source": [
    "title = response.xpath('//*[@class=\"gd_titArea\"]/h2/text()').extract()[0]\n",
    "title"
   ]
  },
  {
   "cell_type": "code",
   "execution_count": 294,
   "metadata": {},
   "outputs": [
    {
     "data": {
      "text/plain": [
       "'http://image.yes24.com/goods/66591620/800x0'"
      ]
     },
     "execution_count": 294,
     "metadata": {},
     "output_type": "execute_result"
    }
   ],
   "source": [
    "img = response.xpath('//em[@class=\"imgBdr\"]/img/@src').extract()[0]\n",
    "img"
   ]
  },
  {
   "cell_type": "code",
   "execution_count": 2,
   "metadata": {
    "ExecuteTime": {
     "end_time": "2020-04-27T07:11:58.124870Z",
     "start_time": "2020-04-27T07:11:57.481023Z"
    }
   },
   "outputs": [],
   "source": [
    "req = requests.get(\"http://www.yes24.com/24/category/bestseller?CategoryNumber=001001046&sumgb=06&PageNumber=1\")\n",
    "response = TextResponse(req.url, body=req.text, encoding=\"utf-8\")\n",
    "num = response.xpath('//*[@id=\"bestList\"]/div[3]/div[1]/div[1]/p/a[12]/@href').extract()[0]"
   ]
  },
  {
   "cell_type": "code",
   "execution_count": 3,
   "metadata": {
    "ExecuteTime": {
     "end_time": "2020-04-27T07:11:58.683811Z",
     "start_time": "2020-04-27T07:11:58.678475Z"
    }
   },
   "outputs": [
    {
     "data": {
      "text/plain": [
       "'494'"
      ]
     },
     "execution_count": 3,
     "metadata": {},
     "output_type": "execute_result"
    }
   ],
   "source": [
    "num[-3:]"
   ]
  },
  {
   "cell_type": "code",
   "execution_count": 8,
   "metadata": {
    "ExecuteTime": {
     "end_time": "2020-04-27T06:55:20.365746Z",
     "start_time": "2020-04-27T06:55:15.442496Z"
    }
   },
   "outputs": [],
   "source": [
    "cat_num = 6001\n",
    "num_list = []\n",
    "for _ in range(1,11):\n",
    "    req = requests.get(\n",
    "        \"http://www.yes24.com/24/category/bestseller?CategoryNumber=00100104{}&sumgb=06&PageNumber=1\".format(cat_num))\n",
    "    response = TextResponse(req.url, body=req.text, encoding=\"utf-8\")\n",
    "    num = response.xpath(\n",
    "    '//*[@id=\"bestList\"]/div[3]/div[1]/div[1]/p/a[@class=\"hover\"]/@href').extract()[0][-2:]\n",
    "    num_list.append(num)\n",
    "    cat_num +=1"
   ]
  },
  {
   "cell_type": "code",
   "execution_count": 10,
   "metadata": {
    "ExecuteTime": {
     "end_time": "2020-04-27T06:55:38.508919Z",
     "start_time": "2020-04-27T06:55:38.504919Z"
    }
   },
   "outputs": [
    {
     "data": {
      "text/plain": [
       "['79', '74', '38', '12', '22', '14', '8', '5', '5', '12']"
      ]
     },
     "execution_count": 10,
     "metadata": {},
     "output_type": "execute_result"
    }
   ],
   "source": [
    "[num.replace('=','') for num in num_list]"
   ]
  },
  {
   "cell_type": "code",
   "execution_count": 4,
   "metadata": {
    "ExecuteTime": {
     "end_time": "2020-04-27T07:12:00.352010Z",
     "start_time": "2020-04-27T07:12:00.343640Z"
    }
   },
   "outputs": [],
   "source": [
    "num = response.xpath(\n",
    "    '//*[@id=\"bestList\"]/div[3]/div[1]/div[1]/p/a[@class=\"hover\"]/@href').extract()[0][-2:]"
   ]
  },
  {
   "cell_type": "code",
   "execution_count": 5,
   "metadata": {
    "ExecuteTime": {
     "end_time": "2020-04-27T07:12:00.784381Z",
     "start_time": "2020-04-27T07:12:00.781048Z"
    }
   },
   "outputs": [
    {
     "data": {
      "text/plain": [
       "'94'"
      ]
     },
     "execution_count": 5,
     "metadata": {},
     "output_type": "execute_result"
    }
   ],
   "source": [
    "num"
   ]
  },
  {
   "cell_type": "code",
   "execution_count": 11,
   "metadata": {
    "ExecuteTime": {
     "end_time": "2020-04-27T08:09:45.228051Z",
     "start_time": "2020-04-27T08:09:45.225396Z"
    }
   },
   "outputs": [],
   "source": [
    "cat_num = 6001\n",
    "for _ in range(1,10):\n",
    "    cat_num += 1"
   ]
  },
  {
   "cell_type": "code",
   "execution_count": 12,
   "metadata": {
    "ExecuteTime": {
     "end_time": "2020-04-27T08:09:45.671625Z",
     "start_time": "2020-04-27T08:09:45.667481Z"
    }
   },
   "outputs": [
    {
     "data": {
      "text/plain": [
       "6010"
      ]
     },
     "execution_count": 12,
     "metadata": {},
     "output_type": "execute_result"
    }
   ],
   "source": [
    "cat_num"
   ]
  },
  {
   "cell_type": "code",
   "execution_count": 18,
   "metadata": {
    "ExecuteTime": {
     "end_time": "2020-04-27T08:15:46.055639Z",
     "start_time": "2020-04-27T08:15:44.829077Z"
    }
   },
   "outputs": [],
   "source": [
    "start_urls =[]\n",
    "cat_num = 6001\n",
    "for _ in range(1, 3):\n",
    "    cat_url = \"http://www.yes24.com/24/category/bestseller?CategoryNumber=00100104{}&sumgb=06\".format(\n",
    "        cat_num)\n",
    "    req = requests.get(cat_url)\n",
    "    response = TextResponse(req.url, body=req.text, encoding=\"utf-8\")\n",
    "    num = response.xpath(\n",
    "        '//*[@id=\"bestList\"]/div[3]/div[1]/div[1]/p/a[@class=\"hover\"]/@href').extract()[0][-2:]\n",
    "    cat_num += 1\n",
    "    num = num.replace('=','')\n",
    "    for i in range(1, int(num)):\n",
    "        url = cat_url + \"&PageNumber={}\".format(i)\n",
    "        start_urls.append(url)"
   ]
  },
  {
   "cell_type": "code",
   "execution_count": 19,
   "metadata": {
    "ExecuteTime": {
     "end_time": "2020-04-27T08:15:48.557462Z",
     "start_time": "2020-04-27T08:15:48.552340Z"
    }
   },
   "outputs": [
    {
     "data": {
      "text/plain": [
       "['http://www.yes24.com/24/category/bestseller?CategoryNumber=001001046001&sumgb=06&PageNumber=1',\n",
       " 'http://www.yes24.com/24/category/bestseller?CategoryNumber=001001046001&sumgb=06&PageNumber=2',\n",
       " 'http://www.yes24.com/24/category/bestseller?CategoryNumber=001001046001&sumgb=06&PageNumber=3',\n",
       " 'http://www.yes24.com/24/category/bestseller?CategoryNumber=001001046001&sumgb=06&PageNumber=4',\n",
       " 'http://www.yes24.com/24/category/bestseller?CategoryNumber=001001046001&sumgb=06&PageNumber=5',\n",
       " 'http://www.yes24.com/24/category/bestseller?CategoryNumber=001001046001&sumgb=06&PageNumber=6',\n",
       " 'http://www.yes24.com/24/category/bestseller?CategoryNumber=001001046001&sumgb=06&PageNumber=7',\n",
       " 'http://www.yes24.com/24/category/bestseller?CategoryNumber=001001046001&sumgb=06&PageNumber=8',\n",
       " 'http://www.yes24.com/24/category/bestseller?CategoryNumber=001001046001&sumgb=06&PageNumber=9',\n",
       " 'http://www.yes24.com/24/category/bestseller?CategoryNumber=001001046001&sumgb=06&PageNumber=10',\n",
       " 'http://www.yes24.com/24/category/bestseller?CategoryNumber=001001046001&sumgb=06&PageNumber=11',\n",
       " 'http://www.yes24.com/24/category/bestseller?CategoryNumber=001001046001&sumgb=06&PageNumber=12',\n",
       " 'http://www.yes24.com/24/category/bestseller?CategoryNumber=001001046001&sumgb=06&PageNumber=13',\n",
       " 'http://www.yes24.com/24/category/bestseller?CategoryNumber=001001046001&sumgb=06&PageNumber=14',\n",
       " 'http://www.yes24.com/24/category/bestseller?CategoryNumber=001001046001&sumgb=06&PageNumber=15',\n",
       " 'http://www.yes24.com/24/category/bestseller?CategoryNumber=001001046001&sumgb=06&PageNumber=16',\n",
       " 'http://www.yes24.com/24/category/bestseller?CategoryNumber=001001046001&sumgb=06&PageNumber=17',\n",
       " 'http://www.yes24.com/24/category/bestseller?CategoryNumber=001001046001&sumgb=06&PageNumber=18',\n",
       " 'http://www.yes24.com/24/category/bestseller?CategoryNumber=001001046001&sumgb=06&PageNumber=19',\n",
       " 'http://www.yes24.com/24/category/bestseller?CategoryNumber=001001046001&sumgb=06&PageNumber=20',\n",
       " 'http://www.yes24.com/24/category/bestseller?CategoryNumber=001001046001&sumgb=06&PageNumber=21',\n",
       " 'http://www.yes24.com/24/category/bestseller?CategoryNumber=001001046001&sumgb=06&PageNumber=22',\n",
       " 'http://www.yes24.com/24/category/bestseller?CategoryNumber=001001046001&sumgb=06&PageNumber=23',\n",
       " 'http://www.yes24.com/24/category/bestseller?CategoryNumber=001001046001&sumgb=06&PageNumber=24',\n",
       " 'http://www.yes24.com/24/category/bestseller?CategoryNumber=001001046001&sumgb=06&PageNumber=25',\n",
       " 'http://www.yes24.com/24/category/bestseller?CategoryNumber=001001046001&sumgb=06&PageNumber=26',\n",
       " 'http://www.yes24.com/24/category/bestseller?CategoryNumber=001001046001&sumgb=06&PageNumber=27',\n",
       " 'http://www.yes24.com/24/category/bestseller?CategoryNumber=001001046001&sumgb=06&PageNumber=28',\n",
       " 'http://www.yes24.com/24/category/bestseller?CategoryNumber=001001046001&sumgb=06&PageNumber=29',\n",
       " 'http://www.yes24.com/24/category/bestseller?CategoryNumber=001001046001&sumgb=06&PageNumber=30',\n",
       " 'http://www.yes24.com/24/category/bestseller?CategoryNumber=001001046001&sumgb=06&PageNumber=31',\n",
       " 'http://www.yes24.com/24/category/bestseller?CategoryNumber=001001046001&sumgb=06&PageNumber=32',\n",
       " 'http://www.yes24.com/24/category/bestseller?CategoryNumber=001001046001&sumgb=06&PageNumber=33',\n",
       " 'http://www.yes24.com/24/category/bestseller?CategoryNumber=001001046001&sumgb=06&PageNumber=34',\n",
       " 'http://www.yes24.com/24/category/bestseller?CategoryNumber=001001046001&sumgb=06&PageNumber=35',\n",
       " 'http://www.yes24.com/24/category/bestseller?CategoryNumber=001001046001&sumgb=06&PageNumber=36',\n",
       " 'http://www.yes24.com/24/category/bestseller?CategoryNumber=001001046001&sumgb=06&PageNumber=37',\n",
       " 'http://www.yes24.com/24/category/bestseller?CategoryNumber=001001046001&sumgb=06&PageNumber=38',\n",
       " 'http://www.yes24.com/24/category/bestseller?CategoryNumber=001001046001&sumgb=06&PageNumber=39',\n",
       " 'http://www.yes24.com/24/category/bestseller?CategoryNumber=001001046001&sumgb=06&PageNumber=40',\n",
       " 'http://www.yes24.com/24/category/bestseller?CategoryNumber=001001046001&sumgb=06&PageNumber=41',\n",
       " 'http://www.yes24.com/24/category/bestseller?CategoryNumber=001001046001&sumgb=06&PageNumber=42',\n",
       " 'http://www.yes24.com/24/category/bestseller?CategoryNumber=001001046001&sumgb=06&PageNumber=43',\n",
       " 'http://www.yes24.com/24/category/bestseller?CategoryNumber=001001046001&sumgb=06&PageNumber=44',\n",
       " 'http://www.yes24.com/24/category/bestseller?CategoryNumber=001001046001&sumgb=06&PageNumber=45',\n",
       " 'http://www.yes24.com/24/category/bestseller?CategoryNumber=001001046001&sumgb=06&PageNumber=46',\n",
       " 'http://www.yes24.com/24/category/bestseller?CategoryNumber=001001046001&sumgb=06&PageNumber=47',\n",
       " 'http://www.yes24.com/24/category/bestseller?CategoryNumber=001001046001&sumgb=06&PageNumber=48',\n",
       " 'http://www.yes24.com/24/category/bestseller?CategoryNumber=001001046001&sumgb=06&PageNumber=49',\n",
       " 'http://www.yes24.com/24/category/bestseller?CategoryNumber=001001046001&sumgb=06&PageNumber=50',\n",
       " 'http://www.yes24.com/24/category/bestseller?CategoryNumber=001001046001&sumgb=06&PageNumber=51',\n",
       " 'http://www.yes24.com/24/category/bestseller?CategoryNumber=001001046001&sumgb=06&PageNumber=52',\n",
       " 'http://www.yes24.com/24/category/bestseller?CategoryNumber=001001046001&sumgb=06&PageNumber=53',\n",
       " 'http://www.yes24.com/24/category/bestseller?CategoryNumber=001001046001&sumgb=06&PageNumber=54',\n",
       " 'http://www.yes24.com/24/category/bestseller?CategoryNumber=001001046001&sumgb=06&PageNumber=55',\n",
       " 'http://www.yes24.com/24/category/bestseller?CategoryNumber=001001046001&sumgb=06&PageNumber=56',\n",
       " 'http://www.yes24.com/24/category/bestseller?CategoryNumber=001001046001&sumgb=06&PageNumber=57',\n",
       " 'http://www.yes24.com/24/category/bestseller?CategoryNumber=001001046001&sumgb=06&PageNumber=58',\n",
       " 'http://www.yes24.com/24/category/bestseller?CategoryNumber=001001046001&sumgb=06&PageNumber=59',\n",
       " 'http://www.yes24.com/24/category/bestseller?CategoryNumber=001001046001&sumgb=06&PageNumber=60',\n",
       " 'http://www.yes24.com/24/category/bestseller?CategoryNumber=001001046001&sumgb=06&PageNumber=61',\n",
       " 'http://www.yes24.com/24/category/bestseller?CategoryNumber=001001046001&sumgb=06&PageNumber=62',\n",
       " 'http://www.yes24.com/24/category/bestseller?CategoryNumber=001001046001&sumgb=06&PageNumber=63',\n",
       " 'http://www.yes24.com/24/category/bestseller?CategoryNumber=001001046001&sumgb=06&PageNumber=64',\n",
       " 'http://www.yes24.com/24/category/bestseller?CategoryNumber=001001046001&sumgb=06&PageNumber=65',\n",
       " 'http://www.yes24.com/24/category/bestseller?CategoryNumber=001001046001&sumgb=06&PageNumber=66',\n",
       " 'http://www.yes24.com/24/category/bestseller?CategoryNumber=001001046001&sumgb=06&PageNumber=67',\n",
       " 'http://www.yes24.com/24/category/bestseller?CategoryNumber=001001046001&sumgb=06&PageNumber=68',\n",
       " 'http://www.yes24.com/24/category/bestseller?CategoryNumber=001001046001&sumgb=06&PageNumber=69',\n",
       " 'http://www.yes24.com/24/category/bestseller?CategoryNumber=001001046001&sumgb=06&PageNumber=70',\n",
       " 'http://www.yes24.com/24/category/bestseller?CategoryNumber=001001046001&sumgb=06&PageNumber=71',\n",
       " 'http://www.yes24.com/24/category/bestseller?CategoryNumber=001001046001&sumgb=06&PageNumber=72',\n",
       " 'http://www.yes24.com/24/category/bestseller?CategoryNumber=001001046001&sumgb=06&PageNumber=73',\n",
       " 'http://www.yes24.com/24/category/bestseller?CategoryNumber=001001046001&sumgb=06&PageNumber=74',\n",
       " 'http://www.yes24.com/24/category/bestseller?CategoryNumber=001001046001&sumgb=06&PageNumber=75',\n",
       " 'http://www.yes24.com/24/category/bestseller?CategoryNumber=001001046001&sumgb=06&PageNumber=76',\n",
       " 'http://www.yes24.com/24/category/bestseller?CategoryNumber=001001046001&sumgb=06&PageNumber=77',\n",
       " 'http://www.yes24.com/24/category/bestseller?CategoryNumber=001001046001&sumgb=06&PageNumber=78',\n",
       " 'http://www.yes24.com/24/category/bestseller?CategoryNumber=001001046002&sumgb=06&PageNumber=1',\n",
       " 'http://www.yes24.com/24/category/bestseller?CategoryNumber=001001046002&sumgb=06&PageNumber=2',\n",
       " 'http://www.yes24.com/24/category/bestseller?CategoryNumber=001001046002&sumgb=06&PageNumber=3',\n",
       " 'http://www.yes24.com/24/category/bestseller?CategoryNumber=001001046002&sumgb=06&PageNumber=4',\n",
       " 'http://www.yes24.com/24/category/bestseller?CategoryNumber=001001046002&sumgb=06&PageNumber=5',\n",
       " 'http://www.yes24.com/24/category/bestseller?CategoryNumber=001001046002&sumgb=06&PageNumber=6',\n",
       " 'http://www.yes24.com/24/category/bestseller?CategoryNumber=001001046002&sumgb=06&PageNumber=7',\n",
       " 'http://www.yes24.com/24/category/bestseller?CategoryNumber=001001046002&sumgb=06&PageNumber=8',\n",
       " 'http://www.yes24.com/24/category/bestseller?CategoryNumber=001001046002&sumgb=06&PageNumber=9',\n",
       " 'http://www.yes24.com/24/category/bestseller?CategoryNumber=001001046002&sumgb=06&PageNumber=10',\n",
       " 'http://www.yes24.com/24/category/bestseller?CategoryNumber=001001046002&sumgb=06&PageNumber=11',\n",
       " 'http://www.yes24.com/24/category/bestseller?CategoryNumber=001001046002&sumgb=06&PageNumber=12',\n",
       " 'http://www.yes24.com/24/category/bestseller?CategoryNumber=001001046002&sumgb=06&PageNumber=13',\n",
       " 'http://www.yes24.com/24/category/bestseller?CategoryNumber=001001046002&sumgb=06&PageNumber=14',\n",
       " 'http://www.yes24.com/24/category/bestseller?CategoryNumber=001001046002&sumgb=06&PageNumber=15',\n",
       " 'http://www.yes24.com/24/category/bestseller?CategoryNumber=001001046002&sumgb=06&PageNumber=16',\n",
       " 'http://www.yes24.com/24/category/bestseller?CategoryNumber=001001046002&sumgb=06&PageNumber=17',\n",
       " 'http://www.yes24.com/24/category/bestseller?CategoryNumber=001001046002&sumgb=06&PageNumber=18',\n",
       " 'http://www.yes24.com/24/category/bestseller?CategoryNumber=001001046002&sumgb=06&PageNumber=19',\n",
       " 'http://www.yes24.com/24/category/bestseller?CategoryNumber=001001046002&sumgb=06&PageNumber=20',\n",
       " 'http://www.yes24.com/24/category/bestseller?CategoryNumber=001001046002&sumgb=06&PageNumber=21',\n",
       " 'http://www.yes24.com/24/category/bestseller?CategoryNumber=001001046002&sumgb=06&PageNumber=22',\n",
       " 'http://www.yes24.com/24/category/bestseller?CategoryNumber=001001046002&sumgb=06&PageNumber=23',\n",
       " 'http://www.yes24.com/24/category/bestseller?CategoryNumber=001001046002&sumgb=06&PageNumber=24',\n",
       " 'http://www.yes24.com/24/category/bestseller?CategoryNumber=001001046002&sumgb=06&PageNumber=25',\n",
       " 'http://www.yes24.com/24/category/bestseller?CategoryNumber=001001046002&sumgb=06&PageNumber=26',\n",
       " 'http://www.yes24.com/24/category/bestseller?CategoryNumber=001001046002&sumgb=06&PageNumber=27',\n",
       " 'http://www.yes24.com/24/category/bestseller?CategoryNumber=001001046002&sumgb=06&PageNumber=28',\n",
       " 'http://www.yes24.com/24/category/bestseller?CategoryNumber=001001046002&sumgb=06&PageNumber=29',\n",
       " 'http://www.yes24.com/24/category/bestseller?CategoryNumber=001001046002&sumgb=06&PageNumber=30',\n",
       " 'http://www.yes24.com/24/category/bestseller?CategoryNumber=001001046002&sumgb=06&PageNumber=31',\n",
       " 'http://www.yes24.com/24/category/bestseller?CategoryNumber=001001046002&sumgb=06&PageNumber=32',\n",
       " 'http://www.yes24.com/24/category/bestseller?CategoryNumber=001001046002&sumgb=06&PageNumber=33',\n",
       " 'http://www.yes24.com/24/category/bestseller?CategoryNumber=001001046002&sumgb=06&PageNumber=34',\n",
       " 'http://www.yes24.com/24/category/bestseller?CategoryNumber=001001046002&sumgb=06&PageNumber=35',\n",
       " 'http://www.yes24.com/24/category/bestseller?CategoryNumber=001001046002&sumgb=06&PageNumber=36',\n",
       " 'http://www.yes24.com/24/category/bestseller?CategoryNumber=001001046002&sumgb=06&PageNumber=37',\n",
       " 'http://www.yes24.com/24/category/bestseller?CategoryNumber=001001046002&sumgb=06&PageNumber=38',\n",
       " 'http://www.yes24.com/24/category/bestseller?CategoryNumber=001001046002&sumgb=06&PageNumber=39',\n",
       " 'http://www.yes24.com/24/category/bestseller?CategoryNumber=001001046002&sumgb=06&PageNumber=40',\n",
       " 'http://www.yes24.com/24/category/bestseller?CategoryNumber=001001046002&sumgb=06&PageNumber=41',\n",
       " 'http://www.yes24.com/24/category/bestseller?CategoryNumber=001001046002&sumgb=06&PageNumber=42',\n",
       " 'http://www.yes24.com/24/category/bestseller?CategoryNumber=001001046002&sumgb=06&PageNumber=43',\n",
       " 'http://www.yes24.com/24/category/bestseller?CategoryNumber=001001046002&sumgb=06&PageNumber=44',\n",
       " 'http://www.yes24.com/24/category/bestseller?CategoryNumber=001001046002&sumgb=06&PageNumber=45',\n",
       " 'http://www.yes24.com/24/category/bestseller?CategoryNumber=001001046002&sumgb=06&PageNumber=46',\n",
       " 'http://www.yes24.com/24/category/bestseller?CategoryNumber=001001046002&sumgb=06&PageNumber=47',\n",
       " 'http://www.yes24.com/24/category/bestseller?CategoryNumber=001001046002&sumgb=06&PageNumber=48',\n",
       " 'http://www.yes24.com/24/category/bestseller?CategoryNumber=001001046002&sumgb=06&PageNumber=49',\n",
       " 'http://www.yes24.com/24/category/bestseller?CategoryNumber=001001046002&sumgb=06&PageNumber=50',\n",
       " 'http://www.yes24.com/24/category/bestseller?CategoryNumber=001001046002&sumgb=06&PageNumber=51',\n",
       " 'http://www.yes24.com/24/category/bestseller?CategoryNumber=001001046002&sumgb=06&PageNumber=52',\n",
       " 'http://www.yes24.com/24/category/bestseller?CategoryNumber=001001046002&sumgb=06&PageNumber=53',\n",
       " 'http://www.yes24.com/24/category/bestseller?CategoryNumber=001001046002&sumgb=06&PageNumber=54',\n",
       " 'http://www.yes24.com/24/category/bestseller?CategoryNumber=001001046002&sumgb=06&PageNumber=55',\n",
       " 'http://www.yes24.com/24/category/bestseller?CategoryNumber=001001046002&sumgb=06&PageNumber=56',\n",
       " 'http://www.yes24.com/24/category/bestseller?CategoryNumber=001001046002&sumgb=06&PageNumber=57',\n",
       " 'http://www.yes24.com/24/category/bestseller?CategoryNumber=001001046002&sumgb=06&PageNumber=58',\n",
       " 'http://www.yes24.com/24/category/bestseller?CategoryNumber=001001046002&sumgb=06&PageNumber=59',\n",
       " 'http://www.yes24.com/24/category/bestseller?CategoryNumber=001001046002&sumgb=06&PageNumber=60',\n",
       " 'http://www.yes24.com/24/category/bestseller?CategoryNumber=001001046002&sumgb=06&PageNumber=61',\n",
       " 'http://www.yes24.com/24/category/bestseller?CategoryNumber=001001046002&sumgb=06&PageNumber=62',\n",
       " 'http://www.yes24.com/24/category/bestseller?CategoryNumber=001001046002&sumgb=06&PageNumber=63',\n",
       " 'http://www.yes24.com/24/category/bestseller?CategoryNumber=001001046002&sumgb=06&PageNumber=64',\n",
       " 'http://www.yes24.com/24/category/bestseller?CategoryNumber=001001046002&sumgb=06&PageNumber=65',\n",
       " 'http://www.yes24.com/24/category/bestseller?CategoryNumber=001001046002&sumgb=06&PageNumber=66',\n",
       " 'http://www.yes24.com/24/category/bestseller?CategoryNumber=001001046002&sumgb=06&PageNumber=67',\n",
       " 'http://www.yes24.com/24/category/bestseller?CategoryNumber=001001046002&sumgb=06&PageNumber=68',\n",
       " 'http://www.yes24.com/24/category/bestseller?CategoryNumber=001001046002&sumgb=06&PageNumber=69',\n",
       " 'http://www.yes24.com/24/category/bestseller?CategoryNumber=001001046002&sumgb=06&PageNumber=70',\n",
       " 'http://www.yes24.com/24/category/bestseller?CategoryNumber=001001046002&sumgb=06&PageNumber=71',\n",
       " 'http://www.yes24.com/24/category/bestseller?CategoryNumber=001001046002&sumgb=06&PageNumber=72',\n",
       " 'http://www.yes24.com/24/category/bestseller?CategoryNumber=001001046002&sumgb=06&PageNumber=73']"
      ]
     },
     "execution_count": 19,
     "metadata": {},
     "output_type": "execute_result"
    }
   ],
   "source": [
    "start_urls"
   ]
  },
  {
   "cell_type": "code",
   "execution_count": null,
   "metadata": {},
   "outputs": [],
   "source": []
  }
 ],
 "metadata": {
  "kernelspec": {
   "display_name": "Python 3",
   "language": "python",
   "name": "python3"
  },
  "language_info": {
   "codemirror_mode": {
    "name": "ipython",
    "version": 3
   },
   "file_extension": ".py",
   "mimetype": "text/x-python",
   "name": "python",
   "nbconvert_exporter": "python",
   "pygments_lexer": "ipython3",
   "version": "3.7.4"
  }
 },
 "nbformat": 4,
 "nbformat_minor": 2
}
